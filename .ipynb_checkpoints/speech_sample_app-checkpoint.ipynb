{
 "cells": [
  {
   "cell_type": "markdown",
   "metadata": {},
   "source": [
    "# Environment"
   ]
  },
  {
   "cell_type": "code",
   "execution_count": 1,
   "metadata": {},
   "outputs": [
    {
     "data": {
      "application/javascript": [
       "(function(root) {\n",
       "  function now() {\n",
       "    return new Date();\n",
       "  }\n",
       "\n",
       "  var force = true;\n",
       "\n",
       "  if (typeof root._bokeh_onload_callbacks === \"undefined\" || force === true) {\n",
       "    root._bokeh_onload_callbacks = [];\n",
       "    root._bokeh_is_loading = undefined;\n",
       "  }\n",
       "\n",
       "  if (typeof (root._bokeh_timeout) === \"undefined\" || force === true) {\n",
       "    root._bokeh_timeout = Date.now() + 5000;\n",
       "    root._bokeh_failed_load = false;\n",
       "  }\n",
       "\n",
       "  function run_callbacks() {\n",
       "    try {\n",
       "      root._bokeh_onload_callbacks.forEach(function(callback) {\n",
       "        if (callback != null)\n",
       "          callback();\n",
       "      });\n",
       "    } finally {\n",
       "      delete root._bokeh_onload_callbacks\n",
       "    }\n",
       "    console.debug(\"Bokeh: all callbacks have finished\");\n",
       "  }\n",
       "\n",
       "  function load_libs(css_urls, js_urls, js_modules, callback) {\n",
       "    if (css_urls == null) css_urls = [];\n",
       "    if (js_urls == null) js_urls = [];\n",
       "    if (js_modules == null) js_modules = [];\n",
       "\n",
       "    root._bokeh_onload_callbacks.push(callback);\n",
       "    if (root._bokeh_is_loading > 0) {\n",
       "      console.debug(\"Bokeh: BokehJS is being loaded, scheduling callback at\", now());\n",
       "      return null;\n",
       "    }\n",
       "    if (js_urls.length === 0 && js_modules.length === 0) {\n",
       "      run_callbacks();\n",
       "      return null;\n",
       "    }\n",
       "    console.debug(\"Bokeh: BokehJS not loaded, scheduling load and callback at\", now());\n",
       "\n",
       "    function on_load() {\n",
       "      root._bokeh_is_loading--;\n",
       "      if (root._bokeh_is_loading === 0) {\n",
       "        console.debug(\"Bokeh: all BokehJS libraries/stylesheets loaded\");\n",
       "        run_callbacks()\n",
       "      }\n",
       "    }\n",
       "\n",
       "    function on_error() {\n",
       "      console.error(\"failed to load \" + url);\n",
       "    }\n",
       "\n",
       "    for (var i = 0; i < css_urls.length; i++) {\n",
       "      var url = css_urls[i];\n",
       "      const element = document.createElement(\"link\");\n",
       "      element.onload = on_load;\n",
       "      element.onerror = on_error;\n",
       "      element.rel = \"stylesheet\";\n",
       "      element.type = \"text/css\";\n",
       "      element.href = url;\n",
       "      console.debug(\"Bokeh: injecting link tag for BokehJS stylesheet: \", url);\n",
       "      document.body.appendChild(element);\n",
       "    }\n",
       "\n",
       "    var skip = [];\n",
       "    if (window.requirejs) {\n",
       "      window.requirejs.config({'packages': {}, 'paths': {'gridstack': 'https://cdn.jsdelivr.net/npm/gridstack@4.2.5/dist/gridstack-h5', 'notyf': 'https://cdn.jsdelivr.net/npm/notyf@3/notyf.min'}, 'shim': {'gridstack': {'exports': 'GridStack'}}});\n",
       "      require([\"gridstack\"], function(GridStack) {\n",
       "\twindow.GridStack = GridStack\n",
       "\ton_load()\n",
       "      })\n",
       "      require([\"notyf\"], function() {\n",
       "\ton_load()\n",
       "      })\n",
       "      root._bokeh_is_loading = css_urls.length + 2;\n",
       "    } else {\n",
       "      root._bokeh_is_loading = css_urls.length + js_urls.length + js_modules.length;\n",
       "    }    if (((window['GridStack'] !== undefined) && (!(window['GridStack'] instanceof HTMLElement))) || window.requirejs) {\n",
       "      var urls = ['https://cdn.jsdelivr.net/npm/gridstack@4.2.5/dist/gridstack-h5.js'];\n",
       "      for (var i = 0; i < urls.length; i++) {\n",
       "        skip.push(urls[i])\n",
       "      }\n",
       "    }    if (((window['Notyf'] !== undefined) && (!(window['Notyf'] instanceof HTMLElement))) || window.requirejs) {\n",
       "      var urls = ['https://cdn.jsdelivr.net/npm/notyf@3/notyf.min.js'];\n",
       "      for (var i = 0; i < urls.length; i++) {\n",
       "        skip.push(urls[i])\n",
       "      }\n",
       "    }    for (var i = 0; i < js_urls.length; i++) {\n",
       "      var url = js_urls[i];\n",
       "      if (skip.indexOf(url) >= 0) {\n",
       "\tif (!window.requirejs) {\n",
       "\t  on_load();\n",
       "\t}\n",
       "\tcontinue;\n",
       "      }\n",
       "      var element = document.createElement('script');\n",
       "      element.onload = on_load;\n",
       "      element.onerror = on_error;\n",
       "      element.async = false;\n",
       "      element.src = url;\n",
       "      console.debug(\"Bokeh: injecting script tag for BokehJS library: \", url);\n",
       "      document.head.appendChild(element);\n",
       "    }\n",
       "    for (var i = 0; i < js_modules.length; i++) {\n",
       "      var url = js_modules[i];\n",
       "      if (skip.indexOf(url) >= 0) {\n",
       "\tif (!window.requirejs) {\n",
       "\t  on_load();\n",
       "\t}\n",
       "\tcontinue;\n",
       "      }\n",
       "      var element = document.createElement('script');\n",
       "      element.onload = on_load;\n",
       "      element.onerror = on_error;\n",
       "      element.async = false;\n",
       "      element.src = url;\n",
       "      element.type = \"module\";\n",
       "      console.debug(\"Bokeh: injecting script tag for BokehJS library: \", url);\n",
       "      document.head.appendChild(element);\n",
       "    }\n",
       "    if (!js_urls.length && !js_modules.length) {\n",
       "      on_load()\n",
       "    }\n",
       "  };\n",
       "\n",
       "  function inject_raw_css(css) {\n",
       "    const element = document.createElement(\"style\");\n",
       "    element.appendChild(document.createTextNode(css));\n",
       "    document.body.appendChild(element);\n",
       "  }\n",
       "\n",
       "  var js_urls = [\"https://cdn.bokeh.org/bokeh/release/bokeh-2.4.3.min.js\", \"https://cdn.bokeh.org/bokeh/release/bokeh-gl-2.4.3.min.js\", \"https://cdn.bokeh.org/bokeh/release/bokeh-widgets-2.4.3.min.js\", \"https://cdn.bokeh.org/bokeh/release/bokeh-tables-2.4.3.min.js\", \"https://cdn.bokeh.org/bokeh/release/bokeh-mathjax-2.4.3.min.js\", \"https://cdn.jsdelivr.net/npm/notyf@3/notyf.min.js\", \"https://unpkg.com/@holoviz/panel@0.13.1/dist/panel.min.js\"];\n",
       "  var js_modules = [];\n",
       "  var css_urls = [\"https://cdn.jsdelivr.net/npm/notyf@3/notyf.min.css\", \"https://cdnjs.cloudflare.com/ajax/libs/font-awesome/5.15.1/css/all.min.css\", \"https://unpkg.com/@holoviz/panel@0.13.1/dist/css/alerts.css\", \"https://unpkg.com/@holoviz/panel@0.13.1/dist/css/card.css\", \"https://unpkg.com/@holoviz/panel@0.13.1/dist/css/dataframe.css\", \"https://unpkg.com/@holoviz/panel@0.13.1/dist/css/debugger.css\", \"https://unpkg.com/@holoviz/panel@0.13.1/dist/css/json.css\", \"https://unpkg.com/@holoviz/panel@0.13.1/dist/css/loading.css\", \"https://unpkg.com/@holoviz/panel@0.13.1/dist/css/markdown.css\", \"https://unpkg.com/@holoviz/panel@0.13.1/dist/css/widgets.css\"];\n",
       "  var inline_js = [    function(Bokeh) {\n",
       "      inject_raw_css(\"\\n    .bk.pn-loading.arcs:before {\\n      background-image: url(\\\"data:image/svg+xml;base64,PHN2ZyB4bWxucz0iaHR0cDovL3d3dy53My5vcmcvMjAwMC9zdmciIHhtbG5zOnhsaW5rPSJodHRwOi8vd3d3LnczLm9yZy8xOTk5L3hsaW5rIiBzdHlsZT0ibWFyZ2luOiBhdXRvOyBiYWNrZ3JvdW5kOiBub25lOyBkaXNwbGF5OiBibG9jazsgc2hhcGUtcmVuZGVyaW5nOiBhdXRvOyIgdmlld0JveD0iMCAwIDEwMCAxMDAiIHByZXNlcnZlQXNwZWN0UmF0aW89InhNaWRZTWlkIj4gIDxjaXJjbGUgY3g9IjUwIiBjeT0iNTAiIHI9IjMyIiBzdHJva2Utd2lkdGg9IjgiIHN0cm9rZT0iI2MzYzNjMyIgc3Ryb2tlLWRhc2hhcnJheT0iNTAuMjY1NDgyNDU3NDM2NjkgNTAuMjY1NDgyNDU3NDM2NjkiIGZpbGw9Im5vbmUiIHN0cm9rZS1saW5lY2FwPSJyb3VuZCI+ICAgIDxhbmltYXRlVHJhbnNmb3JtIGF0dHJpYnV0ZU5hbWU9InRyYW5zZm9ybSIgdHlwZT0icm90YXRlIiByZXBlYXRDb3VudD0iaW5kZWZpbml0ZSIgZHVyPSIxcyIga2V5VGltZXM9IjA7MSIgdmFsdWVzPSIwIDUwIDUwOzM2MCA1MCA1MCI+PC9hbmltYXRlVHJhbnNmb3JtPiAgPC9jaXJjbGU+PC9zdmc+\\\");\\n      background-size: auto calc(min(50%, 400px));\\n    }\\n    \");\n",
       "    },    function(Bokeh) {\n",
       "      Bokeh.set_log_level(\"info\");\n",
       "    },\n",
       "function(Bokeh) {} // ensure no trailing comma for IE\n",
       "  ];\n",
       "\n",
       "  function run_inline_js() {\n",
       "    if ((root.Bokeh !== undefined) || (force === true)) {\n",
       "      for (var i = 0; i < inline_js.length; i++) {\n",
       "        inline_js[i].call(root, root.Bokeh);\n",
       "      }} else if (Date.now() < root._bokeh_timeout) {\n",
       "      setTimeout(run_inline_js, 100);\n",
       "    } else if (!root._bokeh_failed_load) {\n",
       "      console.log(\"Bokeh: BokehJS failed to load within specified timeout.\");\n",
       "      root._bokeh_failed_load = true;\n",
       "    }\n",
       "  }\n",
       "\n",
       "  if (root._bokeh_is_loading === 0) {\n",
       "    console.debug(\"Bokeh: BokehJS loaded, going straight to plotting\");\n",
       "    run_inline_js();\n",
       "  } else {\n",
       "    load_libs(css_urls, js_urls, js_modules, function() {\n",
       "      console.debug(\"Bokeh: BokehJS plotting callback run at\", now());\n",
       "      run_inline_js();\n",
       "    });\n",
       "  }\n",
       "}(window));"
      ],
      "application/vnd.holoviews_load.v0+json": "(function(root) {\n  function now() {\n    return new Date();\n  }\n\n  var force = true;\n\n  if (typeof root._bokeh_onload_callbacks === \"undefined\" || force === true) {\n    root._bokeh_onload_callbacks = [];\n    root._bokeh_is_loading = undefined;\n  }\n\n  if (typeof (root._bokeh_timeout) === \"undefined\" || force === true) {\n    root._bokeh_timeout = Date.now() + 5000;\n    root._bokeh_failed_load = false;\n  }\n\n  function run_callbacks() {\n    try {\n      root._bokeh_onload_callbacks.forEach(function(callback) {\n        if (callback != null)\n          callback();\n      });\n    } finally {\n      delete root._bokeh_onload_callbacks\n    }\n    console.debug(\"Bokeh: all callbacks have finished\");\n  }\n\n  function load_libs(css_urls, js_urls, js_modules, callback) {\n    if (css_urls == null) css_urls = [];\n    if (js_urls == null) js_urls = [];\n    if (js_modules == null) js_modules = [];\n\n    root._bokeh_onload_callbacks.push(callback);\n    if (root._bokeh_is_loading > 0) {\n      console.debug(\"Bokeh: BokehJS is being loaded, scheduling callback at\", now());\n      return null;\n    }\n    if (js_urls.length === 0 && js_modules.length === 0) {\n      run_callbacks();\n      return null;\n    }\n    console.debug(\"Bokeh: BokehJS not loaded, scheduling load and callback at\", now());\n\n    function on_load() {\n      root._bokeh_is_loading--;\n      if (root._bokeh_is_loading === 0) {\n        console.debug(\"Bokeh: all BokehJS libraries/stylesheets loaded\");\n        run_callbacks()\n      }\n    }\n\n    function on_error() {\n      console.error(\"failed to load \" + url);\n    }\n\n    for (var i = 0; i < css_urls.length; i++) {\n      var url = css_urls[i];\n      const element = document.createElement(\"link\");\n      element.onload = on_load;\n      element.onerror = on_error;\n      element.rel = \"stylesheet\";\n      element.type = \"text/css\";\n      element.href = url;\n      console.debug(\"Bokeh: injecting link tag for BokehJS stylesheet: \", url);\n      document.body.appendChild(element);\n    }\n\n    var skip = [];\n    if (window.requirejs) {\n      window.requirejs.config({'packages': {}, 'paths': {'gridstack': 'https://cdn.jsdelivr.net/npm/gridstack@4.2.5/dist/gridstack-h5', 'notyf': 'https://cdn.jsdelivr.net/npm/notyf@3/notyf.min'}, 'shim': {'gridstack': {'exports': 'GridStack'}}});\n      require([\"gridstack\"], function(GridStack) {\n\twindow.GridStack = GridStack\n\ton_load()\n      })\n      require([\"notyf\"], function() {\n\ton_load()\n      })\n      root._bokeh_is_loading = css_urls.length + 2;\n    } else {\n      root._bokeh_is_loading = css_urls.length + js_urls.length + js_modules.length;\n    }    if (((window['GridStack'] !== undefined) && (!(window['GridStack'] instanceof HTMLElement))) || window.requirejs) {\n      var urls = ['https://cdn.jsdelivr.net/npm/gridstack@4.2.5/dist/gridstack-h5.js'];\n      for (var i = 0; i < urls.length; i++) {\n        skip.push(urls[i])\n      }\n    }    if (((window['Notyf'] !== undefined) && (!(window['Notyf'] instanceof HTMLElement))) || window.requirejs) {\n      var urls = ['https://cdn.jsdelivr.net/npm/notyf@3/notyf.min.js'];\n      for (var i = 0; i < urls.length; i++) {\n        skip.push(urls[i])\n      }\n    }    for (var i = 0; i < js_urls.length; i++) {\n      var url = js_urls[i];\n      if (skip.indexOf(url) >= 0) {\n\tif (!window.requirejs) {\n\t  on_load();\n\t}\n\tcontinue;\n      }\n      var element = document.createElement('script');\n      element.onload = on_load;\n      element.onerror = on_error;\n      element.async = false;\n      element.src = url;\n      console.debug(\"Bokeh: injecting script tag for BokehJS library: \", url);\n      document.head.appendChild(element);\n    }\n    for (var i = 0; i < js_modules.length; i++) {\n      var url = js_modules[i];\n      if (skip.indexOf(url) >= 0) {\n\tif (!window.requirejs) {\n\t  on_load();\n\t}\n\tcontinue;\n      }\n      var element = document.createElement('script');\n      element.onload = on_load;\n      element.onerror = on_error;\n      element.async = false;\n      element.src = url;\n      element.type = \"module\";\n      console.debug(\"Bokeh: injecting script tag for BokehJS library: \", url);\n      document.head.appendChild(element);\n    }\n    if (!js_urls.length && !js_modules.length) {\n      on_load()\n    }\n  };\n\n  function inject_raw_css(css) {\n    const element = document.createElement(\"style\");\n    element.appendChild(document.createTextNode(css));\n    document.body.appendChild(element);\n  }\n\n  var js_urls = [\"https://cdn.bokeh.org/bokeh/release/bokeh-2.4.3.min.js\", \"https://cdn.bokeh.org/bokeh/release/bokeh-gl-2.4.3.min.js\", \"https://cdn.bokeh.org/bokeh/release/bokeh-widgets-2.4.3.min.js\", \"https://cdn.bokeh.org/bokeh/release/bokeh-tables-2.4.3.min.js\", \"https://cdn.bokeh.org/bokeh/release/bokeh-mathjax-2.4.3.min.js\", \"https://cdn.jsdelivr.net/npm/notyf@3/notyf.min.js\", \"https://unpkg.com/@holoviz/panel@0.13.1/dist/panel.min.js\"];\n  var js_modules = [];\n  var css_urls = [\"https://cdn.jsdelivr.net/npm/notyf@3/notyf.min.css\", \"https://cdnjs.cloudflare.com/ajax/libs/font-awesome/5.15.1/css/all.min.css\", \"https://unpkg.com/@holoviz/panel@0.13.1/dist/css/alerts.css\", \"https://unpkg.com/@holoviz/panel@0.13.1/dist/css/card.css\", \"https://unpkg.com/@holoviz/panel@0.13.1/dist/css/dataframe.css\", \"https://unpkg.com/@holoviz/panel@0.13.1/dist/css/debugger.css\", \"https://unpkg.com/@holoviz/panel@0.13.1/dist/css/json.css\", \"https://unpkg.com/@holoviz/panel@0.13.1/dist/css/loading.css\", \"https://unpkg.com/@holoviz/panel@0.13.1/dist/css/markdown.css\", \"https://unpkg.com/@holoviz/panel@0.13.1/dist/css/widgets.css\"];\n  var inline_js = [    function(Bokeh) {\n      inject_raw_css(\"\\n    .bk.pn-loading.arcs:before {\\n      background-image: url(\\\"data:image/svg+xml;base64,PHN2ZyB4bWxucz0iaHR0cDovL3d3dy53My5vcmcvMjAwMC9zdmciIHhtbG5zOnhsaW5rPSJodHRwOi8vd3d3LnczLm9yZy8xOTk5L3hsaW5rIiBzdHlsZT0ibWFyZ2luOiBhdXRvOyBiYWNrZ3JvdW5kOiBub25lOyBkaXNwbGF5OiBibG9jazsgc2hhcGUtcmVuZGVyaW5nOiBhdXRvOyIgdmlld0JveD0iMCAwIDEwMCAxMDAiIHByZXNlcnZlQXNwZWN0UmF0aW89InhNaWRZTWlkIj4gIDxjaXJjbGUgY3g9IjUwIiBjeT0iNTAiIHI9IjMyIiBzdHJva2Utd2lkdGg9IjgiIHN0cm9rZT0iI2MzYzNjMyIgc3Ryb2tlLWRhc2hhcnJheT0iNTAuMjY1NDgyNDU3NDM2NjkgNTAuMjY1NDgyNDU3NDM2NjkiIGZpbGw9Im5vbmUiIHN0cm9rZS1saW5lY2FwPSJyb3VuZCI+ICAgIDxhbmltYXRlVHJhbnNmb3JtIGF0dHJpYnV0ZU5hbWU9InRyYW5zZm9ybSIgdHlwZT0icm90YXRlIiByZXBlYXRDb3VudD0iaW5kZWZpbml0ZSIgZHVyPSIxcyIga2V5VGltZXM9IjA7MSIgdmFsdWVzPSIwIDUwIDUwOzM2MCA1MCA1MCI+PC9hbmltYXRlVHJhbnNmb3JtPiAgPC9jaXJjbGU+PC9zdmc+\\\");\\n      background-size: auto calc(min(50%, 400px));\\n    }\\n    \");\n    },    function(Bokeh) {\n      Bokeh.set_log_level(\"info\");\n    },\nfunction(Bokeh) {} // ensure no trailing comma for IE\n  ];\n\n  function run_inline_js() {\n    if ((root.Bokeh !== undefined) || (force === true)) {\n      for (var i = 0; i < inline_js.length; i++) {\n        inline_js[i].call(root, root.Bokeh);\n      }} else if (Date.now() < root._bokeh_timeout) {\n      setTimeout(run_inline_js, 100);\n    } else if (!root._bokeh_failed_load) {\n      console.log(\"Bokeh: BokehJS failed to load within specified timeout.\");\n      root._bokeh_failed_load = true;\n    }\n  }\n\n  if (root._bokeh_is_loading === 0) {\n    console.debug(\"Bokeh: BokehJS loaded, going straight to plotting\");\n    run_inline_js();\n  } else {\n    load_libs(css_urls, js_urls, js_modules, function() {\n      console.debug(\"Bokeh: BokehJS plotting callback run at\", now());\n      run_inline_js();\n    });\n  }\n}(window));"
     },
     "metadata": {},
     "output_type": "display_data"
    },
    {
     "data": {
      "application/javascript": [
       "\n",
       "if ((window.PyViz === undefined) || (window.PyViz instanceof HTMLElement)) {\n",
       "  window.PyViz = {comms: {}, comm_status:{}, kernels:{}, receivers: {}, plot_index: []}\n",
       "}\n",
       "\n",
       "\n",
       "    function JupyterCommManager() {\n",
       "    }\n",
       "\n",
       "    JupyterCommManager.prototype.register_target = function(plot_id, comm_id, msg_handler) {\n",
       "      if (window.comm_manager || ((window.Jupyter !== undefined) && (Jupyter.notebook.kernel != null))) {\n",
       "        var comm_manager = window.comm_manager || Jupyter.notebook.kernel.comm_manager;\n",
       "        comm_manager.register_target(comm_id, function(comm) {\n",
       "          comm.on_msg(msg_handler);\n",
       "        });\n",
       "      } else if ((plot_id in window.PyViz.kernels) && (window.PyViz.kernels[plot_id])) {\n",
       "        window.PyViz.kernels[plot_id].registerCommTarget(comm_id, function(comm) {\n",
       "          comm.onMsg = msg_handler;\n",
       "        });\n",
       "      } else if (typeof google != 'undefined' && google.colab.kernel != null) {\n",
       "        google.colab.kernel.comms.registerTarget(comm_id, (comm) => {\n",
       "          var messages = comm.messages[Symbol.asyncIterator]();\n",
       "          function processIteratorResult(result) {\n",
       "            var message = result.value;\n",
       "            console.log(message)\n",
       "            var content = {data: message.data, comm_id};\n",
       "            var buffers = []\n",
       "            for (var buffer of message.buffers || []) {\n",
       "              buffers.push(new DataView(buffer))\n",
       "            }\n",
       "            var metadata = message.metadata || {};\n",
       "            var msg = {content, buffers, metadata}\n",
       "            msg_handler(msg);\n",
       "            return messages.next().then(processIteratorResult);\n",
       "          }\n",
       "          return messages.next().then(processIteratorResult);\n",
       "        })\n",
       "      }\n",
       "    }\n",
       "\n",
       "    JupyterCommManager.prototype.get_client_comm = function(plot_id, comm_id, msg_handler) {\n",
       "      if (comm_id in window.PyViz.comms) {\n",
       "        return window.PyViz.comms[comm_id];\n",
       "      } else if (window.comm_manager || ((window.Jupyter !== undefined) && (Jupyter.notebook.kernel != null))) {\n",
       "        var comm_manager = window.comm_manager || Jupyter.notebook.kernel.comm_manager;\n",
       "        var comm = comm_manager.new_comm(comm_id, {}, {}, {}, comm_id);\n",
       "        if (msg_handler) {\n",
       "          comm.on_msg(msg_handler);\n",
       "        }\n",
       "      } else if ((plot_id in window.PyViz.kernels) && (window.PyViz.kernels[plot_id])) {\n",
       "        var comm = window.PyViz.kernels[plot_id].connectToComm(comm_id);\n",
       "        comm.open();\n",
       "        if (msg_handler) {\n",
       "          comm.onMsg = msg_handler;\n",
       "        }\n",
       "      } else if (typeof google != 'undefined' && google.colab.kernel != null) {\n",
       "        var comm_promise = google.colab.kernel.comms.open(comm_id)\n",
       "        comm_promise.then((comm) => {\n",
       "          window.PyViz.comms[comm_id] = comm;\n",
       "          if (msg_handler) {\n",
       "            var messages = comm.messages[Symbol.asyncIterator]();\n",
       "            function processIteratorResult(result) {\n",
       "              var message = result.value;\n",
       "              var content = {data: message.data};\n",
       "              var metadata = message.metadata || {comm_id};\n",
       "              var msg = {content, metadata}\n",
       "              msg_handler(msg);\n",
       "              return messages.next().then(processIteratorResult);\n",
       "            }\n",
       "            return messages.next().then(processIteratorResult);\n",
       "          }\n",
       "        }) \n",
       "        var sendClosure = (data, metadata, buffers, disposeOnDone) => {\n",
       "          return comm_promise.then((comm) => {\n",
       "            comm.send(data, metadata, buffers, disposeOnDone);\n",
       "          });\n",
       "        };\n",
       "        var comm = {\n",
       "          send: sendClosure\n",
       "        };\n",
       "      }\n",
       "      window.PyViz.comms[comm_id] = comm;\n",
       "      return comm;\n",
       "    }\n",
       "    window.PyViz.comm_manager = new JupyterCommManager();\n",
       "    \n",
       "\n",
       "\n",
       "var JS_MIME_TYPE = 'application/javascript';\n",
       "var HTML_MIME_TYPE = 'text/html';\n",
       "var EXEC_MIME_TYPE = 'application/vnd.holoviews_exec.v0+json';\n",
       "var CLASS_NAME = 'output';\n",
       "\n",
       "/**\n",
       " * Render data to the DOM node\n",
       " */\n",
       "function render(props, node) {\n",
       "  var div = document.createElement(\"div\");\n",
       "  var script = document.createElement(\"script\");\n",
       "  node.appendChild(div);\n",
       "  node.appendChild(script);\n",
       "}\n",
       "\n",
       "/**\n",
       " * Handle when a new output is added\n",
       " */\n",
       "function handle_add_output(event, handle) {\n",
       "  var output_area = handle.output_area;\n",
       "  var output = handle.output;\n",
       "  if ((output.data == undefined) || (!output.data.hasOwnProperty(EXEC_MIME_TYPE))) {\n",
       "    return\n",
       "  }\n",
       "  var id = output.metadata[EXEC_MIME_TYPE][\"id\"];\n",
       "  var toinsert = output_area.element.find(\".\" + CLASS_NAME.split(' ')[0]);\n",
       "  if (id !== undefined) {\n",
       "    var nchildren = toinsert.length;\n",
       "    var html_node = toinsert[nchildren-1].children[0];\n",
       "    html_node.innerHTML = output.data[HTML_MIME_TYPE];\n",
       "    var scripts = [];\n",
       "    var nodelist = html_node.querySelectorAll(\"script\");\n",
       "    for (var i in nodelist) {\n",
       "      if (nodelist.hasOwnProperty(i)) {\n",
       "        scripts.push(nodelist[i])\n",
       "      }\n",
       "    }\n",
       "\n",
       "    scripts.forEach( function (oldScript) {\n",
       "      var newScript = document.createElement(\"script\");\n",
       "      var attrs = [];\n",
       "      var nodemap = oldScript.attributes;\n",
       "      for (var j in nodemap) {\n",
       "        if (nodemap.hasOwnProperty(j)) {\n",
       "          attrs.push(nodemap[j])\n",
       "        }\n",
       "      }\n",
       "      attrs.forEach(function(attr) { newScript.setAttribute(attr.name, attr.value) });\n",
       "      newScript.appendChild(document.createTextNode(oldScript.innerHTML));\n",
       "      oldScript.parentNode.replaceChild(newScript, oldScript);\n",
       "    });\n",
       "    if (JS_MIME_TYPE in output.data) {\n",
       "      toinsert[nchildren-1].children[1].textContent = output.data[JS_MIME_TYPE];\n",
       "    }\n",
       "    output_area._hv_plot_id = id;\n",
       "    if ((window.Bokeh !== undefined) && (id in Bokeh.index)) {\n",
       "      window.PyViz.plot_index[id] = Bokeh.index[id];\n",
       "    } else {\n",
       "      window.PyViz.plot_index[id] = null;\n",
       "    }\n",
       "  } else if (output.metadata[EXEC_MIME_TYPE][\"server_id\"] !== undefined) {\n",
       "    var bk_div = document.createElement(\"div\");\n",
       "    bk_div.innerHTML = output.data[HTML_MIME_TYPE];\n",
       "    var script_attrs = bk_div.children[0].attributes;\n",
       "    for (var i = 0; i < script_attrs.length; i++) {\n",
       "      toinsert[toinsert.length - 1].childNodes[1].setAttribute(script_attrs[i].name, script_attrs[i].value);\n",
       "    }\n",
       "    // store reference to server id on output_area\n",
       "    output_area._bokeh_server_id = output.metadata[EXEC_MIME_TYPE][\"server_id\"];\n",
       "  }\n",
       "}\n",
       "\n",
       "/**\n",
       " * Handle when an output is cleared or removed\n",
       " */\n",
       "function handle_clear_output(event, handle) {\n",
       "  var id = handle.cell.output_area._hv_plot_id;\n",
       "  var server_id = handle.cell.output_area._bokeh_server_id;\n",
       "  if (((id === undefined) || !(id in PyViz.plot_index)) && (server_id !== undefined)) { return; }\n",
       "  var comm = window.PyViz.comm_manager.get_client_comm(\"hv-extension-comm\", \"hv-extension-comm\", function () {});\n",
       "  if (server_id !== null) {\n",
       "    comm.send({event_type: 'server_delete', 'id': server_id});\n",
       "    return;\n",
       "  } else if (comm !== null) {\n",
       "    comm.send({event_type: 'delete', 'id': id});\n",
       "  }\n",
       "  delete PyViz.plot_index[id];\n",
       "  if ((window.Bokeh !== undefined) & (id in window.Bokeh.index)) {\n",
       "    var doc = window.Bokeh.index[id].model.document\n",
       "    doc.clear();\n",
       "    const i = window.Bokeh.documents.indexOf(doc);\n",
       "    if (i > -1) {\n",
       "      window.Bokeh.documents.splice(i, 1);\n",
       "    }\n",
       "  }\n",
       "}\n",
       "\n",
       "/**\n",
       " * Handle kernel restart event\n",
       " */\n",
       "function handle_kernel_cleanup(event, handle) {\n",
       "  delete PyViz.comms[\"hv-extension-comm\"];\n",
       "  window.PyViz.plot_index = {}\n",
       "}\n",
       "\n",
       "/**\n",
       " * Handle update_display_data messages\n",
       " */\n",
       "function handle_update_output(event, handle) {\n",
       "  handle_clear_output(event, {cell: {output_area: handle.output_area}})\n",
       "  handle_add_output(event, handle)\n",
       "}\n",
       "\n",
       "function register_renderer(events, OutputArea) {\n",
       "  function append_mime(data, metadata, element) {\n",
       "    // create a DOM node to render to\n",
       "    var toinsert = this.create_output_subarea(\n",
       "    metadata,\n",
       "    CLASS_NAME,\n",
       "    EXEC_MIME_TYPE\n",
       "    );\n",
       "    this.keyboard_manager.register_events(toinsert);\n",
       "    // Render to node\n",
       "    var props = {data: data, metadata: metadata[EXEC_MIME_TYPE]};\n",
       "    render(props, toinsert[0]);\n",
       "    element.append(toinsert);\n",
       "    return toinsert\n",
       "  }\n",
       "\n",
       "  events.on('output_added.OutputArea', handle_add_output);\n",
       "  events.on('output_updated.OutputArea', handle_update_output);\n",
       "  events.on('clear_output.CodeCell', handle_clear_output);\n",
       "  events.on('delete.Cell', handle_clear_output);\n",
       "  events.on('kernel_ready.Kernel', handle_kernel_cleanup);\n",
       "\n",
       "  OutputArea.prototype.register_mime_type(EXEC_MIME_TYPE, append_mime, {\n",
       "    safe: true,\n",
       "    index: 0\n",
       "  });\n",
       "}\n",
       "\n",
       "if (window.Jupyter !== undefined) {\n",
       "  try {\n",
       "    var events = require('base/js/events');\n",
       "    var OutputArea = require('notebook/js/outputarea').OutputArea;\n",
       "    if (OutputArea.prototype.mime_types().indexOf(EXEC_MIME_TYPE) == -1) {\n",
       "      register_renderer(events, OutputArea);\n",
       "    }\n",
       "  } catch(err) {\n",
       "  }\n",
       "}\n"
      ],
      "application/vnd.holoviews_load.v0+json": "\nif ((window.PyViz === undefined) || (window.PyViz instanceof HTMLElement)) {\n  window.PyViz = {comms: {}, comm_status:{}, kernels:{}, receivers: {}, plot_index: []}\n}\n\n\n    function JupyterCommManager() {\n    }\n\n    JupyterCommManager.prototype.register_target = function(plot_id, comm_id, msg_handler) {\n      if (window.comm_manager || ((window.Jupyter !== undefined) && (Jupyter.notebook.kernel != null))) {\n        var comm_manager = window.comm_manager || Jupyter.notebook.kernel.comm_manager;\n        comm_manager.register_target(comm_id, function(comm) {\n          comm.on_msg(msg_handler);\n        });\n      } else if ((plot_id in window.PyViz.kernels) && (window.PyViz.kernels[plot_id])) {\n        window.PyViz.kernels[plot_id].registerCommTarget(comm_id, function(comm) {\n          comm.onMsg = msg_handler;\n        });\n      } else if (typeof google != 'undefined' && google.colab.kernel != null) {\n        google.colab.kernel.comms.registerTarget(comm_id, (comm) => {\n          var messages = comm.messages[Symbol.asyncIterator]();\n          function processIteratorResult(result) {\n            var message = result.value;\n            console.log(message)\n            var content = {data: message.data, comm_id};\n            var buffers = []\n            for (var buffer of message.buffers || []) {\n              buffers.push(new DataView(buffer))\n            }\n            var metadata = message.metadata || {};\n            var msg = {content, buffers, metadata}\n            msg_handler(msg);\n            return messages.next().then(processIteratorResult);\n          }\n          return messages.next().then(processIteratorResult);\n        })\n      }\n    }\n\n    JupyterCommManager.prototype.get_client_comm = function(plot_id, comm_id, msg_handler) {\n      if (comm_id in window.PyViz.comms) {\n        return window.PyViz.comms[comm_id];\n      } else if (window.comm_manager || ((window.Jupyter !== undefined) && (Jupyter.notebook.kernel != null))) {\n        var comm_manager = window.comm_manager || Jupyter.notebook.kernel.comm_manager;\n        var comm = comm_manager.new_comm(comm_id, {}, {}, {}, comm_id);\n        if (msg_handler) {\n          comm.on_msg(msg_handler);\n        }\n      } else if ((plot_id in window.PyViz.kernels) && (window.PyViz.kernels[plot_id])) {\n        var comm = window.PyViz.kernels[plot_id].connectToComm(comm_id);\n        comm.open();\n        if (msg_handler) {\n          comm.onMsg = msg_handler;\n        }\n      } else if (typeof google != 'undefined' && google.colab.kernel != null) {\n        var comm_promise = google.colab.kernel.comms.open(comm_id)\n        comm_promise.then((comm) => {\n          window.PyViz.comms[comm_id] = comm;\n          if (msg_handler) {\n            var messages = comm.messages[Symbol.asyncIterator]();\n            function processIteratorResult(result) {\n              var message = result.value;\n              var content = {data: message.data};\n              var metadata = message.metadata || {comm_id};\n              var msg = {content, metadata}\n              msg_handler(msg);\n              return messages.next().then(processIteratorResult);\n            }\n            return messages.next().then(processIteratorResult);\n          }\n        }) \n        var sendClosure = (data, metadata, buffers, disposeOnDone) => {\n          return comm_promise.then((comm) => {\n            comm.send(data, metadata, buffers, disposeOnDone);\n          });\n        };\n        var comm = {\n          send: sendClosure\n        };\n      }\n      window.PyViz.comms[comm_id] = comm;\n      return comm;\n    }\n    window.PyViz.comm_manager = new JupyterCommManager();\n    \n\n\nvar JS_MIME_TYPE = 'application/javascript';\nvar HTML_MIME_TYPE = 'text/html';\nvar EXEC_MIME_TYPE = 'application/vnd.holoviews_exec.v0+json';\nvar CLASS_NAME = 'output';\n\n/**\n * Render data to the DOM node\n */\nfunction render(props, node) {\n  var div = document.createElement(\"div\");\n  var script = document.createElement(\"script\");\n  node.appendChild(div);\n  node.appendChild(script);\n}\n\n/**\n * Handle when a new output is added\n */\nfunction handle_add_output(event, handle) {\n  var output_area = handle.output_area;\n  var output = handle.output;\n  if ((output.data == undefined) || (!output.data.hasOwnProperty(EXEC_MIME_TYPE))) {\n    return\n  }\n  var id = output.metadata[EXEC_MIME_TYPE][\"id\"];\n  var toinsert = output_area.element.find(\".\" + CLASS_NAME.split(' ')[0]);\n  if (id !== undefined) {\n    var nchildren = toinsert.length;\n    var html_node = toinsert[nchildren-1].children[0];\n    html_node.innerHTML = output.data[HTML_MIME_TYPE];\n    var scripts = [];\n    var nodelist = html_node.querySelectorAll(\"script\");\n    for (var i in nodelist) {\n      if (nodelist.hasOwnProperty(i)) {\n        scripts.push(nodelist[i])\n      }\n    }\n\n    scripts.forEach( function (oldScript) {\n      var newScript = document.createElement(\"script\");\n      var attrs = [];\n      var nodemap = oldScript.attributes;\n      for (var j in nodemap) {\n        if (nodemap.hasOwnProperty(j)) {\n          attrs.push(nodemap[j])\n        }\n      }\n      attrs.forEach(function(attr) { newScript.setAttribute(attr.name, attr.value) });\n      newScript.appendChild(document.createTextNode(oldScript.innerHTML));\n      oldScript.parentNode.replaceChild(newScript, oldScript);\n    });\n    if (JS_MIME_TYPE in output.data) {\n      toinsert[nchildren-1].children[1].textContent = output.data[JS_MIME_TYPE];\n    }\n    output_area._hv_plot_id = id;\n    if ((window.Bokeh !== undefined) && (id in Bokeh.index)) {\n      window.PyViz.plot_index[id] = Bokeh.index[id];\n    } else {\n      window.PyViz.plot_index[id] = null;\n    }\n  } else if (output.metadata[EXEC_MIME_TYPE][\"server_id\"] !== undefined) {\n    var bk_div = document.createElement(\"div\");\n    bk_div.innerHTML = output.data[HTML_MIME_TYPE];\n    var script_attrs = bk_div.children[0].attributes;\n    for (var i = 0; i < script_attrs.length; i++) {\n      toinsert[toinsert.length - 1].childNodes[1].setAttribute(script_attrs[i].name, script_attrs[i].value);\n    }\n    // store reference to server id on output_area\n    output_area._bokeh_server_id = output.metadata[EXEC_MIME_TYPE][\"server_id\"];\n  }\n}\n\n/**\n * Handle when an output is cleared or removed\n */\nfunction handle_clear_output(event, handle) {\n  var id = handle.cell.output_area._hv_plot_id;\n  var server_id = handle.cell.output_area._bokeh_server_id;\n  if (((id === undefined) || !(id in PyViz.plot_index)) && (server_id !== undefined)) { return; }\n  var comm = window.PyViz.comm_manager.get_client_comm(\"hv-extension-comm\", \"hv-extension-comm\", function () {});\n  if (server_id !== null) {\n    comm.send({event_type: 'server_delete', 'id': server_id});\n    return;\n  } else if (comm !== null) {\n    comm.send({event_type: 'delete', 'id': id});\n  }\n  delete PyViz.plot_index[id];\n  if ((window.Bokeh !== undefined) & (id in window.Bokeh.index)) {\n    var doc = window.Bokeh.index[id].model.document\n    doc.clear();\n    const i = window.Bokeh.documents.indexOf(doc);\n    if (i > -1) {\n      window.Bokeh.documents.splice(i, 1);\n    }\n  }\n}\n\n/**\n * Handle kernel restart event\n */\nfunction handle_kernel_cleanup(event, handle) {\n  delete PyViz.comms[\"hv-extension-comm\"];\n  window.PyViz.plot_index = {}\n}\n\n/**\n * Handle update_display_data messages\n */\nfunction handle_update_output(event, handle) {\n  handle_clear_output(event, {cell: {output_area: handle.output_area}})\n  handle_add_output(event, handle)\n}\n\nfunction register_renderer(events, OutputArea) {\n  function append_mime(data, metadata, element) {\n    // create a DOM node to render to\n    var toinsert = this.create_output_subarea(\n    metadata,\n    CLASS_NAME,\n    EXEC_MIME_TYPE\n    );\n    this.keyboard_manager.register_events(toinsert);\n    // Render to node\n    var props = {data: data, metadata: metadata[EXEC_MIME_TYPE]};\n    render(props, toinsert[0]);\n    element.append(toinsert);\n    return toinsert\n  }\n\n  events.on('output_added.OutputArea', handle_add_output);\n  events.on('output_updated.OutputArea', handle_update_output);\n  events.on('clear_output.CodeCell', handle_clear_output);\n  events.on('delete.Cell', handle_clear_output);\n  events.on('kernel_ready.Kernel', handle_kernel_cleanup);\n\n  OutputArea.prototype.register_mime_type(EXEC_MIME_TYPE, append_mime, {\n    safe: true,\n    index: 0\n  });\n}\n\nif (window.Jupyter !== undefined) {\n  try {\n    var events = require('base/js/events');\n    var OutputArea = require('notebook/js/outputarea').OutputArea;\n    if (OutputArea.prototype.mime_types().indexOf(EXEC_MIME_TYPE) == -1) {\n      register_renderer(events, OutputArea);\n    }\n  } catch(err) {\n  }\n}\n"
     },
     "metadata": {},
     "output_type": "display_data"
    },
    {
     "data": {
      "text/html": [
       "<style>.bk-root, .bk-root .bk:before, .bk-root .bk:after {\n",
       "  font-family: var(--jp-ui-font-size1);\n",
       "  font-size: var(--jp-ui-font-size1);\n",
       "  color: var(--jp-ui-font-color1);\n",
       "}\n",
       "</style>"
      ]
     },
     "metadata": {},
     "output_type": "display_data"
    }
   ],
   "source": [
    "import requests \n",
    "from IPython.display import JSON\n",
    "import pandas as pd\n",
    "import numpy as np \n",
    "import time \n",
    "\n",
    "#visualization \n",
    "from wordcloud import WordCloud,STOPWORDS\n",
    "import plotly.express as px\n",
    "\n",
    "# panel hvplot \n",
    "import panel as pn \n",
    "pn.extension()\n",
    "import param\n",
    "import hvplot.pandas \n",
    "\n",
    "#others \n",
    "import pickle\n",
    "from io import StringIO\n"
   ]
  },
  {
   "cell_type": "markdown",
   "metadata": {},
   "source": [
    "# API SECRET"
   ]
  },
  {
   "cell_type": "code",
   "execution_count": 2,
   "metadata": {},
   "outputs": [],
   "source": [
    "#API secret \n",
    "from lib.api_secret import API_KEY"
   ]
  },
  {
   "cell_type": "markdown",
   "metadata": {},
   "source": [
    "# Submitting file to transcription"
   ]
  },
  {
   "cell_type": "code",
   "execution_count": 3,
   "metadata": {},
   "outputs": [
    {
     "name": "stdout",
     "output_type": "stream",
     "text": [
      "{'id': 'offr564bd1-52c8-49cf-a988-3e3f4a90532f', 'language_model': 'assemblyai_default', 'acoustic_model': 'assemblyai_default', 'language_code': 'en_us', 'status': 'queued', 'audio_url': 'https://github.com/AyeshGK/audio_analyzer/blob/main/How_I_Would_Learn_to_Code.mp3?raw=true', 'text': None, 'words': None, 'utterances': None, 'confidence': None, 'audio_duration': None, 'punctuate': True, 'format_text': True, 'dual_channel': None, 'webhook_url': None, 'webhook_status_code': None, 'webhook_auth': False, 'webhook_auth_header_name': None, 'speed_boost': False, 'auto_highlights_result': None, 'auto_highlights': True, 'audio_start_from': None, 'audio_end_at': None, 'word_boost': [], 'boost_param': None, 'filter_profanity': False, 'redact_pii': False, 'redact_pii_audio': False, 'redact_pii_audio_quality': None, 'redact_pii_policies': None, 'redact_pii_sub': None, 'speaker_labels': False, 'content_safety': False, 'iab_categories': True, 'content_safety_labels': {}, 'iab_categories_result': {}, 'language_detection': False, 'custom_spelling': None, 'disfluencies': False, 'sentiment_analysis': True, 'sentiment_analysis_results': None, 'auto_chapters': True, 'chapters': None, 'entity_detection': False, 'entities': None}\n"
     ]
    }
   ],
   "source": [
    "import requests\n",
    "endpoint = \"https://api.assemblyai.com/v2/transcript\"\n",
    "json = {\n",
    "    \"audio_url\": \"https://github.com/AyeshGK/audio_analyzer/blob/main/How_I_Would_Learn_to_Code.mp3?raw=true\",\n",
    "    \"auto_highlights\": True,\n",
    "    \"sentiment_analysis\": True,\n",
    "    \"auto_chapters\": True,\n",
    "    \"iab_categories\": True,\n",
    "}\n",
    "headers = {\n",
    "    \"authorization\": API_KEY,\n",
    "    \"content-type\": \"application/json\"\n",
    "}\n",
    "response = requests.post(endpoint, json=json, headers=headers)\n",
    "print(response.json())"
   ]
  },
  {
   "cell_type": "markdown",
   "metadata": {},
   "source": [
    "# getting transcription result "
   ]
  },
  {
   "cell_type": "code",
   "execution_count": 15,
   "metadata": {},
   "outputs": [
    {
     "name": "stdout",
     "output_type": "stream",
     "text": [
      "{'id': 'offr564bd1-52c8-49cf-a988-3e3f4a90532f', 'language_model': 'assemblyai_default', 'acoustic_model': 'assemblyai_default', 'language_code': 'en_us', 'status': 'completed', 'audio_url': 'https://github.com/AyeshGK/audio_analyzer/blob/main/How_I_Would_Learn_to_Code.mp3?raw=true', 'text': \"I recently got an amazing opportunity. I've been learning jujitsu, and a friend offered to coach me in exchange for teaching him how to code. At this point in my life where I'm trying to improve my jiu jitsu as quickly as possible, this was an incredible trade for me. In my personal opinion, I was all for until I had to think about how I'd actually go about teaching someone how to code starting from nothing, I quickly realized that this was going to be a lot harder than I thought. After all, it's been almost ten years since I wrote my very first line of code. That's a pretty long time. Now, this video is about the very specific and detailed plan that I wrote for my friend to teach me the basics of coding for data science. Since I did all the work for him, I figured I might as well share the details with you as well. Here. There have been plenty of other great videos similar to this about how to start coding, and I've linked many of them in the description. Again, those are great, but I think this is a bit different because it's more focused on coding for data and it uses a very specific real world case study. At the end, I also highlight the three most important things a new programmer should know. So you definitely want to stick around for that. Let's start with the language that we should start learning. I know if you're working with data, you generally have two good choices. They would either start with Python or R. Let's quickly compare the two languages data Science Style when looking at the Stack Overflow developer survey, we find that about 48% of respondents use Python, while only about 5% user. In industry, Python is a far more common language. Let's now look more specifically a data scientist, not just all Stack Overflow users who come from a variety of backgrounds. On Kaggle, my favorite platform for data science learning and projects, we can see that around 84.2% of respondents use Python, while only 25% use R. Since these add up to more than 100%, we can assume that some data scientists are using both languages. Finally, let's look at these two languages over time. We can see here from 2020 to 2021, Python has gained an adoption. While our usage has seen some attrition, to me, this is a no brainer. I recommended my friend to start learning Python first. That language is more popular, and it's continuing to grow. This isn't to say R is bad. It's just to say that I think Python is growing and will be a more valuable skill to have for the job market in general. I also personally find it a bit more intuitive and flexible than our. Now that we've chosen our language as Python, what coding skills should my friend learn first? Should he focus on variables? Logic functions? Algorithms? Classes? My mind was absolutely spinning when I first addressed this. It took me a second, but I had this weird chaotic flashback to my first days of learning programming myself. I didn't even know where to start with getting Python on my own computer. I just now got excited about teaching the functional part of programming, and I completely forgot about the basics of setting up your environment for success. The next thing I did was give my friend some of my favorite resources on choosing an environment and getting the right version of Python on his computer. Honestly, I was a bit torn on this too. So, for example, what IDE should have used? Does he even know what IDE stands for? For those who don't know and who are new, ID stands for Integrated Development Environment. So this is essentially just a text editor you use to write your code. If you were writing an essay, you could choose to use Microsoft Word. You could use Google Docs, you could use Notepad, or maybe even just straight up pen and paper. Just like there are these different mediums for you to write your last minute paper. Data scientists and software engineers need places to write their code. These places are called IDs. And just like Microsoft Word has spell track and formatting to make sure that you don't make grammatical errors, many ideas help you to make sure that you have proper syntax in your code. In theory, technically, Microsoft Word would be considered an idea, but I definitely don't recommend using it as such unless you're jump ate. This is a list of the most commonly used Ides in the data domain. And as you can see, common Ides for Python are vs, code, jupyter, notebook, PyCharm, and Spider. Before anything else, I wanted to give him a decent understanding about how the development environments work before we picked one. As I mentioned, this is something that I was totally confused about when I started. When I learned to code, I was using Python and I was using an IDE called Idle. So Idle is great for learning, but I've literally never once touched it since, and I don't use it on any data projects in any of my work. I wanted to make sure that my friend was using something that would be representative of what he might see in the real world, what people actually use. For this specific friend, I recommended that he started learning the basics with this video from Precocamp. I've linked it and all other resources in the description. So in the video, they show you how to set up the PyCharm environment and get comfortable using that. I think PyCharm is solid, and if you get familiar with that, you can easily pick up the SCode, a Jupiter notebook, or Spider pretty quickly. Truthfully, I don't think that the idea that you start with really matters that much. What's more important is that you're using one that people who actually write Python code into production are using. Okay, now on to the coding basics. Surprisingly, I think this might be one of the simplest parts of this entire process. You see, there's a common misconception that coding is trying to trick you. There's this conspiracy that learning to code is supposed to be really hard and very scary. I would argue that it's almost the opposite. Coding languages, particularly Python. They're designed to be as easy to use as possible while creating good results. So if you change your perspective to look at them as intuitive, coding becomes significantly more fun and stressfree. This isn't to say that you won't get stuck. It's just to say that when you do get stuck, there's almost always a logical reason for it and a logical solution to resolve your problems. Keeping with this theme of simplicity, at the most basic level, beginner coding can be broken down into seven concepts. All the resources that I've linked in the description cover these topics, but I'm going to give you a very, very high level overview here. The first one we start with is data types. So in Python, you can work with numbers, you can work with text, you can work with Booleans, you can work with lists or a host of different data structures. It's important to get a good understanding or a fundamental understanding of these first. Next, I think it makes sense to get familiar with how variables work. This can vary by language, so you need to make sure you know how to assign and change variables in Python, specifically, after variables, you should look into how logical operators work. These are very handy in your first few projects. If held, statements are probably the most important one. But you can definitely find use cases for the others, especially if you're working with data. The fourth thing you need to understand is how loops work. So one thing computers are really great at is doing a simple task over and over again. You'd be surprised at how useful these can be for your programming future. After that, you should learn about functions. So this sets the foundation for almost everything you do on your programming journey. Functions allow you to encapsulate code and reuse it. If you really think about it, good coding is about making as many reusable bits as possible, and these functions are where that really begins. At this point, you have a pretty good understanding of the key building blocks of Python. You should now learn a bit more about how some of the basic data structures work. I recommend taking a deeper dive into Lists, Dictionaries, as well as Tuples. This will set the foundation for much of your data work later on. Finally, you should start learning to work with libraries. So the most important ones for data are Pandas, NumPy, ScikitLearn, and Matplotlib, and these give you additional tools to analyze, visualize and manipulate data. Pandas and Numpire also introduced some new data structures, like arrays, series, and data frames. So if you have an understanding of how the more basic data structures work in Python, you should be able to pick these up relatively quickly. And that's it. With those seven things, you have the basics of coding that you'll need for starting to work with data. If you're watching this and you're a software engineer, you probably think I left something important out. What I've purposely omitted from this list is an explanation of classes. So classes are the foundation of object oriented programming, and object oriented programming is a programming model that organizes code around objects rather than functions or logic. Object oriented programming is incredibly powerful, but honestly, it isn't very relevant for the beginner stages of working with data. It is something you should absolutely explore on your own after you've learned these other concepts. Well, in the description, I've linked a few great resources for learning all of the concepts, including the exact one from Free Code Camp that I gave my friend. Most of them are completely free, but I have also included my discount link for the course on 365 Data Science. So if you're looking for a resource just to take you past the more basic coding and more towards tangible data science skills, I would recommend checking that out. One thing that I love about many of the courses that I've linked is that they have these little mini projects baked into the coursework. I think project based learning is the single most effective way to learn technical concepts. After first getting a basic foundation, I highly encourage you to think about how you can use code to build things that would be useful to you. So for my friend, the first project I'm having him do is create a jujitsu drill randomizer using Python. So for training anything, it's important to reinforce your skills. But it can get boring working on the same basic drills every day. I'm having to make a program that essentially randomly selects two to three drills that we should work on during our sessions from a larger list. This is a simple project, but it's something that's directly relevant and useful to our work and our jujitsu training. With that in mind, I'd love for you to comment below with a Python project that you'd like to do, and we'll all hold each other accountable. Okay? So now that you've learned the basics of Python, now what? If you're interested in learning more about data, I highly recommend that you do a datarelated project. The single best place for this is Kaggle.com, which I've mentioned before. If that's a bit too intimidating, you can follow along on one of the projects that I've done or one of the thousands of projects that other people have worked on on the Kaggle platform. Realistically, many people lose steam at this step. They go through and see the great work that other people have done, and they get discouraged again. Honestly, I remember feeling this too. What I recommend doing is going through some of the basic notebooks, like the Titanic data set, and just copying the code, running it on your own computer, line by line. Many people think that this is cheating, but it's actually a great way to learn. Even better when you run it, make some changes to the code and see what happens. Maybe you should try changing, like the colors on a graph from blue to red, or try to make a line thicker on one of the graphs. Just simple things like that help you iterate and improve. So remember when we talked about IDs earlier and I'd mentioned Jupiter's notebook? Kaggle uses something similar to that that lets you work online. This is great and free compute power if you have limited resources at home. So if you want to work with data on your laptop or desktop, I recommend downloading Anaconda. Anaconda is a software package that lumps together all of the relevant Python libraries and ideas for data science in one go. So you can check out my video for how to install it, which I've linked above and in the description. Finally, I have three tips to send you on your way. These are probably the most important things that a new coder can learn. So the first one is to use Google and stack overflow. If you have a question, it's almost guaranteed that someone has asked it before on the Internet, getting good at finding answers on your own via search might be the single most important skill of a data scientist or software engineer that they use every single day. The second is to use errors so your code will not run. It will break, and you'll be sad. Don't just wallow in your self pity. Read the error messages. They'll tell you something about what's wrong. Also, Google the errors, and this will save you a lot of time and headache. Finally, the third thing is to take it easy on yourself. The only people that can't code are the ones that never tried or the ones that quit too early. Thank you all so much for watching, and good luck on your data science and coding journey.\", 'words': [{'text': 'I', 'start': 250, 'end': 342, 'confidence': 0.91, 'speaker': None}, {'text': 'recently', 'start': 356, 'end': 658, 'confidence': 0.50517, 'speaker': None}, {'text': 'got', 'start': 694, 'end': 894, 'confidence': 0.52472, 'speaker': None}, {'text': 'an', 'start': 932, 'end': 1098, 'confidence': 0.99856, 'speaker': None}, {'text': 'amazing', 'start': 1124, 'end': 1422, 'confidence': 0.99994, 'speaker': None}, {'text': 'opportunity.', 'start': 1496, 'end': 2094, 'confidence': 0.99965, 'speaker': None}, {'text': \"I've\", 'start': 2252, 'end': 2542, 'confidence': 0.63517, 'speaker': None}, {'text': 'been', 'start': 2566, 'end': 2682, 'confidence': 0.99851, 'speaker': None}, {'text': 'learning', 'start': 2696, 'end': 2874, 'confidence': 0.99871, 'speaker': None}, {'text': 'jujitsu,', 'start': 2912, 'end': 3490, 'confidence': 0.36111, 'speaker': None}, {'text': 'and', 'start': 3550, 'end': 3738, 'confidence': 1.0, 'speaker': None}, {'text': 'a', 'start': 3764, 'end': 3918, 'confidence': 0.51, 'speaker': None}, {'text': 'friend', 'start': 3944, 'end': 4134, 'confidence': 0.99985, 'speaker': None}, {'text': 'offered', 'start': 4172, 'end': 4462, 'confidence': 0.95497, 'speaker': None}, {'text': 'to', 'start': 4486, 'end': 4566, 'confidence': 0.58, 'speaker': None}, {'text': 'coach', 'start': 4568, 'end': 4798, 'confidence': 0.56127, 'speaker': None}, {'text': 'me', 'start': 4834, 'end': 5106, 'confidence': 0.99791, 'speaker': None}, {'text': 'in', 'start': 5168, 'end': 5358, 'confidence': 0.51756, 'speaker': None}, {'text': 'exchange', 'start': 5384, 'end': 5734, 'confidence': 0.92816, 'speaker': None}, {'text': 'for', 'start': 5782, 'end': 5958, 'confidence': 0.97, 'speaker': None}, {'text': 'teaching', 'start': 5984, 'end': 6262, 'confidence': 0.99923, 'speaker': None}, {'text': 'him', 'start': 6286, 'end': 6474, 'confidence': 0.99004, 'speaker': None}, {'text': 'how', 'start': 6512, 'end': 6606, 'confidence': 0.99735, 'speaker': None}, {'text': 'to', 'start': 6608, 'end': 6738, 'confidence': 0.98, 'speaker': None}, {'text': 'code.', 'start': 6764, 'end': 7278, 'confidence': 0.98621, 'speaker': None}, {'text': 'At', 'start': 7424, 'end': 7698, 'confidence': 0.52, 'speaker': None}, {'text': 'this', 'start': 7724, 'end': 7842, 'confidence': 0.99865, 'speaker': None}, {'text': 'point', 'start': 7856, 'end': 7962, 'confidence': 1.0, 'speaker': None}, {'text': 'in', 'start': 7976, 'end': 8082, 'confidence': 0.75468, 'speaker': None}, {'text': 'my', 'start': 8096, 'end': 8202, 'confidence': 0.98862, 'speaker': None}, {'text': 'life', 'start': 8216, 'end': 8430, 'confidence': 0.99976, 'speaker': None}, {'text': 'where', 'start': 8480, 'end': 8622, 'confidence': 0.97414, 'speaker': None}, {'text': \"I'm\", 'start': 8636, 'end': 8782, 'confidence': 0.68835, 'speaker': None}, {'text': 'trying', 'start': 8806, 'end': 8922, 'confidence': 0.99065, 'speaker': None}, {'text': 'to', 'start': 8936, 'end': 9042, 'confidence': 0.99, 'speaker': None}, {'text': 'improve', 'start': 9056, 'end': 9322, 'confidence': 0.99839, 'speaker': None}, {'text': 'my', 'start': 9346, 'end': 9462, 'confidence': 0.99857, 'speaker': None}, {'text': 'jiu', 'start': 9476, 'end': 9646, 'confidence': 0.42008, 'speaker': None}, {'text': 'jitsu', 'start': 9658, 'end': 10018, 'confidence': 0.71025, 'speaker': None}, {'text': 'as', 'start': 10054, 'end': 10254, 'confidence': 0.99668, 'speaker': None}, {'text': 'quickly', 'start': 10292, 'end': 10530, 'confidence': 0.99933, 'speaker': None}, {'text': 'as', 'start': 10580, 'end': 10722, 'confidence': 0.99862, 'speaker': None}, {'text': 'possible,', 'start': 10736, 'end': 11238, 'confidence': 0.99992, 'speaker': None}, {'text': 'this', 'start': 11384, 'end': 11694, 'confidence': 0.99869, 'speaker': None}, {'text': 'was', 'start': 11732, 'end': 11934, 'confidence': 0.99662, 'speaker': None}, {'text': 'an', 'start': 11972, 'end': 12138, 'confidence': 0.99662, 'speaker': None}, {'text': 'incredible', 'start': 12164, 'end': 12634, 'confidence': 0.99969, 'speaker': None}, {'text': 'trade', 'start': 12682, 'end': 12922, 'confidence': 0.98318, 'speaker': None}, {'text': 'for', 'start': 12946, 'end': 13062, 'confidence': 1.0, 'speaker': None}, {'text': 'me.', 'start': 13076, 'end': 13290, 'confidence': 0.99799, 'speaker': None}, {'text': 'In', 'start': 13340, 'end': 13482, 'confidence': 0.9905, 'speaker': None}, {'text': 'my', 'start': 13496, 'end': 13602, 'confidence': 0.99918, 'speaker': None}, {'text': 'personal', 'start': 13616, 'end': 13866, 'confidence': 0.99654, 'speaker': None}, {'text': 'opinion,', 'start': 13928, 'end': 14290, 'confidence': 0.99879, 'speaker': None}, {'text': 'I', 'start': 14350, 'end': 14502, 'confidence': 0.86, 'speaker': None}, {'text': 'was', 'start': 14516, 'end': 14622, 'confidence': 0.99883, 'speaker': None}, {'text': 'all', 'start': 14636, 'end': 14742, 'confidence': 0.9907, 'speaker': None}, {'text': 'for', 'start': 14756, 'end': 15042, 'confidence': 0.91, 'speaker': None}, {'text': 'until', 'start': 15116, 'end': 15354, 'confidence': 0.73999, 'speaker': None}, {'text': 'I', 'start': 15392, 'end': 15522, 'confidence': 1.0, 'speaker': None}, {'text': 'had', 'start': 15536, 'end': 15642, 'confidence': 0.99516, 'speaker': None}, {'text': 'to', 'start': 15656, 'end': 15762, 'confidence': 1.0, 'speaker': None}, {'text': 'think', 'start': 15776, 'end': 15918, 'confidence': 0.99957, 'speaker': None}, {'text': 'about', 'start': 15944, 'end': 16098, 'confidence': 0.99771, 'speaker': None}, {'text': 'how', 'start': 16124, 'end': 16242, 'confidence': 0.99821, 'speaker': None}, {'text': \"I'd\", 'start': 16256, 'end': 16438, 'confidence': 0.54802, 'speaker': None}, {'text': 'actually', 'start': 16474, 'end': 16782, 'confidence': 0.99731, 'speaker': None}, {'text': 'go', 'start': 16856, 'end': 17022, 'confidence': 0.99922, 'speaker': None}, {'text': 'about', 'start': 17036, 'end': 17250, 'confidence': 0.99962, 'speaker': None}, {'text': 'teaching', 'start': 17300, 'end': 17578, 'confidence': 0.58901, 'speaker': None}, {'text': 'someone', 'start': 17614, 'end': 17814, 'confidence': 0.99915, 'speaker': None}, {'text': 'how', 'start': 17852, 'end': 17982, 'confidence': 0.57285, 'speaker': None}, {'text': 'to', 'start': 17996, 'end': 18138, 'confidence': 0.99, 'speaker': None}, {'text': 'code', 'start': 18164, 'end': 18534, 'confidence': 0.99967, 'speaker': None}, {'text': 'starting', 'start': 18632, 'end': 18894, 'confidence': 0.99475, 'speaker': None}, {'text': 'from', 'start': 18932, 'end': 19098, 'confidence': 0.99725, 'speaker': None}, {'text': 'nothing,', 'start': 19124, 'end': 19422, 'confidence': 0.99985, 'speaker': None}, {'text': 'I', 'start': 19496, 'end': 19734, 'confidence': 0.98, 'speaker': None}, {'text': 'quickly', 'start': 19772, 'end': 20010, 'confidence': 0.99981, 'speaker': None}, {'text': 'realized', 'start': 20060, 'end': 20458, 'confidence': 0.51917, 'speaker': None}, {'text': 'that', 'start': 20494, 'end': 20658, 'confidence': 0.98526, 'speaker': None}, {'text': 'this', 'start': 20684, 'end': 20802, 'confidence': 0.99875, 'speaker': None}, {'text': 'was', 'start': 20816, 'end': 20958, 'confidence': 0.93467, 'speaker': None}, {'text': 'going', 'start': 20984, 'end': 21066, 'confidence': 0.9896, 'speaker': None}, {'text': 'to', 'start': 21068, 'end': 21126, 'confidence': 1.0, 'speaker': None}, {'text': 'be', 'start': 21128, 'end': 21222, 'confidence': 0.99741, 'speaker': None}, {'text': 'a', 'start': 21236, 'end': 21306, 'confidence': 1.0, 'speaker': None}, {'text': 'lot', 'start': 21308, 'end': 21474, 'confidence': 0.97536, 'speaker': None}, {'text': 'harder', 'start': 21512, 'end': 21862, 'confidence': 0.73014, 'speaker': None}, {'text': 'than', 'start': 21886, 'end': 22038, 'confidence': 0.9989, 'speaker': None}, {'text': 'I', 'start': 22064, 'end': 22182, 'confidence': 1.0, 'speaker': None}, {'text': 'thought.', 'start': 22196, 'end': 22698, 'confidence': 0.99926, 'speaker': None}, {'text': 'After', 'start': 22844, 'end': 23154, 'confidence': 0.78964, 'speaker': None}, {'text': 'all,', 'start': 23192, 'end': 23394, 'confidence': 0.99313, 'speaker': None}, {'text': \"it's\", 'start': 23432, 'end': 23662, 'confidence': 0.7353, 'speaker': None}, {'text': 'been', 'start': 23686, 'end': 23838, 'confidence': 0.99492, 'speaker': None}, {'text': 'almost', 'start': 23864, 'end': 24090, 'confidence': 0.99928, 'speaker': None}, {'text': 'ten', 'start': 24140, 'end': 24354, 'confidence': 0.79, 'speaker': None}, {'text': 'years', 'start': 24392, 'end': 24630, 'confidence': 0.99995, 'speaker': None}, {'text': 'since', 'start': 24680, 'end': 24858, 'confidence': 0.99976, 'speaker': None}, {'text': 'I', 'start': 24884, 'end': 24966, 'confidence': 1.0, 'speaker': None}, {'text': 'wrote', 'start': 24968, 'end': 25102, 'confidence': 0.60524, 'speaker': None}, {'text': 'my', 'start': 25126, 'end': 25278, 'confidence': 0.99878, 'speaker': None}, {'text': 'very', 'start': 25304, 'end': 25494, 'confidence': 0.9938, 'speaker': None}, {'text': 'first', 'start': 25532, 'end': 25734, 'confidence': 1.0, 'speaker': None}, {'text': 'line', 'start': 25772, 'end': 25902, 'confidence': 0.9931, 'speaker': None}, {'text': 'of', 'start': 25916, 'end': 26022, 'confidence': 0.98, 'speaker': None}, {'text': 'code.', 'start': 26036, 'end': 26250, 'confidence': 0.99905, 'speaker': None}, {'text': \"That's\", 'start': 26300, 'end': 26542, 'confidence': 0.5604, 'speaker': None}, {'text': 'a', 'start': 26566, 'end': 26718, 'confidence': 0.98, 'speaker': None}, {'text': 'pretty', 'start': 26744, 'end': 26970, 'confidence': 0.99788, 'speaker': None}, {'text': 'long', 'start': 27020, 'end': 27234, 'confidence': 0.99974, 'speaker': None}, {'text': 'time.', 'start': 27272, 'end': 27510, 'confidence': 0.99989, 'speaker': None}, {'text': 'Now,', 'start': 27560, 'end': 27702, 'confidence': 0.85514, 'speaker': None}, {'text': 'this', 'start': 27716, 'end': 27894, 'confidence': 0.99887, 'speaker': None}, {'text': 'video', 'start': 27932, 'end': 28242, 'confidence': 0.99959, 'speaker': None}, {'text': 'is', 'start': 28316, 'end': 28518, 'confidence': 0.99674, 'speaker': None}, {'text': 'about', 'start': 28544, 'end': 28734, 'confidence': 0.99914, 'speaker': None}, {'text': 'the', 'start': 28772, 'end': 28974, 'confidence': 0.99, 'speaker': None}, {'text': 'very', 'start': 29012, 'end': 29250, 'confidence': 0.99629, 'speaker': None}, {'text': 'specific', 'start': 29300, 'end': 29658, 'confidence': 0.99989, 'speaker': None}, {'text': 'and', 'start': 29744, 'end': 29958, 'confidence': 1.0, 'speaker': None}, {'text': 'detailed', 'start': 29984, 'end': 30322, 'confidence': 0.95651, 'speaker': None}, {'text': 'plan', 'start': 30346, 'end': 30714, 'confidence': 0.99987, 'speaker': None}, {'text': 'that', 'start': 30812, 'end': 31002, 'confidence': 0.98816, 'speaker': None}, {'text': 'I', 'start': 31016, 'end': 31122, 'confidence': 1.0, 'speaker': None}, {'text': 'wrote', 'start': 31136, 'end': 31282, 'confidence': 0.9975, 'speaker': None}, {'text': 'for', 'start': 31306, 'end': 31458, 'confidence': 0.93, 'speaker': None}, {'text': 'my', 'start': 31484, 'end': 31602, 'confidence': 0.99667, 'speaker': None}, {'text': 'friend', 'start': 31616, 'end': 31794, 'confidence': 0.99643, 'speaker': None}, {'text': 'to', 'start': 31832, 'end': 31962, 'confidence': 0.96, 'speaker': None}, {'text': 'teach', 'start': 31976, 'end': 32118, 'confidence': 0.99978, 'speaker': None}, {'text': 'me', 'start': 32144, 'end': 32262, 'confidence': 0.34315, 'speaker': None}, {'text': 'the', 'start': 32276, 'end': 32418, 'confidence': 0.99, 'speaker': None}, {'text': 'basics', 'start': 32444, 'end': 32698, 'confidence': 0.99831, 'speaker': None}, {'text': 'of', 'start': 32734, 'end': 32862, 'confidence': 1.0, 'speaker': None}, {'text': 'coding', 'start': 32876, 'end': 33178, 'confidence': 0.99862, 'speaker': None}, {'text': 'for', 'start': 33214, 'end': 33378, 'confidence': 1.0, 'speaker': None}, {'text': 'data', 'start': 33404, 'end': 33594, 'confidence': 0.99978, 'speaker': None}, {'text': 'science.', 'start': 33632, 'end': 33934, 'confidence': 0.98588, 'speaker': None}, {'text': 'Since', 'start': 33982, 'end': 34194, 'confidence': 0.99876, 'speaker': None}, {'text': 'I', 'start': 34232, 'end': 34326, 'confidence': 1.0, 'speaker': None}, {'text': 'did', 'start': 34328, 'end': 34458, 'confidence': 0.99745, 'speaker': None}, {'text': 'all', 'start': 34484, 'end': 34566, 'confidence': 0.99909, 'speaker': None}, {'text': 'the', 'start': 34568, 'end': 34662, 'confidence': 0.89, 'speaker': None}, {'text': 'work', 'start': 34676, 'end': 34782, 'confidence': 0.99967, 'speaker': None}, {'text': 'for', 'start': 34796, 'end': 34938, 'confidence': 0.96, 'speaker': None}, {'text': 'him,', 'start': 34964, 'end': 35190, 'confidence': 0.99944, 'speaker': None}, {'text': 'I', 'start': 35240, 'end': 35418, 'confidence': 0.99, 'speaker': None}, {'text': 'figured', 'start': 35444, 'end': 35758, 'confidence': 0.99932, 'speaker': None}, {'text': 'I', 'start': 35794, 'end': 35922, 'confidence': 1.0, 'speaker': None}, {'text': 'might', 'start': 35936, 'end': 36078, 'confidence': 0.99894, 'speaker': None}, {'text': 'as', 'start': 36104, 'end': 36222, 'confidence': 0.52976, 'speaker': None}, {'text': 'well', 'start': 36236, 'end': 36414, 'confidence': 0.99953, 'speaker': None}, {'text': 'share', 'start': 36452, 'end': 36618, 'confidence': 0.99955, 'speaker': None}, {'text': 'the', 'start': 36644, 'end': 36798, 'confidence': 0.98, 'speaker': None}, {'text': 'details', 'start': 36824, 'end': 37102, 'confidence': 0.89684, 'speaker': None}, {'text': 'with', 'start': 37126, 'end': 37242, 'confidence': 0.99741, 'speaker': None}, {'text': 'you', 'start': 37256, 'end': 37362, 'confidence': 0.99829, 'speaker': None}, {'text': 'as', 'start': 37376, 'end': 37482, 'confidence': 0.99212, 'speaker': None}, {'text': 'well.', 'start': 37496, 'end': 37638, 'confidence': 0.99954, 'speaker': None}, {'text': 'Here.', 'start': 37664, 'end': 37926, 'confidence': 0.98026, 'speaker': None}, {'text': 'There', 'start': 37988, 'end': 38142, 'confidence': 0.97992, 'speaker': None}, {'text': 'have', 'start': 38156, 'end': 38226, 'confidence': 0.84338, 'speaker': None}, {'text': 'been', 'start': 38228, 'end': 38358, 'confidence': 0.96249, 'speaker': None}, {'text': 'plenty', 'start': 38384, 'end': 38578, 'confidence': 0.51565, 'speaker': None}, {'text': 'of', 'start': 38614, 'end': 38742, 'confidence': 1.0, 'speaker': None}, {'text': 'other', 'start': 38756, 'end': 38934, 'confidence': 0.99751, 'speaker': None}, {'text': 'great', 'start': 38972, 'end': 39174, 'confidence': 0.99889, 'speaker': None}, {'text': 'videos', 'start': 39212, 'end': 39522, 'confidence': 0.99827, 'speaker': None}, {'text': 'similar', 'start': 39596, 'end': 39870, 'confidence': 0.99965, 'speaker': None}, {'text': 'to', 'start': 39920, 'end': 40098, 'confidence': 1.0, 'speaker': None}, {'text': 'this', 'start': 40124, 'end': 40314, 'confidence': 0.99534, 'speaker': None}, {'text': 'about', 'start': 40352, 'end': 40554, 'confidence': 0.99917, 'speaker': None}, {'text': 'how', 'start': 40592, 'end': 40722, 'confidence': 0.99916, 'speaker': None}, {'text': 'to', 'start': 40736, 'end': 40842, 'confidence': 0.99, 'speaker': None}, {'text': 'start', 'start': 40856, 'end': 41034, 'confidence': 0.99974, 'speaker': None}, {'text': 'coding,', 'start': 41072, 'end': 41470, 'confidence': 0.58002, 'speaker': None}, {'text': 'and', 'start': 41530, 'end': 41682, 'confidence': 0.95, 'speaker': None}, {'text': \"I've\", 'start': 41696, 'end': 41902, 'confidence': 0.72361, 'speaker': None}, {'text': 'linked', 'start': 41926, 'end': 42178, 'confidence': 0.99268, 'speaker': None}, {'text': 'many', 'start': 42214, 'end': 42378, 'confidence': 0.9991, 'speaker': None}, {'text': 'of', 'start': 42404, 'end': 42522, 'confidence': 1.0, 'speaker': None}, {'text': 'them', 'start': 42536, 'end': 42678, 'confidence': 1.0, 'speaker': None}, {'text': 'in', 'start': 42704, 'end': 42786, 'confidence': 0.99923, 'speaker': None}, {'text': 'the', 'start': 42788, 'end': 42918, 'confidence': 0.51, 'speaker': None}, {'text': 'description.', 'start': 42944, 'end': 43426, 'confidence': 0.62074, 'speaker': None}, {'text': 'Again,', 'start': 43498, 'end': 43770, 'confidence': 0.9947, 'speaker': None}, {'text': 'those', 'start': 43820, 'end': 43962, 'confidence': 0.99851, 'speaker': None}, {'text': 'are', 'start': 43976, 'end': 44118, 'confidence': 0.97847, 'speaker': None}, {'text': 'great,', 'start': 44144, 'end': 44370, 'confidence': 0.99974, 'speaker': None}, {'text': 'but', 'start': 44420, 'end': 44634, 'confidence': 0.99538, 'speaker': None}, {'text': 'I', 'start': 44672, 'end': 44802, 'confidence': 1.0, 'speaker': None}, {'text': 'think', 'start': 44816, 'end': 44958, 'confidence': 0.99894, 'speaker': None}, {'text': 'this', 'start': 44984, 'end': 45138, 'confidence': 0.66152, 'speaker': None}, {'text': 'is', 'start': 45164, 'end': 45282, 'confidence': 0.98733, 'speaker': None}, {'text': 'a', 'start': 45296, 'end': 45366, 'confidence': 0.98, 'speaker': None}, {'text': 'bit', 'start': 45368, 'end': 45498, 'confidence': 0.99859, 'speaker': None}, {'text': 'different', 'start': 45524, 'end': 45786, 'confidence': 0.99959, 'speaker': None}, {'text': 'because', 'start': 45848, 'end': 46074, 'confidence': 0.99888, 'speaker': None}, {'text': \"it's\", 'start': 46112, 'end': 46318, 'confidence': 0.53056, 'speaker': None}, {'text': 'more', 'start': 46354, 'end': 46518, 'confidence': 0.99959, 'speaker': None}, {'text': 'focused', 'start': 46544, 'end': 46846, 'confidence': 0.9803, 'speaker': None}, {'text': 'on', 'start': 46858, 'end': 46998, 'confidence': 0.99861, 'speaker': None}, {'text': 'coding', 'start': 47024, 'end': 47302, 'confidence': 0.98054, 'speaker': None}, {'text': 'for', 'start': 47326, 'end': 47514, 'confidence': 1.0, 'speaker': None}, {'text': 'data', 'start': 47552, 'end': 47934, 'confidence': 0.99946, 'speaker': None}, {'text': 'and', 'start': 48032, 'end': 48258, 'confidence': 0.96, 'speaker': None}, {'text': 'it', 'start': 48284, 'end': 48402, 'confidence': 0.99, 'speaker': None}, {'text': 'uses', 'start': 48416, 'end': 48682, 'confidence': 0.99807, 'speaker': None}, {'text': 'a', 'start': 48706, 'end': 48858, 'confidence': 0.99, 'speaker': None}, {'text': 'very', 'start': 48884, 'end': 49110, 'confidence': 0.99799, 'speaker': None}, {'text': 'specific', 'start': 49160, 'end': 49662, 'confidence': 0.92892, 'speaker': None}, {'text': 'real', 'start': 49796, 'end': 50058, 'confidence': 1.0, 'speaker': None}, {'text': 'world', 'start': 50084, 'end': 50346, 'confidence': 0.47039, 'speaker': None}, {'text': 'case', 'start': 50408, 'end': 50598, 'confidence': 0.9941, 'speaker': None}, {'text': 'study.', 'start': 50624, 'end': 51174, 'confidence': 0.81237, 'speaker': None}, {'text': 'At', 'start': 51332, 'end': 51582, 'confidence': 1.0, 'speaker': None}, {'text': 'the', 'start': 51596, 'end': 51702, 'confidence': 1.0, 'speaker': None}, {'text': 'end,', 'start': 51716, 'end': 51858, 'confidence': 0.99996, 'speaker': None}, {'text': 'I', 'start': 51884, 'end': 52038, 'confidence': 1.0, 'speaker': None}, {'text': 'also', 'start': 52064, 'end': 52254, 'confidence': 0.99578, 'speaker': None}, {'text': 'highlight', 'start': 52292, 'end': 52558, 'confidence': 0.99974, 'speaker': None}, {'text': 'the', 'start': 52594, 'end': 52830, 'confidence': 0.96, 'speaker': None}, {'text': 'three', 'start': 52880, 'end': 53094, 'confidence': 1.0, 'speaker': None}, {'text': 'most', 'start': 53132, 'end': 53334, 'confidence': 0.99924, 'speaker': None}, {'text': 'important', 'start': 53372, 'end': 53682, 'confidence': 0.99762, 'speaker': None}, {'text': 'things', 'start': 53756, 'end': 54174, 'confidence': 0.99854, 'speaker': None}, {'text': 'a', 'start': 54272, 'end': 54462, 'confidence': 1.0, 'speaker': None}, {'text': 'new', 'start': 54476, 'end': 54654, 'confidence': 1.0, 'speaker': None}, {'text': 'programmer', 'start': 54692, 'end': 55162, 'confidence': 0.50752, 'speaker': None}, {'text': 'should', 'start': 55186, 'end': 55338, 'confidence': 0.99969, 'speaker': None}, {'text': 'know.', 'start': 55364, 'end': 55662, 'confidence': 0.72332, 'speaker': None}, {'text': 'So', 'start': 55736, 'end': 55938, 'confidence': 0.84926, 'speaker': None}, {'text': 'you', 'start': 55964, 'end': 56118, 'confidence': 0.99815, 'speaker': None}, {'text': 'definitely', 'start': 56144, 'end': 56406, 'confidence': 0.99834, 'speaker': None}, {'text': 'want', 'start': 56468, 'end': 56586, 'confidence': 0.99864, 'speaker': None}, {'text': 'to', 'start': 56588, 'end': 56682, 'confidence': 0.88, 'speaker': None}, {'text': 'stick', 'start': 56696, 'end': 56842, 'confidence': 0.99915, 'speaker': None}, {'text': 'around', 'start': 56866, 'end': 57126, 'confidence': 0.99643, 'speaker': None}, {'text': 'for', 'start': 57188, 'end': 57378, 'confidence': 1.0, 'speaker': None}, {'text': 'that.', 'start': 57404, 'end': 57666, 'confidence': 0.99899, 'speaker': None}, {'text': \"Let's\", 'start': 57728, 'end': 57982, 'confidence': 0.47271, 'speaker': None}, {'text': 'start', 'start': 58006, 'end': 58230, 'confidence': 0.66272, 'speaker': None}, {'text': 'with', 'start': 58280, 'end': 58422, 'confidence': 0.99976, 'speaker': None}, {'text': 'the', 'start': 58436, 'end': 58578, 'confidence': 0.98, 'speaker': None}, {'text': 'language', 'start': 58604, 'end': 58954, 'confidence': 0.99848, 'speaker': None}, {'text': 'that', 'start': 59002, 'end': 59214, 'confidence': 0.9929, 'speaker': None}, {'text': 'we', 'start': 59252, 'end': 59382, 'confidence': 0.99865, 'speaker': None}, {'text': 'should', 'start': 59396, 'end': 59574, 'confidence': 0.99935, 'speaker': None}, {'text': 'start', 'start': 59612, 'end': 59814, 'confidence': 0.99884, 'speaker': None}, {'text': 'learning.', 'start': 59852, 'end': 60342, 'confidence': 0.99981, 'speaker': None}, {'text': 'I', 'start': 60476, 'end': 60702, 'confidence': 0.96, 'speaker': None}, {'text': 'know', 'start': 60716, 'end': 60858, 'confidence': 0.8461, 'speaker': None}, {'text': 'if', 'start': 60884, 'end': 61002, 'confidence': 0.99605, 'speaker': None}, {'text': \"you're\", 'start': 61016, 'end': 61162, 'confidence': 0.96369, 'speaker': None}, {'text': 'working', 'start': 61186, 'end': 61374, 'confidence': 0.99981, 'speaker': None}, {'text': 'with', 'start': 61412, 'end': 61578, 'confidence': 0.96008, 'speaker': None}, {'text': 'data,', 'start': 61604, 'end': 61902, 'confidence': 0.99859, 'speaker': None}, {'text': 'you', 'start': 61976, 'end': 62214, 'confidence': 0.99706, 'speaker': None}, {'text': 'generally', 'start': 62252, 'end': 62614, 'confidence': 0.96163, 'speaker': None}, {'text': 'have', 'start': 62662, 'end': 62910, 'confidence': 0.99447, 'speaker': None}, {'text': 'two', 'start': 62960, 'end': 63138, 'confidence': 1.0, 'speaker': None}, {'text': 'good', 'start': 63164, 'end': 63354, 'confidence': 0.99794, 'speaker': None}, {'text': 'choices.', 'start': 63392, 'end': 63862, 'confidence': 0.96714, 'speaker': None}, {'text': 'They', 'start': 63946, 'end': 64122, 'confidence': 0.50374, 'speaker': None}, {'text': 'would', 'start': 64136, 'end': 64278, 'confidence': 0.74101, 'speaker': None}, {'text': 'either', 'start': 64304, 'end': 64458, 'confidence': 0.9942, 'speaker': None}, {'text': 'start', 'start': 64484, 'end': 64602, 'confidence': 0.99934, 'speaker': None}, {'text': 'with', 'start': 64616, 'end': 64758, 'confidence': 0.99, 'speaker': None}, {'text': 'Python', 'start': 64784, 'end': 65230, 'confidence': 0.81417, 'speaker': None}, {'text': 'or', 'start': 65290, 'end': 65478, 'confidence': 0.99872, 'speaker': None}, {'text': 'R.', 'start': 65504, 'end': 65838, 'confidence': 0.99, 'speaker': None}, {'text': \"Let's\", 'start': 65924, 'end': 66238, 'confidence': 0.98092, 'speaker': None}, {'text': 'quickly', 'start': 66274, 'end': 66510, 'confidence': 0.99981, 'speaker': None}, {'text': 'compare', 'start': 66560, 'end': 66934, 'confidence': 0.99967, 'speaker': None}, {'text': 'the', 'start': 66982, 'end': 67122, 'confidence': 1.0, 'speaker': None}, {'text': 'two', 'start': 67136, 'end': 67386, 'confidence': 1.0, 'speaker': None}, {'text': 'languages', 'start': 67448, 'end': 67858, 'confidence': 0.56267, 'speaker': None}, {'text': 'data', 'start': 67954, 'end': 68214, 'confidence': 0.99219, 'speaker': None}, {'text': 'Science', 'start': 68252, 'end': 68554, 'confidence': 0.84555, 'speaker': None}, {'text': 'Style', 'start': 68602, 'end': 69298, 'confidence': 0.97408, 'speaker': None}, {'text': 'when', 'start': 69454, 'end': 69774, 'confidence': 0.99853, 'speaker': None}, {'text': 'looking', 'start': 69812, 'end': 69978, 'confidence': 0.99958, 'speaker': None}, {'text': 'at', 'start': 70004, 'end': 70122, 'confidence': 1.0, 'speaker': None}, {'text': 'the', 'start': 70136, 'end': 70278, 'confidence': 0.99, 'speaker': None}, {'text': 'Stack', 'start': 70304, 'end': 70594, 'confidence': 0.99882, 'speaker': None}, {'text': 'Overflow', 'start': 70642, 'end': 71098, 'confidence': 0.9887, 'speaker': None}, {'text': 'developer', 'start': 71134, 'end': 71578, 'confidence': 0.97731, 'speaker': None}, {'text': 'survey,', 'start': 71614, 'end': 72046, 'confidence': 0.99553, 'speaker': None}, {'text': 'we', 'start': 72118, 'end': 72318, 'confidence': 0.99975, 'speaker': None}, {'text': 'find', 'start': 72344, 'end': 72498, 'confidence': 0.98798, 'speaker': None}, {'text': 'that', 'start': 72524, 'end': 72678, 'confidence': 0.99668, 'speaker': None}, {'text': 'about', 'start': 72704, 'end': 72930, 'confidence': 0.99483, 'speaker': None}, {'text': '48%', 'start': 72980, 'end': 73674, 'confidence': 0.99, 'speaker': None}, {'text': 'of', 'start': 73712, 'end': 73842, 'confidence': 1.0, 'speaker': None}, {'text': 'respondents', 'start': 73856, 'end': 74314, 'confidence': 0.99559, 'speaker': None}, {'text': 'use', 'start': 74362, 'end': 74574, 'confidence': 0.96168, 'speaker': None}, {'text': 'Python,', 'start': 74612, 'end': 75142, 'confidence': 0.99711, 'speaker': None}, {'text': 'while', 'start': 75226, 'end': 75510, 'confidence': 0.82938, 'speaker': None}, {'text': 'only', 'start': 75560, 'end': 75774, 'confidence': 0.99917, 'speaker': None}, {'text': 'about', 'start': 75812, 'end': 76086, 'confidence': 0.99923, 'speaker': None}, {'text': '5%', 'start': 76148, 'end': 76686, 'confidence': 1.0, 'speaker': None}, {'text': 'user.', 'start': 76748, 'end': 77242, 'confidence': 0.90565, 'speaker': None}, {'text': 'In', 'start': 77326, 'end': 77538, 'confidence': 0.99663, 'speaker': None}, {'text': 'industry,', 'start': 77564, 'end': 78082, 'confidence': 0.9972, 'speaker': None}, {'text': 'Python', 'start': 78166, 'end': 78658, 'confidence': 0.74853, 'speaker': None}, {'text': 'is', 'start': 78694, 'end': 78822, 'confidence': 0.99938, 'speaker': None}, {'text': 'a', 'start': 78836, 'end': 79014, 'confidence': 0.99, 'speaker': None}, {'text': 'far', 'start': 79052, 'end': 79218, 'confidence': 0.99934, 'speaker': None}, {'text': 'more', 'start': 79244, 'end': 79434, 'confidence': 0.69678, 'speaker': None}, {'text': 'common', 'start': 79472, 'end': 79710, 'confidence': 0.99994, 'speaker': None}, {'text': 'language.', 'start': 79760, 'end': 80290, 'confidence': 0.98497, 'speaker': None}, {'text': \"Let's\", 'start': 80410, 'end': 80782, 'confidence': 0.94888, 'speaker': None}, {'text': 'now', 'start': 80806, 'end': 80958, 'confidence': 0.99006, 'speaker': None}, {'text': 'look', 'start': 80984, 'end': 81210, 'confidence': 0.99843, 'speaker': None}, {'text': 'more', 'start': 81260, 'end': 81474, 'confidence': 0.99745, 'speaker': None}, {'text': 'specifically', 'start': 81512, 'end': 82246, 'confidence': 0.89906, 'speaker': None}, {'text': 'a', 'start': 82318, 'end': 82482, 'confidence': 0.38, 'speaker': None}, {'text': 'data', 'start': 82496, 'end': 82710, 'confidence': 0.99964, 'speaker': None}, {'text': 'scientist,', 'start': 82760, 'end': 83338, 'confidence': 0.80456, 'speaker': None}, {'text': 'not', 'start': 83434, 'end': 83694, 'confidence': 0.9972, 'speaker': None}, {'text': 'just', 'start': 83732, 'end': 83898, 'confidence': 0.9967, 'speaker': None}, {'text': 'all', 'start': 83924, 'end': 84042, 'confidence': 0.99223, 'speaker': None}, {'text': 'Stack', 'start': 84056, 'end': 84262, 'confidence': 0.94526, 'speaker': None}, {'text': 'Overflow', 'start': 84286, 'end': 84742, 'confidence': 0.67702, 'speaker': None}, {'text': 'users', 'start': 84766, 'end': 85078, 'confidence': 0.89539, 'speaker': None}, {'text': 'who', 'start': 85114, 'end': 85242, 'confidence': 0.9971, 'speaker': None}, {'text': 'come', 'start': 85256, 'end': 85398, 'confidence': 0.9976, 'speaker': None}, {'text': 'from', 'start': 85424, 'end': 85614, 'confidence': 0.99957, 'speaker': None}, {'text': 'a', 'start': 85652, 'end': 85782, 'confidence': 0.99, 'speaker': None}, {'text': 'variety', 'start': 85796, 'end': 86098, 'confidence': 0.47022, 'speaker': None}, {'text': 'of', 'start': 86134, 'end': 86298, 'confidence': 0.94, 'speaker': None}, {'text': 'backgrounds.', 'start': 86324, 'end': 86962, 'confidence': 0.98932, 'speaker': None}, {'text': 'On', 'start': 87046, 'end': 87258, 'confidence': 0.99891, 'speaker': None}, {'text': 'Kaggle,', 'start': 87284, 'end': 87730, 'confidence': 0.81, 'speaker': None}, {'text': 'my', 'start': 87790, 'end': 87978, 'confidence': 0.99877, 'speaker': None}, {'text': 'favorite', 'start': 88004, 'end': 88318, 'confidence': 0.99584, 'speaker': None}, {'text': 'platform', 'start': 88354, 'end': 88662, 'confidence': 0.99991, 'speaker': None}, {'text': 'for', 'start': 88736, 'end': 88902, 'confidence': 1.0, 'speaker': None}, {'text': 'data', 'start': 88916, 'end': 89094, 'confidence': 0.9376, 'speaker': None}, {'text': 'science', 'start': 89132, 'end': 89434, 'confidence': 0.99735, 'speaker': None}, {'text': 'learning', 'start': 89482, 'end': 89730, 'confidence': 0.99982, 'speaker': None}, {'text': 'and', 'start': 89780, 'end': 89958, 'confidence': 1.0, 'speaker': None}, {'text': 'projects,', 'start': 89984, 'end': 90562, 'confidence': 0.80285, 'speaker': None}, {'text': 'we', 'start': 90646, 'end': 90822, 'confidence': 0.99938, 'speaker': None}, {'text': 'can', 'start': 90836, 'end': 90978, 'confidence': 0.98059, 'speaker': None}, {'text': 'see', 'start': 91004, 'end': 91122, 'confidence': 0.99951, 'speaker': None}, {'text': 'that', 'start': 91136, 'end': 91278, 'confidence': 0.99598, 'speaker': None}, {'text': 'around', 'start': 91304, 'end': 91602, 'confidence': 0.99942, 'speaker': None}, {'text': '84.2%', 'start': 91676, 'end': 92874, 'confidence': 0.89, 'speaker': None}, {'text': 'of', 'start': 92912, 'end': 93042, 'confidence': 1.0, 'speaker': None}, {'text': 'respondents', 'start': 93056, 'end': 93586, 'confidence': 0.99337, 'speaker': None}, {'text': 'use', 'start': 93658, 'end': 93894, 'confidence': 0.75276, 'speaker': None}, {'text': 'Python,', 'start': 93932, 'end': 94486, 'confidence': 0.65254, 'speaker': None}, {'text': 'while', 'start': 94558, 'end': 94794, 'confidence': 0.9966, 'speaker': None}, {'text': 'only', 'start': 94832, 'end': 95070, 'confidence': 0.99805, 'speaker': None}, {'text': '25%', 'start': 95120, 'end': 96246, 'confidence': 0.96, 'speaker': None}, {'text': 'use', 'start': 96308, 'end': 96498, 'confidence': 0.99414, 'speaker': None}, {'text': 'R.', 'start': 96524, 'end': 97002, 'confidence': 0.72, 'speaker': None}, {'text': 'Since', 'start': 97136, 'end': 97470, 'confidence': 0.99956, 'speaker': None}, {'text': 'these', 'start': 97520, 'end': 97698, 'confidence': 0.99229, 'speaker': None}, {'text': 'add', 'start': 97724, 'end': 97842, 'confidence': 0.99378, 'speaker': None}, {'text': 'up', 'start': 97856, 'end': 97962, 'confidence': 0.99857, 'speaker': None}, {'text': 'to', 'start': 97976, 'end': 98118, 'confidence': 1.0, 'speaker': None}, {'text': 'more', 'start': 98144, 'end': 98262, 'confidence': 0.99934, 'speaker': None}, {'text': 'than', 'start': 98276, 'end': 98382, 'confidence': 0.99947, 'speaker': None}, {'text': '100%,', 'start': 98396, 'end': 99114, 'confidence': 0.94, 'speaker': None}, {'text': 'we', 'start': 99212, 'end': 99438, 'confidence': 0.62629, 'speaker': None}, {'text': 'can', 'start': 99464, 'end': 99582, 'confidence': 0.99786, 'speaker': None}, {'text': 'assume', 'start': 99596, 'end': 99898, 'confidence': 0.99974, 'speaker': None}, {'text': 'that', 'start': 99934, 'end': 100134, 'confidence': 0.99532, 'speaker': None}, {'text': 'some', 'start': 100172, 'end': 100374, 'confidence': 0.99964, 'speaker': None}, {'text': 'data', 'start': 100412, 'end': 100614, 'confidence': 0.99984, 'speaker': None}, {'text': 'scientists', 'start': 100652, 'end': 101146, 'confidence': 0.97686, 'speaker': None}, {'text': 'are', 'start': 101218, 'end': 101418, 'confidence': 0.99831, 'speaker': None}, {'text': 'using', 'start': 101444, 'end': 101670, 'confidence': 0.99968, 'speaker': None}, {'text': 'both', 'start': 101720, 'end': 101970, 'confidence': 0.99944, 'speaker': None}, {'text': 'languages.', 'start': 102020, 'end': 102514, 'confidence': 0.99934, 'speaker': None}, {'text': 'Finally,', 'start': 102622, 'end': 103074, 'confidence': 0.99922, 'speaker': None}, {'text': \"let's\", 'start': 103172, 'end': 103402, 'confidence': 0.97679, 'speaker': None}, {'text': 'look', 'start': 103426, 'end': 103542, 'confidence': 0.99982, 'speaker': None}, {'text': 'at', 'start': 103556, 'end': 103662, 'confidence': 1.0, 'speaker': None}, {'text': 'these', 'start': 103676, 'end': 103818, 'confidence': 0.99274, 'speaker': None}, {'text': 'two', 'start': 103844, 'end': 104034, 'confidence': 1.0, 'speaker': None}, {'text': 'languages', 'start': 104072, 'end': 104482, 'confidence': 0.99918, 'speaker': None}, {'text': 'over', 'start': 104566, 'end': 104886, 'confidence': 0.99982, 'speaker': None}, {'text': 'time.', 'start': 104948, 'end': 105246, 'confidence': 0.69516, 'speaker': None}, {'text': 'We', 'start': 105308, 'end': 105462, 'confidence': 0.99852, 'speaker': None}, {'text': 'can', 'start': 105476, 'end': 105582, 'confidence': 0.99807, 'speaker': None}, {'text': 'see', 'start': 105596, 'end': 105774, 'confidence': 0.99943, 'speaker': None}, {'text': 'here', 'start': 105812, 'end': 106158, 'confidence': 0.99868, 'speaker': None}, {'text': 'from', 'start': 106244, 'end': 106566, 'confidence': 0.99791, 'speaker': None}, {'text': '2020', 'start': 106628, 'end': 107166, 'confidence': 0.89, 'speaker': None}, {'text': 'to', 'start': 107228, 'end': 107418, 'confidence': 0.95, 'speaker': None}, {'text': '2021,', 'start': 107444, 'end': 108330, 'confidence': 0.9, 'speaker': None}, {'text': 'Python', 'start': 108440, 'end': 108898, 'confidence': 0.77131, 'speaker': None}, {'text': 'has', 'start': 108934, 'end': 109062, 'confidence': 0.98496, 'speaker': None}, {'text': 'gained', 'start': 109076, 'end': 109282, 'confidence': 0.68657, 'speaker': None}, {'text': 'an', 'start': 109306, 'end': 109422, 'confidence': 0.86388, 'speaker': None}, {'text': 'adoption.', 'start': 109436, 'end': 110002, 'confidence': 0.56204, 'speaker': None}, {'text': 'While', 'start': 110086, 'end': 110298, 'confidence': 0.99129, 'speaker': None}, {'text': 'our', 'start': 110324, 'end': 110514, 'confidence': 0.34537, 'speaker': None}, {'text': 'usage', 'start': 110552, 'end': 110878, 'confidence': 0.99889, 'speaker': None}, {'text': 'has', 'start': 110914, 'end': 111078, 'confidence': 0.99584, 'speaker': None}, {'text': 'seen', 'start': 111104, 'end': 111222, 'confidence': 0.99276, 'speaker': None}, {'text': 'some', 'start': 111236, 'end': 111378, 'confidence': 0.99153, 'speaker': None}, {'text': 'attrition,', 'start': 111404, 'end': 112126, 'confidence': 0.97902, 'speaker': None}, {'text': 'to', 'start': 112258, 'end': 112518, 'confidence': 1.0, 'speaker': None}, {'text': 'me,', 'start': 112544, 'end': 112698, 'confidence': 0.99598, 'speaker': None}, {'text': 'this', 'start': 112724, 'end': 112842, 'confidence': 0.99607, 'speaker': None}, {'text': 'is', 'start': 112856, 'end': 112962, 'confidence': 0.99118, 'speaker': None}, {'text': 'a', 'start': 112976, 'end': 113046, 'confidence': 0.99, 'speaker': None}, {'text': 'no', 'start': 113048, 'end': 113142, 'confidence': 0.99958, 'speaker': None}, {'text': 'brainer.', 'start': 113156, 'end': 113590, 'confidence': 0.65666, 'speaker': None}, {'text': 'I', 'start': 113650, 'end': 113838, 'confidence': 1.0, 'speaker': None}, {'text': 'recommended', 'start': 113864, 'end': 114322, 'confidence': 0.96602, 'speaker': None}, {'text': 'my', 'start': 114346, 'end': 114498, 'confidence': 0.9997, 'speaker': None}, {'text': 'friend', 'start': 114524, 'end': 114714, 'confidence': 0.82086, 'speaker': None}, {'text': 'to', 'start': 114752, 'end': 114882, 'confidence': 0.99, 'speaker': None}, {'text': 'start', 'start': 114896, 'end': 115074, 'confidence': 0.9996, 'speaker': None}, {'text': 'learning', 'start': 115112, 'end': 115314, 'confidence': 0.9995, 'speaker': None}, {'text': 'Python', 'start': 115352, 'end': 115738, 'confidence': 0.99841, 'speaker': None}, {'text': 'first.', 'start': 115774, 'end': 116226, 'confidence': 1.0, 'speaker': None}, {'text': 'That', 'start': 116348, 'end': 116634, 'confidence': 0.99737, 'speaker': None}, {'text': 'language', 'start': 116672, 'end': 116998, 'confidence': 0.99978, 'speaker': None}, {'text': 'is', 'start': 117034, 'end': 117162, 'confidence': 0.99856, 'speaker': None}, {'text': 'more', 'start': 117176, 'end': 117318, 'confidence': 0.99909, 'speaker': None}, {'text': 'popular,', 'start': 117344, 'end': 117694, 'confidence': 0.99991, 'speaker': None}, {'text': 'and', 'start': 117742, 'end': 117882, 'confidence': 1.0, 'speaker': None}, {'text': \"it's\", 'start': 117896, 'end': 118042, 'confidence': 0.94986, 'speaker': None}, {'text': 'continuing', 'start': 118066, 'end': 118522, 'confidence': 0.99414, 'speaker': None}, {'text': 'to', 'start': 118546, 'end': 118662, 'confidence': 1.0, 'speaker': None}, {'text': 'grow.', 'start': 118676, 'end': 118890, 'confidence': 0.99939, 'speaker': None}, {'text': 'This', 'start': 118940, 'end': 119118, 'confidence': 0.99771, 'speaker': None}, {'text': \"isn't\", 'start': 119144, 'end': 119302, 'confidence': 0.98874, 'speaker': None}, {'text': 'to', 'start': 119326, 'end': 119442, 'confidence': 0.98, 'speaker': None}, {'text': 'say', 'start': 119456, 'end': 119634, 'confidence': 0.99961, 'speaker': None}, {'text': 'R', 'start': 119672, 'end': 119802, 'confidence': 0.97, 'speaker': None}, {'text': 'is', 'start': 119816, 'end': 119958, 'confidence': 0.82976, 'speaker': None}, {'text': 'bad.', 'start': 119984, 'end': 120354, 'confidence': 0.99977, 'speaker': None}, {'text': \"It's\", 'start': 120452, 'end': 120778, 'confidence': 0.97575, 'speaker': None}, {'text': 'just', 'start': 120814, 'end': 121014, 'confidence': 0.99783, 'speaker': None}, {'text': 'to', 'start': 121052, 'end': 121182, 'confidence': 0.99, 'speaker': None}, {'text': 'say', 'start': 121196, 'end': 121302, 'confidence': 0.99949, 'speaker': None}, {'text': 'that', 'start': 121316, 'end': 121422, 'confidence': 0.98517, 'speaker': None}, {'text': 'I', 'start': 121436, 'end': 121542, 'confidence': 0.96, 'speaker': None}, {'text': 'think', 'start': 121556, 'end': 121698, 'confidence': 0.99977, 'speaker': None}, {'text': 'Python', 'start': 121724, 'end': 122062, 'confidence': 0.77235, 'speaker': None}, {'text': 'is', 'start': 122086, 'end': 122238, 'confidence': 0.99898, 'speaker': None}, {'text': 'growing', 'start': 122264, 'end': 122650, 'confidence': 0.74376, 'speaker': None}, {'text': 'and', 'start': 122710, 'end': 122898, 'confidence': 1.0, 'speaker': None}, {'text': 'will', 'start': 122924, 'end': 123042, 'confidence': 0.99332, 'speaker': None}, {'text': 'be', 'start': 123056, 'end': 123198, 'confidence': 0.99729, 'speaker': None}, {'text': 'a', 'start': 123224, 'end': 123378, 'confidence': 0.98, 'speaker': None}, {'text': 'more', 'start': 123404, 'end': 123594, 'confidence': 0.99965, 'speaker': None}, {'text': 'valuable', 'start': 123632, 'end': 123994, 'confidence': 0.99931, 'speaker': None}, {'text': 'skill', 'start': 124042, 'end': 124294, 'confidence': 0.90644, 'speaker': None}, {'text': 'to', 'start': 124342, 'end': 124518, 'confidence': 0.99, 'speaker': None}, {'text': 'have', 'start': 124544, 'end': 124698, 'confidence': 0.99894, 'speaker': None}, {'text': 'for', 'start': 124724, 'end': 124842, 'confidence': 1.0, 'speaker': None}, {'text': 'the', 'start': 124856, 'end': 124962, 'confidence': 1.0, 'speaker': None}, {'text': 'job', 'start': 124976, 'end': 125154, 'confidence': 0.99943, 'speaker': None}, {'text': 'market', 'start': 125192, 'end': 125430, 'confidence': 0.99982, 'speaker': None}, {'text': 'in', 'start': 125480, 'end': 125658, 'confidence': 0.99903, 'speaker': None}, {'text': 'general.', 'start': 125684, 'end': 125946, 'confidence': 0.99995, 'speaker': None}, {'text': 'I', 'start': 126008, 'end': 126198, 'confidence': 1.0, 'speaker': None}, {'text': 'also', 'start': 126224, 'end': 126414, 'confidence': 0.99581, 'speaker': None}, {'text': 'personally', 'start': 126452, 'end': 126718, 'confidence': 0.57399, 'speaker': None}, {'text': 'find', 'start': 126754, 'end': 126918, 'confidence': 0.99924, 'speaker': None}, {'text': 'it', 'start': 126944, 'end': 127062, 'confidence': 0.99, 'speaker': None}, {'text': 'a', 'start': 127076, 'end': 127146, 'confidence': 1.0, 'speaker': None}, {'text': 'bit', 'start': 127148, 'end': 127278, 'confidence': 0.98797, 'speaker': None}, {'text': 'more', 'start': 127304, 'end': 127422, 'confidence': 0.9999, 'speaker': None}, {'text': 'intuitive', 'start': 127436, 'end': 127834, 'confidence': 0.99417, 'speaker': None}, {'text': 'and', 'start': 127882, 'end': 128058, 'confidence': 1.0, 'speaker': None}, {'text': 'flexible', 'start': 128084, 'end': 128458, 'confidence': 0.69113, 'speaker': None}, {'text': 'than', 'start': 128494, 'end': 128658, 'confidence': 0.99117, 'speaker': None}, {'text': 'our.', 'start': 128684, 'end': 128946, 'confidence': 0.43165, 'speaker': None}, {'text': 'Now', 'start': 129008, 'end': 129162, 'confidence': 0.99698, 'speaker': None}, {'text': 'that', 'start': 129176, 'end': 129318, 'confidence': 0.56343, 'speaker': None}, {'text': \"we've\", 'start': 129344, 'end': 129502, 'confidence': 0.98023, 'speaker': None}, {'text': 'chosen', 'start': 129526, 'end': 129742, 'confidence': 0.8041, 'speaker': None}, {'text': 'our', 'start': 129766, 'end': 129918, 'confidence': 0.99174, 'speaker': None}, {'text': 'language', 'start': 129944, 'end': 130198, 'confidence': 0.5804, 'speaker': None}, {'text': 'as', 'start': 130234, 'end': 130362, 'confidence': 0.61837, 'speaker': None}, {'text': 'Python,', 'start': 130376, 'end': 130846, 'confidence': 0.97961, 'speaker': None}, {'text': 'what', 'start': 130918, 'end': 131118, 'confidence': 0.99992, 'speaker': None}, {'text': 'coding', 'start': 131144, 'end': 131422, 'confidence': 0.91503, 'speaker': None}, {'text': 'skills', 'start': 131446, 'end': 131722, 'confidence': 0.93002, 'speaker': None}, {'text': 'should', 'start': 131746, 'end': 131862, 'confidence': 0.99962, 'speaker': None}, {'text': 'my', 'start': 131876, 'end': 131982, 'confidence': 0.99723, 'speaker': None}, {'text': 'friend', 'start': 131996, 'end': 132138, 'confidence': 0.99812, 'speaker': None}, {'text': 'learn', 'start': 132164, 'end': 132354, 'confidence': 0.99983, 'speaker': None}, {'text': 'first?', 'start': 132392, 'end': 132846, 'confidence': 1.0, 'speaker': None}, {'text': 'Should', 'start': 132968, 'end': 133218, 'confidence': 0.99847, 'speaker': None}, {'text': 'he', 'start': 133244, 'end': 133398, 'confidence': 0.98931, 'speaker': None}, {'text': 'focus', 'start': 133424, 'end': 133686, 'confidence': 0.99996, 'speaker': None}, {'text': 'on', 'start': 133748, 'end': 133974, 'confidence': 0.99907, 'speaker': None}, {'text': 'variables?', 'start': 134012, 'end': 134554, 'confidence': 0.98707, 'speaker': None}, {'text': 'Logic', 'start': 134602, 'end': 134974, 'confidence': 0.98431, 'speaker': None}, {'text': 'functions?', 'start': 135022, 'end': 135478, 'confidence': 0.96766, 'speaker': None}, {'text': 'Algorithms?', 'start': 135514, 'end': 136042, 'confidence': 0.59813, 'speaker': None}, {'text': 'Classes?', 'start': 136126, 'end': 136882, 'confidence': 0.99026, 'speaker': None}, {'text': 'My', 'start': 137026, 'end': 137298, 'confidence': 0.99888, 'speaker': None}, {'text': 'mind', 'start': 137324, 'end': 137550, 'confidence': 0.99979, 'speaker': None}, {'text': 'was', 'start': 137600, 'end': 137814, 'confidence': 0.99514, 'speaker': None}, {'text': 'absolutely', 'start': 137852, 'end': 138090, 'confidence': 0.99393, 'speaker': None}, {'text': 'spinning', 'start': 138140, 'end': 138442, 'confidence': 0.99266, 'speaker': None}, {'text': 'when', 'start': 138466, 'end': 138582, 'confidence': 0.99934, 'speaker': None}, {'text': 'I', 'start': 138596, 'end': 138702, 'confidence': 1.0, 'speaker': None}, {'text': 'first', 'start': 138716, 'end': 138858, 'confidence': 1.0, 'speaker': None}, {'text': 'addressed', 'start': 138884, 'end': 139222, 'confidence': 0.79334, 'speaker': None}, {'text': 'this.', 'start': 139246, 'end': 139542, 'confidence': 0.99715, 'speaker': None}, {'text': 'It', 'start': 139616, 'end': 139818, 'confidence': 0.76, 'speaker': None}, {'text': 'took', 'start': 139844, 'end': 139998, 'confidence': 0.99983, 'speaker': None}, {'text': 'me', 'start': 140024, 'end': 140142, 'confidence': 0.99982, 'speaker': None}, {'text': 'a', 'start': 140156, 'end': 140226, 'confidence': 1.0, 'speaker': None}, {'text': 'second,', 'start': 140228, 'end': 140502, 'confidence': 0.97, 'speaker': None}, {'text': 'but', 'start': 140576, 'end': 140742, 'confidence': 0.99438, 'speaker': None}, {'text': 'I', 'start': 140756, 'end': 140898, 'confidence': 0.9, 'speaker': None}, {'text': 'had', 'start': 140924, 'end': 141042, 'confidence': 0.98783, 'speaker': None}, {'text': 'this', 'start': 141056, 'end': 141342, 'confidence': 0.99786, 'speaker': None}, {'text': 'weird', 'start': 141416, 'end': 141730, 'confidence': 0.57409, 'speaker': None}, {'text': 'chaotic', 'start': 141790, 'end': 142258, 'confidence': 0.86189, 'speaker': None}, {'text': 'flashback', 'start': 142294, 'end': 142930, 'confidence': 0.94429, 'speaker': None}, {'text': 'to', 'start': 142990, 'end': 143178, 'confidence': 1.0, 'speaker': None}, {'text': 'my', 'start': 143204, 'end': 143322, 'confidence': 0.99904, 'speaker': None}, {'text': 'first', 'start': 143336, 'end': 143514, 'confidence': 1.0, 'speaker': None}, {'text': 'days', 'start': 143552, 'end': 143718, 'confidence': 0.99787, 'speaker': None}, {'text': 'of', 'start': 143744, 'end': 143898, 'confidence': 1.0, 'speaker': None}, {'text': 'learning', 'start': 143924, 'end': 144114, 'confidence': 0.99878, 'speaker': None}, {'text': 'programming', 'start': 144152, 'end': 144562, 'confidence': 0.99952, 'speaker': None}, {'text': 'myself.', 'start': 144586, 'end': 145098, 'confidence': 0.99961, 'speaker': None}, {'text': 'I', 'start': 145244, 'end': 145482, 'confidence': 1.0, 'speaker': None}, {'text': \"didn't\", 'start': 145496, 'end': 145642, 'confidence': 0.75533, 'speaker': None}, {'text': 'even', 'start': 145666, 'end': 145818, 'confidence': 0.98258, 'speaker': None}, {'text': 'know', 'start': 145844, 'end': 145962, 'confidence': 0.99973, 'speaker': None}, {'text': 'where', 'start': 145976, 'end': 146082, 'confidence': 0.99759, 'speaker': None}, {'text': 'to', 'start': 146096, 'end': 146202, 'confidence': 1.0, 'speaker': None}, {'text': 'start', 'start': 146216, 'end': 146394, 'confidence': 0.99969, 'speaker': None}, {'text': 'with', 'start': 146432, 'end': 146670, 'confidence': 0.99844, 'speaker': None}, {'text': 'getting', 'start': 146720, 'end': 146934, 'confidence': 0.9988, 'speaker': None}, {'text': 'Python', 'start': 146972, 'end': 147454, 'confidence': 0.94987, 'speaker': None}, {'text': 'on', 'start': 147502, 'end': 147642, 'confidence': 0.99921, 'speaker': None}, {'text': 'my', 'start': 147656, 'end': 147762, 'confidence': 0.99951, 'speaker': None}, {'text': 'own', 'start': 147776, 'end': 147882, 'confidence': 0.99588, 'speaker': None}, {'text': 'computer.', 'start': 147896, 'end': 148254, 'confidence': 0.70112, 'speaker': None}, {'text': 'I', 'start': 148352, 'end': 148578, 'confidence': 1.0, 'speaker': None}, {'text': 'just', 'start': 148604, 'end': 148758, 'confidence': 0.99089, 'speaker': None}, {'text': 'now', 'start': 148784, 'end': 148938, 'confidence': 0.99205, 'speaker': None}, {'text': 'got', 'start': 148964, 'end': 149154, 'confidence': 0.69993, 'speaker': None}, {'text': 'excited', 'start': 149192, 'end': 149554, 'confidence': 0.99949, 'speaker': None}, {'text': 'about', 'start': 149602, 'end': 149778, 'confidence': 0.99981, 'speaker': None}, {'text': 'teaching', 'start': 149804, 'end': 150082, 'confidence': 0.99943, 'speaker': None}, {'text': 'the', 'start': 150106, 'end': 150222, 'confidence': 0.93, 'speaker': None}, {'text': 'functional', 'start': 150236, 'end': 150562, 'confidence': 0.65206, 'speaker': None}, {'text': 'part', 'start': 150586, 'end': 150738, 'confidence': 0.99961, 'speaker': None}, {'text': 'of', 'start': 150764, 'end': 150882, 'confidence': 1.0, 'speaker': None}, {'text': 'programming,', 'start': 150896, 'end': 151426, 'confidence': 0.99119, 'speaker': None}, {'text': 'and', 'start': 151498, 'end': 151662, 'confidence': 0.97, 'speaker': None}, {'text': 'I', 'start': 151676, 'end': 151854, 'confidence': 1.0, 'speaker': None}, {'text': 'completely', 'start': 151892, 'end': 152238, 'confidence': 0.99982, 'speaker': None}, {'text': 'forgot', 'start': 152324, 'end': 152770, 'confidence': 0.99909, 'speaker': None}, {'text': 'about', 'start': 152830, 'end': 153054, 'confidence': 0.999, 'speaker': None}, {'text': 'the', 'start': 153092, 'end': 153294, 'confidence': 1.0, 'speaker': None}, {'text': 'basics', 'start': 153332, 'end': 153730, 'confidence': 0.98942, 'speaker': None}, {'text': 'of', 'start': 153790, 'end': 153978, 'confidence': 1.0, 'speaker': None}, {'text': 'setting', 'start': 154004, 'end': 154282, 'confidence': 0.99922, 'speaker': None}, {'text': 'up', 'start': 154306, 'end': 154458, 'confidence': 0.99784, 'speaker': None}, {'text': 'your', 'start': 154484, 'end': 154638, 'confidence': 0.99981, 'speaker': None}, {'text': 'environment', 'start': 154664, 'end': 155098, 'confidence': 0.99926, 'speaker': None}, {'text': 'for', 'start': 155134, 'end': 155298, 'confidence': 1.0, 'speaker': None}, {'text': 'success.', 'start': 155324, 'end': 155766, 'confidence': 0.99992, 'speaker': None}, {'text': 'The', 'start': 155888, 'end': 156102, 'confidence': 1.0, 'speaker': None}, {'text': 'next', 'start': 156116, 'end': 156258, 'confidence': 0.99988, 'speaker': None}, {'text': 'thing', 'start': 156284, 'end': 156402, 'confidence': 0.99906, 'speaker': None}, {'text': 'I', 'start': 156416, 'end': 156522, 'confidence': 1.0, 'speaker': None}, {'text': 'did', 'start': 156536, 'end': 156678, 'confidence': 0.99842, 'speaker': None}, {'text': 'was', 'start': 156704, 'end': 156822, 'confidence': 0.99051, 'speaker': None}, {'text': 'give', 'start': 156836, 'end': 156978, 'confidence': 0.98815, 'speaker': None}, {'text': 'my', 'start': 157004, 'end': 157122, 'confidence': 0.99884, 'speaker': None}, {'text': 'friend', 'start': 157136, 'end': 157314, 'confidence': 0.84497, 'speaker': None}, {'text': 'some', 'start': 157352, 'end': 157482, 'confidence': 0.99624, 'speaker': None}, {'text': 'of', 'start': 157496, 'end': 157602, 'confidence': 0.91, 'speaker': None}, {'text': 'my', 'start': 157616, 'end': 157722, 'confidence': 0.99757, 'speaker': None}, {'text': 'favorite', 'start': 157736, 'end': 158038, 'confidence': 0.82399, 'speaker': None}, {'text': 'resources', 'start': 158074, 'end': 158518, 'confidence': 0.99772, 'speaker': None}, {'text': 'on', 'start': 158554, 'end': 158754, 'confidence': 0.73199, 'speaker': None}, {'text': 'choosing', 'start': 158792, 'end': 159082, 'confidence': 0.99984, 'speaker': None}, {'text': 'an', 'start': 159106, 'end': 159258, 'confidence': 0.99529, 'speaker': None}, {'text': 'environment', 'start': 159284, 'end': 159838, 'confidence': 0.87215, 'speaker': None}, {'text': 'and', 'start': 159934, 'end': 160158, 'confidence': 1.0, 'speaker': None}, {'text': 'getting', 'start': 160184, 'end': 160374, 'confidence': 0.99847, 'speaker': None}, {'text': 'the', 'start': 160412, 'end': 160578, 'confidence': 1.0, 'speaker': None}, {'text': 'right', 'start': 160604, 'end': 160794, 'confidence': 0.99936, 'speaker': None}, {'text': 'version', 'start': 160832, 'end': 161038, 'confidence': 0.5409, 'speaker': None}, {'text': 'of', 'start': 161074, 'end': 161202, 'confidence': 1.0, 'speaker': None}, {'text': 'Python', 'start': 161216, 'end': 161614, 'confidence': 0.99699, 'speaker': None}, {'text': 'on', 'start': 161662, 'end': 161802, 'confidence': 0.99894, 'speaker': None}, {'text': 'his', 'start': 161816, 'end': 161958, 'confidence': 0.998, 'speaker': None}, {'text': 'computer.', 'start': 161984, 'end': 162318, 'confidence': 0.99996, 'speaker': None}, {'text': 'Honestly,', 'start': 162404, 'end': 162742, 'confidence': 0.99857, 'speaker': None}, {'text': 'I', 'start': 162766, 'end': 162882, 'confidence': 0.98, 'speaker': None}, {'text': 'was', 'start': 162896, 'end': 162966, 'confidence': 0.99686, 'speaker': None}, {'text': 'a', 'start': 162968, 'end': 163026, 'confidence': 0.97, 'speaker': None}, {'text': 'bit', 'start': 163028, 'end': 163122, 'confidence': 0.99742, 'speaker': None}, {'text': 'torn', 'start': 163136, 'end': 163306, 'confidence': 0.99628, 'speaker': None}, {'text': 'on', 'start': 163318, 'end': 163422, 'confidence': 0.9959, 'speaker': None}, {'text': 'this', 'start': 163436, 'end': 163578, 'confidence': 0.99601, 'speaker': None}, {'text': 'too.', 'start': 163604, 'end': 163902, 'confidence': 0.99349, 'speaker': None}, {'text': 'So,', 'start': 163976, 'end': 164178, 'confidence': 0.78293, 'speaker': None}, {'text': 'for', 'start': 164204, 'end': 164358, 'confidence': 1.0, 'speaker': None}, {'text': 'example,', 'start': 164384, 'end': 164646, 'confidence': 0.99995, 'speaker': None}, {'text': 'what', 'start': 164708, 'end': 164898, 'confidence': 0.99363, 'speaker': None}, {'text': 'IDE', 'start': 164924, 'end': 165222, 'confidence': 0.9388, 'speaker': None}, {'text': 'should', 'start': 165296, 'end': 165462, 'confidence': 0.99815, 'speaker': None}, {'text': 'have', 'start': 165476, 'end': 165582, 'confidence': 0.55817, 'speaker': None}, {'text': 'used?', 'start': 165596, 'end': 165846, 'confidence': 0.98989, 'speaker': None}, {'text': 'Does', 'start': 165908, 'end': 166062, 'confidence': 0.87051, 'speaker': None}, {'text': 'he', 'start': 166076, 'end': 166146, 'confidence': 0.73593, 'speaker': None}, {'text': 'even', 'start': 166148, 'end': 166278, 'confidence': 0.99574, 'speaker': None}, {'text': 'know', 'start': 166304, 'end': 166458, 'confidence': 0.9968, 'speaker': None}, {'text': 'what', 'start': 166484, 'end': 166638, 'confidence': 0.99916, 'speaker': None}, {'text': 'IDE', 'start': 166664, 'end': 166962, 'confidence': 0.97061, 'speaker': None}, {'text': 'stands', 'start': 167036, 'end': 167302, 'confidence': 0.98431, 'speaker': None}, {'text': 'for?', 'start': 167326, 'end': 167550, 'confidence': 0.99, 'speaker': None}, {'text': 'For', 'start': 167600, 'end': 167742, 'confidence': 0.83, 'speaker': None}, {'text': 'those', 'start': 167756, 'end': 167898, 'confidence': 0.99935, 'speaker': None}, {'text': 'who', 'start': 167924, 'end': 168042, 'confidence': 0.99887, 'speaker': None}, {'text': \"don't\", 'start': 168056, 'end': 168238, 'confidence': 0.55287, 'speaker': None}, {'text': 'know', 'start': 168274, 'end': 168474, 'confidence': 0.99975, 'speaker': None}, {'text': 'and', 'start': 168512, 'end': 168678, 'confidence': 0.63, 'speaker': None}, {'text': 'who', 'start': 168704, 'end': 168858, 'confidence': 0.96121, 'speaker': None}, {'text': 'are', 'start': 168884, 'end': 169002, 'confidence': 0.99739, 'speaker': None}, {'text': 'new,', 'start': 169016, 'end': 169338, 'confidence': 1.0, 'speaker': None}, {'text': 'ID', 'start': 169424, 'end': 169782, 'confidence': 0.00948, 'speaker': None}, {'text': 'stands', 'start': 169856, 'end': 170242, 'confidence': 0.97404, 'speaker': None}, {'text': 'for', 'start': 170266, 'end': 170454, 'confidence': 1.0, 'speaker': None}, {'text': 'Integrated', 'start': 170492, 'end': 171022, 'confidence': 0.94587, 'speaker': None}, {'text': 'Development', 'start': 171106, 'end': 171634, 'confidence': 0.99978, 'speaker': None}, {'text': 'Environment.', 'start': 171682, 'end': 172366, 'confidence': 0.57617, 'speaker': None}, {'text': 'So', 'start': 172498, 'end': 172758, 'confidence': 0.81527, 'speaker': None}, {'text': 'this', 'start': 172784, 'end': 172938, 'confidence': 0.99785, 'speaker': None}, {'text': 'is', 'start': 172964, 'end': 173118, 'confidence': 0.99488, 'speaker': None}, {'text': 'essentially', 'start': 173144, 'end': 173470, 'confidence': 0.99891, 'speaker': None}, {'text': 'just', 'start': 173530, 'end': 173754, 'confidence': 0.99092, 'speaker': None}, {'text': 'a', 'start': 173792, 'end': 173922, 'confidence': 0.56, 'speaker': None}, {'text': 'text', 'start': 173936, 'end': 174114, 'confidence': 0.99584, 'speaker': None}, {'text': 'editor', 'start': 174152, 'end': 174382, 'confidence': 0.97737, 'speaker': None}, {'text': 'you', 'start': 174406, 'end': 174594, 'confidence': 0.54825, 'speaker': None}, {'text': 'use', 'start': 174632, 'end': 174834, 'confidence': 0.93773, 'speaker': None}, {'text': 'to', 'start': 174872, 'end': 175038, 'confidence': 1.0, 'speaker': None}, {'text': 'write', 'start': 175064, 'end': 175218, 'confidence': 0.99954, 'speaker': None}, {'text': 'your', 'start': 175244, 'end': 175362, 'confidence': 0.99951, 'speaker': None}, {'text': 'code.', 'start': 175376, 'end': 175698, 'confidence': 0.58103, 'speaker': None}, {'text': 'If', 'start': 175784, 'end': 175998, 'confidence': 0.99957, 'speaker': None}, {'text': 'you', 'start': 176024, 'end': 176142, 'confidence': 0.99923, 'speaker': None}, {'text': 'were', 'start': 176156, 'end': 176262, 'confidence': 0.53981, 'speaker': None}, {'text': 'writing', 'start': 176276, 'end': 176530, 'confidence': 0.99944, 'speaker': None}, {'text': 'an', 'start': 176590, 'end': 176778, 'confidence': 0.99546, 'speaker': None}, {'text': 'essay,', 'start': 176804, 'end': 177202, 'confidence': 0.99599, 'speaker': None}, {'text': 'you', 'start': 177286, 'end': 177462, 'confidence': 0.92444, 'speaker': None}, {'text': 'could', 'start': 177476, 'end': 177618, 'confidence': 0.7903, 'speaker': None}, {'text': 'choose', 'start': 177644, 'end': 177870, 'confidence': 0.99723, 'speaker': None}, {'text': 'to', 'start': 177920, 'end': 178062, 'confidence': 1.0, 'speaker': None}, {'text': 'use', 'start': 178076, 'end': 178218, 'confidence': 0.99867, 'speaker': None}, {'text': 'Microsoft', 'start': 178244, 'end': 178642, 'confidence': 0.9762, 'speaker': None}, {'text': 'Word.', 'start': 178666, 'end': 178890, 'confidence': 0.75502, 'speaker': None}, {'text': 'You', 'start': 178940, 'end': 179082, 'confidence': 0.72092, 'speaker': None}, {'text': 'could', 'start': 179096, 'end': 179202, 'confidence': 0.97635, 'speaker': None}, {'text': 'use', 'start': 179216, 'end': 179358, 'confidence': 0.99841, 'speaker': None}, {'text': 'Google', 'start': 179384, 'end': 179610, 'confidence': 0.99844, 'speaker': None}, {'text': 'Docs,', 'start': 179660, 'end': 180202, 'confidence': 0.98122, 'speaker': None}, {'text': 'you', 'start': 180286, 'end': 180462, 'confidence': 0.69806, 'speaker': None}, {'text': 'could', 'start': 180476, 'end': 180618, 'confidence': 0.91998, 'speaker': None}, {'text': 'use', 'start': 180644, 'end': 180798, 'confidence': 0.99939, 'speaker': None}, {'text': 'Notepad,', 'start': 180824, 'end': 181294, 'confidence': 0.99812, 'speaker': None}, {'text': 'or', 'start': 181342, 'end': 181482, 'confidence': 0.99942, 'speaker': None}, {'text': 'maybe', 'start': 181496, 'end': 181674, 'confidence': 0.99349, 'speaker': None}, {'text': 'even', 'start': 181712, 'end': 181914, 'confidence': 0.99822, 'speaker': None}, {'text': 'just', 'start': 181952, 'end': 182370, 'confidence': 0.97416, 'speaker': None}, {'text': 'straight', 'start': 182480, 'end': 182782, 'confidence': 0.99966, 'speaker': None}, {'text': 'up', 'start': 182806, 'end': 182922, 'confidence': 0.71924, 'speaker': None}, {'text': 'pen', 'start': 182936, 'end': 183078, 'confidence': 0.99899, 'speaker': None}, {'text': 'and', 'start': 183104, 'end': 183222, 'confidence': 0.99, 'speaker': None}, {'text': 'paper.', 'start': 183236, 'end': 183486, 'confidence': 0.99998, 'speaker': None}, {'text': 'Just', 'start': 183548, 'end': 183738, 'confidence': 0.99675, 'speaker': None}, {'text': 'like', 'start': 183764, 'end': 183918, 'confidence': 0.99778, 'speaker': None}, {'text': 'there', 'start': 183944, 'end': 184062, 'confidence': 0.91262, 'speaker': None}, {'text': 'are', 'start': 184076, 'end': 184146, 'confidence': 0.9613, 'speaker': None}, {'text': 'these', 'start': 184148, 'end': 184278, 'confidence': 0.98887, 'speaker': None}, {'text': 'different', 'start': 184304, 'end': 184494, 'confidence': 0.9999, 'speaker': None}, {'text': 'mediums', 'start': 184532, 'end': 184942, 'confidence': 0.93876, 'speaker': None}, {'text': 'for', 'start': 184966, 'end': 185046, 'confidence': 0.99, 'speaker': None}, {'text': 'you', 'start': 185048, 'end': 185106, 'confidence': 0.99678, 'speaker': None}, {'text': 'to', 'start': 185108, 'end': 185238, 'confidence': 0.53, 'speaker': None}, {'text': 'write', 'start': 185264, 'end': 185418, 'confidence': 0.9995, 'speaker': None}, {'text': 'your', 'start': 185444, 'end': 185598, 'confidence': 0.99585, 'speaker': None}, {'text': 'last', 'start': 185624, 'end': 185778, 'confidence': 0.99991, 'speaker': None}, {'text': 'minute', 'start': 185804, 'end': 185998, 'confidence': 0.77, 'speaker': None}, {'text': 'paper.', 'start': 186034, 'end': 186414, 'confidence': 0.99995, 'speaker': None}, {'text': 'Data', 'start': 186512, 'end': 186774, 'confidence': 0.99885, 'speaker': None}, {'text': 'scientists', 'start': 186812, 'end': 187162, 'confidence': 0.97926, 'speaker': None}, {'text': 'and', 'start': 187186, 'end': 187302, 'confidence': 1.0, 'speaker': None}, {'text': 'software', 'start': 187316, 'end': 187558, 'confidence': 0.78262, 'speaker': None}, {'text': 'engineers', 'start': 187594, 'end': 188158, 'confidence': 0.99918, 'speaker': None}, {'text': 'need', 'start': 188254, 'end': 188514, 'confidence': 0.99817, 'speaker': None}, {'text': 'places', 'start': 188552, 'end': 188842, 'confidence': 0.99852, 'speaker': None}, {'text': 'to', 'start': 188866, 'end': 188982, 'confidence': 1.0, 'speaker': None}, {'text': 'write', 'start': 188996, 'end': 189138, 'confidence': 0.99924, 'speaker': None}, {'text': 'their', 'start': 189164, 'end': 189318, 'confidence': 0.99794, 'speaker': None}, {'text': 'code.', 'start': 189344, 'end': 189786, 'confidence': 0.99994, 'speaker': None}, {'text': 'These', 'start': 189908, 'end': 190194, 'confidence': 0.99925, 'speaker': None}, {'text': 'places', 'start': 190232, 'end': 190594, 'confidence': 0.99907, 'speaker': None}, {'text': 'are', 'start': 190642, 'end': 190818, 'confidence': 0.99836, 'speaker': None}, {'text': 'called', 'start': 190844, 'end': 191034, 'confidence': 0.99879, 'speaker': None}, {'text': 'IDs.', 'start': 191072, 'end': 191686, 'confidence': 0.03032, 'speaker': None}, {'text': 'And', 'start': 191758, 'end': 191958, 'confidence': 0.76, 'speaker': None}, {'text': 'just', 'start': 191984, 'end': 192138, 'confidence': 0.99881, 'speaker': None}, {'text': 'like', 'start': 192164, 'end': 192282, 'confidence': 0.99704, 'speaker': None}, {'text': 'Microsoft', 'start': 192296, 'end': 192718, 'confidence': 0.94654, 'speaker': None}, {'text': 'Word', 'start': 192754, 'end': 192954, 'confidence': 0.99989, 'speaker': None}, {'text': 'has', 'start': 192992, 'end': 193122, 'confidence': 0.99711, 'speaker': None}, {'text': 'spell', 'start': 193136, 'end': 193342, 'confidence': 0.90745, 'speaker': None}, {'text': 'track', 'start': 193366, 'end': 193554, 'confidence': 0.95928, 'speaker': None}, {'text': 'and', 'start': 193592, 'end': 193758, 'confidence': 0.85, 'speaker': None}, {'text': 'formatting', 'start': 193784, 'end': 194182, 'confidence': 0.99916, 'speaker': None}, {'text': 'to', 'start': 194206, 'end': 194322, 'confidence': 1.0, 'speaker': None}, {'text': 'make', 'start': 194336, 'end': 194442, 'confidence': 0.99927, 'speaker': None}, {'text': 'sure', 'start': 194456, 'end': 194562, 'confidence': 0.99953, 'speaker': None}, {'text': 'that', 'start': 194576, 'end': 194682, 'confidence': 0.98611, 'speaker': None}, {'text': 'you', 'start': 194696, 'end': 194766, 'confidence': 0.9994, 'speaker': None}, {'text': \"don't\", 'start': 194768, 'end': 194926, 'confidence': 0.85454, 'speaker': None}, {'text': 'make', 'start': 194938, 'end': 195078, 'confidence': 0.99818, 'speaker': None}, {'text': 'grammatical', 'start': 195104, 'end': 195562, 'confidence': 0.58146, 'speaker': None}, {'text': 'errors,', 'start': 195586, 'end': 196174, 'confidence': 0.33284, 'speaker': None}, {'text': 'many', 'start': 196282, 'end': 196590, 'confidence': 0.99953, 'speaker': None}, {'text': 'ideas', 'start': 196640, 'end': 197122, 'confidence': 0.16785, 'speaker': None}, {'text': 'help', 'start': 197146, 'end': 197334, 'confidence': 0.99534, 'speaker': None}, {'text': 'you', 'start': 197372, 'end': 197610, 'confidence': 0.99705, 'speaker': None}, {'text': 'to', 'start': 197660, 'end': 197838, 'confidence': 0.99, 'speaker': None}, {'text': 'make', 'start': 197864, 'end': 198018, 'confidence': 0.9994, 'speaker': None}, {'text': 'sure', 'start': 198044, 'end': 198198, 'confidence': 0.99991, 'speaker': None}, {'text': 'that', 'start': 198224, 'end': 198342, 'confidence': 0.99526, 'speaker': None}, {'text': 'you', 'start': 198356, 'end': 198498, 'confidence': 0.77002, 'speaker': None}, {'text': 'have', 'start': 198524, 'end': 198822, 'confidence': 0.99894, 'speaker': None}, {'text': 'proper', 'start': 198896, 'end': 199170, 'confidence': 0.9992, 'speaker': None}, {'text': 'syntax', 'start': 199220, 'end': 199678, 'confidence': 0.9551, 'speaker': None}, {'text': 'in', 'start': 199714, 'end': 199842, 'confidence': 0.99584, 'speaker': None}, {'text': 'your', 'start': 199856, 'end': 199962, 'confidence': 0.99935, 'speaker': None}, {'text': 'code.', 'start': 199976, 'end': 200262, 'confidence': 0.99961, 'speaker': None}, {'text': 'In', 'start': 200336, 'end': 200538, 'confidence': 0.99932, 'speaker': None}, {'text': 'theory,', 'start': 200564, 'end': 201210, 'confidence': 0.99945, 'speaker': None}, {'text': 'technically,', 'start': 201530, 'end': 202126, 'confidence': 0.99907, 'speaker': None}, {'text': 'Microsoft', 'start': 202198, 'end': 202678, 'confidence': 0.98148, 'speaker': None}, {'text': 'Word', 'start': 202714, 'end': 202986, 'confidence': 0.9323, 'speaker': None}, {'text': 'would', 'start': 203048, 'end': 203238, 'confidence': 0.99866, 'speaker': None}, {'text': 'be', 'start': 203264, 'end': 203418, 'confidence': 0.9991, 'speaker': None}, {'text': 'considered', 'start': 203444, 'end': 203842, 'confidence': 0.99899, 'speaker': None}, {'text': 'an', 'start': 203866, 'end': 203982, 'confidence': 0.99607, 'speaker': None}, {'text': 'idea,', 'start': 203996, 'end': 204426, 'confidence': 0.02699, 'speaker': None}, {'text': 'but', 'start': 204548, 'end': 204762, 'confidence': 0.99811, 'speaker': None}, {'text': 'I', 'start': 204776, 'end': 204918, 'confidence': 0.96, 'speaker': None}, {'text': 'definitely', 'start': 204944, 'end': 205206, 'confidence': 0.99616, 'speaker': None}, {'text': \"don't\", 'start': 205268, 'end': 205498, 'confidence': 0.98914, 'speaker': None}, {'text': 'recommend', 'start': 205534, 'end': 205842, 'confidence': 0.99978, 'speaker': None}, {'text': 'using', 'start': 205916, 'end': 206154, 'confidence': 0.999, 'speaker': None}, {'text': 'it', 'start': 206192, 'end': 206322, 'confidence': 1.0, 'speaker': None}, {'text': 'as', 'start': 206336, 'end': 206442, 'confidence': 0.99372, 'speaker': None}, {'text': 'such', 'start': 206456, 'end': 206742, 'confidence': 0.99963, 'speaker': None}, {'text': 'unless', 'start': 206816, 'end': 207118, 'confidence': 0.99848, 'speaker': None}, {'text': \"you're\", 'start': 207154, 'end': 207286, 'confidence': 0.83798, 'speaker': None}, {'text': 'jump', 'start': 207298, 'end': 207478, 'confidence': 0.01725, 'speaker': None}, {'text': 'ate.', 'start': 207514, 'end': 207886, 'confidence': 0.06412, 'speaker': None}, {'text': 'This', 'start': 207958, 'end': 208158, 'confidence': 0.99842, 'speaker': None}, {'text': 'is', 'start': 208184, 'end': 208302, 'confidence': 0.99444, 'speaker': None}, {'text': 'a', 'start': 208316, 'end': 208422, 'confidence': 0.97, 'speaker': None}, {'text': 'list', 'start': 208436, 'end': 208614, 'confidence': 0.99995, 'speaker': None}, {'text': 'of', 'start': 208652, 'end': 208782, 'confidence': 1.0, 'speaker': None}, {'text': 'the', 'start': 208796, 'end': 208938, 'confidence': 0.97, 'speaker': None}, {'text': 'most', 'start': 208964, 'end': 209118, 'confidence': 0.99844, 'speaker': None}, {'text': 'commonly', 'start': 209144, 'end': 209518, 'confidence': 0.99984, 'speaker': None}, {'text': 'used', 'start': 209554, 'end': 209790, 'confidence': 0.9994, 'speaker': None}, {'text': 'Ides', 'start': 209840, 'end': 210358, 'confidence': 0.89911, 'speaker': None}, {'text': 'in', 'start': 210394, 'end': 210486, 'confidence': 0.98603, 'speaker': None}, {'text': 'the', 'start': 210488, 'end': 210582, 'confidence': 0.99, 'speaker': None}, {'text': 'data', 'start': 210596, 'end': 210774, 'confidence': 0.99625, 'speaker': None}, {'text': 'domain.', 'start': 210812, 'end': 211354, 'confidence': 0.98163, 'speaker': None}, {'text': 'And', 'start': 211462, 'end': 211698, 'confidence': 0.77, 'speaker': None}, {'text': 'as', 'start': 211724, 'end': 211878, 'confidence': 0.99915, 'speaker': None}, {'text': 'you', 'start': 211904, 'end': 211986, 'confidence': 0.99939, 'speaker': None}, {'text': 'can', 'start': 211988, 'end': 212082, 'confidence': 0.99734, 'speaker': None}, {'text': 'see,', 'start': 212096, 'end': 212310, 'confidence': 0.99832, 'speaker': None}, {'text': 'common', 'start': 212360, 'end': 212610, 'confidence': 0.99906, 'speaker': None}, {'text': 'Ides', 'start': 212660, 'end': 213082, 'confidence': 0.66593, 'speaker': None}, {'text': 'for', 'start': 213106, 'end': 213222, 'confidence': 1.0, 'speaker': None}, {'text': 'Python', 'start': 213236, 'end': 213634, 'confidence': 0.84967, 'speaker': None}, {'text': 'are', 'start': 213682, 'end': 213894, 'confidence': 0.55054, 'speaker': None}, {'text': 'vs,', 'start': 213932, 'end': 214198, 'confidence': 0.94227, 'speaker': None}, {'text': 'code,', 'start': 214234, 'end': 214614, 'confidence': 0.98038, 'speaker': None}, {'text': 'jupyter,', 'start': 214712, 'end': 215158, 'confidence': 0.95774, 'speaker': None}, {'text': 'notebook,', 'start': 215194, 'end': 215626, 'confidence': 0.99394, 'speaker': None}, {'text': 'PyCharm,', 'start': 215698, 'end': 216298, 'confidence': 0.69744, 'speaker': None}, {'text': 'and', 'start': 216334, 'end': 216462, 'confidence': 0.99, 'speaker': None}, {'text': 'Spider.', 'start': 216476, 'end': 217246, 'confidence': 0.9717, 'speaker': None}, {'text': 'Before', 'start': 217438, 'end': 217830, 'confidence': 0.99564, 'speaker': None}, {'text': 'anything', 'start': 217880, 'end': 218166, 'confidence': 0.99953, 'speaker': None}, {'text': 'else,', 'start': 218228, 'end': 218562, 'confidence': 0.99995, 'speaker': None}, {'text': 'I', 'start': 218636, 'end': 218838, 'confidence': 1.0, 'speaker': None}, {'text': 'wanted', 'start': 218864, 'end': 219018, 'confidence': 0.99521, 'speaker': None}, {'text': 'to', 'start': 219044, 'end': 219162, 'confidence': 1.0, 'speaker': None}, {'text': 'give', 'start': 219176, 'end': 219318, 'confidence': 0.99888, 'speaker': None}, {'text': 'him', 'start': 219344, 'end': 219498, 'confidence': 0.99937, 'speaker': None}, {'text': 'a', 'start': 219524, 'end': 219642, 'confidence': 0.99, 'speaker': None}, {'text': 'decent', 'start': 219656, 'end': 219898, 'confidence': 0.9816, 'speaker': None}, {'text': 'understanding', 'start': 219934, 'end': 220474, 'confidence': 0.99873, 'speaker': None}, {'text': 'about', 'start': 220522, 'end': 220734, 'confidence': 0.99345, 'speaker': None}, {'text': 'how', 'start': 220772, 'end': 220938, 'confidence': 0.99904, 'speaker': None}, {'text': 'the', 'start': 220964, 'end': 221118, 'confidence': 1.0, 'speaker': None}, {'text': 'development', 'start': 221144, 'end': 221650, 'confidence': 0.99953, 'speaker': None}, {'text': 'environments', 'start': 221710, 'end': 222226, 'confidence': 0.95771, 'speaker': None}, {'text': 'work', 'start': 222298, 'end': 222642, 'confidence': 0.97391, 'speaker': None}, {'text': 'before', 'start': 222716, 'end': 222954, 'confidence': 0.99991, 'speaker': None}, {'text': 'we', 'start': 222992, 'end': 223158, 'confidence': 0.94573, 'speaker': None}, {'text': 'picked', 'start': 223184, 'end': 223402, 'confidence': 0.95165, 'speaker': None}, {'text': 'one.', 'start': 223426, 'end': 223722, 'confidence': 0.99, 'speaker': None}, {'text': 'As', 'start': 223796, 'end': 223962, 'confidence': 0.99577, 'speaker': None}, {'text': 'I', 'start': 223976, 'end': 224118, 'confidence': 0.93, 'speaker': None}, {'text': 'mentioned,', 'start': 224144, 'end': 224514, 'confidence': 0.99988, 'speaker': None}, {'text': 'this', 'start': 224612, 'end': 224838, 'confidence': 0.9997, 'speaker': None}, {'text': 'is', 'start': 224864, 'end': 225018, 'confidence': 0.99343, 'speaker': None}, {'text': 'something', 'start': 225044, 'end': 225270, 'confidence': 0.9999, 'speaker': None}, {'text': 'that', 'start': 225320, 'end': 225498, 'confidence': 0.99642, 'speaker': None}, {'text': 'I', 'start': 225524, 'end': 225678, 'confidence': 1.0, 'speaker': None}, {'text': 'was', 'start': 225704, 'end': 225894, 'confidence': 0.99738, 'speaker': None}, {'text': 'totally', 'start': 225932, 'end': 226258, 'confidence': 0.99792, 'speaker': None}, {'text': 'confused', 'start': 226294, 'end': 226702, 'confidence': 0.99976, 'speaker': None}, {'text': 'about', 'start': 226726, 'end': 226914, 'confidence': 0.99967, 'speaker': None}, {'text': 'when', 'start': 226952, 'end': 227118, 'confidence': 0.99871, 'speaker': None}, {'text': 'I', 'start': 227144, 'end': 227262, 'confidence': 1.0, 'speaker': None}, {'text': 'started.', 'start': 227276, 'end': 227706, 'confidence': 0.99947, 'speaker': None}, {'text': 'When', 'start': 227828, 'end': 228042, 'confidence': 0.99924, 'speaker': None}, {'text': 'I', 'start': 228056, 'end': 228162, 'confidence': 1.0, 'speaker': None}, {'text': 'learned', 'start': 228176, 'end': 228346, 'confidence': 0.98072, 'speaker': None}, {'text': 'to', 'start': 228358, 'end': 228462, 'confidence': 0.4, 'speaker': None}, {'text': 'code,', 'start': 228476, 'end': 228762, 'confidence': 0.99924, 'speaker': None}, {'text': 'I', 'start': 228836, 'end': 229002, 'confidence': 1.0, 'speaker': None}, {'text': 'was', 'start': 229016, 'end': 229158, 'confidence': 0.99809, 'speaker': None}, {'text': 'using', 'start': 229184, 'end': 229446, 'confidence': 0.99927, 'speaker': None}, {'text': 'Python', 'start': 229508, 'end': 229990, 'confidence': 0.84502, 'speaker': None}, {'text': 'and', 'start': 230050, 'end': 230238, 'confidence': 0.97, 'speaker': None}, {'text': 'I', 'start': 230264, 'end': 230346, 'confidence': 0.99, 'speaker': None}, {'text': 'was', 'start': 230348, 'end': 230478, 'confidence': 0.98209, 'speaker': None}, {'text': 'using', 'start': 230504, 'end': 230658, 'confidence': 0.99932, 'speaker': None}, {'text': 'an', 'start': 230684, 'end': 230838, 'confidence': 0.98743, 'speaker': None}, {'text': 'IDE', 'start': 230864, 'end': 231198, 'confidence': 0.99829, 'speaker': None}, {'text': 'called', 'start': 231284, 'end': 231498, 'confidence': 0.99833, 'speaker': None}, {'text': 'Idle.', 'start': 231524, 'end': 232042, 'confidence': 0.61003, 'speaker': None}, {'text': 'So', 'start': 232126, 'end': 232338, 'confidence': 0.63951, 'speaker': None}, {'text': 'Idle', 'start': 232364, 'end': 232642, 'confidence': 0.92943, 'speaker': None}, {'text': 'is', 'start': 232666, 'end': 232782, 'confidence': 0.70414, 'speaker': None}, {'text': 'great', 'start': 232796, 'end': 232938, 'confidence': 0.99985, 'speaker': None}, {'text': 'for', 'start': 232964, 'end': 233118, 'confidence': 1.0, 'speaker': None}, {'text': 'learning,', 'start': 233144, 'end': 233478, 'confidence': 0.99973, 'speaker': None}, {'text': 'but', 'start': 233564, 'end': 233814, 'confidence': 0.9949, 'speaker': None}, {'text': \"I've\", 'start': 233852, 'end': 234022, 'confidence': 0.9241, 'speaker': None}, {'text': 'literally', 'start': 234046, 'end': 234406, 'confidence': 0.98814, 'speaker': None}, {'text': 'never', 'start': 234478, 'end': 234822, 'confidence': 0.99914, 'speaker': None}, {'text': 'once', 'start': 234896, 'end': 235170, 'confidence': 0.99712, 'speaker': None}, {'text': 'touched', 'start': 235220, 'end': 235486, 'confidence': 0.99654, 'speaker': None}, {'text': 'it', 'start': 235498, 'end': 235638, 'confidence': 0.7, 'speaker': None}, {'text': 'since,', 'start': 235664, 'end': 236106, 'confidence': 0.96987, 'speaker': None}, {'text': 'and', 'start': 236228, 'end': 236658, 'confidence': 0.72, 'speaker': None}, {'text': 'I', 'start': 236744, 'end': 236958, 'confidence': 0.99, 'speaker': None}, {'text': \"don't\", 'start': 236984, 'end': 237142, 'confidence': 0.85169, 'speaker': None}, {'text': 'use', 'start': 237166, 'end': 237282, 'confidence': 0.99931, 'speaker': None}, {'text': 'it', 'start': 237296, 'end': 237402, 'confidence': 0.99, 'speaker': None}, {'text': 'on', 'start': 237416, 'end': 237522, 'confidence': 0.99581, 'speaker': None}, {'text': 'any', 'start': 237536, 'end': 237678, 'confidence': 0.99475, 'speaker': None}, {'text': 'data', 'start': 237704, 'end': 237930, 'confidence': 0.98471, 'speaker': None}, {'text': 'projects', 'start': 237980, 'end': 238342, 'confidence': 0.87994, 'speaker': None}, {'text': 'in', 'start': 238366, 'end': 238482, 'confidence': 0.67467, 'speaker': None}, {'text': 'any', 'start': 238496, 'end': 238638, 'confidence': 0.9988, 'speaker': None}, {'text': 'of', 'start': 238664, 'end': 238746, 'confidence': 0.99, 'speaker': None}, {'text': 'my', 'start': 238748, 'end': 238878, 'confidence': 0.78473, 'speaker': None}, {'text': 'work.', 'start': 238904, 'end': 239274, 'confidence': 0.99868, 'speaker': None}, {'text': 'I', 'start': 239372, 'end': 239598, 'confidence': 1.0, 'speaker': None}, {'text': 'wanted', 'start': 239624, 'end': 239814, 'confidence': 0.98077, 'speaker': None}, {'text': 'to', 'start': 239852, 'end': 239982, 'confidence': 1.0, 'speaker': None}, {'text': 'make', 'start': 239996, 'end': 240138, 'confidence': 0.79368, 'speaker': None}, {'text': 'sure', 'start': 240164, 'end': 240390, 'confidence': 0.99997, 'speaker': None}, {'text': 'that', 'start': 240440, 'end': 240762, 'confidence': 0.99659, 'speaker': None}, {'text': 'my', 'start': 240836, 'end': 241038, 'confidence': 0.99922, 'speaker': None}, {'text': 'friend', 'start': 241064, 'end': 241254, 'confidence': 0.9852, 'speaker': None}, {'text': 'was', 'start': 241292, 'end': 241458, 'confidence': 0.978, 'speaker': None}, {'text': 'using', 'start': 241484, 'end': 241674, 'confidence': 0.99977, 'speaker': None}, {'text': 'something', 'start': 241712, 'end': 241986, 'confidence': 0.9999, 'speaker': None}, {'text': 'that', 'start': 242048, 'end': 242202, 'confidence': 0.9987, 'speaker': None}, {'text': 'would', 'start': 242216, 'end': 242322, 'confidence': 0.68981, 'speaker': None}, {'text': 'be', 'start': 242336, 'end': 242514, 'confidence': 0.99058, 'speaker': None}, {'text': 'representative', 'start': 242552, 'end': 243130, 'confidence': 0.97992, 'speaker': None}, {'text': 'of', 'start': 243190, 'end': 243342, 'confidence': 1.0, 'speaker': None}, {'text': 'what', 'start': 243356, 'end': 243498, 'confidence': 0.99894, 'speaker': None}, {'text': 'he', 'start': 243524, 'end': 243678, 'confidence': 0.99834, 'speaker': None}, {'text': 'might', 'start': 243704, 'end': 243930, 'confidence': 0.85118, 'speaker': None}, {'text': 'see', 'start': 243980, 'end': 244194, 'confidence': 0.99989, 'speaker': None}, {'text': 'in', 'start': 244232, 'end': 244362, 'confidence': 0.99975, 'speaker': None}, {'text': 'the', 'start': 244376, 'end': 244482, 'confidence': 1.0, 'speaker': None}, {'text': 'real', 'start': 244496, 'end': 244638, 'confidence': 1.0, 'speaker': None}, {'text': 'world,', 'start': 244664, 'end': 244926, 'confidence': 0.99856, 'speaker': None}, {'text': 'what', 'start': 244988, 'end': 245178, 'confidence': 0.99861, 'speaker': None}, {'text': 'people', 'start': 245204, 'end': 245466, 'confidence': 0.96592, 'speaker': None}, {'text': 'actually', 'start': 245528, 'end': 245862, 'confidence': 0.99759, 'speaker': None}, {'text': 'use.', 'start': 245936, 'end': 246282, 'confidence': 0.99355, 'speaker': None}, {'text': 'For', 'start': 246356, 'end': 246522, 'confidence': 1.0, 'speaker': None}, {'text': 'this', 'start': 246536, 'end': 246678, 'confidence': 0.99668, 'speaker': None}, {'text': 'specific', 'start': 246704, 'end': 246966, 'confidence': 0.99948, 'speaker': None}, {'text': 'friend,', 'start': 247028, 'end': 247326, 'confidence': 0.6679, 'speaker': None}, {'text': 'I', 'start': 247388, 'end': 247578, 'confidence': 1.0, 'speaker': None}, {'text': 'recommended', 'start': 247604, 'end': 248002, 'confidence': 0.78633, 'speaker': None}, {'text': 'that', 'start': 248026, 'end': 248142, 'confidence': 0.99304, 'speaker': None}, {'text': 'he', 'start': 248156, 'end': 248262, 'confidence': 0.97682, 'speaker': None}, {'text': 'started', 'start': 248276, 'end': 248418, 'confidence': 0.03516, 'speaker': None}, {'text': 'learning', 'start': 248444, 'end': 248634, 'confidence': 0.97932, 'speaker': None}, {'text': 'the', 'start': 248672, 'end': 248838, 'confidence': 0.58, 'speaker': None}, {'text': 'basics', 'start': 248864, 'end': 249226, 'confidence': 0.86448, 'speaker': None}, {'text': 'with', 'start': 249298, 'end': 249498, 'confidence': 0.99804, 'speaker': None}, {'text': 'this', 'start': 249524, 'end': 249678, 'confidence': 0.41545, 'speaker': None}, {'text': 'video', 'start': 249704, 'end': 250038, 'confidence': 0.99982, 'speaker': None}, {'text': 'from', 'start': 250124, 'end': 250338, 'confidence': 0.99871, 'speaker': None}, {'text': 'Precocamp.', 'start': 250364, 'end': 250978, 'confidence': 0.01925, 'speaker': None}, {'text': \"I've\", 'start': 251014, 'end': 251182, 'confidence': 0.83841, 'speaker': None}, {'text': 'linked', 'start': 251206, 'end': 251422, 'confidence': 0.52873, 'speaker': None}, {'text': 'it', 'start': 251446, 'end': 251598, 'confidence': 1.0, 'speaker': None}, {'text': 'and', 'start': 251624, 'end': 251778, 'confidence': 1.0, 'speaker': None}, {'text': 'all', 'start': 251804, 'end': 251958, 'confidence': 0.99603, 'speaker': None}, {'text': 'other', 'start': 251984, 'end': 252138, 'confidence': 0.98799, 'speaker': None}, {'text': 'resources', 'start': 252164, 'end': 252598, 'confidence': 0.61228, 'speaker': None}, {'text': 'in', 'start': 252634, 'end': 252726, 'confidence': 0.99841, 'speaker': None}, {'text': 'the', 'start': 252728, 'end': 252822, 'confidence': 0.97, 'speaker': None}, {'text': 'description.', 'start': 252836, 'end': 253474, 'confidence': 0.65735, 'speaker': None}, {'text': 'So', 'start': 253582, 'end': 253818, 'confidence': 0.83584, 'speaker': None}, {'text': 'in', 'start': 253844, 'end': 253926, 'confidence': 0.99473, 'speaker': None}, {'text': 'the', 'start': 253928, 'end': 254022, 'confidence': 0.98, 'speaker': None}, {'text': 'video,', 'start': 254036, 'end': 254214, 'confidence': 0.99923, 'speaker': None}, {'text': 'they', 'start': 254252, 'end': 254418, 'confidence': 0.99835, 'speaker': None}, {'text': 'show', 'start': 254444, 'end': 254562, 'confidence': 0.99978, 'speaker': None}, {'text': 'you', 'start': 254576, 'end': 254646, 'confidence': 0.99293, 'speaker': None}, {'text': 'how', 'start': 254648, 'end': 254742, 'confidence': 0.99906, 'speaker': None}, {'text': 'to', 'start': 254756, 'end': 254826, 'confidence': 1.0, 'speaker': None}, {'text': 'set', 'start': 254828, 'end': 254922, 'confidence': 0.91415, 'speaker': None}, {'text': 'up', 'start': 254936, 'end': 255042, 'confidence': 0.56325, 'speaker': None}, {'text': 'the', 'start': 255056, 'end': 255162, 'confidence': 0.72, 'speaker': None}, {'text': 'PyCharm', 'start': 255176, 'end': 255562, 'confidence': 0.43031, 'speaker': None}, {'text': 'environment', 'start': 255586, 'end': 256066, 'confidence': 0.99948, 'speaker': None}, {'text': 'and', 'start': 256138, 'end': 256338, 'confidence': 1.0, 'speaker': None}, {'text': 'get', 'start': 256364, 'end': 256518, 'confidence': 0.9986, 'speaker': None}, {'text': 'comfortable', 'start': 256544, 'end': 256858, 'confidence': 0.99971, 'speaker': None}, {'text': 'using', 'start': 256894, 'end': 257094, 'confidence': 0.99977, 'speaker': None}, {'text': 'that.', 'start': 257132, 'end': 257370, 'confidence': 0.99759, 'speaker': None}, {'text': 'I', 'start': 257420, 'end': 257526, 'confidence': 0.99, 'speaker': None}, {'text': 'think', 'start': 257528, 'end': 257622, 'confidence': 0.99946, 'speaker': None}, {'text': 'PyCharm', 'start': 257636, 'end': 258058, 'confidence': 0.49724, 'speaker': None}, {'text': 'is', 'start': 258094, 'end': 258222, 'confidence': 0.99825, 'speaker': None}, {'text': 'solid,', 'start': 258236, 'end': 258550, 'confidence': 0.74623, 'speaker': None}, {'text': 'and', 'start': 258610, 'end': 258798, 'confidence': 0.91, 'speaker': None}, {'text': 'if', 'start': 258824, 'end': 258942, 'confidence': 0.9989, 'speaker': None}, {'text': 'you', 'start': 258956, 'end': 259062, 'confidence': 0.9914, 'speaker': None}, {'text': 'get', 'start': 259076, 'end': 259218, 'confidence': 0.99678, 'speaker': None}, {'text': 'familiar', 'start': 259244, 'end': 259558, 'confidence': 0.85492, 'speaker': None}, {'text': 'with', 'start': 259594, 'end': 259722, 'confidence': 0.99963, 'speaker': None}, {'text': 'that,', 'start': 259736, 'end': 259914, 'confidence': 0.53923, 'speaker': None}, {'text': 'you', 'start': 259952, 'end': 260082, 'confidence': 0.99939, 'speaker': None}, {'text': 'can', 'start': 260096, 'end': 260202, 'confidence': 0.99707, 'speaker': None}, {'text': 'easily', 'start': 260216, 'end': 260494, 'confidence': 0.99928, 'speaker': None}, {'text': 'pick', 'start': 260542, 'end': 260718, 'confidence': 0.99986, 'speaker': None}, {'text': 'up', 'start': 260744, 'end': 260862, 'confidence': 0.99414, 'speaker': None}, {'text': 'the', 'start': 260876, 'end': 260982, 'confidence': 0.93, 'speaker': None}, {'text': 'SCode,', 'start': 260996, 'end': 261418, 'confidence': 0.03699, 'speaker': None}, {'text': 'a', 'start': 261454, 'end': 261546, 'confidence': 0.35, 'speaker': None}, {'text': 'Jupiter', 'start': 261548, 'end': 261874, 'confidence': 0.08566, 'speaker': None}, {'text': 'notebook,', 'start': 261922, 'end': 262294, 'confidence': 0.97559, 'speaker': None}, {'text': 'or', 'start': 262342, 'end': 262482, 'confidence': 0.99835, 'speaker': None}, {'text': 'Spider', 'start': 262496, 'end': 262810, 'confidence': 0.88401, 'speaker': None}, {'text': 'pretty', 'start': 262870, 'end': 263058, 'confidence': 0.99973, 'speaker': None}, {'text': 'quickly.', 'start': 263084, 'end': 263418, 'confidence': 0.9997, 'speaker': None}, {'text': 'Truthfully,', 'start': 263504, 'end': 264046, 'confidence': 0.96896, 'speaker': None}, {'text': 'I', 'start': 264118, 'end': 264282, 'confidence': 1.0, 'speaker': None}, {'text': \"don't\", 'start': 264296, 'end': 264406, 'confidence': 0.99709, 'speaker': None}, {'text': 'think', 'start': 264418, 'end': 264522, 'confidence': 0.99897, 'speaker': None}, {'text': 'that', 'start': 264536, 'end': 264678, 'confidence': 0.95001, 'speaker': None}, {'text': 'the', 'start': 264704, 'end': 264822, 'confidence': 1.0, 'speaker': None}, {'text': 'idea', 'start': 264836, 'end': 265050, 'confidence': 0.01053, 'speaker': None}, {'text': 'that', 'start': 265100, 'end': 265242, 'confidence': 0.98083, 'speaker': None}, {'text': 'you', 'start': 265256, 'end': 265398, 'confidence': 0.99641, 'speaker': None}, {'text': 'start', 'start': 265424, 'end': 265578, 'confidence': 0.99917, 'speaker': None}, {'text': 'with', 'start': 265604, 'end': 265758, 'confidence': 0.99806, 'speaker': None}, {'text': 'really', 'start': 265784, 'end': 265974, 'confidence': 0.99688, 'speaker': None}, {'text': 'matters', 'start': 266012, 'end': 266278, 'confidence': 0.85692, 'speaker': None}, {'text': 'that', 'start': 266314, 'end': 266442, 'confidence': 0.99367, 'speaker': None}, {'text': 'much.', 'start': 266456, 'end': 266778, 'confidence': 0.99921, 'speaker': None}, {'text': \"What's\", 'start': 266864, 'end': 267178, 'confidence': 0.70274, 'speaker': None}, {'text': 'more', 'start': 267214, 'end': 267378, 'confidence': 0.9998, 'speaker': None}, {'text': 'important', 'start': 267404, 'end': 267702, 'confidence': 0.99989, 'speaker': None}, {'text': 'is', 'start': 267776, 'end': 267942, 'confidence': 0.99576, 'speaker': None}, {'text': 'that', 'start': 267956, 'end': 268062, 'confidence': 0.99183, 'speaker': None}, {'text': \"you're\", 'start': 268076, 'end': 268258, 'confidence': 0.90989, 'speaker': None}, {'text': 'using', 'start': 268294, 'end': 268494, 'confidence': 0.99938, 'speaker': None}, {'text': 'one', 'start': 268532, 'end': 268770, 'confidence': 0.99, 'speaker': None}, {'text': 'that', 'start': 268820, 'end': 269034, 'confidence': 0.9876, 'speaker': None}, {'text': 'people', 'start': 269072, 'end': 269274, 'confidence': 0.9998, 'speaker': None}, {'text': 'who', 'start': 269312, 'end': 269478, 'confidence': 0.99429, 'speaker': None}, {'text': 'actually', 'start': 269504, 'end': 269838, 'confidence': 0.996, 'speaker': None}, {'text': 'write', 'start': 269924, 'end': 270138, 'confidence': 0.97719, 'speaker': None}, {'text': 'Python', 'start': 270164, 'end': 270574, 'confidence': 0.99203, 'speaker': None}, {'text': 'code', 'start': 270622, 'end': 270870, 'confidence': 0.99938, 'speaker': None}, {'text': 'into', 'start': 270920, 'end': 271170, 'confidence': 0.99699, 'speaker': None}, {'text': 'production', 'start': 271220, 'end': 271654, 'confidence': 0.99953, 'speaker': None}, {'text': 'are', 'start': 271702, 'end': 271878, 'confidence': 0.99125, 'speaker': None}, {'text': 'using.', 'start': 271904, 'end': 272382, 'confidence': 0.99159, 'speaker': None}, {'text': 'Okay,', 'start': 272516, 'end': 272922, 'confidence': 0.88181, 'speaker': None}, {'text': 'now', 'start': 272996, 'end': 273270, 'confidence': 0.99613, 'speaker': None}, {'text': 'on', 'start': 273320, 'end': 273534, 'confidence': 0.99848, 'speaker': None}, {'text': 'to', 'start': 273572, 'end': 273702, 'confidence': 0.71, 'speaker': None}, {'text': 'the', 'start': 273716, 'end': 273822, 'confidence': 0.99, 'speaker': None}, {'text': 'coding', 'start': 273836, 'end': 274102, 'confidence': 0.94415, 'speaker': None}, {'text': 'basics.', 'start': 274126, 'end': 274762, 'confidence': 0.9653, 'speaker': None}, {'text': 'Surprisingly,', 'start': 274906, 'end': 275578, 'confidence': 0.99944, 'speaker': None}, {'text': 'I', 'start': 275614, 'end': 275742, 'confidence': 0.99, 'speaker': None}, {'text': 'think', 'start': 275756, 'end': 275898, 'confidence': 0.99952, 'speaker': None}, {'text': 'this', 'start': 275924, 'end': 276078, 'confidence': 0.99781, 'speaker': None}, {'text': 'might', 'start': 276104, 'end': 276222, 'confidence': 0.99827, 'speaker': None}, {'text': 'be', 'start': 276236, 'end': 276378, 'confidence': 0.99025, 'speaker': None}, {'text': 'one', 'start': 276404, 'end': 276522, 'confidence': 1.0, 'speaker': None}, {'text': 'of', 'start': 276536, 'end': 276642, 'confidence': 0.93, 'speaker': None}, {'text': 'the', 'start': 276656, 'end': 276834, 'confidence': 0.62, 'speaker': None}, {'text': 'simplest', 'start': 276872, 'end': 277390, 'confidence': 0.74706, 'speaker': None}, {'text': 'parts', 'start': 277450, 'end': 277678, 'confidence': 0.35497, 'speaker': None}, {'text': 'of', 'start': 277714, 'end': 277842, 'confidence': 1.0, 'speaker': None}, {'text': 'this', 'start': 277856, 'end': 278034, 'confidence': 0.93996, 'speaker': None}, {'text': 'entire', 'start': 278072, 'end': 278418, 'confidence': 0.99924, 'speaker': None}, {'text': 'process.', 'start': 278504, 'end': 279186, 'confidence': 0.99979, 'speaker': None}, {'text': 'You', 'start': 279368, 'end': 279642, 'confidence': 0.94967, 'speaker': None}, {'text': 'see,', 'start': 279656, 'end': 279798, 'confidence': 0.99934, 'speaker': None}, {'text': \"there's\", 'start': 279824, 'end': 279982, 'confidence': 0.52239, 'speaker': None}, {'text': 'a', 'start': 280006, 'end': 280122, 'confidence': 1.0, 'speaker': None}, {'text': 'common', 'start': 280136, 'end': 280350, 'confidence': 0.99978, 'speaker': None}, {'text': 'misconception', 'start': 280400, 'end': 281314, 'confidence': 0.5726, 'speaker': None}, {'text': 'that', 'start': 281422, 'end': 281838, 'confidence': 0.99912, 'speaker': None}, {'text': 'coding', 'start': 281924, 'end': 282430, 'confidence': 0.99751, 'speaker': None}, {'text': 'is', 'start': 282490, 'end': 282678, 'confidence': 0.99926, 'speaker': None}, {'text': 'trying', 'start': 282704, 'end': 282858, 'confidence': 0.99947, 'speaker': None}, {'text': 'to', 'start': 282884, 'end': 283002, 'confidence': 1.0, 'speaker': None}, {'text': 'trick', 'start': 283016, 'end': 283222, 'confidence': 0.99957, 'speaker': None}, {'text': 'you.', 'start': 283246, 'end': 283398, 'confidence': 0.99289, 'speaker': None}, {'text': \"There's\", 'start': 283424, 'end': 283642, 'confidence': 0.83163, 'speaker': None}, {'text': 'this', 'start': 283666, 'end': 283818, 'confidence': 0.99584, 'speaker': None}, {'text': 'conspiracy', 'start': 283844, 'end': 284398, 'confidence': 0.98878, 'speaker': None}, {'text': 'that', 'start': 284434, 'end': 284598, 'confidence': 0.99749, 'speaker': None}, {'text': 'learning', 'start': 284624, 'end': 284814, 'confidence': 0.99959, 'speaker': None}, {'text': 'to', 'start': 284852, 'end': 285018, 'confidence': 1.0, 'speaker': None}, {'text': 'code', 'start': 285044, 'end': 285378, 'confidence': 0.99915, 'speaker': None}, {'text': 'is', 'start': 285464, 'end': 285678, 'confidence': 0.98217, 'speaker': None}, {'text': 'supposed', 'start': 285704, 'end': 285930, 'confidence': 0.99887, 'speaker': None}, {'text': 'to', 'start': 285980, 'end': 286122, 'confidence': 1.0, 'speaker': None}, {'text': 'be', 'start': 286136, 'end': 286314, 'confidence': 0.99825, 'speaker': None}, {'text': 'really', 'start': 286352, 'end': 286590, 'confidence': 0.99664, 'speaker': None}, {'text': 'hard', 'start': 286640, 'end': 286926, 'confidence': 0.82376, 'speaker': None}, {'text': 'and', 'start': 286988, 'end': 287250, 'confidence': 0.87, 'speaker': None}, {'text': 'very', 'start': 287300, 'end': 287550, 'confidence': 0.99887, 'speaker': None}, {'text': 'scary.', 'start': 287600, 'end': 288022, 'confidence': 0.99979, 'speaker': None}, {'text': 'I', 'start': 288106, 'end': 288282, 'confidence': 1.0, 'speaker': None}, {'text': 'would', 'start': 288296, 'end': 288438, 'confidence': 0.99785, 'speaker': None}, {'text': 'argue', 'start': 288464, 'end': 288718, 'confidence': 0.99977, 'speaker': None}, {'text': 'that', 'start': 288754, 'end': 288954, 'confidence': 0.99805, 'speaker': None}, {'text': \"it's\", 'start': 288992, 'end': 289294, 'confidence': 0.9822, 'speaker': None}, {'text': 'almost', 'start': 289342, 'end': 289662, 'confidence': 0.99965, 'speaker': None}, {'text': 'the', 'start': 289736, 'end': 289902, 'confidence': 1.0, 'speaker': None}, {'text': 'opposite.', 'start': 289916, 'end': 290458, 'confidence': 0.5612, 'speaker': None}, {'text': 'Coding', 'start': 290554, 'end': 290902, 'confidence': 0.96733, 'speaker': None}, {'text': 'languages,', 'start': 290926, 'end': 291358, 'confidence': 0.62626, 'speaker': None}, {'text': 'particularly', 'start': 291454, 'end': 291958, 'confidence': 0.99103, 'speaker': None}, {'text': 'Python.', 'start': 291994, 'end': 292486, 'confidence': 0.91549, 'speaker': None}, {'text': \"They're\", 'start': 292558, 'end': 292762, 'confidence': 0.6881, 'speaker': None}, {'text': 'designed', 'start': 292786, 'end': 293122, 'confidence': 0.99708, 'speaker': None}, {'text': 'to', 'start': 293146, 'end': 293262, 'confidence': 1.0, 'speaker': None}, {'text': 'be', 'start': 293276, 'end': 293418, 'confidence': 0.99479, 'speaker': None}, {'text': 'as', 'start': 293444, 'end': 293634, 'confidence': 0.99428, 'speaker': None}, {'text': 'easy', 'start': 293672, 'end': 293874, 'confidence': 0.99052, 'speaker': None}, {'text': 'to', 'start': 293912, 'end': 294078, 'confidence': 0.52, 'speaker': None}, {'text': 'use', 'start': 294104, 'end': 294258, 'confidence': 0.99606, 'speaker': None}, {'text': 'as', 'start': 294284, 'end': 294438, 'confidence': 0.99497, 'speaker': None}, {'text': 'possible', 'start': 294464, 'end': 294798, 'confidence': 0.99989, 'speaker': None}, {'text': 'while', 'start': 294884, 'end': 295134, 'confidence': 0.9981, 'speaker': None}, {'text': 'creating', 'start': 295172, 'end': 295462, 'confidence': 0.89139, 'speaker': None}, {'text': 'good', 'start': 295486, 'end': 295638, 'confidence': 0.99339, 'speaker': None}, {'text': 'results.', 'start': 295664, 'end': 296254, 'confidence': 0.99473, 'speaker': None}, {'text': 'So', 'start': 296362, 'end': 296562, 'confidence': 0.8431, 'speaker': None}, {'text': 'if', 'start': 296576, 'end': 296646, 'confidence': 0.99819, 'speaker': None}, {'text': 'you', 'start': 296648, 'end': 296742, 'confidence': 0.65497, 'speaker': None}, {'text': 'change', 'start': 296756, 'end': 296898, 'confidence': 0.88195, 'speaker': None}, {'text': 'your', 'start': 296924, 'end': 297078, 'confidence': 0.73132, 'speaker': None}, {'text': 'perspective', 'start': 297104, 'end': 297514, 'confidence': 0.67127, 'speaker': None}, {'text': 'to', 'start': 297562, 'end': 297738, 'confidence': 1.0, 'speaker': None}, {'text': 'look', 'start': 297764, 'end': 297882, 'confidence': 0.99981, 'speaker': None}, {'text': 'at', 'start': 297896, 'end': 298002, 'confidence': 1.0, 'speaker': None}, {'text': 'them', 'start': 298016, 'end': 298158, 'confidence': 1.0, 'speaker': None}, {'text': 'as', 'start': 298184, 'end': 298410, 'confidence': 0.99743, 'speaker': None}, {'text': 'intuitive,', 'start': 298460, 'end': 299110, 'confidence': 0.98681, 'speaker': None}, {'text': 'coding', 'start': 299230, 'end': 299602, 'confidence': 0.98849, 'speaker': None}, {'text': 'becomes', 'start': 299626, 'end': 299938, 'confidence': 0.31172, 'speaker': None}, {'text': 'significantly', 'start': 299974, 'end': 300598, 'confidence': 0.48857, 'speaker': None}, {'text': 'more', 'start': 300634, 'end': 300798, 'confidence': 0.99743, 'speaker': None}, {'text': 'fun', 'start': 300824, 'end': 301050, 'confidence': 0.99935, 'speaker': None}, {'text': 'and', 'start': 301100, 'end': 301278, 'confidence': 1.0, 'speaker': None}, {'text': 'stressfree.', 'start': 301304, 'end': 301906, 'confidence': 0.90591, 'speaker': None}, {'text': 'This', 'start': 301978, 'end': 302142, 'confidence': 0.93953, 'speaker': None}, {'text': \"isn't\", 'start': 302156, 'end': 302338, 'confidence': 0.93793, 'speaker': None}, {'text': 'to', 'start': 302374, 'end': 302502, 'confidence': 1.0, 'speaker': None}, {'text': 'say', 'start': 302516, 'end': 302658, 'confidence': 0.99971, 'speaker': None}, {'text': 'that', 'start': 302684, 'end': 302802, 'confidence': 0.96165, 'speaker': None}, {'text': 'you', 'start': 302816, 'end': 302922, 'confidence': 0.99896, 'speaker': None}, {'text': \"won't\", 'start': 302936, 'end': 303082, 'confidence': 0.99711, 'speaker': None}, {'text': 'get', 'start': 303106, 'end': 303222, 'confidence': 0.99844, 'speaker': None}, {'text': 'stuck.', 'start': 303236, 'end': 303694, 'confidence': 0.96148, 'speaker': None}, {'text': \"It's\", 'start': 303802, 'end': 304138, 'confidence': 0.72988, 'speaker': None}, {'text': 'just', 'start': 304174, 'end': 304338, 'confidence': 0.99797, 'speaker': None}, {'text': 'to', 'start': 304364, 'end': 304518, 'confidence': 0.76, 'speaker': None}, {'text': 'say', 'start': 304544, 'end': 304698, 'confidence': 0.99975, 'speaker': None}, {'text': 'that', 'start': 304724, 'end': 304878, 'confidence': 0.98524, 'speaker': None}, {'text': 'when', 'start': 304904, 'end': 305022, 'confidence': 0.99948, 'speaker': None}, {'text': 'you', 'start': 305036, 'end': 305142, 'confidence': 0.99704, 'speaker': None}, {'text': 'do', 'start': 305156, 'end': 305262, 'confidence': 0.97048, 'speaker': None}, {'text': 'get', 'start': 305276, 'end': 305418, 'confidence': 0.99892, 'speaker': None}, {'text': 'stuck,', 'start': 305444, 'end': 305806, 'confidence': 0.99961, 'speaker': None}, {'text': \"there's\", 'start': 305878, 'end': 306178, 'confidence': 0.77109, 'speaker': None}, {'text': 'almost', 'start': 306214, 'end': 306486, 'confidence': 0.999, 'speaker': None}, {'text': 'always', 'start': 306548, 'end': 306810, 'confidence': 0.99951, 'speaker': None}, {'text': 'a', 'start': 306860, 'end': 307002, 'confidence': 0.99, 'speaker': None}, {'text': 'logical', 'start': 307016, 'end': 307354, 'confidence': 0.99838, 'speaker': None}, {'text': 'reason', 'start': 307402, 'end': 307650, 'confidence': 0.99997, 'speaker': None}, {'text': 'for', 'start': 307700, 'end': 307878, 'confidence': 0.94, 'speaker': None}, {'text': 'it', 'start': 307904, 'end': 308094, 'confidence': 0.96, 'speaker': None}, {'text': 'and', 'start': 308132, 'end': 308298, 'confidence': 1.0, 'speaker': None}, {'text': 'a', 'start': 308324, 'end': 308478, 'confidence': 0.98, 'speaker': None}, {'text': 'logical', 'start': 308504, 'end': 308890, 'confidence': 0.99946, 'speaker': None}, {'text': 'solution', 'start': 308950, 'end': 309346, 'confidence': 0.89262, 'speaker': None}, {'text': 'to', 'start': 309418, 'end': 309582, 'confidence': 1.0, 'speaker': None}, {'text': 'resolve', 'start': 309596, 'end': 309886, 'confidence': 0.85205, 'speaker': None}, {'text': 'your', 'start': 309898, 'end': 310038, 'confidence': 0.99654, 'speaker': None}, {'text': 'problems.', 'start': 310064, 'end': 310470, 'confidence': 0.9918, 'speaker': None}, {'text': 'Keeping', 'start': 310580, 'end': 310882, 'confidence': 0.99784, 'speaker': None}, {'text': 'with', 'start': 310906, 'end': 311022, 'confidence': 0.9953, 'speaker': None}, {'text': 'this', 'start': 311036, 'end': 311178, 'confidence': 0.98239, 'speaker': None}, {'text': 'theme', 'start': 311204, 'end': 311446, 'confidence': 0.99418, 'speaker': None}, {'text': 'of', 'start': 311458, 'end': 311562, 'confidence': 1.0, 'speaker': None}, {'text': 'simplicity,', 'start': 311576, 'end': 312034, 'confidence': 0.94772, 'speaker': None}, {'text': 'at', 'start': 312082, 'end': 312222, 'confidence': 0.55, 'speaker': None}, {'text': 'the', 'start': 312236, 'end': 312342, 'confidence': 0.8, 'speaker': None}, {'text': 'most', 'start': 312356, 'end': 312498, 'confidence': 0.99825, 'speaker': None}, {'text': 'basic', 'start': 312524, 'end': 312838, 'confidence': 0.99916, 'speaker': None}, {'text': 'level,', 'start': 312874, 'end': 313146, 'confidence': 0.99998, 'speaker': None}, {'text': 'beginner', 'start': 313208, 'end': 313582, 'confidence': 0.99848, 'speaker': None}, {'text': 'coding', 'start': 313606, 'end': 313882, 'confidence': 0.92737, 'speaker': None}, {'text': 'can', 'start': 313906, 'end': 313986, 'confidence': 0.99936, 'speaker': None}, {'text': 'be', 'start': 313988, 'end': 314082, 'confidence': 0.84181, 'speaker': None}, {'text': 'broken', 'start': 314096, 'end': 314338, 'confidence': 0.61329, 'speaker': None}, {'text': 'down', 'start': 314374, 'end': 314538, 'confidence': 0.9997, 'speaker': None}, {'text': 'into', 'start': 314564, 'end': 314790, 'confidence': 0.52184, 'speaker': None}, {'text': 'seven', 'start': 314840, 'end': 315126, 'confidence': 1.0, 'speaker': None}, {'text': 'concepts.', 'start': 315188, 'end': 315670, 'confidence': 0.83635, 'speaker': None}, {'text': 'All', 'start': 315730, 'end': 315918, 'confidence': 0.99965, 'speaker': None}, {'text': 'the', 'start': 315944, 'end': 316098, 'confidence': 0.99, 'speaker': None}, {'text': 'resources', 'start': 316124, 'end': 316558, 'confidence': 0.90505, 'speaker': None}, {'text': 'that', 'start': 316594, 'end': 316686, 'confidence': 0.98062, 'speaker': None}, {'text': \"I've\", 'start': 316688, 'end': 316822, 'confidence': 0.83992, 'speaker': None}, {'text': 'linked', 'start': 316846, 'end': 317122, 'confidence': 0.99705, 'speaker': None}, {'text': 'in', 'start': 317146, 'end': 317262, 'confidence': 0.99948, 'speaker': None}, {'text': 'the', 'start': 317276, 'end': 317382, 'confidence': 1.0, 'speaker': None}, {'text': 'description', 'start': 317396, 'end': 317974, 'confidence': 0.89237, 'speaker': None}, {'text': 'cover', 'start': 318082, 'end': 318390, 'confidence': 0.99974, 'speaker': None}, {'text': 'these', 'start': 318440, 'end': 318618, 'confidence': 0.99595, 'speaker': None}, {'text': 'topics,', 'start': 318644, 'end': 319066, 'confidence': 0.99894, 'speaker': None}, {'text': 'but', 'start': 319138, 'end': 319302, 'confidence': 0.98475, 'speaker': None}, {'text': \"I'm\", 'start': 319316, 'end': 319486, 'confidence': 0.74775, 'speaker': None}, {'text': 'going', 'start': 319498, 'end': 319566, 'confidence': 0.9953, 'speaker': None}, {'text': 'to', 'start': 319568, 'end': 319662, 'confidence': 0.99, 'speaker': None}, {'text': 'give', 'start': 319676, 'end': 319818, 'confidence': 0.99986, 'speaker': None}, {'text': 'you', 'start': 319844, 'end': 319998, 'confidence': 0.99878, 'speaker': None}, {'text': 'a', 'start': 320024, 'end': 320214, 'confidence': 1.0, 'speaker': None}, {'text': 'very,', 'start': 320252, 'end': 320454, 'confidence': 0.9951, 'speaker': None}, {'text': 'very', 'start': 320492, 'end': 320730, 'confidence': 0.59521, 'speaker': None}, {'text': 'high', 'start': 320780, 'end': 320922, 'confidence': 0.99994, 'speaker': None}, {'text': 'level', 'start': 320936, 'end': 321150, 'confidence': 0.544, 'speaker': None}, {'text': 'overview', 'start': 321200, 'end': 321598, 'confidence': 0.55572, 'speaker': None}, {'text': 'here.', 'start': 321634, 'end': 321906, 'confidence': 0.99586, 'speaker': None}, {'text': 'The', 'start': 321968, 'end': 322122, 'confidence': 1.0, 'speaker': None}, {'text': 'first', 'start': 322136, 'end': 322314, 'confidence': 0.89, 'speaker': None}, {'text': 'one', 'start': 322352, 'end': 322482, 'confidence': 0.99, 'speaker': None}, {'text': 'we', 'start': 322496, 'end': 322638, 'confidence': 0.99526, 'speaker': None}, {'text': 'start', 'start': 322664, 'end': 322818, 'confidence': 0.99926, 'speaker': None}, {'text': 'with', 'start': 322844, 'end': 323034, 'confidence': 0.9997, 'speaker': None}, {'text': 'is', 'start': 323072, 'end': 323238, 'confidence': 0.99653, 'speaker': None}, {'text': 'data', 'start': 323264, 'end': 323490, 'confidence': 0.99655, 'speaker': None}, {'text': 'types.', 'start': 323540, 'end': 323986, 'confidence': 0.99493, 'speaker': None}, {'text': 'So', 'start': 324058, 'end': 324258, 'confidence': 0.78381, 'speaker': None}, {'text': 'in', 'start': 324284, 'end': 324402, 'confidence': 0.99599, 'speaker': None}, {'text': 'Python,', 'start': 324416, 'end': 324778, 'confidence': 0.95389, 'speaker': None}, {'text': 'you', 'start': 324814, 'end': 324906, 'confidence': 0.99708, 'speaker': None}, {'text': 'can', 'start': 324908, 'end': 325002, 'confidence': 0.99171, 'speaker': None}, {'text': 'work', 'start': 325016, 'end': 325122, 'confidence': 0.99581, 'speaker': None}, {'text': 'with', 'start': 325136, 'end': 325278, 'confidence': 0.99245, 'speaker': None}, {'text': 'numbers,', 'start': 325304, 'end': 325566, 'confidence': 0.99961, 'speaker': None}, {'text': 'you', 'start': 325628, 'end': 325746, 'confidence': 0.99208, 'speaker': None}, {'text': 'can', 'start': 325748, 'end': 325842, 'confidence': 0.99131, 'speaker': None}, {'text': 'work', 'start': 325856, 'end': 325998, 'confidence': 0.99546, 'speaker': None}, {'text': 'with', 'start': 326024, 'end': 326142, 'confidence': 0.70937, 'speaker': None}, {'text': 'text,', 'start': 326156, 'end': 326406, 'confidence': 0.99779, 'speaker': None}, {'text': 'you', 'start': 326468, 'end': 326622, 'confidence': 0.99242, 'speaker': None}, {'text': 'can', 'start': 326636, 'end': 326778, 'confidence': 0.9975, 'speaker': None}, {'text': 'work', 'start': 326804, 'end': 326958, 'confidence': 0.99875, 'speaker': None}, {'text': 'with', 'start': 326984, 'end': 327138, 'confidence': 0.99862, 'speaker': None}, {'text': 'Booleans,', 'start': 327164, 'end': 327730, 'confidence': 0.72353, 'speaker': None}, {'text': 'you', 'start': 327790, 'end': 327906, 'confidence': 0.98238, 'speaker': None}, {'text': 'can', 'start': 327908, 'end': 328002, 'confidence': 0.92743, 'speaker': None}, {'text': 'work', 'start': 328016, 'end': 328122, 'confidence': 0.9904, 'speaker': None}, {'text': 'with', 'start': 328136, 'end': 328314, 'confidence': 0.96247, 'speaker': None}, {'text': 'lists', 'start': 328352, 'end': 328786, 'confidence': 0.90088, 'speaker': None}, {'text': 'or', 'start': 328858, 'end': 329022, 'confidence': 0.9961, 'speaker': None}, {'text': 'a', 'start': 329036, 'end': 329142, 'confidence': 0.83, 'speaker': None}, {'text': 'host', 'start': 329156, 'end': 329302, 'confidence': 0.99577, 'speaker': None}, {'text': 'of', 'start': 329326, 'end': 329478, 'confidence': 0.98, 'speaker': None}, {'text': 'different', 'start': 329504, 'end': 329658, 'confidence': 0.99991, 'speaker': None}, {'text': 'data', 'start': 329684, 'end': 329910, 'confidence': 0.99918, 'speaker': None}, {'text': 'structures.', 'start': 329960, 'end': 330478, 'confidence': 0.98621, 'speaker': None}, {'text': \"It's\", 'start': 330574, 'end': 330802, 'confidence': 0.94328, 'speaker': None}, {'text': 'important', 'start': 330826, 'end': 331086, 'confidence': 0.84471, 'speaker': None}, {'text': 'to', 'start': 331148, 'end': 331302, 'confidence': 1.0, 'speaker': None}, {'text': 'get', 'start': 331316, 'end': 331422, 'confidence': 0.99902, 'speaker': None}, {'text': 'a', 'start': 331436, 'end': 331542, 'confidence': 0.99, 'speaker': None}, {'text': 'good', 'start': 331556, 'end': 331698, 'confidence': 0.99976, 'speaker': None}, {'text': 'understanding', 'start': 331724, 'end': 332218, 'confidence': 0.99911, 'speaker': None}, {'text': 'or', 'start': 332254, 'end': 332418, 'confidence': 0.99712, 'speaker': None}, {'text': 'a', 'start': 332444, 'end': 332598, 'confidence': 0.96, 'speaker': None}, {'text': 'fundamental', 'start': 332624, 'end': 333214, 'confidence': 0.94969, 'speaker': None}, {'text': 'understanding', 'start': 333262, 'end': 333778, 'confidence': 0.99946, 'speaker': None}, {'text': 'of', 'start': 333814, 'end': 333942, 'confidence': 1.0, 'speaker': None}, {'text': 'these', 'start': 333956, 'end': 334098, 'confidence': 0.98614, 'speaker': None}, {'text': 'first.', 'start': 334124, 'end': 334422, 'confidence': 1.0, 'speaker': None}, {'text': 'Next,', 'start': 334496, 'end': 334806, 'confidence': 0.68011, 'speaker': None}, {'text': 'I', 'start': 334868, 'end': 335022, 'confidence': 1.0, 'speaker': None}, {'text': 'think', 'start': 335036, 'end': 335142, 'confidence': 0.9998, 'speaker': None}, {'text': 'it', 'start': 335156, 'end': 335262, 'confidence': 1.0, 'speaker': None}, {'text': 'makes', 'start': 335276, 'end': 335418, 'confidence': 0.99289, 'speaker': None}, {'text': 'sense', 'start': 335444, 'end': 335634, 'confidence': 0.99998, 'speaker': None}, {'text': 'to', 'start': 335672, 'end': 335766, 'confidence': 1.0, 'speaker': None}, {'text': 'get', 'start': 335768, 'end': 335898, 'confidence': 0.99824, 'speaker': None}, {'text': 'familiar', 'start': 335924, 'end': 336202, 'confidence': 0.99812, 'speaker': None}, {'text': 'with', 'start': 336226, 'end': 336378, 'confidence': 0.62663, 'speaker': None}, {'text': 'how', 'start': 336404, 'end': 336558, 'confidence': 0.99768, 'speaker': None}, {'text': 'variables', 'start': 336584, 'end': 337018, 'confidence': 0.57358, 'speaker': None}, {'text': 'work.', 'start': 337054, 'end': 337434, 'confidence': 0.99455, 'speaker': None}, {'text': 'This', 'start': 337532, 'end': 337794, 'confidence': 0.98723, 'speaker': None}, {'text': 'can', 'start': 337832, 'end': 337998, 'confidence': 0.99703, 'speaker': None}, {'text': 'vary', 'start': 338024, 'end': 338242, 'confidence': 0.99967, 'speaker': None}, {'text': 'by', 'start': 338266, 'end': 338418, 'confidence': 0.99927, 'speaker': None}, {'text': 'language,', 'start': 338444, 'end': 338866, 'confidence': 0.99926, 'speaker': None}, {'text': 'so', 'start': 338938, 'end': 339138, 'confidence': 0.94545, 'speaker': None}, {'text': 'you', 'start': 339164, 'end': 339282, 'confidence': 0.99102, 'speaker': None}, {'text': 'need', 'start': 339296, 'end': 339438, 'confidence': 0.71446, 'speaker': None}, {'text': 'to', 'start': 339464, 'end': 339582, 'confidence': 1.0, 'speaker': None}, {'text': 'make', 'start': 339596, 'end': 339702, 'confidence': 0.99901, 'speaker': None}, {'text': 'sure', 'start': 339716, 'end': 339822, 'confidence': 0.99976, 'speaker': None}, {'text': 'you', 'start': 339836, 'end': 339942, 'confidence': 0.96476, 'speaker': None}, {'text': 'know', 'start': 339956, 'end': 340098, 'confidence': 0.99553, 'speaker': None}, {'text': 'how', 'start': 340124, 'end': 340242, 'confidence': 0.99878, 'speaker': None}, {'text': 'to', 'start': 340256, 'end': 340398, 'confidence': 1.0, 'speaker': None}, {'text': 'assign', 'start': 340424, 'end': 340750, 'confidence': 0.99833, 'speaker': None}, {'text': 'and', 'start': 340810, 'end': 340998, 'confidence': 1.0, 'speaker': None}, {'text': 'change', 'start': 341024, 'end': 341250, 'confidence': 0.99853, 'speaker': None}, {'text': 'variables', 'start': 341300, 'end': 341758, 'confidence': 0.82267, 'speaker': None}, {'text': 'in', 'start': 341794, 'end': 341958, 'confidence': 0.65642, 'speaker': None}, {'text': 'Python,', 'start': 341984, 'end': 342418, 'confidence': 0.99334, 'speaker': None}, {'text': 'specifically,', 'start': 342454, 'end': 343410, 'confidence': 0.9983, 'speaker': None}, {'text': 'after', 'start': 343970, 'end': 344370, 'confidence': 0.99988, 'speaker': None}, {'text': 'variables,', 'start': 344420, 'end': 344986, 'confidence': 0.84308, 'speaker': None}, {'text': 'you', 'start': 345058, 'end': 345222, 'confidence': 0.94813, 'speaker': None}, {'text': 'should', 'start': 345236, 'end': 345414, 'confidence': 0.99815, 'speaker': None}, {'text': 'look', 'start': 345452, 'end': 345618, 'confidence': 0.99982, 'speaker': None}, {'text': 'into', 'start': 345644, 'end': 345798, 'confidence': 0.997, 'speaker': None}, {'text': 'how', 'start': 345824, 'end': 346014, 'confidence': 0.99393, 'speaker': None}, {'text': 'logical', 'start': 346052, 'end': 346390, 'confidence': 0.81803, 'speaker': None}, {'text': 'operators', 'start': 346450, 'end': 346918, 'confidence': 0.56233, 'speaker': None}, {'text': 'work.', 'start': 346954, 'end': 347154, 'confidence': 0.99597, 'speaker': None}, {'text': 'These', 'start': 347192, 'end': 347358, 'confidence': 0.99793, 'speaker': None}, {'text': 'are', 'start': 347384, 'end': 347502, 'confidence': 0.99905, 'speaker': None}, {'text': 'very', 'start': 347516, 'end': 347694, 'confidence': 0.99926, 'speaker': None}, {'text': 'handy', 'start': 347732, 'end': 347998, 'confidence': 0.77262, 'speaker': None}, {'text': 'in', 'start': 348034, 'end': 348162, 'confidence': 0.99603, 'speaker': None}, {'text': 'your', 'start': 348176, 'end': 348318, 'confidence': 0.99891, 'speaker': None}, {'text': 'first', 'start': 348344, 'end': 348534, 'confidence': 1.0, 'speaker': None}, {'text': 'few', 'start': 348572, 'end': 348810, 'confidence': 0.99865, 'speaker': None}, {'text': 'projects.', 'start': 348860, 'end': 349390, 'confidence': 0.99669, 'speaker': None}, {'text': 'If', 'start': 349450, 'end': 349674, 'confidence': 0.60301, 'speaker': None}, {'text': 'held,', 'start': 349712, 'end': 349942, 'confidence': 0.01657, 'speaker': None}, {'text': 'statements', 'start': 349966, 'end': 350350, 'confidence': 0.9981, 'speaker': None}, {'text': 'are', 'start': 350410, 'end': 350634, 'confidence': 0.99782, 'speaker': None}, {'text': 'probably', 'start': 350672, 'end': 350874, 'confidence': 0.99908, 'speaker': None}, {'text': 'the', 'start': 350912, 'end': 351042, 'confidence': 1.0, 'speaker': None}, {'text': 'most', 'start': 351056, 'end': 351198, 'confidence': 0.99993, 'speaker': None}, {'text': 'important', 'start': 351224, 'end': 351486, 'confidence': 0.99983, 'speaker': None}, {'text': 'one.', 'start': 351548, 'end': 351846, 'confidence': 0.96, 'speaker': None}, {'text': 'But', 'start': 351908, 'end': 352098, 'confidence': 0.97042, 'speaker': None}, {'text': 'you', 'start': 352124, 'end': 352242, 'confidence': 0.99955, 'speaker': None}, {'text': 'can', 'start': 352256, 'end': 352434, 'confidence': 0.99864, 'speaker': None}, {'text': 'definitely', 'start': 352472, 'end': 352710, 'confidence': 0.99056, 'speaker': None}, {'text': 'find', 'start': 352760, 'end': 352974, 'confidence': 0.99613, 'speaker': None}, {'text': 'use', 'start': 353012, 'end': 353178, 'confidence': 0.99932, 'speaker': None}, {'text': 'cases', 'start': 353204, 'end': 353518, 'confidence': 0.99395, 'speaker': None}, {'text': 'for', 'start': 353554, 'end': 353682, 'confidence': 1.0, 'speaker': None}, {'text': 'the', 'start': 353696, 'end': 353802, 'confidence': 0.98, 'speaker': None}, {'text': 'others,', 'start': 353816, 'end': 354246, 'confidence': 0.99763, 'speaker': None}, {'text': 'especially', 'start': 354368, 'end': 354942, 'confidence': 0.99752, 'speaker': None}, {'text': 'if', 'start': 355076, 'end': 355302, 'confidence': 0.99911, 'speaker': None}, {'text': \"you're\", 'start': 355316, 'end': 355462, 'confidence': 0.97259, 'speaker': None}, {'text': 'working', 'start': 355486, 'end': 355674, 'confidence': 0.99962, 'speaker': None}, {'text': 'with', 'start': 355712, 'end': 355842, 'confidence': 0.99959, 'speaker': None}, {'text': 'data.', 'start': 355856, 'end': 356178, 'confidence': 0.99473, 'speaker': None}, {'text': 'The', 'start': 356264, 'end': 356442, 'confidence': 1.0, 'speaker': None}, {'text': 'fourth', 'start': 356456, 'end': 356626, 'confidence': 0.97, 'speaker': None}, {'text': 'thing', 'start': 356638, 'end': 356742, 'confidence': 0.91449, 'speaker': None}, {'text': 'you', 'start': 356756, 'end': 356862, 'confidence': 0.51007, 'speaker': None}, {'text': 'need', 'start': 356876, 'end': 357018, 'confidence': 0.96324, 'speaker': None}, {'text': 'to', 'start': 357044, 'end': 357162, 'confidence': 0.99, 'speaker': None}, {'text': 'understand', 'start': 357176, 'end': 357606, 'confidence': 0.99998, 'speaker': None}, {'text': 'is', 'start': 357728, 'end': 358050, 'confidence': 0.99848, 'speaker': None}, {'text': 'how', 'start': 358100, 'end': 358242, 'confidence': 0.99891, 'speaker': None}, {'text': 'loops', 'start': 358256, 'end': 358582, 'confidence': 0.99677, 'speaker': None}, {'text': 'work.', 'start': 358606, 'end': 358938, 'confidence': 0.9979, 'speaker': None}, {'text': 'So', 'start': 359024, 'end': 359274, 'confidence': 0.74638, 'speaker': None}, {'text': 'one', 'start': 359312, 'end': 359478, 'confidence': 1.0, 'speaker': None}, {'text': 'thing', 'start': 359504, 'end': 359694, 'confidence': 0.99889, 'speaker': None}, {'text': 'computers', 'start': 359732, 'end': 360274, 'confidence': 0.9927, 'speaker': None}, {'text': 'are', 'start': 360322, 'end': 360534, 'confidence': 0.99726, 'speaker': None}, {'text': 'really', 'start': 360572, 'end': 360954, 'confidence': 0.96662, 'speaker': None}, {'text': 'great', 'start': 361052, 'end': 361314, 'confidence': 0.99753, 'speaker': None}, {'text': 'at', 'start': 361352, 'end': 361626, 'confidence': 1.0, 'speaker': None}, {'text': 'is', 'start': 361688, 'end': 361878, 'confidence': 0.9617, 'speaker': None}, {'text': 'doing', 'start': 361904, 'end': 362094, 'confidence': 0.99762, 'speaker': None}, {'text': 'a', 'start': 362132, 'end': 362298, 'confidence': 0.99, 'speaker': None}, {'text': 'simple', 'start': 362324, 'end': 362550, 'confidence': 0.99886, 'speaker': None}, {'text': 'task', 'start': 362600, 'end': 362974, 'confidence': 0.96074, 'speaker': None}, {'text': 'over', 'start': 363022, 'end': 363234, 'confidence': 0.99965, 'speaker': None}, {'text': 'and', 'start': 363272, 'end': 363402, 'confidence': 1.0, 'speaker': None}, {'text': 'over', 'start': 363416, 'end': 363558, 'confidence': 0.99891, 'speaker': None}, {'text': 'again.', 'start': 363584, 'end': 364098, 'confidence': 0.99874, 'speaker': None}, {'text': \"You'd\", 'start': 364244, 'end': 364522, 'confidence': 0.71925, 'speaker': None}, {'text': 'be', 'start': 364546, 'end': 364698, 'confidence': 0.99792, 'speaker': None}, {'text': 'surprised', 'start': 364724, 'end': 365206, 'confidence': 0.99552, 'speaker': None}, {'text': 'at', 'start': 365278, 'end': 365442, 'confidence': 0.99, 'speaker': None}, {'text': 'how', 'start': 365456, 'end': 365634, 'confidence': 0.74382, 'speaker': None}, {'text': 'useful', 'start': 365672, 'end': 366034, 'confidence': 0.83945, 'speaker': None}, {'text': 'these', 'start': 366082, 'end': 366294, 'confidence': 0.98676, 'speaker': None}, {'text': 'can', 'start': 366332, 'end': 366462, 'confidence': 0.96392, 'speaker': None}, {'text': 'be', 'start': 366476, 'end': 366834, 'confidence': 0.98568, 'speaker': None}, {'text': 'for', 'start': 366932, 'end': 367158, 'confidence': 1.0, 'speaker': None}, {'text': 'your', 'start': 367184, 'end': 367410, 'confidence': 0.99073, 'speaker': None}, {'text': 'programming', 'start': 367460, 'end': 367858, 'confidence': 0.96946, 'speaker': None}, {'text': 'future.', 'start': 367894, 'end': 368310, 'confidence': 0.99525, 'speaker': None}, {'text': 'After', 'start': 368420, 'end': 368694, 'confidence': 0.99968, 'speaker': None}, {'text': 'that,', 'start': 368732, 'end': 369006, 'confidence': 0.98791, 'speaker': None}, {'text': 'you', 'start': 369068, 'end': 369222, 'confidence': 0.99907, 'speaker': None}, {'text': 'should', 'start': 369236, 'end': 369378, 'confidence': 0.99958, 'speaker': None}, {'text': 'learn', 'start': 369404, 'end': 369558, 'confidence': 0.99987, 'speaker': None}, {'text': 'about', 'start': 369584, 'end': 369774, 'confidence': 0.99966, 'speaker': None}, {'text': 'functions.', 'start': 369812, 'end': 370378, 'confidence': 0.96541, 'speaker': None}, {'text': 'So', 'start': 370474, 'end': 370698, 'confidence': 0.68079, 'speaker': None}, {'text': 'this', 'start': 370724, 'end': 370878, 'confidence': 0.69937, 'speaker': None}, {'text': 'sets', 'start': 370904, 'end': 371182, 'confidence': 0.75429, 'speaker': None}, {'text': 'the', 'start': 371206, 'end': 371322, 'confidence': 1.0, 'speaker': None}, {'text': 'foundation', 'start': 371336, 'end': 371674, 'confidence': 0.99518, 'speaker': None}, {'text': 'for', 'start': 371722, 'end': 371898, 'confidence': 1.0, 'speaker': None}, {'text': 'almost', 'start': 371924, 'end': 372438, 'confidence': 0.9977, 'speaker': None}, {'text': 'everything', 'start': 372584, 'end': 372966, 'confidence': 0.99934, 'speaker': None}, {'text': 'you', 'start': 373028, 'end': 373218, 'confidence': 0.99835, 'speaker': None}, {'text': 'do', 'start': 373244, 'end': 373470, 'confidence': 0.9997, 'speaker': None}, {'text': 'on', 'start': 373520, 'end': 373698, 'confidence': 0.99851, 'speaker': None}, {'text': 'your', 'start': 373724, 'end': 373878, 'confidence': 0.99931, 'speaker': None}, {'text': 'programming', 'start': 373904, 'end': 374302, 'confidence': 0.99078, 'speaker': None}, {'text': 'journey.', 'start': 374326, 'end': 374818, 'confidence': 0.99069, 'speaker': None}, {'text': 'Functions', 'start': 374914, 'end': 375322, 'confidence': 0.8677, 'speaker': None}, {'text': 'allow', 'start': 375346, 'end': 375498, 'confidence': 0.99907, 'speaker': None}, {'text': 'you', 'start': 375524, 'end': 375606, 'confidence': 0.99064, 'speaker': None}, {'text': 'to', 'start': 375608, 'end': 375702, 'confidence': 0.65, 'speaker': None}, {'text': 'encapsulate', 'start': 375716, 'end': 376318, 'confidence': 0.56466, 'speaker': None}, {'text': 'code', 'start': 376354, 'end': 376554, 'confidence': 0.99738, 'speaker': None}, {'text': 'and', 'start': 376592, 'end': 376758, 'confidence': 1.0, 'speaker': None}, {'text': 'reuse', 'start': 376784, 'end': 377086, 'confidence': 0.9876, 'speaker': None}, {'text': 'it.', 'start': 377098, 'end': 377562, 'confidence': 0.91, 'speaker': None}, {'text': 'If', 'start': 377696, 'end': 377958, 'confidence': 0.99983, 'speaker': None}, {'text': 'you', 'start': 377984, 'end': 378102, 'confidence': 0.99847, 'speaker': None}, {'text': 'really', 'start': 378116, 'end': 378258, 'confidence': 0.98601, 'speaker': None}, {'text': 'think', 'start': 378284, 'end': 378438, 'confidence': 0.9998, 'speaker': None}, {'text': 'about', 'start': 378464, 'end': 378654, 'confidence': 0.84726, 'speaker': None}, {'text': 'it,', 'start': 378692, 'end': 378858, 'confidence': 1.0, 'speaker': None}, {'text': 'good', 'start': 378884, 'end': 379074, 'confidence': 0.99965, 'speaker': None}, {'text': 'coding', 'start': 379112, 'end': 379474, 'confidence': 0.97735, 'speaker': None}, {'text': 'is', 'start': 379522, 'end': 379662, 'confidence': 0.99958, 'speaker': None}, {'text': 'about', 'start': 379676, 'end': 379854, 'confidence': 0.99956, 'speaker': None}, {'text': 'making', 'start': 379892, 'end': 380202, 'confidence': 0.99975, 'speaker': None}, {'text': 'as', 'start': 380276, 'end': 380478, 'confidence': 0.99947, 'speaker': None}, {'text': 'many', 'start': 380504, 'end': 380766, 'confidence': 0.52828, 'speaker': None}, {'text': 'reusable', 'start': 380828, 'end': 381334, 'confidence': 0.98769, 'speaker': None}, {'text': 'bits', 'start': 381382, 'end': 381586, 'confidence': 0.99729, 'speaker': None}, {'text': 'as', 'start': 381598, 'end': 381738, 'confidence': 0.96622, 'speaker': None}, {'text': 'possible,', 'start': 381764, 'end': 382134, 'confidence': 0.99994, 'speaker': None}, {'text': 'and', 'start': 382232, 'end': 382458, 'confidence': 0.97, 'speaker': None}, {'text': 'these', 'start': 382484, 'end': 382638, 'confidence': 0.99757, 'speaker': None}, {'text': 'functions', 'start': 382664, 'end': 383062, 'confidence': 0.99897, 'speaker': None}, {'text': 'are', 'start': 383086, 'end': 383238, 'confidence': 0.63035, 'speaker': None}, {'text': 'where', 'start': 383264, 'end': 383418, 'confidence': 0.99923, 'speaker': None}, {'text': 'that', 'start': 383444, 'end': 383562, 'confidence': 0.98983, 'speaker': None}, {'text': 'really', 'start': 383576, 'end': 383754, 'confidence': 0.99168, 'speaker': None}, {'text': 'begins.', 'start': 383792, 'end': 384190, 'confidence': 0.98322, 'speaker': None}, {'text': 'At', 'start': 384250, 'end': 384402, 'confidence': 1.0, 'speaker': None}, {'text': 'this', 'start': 384416, 'end': 384558, 'confidence': 0.99884, 'speaker': None}, {'text': 'point,', 'start': 384584, 'end': 384738, 'confidence': 1.0, 'speaker': None}, {'text': 'you', 'start': 384764, 'end': 384882, 'confidence': 0.99924, 'speaker': None}, {'text': 'have', 'start': 384896, 'end': 385002, 'confidence': 0.997, 'speaker': None}, {'text': 'a', 'start': 385016, 'end': 385122, 'confidence': 0.99, 'speaker': None}, {'text': 'pretty', 'start': 385136, 'end': 385242, 'confidence': 0.99878, 'speaker': None}, {'text': 'good', 'start': 385256, 'end': 385434, 'confidence': 0.9998, 'speaker': None}, {'text': 'understanding', 'start': 385472, 'end': 385942, 'confidence': 0.99985, 'speaker': None}, {'text': 'of', 'start': 385966, 'end': 386082, 'confidence': 1.0, 'speaker': None}, {'text': 'the', 'start': 386096, 'end': 386202, 'confidence': 1.0, 'speaker': None}, {'text': 'key', 'start': 386216, 'end': 386394, 'confidence': 0.99829, 'speaker': None}, {'text': 'building', 'start': 386432, 'end': 386670, 'confidence': 0.99952, 'speaker': None}, {'text': 'blocks', 'start': 386720, 'end': 386962, 'confidence': 0.98821, 'speaker': None}, {'text': 'of', 'start': 386986, 'end': 387102, 'confidence': 0.98, 'speaker': None}, {'text': 'Python.', 'start': 387116, 'end': 387694, 'confidence': 0.99645, 'speaker': None}, {'text': 'You', 'start': 387802, 'end': 388002, 'confidence': 0.99938, 'speaker': None}, {'text': 'should', 'start': 388016, 'end': 388158, 'confidence': 0.99856, 'speaker': None}, {'text': 'now', 'start': 388184, 'end': 388374, 'confidence': 0.99391, 'speaker': None}, {'text': 'learn', 'start': 388412, 'end': 388614, 'confidence': 0.99927, 'speaker': None}, {'text': 'a', 'start': 388652, 'end': 388782, 'confidence': 0.98, 'speaker': None}, {'text': 'bit', 'start': 388796, 'end': 388938, 'confidence': 0.99936, 'speaker': None}, {'text': 'more', 'start': 388964, 'end': 389190, 'confidence': 0.99788, 'speaker': None}, {'text': 'about', 'start': 389240, 'end': 389454, 'confidence': 0.9994, 'speaker': None}, {'text': 'how', 'start': 389492, 'end': 389694, 'confidence': 0.99621, 'speaker': None}, {'text': 'some', 'start': 389732, 'end': 389898, 'confidence': 0.99908, 'speaker': None}, {'text': 'of', 'start': 389924, 'end': 390006, 'confidence': 0.99, 'speaker': None}, {'text': 'the', 'start': 390008, 'end': 390138, 'confidence': 0.99, 'speaker': None}, {'text': 'basic', 'start': 390164, 'end': 390454, 'confidence': 0.76972, 'speaker': None}, {'text': 'data', 'start': 390502, 'end': 390750, 'confidence': 0.998, 'speaker': None}, {'text': 'structures', 'start': 390800, 'end': 391174, 'confidence': 0.67145, 'speaker': None}, {'text': 'work.', 'start': 391222, 'end': 391470, 'confidence': 0.99893, 'speaker': None}, {'text': 'I', 'start': 391520, 'end': 391698, 'confidence': 1.0, 'speaker': None}, {'text': 'recommend', 'start': 391724, 'end': 392022, 'confidence': 0.99976, 'speaker': None}, {'text': 'taking', 'start': 392096, 'end': 392298, 'confidence': 0.99988, 'speaker': None}, {'text': 'a', 'start': 392324, 'end': 392406, 'confidence': 1.0, 'speaker': None}, {'text': 'deeper', 'start': 392408, 'end': 392602, 'confidence': 0.83913, 'speaker': None}, {'text': 'dive', 'start': 392626, 'end': 392806, 'confidence': 0.99643, 'speaker': None}, {'text': 'into', 'start': 392818, 'end': 392994, 'confidence': 0.99806, 'speaker': None}, {'text': 'Lists,', 'start': 393032, 'end': 393394, 'confidence': 0.81589, 'speaker': None}, {'text': 'Dictionaries,', 'start': 393442, 'end': 394066, 'confidence': 0.98574, 'speaker': None}, {'text': 'as', 'start': 394138, 'end': 394338, 'confidence': 0.99882, 'speaker': None}, {'text': 'well', 'start': 394364, 'end': 394482, 'confidence': 0.99942, 'speaker': None}, {'text': 'as', 'start': 394496, 'end': 394602, 'confidence': 0.99866, 'speaker': None}, {'text': 'Tuples.', 'start': 394616, 'end': 395014, 'confidence': 0.76369, 'speaker': None}, {'text': 'This', 'start': 395062, 'end': 395202, 'confidence': 0.99825, 'speaker': None}, {'text': 'will', 'start': 395216, 'end': 395322, 'confidence': 0.95847, 'speaker': None}, {'text': 'set', 'start': 395336, 'end': 395478, 'confidence': 0.99986, 'speaker': None}, {'text': 'the', 'start': 395504, 'end': 395622, 'confidence': 0.99, 'speaker': None}, {'text': 'foundation', 'start': 395636, 'end': 395974, 'confidence': 0.99587, 'speaker': None}, {'text': 'for', 'start': 396022, 'end': 396162, 'confidence': 1.0, 'speaker': None}, {'text': 'much', 'start': 396176, 'end': 396318, 'confidence': 0.99517, 'speaker': None}, {'text': 'of', 'start': 396344, 'end': 396462, 'confidence': 1.0, 'speaker': None}, {'text': 'your', 'start': 396476, 'end': 396582, 'confidence': 0.99861, 'speaker': None}, {'text': 'data', 'start': 396596, 'end': 396774, 'confidence': 0.98925, 'speaker': None}, {'text': 'work', 'start': 396812, 'end': 397014, 'confidence': 0.94623, 'speaker': None}, {'text': 'later', 'start': 397052, 'end': 397254, 'confidence': 0.99914, 'speaker': None}, {'text': 'on.', 'start': 397292, 'end': 397782, 'confidence': 0.99593, 'speaker': None}, {'text': 'Finally,', 'start': 397916, 'end': 398286, 'confidence': 0.99416, 'speaker': None}, {'text': 'you', 'start': 398348, 'end': 398502, 'confidence': 0.99558, 'speaker': None}, {'text': 'should', 'start': 398516, 'end': 398658, 'confidence': 0.8584, 'speaker': None}, {'text': 'start', 'start': 398684, 'end': 398874, 'confidence': 0.99457, 'speaker': None}, {'text': 'learning', 'start': 398912, 'end': 399186, 'confidence': 0.99979, 'speaker': None}, {'text': 'to', 'start': 399248, 'end': 399438, 'confidence': 1.0, 'speaker': None}, {'text': 'work', 'start': 399464, 'end': 399618, 'confidence': 0.99972, 'speaker': None}, {'text': 'with', 'start': 399644, 'end': 399798, 'confidence': 0.9996, 'speaker': None}, {'text': 'libraries.', 'start': 399824, 'end': 400402, 'confidence': 0.99828, 'speaker': None}, {'text': 'So', 'start': 400486, 'end': 400698, 'confidence': 0.66479, 'speaker': None}, {'text': 'the', 'start': 400724, 'end': 400878, 'confidence': 0.99, 'speaker': None}, {'text': 'most', 'start': 400904, 'end': 401058, 'confidence': 0.99972, 'speaker': None}, {'text': 'important', 'start': 401084, 'end': 401310, 'confidence': 0.99997, 'speaker': None}, {'text': 'ones', 'start': 401360, 'end': 401574, 'confidence': 1.0, 'speaker': None}, {'text': 'for', 'start': 401612, 'end': 401778, 'confidence': 1.0, 'speaker': None}, {'text': 'data', 'start': 401804, 'end': 402030, 'confidence': 0.99889, 'speaker': None}, {'text': 'are', 'start': 402080, 'end': 402258, 'confidence': 0.99288, 'speaker': None}, {'text': 'Pandas,', 'start': 402284, 'end': 402694, 'confidence': 0.82602, 'speaker': None}, {'text': 'NumPy,', 'start': 402742, 'end': 403138, 'confidence': 0.96727, 'speaker': None}, {'text': 'ScikitLearn,', 'start': 403174, 'end': 403738, 'confidence': 0.53288, 'speaker': None}, {'text': 'and', 'start': 403774, 'end': 403902, 'confidence': 0.98, 'speaker': None}, {'text': 'Matplotlib,', 'start': 403916, 'end': 404662, 'confidence': 0.18114, 'speaker': None}, {'text': 'and', 'start': 404746, 'end': 404958, 'confidence': 0.78, 'speaker': None}, {'text': 'these', 'start': 404984, 'end': 405174, 'confidence': 0.75367, 'speaker': None}, {'text': 'give', 'start': 405212, 'end': 405378, 'confidence': 0.99615, 'speaker': None}, {'text': 'you', 'start': 405404, 'end': 405594, 'confidence': 0.99842, 'speaker': None}, {'text': 'additional', 'start': 405632, 'end': 405970, 'confidence': 0.99987, 'speaker': None}, {'text': 'tools', 'start': 406030, 'end': 406282, 'confidence': 0.58955, 'speaker': None}, {'text': 'to', 'start': 406306, 'end': 406458, 'confidence': 1.0, 'speaker': None}, {'text': 'analyze,', 'start': 406484, 'end': 407062, 'confidence': 0.6885, 'speaker': None}, {'text': 'visualize', 'start': 407146, 'end': 407674, 'confidence': 0.99222, 'speaker': None}, {'text': 'and', 'start': 407722, 'end': 407898, 'confidence': 0.65, 'speaker': None}, {'text': 'manipulate', 'start': 407924, 'end': 408418, 'confidence': 0.40861, 'speaker': None}, {'text': 'data.', 'start': 408454, 'end': 408762, 'confidence': 0.98959, 'speaker': None}, {'text': 'Pandas', 'start': 408836, 'end': 409222, 'confidence': 0.94655, 'speaker': None}, {'text': 'and', 'start': 409246, 'end': 409326, 'confidence': 0.98, 'speaker': None}, {'text': 'Numpire', 'start': 409328, 'end': 409750, 'confidence': 0.07097, 'speaker': None}, {'text': 'also', 'start': 409810, 'end': 410034, 'confidence': 0.99307, 'speaker': None}, {'text': 'introduced', 'start': 410072, 'end': 410422, 'confidence': 0.67966, 'speaker': None}, {'text': 'some', 'start': 410446, 'end': 410598, 'confidence': 0.99782, 'speaker': None}, {'text': 'new', 'start': 410624, 'end': 410742, 'confidence': 1.0, 'speaker': None}, {'text': 'data', 'start': 410756, 'end': 410934, 'confidence': 0.99975, 'speaker': None}, {'text': 'structures,', 'start': 410972, 'end': 411334, 'confidence': 0.9967, 'speaker': None}, {'text': 'like', 'start': 411382, 'end': 411522, 'confidence': 0.99762, 'speaker': None}, {'text': 'arrays,', 'start': 411536, 'end': 411874, 'confidence': 0.62183, 'speaker': None}, {'text': 'series,', 'start': 411922, 'end': 412258, 'confidence': 0.96482, 'speaker': None}, {'text': 'and', 'start': 412294, 'end': 412386, 'confidence': 0.98, 'speaker': None}, {'text': 'data', 'start': 412388, 'end': 412554, 'confidence': 0.67446, 'speaker': None}, {'text': 'frames.', 'start': 412592, 'end': 412930, 'confidence': 0.76433, 'speaker': None}, {'text': 'So', 'start': 412990, 'end': 413142, 'confidence': 0.91165, 'speaker': None}, {'text': 'if', 'start': 413156, 'end': 413262, 'confidence': 0.99766, 'speaker': None}, {'text': 'you', 'start': 413276, 'end': 413346, 'confidence': 0.99954, 'speaker': None}, {'text': 'have', 'start': 413348, 'end': 413478, 'confidence': 0.61704, 'speaker': None}, {'text': 'an', 'start': 413504, 'end': 413622, 'confidence': 0.99744, 'speaker': None}, {'text': 'understanding', 'start': 413636, 'end': 414154, 'confidence': 0.96615, 'speaker': None}, {'text': 'of', 'start': 414202, 'end': 414342, 'confidence': 1.0, 'speaker': None}, {'text': 'how', 'start': 414356, 'end': 414462, 'confidence': 0.9993, 'speaker': None}, {'text': 'the', 'start': 414476, 'end': 414582, 'confidence': 0.97, 'speaker': None}, {'text': 'more', 'start': 414596, 'end': 414702, 'confidence': 0.99579, 'speaker': None}, {'text': 'basic', 'start': 414716, 'end': 414958, 'confidence': 0.94274, 'speaker': None}, {'text': 'data', 'start': 414994, 'end': 415194, 'confidence': 0.99948, 'speaker': None}, {'text': 'structures', 'start': 415232, 'end': 415558, 'confidence': 0.97019, 'speaker': None}, {'text': 'work', 'start': 415594, 'end': 415758, 'confidence': 0.99383, 'speaker': None}, {'text': 'in', 'start': 415784, 'end': 415866, 'confidence': 0.9486, 'speaker': None}, {'text': 'Python,', 'start': 415868, 'end': 416362, 'confidence': 0.68005, 'speaker': None}, {'text': 'you', 'start': 416446, 'end': 416622, 'confidence': 0.9991, 'speaker': None}, {'text': 'should', 'start': 416636, 'end': 416778, 'confidence': 0.54644, 'speaker': None}, {'text': 'be', 'start': 416804, 'end': 416922, 'confidence': 0.99957, 'speaker': None}, {'text': 'able', 'start': 416936, 'end': 417078, 'confidence': 0.99984, 'speaker': None}, {'text': 'to', 'start': 417104, 'end': 417186, 'confidence': 1.0, 'speaker': None}, {'text': 'pick', 'start': 417188, 'end': 417318, 'confidence': 0.99924, 'speaker': None}, {'text': 'these', 'start': 417344, 'end': 417534, 'confidence': 0.99554, 'speaker': None}, {'text': 'up', 'start': 417572, 'end': 417810, 'confidence': 0.99925, 'speaker': None}, {'text': 'relatively', 'start': 417860, 'end': 418378, 'confidence': 0.97179, 'speaker': None}, {'text': 'quickly.', 'start': 418414, 'end': 418758, 'confidence': 0.99939, 'speaker': None}, {'text': 'And', 'start': 418844, 'end': 419058, 'confidence': 0.88, 'speaker': None}, {'text': \"that's\", 'start': 419084, 'end': 419242, 'confidence': 0.97417, 'speaker': None}, {'text': 'it.', 'start': 419266, 'end': 419526, 'confidence': 0.99, 'speaker': None}, {'text': 'With', 'start': 419588, 'end': 419778, 'confidence': 0.99304, 'speaker': None}, {'text': 'those', 'start': 419804, 'end': 419994, 'confidence': 0.99918, 'speaker': None}, {'text': 'seven', 'start': 420032, 'end': 420270, 'confidence': 1.0, 'speaker': None}, {'text': 'things,', 'start': 420320, 'end': 420606, 'confidence': 0.99903, 'speaker': None}, {'text': 'you', 'start': 420668, 'end': 420822, 'confidence': 0.99839, 'speaker': None}, {'text': 'have', 'start': 420836, 'end': 420942, 'confidence': 0.99871, 'speaker': None}, {'text': 'the', 'start': 420956, 'end': 421098, 'confidence': 1.0, 'speaker': None}, {'text': 'basics', 'start': 421124, 'end': 421378, 'confidence': 0.99484, 'speaker': None}, {'text': 'of', 'start': 421414, 'end': 421578, 'confidence': 1.0, 'speaker': None}, {'text': 'coding', 'start': 421604, 'end': 421990, 'confidence': 0.99231, 'speaker': None}, {'text': 'that', 'start': 422050, 'end': 422238, 'confidence': 0.99401, 'speaker': None}, {'text': \"you'll\", 'start': 422264, 'end': 422422, 'confidence': 0.96097, 'speaker': None}, {'text': 'need', 'start': 422446, 'end': 422634, 'confidence': 0.99993, 'speaker': None}, {'text': 'for', 'start': 422672, 'end': 422946, 'confidence': 0.99, 'speaker': None}, {'text': 'starting', 'start': 423008, 'end': 423234, 'confidence': 0.99838, 'speaker': None}, {'text': 'to', 'start': 423272, 'end': 423438, 'confidence': 1.0, 'speaker': None}, {'text': 'work', 'start': 423464, 'end': 423654, 'confidence': 0.9994, 'speaker': None}, {'text': 'with', 'start': 423692, 'end': 423858, 'confidence': 0.99923, 'speaker': None}, {'text': 'data.', 'start': 423884, 'end': 424182, 'confidence': 0.99918, 'speaker': None}, {'text': 'If', 'start': 424256, 'end': 424422, 'confidence': 0.99933, 'speaker': None}, {'text': \"you're\", 'start': 424436, 'end': 424582, 'confidence': 0.96704, 'speaker': None}, {'text': 'watching', 'start': 424606, 'end': 424794, 'confidence': 0.99944, 'speaker': None}, {'text': 'this', 'start': 424832, 'end': 424962, 'confidence': 0.99825, 'speaker': None}, {'text': 'and', 'start': 424976, 'end': 425046, 'confidence': 0.66, 'speaker': None}, {'text': \"you're\", 'start': 425048, 'end': 425146, 'confidence': 0.68505, 'speaker': None}, {'text': 'a', 'start': 425158, 'end': 425226, 'confidence': 0.89, 'speaker': None}, {'text': 'software', 'start': 425228, 'end': 425458, 'confidence': 0.78808, 'speaker': None}, {'text': 'engineer,', 'start': 425494, 'end': 426022, 'confidence': 0.99941, 'speaker': None}, {'text': 'you', 'start': 426106, 'end': 426318, 'confidence': 0.99922, 'speaker': None}, {'text': 'probably', 'start': 426344, 'end': 426534, 'confidence': 0.99971, 'speaker': None}, {'text': 'think', 'start': 426572, 'end': 426738, 'confidence': 0.9995, 'speaker': None}, {'text': 'I', 'start': 426764, 'end': 426882, 'confidence': 1.0, 'speaker': None}, {'text': 'left', 'start': 426896, 'end': 427074, 'confidence': 0.99925, 'speaker': None}, {'text': 'something', 'start': 427112, 'end': 427350, 'confidence': 0.99917, 'speaker': None}, {'text': 'important', 'start': 427400, 'end': 427722, 'confidence': 0.99984, 'speaker': None}, {'text': 'out.', 'start': 427796, 'end': 428106, 'confidence': 0.68109, 'speaker': None}, {'text': 'What', 'start': 428168, 'end': 428358, 'confidence': 0.99813, 'speaker': None}, {'text': \"I've\", 'start': 428384, 'end': 428542, 'confidence': 0.83554, 'speaker': None}, {'text': 'purposely', 'start': 428566, 'end': 428902, 'confidence': 0.9878, 'speaker': None}, {'text': 'omitted', 'start': 428926, 'end': 429298, 'confidence': 0.35702, 'speaker': None}, {'text': 'from', 'start': 429334, 'end': 429498, 'confidence': 0.99544, 'speaker': None}, {'text': 'this', 'start': 429524, 'end': 429678, 'confidence': 0.99718, 'speaker': None}, {'text': 'list', 'start': 429704, 'end': 430002, 'confidence': 0.99983, 'speaker': None}, {'text': 'is', 'start': 430076, 'end': 430278, 'confidence': 0.99899, 'speaker': None}, {'text': 'an', 'start': 430304, 'end': 430458, 'confidence': 0.99801, 'speaker': None}, {'text': 'explanation', 'start': 430484, 'end': 430954, 'confidence': 0.99898, 'speaker': None}, {'text': 'of', 'start': 431002, 'end': 431214, 'confidence': 0.97, 'speaker': None}, {'text': 'classes.', 'start': 431252, 'end': 431710, 'confidence': 0.99914, 'speaker': None}, {'text': 'So', 'start': 431770, 'end': 431994, 'confidence': 0.85379, 'speaker': None}, {'text': 'classes', 'start': 432032, 'end': 432358, 'confidence': 0.99843, 'speaker': None}, {'text': 'are', 'start': 432394, 'end': 432522, 'confidence': 0.99901, 'speaker': None}, {'text': 'the', 'start': 432536, 'end': 432678, 'confidence': 0.95, 'speaker': None}, {'text': 'foundation', 'start': 432704, 'end': 433054, 'confidence': 0.99712, 'speaker': None}, {'text': 'of', 'start': 433102, 'end': 433314, 'confidence': 1.0, 'speaker': None}, {'text': 'object', 'start': 433352, 'end': 433590, 'confidence': 0.99956, 'speaker': None}, {'text': 'oriented', 'start': 433640, 'end': 434158, 'confidence': 0.5959, 'speaker': None}, {'text': 'programming,', 'start': 434194, 'end': 434782, 'confidence': 0.99895, 'speaker': None}, {'text': 'and', 'start': 434866, 'end': 435114, 'confidence': 0.78, 'speaker': None}, {'text': 'object', 'start': 435152, 'end': 435354, 'confidence': 0.99991, 'speaker': None}, {'text': 'oriented', 'start': 435392, 'end': 435898, 'confidence': 0.53913, 'speaker': None}, {'text': 'programming', 'start': 435934, 'end': 436582, 'confidence': 0.99916, 'speaker': None}, {'text': 'is', 'start': 436666, 'end': 436878, 'confidence': 0.99938, 'speaker': None}, {'text': 'a', 'start': 436904, 'end': 437022, 'confidence': 1.0, 'speaker': None}, {'text': 'programming', 'start': 437036, 'end': 437422, 'confidence': 0.99906, 'speaker': None}, {'text': 'model', 'start': 437446, 'end': 437634, 'confidence': 0.99994, 'speaker': None}, {'text': 'that', 'start': 437672, 'end': 437838, 'confidence': 0.99887, 'speaker': None}, {'text': 'organizes', 'start': 437864, 'end': 438358, 'confidence': 0.72414, 'speaker': None}, {'text': 'code', 'start': 438394, 'end': 438594, 'confidence': 0.99975, 'speaker': None}, {'text': 'around', 'start': 438632, 'end': 438870, 'confidence': 0.99916, 'speaker': None}, {'text': 'objects', 'start': 438920, 'end': 439414, 'confidence': 0.9296, 'speaker': None}, {'text': 'rather', 'start': 439462, 'end': 439674, 'confidence': 0.99992, 'speaker': None}, {'text': 'than', 'start': 439712, 'end': 439914, 'confidence': 0.99987, 'speaker': None}, {'text': 'functions', 'start': 439952, 'end': 440398, 'confidence': 0.71568, 'speaker': None}, {'text': 'or', 'start': 440434, 'end': 440598, 'confidence': 0.99743, 'speaker': None}, {'text': 'logic.', 'start': 440624, 'end': 441226, 'confidence': 0.98468, 'speaker': None}, {'text': 'Object', 'start': 441358, 'end': 441726, 'confidence': 0.73673, 'speaker': None}, {'text': 'oriented', 'start': 441788, 'end': 442258, 'confidence': 0.49172, 'speaker': None}, {'text': 'programming', 'start': 442294, 'end': 442702, 'confidence': 0.99915, 'speaker': None}, {'text': 'is', 'start': 442726, 'end': 442878, 'confidence': 0.97425, 'speaker': None}, {'text': 'incredibly', 'start': 442904, 'end': 443254, 'confidence': 0.56965, 'speaker': None}, {'text': 'powerful,', 'start': 443302, 'end': 443746, 'confidence': 0.99988, 'speaker': None}, {'text': 'but', 'start': 443818, 'end': 444018, 'confidence': 0.99071, 'speaker': None}, {'text': 'honestly,', 'start': 444044, 'end': 444394, 'confidence': 0.9892, 'speaker': None}, {'text': 'it', 'start': 444442, 'end': 444582, 'confidence': 0.99, 'speaker': None}, {'text': \"isn't\", 'start': 444596, 'end': 444838, 'confidence': 0.90189, 'speaker': None}, {'text': 'very', 'start': 444874, 'end': 445074, 'confidence': 0.99629, 'speaker': None}, {'text': 'relevant', 'start': 445112, 'end': 445474, 'confidence': 0.46806, 'speaker': None}, {'text': 'for', 'start': 445522, 'end': 445662, 'confidence': 1.0, 'speaker': None}, {'text': 'the', 'start': 445676, 'end': 445782, 'confidence': 0.99, 'speaker': None}, {'text': 'beginner', 'start': 445796, 'end': 446122, 'confidence': 0.98058, 'speaker': None}, {'text': 'stages', 'start': 446146, 'end': 446506, 'confidence': 0.99455, 'speaker': None}, {'text': 'of', 'start': 446578, 'end': 446778, 'confidence': 1.0, 'speaker': None}, {'text': 'working', 'start': 446804, 'end': 446994, 'confidence': 0.99963, 'speaker': None}, {'text': 'with', 'start': 447032, 'end': 447162, 'confidence': 0.9992, 'speaker': None}, {'text': 'data.', 'start': 447176, 'end': 447462, 'confidence': 0.99565, 'speaker': None}, {'text': 'It', 'start': 447536, 'end': 447738, 'confidence': 0.55, 'speaker': None}, {'text': 'is', 'start': 447764, 'end': 447954, 'confidence': 0.98323, 'speaker': None}, {'text': 'something', 'start': 447992, 'end': 448194, 'confidence': 0.99985, 'speaker': None}, {'text': 'you', 'start': 448232, 'end': 448362, 'confidence': 0.99623, 'speaker': None}, {'text': 'should', 'start': 448376, 'end': 448554, 'confidence': 0.84766, 'speaker': None}, {'text': 'absolutely', 'start': 448592, 'end': 448974, 'confidence': 0.99846, 'speaker': None}, {'text': 'explore', 'start': 449072, 'end': 449458, 'confidence': 0.99858, 'speaker': None}, {'text': 'on', 'start': 449494, 'end': 449622, 'confidence': 0.95657, 'speaker': None}, {'text': 'your', 'start': 449636, 'end': 449742, 'confidence': 0.99875, 'speaker': None}, {'text': 'own', 'start': 449756, 'end': 450114, 'confidence': 0.99967, 'speaker': None}, {'text': 'after', 'start': 450212, 'end': 450510, 'confidence': 0.64533, 'speaker': None}, {'text': \"you've\", 'start': 450560, 'end': 450778, 'confidence': 0.84551, 'speaker': None}, {'text': 'learned', 'start': 450814, 'end': 451114, 'confidence': 0.94096, 'speaker': None}, {'text': 'these', 'start': 451162, 'end': 451410, 'confidence': 0.99287, 'speaker': None}, {'text': 'other', 'start': 451460, 'end': 451674, 'confidence': 0.9986, 'speaker': None}, {'text': 'concepts.', 'start': 451712, 'end': 452134, 'confidence': 0.91307, 'speaker': None}, {'text': 'Well,', 'start': 452182, 'end': 452466, 'confidence': 0.95147, 'speaker': None}, {'text': 'in', 'start': 452528, 'end': 452682, 'confidence': 0.99964, 'speaker': None}, {'text': 'the', 'start': 452696, 'end': 452802, 'confidence': 1.0, 'speaker': None}, {'text': 'description,', 'start': 452816, 'end': 453214, 'confidence': 0.99, 'speaker': None}, {'text': \"I've\", 'start': 453262, 'end': 453502, 'confidence': 0.95224, 'speaker': None}, {'text': 'linked', 'start': 453526, 'end': 453742, 'confidence': 0.99886, 'speaker': None}, {'text': 'a', 'start': 453766, 'end': 453846, 'confidence': 1.0, 'speaker': None}, {'text': 'few', 'start': 453848, 'end': 454014, 'confidence': 0.62317, 'speaker': None}, {'text': 'great', 'start': 454052, 'end': 454254, 'confidence': 0.99499, 'speaker': None}, {'text': 'resources', 'start': 454292, 'end': 454798, 'confidence': 0.99861, 'speaker': None}, {'text': 'for', 'start': 454834, 'end': 454998, 'confidence': 1.0, 'speaker': None}, {'text': 'learning', 'start': 455024, 'end': 455286, 'confidence': 0.99936, 'speaker': None}, {'text': 'all', 'start': 455348, 'end': 455538, 'confidence': 0.99831, 'speaker': None}, {'text': 'of', 'start': 455564, 'end': 455646, 'confidence': 0.96, 'speaker': None}, {'text': 'the', 'start': 455648, 'end': 455778, 'confidence': 0.99, 'speaker': None}, {'text': 'concepts,', 'start': 455804, 'end': 456358, 'confidence': 0.56941, 'speaker': None}, {'text': 'including', 'start': 456454, 'end': 457018, 'confidence': 0.99971, 'speaker': None}, {'text': 'the', 'start': 457054, 'end': 457218, 'confidence': 1.0, 'speaker': None}, {'text': 'exact', 'start': 457244, 'end': 457542, 'confidence': 0.99932, 'speaker': None}, {'text': 'one', 'start': 457616, 'end': 457818, 'confidence': 1.0, 'speaker': None}, {'text': 'from', 'start': 457844, 'end': 457998, 'confidence': 0.9967, 'speaker': None}, {'text': 'Free', 'start': 458024, 'end': 458214, 'confidence': 0.98581, 'speaker': None}, {'text': 'Code', 'start': 458252, 'end': 458418, 'confidence': 0.97993, 'speaker': None}, {'text': 'Camp', 'start': 458444, 'end': 458742, 'confidence': 0.40326, 'speaker': None}, {'text': 'that', 'start': 458816, 'end': 459018, 'confidence': 0.99635, 'speaker': None}, {'text': 'I', 'start': 459044, 'end': 459162, 'confidence': 1.0, 'speaker': None}, {'text': 'gave', 'start': 459176, 'end': 459354, 'confidence': 0.99647, 'speaker': None}, {'text': 'my', 'start': 459392, 'end': 459522, 'confidence': 0.99786, 'speaker': None}, {'text': 'friend.', 'start': 459536, 'end': 459858, 'confidence': 0.98677, 'speaker': None}, {'text': 'Most', 'start': 459944, 'end': 460158, 'confidence': 0.99987, 'speaker': None}, {'text': 'of', 'start': 460184, 'end': 460302, 'confidence': 1.0, 'speaker': None}, {'text': 'them', 'start': 460316, 'end': 460458, 'confidence': 1.0, 'speaker': None}, {'text': 'are', 'start': 460484, 'end': 460638, 'confidence': 0.99862, 'speaker': None}, {'text': 'completely', 'start': 460664, 'end': 460998, 'confidence': 0.99984, 'speaker': None}, {'text': 'free,', 'start': 461084, 'end': 461442, 'confidence': 0.99997, 'speaker': None}, {'text': 'but', 'start': 461516, 'end': 461718, 'confidence': 0.99383, 'speaker': None}, {'text': 'I', 'start': 461744, 'end': 461862, 'confidence': 1.0, 'speaker': None}, {'text': 'have', 'start': 461876, 'end': 462018, 'confidence': 0.9929, 'speaker': None}, {'text': 'also', 'start': 462044, 'end': 462234, 'confidence': 0.99868, 'speaker': None}, {'text': 'included', 'start': 462272, 'end': 462658, 'confidence': 0.99825, 'speaker': None}, {'text': 'my', 'start': 462694, 'end': 462822, 'confidence': 0.99892, 'speaker': None}, {'text': 'discount', 'start': 462836, 'end': 463138, 'confidence': 0.99956, 'speaker': None}, {'text': 'link', 'start': 463174, 'end': 463374, 'confidence': 0.99969, 'speaker': None}, {'text': 'for', 'start': 463412, 'end': 463542, 'confidence': 1.0, 'speaker': None}, {'text': 'the', 'start': 463556, 'end': 463698, 'confidence': 1.0, 'speaker': None}, {'text': 'course', 'start': 463724, 'end': 463914, 'confidence': 0.99986, 'speaker': None}, {'text': 'on', 'start': 463952, 'end': 464082, 'confidence': 0.99644, 'speaker': None}, {'text': '365', 'start': 464096, 'end': 464718, 'confidence': 0.98, 'speaker': None}, {'text': 'Data', 'start': 464744, 'end': 464934, 'confidence': 0.9978, 'speaker': None}, {'text': 'Science.', 'start': 464972, 'end': 465418, 'confidence': 0.56158, 'speaker': None}, {'text': 'So', 'start': 465514, 'end': 465774, 'confidence': 0.84031, 'speaker': None}, {'text': 'if', 'start': 465812, 'end': 465942, 'confidence': 0.9985, 'speaker': None}, {'text': \"you're\", 'start': 465956, 'end': 466102, 'confidence': 0.95487, 'speaker': None}, {'text': 'looking', 'start': 466126, 'end': 466314, 'confidence': 0.9999, 'speaker': None}, {'text': 'for', 'start': 466352, 'end': 466482, 'confidence': 1.0, 'speaker': None}, {'text': 'a', 'start': 466496, 'end': 466602, 'confidence': 0.83, 'speaker': None}, {'text': 'resource', 'start': 466616, 'end': 466930, 'confidence': 0.58748, 'speaker': None}, {'text': 'just', 'start': 466990, 'end': 467178, 'confidence': 0.98421, 'speaker': None}, {'text': 'to', 'start': 467204, 'end': 467322, 'confidence': 1.0, 'speaker': None}, {'text': 'take', 'start': 467336, 'end': 467478, 'confidence': 0.99974, 'speaker': None}, {'text': 'you', 'start': 467504, 'end': 467658, 'confidence': 0.99644, 'speaker': None}, {'text': 'past', 'start': 467684, 'end': 468018, 'confidence': 0.99, 'speaker': None}, {'text': 'the', 'start': 468104, 'end': 468426, 'confidence': 0.99, 'speaker': None}, {'text': 'more', 'start': 468488, 'end': 468678, 'confidence': 0.99477, 'speaker': None}, {'text': 'basic', 'start': 468704, 'end': 468958, 'confidence': 0.98072, 'speaker': None}, {'text': 'coding', 'start': 468994, 'end': 469390, 'confidence': 0.99848, 'speaker': None}, {'text': 'and', 'start': 469450, 'end': 469674, 'confidence': 1.0, 'speaker': None}, {'text': 'more', 'start': 469712, 'end': 469878, 'confidence': 0.99514, 'speaker': None}, {'text': 'towards', 'start': 469904, 'end': 470094, 'confidence': 0.99793, 'speaker': None}, {'text': 'tangible', 'start': 470132, 'end': 470518, 'confidence': 0.98919, 'speaker': None}, {'text': 'data', 'start': 470554, 'end': 470754, 'confidence': 0.99269, 'speaker': None}, {'text': 'science', 'start': 470792, 'end': 471022, 'confidence': 0.89521, 'speaker': None}, {'text': 'skills,', 'start': 471046, 'end': 471394, 'confidence': 0.98988, 'speaker': None}, {'text': 'I', 'start': 471442, 'end': 471582, 'confidence': 1.0, 'speaker': None}, {'text': 'would', 'start': 471596, 'end': 471738, 'confidence': 0.99214, 'speaker': None}, {'text': 'recommend', 'start': 471764, 'end': 472026, 'confidence': 0.99994, 'speaker': None}, {'text': 'checking', 'start': 472088, 'end': 472342, 'confidence': 0.99708, 'speaker': None}, {'text': 'that', 'start': 472366, 'end': 472518, 'confidence': 0.99003, 'speaker': None}, {'text': 'out.', 'start': 472544, 'end': 472770, 'confidence': 0.99962, 'speaker': None}, {'text': 'One', 'start': 472820, 'end': 472998, 'confidence': 1.0, 'speaker': None}, {'text': 'thing', 'start': 473024, 'end': 473178, 'confidence': 0.63879, 'speaker': None}, {'text': 'that', 'start': 473204, 'end': 473322, 'confidence': 0.98723, 'speaker': None}, {'text': 'I', 'start': 473336, 'end': 473442, 'confidence': 1.0, 'speaker': None}, {'text': 'love', 'start': 473456, 'end': 473706, 'confidence': 0.99678, 'speaker': None}, {'text': 'about', 'start': 473768, 'end': 474030, 'confidence': 0.99973, 'speaker': None}, {'text': 'many', 'start': 474080, 'end': 474258, 'confidence': 0.99925, 'speaker': None}, {'text': 'of', 'start': 474284, 'end': 474402, 'confidence': 1.0, 'speaker': None}, {'text': 'the', 'start': 474416, 'end': 474522, 'confidence': 1.0, 'speaker': None}, {'text': 'courses', 'start': 474536, 'end': 474802, 'confidence': 0.99739, 'speaker': None}, {'text': 'that', 'start': 474826, 'end': 474942, 'confidence': 0.96061, 'speaker': None}, {'text': \"I've\", 'start': 474956, 'end': 475102, 'confidence': 0.92644, 'speaker': None}, {'text': 'linked', 'start': 475126, 'end': 475618, 'confidence': 0.99927, 'speaker': None}, {'text': 'is', 'start': 475714, 'end': 475974, 'confidence': 0.99928, 'speaker': None}, {'text': 'that', 'start': 476012, 'end': 476142, 'confidence': 0.98428, 'speaker': None}, {'text': 'they', 'start': 476156, 'end': 476298, 'confidence': 0.99734, 'speaker': None}, {'text': 'have', 'start': 476324, 'end': 476478, 'confidence': 0.91593, 'speaker': None}, {'text': 'these', 'start': 476504, 'end': 476658, 'confidence': 0.99806, 'speaker': None}, {'text': 'little', 'start': 476684, 'end': 476838, 'confidence': 0.99893, 'speaker': None}, {'text': 'mini', 'start': 476864, 'end': 477118, 'confidence': 0.94515, 'speaker': None}, {'text': 'projects', 'start': 477154, 'end': 477538, 'confidence': 0.89918, 'speaker': None}, {'text': 'baked', 'start': 477574, 'end': 477862, 'confidence': 0.92918, 'speaker': None}, {'text': 'into', 'start': 477886, 'end': 478038, 'confidence': 0.9951, 'speaker': None}, {'text': 'the', 'start': 478064, 'end': 478182, 'confidence': 0.99, 'speaker': None}, {'text': 'coursework.', 'start': 478196, 'end': 478738, 'confidence': 0.82633, 'speaker': None}, {'text': 'I', 'start': 478834, 'end': 479022, 'confidence': 0.99, 'speaker': None}, {'text': 'think', 'start': 479036, 'end': 479214, 'confidence': 0.99886, 'speaker': None}, {'text': 'project', 'start': 479252, 'end': 479526, 'confidence': 0.99982, 'speaker': None}, {'text': 'based', 'start': 479588, 'end': 479886, 'confidence': 0.94323, 'speaker': None}, {'text': 'learning', 'start': 479948, 'end': 480174, 'confidence': 0.85772, 'speaker': None}, {'text': 'is', 'start': 480212, 'end': 480342, 'confidence': 0.99443, 'speaker': None}, {'text': 'the', 'start': 480356, 'end': 480534, 'confidence': 1.0, 'speaker': None}, {'text': 'single', 'start': 480572, 'end': 480810, 'confidence': 0.99904, 'speaker': None}, {'text': 'most', 'start': 480860, 'end': 481074, 'confidence': 0.99948, 'speaker': None}, {'text': 'effective', 'start': 481112, 'end': 481498, 'confidence': 0.99952, 'speaker': None}, {'text': 'way', 'start': 481534, 'end': 481842, 'confidence': 0.99947, 'speaker': None}, {'text': 'to', 'start': 481916, 'end': 482082, 'confidence': 1.0, 'speaker': None}, {'text': 'learn', 'start': 482096, 'end': 482274, 'confidence': 0.99988, 'speaker': None}, {'text': 'technical', 'start': 482312, 'end': 482710, 'confidence': 0.98909, 'speaker': None}, {'text': 'concepts.', 'start': 482770, 'end': 483358, 'confidence': 0.89674, 'speaker': None}, {'text': 'After', 'start': 483454, 'end': 483786, 'confidence': 0.99974, 'speaker': None}, {'text': 'first', 'start': 483848, 'end': 484146, 'confidence': 1.0, 'speaker': None}, {'text': 'getting', 'start': 484208, 'end': 484542, 'confidence': 0.99825, 'speaker': None}, {'text': 'a', 'start': 484616, 'end': 484890, 'confidence': 1.0, 'speaker': None}, {'text': 'basic', 'start': 484940, 'end': 485278, 'confidence': 0.99855, 'speaker': None}, {'text': 'foundation,', 'start': 485314, 'end': 486058, 'confidence': 0.79937, 'speaker': None}, {'text': 'I', 'start': 486214, 'end': 486534, 'confidence': 1.0, 'speaker': None}, {'text': 'highly', 'start': 486572, 'end': 486898, 'confidence': 0.99974, 'speaker': None}, {'text': 'encourage', 'start': 486934, 'end': 487222, 'confidence': 0.58756, 'speaker': None}, {'text': 'you', 'start': 487246, 'end': 487362, 'confidence': 0.99711, 'speaker': None}, {'text': 'to', 'start': 487376, 'end': 487518, 'confidence': 0.52, 'speaker': None}, {'text': 'think', 'start': 487544, 'end': 487698, 'confidence': 0.99912, 'speaker': None}, {'text': 'about', 'start': 487724, 'end': 488166, 'confidence': 0.99926, 'speaker': None}, {'text': 'how', 'start': 488288, 'end': 488538, 'confidence': 0.9999, 'speaker': None}, {'text': 'you', 'start': 488564, 'end': 488682, 'confidence': 0.99961, 'speaker': None}, {'text': 'can', 'start': 488696, 'end': 488838, 'confidence': 0.99843, 'speaker': None}, {'text': 'use', 'start': 488864, 'end': 489054, 'confidence': 0.99943, 'speaker': None}, {'text': 'code', 'start': 489092, 'end': 489330, 'confidence': 0.99988, 'speaker': None}, {'text': 'to', 'start': 489380, 'end': 489522, 'confidence': 1.0, 'speaker': None}, {'text': 'build', 'start': 489536, 'end': 489714, 'confidence': 0.99969, 'speaker': None}, {'text': 'things', 'start': 489752, 'end': 490134, 'confidence': 0.99992, 'speaker': None}, {'text': 'that', 'start': 490232, 'end': 490458, 'confidence': 0.99958, 'speaker': None}, {'text': 'would', 'start': 490484, 'end': 490638, 'confidence': 0.99161, 'speaker': None}, {'text': 'be', 'start': 490664, 'end': 490818, 'confidence': 0.99978, 'speaker': None}, {'text': 'useful', 'start': 490844, 'end': 491194, 'confidence': 0.991, 'speaker': None}, {'text': 'to', 'start': 491242, 'end': 491418, 'confidence': 1.0, 'speaker': None}, {'text': 'you.', 'start': 491444, 'end': 491742, 'confidence': 0.9996, 'speaker': None}, {'text': 'So', 'start': 491816, 'end': 492018, 'confidence': 0.76299, 'speaker': None}, {'text': 'for', 'start': 492044, 'end': 492198, 'confidence': 0.98, 'speaker': None}, {'text': 'my', 'start': 492224, 'end': 492378, 'confidence': 0.99961, 'speaker': None}, {'text': 'friend,', 'start': 492404, 'end': 492630, 'confidence': 0.99768, 'speaker': None}, {'text': 'the', 'start': 492680, 'end': 492858, 'confidence': 1.0, 'speaker': None}, {'text': 'first', 'start': 492884, 'end': 493074, 'confidence': 1.0, 'speaker': None}, {'text': 'project', 'start': 493112, 'end': 493386, 'confidence': 0.99874, 'speaker': None}, {'text': \"I'm\", 'start': 493448, 'end': 493642, 'confidence': 0.98454, 'speaker': None}, {'text': 'having', 'start': 493666, 'end': 493818, 'confidence': 0.99746, 'speaker': None}, {'text': 'him', 'start': 493844, 'end': 493998, 'confidence': 0.74147, 'speaker': None}, {'text': 'do', 'start': 494024, 'end': 494358, 'confidence': 0.99938, 'speaker': None}, {'text': 'is', 'start': 494444, 'end': 494694, 'confidence': 0.99854, 'speaker': None}, {'text': 'create', 'start': 494732, 'end': 495006, 'confidence': 0.9997, 'speaker': None}, {'text': 'a', 'start': 495068, 'end': 495222, 'confidence': 0.88, 'speaker': None}, {'text': 'jujitsu', 'start': 495236, 'end': 495682, 'confidence': 0.55746, 'speaker': None}, {'text': 'drill', 'start': 495706, 'end': 495958, 'confidence': 0.96065, 'speaker': None}, {'text': 'randomizer', 'start': 495994, 'end': 496654, 'confidence': 0.84335, 'speaker': None}, {'text': 'using', 'start': 496702, 'end': 496914, 'confidence': 0.99884, 'speaker': None}, {'text': 'Python.', 'start': 496952, 'end': 497554, 'confidence': 0.99252, 'speaker': None}, {'text': 'So', 'start': 497662, 'end': 497862, 'confidence': 0.74967, 'speaker': None}, {'text': 'for', 'start': 497876, 'end': 498018, 'confidence': 0.86, 'speaker': None}, {'text': 'training', 'start': 498044, 'end': 498270, 'confidence': 0.99903, 'speaker': None}, {'text': 'anything,', 'start': 498320, 'end': 498642, 'confidence': 0.99864, 'speaker': None}, {'text': \"it's\", 'start': 498716, 'end': 498922, 'confidence': 0.90167, 'speaker': None}, {'text': 'important', 'start': 498946, 'end': 499170, 'confidence': 0.99962, 'speaker': None}, {'text': 'to', 'start': 499220, 'end': 499362, 'confidence': 1.0, 'speaker': None}, {'text': 'reinforce', 'start': 499376, 'end': 499762, 'confidence': 0.62876, 'speaker': None}, {'text': 'your', 'start': 499786, 'end': 499938, 'confidence': 0.96497, 'speaker': None}, {'text': 'skills.', 'start': 499964, 'end': 500446, 'confidence': 0.99851, 'speaker': None}, {'text': 'But', 'start': 500518, 'end': 500718, 'confidence': 0.99603, 'speaker': None}, {'text': 'it', 'start': 500744, 'end': 500862, 'confidence': 1.0, 'speaker': None}, {'text': 'can', 'start': 500876, 'end': 500982, 'confidence': 0.99918, 'speaker': None}, {'text': 'get', 'start': 500996, 'end': 501138, 'confidence': 0.99653, 'speaker': None}, {'text': 'boring', 'start': 501164, 'end': 501574, 'confidence': 0.50079, 'speaker': None}, {'text': 'working', 'start': 501622, 'end': 501834, 'confidence': 0.99822, 'speaker': None}, {'text': 'on', 'start': 501872, 'end': 502074, 'confidence': 0.99416, 'speaker': None}, {'text': 'the', 'start': 502112, 'end': 502242, 'confidence': 1.0, 'speaker': None}, {'text': 'same', 'start': 502256, 'end': 502434, 'confidence': 0.99925, 'speaker': None}, {'text': 'basic', 'start': 502472, 'end': 502798, 'confidence': 0.81698, 'speaker': None}, {'text': 'drills', 'start': 502834, 'end': 503158, 'confidence': 0.99468, 'speaker': None}, {'text': 'every', 'start': 503194, 'end': 503358, 'confidence': 0.9996, 'speaker': None}, {'text': 'day.', 'start': 503384, 'end': 503610, 'confidence': 0.85907, 'speaker': None}, {'text': \"I'm\", 'start': 503660, 'end': 503902, 'confidence': 0.98602, 'speaker': None}, {'text': 'having', 'start': 503926, 'end': 504078, 'confidence': 0.99941, 'speaker': None}, {'text': 'to', 'start': 504104, 'end': 504222, 'confidence': 0.11, 'speaker': None}, {'text': 'make', 'start': 504236, 'end': 504378, 'confidence': 0.99902, 'speaker': None}, {'text': 'a', 'start': 504404, 'end': 504522, 'confidence': 1.0, 'speaker': None}, {'text': 'program', 'start': 504536, 'end': 504894, 'confidence': 0.99988, 'speaker': None}, {'text': 'that', 'start': 504992, 'end': 505218, 'confidence': 0.99845, 'speaker': None}, {'text': 'essentially', 'start': 505244, 'end': 505714, 'confidence': 0.99814, 'speaker': None}, {'text': 'randomly', 'start': 505822, 'end': 506278, 'confidence': 0.90784, 'speaker': None}, {'text': 'selects', 'start': 506314, 'end': 506698, 'confidence': 0.93366, 'speaker': None}, {'text': 'two', 'start': 506734, 'end': 506862, 'confidence': 1.0, 'speaker': None}, {'text': 'to', 'start': 506876, 'end': 506982, 'confidence': 0.98, 'speaker': None}, {'text': 'three', 'start': 506996, 'end': 507174, 'confidence': 0.76, 'speaker': None}, {'text': 'drills', 'start': 507212, 'end': 507682, 'confidence': 0.58808, 'speaker': None}, {'text': 'that', 'start': 507766, 'end': 507978, 'confidence': 0.9915, 'speaker': None}, {'text': 'we', 'start': 508004, 'end': 508122, 'confidence': 0.99963, 'speaker': None}, {'text': 'should', 'start': 508136, 'end': 508278, 'confidence': 0.99967, 'speaker': None}, {'text': 'work', 'start': 508304, 'end': 508422, 'confidence': 0.99973, 'speaker': None}, {'text': 'on', 'start': 508436, 'end': 508578, 'confidence': 0.99811, 'speaker': None}, {'text': 'during', 'start': 508604, 'end': 508794, 'confidence': 0.99961, 'speaker': None}, {'text': 'our', 'start': 508832, 'end': 508962, 'confidence': 0.99831, 'speaker': None}, {'text': 'sessions', 'start': 508976, 'end': 509422, 'confidence': 0.99738, 'speaker': None}, {'text': 'from', 'start': 509506, 'end': 509718, 'confidence': 0.99957, 'speaker': None}, {'text': 'a', 'start': 509744, 'end': 509862, 'confidence': 1.0, 'speaker': None}, {'text': 'larger', 'start': 509876, 'end': 510238, 'confidence': 0.99827, 'speaker': None}, {'text': 'list.', 'start': 510274, 'end': 510618, 'confidence': 0.99969, 'speaker': None}, {'text': 'This', 'start': 510704, 'end': 510918, 'confidence': 0.99551, 'speaker': None}, {'text': 'is', 'start': 510944, 'end': 511062, 'confidence': 0.99199, 'speaker': None}, {'text': 'a', 'start': 511076, 'end': 511182, 'confidence': 1.0, 'speaker': None}, {'text': 'simple', 'start': 511196, 'end': 511374, 'confidence': 0.99943, 'speaker': None}, {'text': 'project,', 'start': 511412, 'end': 511722, 'confidence': 0.64475, 'speaker': None}, {'text': 'but', 'start': 511796, 'end': 511962, 'confidence': 0.99639, 'speaker': None}, {'text': \"it's\", 'start': 511976, 'end': 512122, 'confidence': 0.93537, 'speaker': None}, {'text': 'something', 'start': 512146, 'end': 512298, 'confidence': 0.99976, 'speaker': None}, {'text': \"that's\", 'start': 512324, 'end': 512578, 'confidence': 0.47118, 'speaker': None}, {'text': 'directly', 'start': 512614, 'end': 512998, 'confidence': 0.99947, 'speaker': None}, {'text': 'relevant', 'start': 513034, 'end': 513418, 'confidence': 0.9999, 'speaker': None}, {'text': 'and', 'start': 513454, 'end': 513618, 'confidence': 0.99, 'speaker': None}, {'text': 'useful', 'start': 513644, 'end': 513934, 'confidence': 0.99901, 'speaker': None}, {'text': 'to', 'start': 513982, 'end': 514158, 'confidence': 1.0, 'speaker': None}, {'text': 'our', 'start': 514184, 'end': 514338, 'confidence': 0.99592, 'speaker': None}, {'text': 'work', 'start': 514364, 'end': 514518, 'confidence': 0.99959, 'speaker': None}, {'text': 'and', 'start': 514544, 'end': 514698, 'confidence': 0.62, 'speaker': None}, {'text': 'our', 'start': 514724, 'end': 514842, 'confidence': 0.97972, 'speaker': None}, {'text': 'jujitsu', 'start': 514856, 'end': 515302, 'confidence': 0.63237, 'speaker': None}, {'text': 'training.', 'start': 515326, 'end': 515586, 'confidence': 0.99902, 'speaker': None}, {'text': 'With', 'start': 515648, 'end': 515838, 'confidence': 0.99757, 'speaker': None}, {'text': 'that', 'start': 515864, 'end': 515982, 'confidence': 0.9987, 'speaker': None}, {'text': 'in', 'start': 515996, 'end': 516138, 'confidence': 0.99707, 'speaker': None}, {'text': 'mind,', 'start': 516164, 'end': 516390, 'confidence': 0.99986, 'speaker': None}, {'text': \"I'd\", 'start': 516440, 'end': 516682, 'confidence': 0.9506, 'speaker': None}, {'text': 'love', 'start': 516706, 'end': 516822, 'confidence': 0.99991, 'speaker': None}, {'text': 'for', 'start': 516836, 'end': 516942, 'confidence': 0.98, 'speaker': None}, {'text': 'you', 'start': 516956, 'end': 517062, 'confidence': 0.99943, 'speaker': None}, {'text': 'to', 'start': 517076, 'end': 517182, 'confidence': 1.0, 'speaker': None}, {'text': 'comment', 'start': 517196, 'end': 517474, 'confidence': 0.99917, 'speaker': None}, {'text': 'below', 'start': 517522, 'end': 517734, 'confidence': 0.99261, 'speaker': None}, {'text': 'with', 'start': 517772, 'end': 517902, 'confidence': 0.99853, 'speaker': None}, {'text': 'a', 'start': 517916, 'end': 518022, 'confidence': 0.99, 'speaker': None}, {'text': 'Python', 'start': 518036, 'end': 518398, 'confidence': 0.49123, 'speaker': None}, {'text': 'project', 'start': 518434, 'end': 518814, 'confidence': 0.99806, 'speaker': None}, {'text': 'that', 'start': 518912, 'end': 519102, 'confidence': 0.99729, 'speaker': None}, {'text': \"you'd\", 'start': 519116, 'end': 519322, 'confidence': 0.82038, 'speaker': None}, {'text': 'like', 'start': 519346, 'end': 519534, 'confidence': 0.9368, 'speaker': None}, {'text': 'to', 'start': 519572, 'end': 519702, 'confidence': 1.0, 'speaker': None}, {'text': 'do,', 'start': 519716, 'end': 520038, 'confidence': 0.99896, 'speaker': None}, {'text': 'and', 'start': 520124, 'end': 520338, 'confidence': 0.98, 'speaker': None}, {'text': \"we'll\", 'start': 520364, 'end': 520522, 'confidence': 0.50224, 'speaker': None}, {'text': 'all', 'start': 520546, 'end': 520698, 'confidence': 0.99484, 'speaker': None}, {'text': 'hold', 'start': 520724, 'end': 520914, 'confidence': 0.99981, 'speaker': None}, {'text': 'each', 'start': 520952, 'end': 521082, 'confidence': 0.99985, 'speaker': None}, {'text': 'other', 'start': 521096, 'end': 521238, 'confidence': 0.99959, 'speaker': None}, {'text': 'accountable.', 'start': 521264, 'end': 521854, 'confidence': 0.77243, 'speaker': None}, {'text': 'Okay?', 'start': 521962, 'end': 522378, 'confidence': 0.87837, 'speaker': None}, {'text': 'So', 'start': 522464, 'end': 522714, 'confidence': 0.88067, 'speaker': None}, {'text': 'now', 'start': 522752, 'end': 522882, 'confidence': 0.99847, 'speaker': None}, {'text': 'that', 'start': 522896, 'end': 523002, 'confidence': 0.99728, 'speaker': None}, {'text': \"you've\", 'start': 523016, 'end': 523162, 'confidence': 0.5773, 'speaker': None}, {'text': 'learned', 'start': 523186, 'end': 523366, 'confidence': 0.52233, 'speaker': None}, {'text': 'the', 'start': 523378, 'end': 523482, 'confidence': 1.0, 'speaker': None}, {'text': 'basics', 'start': 523496, 'end': 523738, 'confidence': 0.99795, 'speaker': None}, {'text': 'of', 'start': 523774, 'end': 523902, 'confidence': 0.99, 'speaker': None}, {'text': 'Python,', 'start': 523916, 'end': 524362, 'confidence': 0.80377, 'speaker': None}, {'text': 'now', 'start': 524446, 'end': 524658, 'confidence': 0.96106, 'speaker': None}, {'text': 'what?', 'start': 524684, 'end': 525162, 'confidence': 0.99677, 'speaker': None}, {'text': 'If', 'start': 525296, 'end': 525522, 'confidence': 0.9629, 'speaker': None}, {'text': \"you're\", 'start': 525536, 'end': 525682, 'confidence': 0.90302, 'speaker': None}, {'text': 'interested', 'start': 525706, 'end': 526002, 'confidence': 0.91053, 'speaker': None}, {'text': 'in', 'start': 526076, 'end': 526278, 'confidence': 0.9979, 'speaker': None}, {'text': 'learning', 'start': 526304, 'end': 526494, 'confidence': 0.99943, 'speaker': None}, {'text': 'more', 'start': 526532, 'end': 526698, 'confidence': 0.99812, 'speaker': None}, {'text': 'about', 'start': 526724, 'end': 526914, 'confidence': 0.99965, 'speaker': None}, {'text': 'data,', 'start': 526952, 'end': 527262, 'confidence': 0.99786, 'speaker': None}, {'text': 'I', 'start': 527336, 'end': 527646, 'confidence': 1.0, 'speaker': None}, {'text': 'highly', 'start': 527708, 'end': 527998, 'confidence': 0.99913, 'speaker': None}, {'text': 'recommend', 'start': 528034, 'end': 528378, 'confidence': 0.54412, 'speaker': None}, {'text': 'that', 'start': 528464, 'end': 528642, 'confidence': 0.98756, 'speaker': None}, {'text': 'you', 'start': 528656, 'end': 528798, 'confidence': 0.63535, 'speaker': None}, {'text': 'do', 'start': 528824, 'end': 528978, 'confidence': 0.99919, 'speaker': None}, {'text': 'a', 'start': 529004, 'end': 529122, 'confidence': 0.75, 'speaker': None}, {'text': 'datarelated', 'start': 529136, 'end': 529750, 'confidence': 0.47861, 'speaker': None}, {'text': 'project.', 'start': 529810, 'end': 530358, 'confidence': 0.99953, 'speaker': None}, {'text': 'The', 'start': 530504, 'end': 530814, 'confidence': 0.99, 'speaker': None}, {'text': 'single', 'start': 530852, 'end': 531090, 'confidence': 0.99846, 'speaker': None}, {'text': 'best', 'start': 531140, 'end': 531318, 'confidence': 0.99906, 'speaker': None}, {'text': 'place', 'start': 531344, 'end': 531534, 'confidence': 0.99915, 'speaker': None}, {'text': 'for', 'start': 531572, 'end': 531702, 'confidence': 1.0, 'speaker': None}, {'text': 'this', 'start': 531716, 'end': 531894, 'confidence': 0.99782, 'speaker': None}, {'text': 'is', 'start': 531932, 'end': 532098, 'confidence': 0.99676, 'speaker': None}, {'text': 'Kaggle.com,', 'start': 532124, 'end': 532902, 'confidence': 0.7, 'speaker': None}, {'text': 'which', 'start': 532976, 'end': 533142, 'confidence': 0.99816, 'speaker': None}, {'text': \"I've\", 'start': 533156, 'end': 533302, 'confidence': 0.85047, 'speaker': None}, {'text': 'mentioned', 'start': 533326, 'end': 533550, 'confidence': 0.99985, 'speaker': None}, {'text': 'before.', 'start': 533600, 'end': 534210, 'confidence': 0.99997, 'speaker': None}, {'text': 'If', 'start': 534380, 'end': 534678, 'confidence': 0.99874, 'speaker': None}, {'text': \"that's\", 'start': 534704, 'end': 534862, 'confidence': 0.86286, 'speaker': None}, {'text': 'a', 'start': 534886, 'end': 534966, 'confidence': 0.99, 'speaker': None}, {'text': 'bit', 'start': 534968, 'end': 535098, 'confidence': 0.98412, 'speaker': None}, {'text': 'too', 'start': 535124, 'end': 535278, 'confidence': 0.99512, 'speaker': None}, {'text': 'intimidating,', 'start': 535304, 'end': 535846, 'confidence': 0.99877, 'speaker': None}, {'text': 'you', 'start': 535918, 'end': 536082, 'confidence': 0.99961, 'speaker': None}, {'text': 'can', 'start': 536096, 'end': 536238, 'confidence': 0.99861, 'speaker': None}, {'text': 'follow', 'start': 536264, 'end': 536490, 'confidence': 0.99995, 'speaker': None}, {'text': 'along', 'start': 536540, 'end': 536754, 'confidence': 0.99974, 'speaker': None}, {'text': 'on', 'start': 536792, 'end': 536958, 'confidence': 0.72082, 'speaker': None}, {'text': 'one', 'start': 536984, 'end': 537066, 'confidence': 0.99, 'speaker': None}, {'text': 'of', 'start': 537068, 'end': 537126, 'confidence': 1.0, 'speaker': None}, {'text': 'the', 'start': 537128, 'end': 537222, 'confidence': 0.98, 'speaker': None}, {'text': 'projects', 'start': 537236, 'end': 537562, 'confidence': 0.99502, 'speaker': None}, {'text': 'that', 'start': 537586, 'end': 537702, 'confidence': 0.94413, 'speaker': None}, {'text': \"I've\", 'start': 537716, 'end': 537922, 'confidence': 0.67842, 'speaker': None}, {'text': 'done', 'start': 537946, 'end': 538206, 'confidence': 0.99951, 'speaker': None}, {'text': 'or', 'start': 538268, 'end': 538494, 'confidence': 0.61296, 'speaker': None}, {'text': 'one', 'start': 538532, 'end': 538662, 'confidence': 1.0, 'speaker': None}, {'text': 'of', 'start': 538676, 'end': 538746, 'confidence': 1.0, 'speaker': None}, {'text': 'the', 'start': 538748, 'end': 538878, 'confidence': 0.98, 'speaker': None}, {'text': 'thousands', 'start': 538904, 'end': 539266, 'confidence': 0.9708, 'speaker': None}, {'text': 'of', 'start': 539278, 'end': 539418, 'confidence': 1.0, 'speaker': None}, {'text': 'projects', 'start': 539444, 'end': 539782, 'confidence': 0.99653, 'speaker': None}, {'text': 'that', 'start': 539806, 'end': 539994, 'confidence': 0.99362, 'speaker': None}, {'text': 'other', 'start': 540032, 'end': 540198, 'confidence': 0.99751, 'speaker': None}, {'text': 'people', 'start': 540224, 'end': 540414, 'confidence': 0.99981, 'speaker': None}, {'text': 'have', 'start': 540452, 'end': 540618, 'confidence': 0.99105, 'speaker': None}, {'text': 'worked', 'start': 540644, 'end': 540834, 'confidence': 0.99987, 'speaker': None}, {'text': 'on', 'start': 540872, 'end': 541038, 'confidence': 0.99771, 'speaker': None}, {'text': 'on', 'start': 541064, 'end': 541182, 'confidence': 0.91073, 'speaker': None}, {'text': 'the', 'start': 541196, 'end': 541302, 'confidence': 0.99, 'speaker': None}, {'text': 'Kaggle', 'start': 541316, 'end': 541582, 'confidence': 0.87, 'speaker': None}, {'text': 'platform.', 'start': 541606, 'end': 542010, 'confidence': 0.99939, 'speaker': None}, {'text': 'Realistically,', 'start': 542120, 'end': 542974, 'confidence': 0.83248, 'speaker': None}, {'text': 'many', 'start': 543082, 'end': 543390, 'confidence': 0.99937, 'speaker': None}, {'text': 'people', 'start': 543440, 'end': 543690, 'confidence': 0.99982, 'speaker': None}, {'text': 'lose', 'start': 543740, 'end': 543922, 'confidence': 0.99119, 'speaker': None}, {'text': 'steam', 'start': 543946, 'end': 544294, 'confidence': 0.52419, 'speaker': None}, {'text': 'at', 'start': 544342, 'end': 544518, 'confidence': 1.0, 'speaker': None}, {'text': 'this', 'start': 544544, 'end': 544698, 'confidence': 0.98646, 'speaker': None}, {'text': 'step.', 'start': 544724, 'end': 545166, 'confidence': 0.97287, 'speaker': None}, {'text': 'They', 'start': 545288, 'end': 545538, 'confidence': 0.99938, 'speaker': None}, {'text': 'go', 'start': 545564, 'end': 545754, 'confidence': 0.99847, 'speaker': None}, {'text': 'through', 'start': 545792, 'end': 545958, 'confidence': 0.99934, 'speaker': None}, {'text': 'and', 'start': 545984, 'end': 546102, 'confidence': 0.99, 'speaker': None}, {'text': 'see', 'start': 546116, 'end': 546222, 'confidence': 0.99935, 'speaker': None}, {'text': 'the', 'start': 546236, 'end': 546378, 'confidence': 1.0, 'speaker': None}, {'text': 'great', 'start': 546404, 'end': 546558, 'confidence': 0.99829, 'speaker': None}, {'text': 'work', 'start': 546584, 'end': 546774, 'confidence': 0.99873, 'speaker': None}, {'text': 'that', 'start': 546812, 'end': 546978, 'confidence': 0.98627, 'speaker': None}, {'text': 'other', 'start': 547004, 'end': 547158, 'confidence': 0.9976, 'speaker': None}, {'text': 'people', 'start': 547184, 'end': 547338, 'confidence': 0.99995, 'speaker': None}, {'text': 'have', 'start': 547364, 'end': 547518, 'confidence': 0.66996, 'speaker': None}, {'text': 'done,', 'start': 547544, 'end': 547770, 'confidence': 0.99715, 'speaker': None}, {'text': 'and', 'start': 547820, 'end': 547998, 'confidence': 0.99, 'speaker': None}, {'text': 'they', 'start': 548024, 'end': 548142, 'confidence': 0.99574, 'speaker': None}, {'text': 'get', 'start': 548156, 'end': 548262, 'confidence': 0.99827, 'speaker': None}, {'text': 'discouraged', 'start': 548276, 'end': 548830, 'confidence': 0.99329, 'speaker': None}, {'text': 'again.', 'start': 548890, 'end': 549150, 'confidence': 0.98018, 'speaker': None}, {'text': 'Honestly,', 'start': 549200, 'end': 549598, 'confidence': 0.99964, 'speaker': None}, {'text': 'I', 'start': 549634, 'end': 549834, 'confidence': 0.63, 'speaker': None}, {'text': 'remember', 'start': 549872, 'end': 550146, 'confidence': 0.99949, 'speaker': None}, {'text': 'feeling', 'start': 550208, 'end': 550462, 'confidence': 0.99121, 'speaker': None}, {'text': 'this', 'start': 550486, 'end': 550638, 'confidence': 0.99735, 'speaker': None}, {'text': 'too.', 'start': 550664, 'end': 550890, 'confidence': 0.99305, 'speaker': None}, {'text': 'What', 'start': 550940, 'end': 551082, 'confidence': 0.99872, 'speaker': None}, {'text': 'I', 'start': 551096, 'end': 551238, 'confidence': 1.0, 'speaker': None}, {'text': 'recommend', 'start': 551264, 'end': 551562, 'confidence': 0.99997, 'speaker': None}, {'text': 'doing', 'start': 551636, 'end': 551946, 'confidence': 0.99888, 'speaker': None}, {'text': 'is', 'start': 552008, 'end': 552198, 'confidence': 0.99818, 'speaker': None}, {'text': 'going', 'start': 552224, 'end': 552414, 'confidence': 0.99968, 'speaker': None}, {'text': 'through', 'start': 552452, 'end': 552618, 'confidence': 0.99972, 'speaker': None}, {'text': 'some', 'start': 552644, 'end': 552762, 'confidence': 0.99924, 'speaker': None}, {'text': 'of', 'start': 552776, 'end': 552846, 'confidence': 0.99, 'speaker': None}, {'text': 'the', 'start': 552848, 'end': 552978, 'confidence': 0.99, 'speaker': None}, {'text': 'basic', 'start': 553004, 'end': 553258, 'confidence': 0.9911, 'speaker': None}, {'text': 'notebooks,', 'start': 553294, 'end': 553798, 'confidence': 0.97633, 'speaker': None}, {'text': 'like', 'start': 553834, 'end': 553998, 'confidence': 0.99743, 'speaker': None}, {'text': 'the', 'start': 554024, 'end': 554142, 'confidence': 1.0, 'speaker': None}, {'text': 'Titanic', 'start': 554156, 'end': 554578, 'confidence': 0.79376, 'speaker': None}, {'text': 'data', 'start': 554614, 'end': 554814, 'confidence': 0.99962, 'speaker': None}, {'text': 'set,', 'start': 554852, 'end': 555162, 'confidence': 0.80175, 'speaker': None}, {'text': 'and', 'start': 555236, 'end': 555438, 'confidence': 0.98, 'speaker': None}, {'text': 'just', 'start': 555464, 'end': 555690, 'confidence': 0.98766, 'speaker': None}, {'text': 'copying', 'start': 555740, 'end': 556042, 'confidence': 0.61613, 'speaker': None}, {'text': 'the', 'start': 556066, 'end': 556218, 'confidence': 0.98, 'speaker': None}, {'text': 'code,', 'start': 556244, 'end': 556686, 'confidence': 0.99958, 'speaker': None}, {'text': 'running', 'start': 556808, 'end': 557130, 'confidence': 0.99791, 'speaker': None}, {'text': 'it', 'start': 557180, 'end': 557322, 'confidence': 0.99, 'speaker': None}, {'text': 'on', 'start': 557336, 'end': 557442, 'confidence': 0.99589, 'speaker': None}, {'text': 'your', 'start': 557456, 'end': 557562, 'confidence': 0.99875, 'speaker': None}, {'text': 'own', 'start': 557576, 'end': 557718, 'confidence': 0.99675, 'speaker': None}, {'text': 'computer,', 'start': 557744, 'end': 558186, 'confidence': 0.9999, 'speaker': None}, {'text': 'line', 'start': 558308, 'end': 558594, 'confidence': 0.9981, 'speaker': None}, {'text': 'by', 'start': 558632, 'end': 558834, 'confidence': 0.56988, 'speaker': None}, {'text': 'line.', 'start': 558872, 'end': 559398, 'confidence': 0.99284, 'speaker': None}, {'text': 'Many', 'start': 559544, 'end': 559854, 'confidence': 0.99992, 'speaker': None}, {'text': 'people', 'start': 559892, 'end': 560094, 'confidence': 0.99975, 'speaker': None}, {'text': 'think', 'start': 560132, 'end': 560298, 'confidence': 0.99977, 'speaker': None}, {'text': 'that', 'start': 560324, 'end': 560442, 'confidence': 0.88948, 'speaker': None}, {'text': 'this', 'start': 560456, 'end': 560562, 'confidence': 0.99737, 'speaker': None}, {'text': 'is', 'start': 560576, 'end': 560718, 'confidence': 0.99468, 'speaker': None}, {'text': 'cheating,', 'start': 560744, 'end': 561250, 'confidence': 0.94576, 'speaker': None}, {'text': 'but', 'start': 561370, 'end': 561618, 'confidence': 0.99838, 'speaker': None}, {'text': \"it's\", 'start': 561644, 'end': 561802, 'confidence': 0.97969, 'speaker': None}, {'text': 'actually', 'start': 561826, 'end': 562086, 'confidence': 0.99565, 'speaker': None}, {'text': 'a', 'start': 562148, 'end': 562338, 'confidence': 0.99, 'speaker': None}, {'text': 'great', 'start': 562364, 'end': 562590, 'confidence': 0.99977, 'speaker': None}, {'text': 'way', 'start': 562640, 'end': 562782, 'confidence': 0.99922, 'speaker': None}, {'text': 'to', 'start': 562796, 'end': 562902, 'confidence': 1.0, 'speaker': None}, {'text': 'learn.', 'start': 562916, 'end': 563202, 'confidence': 0.99991, 'speaker': None}, {'text': 'Even', 'start': 563276, 'end': 563514, 'confidence': 0.99821, 'speaker': None}, {'text': 'better', 'start': 563552, 'end': 563826, 'confidence': 0.99998, 'speaker': None}, {'text': 'when', 'start': 563888, 'end': 564042, 'confidence': 0.99967, 'speaker': None}, {'text': 'you', 'start': 564056, 'end': 564162, 'confidence': 0.9977, 'speaker': None}, {'text': 'run', 'start': 564176, 'end': 564318, 'confidence': 0.99932, 'speaker': None}, {'text': 'it,', 'start': 564344, 'end': 564606, 'confidence': 1.0, 'speaker': None}, {'text': 'make', 'start': 564668, 'end': 564858, 'confidence': 0.99266, 'speaker': None}, {'text': 'some', 'start': 564884, 'end': 565074, 'confidence': 0.99686, 'speaker': None}, {'text': 'changes', 'start': 565112, 'end': 565350, 'confidence': 0.99974, 'speaker': None}, {'text': 'to', 'start': 565400, 'end': 565506, 'confidence': 1.0, 'speaker': None}, {'text': 'the', 'start': 565508, 'end': 565638, 'confidence': 0.61, 'speaker': None}, {'text': 'code', 'start': 565664, 'end': 565890, 'confidence': 0.99983, 'speaker': None}, {'text': 'and', 'start': 565940, 'end': 566082, 'confidence': 1.0, 'speaker': None}, {'text': 'see', 'start': 566096, 'end': 566238, 'confidence': 0.9995, 'speaker': None}, {'text': 'what', 'start': 566264, 'end': 566418, 'confidence': 0.99992, 'speaker': None}, {'text': 'happens.', 'start': 566444, 'end': 566958, 'confidence': 0.99947, 'speaker': None}, {'text': 'Maybe', 'start': 567104, 'end': 567414, 'confidence': 0.99938, 'speaker': None}, {'text': 'you', 'start': 567452, 'end': 567582, 'confidence': 0.89523, 'speaker': None}, {'text': 'should', 'start': 567596, 'end': 567738, 'confidence': 0.9986, 'speaker': None}, {'text': 'try', 'start': 567764, 'end': 567954, 'confidence': 0.99951, 'speaker': None}, {'text': 'changing,', 'start': 567992, 'end': 568498, 'confidence': 0.97412, 'speaker': None}, {'text': 'like', 'start': 568594, 'end': 568818, 'confidence': 0.64041, 'speaker': None}, {'text': 'the', 'start': 568844, 'end': 568962, 'confidence': 0.99, 'speaker': None}, {'text': 'colors', 'start': 568976, 'end': 569362, 'confidence': 0.51454, 'speaker': None}, {'text': 'on', 'start': 569386, 'end': 569538, 'confidence': 0.9971, 'speaker': None}, {'text': 'a', 'start': 569564, 'end': 569646, 'confidence': 0.99, 'speaker': None}, {'text': 'graph', 'start': 569648, 'end': 569986, 'confidence': 0.99977, 'speaker': None}, {'text': 'from', 'start': 570058, 'end': 570258, 'confidence': 0.99733, 'speaker': None}, {'text': 'blue', 'start': 570284, 'end': 570442, 'confidence': 0.99776, 'speaker': None}, {'text': 'to', 'start': 570466, 'end': 570618, 'confidence': 0.98, 'speaker': None}, {'text': 'red,', 'start': 570644, 'end': 570942, 'confidence': 0.99408, 'speaker': None}, {'text': 'or', 'start': 571016, 'end': 571398, 'confidence': 0.99636, 'speaker': None}, {'text': 'try', 'start': 571484, 'end': 571698, 'confidence': 0.99578, 'speaker': None}, {'text': 'to', 'start': 571724, 'end': 571842, 'confidence': 0.99, 'speaker': None}, {'text': 'make', 'start': 571856, 'end': 572034, 'confidence': 0.99906, 'speaker': None}, {'text': 'a', 'start': 572072, 'end': 572166, 'confidence': 1.0, 'speaker': None}, {'text': 'line', 'start': 572168, 'end': 572370, 'confidence': 0.60739, 'speaker': None}, {'text': 'thicker', 'start': 572420, 'end': 572722, 'confidence': 0.41498, 'speaker': None}, {'text': 'on', 'start': 572746, 'end': 572862, 'confidence': 0.99618, 'speaker': None}, {'text': 'one', 'start': 572876, 'end': 572982, 'confidence': 1.0, 'speaker': None}, {'text': 'of', 'start': 572996, 'end': 573066, 'confidence': 1.0, 'speaker': None}, {'text': 'the', 'start': 573068, 'end': 573162, 'confidence': 1.0, 'speaker': None}, {'text': 'graphs.', 'start': 573176, 'end': 573514, 'confidence': 0.99459, 'speaker': None}, {'text': 'Just', 'start': 573562, 'end': 573810, 'confidence': 0.93544, 'speaker': None}, {'text': 'simple', 'start': 573860, 'end': 574110, 'confidence': 0.99938, 'speaker': None}, {'text': 'things', 'start': 574160, 'end': 574338, 'confidence': 0.99943, 'speaker': None}, {'text': 'like', 'start': 574364, 'end': 574482, 'confidence': 0.9992, 'speaker': None}, {'text': 'that', 'start': 574496, 'end': 574746, 'confidence': 0.99711, 'speaker': None}, {'text': 'help', 'start': 574808, 'end': 574998, 'confidence': 0.99834, 'speaker': None}, {'text': 'you', 'start': 575024, 'end': 575142, 'confidence': 0.99542, 'speaker': None}, {'text': 'iterate', 'start': 575156, 'end': 575458, 'confidence': 0.99179, 'speaker': None}, {'text': 'and', 'start': 575494, 'end': 575622, 'confidence': 1.0, 'speaker': None}, {'text': 'improve.', 'start': 575636, 'end': 575974, 'confidence': 0.99737, 'speaker': None}, {'text': 'So', 'start': 576022, 'end': 576198, 'confidence': 0.83223, 'speaker': None}, {'text': 'remember', 'start': 576224, 'end': 576450, 'confidence': 0.99988, 'speaker': None}, {'text': 'when', 'start': 576500, 'end': 576642, 'confidence': 0.99821, 'speaker': None}, {'text': 'we', 'start': 576656, 'end': 576762, 'confidence': 0.99912, 'speaker': None}, {'text': 'talked', 'start': 576776, 'end': 576882, 'confidence': 0.99706, 'speaker': None}, {'text': 'about', 'start': 576896, 'end': 577038, 'confidence': 0.77834, 'speaker': None}, {'text': 'IDs', 'start': 577064, 'end': 577558, 'confidence': 0.02845, 'speaker': None}, {'text': 'earlier', 'start': 577594, 'end': 577990, 'confidence': 0.99808, 'speaker': None}, {'text': 'and', 'start': 578050, 'end': 578202, 'confidence': 0.99, 'speaker': None}, {'text': \"I'd\", 'start': 578216, 'end': 578386, 'confidence': 0.50315, 'speaker': None}, {'text': 'mentioned', 'start': 578398, 'end': 578610, 'confidence': 0.67249, 'speaker': None}, {'text': \"Jupiter's\", 'start': 578660, 'end': 579022, 'confidence': 2e-05, 'speaker': None}, {'text': 'notebook?', 'start': 579046, 'end': 579430, 'confidence': 0.83542, 'speaker': None}, {'text': 'Kaggle', 'start': 579490, 'end': 579862, 'confidence': 0.51, 'speaker': None}, {'text': 'uses', 'start': 579886, 'end': 580138, 'confidence': 0.70205, 'speaker': None}, {'text': 'something', 'start': 580174, 'end': 580410, 'confidence': 0.99962, 'speaker': None}, {'text': 'similar', 'start': 580460, 'end': 580746, 'confidence': 0.99993, 'speaker': None}, {'text': 'to', 'start': 580808, 'end': 580962, 'confidence': 1.0, 'speaker': None}, {'text': 'that', 'start': 580976, 'end': 581154, 'confidence': 0.9991, 'speaker': None}, {'text': 'that', 'start': 581192, 'end': 581358, 'confidence': 0.55538, 'speaker': None}, {'text': 'lets', 'start': 581384, 'end': 581566, 'confidence': 0.92448, 'speaker': None}, {'text': 'you', 'start': 581578, 'end': 581718, 'confidence': 0.99927, 'speaker': None}, {'text': 'work', 'start': 581744, 'end': 582006, 'confidence': 0.99863, 'speaker': None}, {'text': 'online.', 'start': 582068, 'end': 582474, 'confidence': 1.0, 'speaker': None}, {'text': 'This', 'start': 582572, 'end': 582798, 'confidence': 0.99875, 'speaker': None}, {'text': 'is', 'start': 582824, 'end': 582978, 'confidence': 0.99731, 'speaker': None}, {'text': 'great', 'start': 583004, 'end': 583194, 'confidence': 0.99981, 'speaker': None}, {'text': 'and', 'start': 583232, 'end': 583434, 'confidence': 0.98, 'speaker': None}, {'text': 'free', 'start': 583472, 'end': 583674, 'confidence': 0.99979, 'speaker': None}, {'text': 'compute', 'start': 583712, 'end': 584062, 'confidence': 0.9734, 'speaker': None}, {'text': 'power', 'start': 584086, 'end': 584346, 'confidence': 0.99944, 'speaker': None}, {'text': 'if', 'start': 584408, 'end': 584562, 'confidence': 0.99908, 'speaker': None}, {'text': 'you', 'start': 584576, 'end': 584646, 'confidence': 0.99874, 'speaker': None}, {'text': 'have', 'start': 584648, 'end': 584778, 'confidence': 0.99843, 'speaker': None}, {'text': 'limited', 'start': 584804, 'end': 585094, 'confidence': 0.99984, 'speaker': None}, {'text': 'resources', 'start': 585142, 'end': 585622, 'confidence': 0.78306, 'speaker': None}, {'text': 'at', 'start': 585646, 'end': 585762, 'confidence': 1.0, 'speaker': None}, {'text': 'home.', 'start': 585776, 'end': 585990, 'confidence': 0.99995, 'speaker': None}, {'text': 'So', 'start': 586040, 'end': 586182, 'confidence': 0.73623, 'speaker': None}, {'text': 'if', 'start': 586196, 'end': 586266, 'confidence': 0.99933, 'speaker': None}, {'text': 'you', 'start': 586268, 'end': 586362, 'confidence': 0.89199, 'speaker': None}, {'text': 'want', 'start': 586376, 'end': 586482, 'confidence': 0.92713, 'speaker': None}, {'text': 'to', 'start': 586496, 'end': 586602, 'confidence': 1.0, 'speaker': None}, {'text': 'work', 'start': 586616, 'end': 586758, 'confidence': 0.9998, 'speaker': None}, {'text': 'with', 'start': 586784, 'end': 586938, 'confidence': 0.99893, 'speaker': None}, {'text': 'data', 'start': 586964, 'end': 587190, 'confidence': 0.99951, 'speaker': None}, {'text': 'on', 'start': 587240, 'end': 587382, 'confidence': 0.99963, 'speaker': None}, {'text': 'your', 'start': 587396, 'end': 587610, 'confidence': 0.99812, 'speaker': None}, {'text': 'laptop', 'start': 587660, 'end': 588082, 'confidence': 0.99977, 'speaker': None}, {'text': 'or', 'start': 588106, 'end': 588258, 'confidence': 0.99133, 'speaker': None}, {'text': 'desktop,', 'start': 588284, 'end': 588850, 'confidence': 0.43863, 'speaker': None}, {'text': 'I', 'start': 588970, 'end': 589218, 'confidence': 1.0, 'speaker': None}, {'text': 'recommend', 'start': 589244, 'end': 589542, 'confidence': 0.99913, 'speaker': None}, {'text': 'downloading', 'start': 589616, 'end': 590062, 'confidence': 0.98534, 'speaker': None}, {'text': 'Anaconda.', 'start': 590086, 'end': 590674, 'confidence': 0.99032, 'speaker': None}, {'text': 'Anaconda', 'start': 590722, 'end': 591262, 'confidence': 0.97564, 'speaker': None}, {'text': 'is', 'start': 591286, 'end': 591402, 'confidence': 0.99807, 'speaker': None}, {'text': 'a', 'start': 591416, 'end': 591522, 'confidence': 0.99, 'speaker': None}, {'text': 'software', 'start': 591536, 'end': 591814, 'confidence': 0.98094, 'speaker': None}, {'text': 'package', 'start': 591862, 'end': 592174, 'confidence': 0.99585, 'speaker': None}, {'text': 'that', 'start': 592222, 'end': 592398, 'confidence': 0.99882, 'speaker': None}, {'text': 'lumps', 'start': 592424, 'end': 592702, 'confidence': 0.99596, 'speaker': None}, {'text': 'together', 'start': 592726, 'end': 592986, 'confidence': 0.99913, 'speaker': None}, {'text': 'all', 'start': 593048, 'end': 593202, 'confidence': 0.99972, 'speaker': None}, {'text': 'of', 'start': 593216, 'end': 593286, 'confidence': 0.97, 'speaker': None}, {'text': 'the', 'start': 593288, 'end': 593418, 'confidence': 0.93, 'speaker': None}, {'text': 'relevant', 'start': 593444, 'end': 593782, 'confidence': 0.99983, 'speaker': None}, {'text': 'Python', 'start': 593806, 'end': 594178, 'confidence': 0.4227, 'speaker': None}, {'text': 'libraries', 'start': 594214, 'end': 594910, 'confidence': 0.98926, 'speaker': None}, {'text': 'and', 'start': 595030, 'end': 595350, 'confidence': 1.0, 'speaker': None}, {'text': 'ideas', 'start': 595400, 'end': 596038, 'confidence': 0.02065, 'speaker': None}, {'text': 'for', 'start': 596074, 'end': 596238, 'confidence': 1.0, 'speaker': None}, {'text': 'data', 'start': 596264, 'end': 596454, 'confidence': 0.99982, 'speaker': None}, {'text': 'science', 'start': 596492, 'end': 596854, 'confidence': 0.87344, 'speaker': None}, {'text': 'in', 'start': 596902, 'end': 597078, 'confidence': 0.65548, 'speaker': None}, {'text': 'one', 'start': 597104, 'end': 597258, 'confidence': 1.0, 'speaker': None}, {'text': 'go.', 'start': 597284, 'end': 597690, 'confidence': 0.72562, 'speaker': None}, {'text': 'So', 'start': 597800, 'end': 598002, 'confidence': 0.84541, 'speaker': None}, {'text': 'you', 'start': 598016, 'end': 598122, 'confidence': 0.99604, 'speaker': None}, {'text': 'can', 'start': 598136, 'end': 598242, 'confidence': 0.99852, 'speaker': None}, {'text': 'check', 'start': 598256, 'end': 598398, 'confidence': 0.99981, 'speaker': None}, {'text': 'out', 'start': 598424, 'end': 598542, 'confidence': 0.98814, 'speaker': None}, {'text': 'my', 'start': 598556, 'end': 598698, 'confidence': 0.99938, 'speaker': None}, {'text': 'video', 'start': 598724, 'end': 598986, 'confidence': 0.99928, 'speaker': None}, {'text': 'for', 'start': 599048, 'end': 599238, 'confidence': 1.0, 'speaker': None}, {'text': 'how', 'start': 599264, 'end': 599454, 'confidence': 0.99978, 'speaker': None}, {'text': 'to', 'start': 599492, 'end': 599622, 'confidence': 1.0, 'speaker': None}, {'text': 'install', 'start': 599636, 'end': 599922, 'confidence': 0.93998, 'speaker': None}, {'text': 'it,', 'start': 599996, 'end': 600234, 'confidence': 0.98, 'speaker': None}, {'text': 'which', 'start': 600272, 'end': 600402, 'confidence': 0.99746, 'speaker': None}, {'text': \"I've\", 'start': 600416, 'end': 600562, 'confidence': 0.59709, 'speaker': None}, {'text': 'linked', 'start': 600586, 'end': 600766, 'confidence': 0.99509, 'speaker': None}, {'text': 'above', 'start': 600778, 'end': 601054, 'confidence': 0.55817, 'speaker': None}, {'text': 'and', 'start': 601102, 'end': 601278, 'confidence': 0.99, 'speaker': None}, {'text': 'in', 'start': 601304, 'end': 601422, 'confidence': 0.99193, 'speaker': None}, {'text': 'the', 'start': 601436, 'end': 601542, 'confidence': 1.0, 'speaker': None}, {'text': 'description.', 'start': 601556, 'end': 602134, 'confidence': 0.99612, 'speaker': None}, {'text': 'Finally,', 'start': 602242, 'end': 602622, 'confidence': 0.99824, 'speaker': None}, {'text': 'I', 'start': 602696, 'end': 602898, 'confidence': 0.82, 'speaker': None}, {'text': 'have', 'start': 602924, 'end': 603114, 'confidence': 0.99741, 'speaker': None}, {'text': 'three', 'start': 603152, 'end': 603354, 'confidence': 1.0, 'speaker': None}, {'text': 'tips', 'start': 603392, 'end': 603670, 'confidence': 0.9894, 'speaker': None}, {'text': 'to', 'start': 603730, 'end': 603918, 'confidence': 1.0, 'speaker': None}, {'text': 'send', 'start': 603944, 'end': 604098, 'confidence': 0.99982, 'speaker': None}, {'text': 'you', 'start': 604124, 'end': 604242, 'confidence': 0.9948, 'speaker': None}, {'text': 'on', 'start': 604256, 'end': 604326, 'confidence': 0.99477, 'speaker': None}, {'text': 'your', 'start': 604328, 'end': 604458, 'confidence': 0.5033, 'speaker': None}, {'text': 'way.', 'start': 604484, 'end': 604782, 'confidence': 0.99887, 'speaker': None}, {'text': 'These', 'start': 604856, 'end': 605058, 'confidence': 0.99879, 'speaker': None}, {'text': 'are', 'start': 605084, 'end': 605274, 'confidence': 0.99883, 'speaker': None}, {'text': 'probably', 'start': 605312, 'end': 605622, 'confidence': 0.99946, 'speaker': None}, {'text': 'the', 'start': 605696, 'end': 606042, 'confidence': 1.0, 'speaker': None}, {'text': 'most', 'start': 606116, 'end': 606390, 'confidence': 0.99992, 'speaker': None}, {'text': 'important', 'start': 606440, 'end': 606762, 'confidence': 0.99994, 'speaker': None}, {'text': 'things', 'start': 606836, 'end': 607182, 'confidence': 0.99835, 'speaker': None}, {'text': 'that', 'start': 607256, 'end': 607494, 'confidence': 0.89381, 'speaker': None}, {'text': 'a', 'start': 607532, 'end': 607662, 'confidence': 1.0, 'speaker': None}, {'text': 'new', 'start': 607676, 'end': 607818, 'confidence': 1.0, 'speaker': None}, {'text': 'coder', 'start': 607844, 'end': 608158, 'confidence': 0.9484, 'speaker': None}, {'text': 'can', 'start': 608194, 'end': 608358, 'confidence': 0.99701, 'speaker': None}, {'text': 'learn.', 'start': 608384, 'end': 608610, 'confidence': 0.99969, 'speaker': None}, {'text': 'So', 'start': 608660, 'end': 608838, 'confidence': 0.72834, 'speaker': None}, {'text': 'the', 'start': 608864, 'end': 608982, 'confidence': 1.0, 'speaker': None}, {'text': 'first', 'start': 608996, 'end': 609174, 'confidence': 1.0, 'speaker': None}, {'text': 'one', 'start': 609212, 'end': 609378, 'confidence': 1.0, 'speaker': None}, {'text': 'is', 'start': 609404, 'end': 609558, 'confidence': 0.58354, 'speaker': None}, {'text': 'to', 'start': 609584, 'end': 609738, 'confidence': 0.99, 'speaker': None}, {'text': 'use', 'start': 609764, 'end': 609918, 'confidence': 0.99927, 'speaker': None}, {'text': 'Google', 'start': 609944, 'end': 610170, 'confidence': 0.99988, 'speaker': None}, {'text': 'and', 'start': 610220, 'end': 610362, 'confidence': 0.99, 'speaker': None}, {'text': 'stack', 'start': 610376, 'end': 610558, 'confidence': 0.72797, 'speaker': None}, {'text': 'overflow.', 'start': 610594, 'end': 611350, 'confidence': 0.96074, 'speaker': None}, {'text': 'If', 'start': 611470, 'end': 611718, 'confidence': 0.99995, 'speaker': None}, {'text': 'you', 'start': 611744, 'end': 611898, 'confidence': 0.99969, 'speaker': None}, {'text': 'have', 'start': 611924, 'end': 612078, 'confidence': 0.99882, 'speaker': None}, {'text': 'a', 'start': 612104, 'end': 612222, 'confidence': 1.0, 'speaker': None}, {'text': 'question,', 'start': 612236, 'end': 612594, 'confidence': 0.99977, 'speaker': None}, {'text': \"it's\", 'start': 612692, 'end': 613018, 'confidence': 0.66637, 'speaker': None}, {'text': 'almost', 'start': 613054, 'end': 613290, 'confidence': 0.99976, 'speaker': None}, {'text': 'guaranteed', 'start': 613340, 'end': 613990, 'confidence': 0.81439, 'speaker': None}, {'text': 'that', 'start': 614050, 'end': 614274, 'confidence': 0.98865, 'speaker': None}, {'text': 'someone', 'start': 614312, 'end': 614550, 'confidence': 0.65552, 'speaker': None}, {'text': 'has', 'start': 614600, 'end': 614814, 'confidence': 0.81024, 'speaker': None}, {'text': 'asked', 'start': 614852, 'end': 615054, 'confidence': 0.99949, 'speaker': None}, {'text': 'it', 'start': 615092, 'end': 615222, 'confidence': 0.47, 'speaker': None}, {'text': 'before', 'start': 615236, 'end': 615522, 'confidence': 0.99966, 'speaker': None}, {'text': 'on', 'start': 615596, 'end': 615762, 'confidence': 0.99893, 'speaker': None}, {'text': 'the', 'start': 615776, 'end': 615882, 'confidence': 0.99, 'speaker': None}, {'text': 'Internet,', 'start': 615896, 'end': 616522, 'confidence': 0.79386, 'speaker': None}, {'text': 'getting', 'start': 616666, 'end': 617046, 'confidence': 0.99957, 'speaker': None}, {'text': 'good', 'start': 617108, 'end': 617334, 'confidence': 0.99945, 'speaker': None}, {'text': 'at', 'start': 617372, 'end': 617538, 'confidence': 1.0, 'speaker': None}, {'text': 'finding', 'start': 617564, 'end': 617878, 'confidence': 0.99983, 'speaker': None}, {'text': 'answers', 'start': 617914, 'end': 618298, 'confidence': 0.97906, 'speaker': None}, {'text': 'on', 'start': 618334, 'end': 618462, 'confidence': 0.99962, 'speaker': None}, {'text': 'your', 'start': 618476, 'end': 618618, 'confidence': 0.99168, 'speaker': None}, {'text': 'own', 'start': 618644, 'end': 618942, 'confidence': 0.99951, 'speaker': None}, {'text': 'via', 'start': 619016, 'end': 619294, 'confidence': 0.98816, 'speaker': None}, {'text': 'search', 'start': 619342, 'end': 619806, 'confidence': 0.99985, 'speaker': None}, {'text': 'might', 'start': 619928, 'end': 620142, 'confidence': 0.99908, 'speaker': None}, {'text': 'be', 'start': 620156, 'end': 620298, 'confidence': 0.98774, 'speaker': None}, {'text': 'the', 'start': 620324, 'end': 620478, 'confidence': 1.0, 'speaker': None}, {'text': 'single', 'start': 620504, 'end': 620730, 'confidence': 0.99856, 'speaker': None}, {'text': 'most', 'start': 620780, 'end': 620994, 'confidence': 0.99964, 'speaker': None}, {'text': 'important', 'start': 621032, 'end': 621306, 'confidence': 0.68113, 'speaker': None}, {'text': 'skill', 'start': 621368, 'end': 621694, 'confidence': 0.98421, 'speaker': None}, {'text': 'of', 'start': 621742, 'end': 621918, 'confidence': 1.0, 'speaker': None}, {'text': 'a', 'start': 621944, 'end': 622026, 'confidence': 0.98, 'speaker': None}, {'text': 'data', 'start': 622028, 'end': 622194, 'confidence': 0.99945, 'speaker': None}, {'text': 'scientist', 'start': 622232, 'end': 622618, 'confidence': 0.99785, 'speaker': None}, {'text': 'or', 'start': 622654, 'end': 622818, 'confidence': 0.9981, 'speaker': None}, {'text': 'software', 'start': 622844, 'end': 623098, 'confidence': 0.99947, 'speaker': None}, {'text': 'engineer', 'start': 623134, 'end': 623494, 'confidence': 0.75204, 'speaker': None}, {'text': 'that', 'start': 623542, 'end': 623682, 'confidence': 0.99563, 'speaker': None}, {'text': 'they', 'start': 623696, 'end': 623838, 'confidence': 0.99712, 'speaker': None}, {'text': 'use', 'start': 623864, 'end': 624090, 'confidence': 0.99694, 'speaker': None}, {'text': 'every', 'start': 624140, 'end': 624354, 'confidence': 0.99987, 'speaker': None}, {'text': 'single', 'start': 624392, 'end': 624594, 'confidence': 0.99823, 'speaker': None}, {'text': 'day.', 'start': 624632, 'end': 624906, 'confidence': 0.75804, 'speaker': None}, {'text': 'The', 'start': 624968, 'end': 625122, 'confidence': 0.99, 'speaker': None}, {'text': 'second', 'start': 625136, 'end': 625350, 'confidence': 0.67, 'speaker': None}, {'text': 'is', 'start': 625400, 'end': 625542, 'confidence': 0.99919, 'speaker': None}, {'text': 'to', 'start': 625556, 'end': 625698, 'confidence': 0.64, 'speaker': None}, {'text': 'use', 'start': 625724, 'end': 625914, 'confidence': 0.99946, 'speaker': None}, {'text': 'errors', 'start': 625952, 'end': 626314, 'confidence': 0.96957, 'speaker': None}, {'text': 'so', 'start': 626362, 'end': 626538, 'confidence': 0.48756, 'speaker': None}, {'text': 'your', 'start': 626564, 'end': 626682, 'confidence': 0.99043, 'speaker': None}, {'text': 'code', 'start': 626696, 'end': 626838, 'confidence': 0.99515, 'speaker': None}, {'text': 'will', 'start': 626864, 'end': 626982, 'confidence': 0.98122, 'speaker': None}, {'text': 'not', 'start': 626996, 'end': 627138, 'confidence': 0.99778, 'speaker': None}, {'text': 'run.', 'start': 627164, 'end': 627426, 'confidence': 0.68817, 'speaker': None}, {'text': 'It', 'start': 627488, 'end': 627642, 'confidence': 1.0, 'speaker': None}, {'text': 'will', 'start': 627656, 'end': 627762, 'confidence': 0.18289, 'speaker': None}, {'text': 'break,', 'start': 627776, 'end': 628026, 'confidence': 0.99475, 'speaker': None}, {'text': 'and', 'start': 628088, 'end': 628242, 'confidence': 0.99, 'speaker': None}, {'text': \"you'll\", 'start': 628256, 'end': 628366, 'confidence': 0.97578, 'speaker': None}, {'text': 'be', 'start': 628378, 'end': 628518, 'confidence': 0.91189, 'speaker': None}, {'text': 'sad.', 'start': 628544, 'end': 629158, 'confidence': 0.99642, 'speaker': None}, {'text': \"Don't\", 'start': 629314, 'end': 629602, 'confidence': 0.96755, 'speaker': None}, {'text': 'just', 'start': 629626, 'end': 629778, 'confidence': 0.98857, 'speaker': None}, {'text': 'wallow', 'start': 629804, 'end': 630022, 'confidence': 0.90103, 'speaker': None}, {'text': 'in', 'start': 630046, 'end': 630126, 'confidence': 0.58794, 'speaker': None}, {'text': 'your', 'start': 630128, 'end': 630222, 'confidence': 0.06142, 'speaker': None}, {'text': 'self', 'start': 630236, 'end': 630414, 'confidence': 0.99847, 'speaker': None}, {'text': 'pity.', 'start': 630452, 'end': 630838, 'confidence': 0.99403, 'speaker': None}, {'text': 'Read', 'start': 630934, 'end': 631158, 'confidence': 0.9975, 'speaker': None}, {'text': 'the', 'start': 631184, 'end': 631302, 'confidence': 0.99, 'speaker': None}, {'text': 'error', 'start': 631316, 'end': 631498, 'confidence': 0.97092, 'speaker': None}, {'text': 'messages.', 'start': 631534, 'end': 632050, 'confidence': 0.99282, 'speaker': None}, {'text': \"They'll\", 'start': 632110, 'end': 632338, 'confidence': 0.59801, 'speaker': None}, {'text': 'tell', 'start': 632374, 'end': 632538, 'confidence': 0.99998, 'speaker': None}, {'text': 'you', 'start': 632564, 'end': 632718, 'confidence': 0.99929, 'speaker': None}, {'text': 'something', 'start': 632744, 'end': 632970, 'confidence': 0.99987, 'speaker': None}, {'text': 'about', 'start': 633020, 'end': 633198, 'confidence': 0.99988, 'speaker': None}, {'text': \"what's\", 'start': 633224, 'end': 633442, 'confidence': 0.97553, 'speaker': None}, {'text': 'wrong.', 'start': 633466, 'end': 633834, 'confidence': 0.99999, 'speaker': None}, {'text': 'Also,', 'start': 633932, 'end': 634230, 'confidence': 0.99826, 'speaker': None}, {'text': 'Google', 'start': 634280, 'end': 634494, 'confidence': 0.99762, 'speaker': None}, {'text': 'the', 'start': 634532, 'end': 634662, 'confidence': 0.96, 'speaker': None}, {'text': 'errors,', 'start': 634676, 'end': 635086, 'confidence': 0.68786, 'speaker': None}, {'text': 'and', 'start': 635158, 'end': 635358, 'confidence': 0.96, 'speaker': None}, {'text': 'this', 'start': 635384, 'end': 635538, 'confidence': 0.77458, 'speaker': None}, {'text': 'will', 'start': 635564, 'end': 635682, 'confidence': 0.87452, 'speaker': None}, {'text': 'save', 'start': 635696, 'end': 635838, 'confidence': 0.9995, 'speaker': None}, {'text': 'you', 'start': 635864, 'end': 635946, 'confidence': 0.99685, 'speaker': None}, {'text': 'a', 'start': 635948, 'end': 636042, 'confidence': 0.88, 'speaker': None}, {'text': 'lot', 'start': 636056, 'end': 636126, 'confidence': 0.99991, 'speaker': None}, {'text': 'of', 'start': 636128, 'end': 636258, 'confidence': 0.95, 'speaker': None}, {'text': 'time', 'start': 636284, 'end': 636438, 'confidence': 0.99942, 'speaker': None}, {'text': 'and', 'start': 636464, 'end': 636582, 'confidence': 0.99, 'speaker': None}, {'text': 'headache.', 'start': 636596, 'end': 637054, 'confidence': 0.91702, 'speaker': None}, {'text': 'Finally,', 'start': 637102, 'end': 637386, 'confidence': 0.99862, 'speaker': None}, {'text': 'the', 'start': 637448, 'end': 637638, 'confidence': 0.57, 'speaker': None}, {'text': 'third', 'start': 637664, 'end': 637818, 'confidence': 1.0, 'speaker': None}, {'text': 'thing', 'start': 637844, 'end': 638034, 'confidence': 0.9967, 'speaker': None}, {'text': 'is', 'start': 638072, 'end': 638202, 'confidence': 0.99838, 'speaker': None}, {'text': 'to', 'start': 638216, 'end': 638322, 'confidence': 0.97, 'speaker': None}, {'text': 'take', 'start': 638336, 'end': 638442, 'confidence': 0.99858, 'speaker': None}, {'text': 'it', 'start': 638456, 'end': 638598, 'confidence': 1.0, 'speaker': None}, {'text': 'easy', 'start': 638624, 'end': 638778, 'confidence': 0.99803, 'speaker': None}, {'text': 'on', 'start': 638804, 'end': 638922, 'confidence': 0.99807, 'speaker': None}, {'text': 'yourself.', 'start': 638936, 'end': 639402, 'confidence': 0.99543, 'speaker': None}, {'text': 'The', 'start': 639536, 'end': 639762, 'confidence': 1.0, 'speaker': None}, {'text': 'only', 'start': 639776, 'end': 639918, 'confidence': 0.99995, 'speaker': None}, {'text': 'people', 'start': 639944, 'end': 640134, 'confidence': 0.99985, 'speaker': None}, {'text': 'that', 'start': 640172, 'end': 640338, 'confidence': 0.99729, 'speaker': None}, {'text': \"can't\", 'start': 640364, 'end': 640558, 'confidence': 0.76134, 'speaker': None}, {'text': 'code', 'start': 640594, 'end': 640866, 'confidence': 0.99835, 'speaker': None}, {'text': 'are', 'start': 640928, 'end': 641082, 'confidence': 0.99281, 'speaker': None}, {'text': 'the', 'start': 641096, 'end': 641202, 'confidence': 0.99, 'speaker': None}, {'text': 'ones', 'start': 641216, 'end': 641394, 'confidence': 1.0, 'speaker': None}, {'text': 'that', 'start': 641432, 'end': 641562, 'confidence': 0.99077, 'speaker': None}, {'text': 'never', 'start': 641576, 'end': 641790, 'confidence': 0.99935, 'speaker': None}, {'text': 'tried', 'start': 641840, 'end': 642090, 'confidence': 0.18752, 'speaker': None}, {'text': 'or', 'start': 642140, 'end': 642318, 'confidence': 0.58388, 'speaker': None}, {'text': 'the', 'start': 642344, 'end': 642462, 'confidence': 0.98, 'speaker': None}, {'text': 'ones', 'start': 642476, 'end': 642618, 'confidence': 1.0, 'speaker': None}, {'text': 'that', 'start': 642644, 'end': 642762, 'confidence': 0.99013, 'speaker': None}, {'text': 'quit', 'start': 642776, 'end': 642982, 'confidence': 0.54094, 'speaker': None}, {'text': 'too', 'start': 643006, 'end': 643122, 'confidence': 0.98833, 'speaker': None}, {'text': 'early.', 'start': 643136, 'end': 643746, 'confidence': 0.98677, 'speaker': None}, {'text': 'Thank', 'start': 643928, 'end': 644202, 'confidence': 0.99787, 'speaker': None}, {'text': 'you', 'start': 644216, 'end': 644322, 'confidence': 0.70046, 'speaker': None}, {'text': 'all', 'start': 644336, 'end': 644478, 'confidence': 0.57975, 'speaker': None}, {'text': 'so', 'start': 644504, 'end': 644622, 'confidence': 0.99218, 'speaker': None}, {'text': 'much', 'start': 644636, 'end': 644742, 'confidence': 0.99938, 'speaker': None}, {'text': 'for', 'start': 644756, 'end': 644862, 'confidence': 1.0, 'speaker': None}, {'text': 'watching,', 'start': 644876, 'end': 645198, 'confidence': 0.99834, 'speaker': None}, {'text': 'and', 'start': 645284, 'end': 645498, 'confidence': 0.9, 'speaker': None}, {'text': 'good', 'start': 645524, 'end': 645642, 'confidence': 0.99769, 'speaker': None}, {'text': 'luck', 'start': 645656, 'end': 645862, 'confidence': 0.94689, 'speaker': None}, {'text': 'on', 'start': 645886, 'end': 646002, 'confidence': 0.99687, 'speaker': None}, {'text': 'your', 'start': 646016, 'end': 646158, 'confidence': 0.99814, 'speaker': None}, {'text': 'data', 'start': 646184, 'end': 646374, 'confidence': 0.99898, 'speaker': None}, {'text': 'science', 'start': 646412, 'end': 646714, 'confidence': 0.99847, 'speaker': None}, {'text': 'and', 'start': 646762, 'end': 646902, 'confidence': 1.0, 'speaker': None}, {'text': 'coding', 'start': 646916, 'end': 647242, 'confidence': 0.67974, 'speaker': None}, {'text': 'journey.', 'start': 647266, 'end': 647470, 'confidence': 0.759, 'speaker': None}], 'utterances': None, 'confidence': 0.932969838709676, 'audio_duration': 661, 'punctuate': True, 'format_text': True, 'dual_channel': None, 'webhook_url': None, 'webhook_status_code': None, 'webhook_auth': False, 'webhook_auth_header_name': None, 'speed_boost': False, 'auto_highlights_result': {'status': 'success', 'results': [{'count': 1, 'rank': 0.07, 'text': 'Python code', 'timestamps': [{'start': 270164, 'end': 270870}]}, {'count': 7, 'rank': 0.06, 'text': 'data science', 'timestamps': [{'start': 33404, 'end': 33934}, {'start': 67954, 'end': 68554}, {'start': 88916, 'end': 89434}, {'start': 464744, 'end': 465418}, {'start': 470554, 'end': 471022}, {'start': 596264, 'end': 596854}, {'start': 646184, 'end': 646714}]}, {'count': 1, 'rank': 0.06, 'text': 'data science learning', 'timestamps': [{'start': 88916, 'end': 89730}]}, {'count': 1, 'rank': 0.06, 'text': 'tangible data science skills', 'timestamps': [{'start': 470132, 'end': 471394}]}, {'count': 1, 'rank': 0.05, 'text': 'different data structures', 'timestamps': [{'start': 329504, 'end': 330478}]}, {'count': 1, 'rank': 0.05, 'text': 'other great videos', 'timestamps': [{'start': 38756, 'end': 39522}]}, {'count': 1, 'rank': 0.05, 'text': 'data types', 'timestamps': [{'start': 323264, 'end': 323986}]}, {'count': 1, 'rank': 0.05, 'text': 'data frames', 'timestamps': [{'start': 412388, 'end': 412930}]}, {'count': 2, 'rank': 0.05, 'text': 'Data scientists', 'timestamps': [{'start': 100412, 'end': 101146}, {'start': 186512, 'end': 187162}]}, {'count': 2, 'rank': 0.05, 'text': 'other people', 'timestamps': [{'start': 540032, 'end': 540414}, {'start': 547004, 'end': 547338}]}, {'count': 2, 'rank': 0.05, 'text': 'many people', 'timestamps': [{'start': 543082, 'end': 543690}, {'start': 559544, 'end': 560094}]}, {'count': 1, 'rank': 0.05, 'text': 'good coding', 'timestamps': [{'start': 378884, 'end': 379474}]}, {'count': 1, 'rank': 0.05, 'text': 'Coding languages', 'timestamps': [{'start': 290554, 'end': 291358}]}, {'count': 3, 'rank': 0.04, 'text': 'object oriented programming', 'timestamps': [{'start': 433352, 'end': 434782}, {'start': 435152, 'end': 436582}, {'start': 441358, 'end': 442702}]}, {'count': 6, 'rank': 0.04, 'text': 'projects', 'timestamps': [{'start': 89984, 'end': 90562}, {'start': 237980, 'end': 238342}, {'start': 348860, 'end': 349390}, {'start': 477154, 'end': 477538}, {'start': 537236, 'end': 537562}, {'start': 539444, 'end': 539782}]}]}, 'auto_highlights': True, 'audio_start_from': None, 'audio_end_at': None, 'word_boost': [], 'boost_param': None, 'filter_profanity': False, 'redact_pii': False, 'redact_pii_audio': False, 'redact_pii_audio_quality': None, 'redact_pii_policies': None, 'redact_pii_sub': None, 'speaker_labels': False, 'content_safety': False, 'iab_categories': True, 'content_safety_labels': {'status': 'unavailable', 'results': [], 'summary': {}}, 'iab_categories_result': {'status': 'success', 'results': [{'text': \"I recently got an amazing opportunity. I've been learning jujitsu, and a friend offered to coach me in exchange for teaching him how to code. At this point in my life where I'm trying to improve my jiu jitsu as quickly as possible, this was an incredible trade for me.\", 'labels': [{'relevance': 0.9573874473571777, 'label': 'Sports>MartialArts'}, {'relevance': 0.02879876084625721, 'label': 'Sports>Boxing'}, {'relevance': 0.005588308442384005, 'label': 'Sports>Bodybuilding'}, {'relevance': 0.003627625061199069, 'label': 'Movies>ActionAndAdventureMovies'}, {'relevance': 0.0006908985669724643, 'label': 'Sports>Weightlifting'}, {'relevance': 0.0006621046341024339, 'label': 'Sports>Wrestling'}, {'relevance': 0.0005513571086339653, 'label': 'Technology&Computing>Computing>ProgrammingLanguages'}, {'relevance': 0.0004549484292510897, 'label': 'FineArt>Dance'}, {'relevance': 0.00034604404936544597, 'label': 'HealthyLiving>FitnessAndExercise'}, {'relevance': 0.00034314097138121724, 'label': 'Religion&Spirituality>Buddhism'}], 'timestamp': {'start': 250, 'end': 13290}}, {'text': \"In my personal opinion, I was all for until I had to think about how I'd actually go about teaching someone how to code starting from nothing, I quickly realized that this was going to be a lot harder than I thought. After all, it's been almost ten years since I wrote my very first line of code. That's a pretty long time.\", 'labels': [{'relevance': 0.6825703382492065, 'label': 'Technology&Computing>Computing>ProgrammingLanguages'}, {'relevance': 0.020239636301994324, 'label': 'Technology&Computing>Computing>Internet>WebDevelopment'}, {'relevance': 0.01676282472908497, 'label': 'Technology&Computing>Computing>Internet>WebDesignAndHTML'}, {'relevance': 0.003195831086486578, 'label': 'FineArt>Design'}, {'relevance': 0.000760186230763793, 'label': 'Technology&Computing>Computing'}, {'relevance': 0.0007308204658329487, 'label': 'Technology&Computing>Computing>ComputerSoftwareAndApplications>DesktopPublishing'}, {'relevance': 0.0005864207050763071, 'label': 'Technology&Computing>Computing>ComputerSoftwareAndApplications'}, {'relevance': 0.0004585333517752588, 'label': 'Technology&Computing>ArtificialIntelligence'}, {'relevance': 0.00029736844589933753, 'label': 'Technology&Computing'}, {'relevance': 0.00028192950412631035, 'label': 'Education>LanguageLearning'}], 'timestamp': {'start': 13340, 'end': 27510}}, {'text': \"Now, this video is about the very specific and detailed plan that I wrote for my friend to teach me the basics of coding for data science. Since I did all the work for him, I figured I might as well share the details with you as well. Here. There have been plenty of other great videos similar to this about how to start coding, and I've linked many of them in the description.\", 'labels': [{'relevance': 0.46700140833854675, 'label': 'Technology&Computing>Computing>DataStorageAndWarehousing'}, {'relevance': 0.09675102680921555, 'label': 'Technology&Computing>Computing>ComputerSoftwareAndApplications>Databases'}, {'relevance': 0.0382227897644043, 'label': 'Technology&Computing>Computing>ProgrammingLanguages'}, {'relevance': 0.004251029342412949, 'label': 'Technology&Computing>Computing>ComputerSoftwareAndApplications'}, {'relevance': 0.0008697746088728309, 'label': 'Technology&Computing>Computing>Internet>WebDevelopment'}, {'relevance': 0.0005413327016867697, 'label': 'BusinessAndFinance>Business>BusinessI.T.'}, {'relevance': 0.0005291341803967953, 'label': 'BusinessAndFinance>Business>Sales'}, {'relevance': 0.00046507740626111627, 'label': 'Technology&Computing>Computing>ComputerSoftwareAndApplications>DesktopPublishing'}, {'relevance': 0.00039700092747807503, 'label': 'Technology&Computing>Computing'}, {'relevance': 0.0003315383510198444, 'label': 'Technology&Computing>Computing>Internet>WebDesignAndHTML'}], 'timestamp': {'start': 27560, 'end': 43426}}, {'text': \"Again, those are great, but I think this is a bit different because it's more focused on coding for data and it uses a very specific real world case study. At the end, I also highlight the three most important things a new programmer should know. So you definitely want to stick around for that. Let's start with the language that we should start learning. I know if you're working with data, you generally have two good choices.\", 'labels': [{'relevance': 0.9897080659866333, 'label': 'Technology&Computing>Computing>ProgrammingLanguages'}, {'relevance': 0.1818011850118637, 'label': 'Technology&Computing>Computing>ComputerSoftwareAndApplications>Databases'}, {'relevance': 0.1347472369670868, 'label': 'Technology&Computing>Computing>DataStorageAndWarehousing'}, {'relevance': 0.053395770490169525, 'label': 'Technology&Computing>Computing>ComputerSoftwareAndApplications'}, {'relevance': 0.02455024980008602, 'label': 'Technology&Computing>Computing'}, {'relevance': 0.005711491219699383, 'label': 'Technology&Computing>Computing>Internet>WebDevelopment'}, {'relevance': 0.004379599820822477, 'label': 'BusinessAndFinance>Business>BusinessI.T.'}, {'relevance': 0.0030082776211202145, 'label': 'Technology&Computing>Computing>ComputerSoftwareAndApplications>DesktopPublishing'}, {'relevance': 0.0028091457206755877, 'label': 'Technology&Computing>Computing>Internet>WebDesignAndHTML'}, {'relevance': 0.0010985861299559474, 'label': 'Technology&Computing>Computing>ComputerSoftwareAndApplications>OperatingSystems'}], 'timestamp': {'start': 43498, 'end': 63862}}, {'text': \"They would either start with Python or R. Let's quickly compare the two languages data Science Style when looking at the Stack Overflow developer survey, we find that about 48% of respondents use Python, while only about 5% user. In industry, Python is a far more common language. Let's now look more specifically a data scientist, not just all Stack Overflow users who come from a variety of backgrounds.\", 'labels': [{'relevance': 0.04716448485851288, 'label': 'Technology&Computing>Computing>ProgrammingLanguages'}, {'relevance': 0.030795490369200706, 'label': 'Technology&Computing>Computing>DataStorageAndWarehousing'}, {'relevance': 0.022353414446115494, 'label': 'Technology&Computing>Computing>ComputerSoftwareAndApplications>Databases'}, {'relevance': 0.0019404811318963766, 'label': 'Technology&Computing>Computing>ComputerSoftwareAndApplications'}, {'relevance': 0.0017203661845996976, 'label': 'Technology&Computing>Computing>Internet>WebDevelopment'}, {'relevance': 0.0004279229906387627, 'label': 'Technology&Computing>Computing'}, {'relevance': 0.0002855639613699168, 'label': 'Technology&Computing>Computing>Internet>Search'}, {'relevance': 0.00028312651556916535, 'label': 'Hobbies&Interests>ContentProduction'}, {'relevance': 0.00027503332239575684, 'label': 'Technology&Computing>Computing>Internet>CloudComputing'}, {'relevance': 0.0002585863694548607, 'label': 'Technology&Computing>Computing>ComputerSoftwareAndApplications>DesktopPublishing'}], 'timestamp': {'start': 63946, 'end': 86962}}, {'text': \"On Kaggle, my favorite platform for data science learning and projects, we can see that around 84.2% of respondents use Python, while only 25% use R. Since these add up to more than 100%, we can assume that some data scientists are using both languages. Finally, let's look at these two languages over time. We can see here from 2020 to 2021, Python has gained an adoption. While our usage has seen some attrition, to me, this is a no brainer.\", 'labels': [{'relevance': 0.018889430910348892, 'label': 'Technology&Computing>Computing>ProgrammingLanguages'}, {'relevance': 0.015581768937408924, 'label': 'Technology&Computing>Computing>DataStorageAndWarehousing'}, {'relevance': 0.011901815421879292, 'label': 'Technology&Computing>Computing>ComputerSoftwareAndApplications>Databases'}, {'relevance': 0.0009790339972823858, 'label': 'Technology&Computing>Computing>Internet>CloudComputing'}, {'relevance': 0.0007473842124454677, 'label': 'Technology&Computing>Computing>Internet>Search'}, {'relevance': 0.00045119921560399234, 'label': 'Technology&Computing>Computing>ComputerSoftwareAndApplications'}, {'relevance': 0.00039784974069334567, 'label': 'Technology&Computing>Computing'}, {'relevance': 0.00037589340354315937, 'label': 'Technology&Computing>Computing>Internet>WebDevelopment'}, {'relevance': 0.00024779405794106424, 'label': 'Technology&Computing>Computing>ComputerSoftwareAndApplications>DesktopPublishing'}, {'relevance': 0.0002318183396710083, 'label': 'Hobbies&Interests>ContentProduction'}], 'timestamp': {'start': 87046, 'end': 113590}}, {'text': \"I recommended my friend to start learning Python first. That language is more popular, and it's continuing to grow. This isn't to say R is bad. It's just to say that I think Python is growing and will be a more valuable skill to have for the job market in general. I also personally find it a bit more intuitive and flexible than our. Now that we've chosen our language as Python, what coding skills should my friend learn first? Should he focus on variables?\", 'labels': [{'relevance': 0.9574006795883179, 'label': 'Technology&Computing>Computing>ProgrammingLanguages'}, {'relevance': 0.015630152076482773, 'label': 'Technology&Computing>Computing>Internet>WebDevelopment'}, {'relevance': 0.0043205260299146175, 'label': 'Technology&Computing>Computing>Internet>WebDesignAndHTML'}, {'relevance': 0.002225232310593128, 'label': 'Technology&Computing>Computing'}, {'relevance': 0.0018761149840429425, 'label': 'Technology&Computing>Computing>ComputerSoftwareAndApplications'}, {'relevance': 0.0011138156987726688, 'label': 'Technology&Computing>Computing>ComputerSoftwareAndApplications>OperatingSystems'}, {'relevance': 0.0008122965227812529, 'label': 'Education>LanguageLearning'}, {'relevance': 0.00071744155138731, 'label': 'Technology&Computing>Computing>ComputerSoftwareAndApplications>DesktopPublishing'}, {'relevance': 0.0005562370643019676, 'label': 'FineArt>Design'}, {'relevance': 0.0005351037834770977, 'label': 'Technology&Computing>Computing>ComputerSoftwareAndApplications>Databases'}], 'timestamp': {'start': 113650, 'end': 134554}}, {'text': \"Logic functions? Algorithms? Classes? My mind was absolutely spinning when I first addressed this. It took me a second, but I had this weird chaotic flashback to my first days of learning programming myself. I didn't even know where to start with getting Python on my own computer. I just now got excited about teaching the functional part of programming, and I completely forgot about the basics of setting up your environment for success.\", 'labels': [{'relevance': 0.997239351272583, 'label': 'Technology&Computing>Computing>ProgrammingLanguages'}, {'relevance': 0.0299863051623106, 'label': 'Technology&Computing>Computing'}, {'relevance': 0.015080869197845459, 'label': 'Technology&Computing>Computing>Internet>WebDevelopment'}, {'relevance': 0.011019322089850903, 'label': 'Technology&Computing>Computing>ComputerSoftwareAndApplications'}, {'relevance': 0.006217788439244032, 'label': 'Technology&Computing>Computing>Internet>WebDesignAndHTML'}, {'relevance': 0.0060826800763607025, 'label': 'Technology&Computing>Computing>ComputerSoftwareAndApplications>OperatingSystems'}, {'relevance': 0.0011201777961105108, 'label': 'Technology&Computing>Computing>ComputerSoftwareAndApplications>Databases'}, {'relevance': 0.0010617600055411458, 'label': 'Technology&Computing>Computing>ComputerSoftwareAndApplications>DesktopPublishing'}, {'relevance': 0.0004679429403040558, 'label': 'Technology&Computing>ArtificialIntelligence'}, {'relevance': 0.0004423240607138723, 'label': 'Education>OnlineEducation'}], 'timestamp': {'start': 134602, 'end': 155766}}, {'text': \"The next thing I did was give my friend some of my favorite resources on choosing an environment and getting the right version of Python on his computer. Honestly, I was a bit torn on this too. So, for example, what IDE should have used? Does he even know what IDE stands for? For those who don't know and who are new, ID stands for Integrated Development Environment. So this is essentially just a text editor you use to write your code.\", 'labels': [{'relevance': 0.8402432799339294, 'label': 'Technology&Computing>Computing>ProgrammingLanguages'}, {'relevance': 0.06417085975408554, 'label': 'Technology&Computing>Computing>ComputerSoftwareAndApplications'}, {'relevance': 0.011784405447542667, 'label': 'Technology&Computing>Computing>Internet>WebDevelopment'}, {'relevance': 0.007261323276907206, 'label': 'Technology&Computing>Computing>ComputerSoftwareAndApplications>OperatingSystems'}, {'relevance': 0.005422063171863556, 'label': 'Technology&Computing>Computing>ComputerSoftwareAndApplications>DesktopPublishing'}, {'relevance': 0.004655107855796814, 'label': 'Technology&Computing>Computing>Internet>WebDesignAndHTML'}, {'relevance': 0.003337631933391094, 'label': 'Technology&Computing>Computing'}, {'relevance': 0.00038565933937206864, 'label': 'Technology&Computing>Computing>ComputerSoftwareAndApplications>SharewareAndFreeware'}, {'relevance': 0.00030709095881320536, 'label': 'Technology&Computing>Computing>ComputerSoftwareAndApplications>GraphicsSoftware'}, {'relevance': 0.0002582431770861149, 'label': 'Technology&Computing>Computing>ComputerSoftwareAndApplications>Databases'}], 'timestamp': {'start': 155888, 'end': 175698}}, {'text': 'If you were writing an essay, you could choose to use Microsoft Word. You could use Google Docs, you could use Notepad, or maybe even just straight up pen and paper. Just like there are these different mediums for you to write your last minute paper. Data scientists and software engineers need places to write their code. These places are called IDs.', 'labels': [{'relevance': 0.9573201537132263, 'label': 'Technology&Computing>Computing>ComputerSoftwareAndApplications>DesktopPublishing'}, {'relevance': 0.15832144021987915, 'label': 'Technology&Computing>Computing>ComputerSoftwareAndApplications'}, {'relevance': 0.06031270697712898, 'label': 'BusinessAndFinance>Business>BusinessI.T.'}, {'relevance': 0.04715276136994362, 'label': 'Technology&Computing>Computing'}, {'relevance': 0.04216592386364937, 'label': 'Technology&Computing>Computing>ProgrammingLanguages'}, {'relevance': 0.027581874281167984, 'label': 'Hobbies&Interests>ArtsAndCrafts>Scrapbooking'}, {'relevance': 0.02184438891708851, 'label': 'Technology&Computing>Computing>Internet>WebDevelopment'}, {'relevance': 0.02026958018541336, 'label': 'Technology&Computing>Computing>Internet>WebDesignAndHTML'}, {'relevance': 0.013212554156780243, 'label': 'FineArt>Design'}, {'relevance': 0.011871756054461002, 'label': 'Technology&Computing>Computing>ComputerSoftwareAndApplications>Databases'}], 'timestamp': {'start': 175784, 'end': 191686}}, {'text': \"And just like Microsoft Word has spell track and formatting to make sure that you don't make grammatical errors, many ideas help you to make sure that you have proper syntax in your code. In theory, technically, Microsoft Word would be considered an idea, but I definitely don't recommend using it as such unless you're jump ate. This is a list of the most commonly used Ides in the data domain.\", 'labels': [{'relevance': 0.5948925614356995, 'label': 'Technology&Computing>Computing>ComputerSoftwareAndApplications>Databases'}, {'relevance': 0.3706324100494385, 'label': 'Technology&Computing>Computing>DataStorageAndWarehousing'}, {'relevance': 0.09156111627817154, 'label': 'Technology&Computing>Computing>ProgrammingLanguages'}, {'relevance': 0.008196406997740269, 'label': 'Technology&Computing>Computing>ComputerSoftwareAndApplications'}, {'relevance': 0.0072908890433609486, 'label': 'Technology&Computing>Computing>ComputerSoftwareAndApplications>DesktopPublishing'}, {'relevance': 0.0026018607895821333, 'label': 'Technology&Computing>Computing>Internet>WebDesignAndHTML'}, {'relevance': 0.001270592212677002, 'label': 'Technology&Computing>Computing>Internet>WebDevelopment'}, {'relevance': 0.0007780970772728324, 'label': 'BusinessAndFinance>Business>BusinessI.T.'}, {'relevance': 0.0005076187080703676, 'label': 'Technology&Computing>Computing>Internet>Email'}, {'relevance': 0.0003281515964772552, 'label': 'Technology&Computing>Computing'}], 'timestamp': {'start': 191758, 'end': 211354}}, {'text': 'And as you can see, common Ides for Python are vs, code, jupyter, notebook, PyCharm, and Spider. Before anything else, I wanted to give him a decent understanding about how the development environments work before we picked one. As I mentioned, this is something that I was totally confused about when I started. When I learned to code, I was using Python and I was using an IDE called Idle.', 'labels': [{'relevance': 0.8189933896064758, 'label': 'Technology&Computing>Computing>ProgrammingLanguages'}, {'relevance': 0.0160681065171957, 'label': 'Technology&Computing>Computing>Internet>WebDevelopment'}, {'relevance': 0.011294696480035782, 'label': 'Technology&Computing>Computing>ComputerSoftwareAndApplications>OperatingSystems'}, {'relevance': 0.011154638603329659, 'label': 'Technology&Computing>Computing>ComputerSoftwareAndApplications'}, {'relevance': 0.007502108812332153, 'label': 'Technology&Computing>Computing>Internet>WebDesignAndHTML'}, {'relevance': 0.003139971988275647, 'label': 'Technology&Computing>Computing>ComputerSoftwareAndApplications>DesktopPublishing'}, {'relevance': 0.0017177507979795337, 'label': 'Technology&Computing>Computing'}, {'relevance': 0.0003676028863992542, 'label': 'BusinessAndFinance>Business>BusinessBanking&Finance>AngelInvestment'}, {'relevance': 0.000323984568240121, 'label': 'FineArt>Design'}, {'relevance': 0.0002942010760307312, 'label': 'Technology&Computing>Computing>ComputerSoftwareAndApplications>SharewareAndFreeware'}], 'timestamp': {'start': 211462, 'end': 232042}}, {'text': \"So Idle is great for learning, but I've literally never once touched it since, and I don't use it on any data projects in any of my work. I wanted to make sure that my friend was using something that would be representative of what he might see in the real world, what people actually use. For this specific friend, I recommended that he started learning the basics with this video from Precocamp. I've linked it and all other resources in the description.\", 'labels': [{'relevance': 0.00833014864474535, 'label': 'Careers>RemoteWorking'}, {'relevance': 0.0019385572522878647, 'label': 'Education>OnlineEducation'}, {'relevance': 0.001849769032560289, 'label': 'Education>HomeworkAndStudy'}, {'relevance': 0.00155459507368505, 'label': 'FineArt>Design'}, {'relevance': 0.0009629081469029188, 'label': 'Technology&Computing'}, {'relevance': 0.0008866513962857425, 'label': 'Technology&Computing>ArtificialIntelligence'}, {'relevance': 0.0008584997267462313, 'label': 'Technology&Computing>Computing>Internet>WebHosting'}, {'relevance': 0.0008561909780837595, 'label': 'BusinessAndFinance>Business>BusinessI.T.'}, {'relevance': 0.0008248004014603794, 'label': 'Technology&Computing>Computing>ComputerSoftwareAndApplications>WebConferencing'}, {'relevance': 0.0007631054031662643, 'label': 'Hobbies&Interests'}], 'timestamp': {'start': 232126, 'end': 253474}}, {'text': \"So in the video, they show you how to set up the PyCharm environment and get comfortable using that. I think PyCharm is solid, and if you get familiar with that, you can easily pick up the SCode, a Jupiter notebook, or Spider pretty quickly. Truthfully, I don't think that the idea that you start with really matters that much. What's more important is that you're using one that people who actually write Python code into production are using.\", 'labels': [{'relevance': 0.13895948231220245, 'label': 'Technology&Computing>Computing>ProgrammingLanguages'}, {'relevance': 0.030104296281933784, 'label': 'Technology&Computing>Computing>Internet>WebDevelopment'}, {'relevance': 0.006249608006328344, 'label': 'Technology&Computing>Computing>Internet>WebDesignAndHTML'}, {'relevance': 0.004141554702073336, 'label': 'Technology&Computing>Computing>ComputerSoftwareAndApplications>OperatingSystems'}, {'relevance': 0.0020432265009731054, 'label': 'Technology&Computing>Computing>ComputerSoftwareAndApplications>DesktopPublishing'}, {'relevance': 0.0007780952728353441, 'label': 'Technology&Computing>Computing>ComputerSoftwareAndApplications'}, {'relevance': 0.0004284699389245361, 'label': 'Technology&Computing>Computing>Internet>WebHosting'}, {'relevance': 0.0003033763205166906, 'label': 'Technology&Computing>Computing>ComputerSoftwareAndApplications>SharewareAndFreeware'}, {'relevance': 0.0002410490851616487, 'label': 'Technology&Computing>Computing>ComputerSoftwareAndApplications>WebConferencing'}, {'relevance': 0.0002218918816652149, 'label': 'Technology&Computing>Computing>ComputerSoftwareAndApplications>Browsers'}], 'timestamp': {'start': 253582, 'end': 272382}}, {'text': \"Okay, now on to the coding basics. Surprisingly, I think this might be one of the simplest parts of this entire process. You see, there's a common misconception that coding is trying to trick you. There's this conspiracy that learning to code is supposed to be really hard and very scary. I would argue that it's almost the opposite. Coding languages, particularly Python. They're designed to be as easy to use as possible while creating good results.\", 'labels': [{'relevance': 0.9961701035499573, 'label': 'Technology&Computing>Computing>ProgrammingLanguages'}, {'relevance': 0.04048285260796547, 'label': 'Technology&Computing>Computing>ComputerSoftwareAndApplications'}, {'relevance': 0.03918085992336273, 'label': 'Technology&Computing>Computing>Internet>WebDevelopment'}, {'relevance': 0.036707114428281784, 'label': 'Technology&Computing>Computing'}, {'relevance': 0.021596578881144524, 'label': 'Technology&Computing>Computing>Internet>WebDesignAndHTML'}, {'relevance': 0.0021227560937404633, 'label': 'FineArt>Design'}, {'relevance': 0.000969329325016588, 'label': 'Technology&Computing>Computing>ComputerSoftwareAndApplications>DesktopPublishing'}, {'relevance': 0.0008763110381551087, 'label': 'Technology&Computing>Computing>ComputerSoftwareAndApplications>OperatingSystems'}, {'relevance': 0.00038374861469492316, 'label': 'Technology&Computing'}, {'relevance': 0.0003737263032235205, 'label': 'Technology&Computing>Computing>ComputerSoftwareAndApplications>SharewareAndFreeware'}], 'timestamp': {'start': 272516, 'end': 296254}}, {'text': \"So if you change your perspective to look at them as intuitive, coding becomes significantly more fun and stressfree. This isn't to say that you won't get stuck. It's just to say that when you do get stuck, there's almost always a logical reason for it and a logical solution to resolve your problems. Keeping with this theme of simplicity, at the most basic level, beginner coding can be broken down into seven concepts.\", 'labels': [{'relevance': 0.9868060350418091, 'label': 'Technology&Computing>Computing>ProgrammingLanguages'}, {'relevance': 0.02277306467294693, 'label': 'Technology&Computing>Computing'}, {'relevance': 0.021146679297089577, 'label': 'Technology&Computing>Computing>ComputerSoftwareAndApplications'}, {'relevance': 0.011281504295766354, 'label': 'Technology&Computing>Computing>Internet>WebDevelopment'}, {'relevance': 0.006435983814299107, 'label': 'Technology&Computing>Computing>Internet>WebDesignAndHTML'}, {'relevance': 0.0040368507616221905, 'label': 'FineArt>Design'}, {'relevance': 0.0005306155071593821, 'label': 'Technology&Computing'}, {'relevance': 0.0004885542439296842, 'label': 'Technology&Computing>Computing>ComputerSoftwareAndApplications>OperatingSystems'}, {'relevance': 0.0004042161162942648, 'label': 'Education>LanguageLearning'}, {'relevance': 0.00038536786451004446, 'label': 'MusicAndAudio'}], 'timestamp': {'start': 296362, 'end': 315670}}, {'text': \"All the resources that I've linked in the description cover these topics, but I'm going to give you a very, very high level overview here. The first one we start with is data types. So in Python, you can work with numbers, you can work with text, you can work with Booleans, you can work with lists or a host of different data structures. It's important to get a good understanding or a fundamental understanding of these first.\", 'labels': [{'relevance': 0.9143489003181458, 'label': 'Technology&Computing>Computing>ProgrammingLanguages'}, {'relevance': 0.8915838003158569, 'label': 'Technology&Computing>Computing>ComputerSoftwareAndApplications>Databases'}, {'relevance': 0.3551885187625885, 'label': 'Technology&Computing>Computing>DataStorageAndWarehousing'}, {'relevance': 0.021588033065199852, 'label': 'Technology&Computing>Computing'}, {'relevance': 0.012894713319838047, 'label': 'Technology&Computing>Computing>ComputerSoftwareAndApplications'}, {'relevance': 0.0032032232265919447, 'label': 'BusinessAndFinance>Business>BusinessI.T.'}, {'relevance': 0.0024769208393990993, 'label': 'Technology&Computing>Computing>ComputerSoftwareAndApplications>OperatingSystems'}, {'relevance': 0.0012841833522543311, 'label': 'Technology&Computing>Computing>Internet>WebDesignAndHTML'}, {'relevance': 0.0011943880235776305, 'label': 'Technology&Computing>Computing>Internet>WebDevelopment'}, {'relevance': 0.0007167437579482794, 'label': 'Technology&Computing>Computing>ComputerSoftwareAndApplications>3-DGraphics'}], 'timestamp': {'start': 315730, 'end': 334422}}, {'text': \"Next, I think it makes sense to get familiar with how variables work. This can vary by language, so you need to make sure you know how to assign and change variables in Python, specifically, after variables, you should look into how logical operators work. These are very handy in your first few projects. If held, statements are probably the most important one. But you can definitely find use cases for the others, especially if you're working with data.\", 'labels': [{'relevance': 0.9421324729919434, 'label': 'Technology&Computing>Computing>ProgrammingLanguages'}, {'relevance': 0.008041106164455414, 'label': 'Technology&Computing>Computing>ComputerSoftwareAndApplications>Databases'}, {'relevance': 0.0033807868603616953, 'label': 'Technology&Computing>Computing'}, {'relevance': 0.0027359321247786283, 'label': 'Technology&Computing>Computing>ComputerSoftwareAndApplications>OperatingSystems'}, {'relevance': 0.002437596209347248, 'label': 'Technology&Computing>Computing>Internet>WebDevelopment'}, {'relevance': 0.0013692068168893456, 'label': 'Technology&Computing>Computing>ComputerSoftwareAndApplications'}, {'relevance': 0.0013547067064791918, 'label': 'Technology&Computing>Computing>DataStorageAndWarehousing'}, {'relevance': 0.0012500421144068241, 'label': 'Technology&Computing>Computing>Internet>WebDesignAndHTML'}, {'relevance': 0.0002236307627754286, 'label': 'Technology&Computing>Computing>ComputerSoftwareAndApplications>DesktopPublishing'}, {'relevance': 0.00017943145940080285, 'label': 'Education>CollegeEducation'}], 'timestamp': {'start': 334496, 'end': 356178}}, {'text': \"The fourth thing you need to understand is how loops work. So one thing computers are really great at is doing a simple task over and over again. You'd be surprised at how useful these can be for your programming future. After that, you should learn about functions. So this sets the foundation for almost everything you do on your programming journey. Functions allow you to encapsulate code and reuse it.\", 'labels': [{'relevance': 0.998534083366394, 'label': 'Technology&Computing>Computing>ProgrammingLanguages'}, {'relevance': 0.6956455111503601, 'label': 'Technology&Computing>Computing'}, {'relevance': 0.1402975171804428, 'label': 'Technology&Computing>Computing>ComputerSoftwareAndApplications'}, {'relevance': 0.02590177021920681, 'label': 'Technology&Computing>Computing>Internet>WebDevelopment'}, {'relevance': 0.008289473131299019, 'label': 'Technology&Computing>Computing>ComputerSoftwareAndApplications>OperatingSystems'}, {'relevance': 0.008081978186964989, 'label': 'Technology&Computing>Computing>Internet>WebDesignAndHTML'}, {'relevance': 0.0011924703139811754, 'label': 'Technology&Computing>Computing>ComputerSoftwareAndApplications>Databases'}, {'relevance': 0.0011390983127057552, 'label': 'Technology&Computing>ArtificialIntelligence'}, {'relevance': 0.0009008285705931485, 'label': 'BusinessAndFinance>Business>BusinessI.T.'}, {'relevance': 0.000549998483620584, 'label': 'Technology&Computing'}], 'timestamp': {'start': 356264, 'end': 377562}}, {'text': 'If you really think about it, good coding is about making as many reusable bits as possible, and these functions are where that really begins. At this point, you have a pretty good understanding of the key building blocks of Python. You should now learn a bit more about how some of the basic data structures work. I recommend taking a deeper dive into Lists, Dictionaries, as well as Tuples. This will set the foundation for much of your data work later on.', 'labels': [{'relevance': 0.9764951467514038, 'label': 'Technology&Computing>Computing>ProgrammingLanguages'}, {'relevance': 0.30757221579551697, 'label': 'Technology&Computing>Computing>ComputerSoftwareAndApplications>Databases'}, {'relevance': 0.034268155694007874, 'label': 'Technology&Computing>Computing>DataStorageAndWarehousing'}, {'relevance': 0.005975215695798397, 'label': 'Technology&Computing>Computing>ComputerSoftwareAndApplications'}, {'relevance': 0.005400600377470255, 'label': 'Technology&Computing>Computing>Internet>WebDevelopment'}, {'relevance': 0.004977370146661997, 'label': 'Technology&Computing>Computing>Internet>WebDesignAndHTML'}, {'relevance': 0.004665924236178398, 'label': 'Technology&Computing>Computing'}, {'relevance': 0.0017193336971104145, 'label': 'Technology&Computing>Computing>ComputerSoftwareAndApplications>OperatingSystems'}, {'relevance': 0.0007098516798578203, 'label': 'Technology&Computing>Computing>ComputerSoftwareAndApplications>DesktopPublishing'}, {'relevance': 0.0003443428431637585, 'label': 'BusinessAndFinance>Business>BusinessI.T.'}], 'timestamp': {'start': 377696, 'end': 397782}}, {'text': \"Finally, you should start learning to work with libraries. So the most important ones for data are Pandas, NumPy, ScikitLearn, and Matplotlib, and these give you additional tools to analyze, visualize and manipulate data. Pandas and Numpire also introduced some new data structures, like arrays, series, and data frames. So if you have an understanding of how the more basic data structures work in Python, you should be able to pick these up relatively quickly. And that's it.\", 'labels': [{'relevance': 0.8293094038963318, 'label': 'Technology&Computing>Computing>ComputerSoftwareAndApplications>Databases'}, {'relevance': 0.8046072125434875, 'label': 'Technology&Computing>Computing>DataStorageAndWarehousing'}, {'relevance': 0.09021534025669098, 'label': 'Technology&Computing>Computing>ProgrammingLanguages'}, {'relevance': 0.004694747738540173, 'label': 'Technology&Computing>Computing>ComputerSoftwareAndApplications'}, {'relevance': 0.003159487619996071, 'label': 'Technology&Computing>Computing'}, {'relevance': 0.0010790281230583787, 'label': 'BusinessAndFinance>Business>BusinessI.T.'}, {'relevance': 0.0005777408950962126, 'label': 'Technology&Computing>Computing>ComputerSoftwareAndApplications>OperatingSystems'}, {'relevance': 0.00048347542178817093, 'label': 'Technology&Computing>Computing>ComputerSoftwareAndApplications>3-DGraphics'}, {'relevance': 0.0003067410143557936, 'label': 'Technology&Computing>Computing>Internet>WebDevelopment'}, {'relevance': 0.0002471518237143755, 'label': 'Technology&Computing>Computing>Internet>CloudComputing'}], 'timestamp': {'start': 397916, 'end': 419526}}, {'text': \"With those seven things, you have the basics of coding that you'll need for starting to work with data. If you're watching this and you're a software engineer, you probably think I left something important out. What I've purposely omitted from this list is an explanation of classes. So classes are the foundation of object oriented programming, and object oriented programming is a programming model that organizes code around objects rather than functions or logic.\", 'labels': [{'relevance': 0.9748011231422424, 'label': 'Technology&Computing>Computing>ProgrammingLanguages'}, {'relevance': 0.6381824016571045, 'label': 'Technology&Computing>Computing>ComputerSoftwareAndApplications'}, {'relevance': 0.5464639067649841, 'label': 'Technology&Computing>Computing>ComputerSoftwareAndApplications>Databases'}, {'relevance': 0.19469092786312103, 'label': 'Technology&Computing>Computing>DataStorageAndWarehousing'}, {'relevance': 0.10937438160181046, 'label': 'Technology&Computing>Computing'}, {'relevance': 0.010251151397824287, 'label': 'Technology&Computing>Computing>ComputerSoftwareAndApplications>OperatingSystems'}, {'relevance': 0.008547022007405758, 'label': 'Technology&Computing>Computing>Internet>WebDevelopment'}, {'relevance': 0.00845507625490427, 'label': 'Technology&Computing>Computing>Internet>WebDesignAndHTML'}, {'relevance': 0.005067106802016497, 'label': 'BusinessAndFinance>Business>BusinessI.T.'}, {'relevance': 0.0009315143688581884, 'label': 'Technology&Computing>Computing>ComputerSoftwareAndApplications>DesktopPublishing'}], 'timestamp': {'start': 419588, 'end': 441226}}, {'text': \"Object oriented programming is incredibly powerful, but honestly, it isn't very relevant for the beginner stages of working with data. It is something you should absolutely explore on your own after you've learned these other concepts. Well, in the description, I've linked a few great resources for learning all of the concepts, including the exact one from Free Code Camp that I gave my friend. Most of them are completely free, but I have also included my discount link for the course on 365 Data Science.\", 'labels': [{'relevance': 0.810926079750061, 'label': 'Technology&Computing>Computing>ProgrammingLanguages'}, {'relevance': 0.4412902295589447, 'label': 'Technology&Computing>Computing>DataStorageAndWarehousing'}, {'relevance': 0.3591517508029938, 'label': 'Technology&Computing>Computing>ComputerSoftwareAndApplications>Databases'}, {'relevance': 0.02103828452527523, 'label': 'Technology&Computing>Computing>ComputerSoftwareAndApplications'}, {'relevance': 0.008708782494068146, 'label': 'Technology&Computing>Computing'}, {'relevance': 0.002329861978068948, 'label': 'BusinessAndFinance>Business>BusinessI.T.'}, {'relevance': 0.0016065806848928332, 'label': 'Technology&Computing>Computing>Internet>WebDevelopment'}, {'relevance': 0.0008280582260340452, 'label': 'Technology&Computing>Computing>ComputerSoftwareAndApplications>OperatingSystems'}, {'relevance': 0.0007299125427380204, 'label': 'Technology&Computing>Computing>Internet>WebDesignAndHTML'}, {'relevance': 0.0005026490543968976, 'label': 'Technology&Computing>Computing>ComputerSoftwareAndApplications>DesktopPublishing'}], 'timestamp': {'start': 441358, 'end': 465418}}, {'text': \"So if you're looking for a resource just to take you past the more basic coding and more towards tangible data science skills, I would recommend checking that out. One thing that I love about many of the courses that I've linked is that they have these little mini projects baked into the coursework. I think project based learning is the single most effective way to learn technical concepts.\", 'labels': [{'relevance': 0.28360310196876526, 'label': 'Education>OnlineEducation'}, {'relevance': 0.022792836651206017, 'label': 'Education>EducationalAssessment'}, {'relevance': 0.021281562745571136, 'label': 'Technology&Computing>Computing>DataStorageAndWarehousing'}, {'relevance': 0.012411072850227356, 'label': 'Education>HomeworkAndStudy'}, {'relevance': 0.0022046484518796206, 'label': 'Hobbies&Interests>ContentProduction'}, {'relevance': 0.0017427115235477686, 'label': 'Technology&Computing>Computing>ComputerSoftwareAndApplications'}, {'relevance': 0.0010517551563680172, 'label': 'BusinessAndFinance>Business>MarketingAndAdvertising'}, {'relevance': 0.0009377403184771538, 'label': 'BusinessAndFinance>Industries>ConstructionIndustry'}, {'relevance': 0.0008847765275277197, 'label': 'BusinessAndFinance>Business>BusinessI.T.'}, {'relevance': 0.0008686925284564495, 'label': 'Education>EducationalAssessment>StandardizedTesting'}], 'timestamp': {'start': 465514, 'end': 483358}}, {'text': \"After first getting a basic foundation, I highly encourage you to think about how you can use code to build things that would be useful to you. So for my friend, the first project I'm having him do is create a jujitsu drill randomizer using Python. So for training anything, it's important to reinforce your skills. But it can get boring working on the same basic drills every day.\", 'labels': [{'relevance': 0.16019926965236664, 'label': 'Technology&Computing>Computing>ProgrammingLanguages'}, {'relevance': 0.05586325004696846, 'label': 'Sports>MartialArts'}, {'relevance': 0.007977738976478577, 'label': 'Sports>Boxing'}, {'relevance': 0.0047991396859288216, 'label': 'Technology&Computing>Computing'}, {'relevance': 0.003875788301229477, 'label': 'Technology&Computing>Computing>ComputerSoftwareAndApplications'}, {'relevance': 0.002718591131269932, 'label': 'Technology&Computing>Computing>Internet>WebDevelopment'}, {'relevance': 0.0016546957194805145, 'label': 'Technology&Computing>ArtificialIntelligence'}, {'relevance': 0.00100128969643265, 'label': 'Technology&Computing>Computing>Internet>WebDesignAndHTML'}, {'relevance': 0.0007728625787422061, 'label': 'Education>OnlineEducation'}, {'relevance': 0.0007552897441200912, 'label': 'Movies>ActionAndAdventureMovies'}], 'timestamp': {'start': 483454, 'end': 503610}}, {'text': \"I'm having to make a program that essentially randomly selects two to three drills that we should work on during our sessions from a larger list. This is a simple project, but it's something that's directly relevant and useful to our work and our jujitsu training. With that in mind, I'd love for you to comment below with a Python project that you'd like to do, and we'll all hold each other accountable. Okay?\", 'labels': [{'relevance': 0.6082295179367065, 'label': 'Sports>MartialArts'}, {'relevance': 0.019439753144979477, 'label': 'Sports>Boxing'}, {'relevance': 0.0007363316835835576, 'label': 'Education>OnlineEducation'}, {'relevance': 0.0006425243918783963, 'label': 'Religion&Spirituality>Buddhism'}, {'relevance': 0.0006391560891643167, 'label': 'Sports>Wrestling'}, {'relevance': 0.00043998699402436614, 'label': 'Education>EducationalAssessment'}, {'relevance': 0.0004349359660409391, 'label': 'Movies>ActionAndAdventureMovies'}, {'relevance': 0.00043045246275141835, 'label': 'Sports>Weightlifting'}, {'relevance': 0.0003667851269710809, 'label': 'Technology&Computing>Computing>ComputerSoftwareAndApplications'}, {'relevance': 0.00034246398718096316, 'label': 'FineArt>Dance'}], 'timestamp': {'start': 503660, 'end': 522378}}, {'text': \"So now that you've learned the basics of Python, now what? If you're interested in learning more about data, I highly recommend that you do a datarelated project. The single best place for this is Kaggle.com, which I've mentioned before. If that's a bit too intimidating, you can follow along on one of the projects that I've done or one of the thousands of projects that other people have worked on on the Kaggle platform. Realistically, many people lose steam at this step.\", 'labels': [{'relevance': 0.5962150692939758, 'label': 'Technology&Computing>Computing>DataStorageAndWarehousing'}, {'relevance': 0.1202964335680008, 'label': 'Technology&Computing>Computing>ComputerSoftwareAndApplications>Databases'}, {'relevance': 0.0014805657556280494, 'label': 'Technology&Computing>Computing>ComputerSoftwareAndApplications'}, {'relevance': 0.000746802135836333, 'label': 'Technology&Computing>Computing>ProgrammingLanguages'}, {'relevance': 0.0006166126695461571, 'label': 'Technology&Computing>Computing>Internet>CloudComputing'}, {'relevance': 0.00018718958017416298, 'label': 'BusinessAndFinance>Business>Sales'}, {'relevance': 0.0001689543860265985, 'label': 'BusinessAndFinance>Business>BusinessI.T.'}, {'relevance': 0.00015336074284277856, 'label': 'BusinessAndFinance>Business>Logistics'}, {'relevance': 0.00013715113163925707, 'label': 'Education>OnlineEducation'}, {'relevance': 0.00012088041694369167, 'label': 'Technology&Computing>Computing>Internet>WebDevelopment'}], 'timestamp': {'start': 522464, 'end': 545166}}, {'text': \"They go through and see the great work that other people have done, and they get discouraged again. Honestly, I remember feeling this too. What I recommend doing is going through some of the basic notebooks, like the Titanic data set, and just copying the code, running it on your own computer, line by line. Many people think that this is cheating, but it's actually a great way to learn. Even better when you run it, make some changes to the code and see what happens.\", 'labels': [{'relevance': 0.10430345684289932, 'label': 'Technology&Computing>Computing>ProgrammingLanguages'}, {'relevance': 0.03067994862794876, 'label': 'FineArt>Design'}, {'relevance': 0.02327468805015087, 'label': 'Technology&Computing>Computing>ComputerSoftwareAndApplications>DesktopPublishing'}, {'relevance': 0.004528597462922335, 'label': 'Technology&Computing>Computing>ComputerSoftwareAndApplications'}, {'relevance': 0.003798693884164095, 'label': 'Technology&Computing>Computing>Internet>WebDesignAndHTML'}, {'relevance': 0.0023415889590978622, 'label': 'Technology&Computing>Computing>Internet>WebDevelopment'}, {'relevance': 0.0014098488027229905, 'label': 'BusinessAndFinance>Business>BusinessI.T.'}, {'relevance': 0.0012782138073816895, 'label': 'Technology&Computing>Computing>DataStorageAndWarehousing'}, {'relevance': 0.0009777667000889778, 'label': 'Hobbies&Interests>ArtsAndCrafts>DrawingAndSketching'}, {'relevance': 0.0008836644701659679, 'label': 'Technology&Computing>Computing'}], 'timestamp': {'start': 545288, 'end': 566958}}, {'text': \"Maybe you should try changing, like the colors on a graph from blue to red, or try to make a line thicker on one of the graphs. Just simple things like that help you iterate and improve. So remember when we talked about IDs earlier and I'd mentioned Jupiter's notebook? Kaggle uses something similar to that that lets you work online. This is great and free compute power if you have limited resources at home.\", 'labels': [{'relevance': 0.011074704118072987, 'label': 'Technology&Computing>Computing>ComputerSoftwareAndApplications>DesktopPublishing'}, {'relevance': 0.004169580992311239, 'label': 'Technology&Computing>Computing>ComputerSoftwareAndApplications>WebConferencing'}, {'relevance': 0.003542668418958783, 'label': 'FineArt>Design'}, {'relevance': 0.0034428564831614494, 'label': 'Technology&Computing>Computing>Internet>WebDevelopment'}, {'relevance': 0.002849199576303363, 'label': 'Technology&Computing>Computing>Internet>WebHosting'}, {'relevance': 0.002007386414334178, 'label': 'Technology&Computing>Computing>Internet>WebDesignAndHTML'}, {'relevance': 0.0019278856925666332, 'label': 'Education>OnlineEducation'}, {'relevance': 0.0017768245888873935, 'label': 'Technology&Computing>Computing>Desktops'}, {'relevance': 0.001696957740932703, 'label': 'Careers>RemoteWorking'}, {'relevance': 0.0015383330173790455, 'label': 'Technology&Computing>Computing>ComputerSoftwareAndApplications>GraphicsSoftware'}], 'timestamp': {'start': 567104, 'end': 585990}}, {'text': \"So if you want to work with data on your laptop or desktop, I recommend downloading Anaconda. Anaconda is a software package that lumps together all of the relevant Python libraries and ideas for data science in one go. So you can check out my video for how to install it, which I've linked above and in the description. Finally, I have three tips to send you on your way. These are probably the most important things that a new coder can learn.\", 'labels': [{'relevance': 0.29366809129714966, 'label': 'Technology&Computing>Computing>DataStorageAndWarehousing'}, {'relevance': 0.031690407544374466, 'label': 'Technology&Computing>Computing>ComputerSoftwareAndApplications>Databases'}, {'relevance': 0.001205651555210352, 'label': 'Technology&Computing>Computing>Internet>CloudComputing'}, {'relevance': 0.0007019920740276575, 'label': 'Technology&Computing>Computing>ProgrammingLanguages'}, {'relevance': 0.0004278401902411133, 'label': 'Technology&Computing>Computing>ComputerSoftwareAndApplications'}, {'relevance': 0.00014710654795635492, 'label': 'Technology&Computing>Computing'}, {'relevance': 0.00013260284322313964, 'label': 'BusinessAndFinance>Business>Sales'}, {'relevance': 0.00011548629845492542, 'label': 'BusinessAndFinance>Business>BusinessI.T.'}, {'relevance': 0.00011094698857050389, 'label': 'Technology&Computing>Robotics'}, {'relevance': 0.00010133931937161833, 'label': 'BusinessAndFinance>Business>Logistics'}], 'timestamp': {'start': 586040, 'end': 608610}}, {'text': \"So the first one is to use Google and stack overflow. If you have a question, it's almost guaranteed that someone has asked it before on the Internet, getting good at finding answers on your own via search might be the single most important skill of a data scientist or software engineer that they use every single day. The second is to use errors so your code will not run. It will break, and you'll be sad. Don't just wallow in your self pity. Read the error messages.\", 'labels': [{'relevance': 0.0506107360124588, 'label': 'Technology&Computing>Computing>Internet>Search'}, {'relevance': 0.04672352224588394, 'label': 'Technology&Computing>Computing>DataStorageAndWarehousing'}, {'relevance': 0.03022051975131035, 'label': 'Technology&Computing>Computing>ComputerSoftwareAndApplications>Databases'}, {'relevance': 0.011595996096730232, 'label': 'Technology&Computing>Computing>ProgrammingLanguages'}, {'relevance': 0.0036921778228133917, 'label': 'Technology&Computing>Computing>Internet>WebDevelopment'}, {'relevance': 0.001672725542448461, 'label': 'Technology&Computing>Computing>ComputerSoftwareAndApplications'}, {'relevance': 0.0014540336560457945, 'label': 'BusinessAndFinance>Business>BusinessI.T.'}, {'relevance': 0.0013047545216977596, 'label': 'Technology&Computing>Computing'}, {'relevance': 0.0011626906925812364, 'label': 'Technology&Computing>Computing>Internet>CloudComputing'}, {'relevance': 0.000979752978309989, 'label': 'Technology&Computing>Computing>Internet>ITAndInternetSupport'}], 'timestamp': {'start': 608660, 'end': 632050}}, {'text': \"They'll tell you something about what's wrong. Also, Google the errors, and this will save you a lot of time and headache. Finally, the third thing is to take it easy on yourself. The only people that can't code are the ones that never tried or the ones that quit too early. Thank you all so much for watching, and good luck on your data science and coding journey.\", 'labels': [{'relevance': 0.03310083970427513, 'label': 'Technology&Computing>Computing>ProgrammingLanguages'}, {'relevance': 0.010236410424113274, 'label': 'Technology&Computing>Computing>DataStorageAndWarehousing'}, {'relevance': 0.002769020153209567, 'label': 'Technology&Computing>Computing>ComputerSoftwareAndApplications>Databases'}, {'relevance': 0.0006400176789611578, 'label': 'Technology&Computing>Computing>Internet>WebDevelopment'}, {'relevance': 0.0004412453272379935, 'label': 'Technology&Computing>Computing>ComputerSoftwareAndApplications'}, {'relevance': 0.00039440582622773945, 'label': 'Technology&Computing>Computing'}, {'relevance': 0.0002687223022803664, 'label': 'BusinessAndFinance>Business>BusinessI.T.'}, {'relevance': 0.0002637691795825958, 'label': 'Technology&Computing>ArtificialIntelligence'}, {'relevance': 0.00026086653815582395, 'label': 'Education>EducationalAssessment'}, {'relevance': 0.00022350371000356972, 'label': 'Education>HomeworkAndStudy'}], 'timestamp': {'start': 632110, 'end': 647470}}], 'summary': {'Technology&Computing>Computing>ProgrammingLanguages': 1.0, 'Technology&Computing>Computing>ComputerSoftwareAndApplications>Databases': 0.2964928150177002, 'Technology&Computing>Computing>DataStorageAndWarehousing': 0.2801637351512909, 'Sports>MartialArts': 0.11868251115083694, 'Technology&Computing>Computing>ComputerSoftwareAndApplications': 0.08911718428134918, 'Technology&Computing>Computing': 0.07513512670993805, 'Technology&Computing>Computing>ComputerSoftwareAndApplications>DesktopPublishing': 0.07478858530521393, 'Education>OnlineEducation': 0.021426022052764893, 'Technology&Computing>Computing>Internet>WebDevelopment': 0.01837061531841755, 'Technology&Computing>Computing>Internet>WebDesignAndHTML': 0.00970423687249422, 'BusinessAndFinance>Business>BusinessI.T.': 0.0062935492023825645, 'Technology&Computing>Computing>ComputerSoftwareAndApplications>OperatingSystems': 0.00468349177390337, 'FineArt>Design': 0.004620478488504887, 'Sports>Boxing': 0.004139060620218515, 'Technology&Computing>Computing>Internet>Search': 0.003941779490560293, 'Hobbies&Interests>ArtsAndCrafts>Scrapbooking': 0.0021355419885367155, 'Education>EducationalAssessment': 0.0019941881764680147, 'Education>HomeworkAndStudy': 0.0012111155083402991, 'Hobbies&Interests>ContentProduction>FreelanceWriting': 0.0008685922948643565, 'Technology&Computing>Computing>Internet>ITAndInternetSupport': 0.0008533254731446505}}, 'language_detection': False, 'custom_spelling': None, 'disfluencies': False, 'sentiment_analysis': True, 'auto_chapters': True, 'chapters': [{'summary': \"A friend offered to coach me in exchange for teaching him how to code. It's been almost ten years since I wrote my first line of code. This video is about the detailed plan that I wrote for him to teach me the basics of coding for data science.\", 'headline': 'A friend offered to coach me in exchange for teaching him how to code.', 'gist': 'How to start coding from nothing.', 'start': 250, 'end': 57666}, {'summary': \"Python is more popular than R. For data scientists, it's more intuitive and flexible than R. It will be a more valuable skill to have for the job market in general and for the data science industry in particular. It is growing and will be more popular from 2020 to 2021.\", 'headline': 'Python is growing and will be more popular from 2020 to 2021.', 'gist': 'Python vs r for data scientists.', 'start': 57728, 'end': 128946}, {'summary': 'After choosing Python as a programming language, the first thing to do is to choose the right environment for his friend to learn Python on. The most common ides for Python are Vs, code, jupyter, notebook, PyCharm and Spider. The video from Precocamp shows how to set up the PyCharm environment.', 'headline': 'After choosing python as a programming language, the first thing to do is to choose the right environment for his friend to learn. Python on.', 'gist': 'What coding skills should my friend learn first.', 'start': 129008, 'end': 272382}, {'summary': \"There's a common misconception that learning to code is supposed to be really hard and scary. Coding languages, particularly Python, are designed to be as easy to use as possible while creating good results. At the most basic level, beginner coding can be broken down into seven concepts: data, types, variables, functions, lists, dictionaries, tuples, loops and libraries. This is a simple project, but it's relevant and useful to our work and our jujitsu training.\", 'headline': 'Coding languages, particularly Python, are designed to be as easy to use as possible while creating good results.', 'gist': 'Coding basics.', 'start': 272516, 'end': 522378}, {'summary': 'After learning the basics of Python, you should do a datarelated project on Kagglecom to learn more about data. Anaconda is a software package that lumps together all the relevant Python libraries and ideas for data science in one go. Google and Stack overflow are the most important tools to learn Python.', 'headline': 'Anaconda is a software package that lumps together all the relevant Python libraries and ideas for data science.', 'gist': 'Now what to do.', 'start': 522464, 'end': 647470}], 'sentiment_analysis_results': [{'text': 'I recently got an amazing opportunity.', 'start': 250, 'end': 2094, 'sentiment': 'POSITIVE', 'confidence': 0.9854362607002258, 'speaker': None}, {'text': \"I've been learning jujitsu, and a friend offered to coach me in exchange for teaching him how to code.\", 'start': 2252, 'end': 7278, 'sentiment': 'POSITIVE', 'confidence': 0.5677167177200317, 'speaker': None}, {'text': \"At this point in my life where I'm trying to improve my jiu jitsu as quickly as possible, this was an incredible trade for me.\", 'start': 7424, 'end': 13290, 'sentiment': 'POSITIVE', 'confidence': 0.9557937383651733, 'speaker': None}, {'text': \"In my personal opinion, I was all for until I had to think about how I'd actually go about teaching someone how to code starting from nothing, I quickly realized that this was going to be a lot harder than I thought.\", 'start': 13340, 'end': 22698, 'sentiment': 'NEGATIVE', 'confidence': 0.6896097660064697, 'speaker': None}, {'text': \"After all, it's been almost ten years since I wrote my very first line of code.\", 'start': 22844, 'end': 26250, 'sentiment': 'NEUTRAL', 'confidence': 0.6135286688804626, 'speaker': None}, {'text': \"That's a pretty long time.\", 'start': 26300, 'end': 27510, 'sentiment': 'NEUTRAL', 'confidence': 0.5590706467628479, 'speaker': None}, {'text': 'Now, this video is about the very specific and detailed plan that I wrote for my friend to teach me the basics of coding for data science.', 'start': 27560, 'end': 33934, 'sentiment': 'NEUTRAL', 'confidence': 0.7175085544586182, 'speaker': None}, {'text': 'Since I did all the work for him, I figured I might as well share the details with you as well.', 'start': 33982, 'end': 37638, 'sentiment': 'NEUTRAL', 'confidence': 0.8073458671569824, 'speaker': None}, {'text': 'Here.', 'start': 37664, 'end': 37926, 'sentiment': 'NEUTRAL', 'confidence': 0.571090042591095, 'speaker': None}, {'text': \"There have been plenty of other great videos similar to this about how to start coding, and I've linked many of them in the description.\", 'start': 37988, 'end': 43426, 'sentiment': 'POSITIVE', 'confidence': 0.9371036291122437, 'speaker': None}, {'text': \"Again, those are great, but I think this is a bit different because it's more focused on coding for data and it uses a very specific real world case study.\", 'start': 43498, 'end': 51174, 'sentiment': 'POSITIVE', 'confidence': 0.6514154076576233, 'speaker': None}, {'text': 'At the end, I also highlight the three most important things a new programmer should know.', 'start': 51332, 'end': 55662, 'sentiment': 'POSITIVE', 'confidence': 0.6790585517883301, 'speaker': None}, {'text': 'So you definitely want to stick around for that.', 'start': 55736, 'end': 57666, 'sentiment': 'POSITIVE', 'confidence': 0.6961215734481812, 'speaker': None}, {'text': \"Let's start with the language that we should start learning.\", 'start': 57728, 'end': 60342, 'sentiment': 'NEUTRAL', 'confidence': 0.7321674823760986, 'speaker': None}, {'text': \"I know if you're working with data, you generally have two good choices.\", 'start': 60476, 'end': 63862, 'sentiment': 'POSITIVE', 'confidence': 0.5769912600517273, 'speaker': None}, {'text': 'They would either start with Python or R.', 'start': 63946, 'end': 65838, 'sentiment': 'NEUTRAL', 'confidence': 0.8370683789253235, 'speaker': None}, {'text': \"Let's quickly compare the two languages data Science Style when looking at the Stack Overflow developer survey, we find that about 48% of respondents use Python, while only about 5% user.\", 'start': 65924, 'end': 77242, 'sentiment': 'NEUTRAL', 'confidence': 0.682600200176239, 'speaker': None}, {'text': 'In industry, Python is a far more common language.', 'start': 77326, 'end': 80290, 'sentiment': 'POSITIVE', 'confidence': 0.6892269849777222, 'speaker': None}, {'text': \"Let's now look more specifically a data scientist, not just all Stack Overflow users who come from a variety of backgrounds.\", 'start': 80410, 'end': 86962, 'sentiment': 'NEUTRAL', 'confidence': 0.7762300372123718, 'speaker': None}, {'text': 'On Kaggle, my favorite platform for data science learning and projects, we can see that around 84.2% of respondents use Python, while only 25% use R.', 'start': 87046, 'end': 97002, 'sentiment': 'POSITIVE', 'confidence': 0.8138779997825623, 'speaker': None}, {'text': 'Since these add up to more than 100%, we can assume that some data scientists are using both languages.', 'start': 97136, 'end': 102514, 'sentiment': 'NEUTRAL', 'confidence': 0.777105450630188, 'speaker': None}, {'text': \"Finally, let's look at these two languages over time.\", 'start': 102622, 'end': 105246, 'sentiment': 'NEUTRAL', 'confidence': 0.7736465930938721, 'speaker': None}, {'text': 'We can see here from 2020 to 2021, Python has gained an adoption.', 'start': 105308, 'end': 110002, 'sentiment': 'POSITIVE', 'confidence': 0.806574821472168, 'speaker': None}, {'text': 'While our usage has seen some attrition, to me, this is a no brainer.', 'start': 110086, 'end': 113590, 'sentiment': 'NEUTRAL', 'confidence': 0.6343181133270264, 'speaker': None}, {'text': 'I recommended my friend to start learning Python first.', 'start': 113650, 'end': 116226, 'sentiment': 'POSITIVE', 'confidence': 0.576751172542572, 'speaker': None}, {'text': \"That language is more popular, and it's continuing to grow.\", 'start': 116348, 'end': 118890, 'sentiment': 'POSITIVE', 'confidence': 0.8981326222419739, 'speaker': None}, {'text': \"This isn't to say R is bad.\", 'start': 118940, 'end': 120354, 'sentiment': 'NEUTRAL', 'confidence': 0.645785391330719, 'speaker': None}, {'text': \"It's just to say that I think Python is growing and will be a more valuable skill to have for the job market in general.\", 'start': 120452, 'end': 125946, 'sentiment': 'POSITIVE', 'confidence': 0.9332534074783325, 'speaker': None}, {'text': 'I also personally find it a bit more intuitive and flexible than our.', 'start': 126008, 'end': 128946, 'sentiment': 'POSITIVE', 'confidence': 0.7587546706199646, 'speaker': None}, {'text': \"Now that we've chosen our language as Python, what coding skills should my friend learn first?\", 'start': 129008, 'end': 132846, 'sentiment': 'NEUTRAL', 'confidence': 0.860024631023407, 'speaker': None}, {'text': 'Should he focus on variables?', 'start': 132968, 'end': 134554, 'sentiment': 'NEUTRAL', 'confidence': 0.8720144629478455, 'speaker': None}, {'text': 'Logic functions?', 'start': 134602, 'end': 135478, 'sentiment': 'NEUTRAL', 'confidence': 0.7596323490142822, 'speaker': None}, {'text': 'Algorithms?', 'start': 135514, 'end': 136042, 'sentiment': 'NEUTRAL', 'confidence': 0.6886606216430664, 'speaker': None}, {'text': 'Classes?', 'start': 136126, 'end': 136882, 'sentiment': 'NEUTRAL', 'confidence': 0.740774393081665, 'speaker': None}, {'text': 'My mind was absolutely spinning when I first addressed this.', 'start': 137026, 'end': 139542, 'sentiment': 'NEUTRAL', 'confidence': 0.5248250961303711, 'speaker': None}, {'text': 'It took me a second, but I had this weird chaotic flashback to my first days of learning programming myself.', 'start': 139616, 'end': 145098, 'sentiment': 'NEUTRAL', 'confidence': 0.6716702580451965, 'speaker': None}, {'text': \"I didn't even know where to start with getting Python on my own computer.\", 'start': 145244, 'end': 148254, 'sentiment': 'NEGATIVE', 'confidence': 0.5659180879592896, 'speaker': None}, {'text': 'I just now got excited about teaching the functional part of programming, and I completely forgot about the basics of setting up your environment for success.', 'start': 148352, 'end': 155766, 'sentiment': 'POSITIVE', 'confidence': 0.9405953884124756, 'speaker': None}, {'text': 'The next thing I did was give my friend some of my favorite resources on choosing an environment and getting the right version of Python on his computer.', 'start': 155888, 'end': 162318, 'sentiment': 'POSITIVE', 'confidence': 0.9399697780609131, 'speaker': None}, {'text': 'Honestly, I was a bit torn on this too.', 'start': 162404, 'end': 163902, 'sentiment': 'NEUTRAL', 'confidence': 0.6098055243492126, 'speaker': None}, {'text': 'So, for example, what IDE should have used?', 'start': 163976, 'end': 165846, 'sentiment': 'NEUTRAL', 'confidence': 0.8323457837104797, 'speaker': None}, {'text': 'Does he even know what IDE stands for?', 'start': 165908, 'end': 167550, 'sentiment': 'NEGATIVE', 'confidence': 0.5142828822135925, 'speaker': None}, {'text': \"For those who don't know and who are new, ID stands for Integrated Development Environment.\", 'start': 167600, 'end': 172366, 'sentiment': 'NEUTRAL', 'confidence': 0.7647459506988525, 'speaker': None}, {'text': 'So this is essentially just a text editor you use to write your code.', 'start': 172498, 'end': 175698, 'sentiment': 'NEUTRAL', 'confidence': 0.7028552889823914, 'speaker': None}, {'text': 'If you were writing an essay, you could choose to use Microsoft Word.', 'start': 175784, 'end': 178890, 'sentiment': 'NEUTRAL', 'confidence': 0.6894965767860413, 'speaker': None}, {'text': 'You could use Google Docs, you could use Notepad, or maybe even just straight up pen and paper.', 'start': 178940, 'end': 183486, 'sentiment': 'NEUTRAL', 'confidence': 0.5341423153877258, 'speaker': None}, {'text': 'Just like there are these different mediums for you to write your last minute paper.', 'start': 183548, 'end': 186414, 'sentiment': 'NEUTRAL', 'confidence': 0.7911513447761536, 'speaker': None}, {'text': 'Data scientists and software engineers need places to write their code.', 'start': 186512, 'end': 189786, 'sentiment': 'NEUTRAL', 'confidence': 0.789734423160553, 'speaker': None}, {'text': 'These places are called IDs.', 'start': 189908, 'end': 191686, 'sentiment': 'NEUTRAL', 'confidence': 0.6798380613327026, 'speaker': None}, {'text': \"And just like Microsoft Word has spell track and formatting to make sure that you don't make grammatical errors, many ideas help you to make sure that you have proper syntax in your code.\", 'start': 191758, 'end': 200262, 'sentiment': 'NEUTRAL', 'confidence': 0.5279349684715271, 'speaker': None}, {'text': \"In theory, technically, Microsoft Word would be considered an idea, but I definitely don't recommend using it as such unless you're jump ate.\", 'start': 200336, 'end': 207886, 'sentiment': 'NEGATIVE', 'confidence': 0.5907033681869507, 'speaker': None}, {'text': 'This is a list of the most commonly used Ides in the data domain.', 'start': 207958, 'end': 211354, 'sentiment': 'NEUTRAL', 'confidence': 0.8859666585922241, 'speaker': None}, {'text': 'And as you can see, common Ides for Python are vs, code, jupyter, notebook, PyCharm, and Spider.', 'start': 211462, 'end': 217246, 'sentiment': 'NEUTRAL', 'confidence': 0.7200871109962463, 'speaker': None}, {'text': 'Before anything else, I wanted to give him a decent understanding about how the development environments work before we picked one.', 'start': 217438, 'end': 223722, 'sentiment': 'NEUTRAL', 'confidence': 0.788666307926178, 'speaker': None}, {'text': 'As I mentioned, this is something that I was totally confused about when I started.', 'start': 223796, 'end': 227706, 'sentiment': 'NEGATIVE', 'confidence': 0.799895703792572, 'speaker': None}, {'text': 'When I learned to code, I was using Python and I was using an IDE called Idle.', 'start': 227828, 'end': 232042, 'sentiment': 'NEUTRAL', 'confidence': 0.752655565738678, 'speaker': None}, {'text': \"So Idle is great for learning, but I've literally never once touched it since, and I don't use it on any data projects in any of my work.\", 'start': 232126, 'end': 239274, 'sentiment': 'NEUTRAL', 'confidence': 0.42863601446151733, 'speaker': None}, {'text': 'I wanted to make sure that my friend was using something that would be representative of what he might see in the real world, what people actually use.', 'start': 239372, 'end': 246282, 'sentiment': 'NEUTRAL', 'confidence': 0.8118054866790771, 'speaker': None}, {'text': 'For this specific friend, I recommended that he started learning the basics with this video from Precocamp.', 'start': 246356, 'end': 250978, 'sentiment': 'NEUTRAL', 'confidence': 0.5607037544250488, 'speaker': None}, {'text': \"I've linked it and all other resources in the description.\", 'start': 251014, 'end': 253474, 'sentiment': 'NEUTRAL', 'confidence': 0.8468848466873169, 'speaker': None}, {'text': 'So in the video, they show you how to set up the PyCharm environment and get comfortable using that.', 'start': 253582, 'end': 257370, 'sentiment': 'POSITIVE', 'confidence': 0.5401339530944824, 'speaker': None}, {'text': 'I think PyCharm is solid, and if you get familiar with that, you can easily pick up the SCode, a Jupiter notebook, or Spider pretty quickly.', 'start': 257420, 'end': 263418, 'sentiment': 'POSITIVE', 'confidence': 0.92706298828125, 'speaker': None}, {'text': \"Truthfully, I don't think that the idea that you start with really matters that much.\", 'start': 263504, 'end': 266778, 'sentiment': 'NEGATIVE', 'confidence': 0.5262362957000732, 'speaker': None}, {'text': \"What's more important is that you're using one that people who actually write Python code into production are using.\", 'start': 266864, 'end': 272382, 'sentiment': 'NEUTRAL', 'confidence': 0.5348007082939148, 'speaker': None}, {'text': 'Okay, now on to the coding basics.', 'start': 272516, 'end': 274762, 'sentiment': 'NEUTRAL', 'confidence': 0.7784150242805481, 'speaker': None}, {'text': 'Surprisingly, I think this might be one of the simplest parts of this entire process.', 'start': 274906, 'end': 279186, 'sentiment': 'POSITIVE', 'confidence': 0.9154172539710999, 'speaker': None}, {'text': \"You see, there's a common misconception that coding is trying to trick you.\", 'start': 279368, 'end': 283398, 'sentiment': 'NEGATIVE', 'confidence': 0.6738186478614807, 'speaker': None}, {'text': \"There's this conspiracy that learning to code is supposed to be really hard and very scary.\", 'start': 283424, 'end': 288022, 'sentiment': 'NEGATIVE', 'confidence': 0.7850431799888611, 'speaker': None}, {'text': \"I would argue that it's almost the opposite.\", 'start': 288106, 'end': 290458, 'sentiment': 'NEUTRAL', 'confidence': 0.5571187734603882, 'speaker': None}, {'text': 'Coding languages, particularly Python.', 'start': 290554, 'end': 292486, 'sentiment': 'NEUTRAL', 'confidence': 0.7869985699653625, 'speaker': None}, {'text': \"They're designed to be as easy to use as possible while creating good results.\", 'start': 292558, 'end': 296254, 'sentiment': 'POSITIVE', 'confidence': 0.9124703407287598, 'speaker': None}, {'text': 'So if you change your perspective to look at them as intuitive, coding becomes significantly more fun and stressfree.', 'start': 296362, 'end': 301906, 'sentiment': 'POSITIVE', 'confidence': 0.9270672798156738, 'speaker': None}, {'text': \"This isn't to say that you won't get stuck.\", 'start': 301978, 'end': 303694, 'sentiment': 'NEUTRAL', 'confidence': 0.6348057985305786, 'speaker': None}, {'text': \"It's just to say that when you do get stuck, there's almost always a logical reason for it and a logical solution to resolve your problems.\", 'start': 303802, 'end': 310470, 'sentiment': 'NEUTRAL', 'confidence': 0.6158425807952881, 'speaker': None}, {'text': 'Keeping with this theme of simplicity, at the most basic level, beginner coding can be broken down into seven concepts.', 'start': 310580, 'end': 315670, 'sentiment': 'NEUTRAL', 'confidence': 0.693821370601654, 'speaker': None}, {'text': \"All the resources that I've linked in the description cover these topics, but I'm going to give you a very, very high level overview here.\", 'start': 315730, 'end': 321906, 'sentiment': 'POSITIVE', 'confidence': 0.5070356726646423, 'speaker': None}, {'text': 'The first one we start with is data types.', 'start': 321968, 'end': 323986, 'sentiment': 'NEUTRAL', 'confidence': 0.8381716012954712, 'speaker': None}, {'text': 'So in Python, you can work with numbers, you can work with text, you can work with Booleans, you can work with lists or a host of different data structures.', 'start': 324058, 'end': 330478, 'sentiment': 'NEUTRAL', 'confidence': 0.6314433813095093, 'speaker': None}, {'text': \"It's important to get a good understanding or a fundamental understanding of these first.\", 'start': 330574, 'end': 334422, 'sentiment': 'NEUTRAL', 'confidence': 0.6039033532142639, 'speaker': None}, {'text': 'Next, I think it makes sense to get familiar with how variables work.', 'start': 334496, 'end': 337434, 'sentiment': 'NEUTRAL', 'confidence': 0.7693310976028442, 'speaker': None}, {'text': 'This can vary by language, so you need to make sure you know how to assign and change variables in Python, specifically, after variables, you should look into how logical operators work.', 'start': 337532, 'end': 347154, 'sentiment': 'NEUTRAL', 'confidence': 0.8078016638755798, 'speaker': None}, {'text': 'These are very handy in your first few projects.', 'start': 347192, 'end': 349390, 'sentiment': 'POSITIVE', 'confidence': 0.9675305485725403, 'speaker': None}, {'text': 'If held, statements are probably the most important one.', 'start': 349450, 'end': 351846, 'sentiment': 'POSITIVE', 'confidence': 0.7271006107330322, 'speaker': None}, {'text': \"But you can definitely find use cases for the others, especially if you're working with data.\", 'start': 351908, 'end': 356178, 'sentiment': 'POSITIVE', 'confidence': 0.6104244589805603, 'speaker': None}, {'text': 'The fourth thing you need to understand is how loops work.', 'start': 356264, 'end': 358938, 'sentiment': 'NEUTRAL', 'confidence': 0.7248570322990417, 'speaker': None}, {'text': 'So one thing computers are really great at is doing a simple task over and over again.', 'start': 359024, 'end': 364098, 'sentiment': 'POSITIVE', 'confidence': 0.8661454916000366, 'speaker': None}, {'text': \"You'd be surprised at how useful these can be for your programming future.\", 'start': 364244, 'end': 368310, 'sentiment': 'POSITIVE', 'confidence': 0.9045030474662781, 'speaker': None}, {'text': 'After that, you should learn about functions.', 'start': 368420, 'end': 370378, 'sentiment': 'NEUTRAL', 'confidence': 0.8589364886283875, 'speaker': None}, {'text': 'So this sets the foundation for almost everything you do on your programming journey.', 'start': 370474, 'end': 374818, 'sentiment': 'NEUTRAL', 'confidence': 0.6612256765365601, 'speaker': None}, {'text': 'Functions allow you to encapsulate code and reuse it.', 'start': 374914, 'end': 377562, 'sentiment': 'POSITIVE', 'confidence': 0.6240290999412537, 'speaker': None}, {'text': 'If you really think about it, good coding is about making as many reusable bits as possible, and these functions are where that really begins.', 'start': 377696, 'end': 384190, 'sentiment': 'POSITIVE', 'confidence': 0.8003348708152771, 'speaker': None}, {'text': 'At this point, you have a pretty good understanding of the key building blocks of Python.', 'start': 384250, 'end': 387694, 'sentiment': 'POSITIVE', 'confidence': 0.8900540471076965, 'speaker': None}, {'text': 'You should now learn a bit more about how some of the basic data structures work.', 'start': 387802, 'end': 391470, 'sentiment': 'NEUTRAL', 'confidence': 0.8500798940658569, 'speaker': None}, {'text': 'I recommend taking a deeper dive into Lists, Dictionaries, as well as Tuples.', 'start': 391520, 'end': 395014, 'sentiment': 'POSITIVE', 'confidence': 0.5440900921821594, 'speaker': None}, {'text': 'This will set the foundation for much of your data work later on.', 'start': 395062, 'end': 397782, 'sentiment': 'NEUTRAL', 'confidence': 0.5031412243843079, 'speaker': None}, {'text': 'Finally, you should start learning to work with libraries.', 'start': 397916, 'end': 400402, 'sentiment': 'NEUTRAL', 'confidence': 0.5282405614852905, 'speaker': None}, {'text': 'So the most important ones for data are Pandas, NumPy, ScikitLearn, and Matplotlib, and these give you additional tools to analyze, visualize and manipulate data.', 'start': 400486, 'end': 408762, 'sentiment': 'POSITIVE', 'confidence': 0.8538879752159119, 'speaker': None}, {'text': 'Pandas and Numpire also introduced some new data structures, like arrays, series, and data frames.', 'start': 408836, 'end': 412930, 'sentiment': 'NEUTRAL', 'confidence': 0.837847113609314, 'speaker': None}, {'text': 'So if you have an understanding of how the more basic data structures work in Python, you should be able to pick these up relatively quickly.', 'start': 412990, 'end': 418758, 'sentiment': 'POSITIVE', 'confidence': 0.6371472477912903, 'speaker': None}, {'text': \"And that's it.\", 'start': 418844, 'end': 419526, 'sentiment': 'NEUTRAL', 'confidence': 0.5477844476699829, 'speaker': None}, {'text': \"With those seven things, you have the basics of coding that you'll need for starting to work with data.\", 'start': 419588, 'end': 424182, 'sentiment': 'NEUTRAL', 'confidence': 0.8271486759185791, 'speaker': None}, {'text': \"If you're watching this and you're a software engineer, you probably think I left something important out.\", 'start': 424256, 'end': 428106, 'sentiment': 'NEGATIVE', 'confidence': 0.47931233048439026, 'speaker': None}, {'text': \"What I've purposely omitted from this list is an explanation of classes.\", 'start': 428168, 'end': 431710, 'sentiment': 'NEUTRAL', 'confidence': 0.513831615447998, 'speaker': None}, {'text': 'So classes are the foundation of object oriented programming, and object oriented programming is a programming model that organizes code around objects rather than functions or logic.', 'start': 431770, 'end': 441226, 'sentiment': 'NEUTRAL', 'confidence': 0.7762998938560486, 'speaker': None}, {'text': \"Object oriented programming is incredibly powerful, but honestly, it isn't very relevant for the beginner stages of working with data.\", 'start': 441358, 'end': 447462, 'sentiment': 'NEUTRAL', 'confidence': 0.4150903820991516, 'speaker': None}, {'text': \"It is something you should absolutely explore on your own after you've learned these other concepts.\", 'start': 447536, 'end': 452134, 'sentiment': 'POSITIVE', 'confidence': 0.713316798210144, 'speaker': None}, {'text': \"Well, in the description, I've linked a few great resources for learning all of the concepts, including the exact one from Free Code Camp that I gave my friend.\", 'start': 452182, 'end': 459858, 'sentiment': 'POSITIVE', 'confidence': 0.9386650323867798, 'speaker': None}, {'text': 'Most of them are completely free, but I have also included my discount link for the course on 365 Data Science.', 'start': 459944, 'end': 465418, 'sentiment': 'POSITIVE', 'confidence': 0.72319495677948, 'speaker': None}, {'text': \"So if you're looking for a resource just to take you past the more basic coding and more towards tangible data science skills, I would recommend checking that out.\", 'start': 465514, 'end': 472770, 'sentiment': 'POSITIVE', 'confidence': 0.7685678601264954, 'speaker': None}, {'text': \"One thing that I love about many of the courses that I've linked is that they have these little mini projects baked into the coursework.\", 'start': 472820, 'end': 478738, 'sentiment': 'POSITIVE', 'confidence': 0.9802240133285522, 'speaker': None}, {'text': 'I think project based learning is the single most effective way to learn technical concepts.', 'start': 478834, 'end': 483358, 'sentiment': 'POSITIVE', 'confidence': 0.9252229332923889, 'speaker': None}, {'text': 'After first getting a basic foundation, I highly encourage you to think about how you can use code to build things that would be useful to you.', 'start': 483454, 'end': 491742, 'sentiment': 'POSITIVE', 'confidence': 0.8167121410369873, 'speaker': None}, {'text': \"So for my friend, the first project I'm having him do is create a jujitsu drill randomizer using Python.\", 'start': 491816, 'end': 497554, 'sentiment': 'NEUTRAL', 'confidence': 0.5978508591651917, 'speaker': None}, {'text': \"So for training anything, it's important to reinforce your skills.\", 'start': 497662, 'end': 500446, 'sentiment': 'NEUTRAL', 'confidence': 0.7015912532806396, 'speaker': None}, {'text': 'But it can get boring working on the same basic drills every day.', 'start': 500518, 'end': 503610, 'sentiment': 'NEGATIVE', 'confidence': 0.9038236737251282, 'speaker': None}, {'text': \"I'm having to make a program that essentially randomly selects two to three drills that we should work on during our sessions from a larger list.\", 'start': 503660, 'end': 510618, 'sentiment': 'NEUTRAL', 'confidence': 0.8908714652061462, 'speaker': None}, {'text': \"This is a simple project, but it's something that's directly relevant and useful to our work and our jujitsu training.\", 'start': 510704, 'end': 515586, 'sentiment': 'POSITIVE', 'confidence': 0.9276151061058044, 'speaker': None}, {'text': \"With that in mind, I'd love for you to comment below with a Python project that you'd like to do, and we'll all hold each other accountable.\", 'start': 515648, 'end': 521854, 'sentiment': 'POSITIVE', 'confidence': 0.8127702474594116, 'speaker': None}, {'text': 'Okay?', 'start': 521962, 'end': 522378, 'sentiment': 'NEUTRAL', 'confidence': 0.7123859524726868, 'speaker': None}, {'text': \"So now that you've learned the basics of Python, now what?\", 'start': 522464, 'end': 525162, 'sentiment': 'NEUTRAL', 'confidence': 0.7456001043319702, 'speaker': None}, {'text': \"If you're interested in learning more about data, I highly recommend that you do a datarelated project.\", 'start': 525296, 'end': 530358, 'sentiment': 'POSITIVE', 'confidence': 0.8782829642295837, 'speaker': None}, {'text': \"The single best place for this is Kaggle.com, which I've mentioned before.\", 'start': 530504, 'end': 534210, 'sentiment': 'POSITIVE', 'confidence': 0.9193375110626221, 'speaker': None}, {'text': \"If that's a bit too intimidating, you can follow along on one of the projects that I've done or one of the thousands of projects that other people have worked on on the Kaggle platform.\", 'start': 534380, 'end': 542010, 'sentiment': 'NEUTRAL', 'confidence': 0.7000814080238342, 'speaker': None}, {'text': 'Realistically, many people lose steam at this step.', 'start': 542120, 'end': 545166, 'sentiment': 'NEGATIVE', 'confidence': 0.6217605471611023, 'speaker': None}, {'text': 'They go through and see the great work that other people have done, and they get discouraged again.', 'start': 545288, 'end': 549150, 'sentiment': 'NEUTRAL', 'confidence': 0.4682561755180359, 'speaker': None}, {'text': 'Honestly, I remember feeling this too.', 'start': 549200, 'end': 550890, 'sentiment': 'NEUTRAL', 'confidence': 0.7410768866539001, 'speaker': None}, {'text': 'What I recommend doing is going through some of the basic notebooks, like the Titanic data set, and just copying the code, running it on your own computer, line by line.', 'start': 550940, 'end': 559398, 'sentiment': 'NEUTRAL', 'confidence': 0.681861162185669, 'speaker': None}, {'text': \"Many people think that this is cheating, but it's actually a great way to learn.\", 'start': 559544, 'end': 563202, 'sentiment': 'POSITIVE', 'confidence': 0.5282831192016602, 'speaker': None}, {'text': 'Even better when you run it, make some changes to the code and see what happens.', 'start': 563276, 'end': 566958, 'sentiment': 'POSITIVE', 'confidence': 0.7531724572181702, 'speaker': None}, {'text': 'Maybe you should try changing, like the colors on a graph from blue to red, or try to make a line thicker on one of the graphs.', 'start': 567104, 'end': 573514, 'sentiment': 'NEUTRAL', 'confidence': 0.8702700734138489, 'speaker': None}, {'text': 'Just simple things like that help you iterate and improve.', 'start': 573562, 'end': 575974, 'sentiment': 'POSITIVE', 'confidence': 0.8813362717628479, 'speaker': None}, {'text': \"So remember when we talked about IDs earlier and I'd mentioned Jupiter's notebook?\", 'start': 576022, 'end': 579430, 'sentiment': 'NEUTRAL', 'confidence': 0.8734732270240784, 'speaker': None}, {'text': 'Kaggle uses something similar to that that lets you work online.', 'start': 579490, 'end': 582474, 'sentiment': 'NEUTRAL', 'confidence': 0.747973620891571, 'speaker': None}, {'text': 'This is great and free compute power if you have limited resources at home.', 'start': 582572, 'end': 585990, 'sentiment': 'POSITIVE', 'confidence': 0.9385425448417664, 'speaker': None}, {'text': 'So if you want to work with data on your laptop or desktop, I recommend downloading Anaconda.', 'start': 586040, 'end': 590674, 'sentiment': 'NEUTRAL', 'confidence': 0.5073233246803284, 'speaker': None}, {'text': 'Anaconda is a software package that lumps together all of the relevant Python libraries and ideas for data science in one go.', 'start': 590722, 'end': 597690, 'sentiment': 'NEUTRAL', 'confidence': 0.5262939929962158, 'speaker': None}, {'text': \"So you can check out my video for how to install it, which I've linked above and in the description.\", 'start': 597800, 'end': 602134, 'sentiment': 'NEUTRAL', 'confidence': 0.8528739213943481, 'speaker': None}, {'text': 'Finally, I have three tips to send you on your way.', 'start': 602242, 'end': 604782, 'sentiment': 'NEUTRAL', 'confidence': 0.603242814540863, 'speaker': None}, {'text': 'These are probably the most important things that a new coder can learn.', 'start': 604856, 'end': 608610, 'sentiment': 'POSITIVE', 'confidence': 0.9413374066352844, 'speaker': None}, {'text': 'So the first one is to use Google and stack overflow.', 'start': 608660, 'end': 611350, 'sentiment': 'NEUTRAL', 'confidence': 0.8287224769592285, 'speaker': None}, {'text': \"If you have a question, it's almost guaranteed that someone has asked it before on the Internet, getting good at finding answers on your own via search might be the single most important skill of a data scientist or software engineer that they use every single day.\", 'start': 611470, 'end': 624906, 'sentiment': 'POSITIVE', 'confidence': 0.6186635494232178, 'speaker': None}, {'text': 'The second is to use errors so your code will not run.', 'start': 624968, 'end': 627426, 'sentiment': 'NEGATIVE', 'confidence': 0.7637071013450623, 'speaker': None}, {'text': \"It will break, and you'll be sad.\", 'start': 627488, 'end': 629158, 'sentiment': 'NEGATIVE', 'confidence': 0.8506230711936951, 'speaker': None}, {'text': \"Don't just wallow in your self pity.\", 'start': 629314, 'end': 630838, 'sentiment': 'NEGATIVE', 'confidence': 0.8747800588607788, 'speaker': None}, {'text': 'Read the error messages.', 'start': 630934, 'end': 632050, 'sentiment': 'NEGATIVE', 'confidence': 0.4900802671909332, 'speaker': None}, {'text': \"They'll tell you something about what's wrong.\", 'start': 632110, 'end': 633834, 'sentiment': 'NEUTRAL', 'confidence': 0.4985716640949249, 'speaker': None}, {'text': 'Also, Google the errors, and this will save you a lot of time and headache.', 'start': 633932, 'end': 637054, 'sentiment': 'POSITIVE', 'confidence': 0.5685086846351624, 'speaker': None}, {'text': 'Finally, the third thing is to take it easy on yourself.', 'start': 637102, 'end': 639402, 'sentiment': 'NEUTRAL', 'confidence': 0.5236702561378479, 'speaker': None}, {'text': \"The only people that can't code are the ones that never tried or the ones that quit too early.\", 'start': 639536, 'end': 643746, 'sentiment': 'NEGATIVE', 'confidence': 0.9113683700561523, 'speaker': None}, {'text': 'Thank you all so much for watching, and good luck on your data science and coding journey.', 'start': 643928, 'end': 647470, 'sentiment': 'POSITIVE', 'confidence': 0.9869617223739624, 'speaker': None}], 'entity_detection': False, 'entities': None}\n"
     ]
    }
   ],
   "source": [
    "result_endpoint = endpoint + '/' + response.json()[\"id\"] \n",
    "transcript_auth = {\n",
    "    \"authorization\": API_KEY,\n",
    "}\n",
    "transcript_response = requests.get(result_endpoint, headers=transcript_auth)\n",
    "print(response.json())\n",
    "\n",
    "while transcript_response.json()['status'] != \"completed\":\n",
    "    response = requests.get(result_endpoint,headers=transcript_auth)\n",
    "    time.sleep(3)"
   ]
  },
  {
   "cell_type": "code",
   "execution_count": 16,
   "metadata": {
    "scrolled": true
   },
   "outputs": [
    {
     "data": {
      "application/json": {
       "acoustic_model": "assemblyai_default",
       "audio_duration": 661,
       "audio_end_at": null,
       "audio_start_from": null,
       "audio_url": "https://github.com/AyeshGK/audio_analyzer/blob/main/How_I_Would_Learn_to_Code.mp3?raw=true",
       "auto_chapters": true,
       "auto_highlights": true,
       "auto_highlights_result": {
        "results": [
         {
          "count": 1,
          "rank": 0.07,
          "text": "Python code",
          "timestamps": [
           {
            "end": 270870,
            "start": 270164
           }
          ]
         },
         {
          "count": 7,
          "rank": 0.06,
          "text": "data science",
          "timestamps": [
           {
            "end": 33934,
            "start": 33404
           },
           {
            "end": 68554,
            "start": 67954
           },
           {
            "end": 89434,
            "start": 88916
           },
           {
            "end": 465418,
            "start": 464744
           },
           {
            "end": 471022,
            "start": 470554
           },
           {
            "end": 596854,
            "start": 596264
           },
           {
            "end": 646714,
            "start": 646184
           }
          ]
         },
         {
          "count": 1,
          "rank": 0.06,
          "text": "data science learning",
          "timestamps": [
           {
            "end": 89730,
            "start": 88916
           }
          ]
         },
         {
          "count": 1,
          "rank": 0.06,
          "text": "tangible data science skills",
          "timestamps": [
           {
            "end": 471394,
            "start": 470132
           }
          ]
         },
         {
          "count": 1,
          "rank": 0.05,
          "text": "different data structures",
          "timestamps": [
           {
            "end": 330478,
            "start": 329504
           }
          ]
         },
         {
          "count": 1,
          "rank": 0.05,
          "text": "other great videos",
          "timestamps": [
           {
            "end": 39522,
            "start": 38756
           }
          ]
         },
         {
          "count": 1,
          "rank": 0.05,
          "text": "data types",
          "timestamps": [
           {
            "end": 323986,
            "start": 323264
           }
          ]
         },
         {
          "count": 1,
          "rank": 0.05,
          "text": "data frames",
          "timestamps": [
           {
            "end": 412930,
            "start": 412388
           }
          ]
         },
         {
          "count": 2,
          "rank": 0.05,
          "text": "Data scientists",
          "timestamps": [
           {
            "end": 101146,
            "start": 100412
           },
           {
            "end": 187162,
            "start": 186512
           }
          ]
         },
         {
          "count": 2,
          "rank": 0.05,
          "text": "other people",
          "timestamps": [
           {
            "end": 540414,
            "start": 540032
           },
           {
            "end": 547338,
            "start": 547004
           }
          ]
         },
         {
          "count": 2,
          "rank": 0.05,
          "text": "many people",
          "timestamps": [
           {
            "end": 543690,
            "start": 543082
           },
           {
            "end": 560094,
            "start": 559544
           }
          ]
         },
         {
          "count": 1,
          "rank": 0.05,
          "text": "good coding",
          "timestamps": [
           {
            "end": 379474,
            "start": 378884
           }
          ]
         },
         {
          "count": 1,
          "rank": 0.05,
          "text": "Coding languages",
          "timestamps": [
           {
            "end": 291358,
            "start": 290554
           }
          ]
         },
         {
          "count": 3,
          "rank": 0.04,
          "text": "object oriented programming",
          "timestamps": [
           {
            "end": 434782,
            "start": 433352
           },
           {
            "end": 436582,
            "start": 435152
           },
           {
            "end": 442702,
            "start": 441358
           }
          ]
         },
         {
          "count": 6,
          "rank": 0.04,
          "text": "projects",
          "timestamps": [
           {
            "end": 90562,
            "start": 89984
           },
           {
            "end": 238342,
            "start": 237980
           },
           {
            "end": 349390,
            "start": 348860
           },
           {
            "end": 477538,
            "start": 477154
           },
           {
            "end": 537562,
            "start": 537236
           },
           {
            "end": 539782,
            "start": 539444
           }
          ]
         }
        ],
        "status": "success"
       },
       "boost_param": null,
       "chapters": [
        {
         "end": 57666,
         "gist": "How to start coding from nothing.",
         "headline": "A friend offered to coach me in exchange for teaching him how to code.",
         "start": 250,
         "summary": "A friend offered to coach me in exchange for teaching him how to code. It's been almost ten years since I wrote my first line of code. This video is about the detailed plan that I wrote for him to teach me the basics of coding for data science."
        },
        {
         "end": 128946,
         "gist": "Python vs r for data scientists.",
         "headline": "Python is growing and will be more popular from 2020 to 2021.",
         "start": 57728,
         "summary": "Python is more popular than R. For data scientists, it's more intuitive and flexible than R. It will be a more valuable skill to have for the job market in general and for the data science industry in particular. It is growing and will be more popular from 2020 to 2021."
        },
        {
         "end": 272382,
         "gist": "What coding skills should my friend learn first.",
         "headline": "After choosing python as a programming language, the first thing to do is to choose the right environment for his friend to learn. Python on.",
         "start": 129008,
         "summary": "After choosing Python as a programming language, the first thing to do is to choose the right environment for his friend to learn Python on. The most common ides for Python are Vs, code, jupyter, notebook, PyCharm and Spider. The video from Precocamp shows how to set up the PyCharm environment."
        },
        {
         "end": 522378,
         "gist": "Coding basics.",
         "headline": "Coding languages, particularly Python, are designed to be as easy to use as possible while creating good results.",
         "start": 272516,
         "summary": "There's a common misconception that learning to code is supposed to be really hard and scary. Coding languages, particularly Python, are designed to be as easy to use as possible while creating good results. At the most basic level, beginner coding can be broken down into seven concepts: data, types, variables, functions, lists, dictionaries, tuples, loops and libraries. This is a simple project, but it's relevant and useful to our work and our jujitsu training."
        },
        {
         "end": 647470,
         "gist": "Now what to do.",
         "headline": "Anaconda is a software package that lumps together all the relevant Python libraries and ideas for data science.",
         "start": 522464,
         "summary": "After learning the basics of Python, you should do a datarelated project on Kagglecom to learn more about data. Anaconda is a software package that lumps together all the relevant Python libraries and ideas for data science in one go. Google and Stack overflow are the most important tools to learn Python."
        }
       ],
       "confidence": 0.932969838709676,
       "content_safety": false,
       "content_safety_labels": {
        "results": [],
        "status": "unavailable",
        "summary": {}
       },
       "custom_spelling": null,
       "disfluencies": false,
       "dual_channel": null,
       "entities": null,
       "entity_detection": false,
       "filter_profanity": false,
       "format_text": true,
       "iab_categories": true,
       "iab_categories_result": {
        "results": [
         {
          "labels": [
           {
            "label": "Sports>MartialArts",
            "relevance": 0.9573874473571777
           },
           {
            "label": "Sports>Boxing",
            "relevance": 0.02879876084625721
           },
           {
            "label": "Sports>Bodybuilding",
            "relevance": 0.005588308442384005
           },
           {
            "label": "Movies>ActionAndAdventureMovies",
            "relevance": 0.003627625061199069
           },
           {
            "label": "Sports>Weightlifting",
            "relevance": 0.0006908985669724643
           },
           {
            "label": "Sports>Wrestling",
            "relevance": 0.0006621046341024339
           },
           {
            "label": "Technology&Computing>Computing>ProgrammingLanguages",
            "relevance": 0.0005513571086339653
           },
           {
            "label": "FineArt>Dance",
            "relevance": 0.0004549484292510897
           },
           {
            "label": "HealthyLiving>FitnessAndExercise",
            "relevance": 0.00034604404936544597
           },
           {
            "label": "Religion&Spirituality>Buddhism",
            "relevance": 0.00034314097138121724
           }
          ],
          "text": "I recently got an amazing opportunity. I've been learning jujitsu, and a friend offered to coach me in exchange for teaching him how to code. At this point in my life where I'm trying to improve my jiu jitsu as quickly as possible, this was an incredible trade for me.",
          "timestamp": {
           "end": 13290,
           "start": 250
          }
         },
         {
          "labels": [
           {
            "label": "Technology&Computing>Computing>ProgrammingLanguages",
            "relevance": 0.6825703382492065
           },
           {
            "label": "Technology&Computing>Computing>Internet>WebDevelopment",
            "relevance": 0.020239636301994324
           },
           {
            "label": "Technology&Computing>Computing>Internet>WebDesignAndHTML",
            "relevance": 0.01676282472908497
           },
           {
            "label": "FineArt>Design",
            "relevance": 0.003195831086486578
           },
           {
            "label": "Technology&Computing>Computing",
            "relevance": 0.000760186230763793
           },
           {
            "label": "Technology&Computing>Computing>ComputerSoftwareAndApplications>DesktopPublishing",
            "relevance": 0.0007308204658329487
           },
           {
            "label": "Technology&Computing>Computing>ComputerSoftwareAndApplications",
            "relevance": 0.0005864207050763071
           },
           {
            "label": "Technology&Computing>ArtificialIntelligence",
            "relevance": 0.0004585333517752588
           },
           {
            "label": "Technology&Computing",
            "relevance": 0.00029736844589933753
           },
           {
            "label": "Education>LanguageLearning",
            "relevance": 0.00028192950412631035
           }
          ],
          "text": "In my personal opinion, I was all for until I had to think about how I'd actually go about teaching someone how to code starting from nothing, I quickly realized that this was going to be a lot harder than I thought. After all, it's been almost ten years since I wrote my very first line of code. That's a pretty long time.",
          "timestamp": {
           "end": 27510,
           "start": 13340
          }
         },
         {
          "labels": [
           {
            "label": "Technology&Computing>Computing>DataStorageAndWarehousing",
            "relevance": 0.46700140833854675
           },
           {
            "label": "Technology&Computing>Computing>ComputerSoftwareAndApplications>Databases",
            "relevance": 0.09675102680921555
           },
           {
            "label": "Technology&Computing>Computing>ProgrammingLanguages",
            "relevance": 0.0382227897644043
           },
           {
            "label": "Technology&Computing>Computing>ComputerSoftwareAndApplications",
            "relevance": 0.004251029342412949
           },
           {
            "label": "Technology&Computing>Computing>Internet>WebDevelopment",
            "relevance": 0.0008697746088728309
           },
           {
            "label": "BusinessAndFinance>Business>BusinessI.T.",
            "relevance": 0.0005413327016867697
           },
           {
            "label": "BusinessAndFinance>Business>Sales",
            "relevance": 0.0005291341803967953
           },
           {
            "label": "Technology&Computing>Computing>ComputerSoftwareAndApplications>DesktopPublishing",
            "relevance": 0.00046507740626111627
           },
           {
            "label": "Technology&Computing>Computing",
            "relevance": 0.00039700092747807503
           },
           {
            "label": "Technology&Computing>Computing>Internet>WebDesignAndHTML",
            "relevance": 0.0003315383510198444
           }
          ],
          "text": "Now, this video is about the very specific and detailed plan that I wrote for my friend to teach me the basics of coding for data science. Since I did all the work for him, I figured I might as well share the details with you as well. Here. There have been plenty of other great videos similar to this about how to start coding, and I've linked many of them in the description.",
          "timestamp": {
           "end": 43426,
           "start": 27560
          }
         },
         {
          "labels": [
           {
            "label": "Technology&Computing>Computing>ProgrammingLanguages",
            "relevance": 0.9897080659866333
           },
           {
            "label": "Technology&Computing>Computing>ComputerSoftwareAndApplications>Databases",
            "relevance": 0.1818011850118637
           },
           {
            "label": "Technology&Computing>Computing>DataStorageAndWarehousing",
            "relevance": 0.1347472369670868
           },
           {
            "label": "Technology&Computing>Computing>ComputerSoftwareAndApplications",
            "relevance": 0.053395770490169525
           },
           {
            "label": "Technology&Computing>Computing",
            "relevance": 0.02455024980008602
           },
           {
            "label": "Technology&Computing>Computing>Internet>WebDevelopment",
            "relevance": 0.005711491219699383
           },
           {
            "label": "BusinessAndFinance>Business>BusinessI.T.",
            "relevance": 0.004379599820822477
           },
           {
            "label": "Technology&Computing>Computing>ComputerSoftwareAndApplications>DesktopPublishing",
            "relevance": 0.0030082776211202145
           },
           {
            "label": "Technology&Computing>Computing>Internet>WebDesignAndHTML",
            "relevance": 0.0028091457206755877
           },
           {
            "label": "Technology&Computing>Computing>ComputerSoftwareAndApplications>OperatingSystems",
            "relevance": 0.0010985861299559474
           }
          ],
          "text": "Again, those are great, but I think this is a bit different because it's more focused on coding for data and it uses a very specific real world case study. At the end, I also highlight the three most important things a new programmer should know. So you definitely want to stick around for that. Let's start with the language that we should start learning. I know if you're working with data, you generally have two good choices.",
          "timestamp": {
           "end": 63862,
           "start": 43498
          }
         },
         {
          "labels": [
           {
            "label": "Technology&Computing>Computing>ProgrammingLanguages",
            "relevance": 0.04716448485851288
           },
           {
            "label": "Technology&Computing>Computing>DataStorageAndWarehousing",
            "relevance": 0.030795490369200706
           },
           {
            "label": "Technology&Computing>Computing>ComputerSoftwareAndApplications>Databases",
            "relevance": 0.022353414446115494
           },
           {
            "label": "Technology&Computing>Computing>ComputerSoftwareAndApplications",
            "relevance": 0.0019404811318963766
           },
           {
            "label": "Technology&Computing>Computing>Internet>WebDevelopment",
            "relevance": 0.0017203661845996976
           },
           {
            "label": "Technology&Computing>Computing",
            "relevance": 0.0004279229906387627
           },
           {
            "label": "Technology&Computing>Computing>Internet>Search",
            "relevance": 0.0002855639613699168
           },
           {
            "label": "Hobbies&Interests>ContentProduction",
            "relevance": 0.00028312651556916535
           },
           {
            "label": "Technology&Computing>Computing>Internet>CloudComputing",
            "relevance": 0.00027503332239575684
           },
           {
            "label": "Technology&Computing>Computing>ComputerSoftwareAndApplications>DesktopPublishing",
            "relevance": 0.0002585863694548607
           }
          ],
          "text": "They would either start with Python or R. Let's quickly compare the two languages data Science Style when looking at the Stack Overflow developer survey, we find that about 48% of respondents use Python, while only about 5% user. In industry, Python is a far more common language. Let's now look more specifically a data scientist, not just all Stack Overflow users who come from a variety of backgrounds.",
          "timestamp": {
           "end": 86962,
           "start": 63946
          }
         },
         {
          "labels": [
           {
            "label": "Technology&Computing>Computing>ProgrammingLanguages",
            "relevance": 0.018889430910348892
           },
           {
            "label": "Technology&Computing>Computing>DataStorageAndWarehousing",
            "relevance": 0.015581768937408924
           },
           {
            "label": "Technology&Computing>Computing>ComputerSoftwareAndApplications>Databases",
            "relevance": 0.011901815421879292
           },
           {
            "label": "Technology&Computing>Computing>Internet>CloudComputing",
            "relevance": 0.0009790339972823858
           },
           {
            "label": "Technology&Computing>Computing>Internet>Search",
            "relevance": 0.0007473842124454677
           },
           {
            "label": "Technology&Computing>Computing>ComputerSoftwareAndApplications",
            "relevance": 0.00045119921560399234
           },
           {
            "label": "Technology&Computing>Computing",
            "relevance": 0.00039784974069334567
           },
           {
            "label": "Technology&Computing>Computing>Internet>WebDevelopment",
            "relevance": 0.00037589340354315937
           },
           {
            "label": "Technology&Computing>Computing>ComputerSoftwareAndApplications>DesktopPublishing",
            "relevance": 0.00024779405794106424
           },
           {
            "label": "Hobbies&Interests>ContentProduction",
            "relevance": 0.0002318183396710083
           }
          ],
          "text": "On Kaggle, my favorite platform for data science learning and projects, we can see that around 84.2% of respondents use Python, while only 25% use R. Since these add up to more than 100%, we can assume that some data scientists are using both languages. Finally, let's look at these two languages over time. We can see here from 2020 to 2021, Python has gained an adoption. While our usage has seen some attrition, to me, this is a no brainer.",
          "timestamp": {
           "end": 113590,
           "start": 87046
          }
         },
         {
          "labels": [
           {
            "label": "Technology&Computing>Computing>ProgrammingLanguages",
            "relevance": 0.9574006795883179
           },
           {
            "label": "Technology&Computing>Computing>Internet>WebDevelopment",
            "relevance": 0.015630152076482773
           },
           {
            "label": "Technology&Computing>Computing>Internet>WebDesignAndHTML",
            "relevance": 0.0043205260299146175
           },
           {
            "label": "Technology&Computing>Computing",
            "relevance": 0.002225232310593128
           },
           {
            "label": "Technology&Computing>Computing>ComputerSoftwareAndApplications",
            "relevance": 0.0018761149840429425
           },
           {
            "label": "Technology&Computing>Computing>ComputerSoftwareAndApplications>OperatingSystems",
            "relevance": 0.0011138156987726688
           },
           {
            "label": "Education>LanguageLearning",
            "relevance": 0.0008122965227812529
           },
           {
            "label": "Technology&Computing>Computing>ComputerSoftwareAndApplications>DesktopPublishing",
            "relevance": 0.00071744155138731
           },
           {
            "label": "FineArt>Design",
            "relevance": 0.0005562370643019676
           },
           {
            "label": "Technology&Computing>Computing>ComputerSoftwareAndApplications>Databases",
            "relevance": 0.0005351037834770977
           }
          ],
          "text": "I recommended my friend to start learning Python first. That language is more popular, and it's continuing to grow. This isn't to say R is bad. It's just to say that I think Python is growing and will be a more valuable skill to have for the job market in general. I also personally find it a bit more intuitive and flexible than our. Now that we've chosen our language as Python, what coding skills should my friend learn first? Should he focus on variables?",
          "timestamp": {
           "end": 134554,
           "start": 113650
          }
         },
         {
          "labels": [
           {
            "label": "Technology&Computing>Computing>ProgrammingLanguages",
            "relevance": 0.997239351272583
           },
           {
            "label": "Technology&Computing>Computing",
            "relevance": 0.0299863051623106
           },
           {
            "label": "Technology&Computing>Computing>Internet>WebDevelopment",
            "relevance": 0.015080869197845459
           },
           {
            "label": "Technology&Computing>Computing>ComputerSoftwareAndApplications",
            "relevance": 0.011019322089850903
           },
           {
            "label": "Technology&Computing>Computing>Internet>WebDesignAndHTML",
            "relevance": 0.006217788439244032
           },
           {
            "label": "Technology&Computing>Computing>ComputerSoftwareAndApplications>OperatingSystems",
            "relevance": 0.0060826800763607025
           },
           {
            "label": "Technology&Computing>Computing>ComputerSoftwareAndApplications>Databases",
            "relevance": 0.0011201777961105108
           },
           {
            "label": "Technology&Computing>Computing>ComputerSoftwareAndApplications>DesktopPublishing",
            "relevance": 0.0010617600055411458
           },
           {
            "label": "Technology&Computing>ArtificialIntelligence",
            "relevance": 0.0004679429403040558
           },
           {
            "label": "Education>OnlineEducation",
            "relevance": 0.0004423240607138723
           }
          ],
          "text": "Logic functions? Algorithms? Classes? My mind was absolutely spinning when I first addressed this. It took me a second, but I had this weird chaotic flashback to my first days of learning programming myself. I didn't even know where to start with getting Python on my own computer. I just now got excited about teaching the functional part of programming, and I completely forgot about the basics of setting up your environment for success.",
          "timestamp": {
           "end": 155766,
           "start": 134602
          }
         },
         {
          "labels": [
           {
            "label": "Technology&Computing>Computing>ProgrammingLanguages",
            "relevance": 0.8402432799339294
           },
           {
            "label": "Technology&Computing>Computing>ComputerSoftwareAndApplications",
            "relevance": 0.06417085975408554
           },
           {
            "label": "Technology&Computing>Computing>Internet>WebDevelopment",
            "relevance": 0.011784405447542667
           },
           {
            "label": "Technology&Computing>Computing>ComputerSoftwareAndApplications>OperatingSystems",
            "relevance": 0.007261323276907206
           },
           {
            "label": "Technology&Computing>Computing>ComputerSoftwareAndApplications>DesktopPublishing",
            "relevance": 0.005422063171863556
           },
           {
            "label": "Technology&Computing>Computing>Internet>WebDesignAndHTML",
            "relevance": 0.004655107855796814
           },
           {
            "label": "Technology&Computing>Computing",
            "relevance": 0.003337631933391094
           },
           {
            "label": "Technology&Computing>Computing>ComputerSoftwareAndApplications>SharewareAndFreeware",
            "relevance": 0.00038565933937206864
           },
           {
            "label": "Technology&Computing>Computing>ComputerSoftwareAndApplications>GraphicsSoftware",
            "relevance": 0.00030709095881320536
           },
           {
            "label": "Technology&Computing>Computing>ComputerSoftwareAndApplications>Databases",
            "relevance": 0.0002582431770861149
           }
          ],
          "text": "The next thing I did was give my friend some of my favorite resources on choosing an environment and getting the right version of Python on his computer. Honestly, I was a bit torn on this too. So, for example, what IDE should have used? Does he even know what IDE stands for? For those who don't know and who are new, ID stands for Integrated Development Environment. So this is essentially just a text editor you use to write your code.",
          "timestamp": {
           "end": 175698,
           "start": 155888
          }
         },
         {
          "labels": [
           {
            "label": "Technology&Computing>Computing>ComputerSoftwareAndApplications>DesktopPublishing",
            "relevance": 0.9573201537132263
           },
           {
            "label": "Technology&Computing>Computing>ComputerSoftwareAndApplications",
            "relevance": 0.15832144021987915
           },
           {
            "label": "BusinessAndFinance>Business>BusinessI.T.",
            "relevance": 0.06031270697712898
           },
           {
            "label": "Technology&Computing>Computing",
            "relevance": 0.04715276136994362
           },
           {
            "label": "Technology&Computing>Computing>ProgrammingLanguages",
            "relevance": 0.04216592386364937
           },
           {
            "label": "Hobbies&Interests>ArtsAndCrafts>Scrapbooking",
            "relevance": 0.027581874281167984
           },
           {
            "label": "Technology&Computing>Computing>Internet>WebDevelopment",
            "relevance": 0.02184438891708851
           },
           {
            "label": "Technology&Computing>Computing>Internet>WebDesignAndHTML",
            "relevance": 0.02026958018541336
           },
           {
            "label": "FineArt>Design",
            "relevance": 0.013212554156780243
           },
           {
            "label": "Technology&Computing>Computing>ComputerSoftwareAndApplications>Databases",
            "relevance": 0.011871756054461002
           }
          ],
          "text": "If you were writing an essay, you could choose to use Microsoft Word. You could use Google Docs, you could use Notepad, or maybe even just straight up pen and paper. Just like there are these different mediums for you to write your last minute paper. Data scientists and software engineers need places to write their code. These places are called IDs.",
          "timestamp": {
           "end": 191686,
           "start": 175784
          }
         },
         {
          "labels": [
           {
            "label": "Technology&Computing>Computing>ComputerSoftwareAndApplications>Databases",
            "relevance": 0.5948925614356995
           },
           {
            "label": "Technology&Computing>Computing>DataStorageAndWarehousing",
            "relevance": 0.3706324100494385
           },
           {
            "label": "Technology&Computing>Computing>ProgrammingLanguages",
            "relevance": 0.09156111627817154
           },
           {
            "label": "Technology&Computing>Computing>ComputerSoftwareAndApplications",
            "relevance": 0.008196406997740269
           },
           {
            "label": "Technology&Computing>Computing>ComputerSoftwareAndApplications>DesktopPublishing",
            "relevance": 0.0072908890433609486
           },
           {
            "label": "Technology&Computing>Computing>Internet>WebDesignAndHTML",
            "relevance": 0.0026018607895821333
           },
           {
            "label": "Technology&Computing>Computing>Internet>WebDevelopment",
            "relevance": 0.001270592212677002
           },
           {
            "label": "BusinessAndFinance>Business>BusinessI.T.",
            "relevance": 0.0007780970772728324
           },
           {
            "label": "Technology&Computing>Computing>Internet>Email",
            "relevance": 0.0005076187080703676
           },
           {
            "label": "Technology&Computing>Computing",
            "relevance": 0.0003281515964772552
           }
          ],
          "text": "And just like Microsoft Word has spell track and formatting to make sure that you don't make grammatical errors, many ideas help you to make sure that you have proper syntax in your code. In theory, technically, Microsoft Word would be considered an idea, but I definitely don't recommend using it as such unless you're jump ate. This is a list of the most commonly used Ides in the data domain.",
          "timestamp": {
           "end": 211354,
           "start": 191758
          }
         },
         {
          "labels": [
           {
            "label": "Technology&Computing>Computing>ProgrammingLanguages",
            "relevance": 0.8189933896064758
           },
           {
            "label": "Technology&Computing>Computing>Internet>WebDevelopment",
            "relevance": 0.0160681065171957
           },
           {
            "label": "Technology&Computing>Computing>ComputerSoftwareAndApplications>OperatingSystems",
            "relevance": 0.011294696480035782
           },
           {
            "label": "Technology&Computing>Computing>ComputerSoftwareAndApplications",
            "relevance": 0.011154638603329659
           },
           {
            "label": "Technology&Computing>Computing>Internet>WebDesignAndHTML",
            "relevance": 0.007502108812332153
           },
           {
            "label": "Technology&Computing>Computing>ComputerSoftwareAndApplications>DesktopPublishing",
            "relevance": 0.003139971988275647
           },
           {
            "label": "Technology&Computing>Computing",
            "relevance": 0.0017177507979795337
           },
           {
            "label": "BusinessAndFinance>Business>BusinessBanking&Finance>AngelInvestment",
            "relevance": 0.0003676028863992542
           },
           {
            "label": "FineArt>Design",
            "relevance": 0.000323984568240121
           },
           {
            "label": "Technology&Computing>Computing>ComputerSoftwareAndApplications>SharewareAndFreeware",
            "relevance": 0.0002942010760307312
           }
          ],
          "text": "And as you can see, common Ides for Python are vs, code, jupyter, notebook, PyCharm, and Spider. Before anything else, I wanted to give him a decent understanding about how the development environments work before we picked one. As I mentioned, this is something that I was totally confused about when I started. When I learned to code, I was using Python and I was using an IDE called Idle.",
          "timestamp": {
           "end": 232042,
           "start": 211462
          }
         },
         {
          "labels": [
           {
            "label": "Careers>RemoteWorking",
            "relevance": 0.00833014864474535
           },
           {
            "label": "Education>OnlineEducation",
            "relevance": 0.0019385572522878647
           },
           {
            "label": "Education>HomeworkAndStudy",
            "relevance": 0.001849769032560289
           },
           {
            "label": "FineArt>Design",
            "relevance": 0.00155459507368505
           },
           {
            "label": "Technology&Computing",
            "relevance": 0.0009629081469029188
           },
           {
            "label": "Technology&Computing>ArtificialIntelligence",
            "relevance": 0.0008866513962857425
           },
           {
            "label": "Technology&Computing>Computing>Internet>WebHosting",
            "relevance": 0.0008584997267462313
           },
           {
            "label": "BusinessAndFinance>Business>BusinessI.T.",
            "relevance": 0.0008561909780837595
           },
           {
            "label": "Technology&Computing>Computing>ComputerSoftwareAndApplications>WebConferencing",
            "relevance": 0.0008248004014603794
           },
           {
            "label": "Hobbies&Interests",
            "relevance": 0.0007631054031662643
           }
          ],
          "text": "So Idle is great for learning, but I've literally never once touched it since, and I don't use it on any data projects in any of my work. I wanted to make sure that my friend was using something that would be representative of what he might see in the real world, what people actually use. For this specific friend, I recommended that he started learning the basics with this video from Precocamp. I've linked it and all other resources in the description.",
          "timestamp": {
           "end": 253474,
           "start": 232126
          }
         },
         {
          "labels": [
           {
            "label": "Technology&Computing>Computing>ProgrammingLanguages",
            "relevance": 0.13895948231220245
           },
           {
            "label": "Technology&Computing>Computing>Internet>WebDevelopment",
            "relevance": 0.030104296281933784
           },
           {
            "label": "Technology&Computing>Computing>Internet>WebDesignAndHTML",
            "relevance": 0.006249608006328344
           },
           {
            "label": "Technology&Computing>Computing>ComputerSoftwareAndApplications>OperatingSystems",
            "relevance": 0.004141554702073336
           },
           {
            "label": "Technology&Computing>Computing>ComputerSoftwareAndApplications>DesktopPublishing",
            "relevance": 0.0020432265009731054
           },
           {
            "label": "Technology&Computing>Computing>ComputerSoftwareAndApplications",
            "relevance": 0.0007780952728353441
           },
           {
            "label": "Technology&Computing>Computing>Internet>WebHosting",
            "relevance": 0.0004284699389245361
           },
           {
            "label": "Technology&Computing>Computing>ComputerSoftwareAndApplications>SharewareAndFreeware",
            "relevance": 0.0003033763205166906
           },
           {
            "label": "Technology&Computing>Computing>ComputerSoftwareAndApplications>WebConferencing",
            "relevance": 0.0002410490851616487
           },
           {
            "label": "Technology&Computing>Computing>ComputerSoftwareAndApplications>Browsers",
            "relevance": 0.0002218918816652149
           }
          ],
          "text": "So in the video, they show you how to set up the PyCharm environment and get comfortable using that. I think PyCharm is solid, and if you get familiar with that, you can easily pick up the SCode, a Jupiter notebook, or Spider pretty quickly. Truthfully, I don't think that the idea that you start with really matters that much. What's more important is that you're using one that people who actually write Python code into production are using.",
          "timestamp": {
           "end": 272382,
           "start": 253582
          }
         },
         {
          "labels": [
           {
            "label": "Technology&Computing>Computing>ProgrammingLanguages",
            "relevance": 0.9961701035499573
           },
           {
            "label": "Technology&Computing>Computing>ComputerSoftwareAndApplications",
            "relevance": 0.04048285260796547
           },
           {
            "label": "Technology&Computing>Computing>Internet>WebDevelopment",
            "relevance": 0.03918085992336273
           },
           {
            "label": "Technology&Computing>Computing",
            "relevance": 0.036707114428281784
           },
           {
            "label": "Technology&Computing>Computing>Internet>WebDesignAndHTML",
            "relevance": 0.021596578881144524
           },
           {
            "label": "FineArt>Design",
            "relevance": 0.0021227560937404633
           },
           {
            "label": "Technology&Computing>Computing>ComputerSoftwareAndApplications>DesktopPublishing",
            "relevance": 0.000969329325016588
           },
           {
            "label": "Technology&Computing>Computing>ComputerSoftwareAndApplications>OperatingSystems",
            "relevance": 0.0008763110381551087
           },
           {
            "label": "Technology&Computing",
            "relevance": 0.00038374861469492316
           },
           {
            "label": "Technology&Computing>Computing>ComputerSoftwareAndApplications>SharewareAndFreeware",
            "relevance": 0.0003737263032235205
           }
          ],
          "text": "Okay, now on to the coding basics. Surprisingly, I think this might be one of the simplest parts of this entire process. You see, there's a common misconception that coding is trying to trick you. There's this conspiracy that learning to code is supposed to be really hard and very scary. I would argue that it's almost the opposite. Coding languages, particularly Python. They're designed to be as easy to use as possible while creating good results.",
          "timestamp": {
           "end": 296254,
           "start": 272516
          }
         },
         {
          "labels": [
           {
            "label": "Technology&Computing>Computing>ProgrammingLanguages",
            "relevance": 0.9868060350418091
           },
           {
            "label": "Technology&Computing>Computing",
            "relevance": 0.02277306467294693
           },
           {
            "label": "Technology&Computing>Computing>ComputerSoftwareAndApplications",
            "relevance": 0.021146679297089577
           },
           {
            "label": "Technology&Computing>Computing>Internet>WebDevelopment",
            "relevance": 0.011281504295766354
           },
           {
            "label": "Technology&Computing>Computing>Internet>WebDesignAndHTML",
            "relevance": 0.006435983814299107
           },
           {
            "label": "FineArt>Design",
            "relevance": 0.0040368507616221905
           },
           {
            "label": "Technology&Computing",
            "relevance": 0.0005306155071593821
           },
           {
            "label": "Technology&Computing>Computing>ComputerSoftwareAndApplications>OperatingSystems",
            "relevance": 0.0004885542439296842
           },
           {
            "label": "Education>LanguageLearning",
            "relevance": 0.0004042161162942648
           },
           {
            "label": "MusicAndAudio",
            "relevance": 0.00038536786451004446
           }
          ],
          "text": "So if you change your perspective to look at them as intuitive, coding becomes significantly more fun and stressfree. This isn't to say that you won't get stuck. It's just to say that when you do get stuck, there's almost always a logical reason for it and a logical solution to resolve your problems. Keeping with this theme of simplicity, at the most basic level, beginner coding can be broken down into seven concepts.",
          "timestamp": {
           "end": 315670,
           "start": 296362
          }
         },
         {
          "labels": [
           {
            "label": "Technology&Computing>Computing>ProgrammingLanguages",
            "relevance": 0.9143489003181458
           },
           {
            "label": "Technology&Computing>Computing>ComputerSoftwareAndApplications>Databases",
            "relevance": 0.8915838003158569
           },
           {
            "label": "Technology&Computing>Computing>DataStorageAndWarehousing",
            "relevance": 0.3551885187625885
           },
           {
            "label": "Technology&Computing>Computing",
            "relevance": 0.021588033065199852
           },
           {
            "label": "Technology&Computing>Computing>ComputerSoftwareAndApplications",
            "relevance": 0.012894713319838047
           },
           {
            "label": "BusinessAndFinance>Business>BusinessI.T.",
            "relevance": 0.0032032232265919447
           },
           {
            "label": "Technology&Computing>Computing>ComputerSoftwareAndApplications>OperatingSystems",
            "relevance": 0.0024769208393990993
           },
           {
            "label": "Technology&Computing>Computing>Internet>WebDesignAndHTML",
            "relevance": 0.0012841833522543311
           },
           {
            "label": "Technology&Computing>Computing>Internet>WebDevelopment",
            "relevance": 0.0011943880235776305
           },
           {
            "label": "Technology&Computing>Computing>ComputerSoftwareAndApplications>3-DGraphics",
            "relevance": 0.0007167437579482794
           }
          ],
          "text": "All the resources that I've linked in the description cover these topics, but I'm going to give you a very, very high level overview here. The first one we start with is data types. So in Python, you can work with numbers, you can work with text, you can work with Booleans, you can work with lists or a host of different data structures. It's important to get a good understanding or a fundamental understanding of these first.",
          "timestamp": {
           "end": 334422,
           "start": 315730
          }
         },
         {
          "labels": [
           {
            "label": "Technology&Computing>Computing>ProgrammingLanguages",
            "relevance": 0.9421324729919434
           },
           {
            "label": "Technology&Computing>Computing>ComputerSoftwareAndApplications>Databases",
            "relevance": 0.008041106164455414
           },
           {
            "label": "Technology&Computing>Computing",
            "relevance": 0.0033807868603616953
           },
           {
            "label": "Technology&Computing>Computing>ComputerSoftwareAndApplications>OperatingSystems",
            "relevance": 0.0027359321247786283
           },
           {
            "label": "Technology&Computing>Computing>Internet>WebDevelopment",
            "relevance": 0.002437596209347248
           },
           {
            "label": "Technology&Computing>Computing>ComputerSoftwareAndApplications",
            "relevance": 0.0013692068168893456
           },
           {
            "label": "Technology&Computing>Computing>DataStorageAndWarehousing",
            "relevance": 0.0013547067064791918
           },
           {
            "label": "Technology&Computing>Computing>Internet>WebDesignAndHTML",
            "relevance": 0.0012500421144068241
           },
           {
            "label": "Technology&Computing>Computing>ComputerSoftwareAndApplications>DesktopPublishing",
            "relevance": 0.0002236307627754286
           },
           {
            "label": "Education>CollegeEducation",
            "relevance": 0.00017943145940080285
           }
          ],
          "text": "Next, I think it makes sense to get familiar with how variables work. This can vary by language, so you need to make sure you know how to assign and change variables in Python, specifically, after variables, you should look into how logical operators work. These are very handy in your first few projects. If held, statements are probably the most important one. But you can definitely find use cases for the others, especially if you're working with data.",
          "timestamp": {
           "end": 356178,
           "start": 334496
          }
         },
         {
          "labels": [
           {
            "label": "Technology&Computing>Computing>ProgrammingLanguages",
            "relevance": 0.998534083366394
           },
           {
            "label": "Technology&Computing>Computing",
            "relevance": 0.6956455111503601
           },
           {
            "label": "Technology&Computing>Computing>ComputerSoftwareAndApplications",
            "relevance": 0.1402975171804428
           },
           {
            "label": "Technology&Computing>Computing>Internet>WebDevelopment",
            "relevance": 0.02590177021920681
           },
           {
            "label": "Technology&Computing>Computing>ComputerSoftwareAndApplications>OperatingSystems",
            "relevance": 0.008289473131299019
           },
           {
            "label": "Technology&Computing>Computing>Internet>WebDesignAndHTML",
            "relevance": 0.008081978186964989
           },
           {
            "label": "Technology&Computing>Computing>ComputerSoftwareAndApplications>Databases",
            "relevance": 0.0011924703139811754
           },
           {
            "label": "Technology&Computing>ArtificialIntelligence",
            "relevance": 0.0011390983127057552
           },
           {
            "label": "BusinessAndFinance>Business>BusinessI.T.",
            "relevance": 0.0009008285705931485
           },
           {
            "label": "Technology&Computing",
            "relevance": 0.000549998483620584
           }
          ],
          "text": "The fourth thing you need to understand is how loops work. So one thing computers are really great at is doing a simple task over and over again. You'd be surprised at how useful these can be for your programming future. After that, you should learn about functions. So this sets the foundation for almost everything you do on your programming journey. Functions allow you to encapsulate code and reuse it.",
          "timestamp": {
           "end": 377562,
           "start": 356264
          }
         },
         {
          "labels": [
           {
            "label": "Technology&Computing>Computing>ProgrammingLanguages",
            "relevance": 0.9764951467514038
           },
           {
            "label": "Technology&Computing>Computing>ComputerSoftwareAndApplications>Databases",
            "relevance": 0.30757221579551697
           },
           {
            "label": "Technology&Computing>Computing>DataStorageAndWarehousing",
            "relevance": 0.034268155694007874
           },
           {
            "label": "Technology&Computing>Computing>ComputerSoftwareAndApplications",
            "relevance": 0.005975215695798397
           },
           {
            "label": "Technology&Computing>Computing>Internet>WebDevelopment",
            "relevance": 0.005400600377470255
           },
           {
            "label": "Technology&Computing>Computing>Internet>WebDesignAndHTML",
            "relevance": 0.004977370146661997
           },
           {
            "label": "Technology&Computing>Computing",
            "relevance": 0.004665924236178398
           },
           {
            "label": "Technology&Computing>Computing>ComputerSoftwareAndApplications>OperatingSystems",
            "relevance": 0.0017193336971104145
           },
           {
            "label": "Technology&Computing>Computing>ComputerSoftwareAndApplications>DesktopPublishing",
            "relevance": 0.0007098516798578203
           },
           {
            "label": "BusinessAndFinance>Business>BusinessI.T.",
            "relevance": 0.0003443428431637585
           }
          ],
          "text": "If you really think about it, good coding is about making as many reusable bits as possible, and these functions are where that really begins. At this point, you have a pretty good understanding of the key building blocks of Python. You should now learn a bit more about how some of the basic data structures work. I recommend taking a deeper dive into Lists, Dictionaries, as well as Tuples. This will set the foundation for much of your data work later on.",
          "timestamp": {
           "end": 397782,
           "start": 377696
          }
         },
         {
          "labels": [
           {
            "label": "Technology&Computing>Computing>ComputerSoftwareAndApplications>Databases",
            "relevance": 0.8293094038963318
           },
           {
            "label": "Technology&Computing>Computing>DataStorageAndWarehousing",
            "relevance": 0.8046072125434875
           },
           {
            "label": "Technology&Computing>Computing>ProgrammingLanguages",
            "relevance": 0.09021534025669098
           },
           {
            "label": "Technology&Computing>Computing>ComputerSoftwareAndApplications",
            "relevance": 0.004694747738540173
           },
           {
            "label": "Technology&Computing>Computing",
            "relevance": 0.003159487619996071
           },
           {
            "label": "BusinessAndFinance>Business>BusinessI.T.",
            "relevance": 0.0010790281230583787
           },
           {
            "label": "Technology&Computing>Computing>ComputerSoftwareAndApplications>OperatingSystems",
            "relevance": 0.0005777408950962126
           },
           {
            "label": "Technology&Computing>Computing>ComputerSoftwareAndApplications>3-DGraphics",
            "relevance": 0.00048347542178817093
           },
           {
            "label": "Technology&Computing>Computing>Internet>WebDevelopment",
            "relevance": 0.0003067410143557936
           },
           {
            "label": "Technology&Computing>Computing>Internet>CloudComputing",
            "relevance": 0.0002471518237143755
           }
          ],
          "text": "Finally, you should start learning to work with libraries. So the most important ones for data are Pandas, NumPy, ScikitLearn, and Matplotlib, and these give you additional tools to analyze, visualize and manipulate data. Pandas and Numpire also introduced some new data structures, like arrays, series, and data frames. So if you have an understanding of how the more basic data structures work in Python, you should be able to pick these up relatively quickly. And that's it.",
          "timestamp": {
           "end": 419526,
           "start": 397916
          }
         },
         {
          "labels": [
           {
            "label": "Technology&Computing>Computing>ProgrammingLanguages",
            "relevance": 0.9748011231422424
           },
           {
            "label": "Technology&Computing>Computing>ComputerSoftwareAndApplications",
            "relevance": 0.6381824016571045
           },
           {
            "label": "Technology&Computing>Computing>ComputerSoftwareAndApplications>Databases",
            "relevance": 0.5464639067649841
           },
           {
            "label": "Technology&Computing>Computing>DataStorageAndWarehousing",
            "relevance": 0.19469092786312103
           },
           {
            "label": "Technology&Computing>Computing",
            "relevance": 0.10937438160181046
           },
           {
            "label": "Technology&Computing>Computing>ComputerSoftwareAndApplications>OperatingSystems",
            "relevance": 0.010251151397824287
           },
           {
            "label": "Technology&Computing>Computing>Internet>WebDevelopment",
            "relevance": 0.008547022007405758
           },
           {
            "label": "Technology&Computing>Computing>Internet>WebDesignAndHTML",
            "relevance": 0.00845507625490427
           },
           {
            "label": "BusinessAndFinance>Business>BusinessI.T.",
            "relevance": 0.005067106802016497
           },
           {
            "label": "Technology&Computing>Computing>ComputerSoftwareAndApplications>DesktopPublishing",
            "relevance": 0.0009315143688581884
           }
          ],
          "text": "With those seven things, you have the basics of coding that you'll need for starting to work with data. If you're watching this and you're a software engineer, you probably think I left something important out. What I've purposely omitted from this list is an explanation of classes. So classes are the foundation of object oriented programming, and object oriented programming is a programming model that organizes code around objects rather than functions or logic.",
          "timestamp": {
           "end": 441226,
           "start": 419588
          }
         },
         {
          "labels": [
           {
            "label": "Technology&Computing>Computing>ProgrammingLanguages",
            "relevance": 0.810926079750061
           },
           {
            "label": "Technology&Computing>Computing>DataStorageAndWarehousing",
            "relevance": 0.4412902295589447
           },
           {
            "label": "Technology&Computing>Computing>ComputerSoftwareAndApplications>Databases",
            "relevance": 0.3591517508029938
           },
           {
            "label": "Technology&Computing>Computing>ComputerSoftwareAndApplications",
            "relevance": 0.02103828452527523
           },
           {
            "label": "Technology&Computing>Computing",
            "relevance": 0.008708782494068146
           },
           {
            "label": "BusinessAndFinance>Business>BusinessI.T.",
            "relevance": 0.002329861978068948
           },
           {
            "label": "Technology&Computing>Computing>Internet>WebDevelopment",
            "relevance": 0.0016065806848928332
           },
           {
            "label": "Technology&Computing>Computing>ComputerSoftwareAndApplications>OperatingSystems",
            "relevance": 0.0008280582260340452
           },
           {
            "label": "Technology&Computing>Computing>Internet>WebDesignAndHTML",
            "relevance": 0.0007299125427380204
           },
           {
            "label": "Technology&Computing>Computing>ComputerSoftwareAndApplications>DesktopPublishing",
            "relevance": 0.0005026490543968976
           }
          ],
          "text": "Object oriented programming is incredibly powerful, but honestly, it isn't very relevant for the beginner stages of working with data. It is something you should absolutely explore on your own after you've learned these other concepts. Well, in the description, I've linked a few great resources for learning all of the concepts, including the exact one from Free Code Camp that I gave my friend. Most of them are completely free, but I have also included my discount link for the course on 365 Data Science.",
          "timestamp": {
           "end": 465418,
           "start": 441358
          }
         },
         {
          "labels": [
           {
            "label": "Education>OnlineEducation",
            "relevance": 0.28360310196876526
           },
           {
            "label": "Education>EducationalAssessment",
            "relevance": 0.022792836651206017
           },
           {
            "label": "Technology&Computing>Computing>DataStorageAndWarehousing",
            "relevance": 0.021281562745571136
           },
           {
            "label": "Education>HomeworkAndStudy",
            "relevance": 0.012411072850227356
           },
           {
            "label": "Hobbies&Interests>ContentProduction",
            "relevance": 0.0022046484518796206
           },
           {
            "label": "Technology&Computing>Computing>ComputerSoftwareAndApplications",
            "relevance": 0.0017427115235477686
           },
           {
            "label": "BusinessAndFinance>Business>MarketingAndAdvertising",
            "relevance": 0.0010517551563680172
           },
           {
            "label": "BusinessAndFinance>Industries>ConstructionIndustry",
            "relevance": 0.0009377403184771538
           },
           {
            "label": "BusinessAndFinance>Business>BusinessI.T.",
            "relevance": 0.0008847765275277197
           },
           {
            "label": "Education>EducationalAssessment>StandardizedTesting",
            "relevance": 0.0008686925284564495
           }
          ],
          "text": "So if you're looking for a resource just to take you past the more basic coding and more towards tangible data science skills, I would recommend checking that out. One thing that I love about many of the courses that I've linked is that they have these little mini projects baked into the coursework. I think project based learning is the single most effective way to learn technical concepts.",
          "timestamp": {
           "end": 483358,
           "start": 465514
          }
         },
         {
          "labels": [
           {
            "label": "Technology&Computing>Computing>ProgrammingLanguages",
            "relevance": 0.16019926965236664
           },
           {
            "label": "Sports>MartialArts",
            "relevance": 0.05586325004696846
           },
           {
            "label": "Sports>Boxing",
            "relevance": 0.007977738976478577
           },
           {
            "label": "Technology&Computing>Computing",
            "relevance": 0.0047991396859288216
           },
           {
            "label": "Technology&Computing>Computing>ComputerSoftwareAndApplications",
            "relevance": 0.003875788301229477
           },
           {
            "label": "Technology&Computing>Computing>Internet>WebDevelopment",
            "relevance": 0.002718591131269932
           },
           {
            "label": "Technology&Computing>ArtificialIntelligence",
            "relevance": 0.0016546957194805145
           },
           {
            "label": "Technology&Computing>Computing>Internet>WebDesignAndHTML",
            "relevance": 0.00100128969643265
           },
           {
            "label": "Education>OnlineEducation",
            "relevance": 0.0007728625787422061
           },
           {
            "label": "Movies>ActionAndAdventureMovies",
            "relevance": 0.0007552897441200912
           }
          ],
          "text": "After first getting a basic foundation, I highly encourage you to think about how you can use code to build things that would be useful to you. So for my friend, the first project I'm having him do is create a jujitsu drill randomizer using Python. So for training anything, it's important to reinforce your skills. But it can get boring working on the same basic drills every day.",
          "timestamp": {
           "end": 503610,
           "start": 483454
          }
         },
         {
          "labels": [
           {
            "label": "Sports>MartialArts",
            "relevance": 0.6082295179367065
           },
           {
            "label": "Sports>Boxing",
            "relevance": 0.019439753144979477
           },
           {
            "label": "Education>OnlineEducation",
            "relevance": 0.0007363316835835576
           },
           {
            "label": "Religion&Spirituality>Buddhism",
            "relevance": 0.0006425243918783963
           },
           {
            "label": "Sports>Wrestling",
            "relevance": 0.0006391560891643167
           },
           {
            "label": "Education>EducationalAssessment",
            "relevance": 0.00043998699402436614
           },
           {
            "label": "Movies>ActionAndAdventureMovies",
            "relevance": 0.0004349359660409391
           },
           {
            "label": "Sports>Weightlifting",
            "relevance": 0.00043045246275141835
           },
           {
            "label": "Technology&Computing>Computing>ComputerSoftwareAndApplications",
            "relevance": 0.0003667851269710809
           },
           {
            "label": "FineArt>Dance",
            "relevance": 0.00034246398718096316
           }
          ],
          "text": "I'm having to make a program that essentially randomly selects two to three drills that we should work on during our sessions from a larger list. This is a simple project, but it's something that's directly relevant and useful to our work and our jujitsu training. With that in mind, I'd love for you to comment below with a Python project that you'd like to do, and we'll all hold each other accountable. Okay?",
          "timestamp": {
           "end": 522378,
           "start": 503660
          }
         },
         {
          "labels": [
           {
            "label": "Technology&Computing>Computing>DataStorageAndWarehousing",
            "relevance": 0.5962150692939758
           },
           {
            "label": "Technology&Computing>Computing>ComputerSoftwareAndApplications>Databases",
            "relevance": 0.1202964335680008
           },
           {
            "label": "Technology&Computing>Computing>ComputerSoftwareAndApplications",
            "relevance": 0.0014805657556280494
           },
           {
            "label": "Technology&Computing>Computing>ProgrammingLanguages",
            "relevance": 0.000746802135836333
           },
           {
            "label": "Technology&Computing>Computing>Internet>CloudComputing",
            "relevance": 0.0006166126695461571
           },
           {
            "label": "BusinessAndFinance>Business>Sales",
            "relevance": 0.00018718958017416298
           },
           {
            "label": "BusinessAndFinance>Business>BusinessI.T.",
            "relevance": 0.0001689543860265985
           },
           {
            "label": "BusinessAndFinance>Business>Logistics",
            "relevance": 0.00015336074284277856
           },
           {
            "label": "Education>OnlineEducation",
            "relevance": 0.00013715113163925707
           },
           {
            "label": "Technology&Computing>Computing>Internet>WebDevelopment",
            "relevance": 0.00012088041694369167
           }
          ],
          "text": "So now that you've learned the basics of Python, now what? If you're interested in learning more about data, I highly recommend that you do a datarelated project. The single best place for this is Kaggle.com, which I've mentioned before. If that's a bit too intimidating, you can follow along on one of the projects that I've done or one of the thousands of projects that other people have worked on on the Kaggle platform. Realistically, many people lose steam at this step.",
          "timestamp": {
           "end": 545166,
           "start": 522464
          }
         },
         {
          "labels": [
           {
            "label": "Technology&Computing>Computing>ProgrammingLanguages",
            "relevance": 0.10430345684289932
           },
           {
            "label": "FineArt>Design",
            "relevance": 0.03067994862794876
           },
           {
            "label": "Technology&Computing>Computing>ComputerSoftwareAndApplications>DesktopPublishing",
            "relevance": 0.02327468805015087
           },
           {
            "label": "Technology&Computing>Computing>ComputerSoftwareAndApplications",
            "relevance": 0.004528597462922335
           },
           {
            "label": "Technology&Computing>Computing>Internet>WebDesignAndHTML",
            "relevance": 0.003798693884164095
           },
           {
            "label": "Technology&Computing>Computing>Internet>WebDevelopment",
            "relevance": 0.0023415889590978622
           },
           {
            "label": "BusinessAndFinance>Business>BusinessI.T.",
            "relevance": 0.0014098488027229905
           },
           {
            "label": "Technology&Computing>Computing>DataStorageAndWarehousing",
            "relevance": 0.0012782138073816895
           },
           {
            "label": "Hobbies&Interests>ArtsAndCrafts>DrawingAndSketching",
            "relevance": 0.0009777667000889778
           },
           {
            "label": "Technology&Computing>Computing",
            "relevance": 0.0008836644701659679
           }
          ],
          "text": "They go through and see the great work that other people have done, and they get discouraged again. Honestly, I remember feeling this too. What I recommend doing is going through some of the basic notebooks, like the Titanic data set, and just copying the code, running it on your own computer, line by line. Many people think that this is cheating, but it's actually a great way to learn. Even better when you run it, make some changes to the code and see what happens.",
          "timestamp": {
           "end": 566958,
           "start": 545288
          }
         },
         {
          "labels": [
           {
            "label": "Technology&Computing>Computing>ComputerSoftwareAndApplications>DesktopPublishing",
            "relevance": 0.011074704118072987
           },
           {
            "label": "Technology&Computing>Computing>ComputerSoftwareAndApplications>WebConferencing",
            "relevance": 0.004169580992311239
           },
           {
            "label": "FineArt>Design",
            "relevance": 0.003542668418958783
           },
           {
            "label": "Technology&Computing>Computing>Internet>WebDevelopment",
            "relevance": 0.0034428564831614494
           },
           {
            "label": "Technology&Computing>Computing>Internet>WebHosting",
            "relevance": 0.002849199576303363
           },
           {
            "label": "Technology&Computing>Computing>Internet>WebDesignAndHTML",
            "relevance": 0.002007386414334178
           },
           {
            "label": "Education>OnlineEducation",
            "relevance": 0.0019278856925666332
           },
           {
            "label": "Technology&Computing>Computing>Desktops",
            "relevance": 0.0017768245888873935
           },
           {
            "label": "Careers>RemoteWorking",
            "relevance": 0.001696957740932703
           },
           {
            "label": "Technology&Computing>Computing>ComputerSoftwareAndApplications>GraphicsSoftware",
            "relevance": 0.0015383330173790455
           }
          ],
          "text": "Maybe you should try changing, like the colors on a graph from blue to red, or try to make a line thicker on one of the graphs. Just simple things like that help you iterate and improve. So remember when we talked about IDs earlier and I'd mentioned Jupiter's notebook? Kaggle uses something similar to that that lets you work online. This is great and free compute power if you have limited resources at home.",
          "timestamp": {
           "end": 585990,
           "start": 567104
          }
         },
         {
          "labels": [
           {
            "label": "Technology&Computing>Computing>DataStorageAndWarehousing",
            "relevance": 0.29366809129714966
           },
           {
            "label": "Technology&Computing>Computing>ComputerSoftwareAndApplications>Databases",
            "relevance": 0.031690407544374466
           },
           {
            "label": "Technology&Computing>Computing>Internet>CloudComputing",
            "relevance": 0.001205651555210352
           },
           {
            "label": "Technology&Computing>Computing>ProgrammingLanguages",
            "relevance": 0.0007019920740276575
           },
           {
            "label": "Technology&Computing>Computing>ComputerSoftwareAndApplications",
            "relevance": 0.0004278401902411133
           },
           {
            "label": "Technology&Computing>Computing",
            "relevance": 0.00014710654795635492
           },
           {
            "label": "BusinessAndFinance>Business>Sales",
            "relevance": 0.00013260284322313964
           },
           {
            "label": "BusinessAndFinance>Business>BusinessI.T.",
            "relevance": 0.00011548629845492542
           },
           {
            "label": "Technology&Computing>Robotics",
            "relevance": 0.00011094698857050389
           },
           {
            "label": "BusinessAndFinance>Business>Logistics",
            "relevance": 0.00010133931937161833
           }
          ],
          "text": "So if you want to work with data on your laptop or desktop, I recommend downloading Anaconda. Anaconda is a software package that lumps together all of the relevant Python libraries and ideas for data science in one go. So you can check out my video for how to install it, which I've linked above and in the description. Finally, I have three tips to send you on your way. These are probably the most important things that a new coder can learn.",
          "timestamp": {
           "end": 608610,
           "start": 586040
          }
         },
         {
          "labels": [
           {
            "label": "Technology&Computing>Computing>Internet>Search",
            "relevance": 0.0506107360124588
           },
           {
            "label": "Technology&Computing>Computing>DataStorageAndWarehousing",
            "relevance": 0.04672352224588394
           },
           {
            "label": "Technology&Computing>Computing>ComputerSoftwareAndApplications>Databases",
            "relevance": 0.03022051975131035
           },
           {
            "label": "Technology&Computing>Computing>ProgrammingLanguages",
            "relevance": 0.011595996096730232
           },
           {
            "label": "Technology&Computing>Computing>Internet>WebDevelopment",
            "relevance": 0.0036921778228133917
           },
           {
            "label": "Technology&Computing>Computing>ComputerSoftwareAndApplications",
            "relevance": 0.001672725542448461
           },
           {
            "label": "BusinessAndFinance>Business>BusinessI.T.",
            "relevance": 0.0014540336560457945
           },
           {
            "label": "Technology&Computing>Computing",
            "relevance": 0.0013047545216977596
           },
           {
            "label": "Technology&Computing>Computing>Internet>CloudComputing",
            "relevance": 0.0011626906925812364
           },
           {
            "label": "Technology&Computing>Computing>Internet>ITAndInternetSupport",
            "relevance": 0.000979752978309989
           }
          ],
          "text": "So the first one is to use Google and stack overflow. If you have a question, it's almost guaranteed that someone has asked it before on the Internet, getting good at finding answers on your own via search might be the single most important skill of a data scientist or software engineer that they use every single day. The second is to use errors so your code will not run. It will break, and you'll be sad. Don't just wallow in your self pity. Read the error messages.",
          "timestamp": {
           "end": 632050,
           "start": 608660
          }
         },
         {
          "labels": [
           {
            "label": "Technology&Computing>Computing>ProgrammingLanguages",
            "relevance": 0.03310083970427513
           },
           {
            "label": "Technology&Computing>Computing>DataStorageAndWarehousing",
            "relevance": 0.010236410424113274
           },
           {
            "label": "Technology&Computing>Computing>ComputerSoftwareAndApplications>Databases",
            "relevance": 0.002769020153209567
           },
           {
            "label": "Technology&Computing>Computing>Internet>WebDevelopment",
            "relevance": 0.0006400176789611578
           },
           {
            "label": "Technology&Computing>Computing>ComputerSoftwareAndApplications",
            "relevance": 0.0004412453272379935
           },
           {
            "label": "Technology&Computing>Computing",
            "relevance": 0.00039440582622773945
           },
           {
            "label": "BusinessAndFinance>Business>BusinessI.T.",
            "relevance": 0.0002687223022803664
           },
           {
            "label": "Technology&Computing>ArtificialIntelligence",
            "relevance": 0.0002637691795825958
           },
           {
            "label": "Education>EducationalAssessment",
            "relevance": 0.00026086653815582395
           },
           {
            "label": "Education>HomeworkAndStudy",
            "relevance": 0.00022350371000356972
           }
          ],
          "text": "They'll tell you something about what's wrong. Also, Google the errors, and this will save you a lot of time and headache. Finally, the third thing is to take it easy on yourself. The only people that can't code are the ones that never tried or the ones that quit too early. Thank you all so much for watching, and good luck on your data science and coding journey.",
          "timestamp": {
           "end": 647470,
           "start": 632110
          }
         }
        ],
        "status": "success",
        "summary": {
         "BusinessAndFinance>Business>BusinessI.T.": 0.0062935492023825645,
         "Education>EducationalAssessment": 0.0019941881764680147,
         "Education>HomeworkAndStudy": 0.0012111155083402991,
         "Education>OnlineEducation": 0.021426022052764893,
         "FineArt>Design": 0.004620478488504887,
         "Hobbies&Interests>ArtsAndCrafts>Scrapbooking": 0.0021355419885367155,
         "Hobbies&Interests>ContentProduction>FreelanceWriting": 0.0008685922948643565,
         "Sports>Boxing": 0.004139060620218515,
         "Sports>MartialArts": 0.11868251115083694,
         "Technology&Computing>Computing": 0.07513512670993805,
         "Technology&Computing>Computing>ComputerSoftwareAndApplications": 0.08911718428134918,
         "Technology&Computing>Computing>ComputerSoftwareAndApplications>Databases": 0.2964928150177002,
         "Technology&Computing>Computing>ComputerSoftwareAndApplications>DesktopPublishing": 0.07478858530521393,
         "Technology&Computing>Computing>ComputerSoftwareAndApplications>OperatingSystems": 0.00468349177390337,
         "Technology&Computing>Computing>DataStorageAndWarehousing": 0.2801637351512909,
         "Technology&Computing>Computing>Internet>ITAndInternetSupport": 0.0008533254731446505,
         "Technology&Computing>Computing>Internet>Search": 0.003941779490560293,
         "Technology&Computing>Computing>Internet>WebDesignAndHTML": 0.00970423687249422,
         "Technology&Computing>Computing>Internet>WebDevelopment": 0.01837061531841755,
         "Technology&Computing>Computing>ProgrammingLanguages": 1
        }
       },
       "id": "offr564bd1-52c8-49cf-a988-3e3f4a90532f",
       "language_code": "en_us",
       "language_detection": false,
       "language_model": "assemblyai_default",
       "punctuate": true,
       "redact_pii": false,
       "redact_pii_audio": false,
       "redact_pii_audio_quality": null,
       "redact_pii_policies": null,
       "redact_pii_sub": null,
       "sentiment_analysis": true,
       "sentiment_analysis_results": [
        {
         "confidence": 0.9854362607002258,
         "end": 2094,
         "sentiment": "POSITIVE",
         "speaker": null,
         "start": 250,
         "text": "I recently got an amazing opportunity."
        },
        {
         "confidence": 0.5677167177200317,
         "end": 7278,
         "sentiment": "POSITIVE",
         "speaker": null,
         "start": 2252,
         "text": "I've been learning jujitsu, and a friend offered to coach me in exchange for teaching him how to code."
        },
        {
         "confidence": 0.9557937383651733,
         "end": 13290,
         "sentiment": "POSITIVE",
         "speaker": null,
         "start": 7424,
         "text": "At this point in my life where I'm trying to improve my jiu jitsu as quickly as possible, this was an incredible trade for me."
        },
        {
         "confidence": 0.6896097660064697,
         "end": 22698,
         "sentiment": "NEGATIVE",
         "speaker": null,
         "start": 13340,
         "text": "In my personal opinion, I was all for until I had to think about how I'd actually go about teaching someone how to code starting from nothing, I quickly realized that this was going to be a lot harder than I thought."
        },
        {
         "confidence": 0.6135286688804626,
         "end": 26250,
         "sentiment": "NEUTRAL",
         "speaker": null,
         "start": 22844,
         "text": "After all, it's been almost ten years since I wrote my very first line of code."
        },
        {
         "confidence": 0.5590706467628479,
         "end": 27510,
         "sentiment": "NEUTRAL",
         "speaker": null,
         "start": 26300,
         "text": "That's a pretty long time."
        },
        {
         "confidence": 0.7175085544586182,
         "end": 33934,
         "sentiment": "NEUTRAL",
         "speaker": null,
         "start": 27560,
         "text": "Now, this video is about the very specific and detailed plan that I wrote for my friend to teach me the basics of coding for data science."
        },
        {
         "confidence": 0.8073458671569824,
         "end": 37638,
         "sentiment": "NEUTRAL",
         "speaker": null,
         "start": 33982,
         "text": "Since I did all the work for him, I figured I might as well share the details with you as well."
        },
        {
         "confidence": 0.571090042591095,
         "end": 37926,
         "sentiment": "NEUTRAL",
         "speaker": null,
         "start": 37664,
         "text": "Here."
        },
        {
         "confidence": 0.9371036291122437,
         "end": 43426,
         "sentiment": "POSITIVE",
         "speaker": null,
         "start": 37988,
         "text": "There have been plenty of other great videos similar to this about how to start coding, and I've linked many of them in the description."
        },
        {
         "confidence": 0.6514154076576233,
         "end": 51174,
         "sentiment": "POSITIVE",
         "speaker": null,
         "start": 43498,
         "text": "Again, those are great, but I think this is a bit different because it's more focused on coding for data and it uses a very specific real world case study."
        },
        {
         "confidence": 0.6790585517883301,
         "end": 55662,
         "sentiment": "POSITIVE",
         "speaker": null,
         "start": 51332,
         "text": "At the end, I also highlight the three most important things a new programmer should know."
        },
        {
         "confidence": 0.6961215734481812,
         "end": 57666,
         "sentiment": "POSITIVE",
         "speaker": null,
         "start": 55736,
         "text": "So you definitely want to stick around for that."
        },
        {
         "confidence": 0.7321674823760986,
         "end": 60342,
         "sentiment": "NEUTRAL",
         "speaker": null,
         "start": 57728,
         "text": "Let's start with the language that we should start learning."
        },
        {
         "confidence": 0.5769912600517273,
         "end": 63862,
         "sentiment": "POSITIVE",
         "speaker": null,
         "start": 60476,
         "text": "I know if you're working with data, you generally have two good choices."
        },
        {
         "confidence": 0.8370683789253235,
         "end": 65838,
         "sentiment": "NEUTRAL",
         "speaker": null,
         "start": 63946,
         "text": "They would either start with Python or R."
        },
        {
         "confidence": 0.682600200176239,
         "end": 77242,
         "sentiment": "NEUTRAL",
         "speaker": null,
         "start": 65924,
         "text": "Let's quickly compare the two languages data Science Style when looking at the Stack Overflow developer survey, we find that about 48% of respondents use Python, while only about 5% user."
        },
        {
         "confidence": 0.6892269849777222,
         "end": 80290,
         "sentiment": "POSITIVE",
         "speaker": null,
         "start": 77326,
         "text": "In industry, Python is a far more common language."
        },
        {
         "confidence": 0.7762300372123718,
         "end": 86962,
         "sentiment": "NEUTRAL",
         "speaker": null,
         "start": 80410,
         "text": "Let's now look more specifically a data scientist, not just all Stack Overflow users who come from a variety of backgrounds."
        },
        {
         "confidence": 0.8138779997825623,
         "end": 97002,
         "sentiment": "POSITIVE",
         "speaker": null,
         "start": 87046,
         "text": "On Kaggle, my favorite platform for data science learning and projects, we can see that around 84.2% of respondents use Python, while only 25% use R."
        },
        {
         "confidence": 0.777105450630188,
         "end": 102514,
         "sentiment": "NEUTRAL",
         "speaker": null,
         "start": 97136,
         "text": "Since these add up to more than 100%, we can assume that some data scientists are using both languages."
        },
        {
         "confidence": 0.7736465930938721,
         "end": 105246,
         "sentiment": "NEUTRAL",
         "speaker": null,
         "start": 102622,
         "text": "Finally, let's look at these two languages over time."
        },
        {
         "confidence": 0.806574821472168,
         "end": 110002,
         "sentiment": "POSITIVE",
         "speaker": null,
         "start": 105308,
         "text": "We can see here from 2020 to 2021, Python has gained an adoption."
        },
        {
         "confidence": 0.6343181133270264,
         "end": 113590,
         "sentiment": "NEUTRAL",
         "speaker": null,
         "start": 110086,
         "text": "While our usage has seen some attrition, to me, this is a no brainer."
        },
        {
         "confidence": 0.576751172542572,
         "end": 116226,
         "sentiment": "POSITIVE",
         "speaker": null,
         "start": 113650,
         "text": "I recommended my friend to start learning Python first."
        },
        {
         "confidence": 0.8981326222419739,
         "end": 118890,
         "sentiment": "POSITIVE",
         "speaker": null,
         "start": 116348,
         "text": "That language is more popular, and it's continuing to grow."
        },
        {
         "confidence": 0.645785391330719,
         "end": 120354,
         "sentiment": "NEUTRAL",
         "speaker": null,
         "start": 118940,
         "text": "This isn't to say R is bad."
        },
        {
         "confidence": 0.9332534074783325,
         "end": 125946,
         "sentiment": "POSITIVE",
         "speaker": null,
         "start": 120452,
         "text": "It's just to say that I think Python is growing and will be a more valuable skill to have for the job market in general."
        },
        {
         "confidence": 0.7587546706199646,
         "end": 128946,
         "sentiment": "POSITIVE",
         "speaker": null,
         "start": 126008,
         "text": "I also personally find it a bit more intuitive and flexible than our."
        },
        {
         "confidence": 0.860024631023407,
         "end": 132846,
         "sentiment": "NEUTRAL",
         "speaker": null,
         "start": 129008,
         "text": "Now that we've chosen our language as Python, what coding skills should my friend learn first?"
        },
        {
         "confidence": 0.8720144629478455,
         "end": 134554,
         "sentiment": "NEUTRAL",
         "speaker": null,
         "start": 132968,
         "text": "Should he focus on variables?"
        },
        {
         "confidence": 0.7596323490142822,
         "end": 135478,
         "sentiment": "NEUTRAL",
         "speaker": null,
         "start": 134602,
         "text": "Logic functions?"
        },
        {
         "confidence": 0.6886606216430664,
         "end": 136042,
         "sentiment": "NEUTRAL",
         "speaker": null,
         "start": 135514,
         "text": "Algorithms?"
        },
        {
         "confidence": 0.740774393081665,
         "end": 136882,
         "sentiment": "NEUTRAL",
         "speaker": null,
         "start": 136126,
         "text": "Classes?"
        },
        {
         "confidence": 0.5248250961303711,
         "end": 139542,
         "sentiment": "NEUTRAL",
         "speaker": null,
         "start": 137026,
         "text": "My mind was absolutely spinning when I first addressed this."
        },
        {
         "confidence": 0.6716702580451965,
         "end": 145098,
         "sentiment": "NEUTRAL",
         "speaker": null,
         "start": 139616,
         "text": "It took me a second, but I had this weird chaotic flashback to my first days of learning programming myself."
        },
        {
         "confidence": 0.5659180879592896,
         "end": 148254,
         "sentiment": "NEGATIVE",
         "speaker": null,
         "start": 145244,
         "text": "I didn't even know where to start with getting Python on my own computer."
        },
        {
         "confidence": 0.9405953884124756,
         "end": 155766,
         "sentiment": "POSITIVE",
         "speaker": null,
         "start": 148352,
         "text": "I just now got excited about teaching the functional part of programming, and I completely forgot about the basics of setting up your environment for success."
        },
        {
         "confidence": 0.9399697780609131,
         "end": 162318,
         "sentiment": "POSITIVE",
         "speaker": null,
         "start": 155888,
         "text": "The next thing I did was give my friend some of my favorite resources on choosing an environment and getting the right version of Python on his computer."
        },
        {
         "confidence": 0.6098055243492126,
         "end": 163902,
         "sentiment": "NEUTRAL",
         "speaker": null,
         "start": 162404,
         "text": "Honestly, I was a bit torn on this too."
        },
        {
         "confidence": 0.8323457837104797,
         "end": 165846,
         "sentiment": "NEUTRAL",
         "speaker": null,
         "start": 163976,
         "text": "So, for example, what IDE should have used?"
        },
        {
         "confidence": 0.5142828822135925,
         "end": 167550,
         "sentiment": "NEGATIVE",
         "speaker": null,
         "start": 165908,
         "text": "Does he even know what IDE stands for?"
        },
        {
         "confidence": 0.7647459506988525,
         "end": 172366,
         "sentiment": "NEUTRAL",
         "speaker": null,
         "start": 167600,
         "text": "For those who don't know and who are new, ID stands for Integrated Development Environment."
        },
        {
         "confidence": 0.7028552889823914,
         "end": 175698,
         "sentiment": "NEUTRAL",
         "speaker": null,
         "start": 172498,
         "text": "So this is essentially just a text editor you use to write your code."
        },
        {
         "confidence": 0.6894965767860413,
         "end": 178890,
         "sentiment": "NEUTRAL",
         "speaker": null,
         "start": 175784,
         "text": "If you were writing an essay, you could choose to use Microsoft Word."
        },
        {
         "confidence": 0.5341423153877258,
         "end": 183486,
         "sentiment": "NEUTRAL",
         "speaker": null,
         "start": 178940,
         "text": "You could use Google Docs, you could use Notepad, or maybe even just straight up pen and paper."
        },
        {
         "confidence": 0.7911513447761536,
         "end": 186414,
         "sentiment": "NEUTRAL",
         "speaker": null,
         "start": 183548,
         "text": "Just like there are these different mediums for you to write your last minute paper."
        },
        {
         "confidence": 0.789734423160553,
         "end": 189786,
         "sentiment": "NEUTRAL",
         "speaker": null,
         "start": 186512,
         "text": "Data scientists and software engineers need places to write their code."
        },
        {
         "confidence": 0.6798380613327026,
         "end": 191686,
         "sentiment": "NEUTRAL",
         "speaker": null,
         "start": 189908,
         "text": "These places are called IDs."
        },
        {
         "confidence": 0.5279349684715271,
         "end": 200262,
         "sentiment": "NEUTRAL",
         "speaker": null,
         "start": 191758,
         "text": "And just like Microsoft Word has spell track and formatting to make sure that you don't make grammatical errors, many ideas help you to make sure that you have proper syntax in your code."
        },
        {
         "confidence": 0.5907033681869507,
         "end": 207886,
         "sentiment": "NEGATIVE",
         "speaker": null,
         "start": 200336,
         "text": "In theory, technically, Microsoft Word would be considered an idea, but I definitely don't recommend using it as such unless you're jump ate."
        },
        {
         "confidence": 0.8859666585922241,
         "end": 211354,
         "sentiment": "NEUTRAL",
         "speaker": null,
         "start": 207958,
         "text": "This is a list of the most commonly used Ides in the data domain."
        },
        {
         "confidence": 0.7200871109962463,
         "end": 217246,
         "sentiment": "NEUTRAL",
         "speaker": null,
         "start": 211462,
         "text": "And as you can see, common Ides for Python are vs, code, jupyter, notebook, PyCharm, and Spider."
        },
        {
         "confidence": 0.788666307926178,
         "end": 223722,
         "sentiment": "NEUTRAL",
         "speaker": null,
         "start": 217438,
         "text": "Before anything else, I wanted to give him a decent understanding about how the development environments work before we picked one."
        },
        {
         "confidence": 0.799895703792572,
         "end": 227706,
         "sentiment": "NEGATIVE",
         "speaker": null,
         "start": 223796,
         "text": "As I mentioned, this is something that I was totally confused about when I started."
        },
        {
         "confidence": 0.752655565738678,
         "end": 232042,
         "sentiment": "NEUTRAL",
         "speaker": null,
         "start": 227828,
         "text": "When I learned to code, I was using Python and I was using an IDE called Idle."
        },
        {
         "confidence": 0.42863601446151733,
         "end": 239274,
         "sentiment": "NEUTRAL",
         "speaker": null,
         "start": 232126,
         "text": "So Idle is great for learning, but I've literally never once touched it since, and I don't use it on any data projects in any of my work."
        },
        {
         "confidence": 0.8118054866790771,
         "end": 246282,
         "sentiment": "NEUTRAL",
         "speaker": null,
         "start": 239372,
         "text": "I wanted to make sure that my friend was using something that would be representative of what he might see in the real world, what people actually use."
        },
        {
         "confidence": 0.5607037544250488,
         "end": 250978,
         "sentiment": "NEUTRAL",
         "speaker": null,
         "start": 246356,
         "text": "For this specific friend, I recommended that he started learning the basics with this video from Precocamp."
        },
        {
         "confidence": 0.8468848466873169,
         "end": 253474,
         "sentiment": "NEUTRAL",
         "speaker": null,
         "start": 251014,
         "text": "I've linked it and all other resources in the description."
        },
        {
         "confidence": 0.5401339530944824,
         "end": 257370,
         "sentiment": "POSITIVE",
         "speaker": null,
         "start": 253582,
         "text": "So in the video, they show you how to set up the PyCharm environment and get comfortable using that."
        },
        {
         "confidence": 0.92706298828125,
         "end": 263418,
         "sentiment": "POSITIVE",
         "speaker": null,
         "start": 257420,
         "text": "I think PyCharm is solid, and if you get familiar with that, you can easily pick up the SCode, a Jupiter notebook, or Spider pretty quickly."
        },
        {
         "confidence": 0.5262362957000732,
         "end": 266778,
         "sentiment": "NEGATIVE",
         "speaker": null,
         "start": 263504,
         "text": "Truthfully, I don't think that the idea that you start with really matters that much."
        },
        {
         "confidence": 0.5348007082939148,
         "end": 272382,
         "sentiment": "NEUTRAL",
         "speaker": null,
         "start": 266864,
         "text": "What's more important is that you're using one that people who actually write Python code into production are using."
        },
        {
         "confidence": 0.7784150242805481,
         "end": 274762,
         "sentiment": "NEUTRAL",
         "speaker": null,
         "start": 272516,
         "text": "Okay, now on to the coding basics."
        },
        {
         "confidence": 0.9154172539710999,
         "end": 279186,
         "sentiment": "POSITIVE",
         "speaker": null,
         "start": 274906,
         "text": "Surprisingly, I think this might be one of the simplest parts of this entire process."
        },
        {
         "confidence": 0.6738186478614807,
         "end": 283398,
         "sentiment": "NEGATIVE",
         "speaker": null,
         "start": 279368,
         "text": "You see, there's a common misconception that coding is trying to trick you."
        },
        {
         "confidence": 0.7850431799888611,
         "end": 288022,
         "sentiment": "NEGATIVE",
         "speaker": null,
         "start": 283424,
         "text": "There's this conspiracy that learning to code is supposed to be really hard and very scary."
        },
        {
         "confidence": 0.5571187734603882,
         "end": 290458,
         "sentiment": "NEUTRAL",
         "speaker": null,
         "start": 288106,
         "text": "I would argue that it's almost the opposite."
        },
        {
         "confidence": 0.7869985699653625,
         "end": 292486,
         "sentiment": "NEUTRAL",
         "speaker": null,
         "start": 290554,
         "text": "Coding languages, particularly Python."
        },
        {
         "confidence": 0.9124703407287598,
         "end": 296254,
         "sentiment": "POSITIVE",
         "speaker": null,
         "start": 292558,
         "text": "They're designed to be as easy to use as possible while creating good results."
        },
        {
         "confidence": 0.9270672798156738,
         "end": 301906,
         "sentiment": "POSITIVE",
         "speaker": null,
         "start": 296362,
         "text": "So if you change your perspective to look at them as intuitive, coding becomes significantly more fun and stressfree."
        },
        {
         "confidence": 0.6348057985305786,
         "end": 303694,
         "sentiment": "NEUTRAL",
         "speaker": null,
         "start": 301978,
         "text": "This isn't to say that you won't get stuck."
        },
        {
         "confidence": 0.6158425807952881,
         "end": 310470,
         "sentiment": "NEUTRAL",
         "speaker": null,
         "start": 303802,
         "text": "It's just to say that when you do get stuck, there's almost always a logical reason for it and a logical solution to resolve your problems."
        },
        {
         "confidence": 0.693821370601654,
         "end": 315670,
         "sentiment": "NEUTRAL",
         "speaker": null,
         "start": 310580,
         "text": "Keeping with this theme of simplicity, at the most basic level, beginner coding can be broken down into seven concepts."
        },
        {
         "confidence": 0.5070356726646423,
         "end": 321906,
         "sentiment": "POSITIVE",
         "speaker": null,
         "start": 315730,
         "text": "All the resources that I've linked in the description cover these topics, but I'm going to give you a very, very high level overview here."
        },
        {
         "confidence": 0.8381716012954712,
         "end": 323986,
         "sentiment": "NEUTRAL",
         "speaker": null,
         "start": 321968,
         "text": "The first one we start with is data types."
        },
        {
         "confidence": 0.6314433813095093,
         "end": 330478,
         "sentiment": "NEUTRAL",
         "speaker": null,
         "start": 324058,
         "text": "So in Python, you can work with numbers, you can work with text, you can work with Booleans, you can work with lists or a host of different data structures."
        },
        {
         "confidence": 0.6039033532142639,
         "end": 334422,
         "sentiment": "NEUTRAL",
         "speaker": null,
         "start": 330574,
         "text": "It's important to get a good understanding or a fundamental understanding of these first."
        },
        {
         "confidence": 0.7693310976028442,
         "end": 337434,
         "sentiment": "NEUTRAL",
         "speaker": null,
         "start": 334496,
         "text": "Next, I think it makes sense to get familiar with how variables work."
        },
        {
         "confidence": 0.8078016638755798,
         "end": 347154,
         "sentiment": "NEUTRAL",
         "speaker": null,
         "start": 337532,
         "text": "This can vary by language, so you need to make sure you know how to assign and change variables in Python, specifically, after variables, you should look into how logical operators work."
        },
        {
         "confidence": 0.9675305485725403,
         "end": 349390,
         "sentiment": "POSITIVE",
         "speaker": null,
         "start": 347192,
         "text": "These are very handy in your first few projects."
        },
        {
         "confidence": 0.7271006107330322,
         "end": 351846,
         "sentiment": "POSITIVE",
         "speaker": null,
         "start": 349450,
         "text": "If held, statements are probably the most important one."
        },
        {
         "confidence": 0.6104244589805603,
         "end": 356178,
         "sentiment": "POSITIVE",
         "speaker": null,
         "start": 351908,
         "text": "But you can definitely find use cases for the others, especially if you're working with data."
        },
        {
         "confidence": 0.7248570322990417,
         "end": 358938,
         "sentiment": "NEUTRAL",
         "speaker": null,
         "start": 356264,
         "text": "The fourth thing you need to understand is how loops work."
        },
        {
         "confidence": 0.8661454916000366,
         "end": 364098,
         "sentiment": "POSITIVE",
         "speaker": null,
         "start": 359024,
         "text": "So one thing computers are really great at is doing a simple task over and over again."
        },
        {
         "confidence": 0.9045030474662781,
         "end": 368310,
         "sentiment": "POSITIVE",
         "speaker": null,
         "start": 364244,
         "text": "You'd be surprised at how useful these can be for your programming future."
        },
        {
         "confidence": 0.8589364886283875,
         "end": 370378,
         "sentiment": "NEUTRAL",
         "speaker": null,
         "start": 368420,
         "text": "After that, you should learn about functions."
        },
        {
         "confidence": 0.6612256765365601,
         "end": 374818,
         "sentiment": "NEUTRAL",
         "speaker": null,
         "start": 370474,
         "text": "So this sets the foundation for almost everything you do on your programming journey."
        },
        {
         "confidence": 0.6240290999412537,
         "end": 377562,
         "sentiment": "POSITIVE",
         "speaker": null,
         "start": 374914,
         "text": "Functions allow you to encapsulate code and reuse it."
        },
        {
         "confidence": 0.8003348708152771,
         "end": 384190,
         "sentiment": "POSITIVE",
         "speaker": null,
         "start": 377696,
         "text": "If you really think about it, good coding is about making as many reusable bits as possible, and these functions are where that really begins."
        },
        {
         "confidence": 0.8900540471076965,
         "end": 387694,
         "sentiment": "POSITIVE",
         "speaker": null,
         "start": 384250,
         "text": "At this point, you have a pretty good understanding of the key building blocks of Python."
        },
        {
         "confidence": 0.8500798940658569,
         "end": 391470,
         "sentiment": "NEUTRAL",
         "speaker": null,
         "start": 387802,
         "text": "You should now learn a bit more about how some of the basic data structures work."
        },
        {
         "confidence": 0.5440900921821594,
         "end": 395014,
         "sentiment": "POSITIVE",
         "speaker": null,
         "start": 391520,
         "text": "I recommend taking a deeper dive into Lists, Dictionaries, as well as Tuples."
        },
        {
         "confidence": 0.5031412243843079,
         "end": 397782,
         "sentiment": "NEUTRAL",
         "speaker": null,
         "start": 395062,
         "text": "This will set the foundation for much of your data work later on."
        },
        {
         "confidence": 0.5282405614852905,
         "end": 400402,
         "sentiment": "NEUTRAL",
         "speaker": null,
         "start": 397916,
         "text": "Finally, you should start learning to work with libraries."
        },
        {
         "confidence": 0.8538879752159119,
         "end": 408762,
         "sentiment": "POSITIVE",
         "speaker": null,
         "start": 400486,
         "text": "So the most important ones for data are Pandas, NumPy, ScikitLearn, and Matplotlib, and these give you additional tools to analyze, visualize and manipulate data."
        },
        {
         "confidence": 0.837847113609314,
         "end": 412930,
         "sentiment": "NEUTRAL",
         "speaker": null,
         "start": 408836,
         "text": "Pandas and Numpire also introduced some new data structures, like arrays, series, and data frames."
        },
        {
         "confidence": 0.6371472477912903,
         "end": 418758,
         "sentiment": "POSITIVE",
         "speaker": null,
         "start": 412990,
         "text": "So if you have an understanding of how the more basic data structures work in Python, you should be able to pick these up relatively quickly."
        },
        {
         "confidence": 0.5477844476699829,
         "end": 419526,
         "sentiment": "NEUTRAL",
         "speaker": null,
         "start": 418844,
         "text": "And that's it."
        },
        {
         "confidence": 0.8271486759185791,
         "end": 424182,
         "sentiment": "NEUTRAL",
         "speaker": null,
         "start": 419588,
         "text": "With those seven things, you have the basics of coding that you'll need for starting to work with data."
        },
        {
         "confidence": 0.47931233048439026,
         "end": 428106,
         "sentiment": "NEGATIVE",
         "speaker": null,
         "start": 424256,
         "text": "If you're watching this and you're a software engineer, you probably think I left something important out."
        },
        {
         "confidence": 0.513831615447998,
         "end": 431710,
         "sentiment": "NEUTRAL",
         "speaker": null,
         "start": 428168,
         "text": "What I've purposely omitted from this list is an explanation of classes."
        },
        {
         "confidence": 0.7762998938560486,
         "end": 441226,
         "sentiment": "NEUTRAL",
         "speaker": null,
         "start": 431770,
         "text": "So classes are the foundation of object oriented programming, and object oriented programming is a programming model that organizes code around objects rather than functions or logic."
        },
        {
         "confidence": 0.4150903820991516,
         "end": 447462,
         "sentiment": "NEUTRAL",
         "speaker": null,
         "start": 441358,
         "text": "Object oriented programming is incredibly powerful, but honestly, it isn't very relevant for the beginner stages of working with data."
        },
        {
         "confidence": 0.713316798210144,
         "end": 452134,
         "sentiment": "POSITIVE",
         "speaker": null,
         "start": 447536,
         "text": "It is something you should absolutely explore on your own after you've learned these other concepts."
        },
        {
         "confidence": 0.9386650323867798,
         "end": 459858,
         "sentiment": "POSITIVE",
         "speaker": null,
         "start": 452182,
         "text": "Well, in the description, I've linked a few great resources for learning all of the concepts, including the exact one from Free Code Camp that I gave my friend."
        },
        {
         "confidence": 0.72319495677948,
         "end": 465418,
         "sentiment": "POSITIVE",
         "speaker": null,
         "start": 459944,
         "text": "Most of them are completely free, but I have also included my discount link for the course on 365 Data Science."
        },
        {
         "confidence": 0.7685678601264954,
         "end": 472770,
         "sentiment": "POSITIVE",
         "speaker": null,
         "start": 465514,
         "text": "So if you're looking for a resource just to take you past the more basic coding and more towards tangible data science skills, I would recommend checking that out."
        },
        {
         "confidence": 0.9802240133285522,
         "end": 478738,
         "sentiment": "POSITIVE",
         "speaker": null,
         "start": 472820,
         "text": "One thing that I love about many of the courses that I've linked is that they have these little mini projects baked into the coursework."
        },
        {
         "confidence": 0.9252229332923889,
         "end": 483358,
         "sentiment": "POSITIVE",
         "speaker": null,
         "start": 478834,
         "text": "I think project based learning is the single most effective way to learn technical concepts."
        },
        {
         "confidence": 0.8167121410369873,
         "end": 491742,
         "sentiment": "POSITIVE",
         "speaker": null,
         "start": 483454,
         "text": "After first getting a basic foundation, I highly encourage you to think about how you can use code to build things that would be useful to you."
        },
        {
         "confidence": 0.5978508591651917,
         "end": 497554,
         "sentiment": "NEUTRAL",
         "speaker": null,
         "start": 491816,
         "text": "So for my friend, the first project I'm having him do is create a jujitsu drill randomizer using Python."
        },
        {
         "confidence": 0.7015912532806396,
         "end": 500446,
         "sentiment": "NEUTRAL",
         "speaker": null,
         "start": 497662,
         "text": "So for training anything, it's important to reinforce your skills."
        },
        {
         "confidence": 0.9038236737251282,
         "end": 503610,
         "sentiment": "NEGATIVE",
         "speaker": null,
         "start": 500518,
         "text": "But it can get boring working on the same basic drills every day."
        },
        {
         "confidence": 0.8908714652061462,
         "end": 510618,
         "sentiment": "NEUTRAL",
         "speaker": null,
         "start": 503660,
         "text": "I'm having to make a program that essentially randomly selects two to three drills that we should work on during our sessions from a larger list."
        },
        {
         "confidence": 0.9276151061058044,
         "end": 515586,
         "sentiment": "POSITIVE",
         "speaker": null,
         "start": 510704,
         "text": "This is a simple project, but it's something that's directly relevant and useful to our work and our jujitsu training."
        },
        {
         "confidence": 0.8127702474594116,
         "end": 521854,
         "sentiment": "POSITIVE",
         "speaker": null,
         "start": 515648,
         "text": "With that in mind, I'd love for you to comment below with a Python project that you'd like to do, and we'll all hold each other accountable."
        },
        {
         "confidence": 0.7123859524726868,
         "end": 522378,
         "sentiment": "NEUTRAL",
         "speaker": null,
         "start": 521962,
         "text": "Okay?"
        },
        {
         "confidence": 0.7456001043319702,
         "end": 525162,
         "sentiment": "NEUTRAL",
         "speaker": null,
         "start": 522464,
         "text": "So now that you've learned the basics of Python, now what?"
        },
        {
         "confidence": 0.8782829642295837,
         "end": 530358,
         "sentiment": "POSITIVE",
         "speaker": null,
         "start": 525296,
         "text": "If you're interested in learning more about data, I highly recommend that you do a datarelated project."
        },
        {
         "confidence": 0.9193375110626221,
         "end": 534210,
         "sentiment": "POSITIVE",
         "speaker": null,
         "start": 530504,
         "text": "The single best place for this is Kaggle.com, which I've mentioned before."
        },
        {
         "confidence": 0.7000814080238342,
         "end": 542010,
         "sentiment": "NEUTRAL",
         "speaker": null,
         "start": 534380,
         "text": "If that's a bit too intimidating, you can follow along on one of the projects that I've done or one of the thousands of projects that other people have worked on on the Kaggle platform."
        },
        {
         "confidence": 0.6217605471611023,
         "end": 545166,
         "sentiment": "NEGATIVE",
         "speaker": null,
         "start": 542120,
         "text": "Realistically, many people lose steam at this step."
        },
        {
         "confidence": 0.4682561755180359,
         "end": 549150,
         "sentiment": "NEUTRAL",
         "speaker": null,
         "start": 545288,
         "text": "They go through and see the great work that other people have done, and they get discouraged again."
        },
        {
         "confidence": 0.7410768866539001,
         "end": 550890,
         "sentiment": "NEUTRAL",
         "speaker": null,
         "start": 549200,
         "text": "Honestly, I remember feeling this too."
        },
        {
         "confidence": 0.681861162185669,
         "end": 559398,
         "sentiment": "NEUTRAL",
         "speaker": null,
         "start": 550940,
         "text": "What I recommend doing is going through some of the basic notebooks, like the Titanic data set, and just copying the code, running it on your own computer, line by line."
        },
        {
         "confidence": 0.5282831192016602,
         "end": 563202,
         "sentiment": "POSITIVE",
         "speaker": null,
         "start": 559544,
         "text": "Many people think that this is cheating, but it's actually a great way to learn."
        },
        {
         "confidence": 0.7531724572181702,
         "end": 566958,
         "sentiment": "POSITIVE",
         "speaker": null,
         "start": 563276,
         "text": "Even better when you run it, make some changes to the code and see what happens."
        },
        {
         "confidence": 0.8702700734138489,
         "end": 573514,
         "sentiment": "NEUTRAL",
         "speaker": null,
         "start": 567104,
         "text": "Maybe you should try changing, like the colors on a graph from blue to red, or try to make a line thicker on one of the graphs."
        },
        {
         "confidence": 0.8813362717628479,
         "end": 575974,
         "sentiment": "POSITIVE",
         "speaker": null,
         "start": 573562,
         "text": "Just simple things like that help you iterate and improve."
        },
        {
         "confidence": 0.8734732270240784,
         "end": 579430,
         "sentiment": "NEUTRAL",
         "speaker": null,
         "start": 576022,
         "text": "So remember when we talked about IDs earlier and I'd mentioned Jupiter's notebook?"
        },
        {
         "confidence": 0.747973620891571,
         "end": 582474,
         "sentiment": "NEUTRAL",
         "speaker": null,
         "start": 579490,
         "text": "Kaggle uses something similar to that that lets you work online."
        },
        {
         "confidence": 0.9385425448417664,
         "end": 585990,
         "sentiment": "POSITIVE",
         "speaker": null,
         "start": 582572,
         "text": "This is great and free compute power if you have limited resources at home."
        },
        {
         "confidence": 0.5073233246803284,
         "end": 590674,
         "sentiment": "NEUTRAL",
         "speaker": null,
         "start": 586040,
         "text": "So if you want to work with data on your laptop or desktop, I recommend downloading Anaconda."
        },
        {
         "confidence": 0.5262939929962158,
         "end": 597690,
         "sentiment": "NEUTRAL",
         "speaker": null,
         "start": 590722,
         "text": "Anaconda is a software package that lumps together all of the relevant Python libraries and ideas for data science in one go."
        },
        {
         "confidence": 0.8528739213943481,
         "end": 602134,
         "sentiment": "NEUTRAL",
         "speaker": null,
         "start": 597800,
         "text": "So you can check out my video for how to install it, which I've linked above and in the description."
        },
        {
         "confidence": 0.603242814540863,
         "end": 604782,
         "sentiment": "NEUTRAL",
         "speaker": null,
         "start": 602242,
         "text": "Finally, I have three tips to send you on your way."
        },
        {
         "confidence": 0.9413374066352844,
         "end": 608610,
         "sentiment": "POSITIVE",
         "speaker": null,
         "start": 604856,
         "text": "These are probably the most important things that a new coder can learn."
        },
        {
         "confidence": 0.8287224769592285,
         "end": 611350,
         "sentiment": "NEUTRAL",
         "speaker": null,
         "start": 608660,
         "text": "So the first one is to use Google and stack overflow."
        },
        {
         "confidence": 0.6186635494232178,
         "end": 624906,
         "sentiment": "POSITIVE",
         "speaker": null,
         "start": 611470,
         "text": "If you have a question, it's almost guaranteed that someone has asked it before on the Internet, getting good at finding answers on your own via search might be the single most important skill of a data scientist or software engineer that they use every single day."
        },
        {
         "confidence": 0.7637071013450623,
         "end": 627426,
         "sentiment": "NEGATIVE",
         "speaker": null,
         "start": 624968,
         "text": "The second is to use errors so your code will not run."
        },
        {
         "confidence": 0.8506230711936951,
         "end": 629158,
         "sentiment": "NEGATIVE",
         "speaker": null,
         "start": 627488,
         "text": "It will break, and you'll be sad."
        },
        {
         "confidence": 0.8747800588607788,
         "end": 630838,
         "sentiment": "NEGATIVE",
         "speaker": null,
         "start": 629314,
         "text": "Don't just wallow in your self pity."
        },
        {
         "confidence": 0.4900802671909332,
         "end": 632050,
         "sentiment": "NEGATIVE",
         "speaker": null,
         "start": 630934,
         "text": "Read the error messages."
        },
        {
         "confidence": 0.4985716640949249,
         "end": 633834,
         "sentiment": "NEUTRAL",
         "speaker": null,
         "start": 632110,
         "text": "They'll tell you something about what's wrong."
        },
        {
         "confidence": 0.5685086846351624,
         "end": 637054,
         "sentiment": "POSITIVE",
         "speaker": null,
         "start": 633932,
         "text": "Also, Google the errors, and this will save you a lot of time and headache."
        },
        {
         "confidence": 0.5236702561378479,
         "end": 639402,
         "sentiment": "NEUTRAL",
         "speaker": null,
         "start": 637102,
         "text": "Finally, the third thing is to take it easy on yourself."
        },
        {
         "confidence": 0.9113683700561523,
         "end": 643746,
         "sentiment": "NEGATIVE",
         "speaker": null,
         "start": 639536,
         "text": "The only people that can't code are the ones that never tried or the ones that quit too early."
        },
        {
         "confidence": 0.9869617223739624,
         "end": 647470,
         "sentiment": "POSITIVE",
         "speaker": null,
         "start": 643928,
         "text": "Thank you all so much for watching, and good luck on your data science and coding journey."
        }
       ],
       "speaker_labels": false,
       "speed_boost": false,
       "status": "completed",
       "text": "I recently got an amazing opportunity. I've been learning jujitsu, and a friend offered to coach me in exchange for teaching him how to code. At this point in my life where I'm trying to improve my jiu jitsu as quickly as possible, this was an incredible trade for me. In my personal opinion, I was all for until I had to think about how I'd actually go about teaching someone how to code starting from nothing, I quickly realized that this was going to be a lot harder than I thought. After all, it's been almost ten years since I wrote my very first line of code. That's a pretty long time. Now, this video is about the very specific and detailed plan that I wrote for my friend to teach me the basics of coding for data science. Since I did all the work for him, I figured I might as well share the details with you as well. Here. There have been plenty of other great videos similar to this about how to start coding, and I've linked many of them in the description. Again, those are great, but I think this is a bit different because it's more focused on coding for data and it uses a very specific real world case study. At the end, I also highlight the three most important things a new programmer should know. So you definitely want to stick around for that. Let's start with the language that we should start learning. I know if you're working with data, you generally have two good choices. They would either start with Python or R. Let's quickly compare the two languages data Science Style when looking at the Stack Overflow developer survey, we find that about 48% of respondents use Python, while only about 5% user. In industry, Python is a far more common language. Let's now look more specifically a data scientist, not just all Stack Overflow users who come from a variety of backgrounds. On Kaggle, my favorite platform for data science learning and projects, we can see that around 84.2% of respondents use Python, while only 25% use R. Since these add up to more than 100%, we can assume that some data scientists are using both languages. Finally, let's look at these two languages over time. We can see here from 2020 to 2021, Python has gained an adoption. While our usage has seen some attrition, to me, this is a no brainer. I recommended my friend to start learning Python first. That language is more popular, and it's continuing to grow. This isn't to say R is bad. It's just to say that I think Python is growing and will be a more valuable skill to have for the job market in general. I also personally find it a bit more intuitive and flexible than our. Now that we've chosen our language as Python, what coding skills should my friend learn first? Should he focus on variables? Logic functions? Algorithms? Classes? My mind was absolutely spinning when I first addressed this. It took me a second, but I had this weird chaotic flashback to my first days of learning programming myself. I didn't even know where to start with getting Python on my own computer. I just now got excited about teaching the functional part of programming, and I completely forgot about the basics of setting up your environment for success. The next thing I did was give my friend some of my favorite resources on choosing an environment and getting the right version of Python on his computer. Honestly, I was a bit torn on this too. So, for example, what IDE should have used? Does he even know what IDE stands for? For those who don't know and who are new, ID stands for Integrated Development Environment. So this is essentially just a text editor you use to write your code. If you were writing an essay, you could choose to use Microsoft Word. You could use Google Docs, you could use Notepad, or maybe even just straight up pen and paper. Just like there are these different mediums for you to write your last minute paper. Data scientists and software engineers need places to write their code. These places are called IDs. And just like Microsoft Word has spell track and formatting to make sure that you don't make grammatical errors, many ideas help you to make sure that you have proper syntax in your code. In theory, technically, Microsoft Word would be considered an idea, but I definitely don't recommend using it as such unless you're jump ate. This is a list of the most commonly used Ides in the data domain. And as you can see, common Ides for Python are vs, code, jupyter, notebook, PyCharm, and Spider. Before anything else, I wanted to give him a decent understanding about how the development environments work before we picked one. As I mentioned, this is something that I was totally confused about when I started. When I learned to code, I was using Python and I was using an IDE called Idle. So Idle is great for learning, but I've literally never once touched it since, and I don't use it on any data projects in any of my work. I wanted to make sure that my friend was using something that would be representative of what he might see in the real world, what people actually use. For this specific friend, I recommended that he started learning the basics with this video from Precocamp. I've linked it and all other resources in the description. So in the video, they show you how to set up the PyCharm environment and get comfortable using that. I think PyCharm is solid, and if you get familiar with that, you can easily pick up the SCode, a Jupiter notebook, or Spider pretty quickly. Truthfully, I don't think that the idea that you start with really matters that much. What's more important is that you're using one that people who actually write Python code into production are using. Okay, now on to the coding basics. Surprisingly, I think this might be one of the simplest parts of this entire process. You see, there's a common misconception that coding is trying to trick you. There's this conspiracy that learning to code is supposed to be really hard and very scary. I would argue that it's almost the opposite. Coding languages, particularly Python. They're designed to be as easy to use as possible while creating good results. So if you change your perspective to look at them as intuitive, coding becomes significantly more fun and stressfree. This isn't to say that you won't get stuck. It's just to say that when you do get stuck, there's almost always a logical reason for it and a logical solution to resolve your problems. Keeping with this theme of simplicity, at the most basic level, beginner coding can be broken down into seven concepts. All the resources that I've linked in the description cover these topics, but I'm going to give you a very, very high level overview here. The first one we start with is data types. So in Python, you can work with numbers, you can work with text, you can work with Booleans, you can work with lists or a host of different data structures. It's important to get a good understanding or a fundamental understanding of these first. Next, I think it makes sense to get familiar with how variables work. This can vary by language, so you need to make sure you know how to assign and change variables in Python, specifically, after variables, you should look into how logical operators work. These are very handy in your first few projects. If held, statements are probably the most important one. But you can definitely find use cases for the others, especially if you're working with data. The fourth thing you need to understand is how loops work. So one thing computers are really great at is doing a simple task over and over again. You'd be surprised at how useful these can be for your programming future. After that, you should learn about functions. So this sets the foundation for almost everything you do on your programming journey. Functions allow you to encapsulate code and reuse it. If you really think about it, good coding is about making as many reusable bits as possible, and these functions are where that really begins. At this point, you have a pretty good understanding of the key building blocks of Python. You should now learn a bit more about how some of the basic data structures work. I recommend taking a deeper dive into Lists, Dictionaries, as well as Tuples. This will set the foundation for much of your data work later on. Finally, you should start learning to work with libraries. So the most important ones for data are Pandas, NumPy, ScikitLearn, and Matplotlib, and these give you additional tools to analyze, visualize and manipulate data. Pandas and Numpire also introduced some new data structures, like arrays, series, and data frames. So if you have an understanding of how the more basic data structures work in Python, you should be able to pick these up relatively quickly. And that's it. With those seven things, you have the basics of coding that you'll need for starting to work with data. If you're watching this and you're a software engineer, you probably think I left something important out. What I've purposely omitted from this list is an explanation of classes. So classes are the foundation of object oriented programming, and object oriented programming is a programming model that organizes code around objects rather than functions or logic. Object oriented programming is incredibly powerful, but honestly, it isn't very relevant for the beginner stages of working with data. It is something you should absolutely explore on your own after you've learned these other concepts. Well, in the description, I've linked a few great resources for learning all of the concepts, including the exact one from Free Code Camp that I gave my friend. Most of them are completely free, but I have also included my discount link for the course on 365 Data Science. So if you're looking for a resource just to take you past the more basic coding and more towards tangible data science skills, I would recommend checking that out. One thing that I love about many of the courses that I've linked is that they have these little mini projects baked into the coursework. I think project based learning is the single most effective way to learn technical concepts. After first getting a basic foundation, I highly encourage you to think about how you can use code to build things that would be useful to you. So for my friend, the first project I'm having him do is create a jujitsu drill randomizer using Python. So for training anything, it's important to reinforce your skills. But it can get boring working on the same basic drills every day. I'm having to make a program that essentially randomly selects two to three drills that we should work on during our sessions from a larger list. This is a simple project, but it's something that's directly relevant and useful to our work and our jujitsu training. With that in mind, I'd love for you to comment below with a Python project that you'd like to do, and we'll all hold each other accountable. Okay? So now that you've learned the basics of Python, now what? If you're interested in learning more about data, I highly recommend that you do a datarelated project. The single best place for this is Kaggle.com, which I've mentioned before. If that's a bit too intimidating, you can follow along on one of the projects that I've done or one of the thousands of projects that other people have worked on on the Kaggle platform. Realistically, many people lose steam at this step. They go through and see the great work that other people have done, and they get discouraged again. Honestly, I remember feeling this too. What I recommend doing is going through some of the basic notebooks, like the Titanic data set, and just copying the code, running it on your own computer, line by line. Many people think that this is cheating, but it's actually a great way to learn. Even better when you run it, make some changes to the code and see what happens. Maybe you should try changing, like the colors on a graph from blue to red, or try to make a line thicker on one of the graphs. Just simple things like that help you iterate and improve. So remember when we talked about IDs earlier and I'd mentioned Jupiter's notebook? Kaggle uses something similar to that that lets you work online. This is great and free compute power if you have limited resources at home. So if you want to work with data on your laptop or desktop, I recommend downloading Anaconda. Anaconda is a software package that lumps together all of the relevant Python libraries and ideas for data science in one go. So you can check out my video for how to install it, which I've linked above and in the description. Finally, I have three tips to send you on your way. These are probably the most important things that a new coder can learn. So the first one is to use Google and stack overflow. If you have a question, it's almost guaranteed that someone has asked it before on the Internet, getting good at finding answers on your own via search might be the single most important skill of a data scientist or software engineer that they use every single day. The second is to use errors so your code will not run. It will break, and you'll be sad. Don't just wallow in your self pity. Read the error messages. They'll tell you something about what's wrong. Also, Google the errors, and this will save you a lot of time and headache. Finally, the third thing is to take it easy on yourself. The only people that can't code are the ones that never tried or the ones that quit too early. Thank you all so much for watching, and good luck on your data science and coding journey.",
       "utterances": null,
       "webhook_auth": false,
       "webhook_auth_header_name": null,
       "webhook_status_code": null,
       "webhook_url": null,
       "word_boost": [],
       "words": [
        {
         "confidence": 0.91,
         "end": 342,
         "speaker": null,
         "start": 250,
         "text": "I"
        },
        {
         "confidence": 0.50517,
         "end": 658,
         "speaker": null,
         "start": 356,
         "text": "recently"
        },
        {
         "confidence": 0.52472,
         "end": 894,
         "speaker": null,
         "start": 694,
         "text": "got"
        },
        {
         "confidence": 0.99856,
         "end": 1098,
         "speaker": null,
         "start": 932,
         "text": "an"
        },
        {
         "confidence": 0.99994,
         "end": 1422,
         "speaker": null,
         "start": 1124,
         "text": "amazing"
        },
        {
         "confidence": 0.99965,
         "end": 2094,
         "speaker": null,
         "start": 1496,
         "text": "opportunity."
        },
        {
         "confidence": 0.63517,
         "end": 2542,
         "speaker": null,
         "start": 2252,
         "text": "I've"
        },
        {
         "confidence": 0.99851,
         "end": 2682,
         "speaker": null,
         "start": 2566,
         "text": "been"
        },
        {
         "confidence": 0.99871,
         "end": 2874,
         "speaker": null,
         "start": 2696,
         "text": "learning"
        },
        {
         "confidence": 0.36111,
         "end": 3490,
         "speaker": null,
         "start": 2912,
         "text": "jujitsu,"
        },
        {
         "confidence": 1,
         "end": 3738,
         "speaker": null,
         "start": 3550,
         "text": "and"
        },
        {
         "confidence": 0.51,
         "end": 3918,
         "speaker": null,
         "start": 3764,
         "text": "a"
        },
        {
         "confidence": 0.99985,
         "end": 4134,
         "speaker": null,
         "start": 3944,
         "text": "friend"
        },
        {
         "confidence": 0.95497,
         "end": 4462,
         "speaker": null,
         "start": 4172,
         "text": "offered"
        },
        {
         "confidence": 0.58,
         "end": 4566,
         "speaker": null,
         "start": 4486,
         "text": "to"
        },
        {
         "confidence": 0.56127,
         "end": 4798,
         "speaker": null,
         "start": 4568,
         "text": "coach"
        },
        {
         "confidence": 0.99791,
         "end": 5106,
         "speaker": null,
         "start": 4834,
         "text": "me"
        },
        {
         "confidence": 0.51756,
         "end": 5358,
         "speaker": null,
         "start": 5168,
         "text": "in"
        },
        {
         "confidence": 0.92816,
         "end": 5734,
         "speaker": null,
         "start": 5384,
         "text": "exchange"
        },
        {
         "confidence": 0.97,
         "end": 5958,
         "speaker": null,
         "start": 5782,
         "text": "for"
        },
        {
         "confidence": 0.99923,
         "end": 6262,
         "speaker": null,
         "start": 5984,
         "text": "teaching"
        },
        {
         "confidence": 0.99004,
         "end": 6474,
         "speaker": null,
         "start": 6286,
         "text": "him"
        },
        {
         "confidence": 0.99735,
         "end": 6606,
         "speaker": null,
         "start": 6512,
         "text": "how"
        },
        {
         "confidence": 0.98,
         "end": 6738,
         "speaker": null,
         "start": 6608,
         "text": "to"
        },
        {
         "confidence": 0.98621,
         "end": 7278,
         "speaker": null,
         "start": 6764,
         "text": "code."
        },
        {
         "confidence": 0.52,
         "end": 7698,
         "speaker": null,
         "start": 7424,
         "text": "At"
        },
        {
         "confidence": 0.99865,
         "end": 7842,
         "speaker": null,
         "start": 7724,
         "text": "this"
        },
        {
         "confidence": 1,
         "end": 7962,
         "speaker": null,
         "start": 7856,
         "text": "point"
        },
        {
         "confidence": 0.75468,
         "end": 8082,
         "speaker": null,
         "start": 7976,
         "text": "in"
        },
        {
         "confidence": 0.98862,
         "end": 8202,
         "speaker": null,
         "start": 8096,
         "text": "my"
        },
        {
         "confidence": 0.99976,
         "end": 8430,
         "speaker": null,
         "start": 8216,
         "text": "life"
        },
        {
         "confidence": 0.97414,
         "end": 8622,
         "speaker": null,
         "start": 8480,
         "text": "where"
        },
        {
         "confidence": 0.68835,
         "end": 8782,
         "speaker": null,
         "start": 8636,
         "text": "I'm"
        },
        {
         "confidence": 0.99065,
         "end": 8922,
         "speaker": null,
         "start": 8806,
         "text": "trying"
        },
        {
         "confidence": 0.99,
         "end": 9042,
         "speaker": null,
         "start": 8936,
         "text": "to"
        },
        {
         "confidence": 0.99839,
         "end": 9322,
         "speaker": null,
         "start": 9056,
         "text": "improve"
        },
        {
         "confidence": 0.99857,
         "end": 9462,
         "speaker": null,
         "start": 9346,
         "text": "my"
        },
        {
         "confidence": 0.42008,
         "end": 9646,
         "speaker": null,
         "start": 9476,
         "text": "jiu"
        },
        {
         "confidence": 0.71025,
         "end": 10018,
         "speaker": null,
         "start": 9658,
         "text": "jitsu"
        },
        {
         "confidence": 0.99668,
         "end": 10254,
         "speaker": null,
         "start": 10054,
         "text": "as"
        },
        {
         "confidence": 0.99933,
         "end": 10530,
         "speaker": null,
         "start": 10292,
         "text": "quickly"
        },
        {
         "confidence": 0.99862,
         "end": 10722,
         "speaker": null,
         "start": 10580,
         "text": "as"
        },
        {
         "confidence": 0.99992,
         "end": 11238,
         "speaker": null,
         "start": 10736,
         "text": "possible,"
        },
        {
         "confidence": 0.99869,
         "end": 11694,
         "speaker": null,
         "start": 11384,
         "text": "this"
        },
        {
         "confidence": 0.99662,
         "end": 11934,
         "speaker": null,
         "start": 11732,
         "text": "was"
        },
        {
         "confidence": 0.99662,
         "end": 12138,
         "speaker": null,
         "start": 11972,
         "text": "an"
        },
        {
         "confidence": 0.99969,
         "end": 12634,
         "speaker": null,
         "start": 12164,
         "text": "incredible"
        },
        {
         "confidence": 0.98318,
         "end": 12922,
         "speaker": null,
         "start": 12682,
         "text": "trade"
        },
        {
         "confidence": 1,
         "end": 13062,
         "speaker": null,
         "start": 12946,
         "text": "for"
        },
        {
         "confidence": 0.99799,
         "end": 13290,
         "speaker": null,
         "start": 13076,
         "text": "me."
        },
        {
         "confidence": 0.9905,
         "end": 13482,
         "speaker": null,
         "start": 13340,
         "text": "In"
        },
        {
         "confidence": 0.99918,
         "end": 13602,
         "speaker": null,
         "start": 13496,
         "text": "my"
        },
        {
         "confidence": 0.99654,
         "end": 13866,
         "speaker": null,
         "start": 13616,
         "text": "personal"
        },
        {
         "confidence": 0.99879,
         "end": 14290,
         "speaker": null,
         "start": 13928,
         "text": "opinion,"
        },
        {
         "confidence": 0.86,
         "end": 14502,
         "speaker": null,
         "start": 14350,
         "text": "I"
        },
        {
         "confidence": 0.99883,
         "end": 14622,
         "speaker": null,
         "start": 14516,
         "text": "was"
        },
        {
         "confidence": 0.9907,
         "end": 14742,
         "speaker": null,
         "start": 14636,
         "text": "all"
        },
        {
         "confidence": 0.91,
         "end": 15042,
         "speaker": null,
         "start": 14756,
         "text": "for"
        },
        {
         "confidence": 0.73999,
         "end": 15354,
         "speaker": null,
         "start": 15116,
         "text": "until"
        },
        {
         "confidence": 1,
         "end": 15522,
         "speaker": null,
         "start": 15392,
         "text": "I"
        },
        {
         "confidence": 0.99516,
         "end": 15642,
         "speaker": null,
         "start": 15536,
         "text": "had"
        },
        {
         "confidence": 1,
         "end": 15762,
         "speaker": null,
         "start": 15656,
         "text": "to"
        },
        {
         "confidence": 0.99957,
         "end": 15918,
         "speaker": null,
         "start": 15776,
         "text": "think"
        },
        {
         "confidence": 0.99771,
         "end": 16098,
         "speaker": null,
         "start": 15944,
         "text": "about"
        },
        {
         "confidence": 0.99821,
         "end": 16242,
         "speaker": null,
         "start": 16124,
         "text": "how"
        },
        {
         "confidence": 0.54802,
         "end": 16438,
         "speaker": null,
         "start": 16256,
         "text": "I'd"
        },
        {
         "confidence": 0.99731,
         "end": 16782,
         "speaker": null,
         "start": 16474,
         "text": "actually"
        },
        {
         "confidence": 0.99922,
         "end": 17022,
         "speaker": null,
         "start": 16856,
         "text": "go"
        },
        {
         "confidence": 0.99962,
         "end": 17250,
         "speaker": null,
         "start": 17036,
         "text": "about"
        },
        {
         "confidence": 0.58901,
         "end": 17578,
         "speaker": null,
         "start": 17300,
         "text": "teaching"
        },
        {
         "confidence": 0.99915,
         "end": 17814,
         "speaker": null,
         "start": 17614,
         "text": "someone"
        },
        {
         "confidence": 0.57285,
         "end": 17982,
         "speaker": null,
         "start": 17852,
         "text": "how"
        },
        {
         "confidence": 0.99,
         "end": 18138,
         "speaker": null,
         "start": 17996,
         "text": "to"
        },
        {
         "confidence": 0.99967,
         "end": 18534,
         "speaker": null,
         "start": 18164,
         "text": "code"
        },
        {
         "confidence": 0.99475,
         "end": 18894,
         "speaker": null,
         "start": 18632,
         "text": "starting"
        },
        {
         "confidence": 0.99725,
         "end": 19098,
         "speaker": null,
         "start": 18932,
         "text": "from"
        },
        {
         "confidence": 0.99985,
         "end": 19422,
         "speaker": null,
         "start": 19124,
         "text": "nothing,"
        },
        {
         "confidence": 0.98,
         "end": 19734,
         "speaker": null,
         "start": 19496,
         "text": "I"
        },
        {
         "confidence": 0.99981,
         "end": 20010,
         "speaker": null,
         "start": 19772,
         "text": "quickly"
        },
        {
         "confidence": 0.51917,
         "end": 20458,
         "speaker": null,
         "start": 20060,
         "text": "realized"
        },
        {
         "confidence": 0.98526,
         "end": 20658,
         "speaker": null,
         "start": 20494,
         "text": "that"
        },
        {
         "confidence": 0.99875,
         "end": 20802,
         "speaker": null,
         "start": 20684,
         "text": "this"
        },
        {
         "confidence": 0.93467,
         "end": 20958,
         "speaker": null,
         "start": 20816,
         "text": "was"
        },
        {
         "confidence": 0.9896,
         "end": 21066,
         "speaker": null,
         "start": 20984,
         "text": "going"
        },
        {
         "confidence": 1,
         "end": 21126,
         "speaker": null,
         "start": 21068,
         "text": "to"
        },
        {
         "confidence": 0.99741,
         "end": 21222,
         "speaker": null,
         "start": 21128,
         "text": "be"
        },
        {
         "confidence": 1,
         "end": 21306,
         "speaker": null,
         "start": 21236,
         "text": "a"
        },
        {
         "confidence": 0.97536,
         "end": 21474,
         "speaker": null,
         "start": 21308,
         "text": "lot"
        },
        {
         "confidence": 0.73014,
         "end": 21862,
         "speaker": null,
         "start": 21512,
         "text": "harder"
        },
        {
         "confidence": 0.9989,
         "end": 22038,
         "speaker": null,
         "start": 21886,
         "text": "than"
        },
        {
         "confidence": 1,
         "end": 22182,
         "speaker": null,
         "start": 22064,
         "text": "I"
        },
        {
         "confidence": 0.99926,
         "end": 22698,
         "speaker": null,
         "start": 22196,
         "text": "thought."
        },
        {
         "confidence": 0.78964,
         "end": 23154,
         "speaker": null,
         "start": 22844,
         "text": "After"
        },
        {
         "confidence": 0.99313,
         "end": 23394,
         "speaker": null,
         "start": 23192,
         "text": "all,"
        },
        {
         "confidence": 0.7353,
         "end": 23662,
         "speaker": null,
         "start": 23432,
         "text": "it's"
        },
        {
         "confidence": 0.99492,
         "end": 23838,
         "speaker": null,
         "start": 23686,
         "text": "been"
        },
        {
         "confidence": 0.99928,
         "end": 24090,
         "speaker": null,
         "start": 23864,
         "text": "almost"
        },
        {
         "confidence": 0.79,
         "end": 24354,
         "speaker": null,
         "start": 24140,
         "text": "ten"
        },
        {
         "confidence": 0.99995,
         "end": 24630,
         "speaker": null,
         "start": 24392,
         "text": "years"
        },
        {
         "confidence": 0.99976,
         "end": 24858,
         "speaker": null,
         "start": 24680,
         "text": "since"
        },
        {
         "confidence": 1,
         "end": 24966,
         "speaker": null,
         "start": 24884,
         "text": "I"
        },
        {
         "confidence": 0.60524,
         "end": 25102,
         "speaker": null,
         "start": 24968,
         "text": "wrote"
        },
        {
         "confidence": 0.99878,
         "end": 25278,
         "speaker": null,
         "start": 25126,
         "text": "my"
        },
        {
         "confidence": 0.9938,
         "end": 25494,
         "speaker": null,
         "start": 25304,
         "text": "very"
        },
        {
         "confidence": 1,
         "end": 25734,
         "speaker": null,
         "start": 25532,
         "text": "first"
        },
        {
         "confidence": 0.9931,
         "end": 25902,
         "speaker": null,
         "start": 25772,
         "text": "line"
        },
        {
         "confidence": 0.98,
         "end": 26022,
         "speaker": null,
         "start": 25916,
         "text": "of"
        },
        {
         "confidence": 0.99905,
         "end": 26250,
         "speaker": null,
         "start": 26036,
         "text": "code."
        },
        {
         "confidence": 0.5604,
         "end": 26542,
         "speaker": null,
         "start": 26300,
         "text": "That's"
        },
        {
         "confidence": 0.98,
         "end": 26718,
         "speaker": null,
         "start": 26566,
         "text": "a"
        },
        {
         "confidence": 0.99788,
         "end": 26970,
         "speaker": null,
         "start": 26744,
         "text": "pretty"
        },
        {
         "confidence": 0.99974,
         "end": 27234,
         "speaker": null,
         "start": 27020,
         "text": "long"
        },
        {
         "confidence": 0.99989,
         "end": 27510,
         "speaker": null,
         "start": 27272,
         "text": "time."
        },
        {
         "confidence": 0.85514,
         "end": 27702,
         "speaker": null,
         "start": 27560,
         "text": "Now,"
        },
        {
         "confidence": 0.99887,
         "end": 27894,
         "speaker": null,
         "start": 27716,
         "text": "this"
        },
        {
         "confidence": 0.99959,
         "end": 28242,
         "speaker": null,
         "start": 27932,
         "text": "video"
        },
        {
         "confidence": 0.99674,
         "end": 28518,
         "speaker": null,
         "start": 28316,
         "text": "is"
        },
        {
         "confidence": 0.99914,
         "end": 28734,
         "speaker": null,
         "start": 28544,
         "text": "about"
        },
        {
         "confidence": 0.99,
         "end": 28974,
         "speaker": null,
         "start": 28772,
         "text": "the"
        },
        {
         "confidence": 0.99629,
         "end": 29250,
         "speaker": null,
         "start": 29012,
         "text": "very"
        },
        {
         "confidence": 0.99989,
         "end": 29658,
         "speaker": null,
         "start": 29300,
         "text": "specific"
        },
        {
         "confidence": 1,
         "end": 29958,
         "speaker": null,
         "start": 29744,
         "text": "and"
        },
        {
         "confidence": 0.95651,
         "end": 30322,
         "speaker": null,
         "start": 29984,
         "text": "detailed"
        },
        {
         "confidence": 0.99987,
         "end": 30714,
         "speaker": null,
         "start": 30346,
         "text": "plan"
        },
        {
         "confidence": 0.98816,
         "end": 31002,
         "speaker": null,
         "start": 30812,
         "text": "that"
        },
        {
         "confidence": 1,
         "end": 31122,
         "speaker": null,
         "start": 31016,
         "text": "I"
        },
        {
         "confidence": 0.9975,
         "end": 31282,
         "speaker": null,
         "start": 31136,
         "text": "wrote"
        },
        {
         "confidence": 0.93,
         "end": 31458,
         "speaker": null,
         "start": 31306,
         "text": "for"
        },
        {
         "confidence": 0.99667,
         "end": 31602,
         "speaker": null,
         "start": 31484,
         "text": "my"
        },
        {
         "confidence": 0.99643,
         "end": 31794,
         "speaker": null,
         "start": 31616,
         "text": "friend"
        },
        {
         "confidence": 0.96,
         "end": 31962,
         "speaker": null,
         "start": 31832,
         "text": "to"
        },
        {
         "confidence": 0.99978,
         "end": 32118,
         "speaker": null,
         "start": 31976,
         "text": "teach"
        },
        {
         "confidence": 0.34315,
         "end": 32262,
         "speaker": null,
         "start": 32144,
         "text": "me"
        },
        {
         "confidence": 0.99,
         "end": 32418,
         "speaker": null,
         "start": 32276,
         "text": "the"
        },
        {
         "confidence": 0.99831,
         "end": 32698,
         "speaker": null,
         "start": 32444,
         "text": "basics"
        },
        {
         "confidence": 1,
         "end": 32862,
         "speaker": null,
         "start": 32734,
         "text": "of"
        },
        {
         "confidence": 0.99862,
         "end": 33178,
         "speaker": null,
         "start": 32876,
         "text": "coding"
        },
        {
         "confidence": 1,
         "end": 33378,
         "speaker": null,
         "start": 33214,
         "text": "for"
        },
        {
         "confidence": 0.99978,
         "end": 33594,
         "speaker": null,
         "start": 33404,
         "text": "data"
        },
        {
         "confidence": 0.98588,
         "end": 33934,
         "speaker": null,
         "start": 33632,
         "text": "science."
        },
        {
         "confidence": 0.99876,
         "end": 34194,
         "speaker": null,
         "start": 33982,
         "text": "Since"
        },
        {
         "confidence": 1,
         "end": 34326,
         "speaker": null,
         "start": 34232,
         "text": "I"
        },
        {
         "confidence": 0.99745,
         "end": 34458,
         "speaker": null,
         "start": 34328,
         "text": "did"
        },
        {
         "confidence": 0.99909,
         "end": 34566,
         "speaker": null,
         "start": 34484,
         "text": "all"
        },
        {
         "confidence": 0.89,
         "end": 34662,
         "speaker": null,
         "start": 34568,
         "text": "the"
        },
        {
         "confidence": 0.99967,
         "end": 34782,
         "speaker": null,
         "start": 34676,
         "text": "work"
        },
        {
         "confidence": 0.96,
         "end": 34938,
         "speaker": null,
         "start": 34796,
         "text": "for"
        },
        {
         "confidence": 0.99944,
         "end": 35190,
         "speaker": null,
         "start": 34964,
         "text": "him,"
        },
        {
         "confidence": 0.99,
         "end": 35418,
         "speaker": null,
         "start": 35240,
         "text": "I"
        },
        {
         "confidence": 0.99932,
         "end": 35758,
         "speaker": null,
         "start": 35444,
         "text": "figured"
        },
        {
         "confidence": 1,
         "end": 35922,
         "speaker": null,
         "start": 35794,
         "text": "I"
        },
        {
         "confidence": 0.99894,
         "end": 36078,
         "speaker": null,
         "start": 35936,
         "text": "might"
        },
        {
         "confidence": 0.52976,
         "end": 36222,
         "speaker": null,
         "start": 36104,
         "text": "as"
        },
        {
         "confidence": 0.99953,
         "end": 36414,
         "speaker": null,
         "start": 36236,
         "text": "well"
        },
        {
         "confidence": 0.99955,
         "end": 36618,
         "speaker": null,
         "start": 36452,
         "text": "share"
        },
        {
         "confidence": 0.98,
         "end": 36798,
         "speaker": null,
         "start": 36644,
         "text": "the"
        },
        {
         "confidence": 0.89684,
         "end": 37102,
         "speaker": null,
         "start": 36824,
         "text": "details"
        },
        {
         "confidence": 0.99741,
         "end": 37242,
         "speaker": null,
         "start": 37126,
         "text": "with"
        },
        {
         "confidence": 0.99829,
         "end": 37362,
         "speaker": null,
         "start": 37256,
         "text": "you"
        },
        {
         "confidence": 0.99212,
         "end": 37482,
         "speaker": null,
         "start": 37376,
         "text": "as"
        },
        {
         "confidence": 0.99954,
         "end": 37638,
         "speaker": null,
         "start": 37496,
         "text": "well."
        },
        {
         "confidence": 0.98026,
         "end": 37926,
         "speaker": null,
         "start": 37664,
         "text": "Here."
        },
        {
         "confidence": 0.97992,
         "end": 38142,
         "speaker": null,
         "start": 37988,
         "text": "There"
        },
        {
         "confidence": 0.84338,
         "end": 38226,
         "speaker": null,
         "start": 38156,
         "text": "have"
        },
        {
         "confidence": 0.96249,
         "end": 38358,
         "speaker": null,
         "start": 38228,
         "text": "been"
        },
        {
         "confidence": 0.51565,
         "end": 38578,
         "speaker": null,
         "start": 38384,
         "text": "plenty"
        },
        {
         "confidence": 1,
         "end": 38742,
         "speaker": null,
         "start": 38614,
         "text": "of"
        },
        {
         "confidence": 0.99751,
         "end": 38934,
         "speaker": null,
         "start": 38756,
         "text": "other"
        },
        {
         "confidence": 0.99889,
         "end": 39174,
         "speaker": null,
         "start": 38972,
         "text": "great"
        },
        {
         "confidence": 0.99827,
         "end": 39522,
         "speaker": null,
         "start": 39212,
         "text": "videos"
        },
        {
         "confidence": 0.99965,
         "end": 39870,
         "speaker": null,
         "start": 39596,
         "text": "similar"
        },
        {
         "confidence": 1,
         "end": 40098,
         "speaker": null,
         "start": 39920,
         "text": "to"
        },
        {
         "confidence": 0.99534,
         "end": 40314,
         "speaker": null,
         "start": 40124,
         "text": "this"
        },
        {
         "confidence": 0.99917,
         "end": 40554,
         "speaker": null,
         "start": 40352,
         "text": "about"
        },
        {
         "confidence": 0.99916,
         "end": 40722,
         "speaker": null,
         "start": 40592,
         "text": "how"
        },
        {
         "confidence": 0.99,
         "end": 40842,
         "speaker": null,
         "start": 40736,
         "text": "to"
        },
        {
         "confidence": 0.99974,
         "end": 41034,
         "speaker": null,
         "start": 40856,
         "text": "start"
        },
        {
         "confidence": 0.58002,
         "end": 41470,
         "speaker": null,
         "start": 41072,
         "text": "coding,"
        },
        {
         "confidence": 0.95,
         "end": 41682,
         "speaker": null,
         "start": 41530,
         "text": "and"
        },
        {
         "confidence": 0.72361,
         "end": 41902,
         "speaker": null,
         "start": 41696,
         "text": "I've"
        },
        {
         "confidence": 0.99268,
         "end": 42178,
         "speaker": null,
         "start": 41926,
         "text": "linked"
        },
        {
         "confidence": 0.9991,
         "end": 42378,
         "speaker": null,
         "start": 42214,
         "text": "many"
        },
        {
         "confidence": 1,
         "end": 42522,
         "speaker": null,
         "start": 42404,
         "text": "of"
        },
        {
         "confidence": 1,
         "end": 42678,
         "speaker": null,
         "start": 42536,
         "text": "them"
        },
        {
         "confidence": 0.99923,
         "end": 42786,
         "speaker": null,
         "start": 42704,
         "text": "in"
        },
        {
         "confidence": 0.51,
         "end": 42918,
         "speaker": null,
         "start": 42788,
         "text": "the"
        },
        {
         "confidence": 0.62074,
         "end": 43426,
         "speaker": null,
         "start": 42944,
         "text": "description."
        },
        {
         "confidence": 0.9947,
         "end": 43770,
         "speaker": null,
         "start": 43498,
         "text": "Again,"
        },
        {
         "confidence": 0.99851,
         "end": 43962,
         "speaker": null,
         "start": 43820,
         "text": "those"
        },
        {
         "confidence": 0.97847,
         "end": 44118,
         "speaker": null,
         "start": 43976,
         "text": "are"
        },
        {
         "confidence": 0.99974,
         "end": 44370,
         "speaker": null,
         "start": 44144,
         "text": "great,"
        },
        {
         "confidence": 0.99538,
         "end": 44634,
         "speaker": null,
         "start": 44420,
         "text": "but"
        },
        {
         "confidence": 1,
         "end": 44802,
         "speaker": null,
         "start": 44672,
         "text": "I"
        },
        {
         "confidence": 0.99894,
         "end": 44958,
         "speaker": null,
         "start": 44816,
         "text": "think"
        },
        {
         "confidence": 0.66152,
         "end": 45138,
         "speaker": null,
         "start": 44984,
         "text": "this"
        },
        {
         "confidence": 0.98733,
         "end": 45282,
         "speaker": null,
         "start": 45164,
         "text": "is"
        },
        {
         "confidence": 0.98,
         "end": 45366,
         "speaker": null,
         "start": 45296,
         "text": "a"
        },
        {
         "confidence": 0.99859,
         "end": 45498,
         "speaker": null,
         "start": 45368,
         "text": "bit"
        },
        {
         "confidence": 0.99959,
         "end": 45786,
         "speaker": null,
         "start": 45524,
         "text": "different"
        },
        {
         "confidence": 0.99888,
         "end": 46074,
         "speaker": null,
         "start": 45848,
         "text": "because"
        },
        {
         "confidence": 0.53056,
         "end": 46318,
         "speaker": null,
         "start": 46112,
         "text": "it's"
        },
        {
         "confidence": 0.99959,
         "end": 46518,
         "speaker": null,
         "start": 46354,
         "text": "more"
        },
        {
         "confidence": 0.9803,
         "end": 46846,
         "speaker": null,
         "start": 46544,
         "text": "focused"
        },
        {
         "confidence": 0.99861,
         "end": 46998,
         "speaker": null,
         "start": 46858,
         "text": "on"
        },
        {
         "confidence": 0.98054,
         "end": 47302,
         "speaker": null,
         "start": 47024,
         "text": "coding"
        },
        {
         "confidence": 1,
         "end": 47514,
         "speaker": null,
         "start": 47326,
         "text": "for"
        },
        {
         "confidence": 0.99946,
         "end": 47934,
         "speaker": null,
         "start": 47552,
         "text": "data"
        },
        {
         "confidence": 0.96,
         "end": 48258,
         "speaker": null,
         "start": 48032,
         "text": "and"
        },
        {
         "confidence": 0.99,
         "end": 48402,
         "speaker": null,
         "start": 48284,
         "text": "it"
        },
        {
         "confidence": 0.99807,
         "end": 48682,
         "speaker": null,
         "start": 48416,
         "text": "uses"
        },
        {
         "confidence": 0.99,
         "end": 48858,
         "speaker": null,
         "start": 48706,
         "text": "a"
        },
        {
         "confidence": 0.99799,
         "end": 49110,
         "speaker": null,
         "start": 48884,
         "text": "very"
        },
        {
         "confidence": 0.92892,
         "end": 49662,
         "speaker": null,
         "start": 49160,
         "text": "specific"
        },
        {
         "confidence": 1,
         "end": 50058,
         "speaker": null,
         "start": 49796,
         "text": "real"
        },
        {
         "confidence": 0.47039,
         "end": 50346,
         "speaker": null,
         "start": 50084,
         "text": "world"
        },
        {
         "confidence": 0.9941,
         "end": 50598,
         "speaker": null,
         "start": 50408,
         "text": "case"
        },
        {
         "confidence": 0.81237,
         "end": 51174,
         "speaker": null,
         "start": 50624,
         "text": "study."
        },
        {
         "confidence": 1,
         "end": 51582,
         "speaker": null,
         "start": 51332,
         "text": "At"
        },
        {
         "confidence": 1,
         "end": 51702,
         "speaker": null,
         "start": 51596,
         "text": "the"
        },
        {
         "confidence": 0.99996,
         "end": 51858,
         "speaker": null,
         "start": 51716,
         "text": "end,"
        },
        {
         "confidence": 1,
         "end": 52038,
         "speaker": null,
         "start": 51884,
         "text": "I"
        },
        {
         "confidence": 0.99578,
         "end": 52254,
         "speaker": null,
         "start": 52064,
         "text": "also"
        },
        {
         "confidence": 0.99974,
         "end": 52558,
         "speaker": null,
         "start": 52292,
         "text": "highlight"
        },
        {
         "confidence": 0.96,
         "end": 52830,
         "speaker": null,
         "start": 52594,
         "text": "the"
        },
        {
         "confidence": 1,
         "end": 53094,
         "speaker": null,
         "start": 52880,
         "text": "three"
        },
        {
         "confidence": 0.99924,
         "end": 53334,
         "speaker": null,
         "start": 53132,
         "text": "most"
        },
        {
         "confidence": 0.99762,
         "end": 53682,
         "speaker": null,
         "start": 53372,
         "text": "important"
        },
        {
         "confidence": 0.99854,
         "end": 54174,
         "speaker": null,
         "start": 53756,
         "text": "things"
        },
        {
         "confidence": 1,
         "end": 54462,
         "speaker": null,
         "start": 54272,
         "text": "a"
        },
        {
         "confidence": 1,
         "end": 54654,
         "speaker": null,
         "start": 54476,
         "text": "new"
        },
        {
         "confidence": 0.50752,
         "end": 55162,
         "speaker": null,
         "start": 54692,
         "text": "programmer"
        },
        {
         "confidence": 0.99969,
         "end": 55338,
         "speaker": null,
         "start": 55186,
         "text": "should"
        },
        {
         "confidence": 0.72332,
         "end": 55662,
         "speaker": null,
         "start": 55364,
         "text": "know."
        },
        {
         "confidence": 0.84926,
         "end": 55938,
         "speaker": null,
         "start": 55736,
         "text": "So"
        },
        {
         "confidence": 0.99815,
         "end": 56118,
         "speaker": null,
         "start": 55964,
         "text": "you"
        },
        {
         "confidence": 0.99834,
         "end": 56406,
         "speaker": null,
         "start": 56144,
         "text": "definitely"
        },
        {
         "confidence": 0.99864,
         "end": 56586,
         "speaker": null,
         "start": 56468,
         "text": "want"
        },
        {
         "confidence": 0.88,
         "end": 56682,
         "speaker": null,
         "start": 56588,
         "text": "to"
        },
        {
         "confidence": 0.99915,
         "end": 56842,
         "speaker": null,
         "start": 56696,
         "text": "stick"
        },
        {
         "confidence": 0.99643,
         "end": 57126,
         "speaker": null,
         "start": 56866,
         "text": "around"
        },
        {
         "confidence": 1,
         "end": 57378,
         "speaker": null,
         "start": 57188,
         "text": "for"
        },
        {
         "confidence": 0.99899,
         "end": 57666,
         "speaker": null,
         "start": 57404,
         "text": "that."
        },
        {
         "confidence": 0.47271,
         "end": 57982,
         "speaker": null,
         "start": 57728,
         "text": "Let's"
        },
        {
         "confidence": 0.66272,
         "end": 58230,
         "speaker": null,
         "start": 58006,
         "text": "start"
        },
        {
         "confidence": 0.99976,
         "end": 58422,
         "speaker": null,
         "start": 58280,
         "text": "with"
        },
        {
         "confidence": 0.98,
         "end": 58578,
         "speaker": null,
         "start": 58436,
         "text": "the"
        },
        {
         "confidence": 0.99848,
         "end": 58954,
         "speaker": null,
         "start": 58604,
         "text": "language"
        },
        {
         "confidence": 0.9929,
         "end": 59214,
         "speaker": null,
         "start": 59002,
         "text": "that"
        },
        {
         "confidence": 0.99865,
         "end": 59382,
         "speaker": null,
         "start": 59252,
         "text": "we"
        },
        {
         "confidence": 0.99935,
         "end": 59574,
         "speaker": null,
         "start": 59396,
         "text": "should"
        },
        {
         "confidence": 0.99884,
         "end": 59814,
         "speaker": null,
         "start": 59612,
         "text": "start"
        },
        {
         "confidence": 0.99981,
         "end": 60342,
         "speaker": null,
         "start": 59852,
         "text": "learning."
        },
        {
         "confidence": 0.96,
         "end": 60702,
         "speaker": null,
         "start": 60476,
         "text": "I"
        },
        {
         "confidence": 0.8461,
         "end": 60858,
         "speaker": null,
         "start": 60716,
         "text": "know"
        },
        {
         "confidence": 0.99605,
         "end": 61002,
         "speaker": null,
         "start": 60884,
         "text": "if"
        },
        {
         "confidence": 0.96369,
         "end": 61162,
         "speaker": null,
         "start": 61016,
         "text": "you're"
        },
        {
         "confidence": 0.99981,
         "end": 61374,
         "speaker": null,
         "start": 61186,
         "text": "working"
        },
        {
         "confidence": 0.96008,
         "end": 61578,
         "speaker": null,
         "start": 61412,
         "text": "with"
        },
        {
         "confidence": 0.99859,
         "end": 61902,
         "speaker": null,
         "start": 61604,
         "text": "data,"
        },
        {
         "confidence": 0.99706,
         "end": 62214,
         "speaker": null,
         "start": 61976,
         "text": "you"
        },
        {
         "confidence": 0.96163,
         "end": 62614,
         "speaker": null,
         "start": 62252,
         "text": "generally"
        },
        {
         "confidence": 0.99447,
         "end": 62910,
         "speaker": null,
         "start": 62662,
         "text": "have"
        },
        {
         "confidence": 1,
         "end": 63138,
         "speaker": null,
         "start": 62960,
         "text": "two"
        },
        {
         "confidence": 0.99794,
         "end": 63354,
         "speaker": null,
         "start": 63164,
         "text": "good"
        },
        {
         "confidence": 0.96714,
         "end": 63862,
         "speaker": null,
         "start": 63392,
         "text": "choices."
        },
        {
         "confidence": 0.50374,
         "end": 64122,
         "speaker": null,
         "start": 63946,
         "text": "They"
        },
        {
         "confidence": 0.74101,
         "end": 64278,
         "speaker": null,
         "start": 64136,
         "text": "would"
        },
        {
         "confidence": 0.9942,
         "end": 64458,
         "speaker": null,
         "start": 64304,
         "text": "either"
        },
        {
         "confidence": 0.99934,
         "end": 64602,
         "speaker": null,
         "start": 64484,
         "text": "start"
        },
        {
         "confidence": 0.99,
         "end": 64758,
         "speaker": null,
         "start": 64616,
         "text": "with"
        },
        {
         "confidence": 0.81417,
         "end": 65230,
         "speaker": null,
         "start": 64784,
         "text": "Python"
        },
        {
         "confidence": 0.99872,
         "end": 65478,
         "speaker": null,
         "start": 65290,
         "text": "or"
        },
        {
         "confidence": 0.99,
         "end": 65838,
         "speaker": null,
         "start": 65504,
         "text": "R."
        },
        {
         "confidence": 0.98092,
         "end": 66238,
         "speaker": null,
         "start": 65924,
         "text": "Let's"
        },
        {
         "confidence": 0.99981,
         "end": 66510,
         "speaker": null,
         "start": 66274,
         "text": "quickly"
        },
        {
         "confidence": 0.99967,
         "end": 66934,
         "speaker": null,
         "start": 66560,
         "text": "compare"
        },
        {
         "confidence": 1,
         "end": 67122,
         "speaker": null,
         "start": 66982,
         "text": "the"
        },
        {
         "confidence": 1,
         "end": 67386,
         "speaker": null,
         "start": 67136,
         "text": "two"
        },
        {
         "confidence": 0.56267,
         "end": 67858,
         "speaker": null,
         "start": 67448,
         "text": "languages"
        },
        {
         "confidence": 0.99219,
         "end": 68214,
         "speaker": null,
         "start": 67954,
         "text": "data"
        },
        {
         "confidence": 0.84555,
         "end": 68554,
         "speaker": null,
         "start": 68252,
         "text": "Science"
        },
        {
         "confidence": 0.97408,
         "end": 69298,
         "speaker": null,
         "start": 68602,
         "text": "Style"
        },
        {
         "confidence": 0.99853,
         "end": 69774,
         "speaker": null,
         "start": 69454,
         "text": "when"
        },
        {
         "confidence": 0.99958,
         "end": 69978,
         "speaker": null,
         "start": 69812,
         "text": "looking"
        },
        {
         "confidence": 1,
         "end": 70122,
         "speaker": null,
         "start": 70004,
         "text": "at"
        },
        {
         "confidence": 0.99,
         "end": 70278,
         "speaker": null,
         "start": 70136,
         "text": "the"
        },
        {
         "confidence": 0.99882,
         "end": 70594,
         "speaker": null,
         "start": 70304,
         "text": "Stack"
        },
        {
         "confidence": 0.9887,
         "end": 71098,
         "speaker": null,
         "start": 70642,
         "text": "Overflow"
        },
        {
         "confidence": 0.97731,
         "end": 71578,
         "speaker": null,
         "start": 71134,
         "text": "developer"
        },
        {
         "confidence": 0.99553,
         "end": 72046,
         "speaker": null,
         "start": 71614,
         "text": "survey,"
        },
        {
         "confidence": 0.99975,
         "end": 72318,
         "speaker": null,
         "start": 72118,
         "text": "we"
        },
        {
         "confidence": 0.98798,
         "end": 72498,
         "speaker": null,
         "start": 72344,
         "text": "find"
        },
        {
         "confidence": 0.99668,
         "end": 72678,
         "speaker": null,
         "start": 72524,
         "text": "that"
        },
        {
         "confidence": 0.99483,
         "end": 72930,
         "speaker": null,
         "start": 72704,
         "text": "about"
        },
        {
         "confidence": 0.99,
         "end": 73674,
         "speaker": null,
         "start": 72980,
         "text": "48%"
        },
        {
         "confidence": 1,
         "end": 73842,
         "speaker": null,
         "start": 73712,
         "text": "of"
        },
        {
         "confidence": 0.99559,
         "end": 74314,
         "speaker": null,
         "start": 73856,
         "text": "respondents"
        },
        {
         "confidence": 0.96168,
         "end": 74574,
         "speaker": null,
         "start": 74362,
         "text": "use"
        },
        {
         "confidence": 0.99711,
         "end": 75142,
         "speaker": null,
         "start": 74612,
         "text": "Python,"
        },
        {
         "confidence": 0.82938,
         "end": 75510,
         "speaker": null,
         "start": 75226,
         "text": "while"
        },
        {
         "confidence": 0.99917,
         "end": 75774,
         "speaker": null,
         "start": 75560,
         "text": "only"
        },
        {
         "confidence": 0.99923,
         "end": 76086,
         "speaker": null,
         "start": 75812,
         "text": "about"
        },
        {
         "confidence": 1,
         "end": 76686,
         "speaker": null,
         "start": 76148,
         "text": "5%"
        },
        {
         "confidence": 0.90565,
         "end": 77242,
         "speaker": null,
         "start": 76748,
         "text": "user."
        },
        {
         "confidence": 0.99663,
         "end": 77538,
         "speaker": null,
         "start": 77326,
         "text": "In"
        },
        {
         "confidence": 0.9972,
         "end": 78082,
         "speaker": null,
         "start": 77564,
         "text": "industry,"
        },
        {
         "confidence": 0.74853,
         "end": 78658,
         "speaker": null,
         "start": 78166,
         "text": "Python"
        },
        {
         "confidence": 0.99938,
         "end": 78822,
         "speaker": null,
         "start": 78694,
         "text": "is"
        },
        {
         "confidence": 0.99,
         "end": 79014,
         "speaker": null,
         "start": 78836,
         "text": "a"
        },
        {
         "confidence": 0.99934,
         "end": 79218,
         "speaker": null,
         "start": 79052,
         "text": "far"
        },
        {
         "confidence": 0.69678,
         "end": 79434,
         "speaker": null,
         "start": 79244,
         "text": "more"
        },
        {
         "confidence": 0.99994,
         "end": 79710,
         "speaker": null,
         "start": 79472,
         "text": "common"
        },
        {
         "confidence": 0.98497,
         "end": 80290,
         "speaker": null,
         "start": 79760,
         "text": "language."
        },
        {
         "confidence": 0.94888,
         "end": 80782,
         "speaker": null,
         "start": 80410,
         "text": "Let's"
        },
        {
         "confidence": 0.99006,
         "end": 80958,
         "speaker": null,
         "start": 80806,
         "text": "now"
        },
        {
         "confidence": 0.99843,
         "end": 81210,
         "speaker": null,
         "start": 80984,
         "text": "look"
        },
        {
         "confidence": 0.99745,
         "end": 81474,
         "speaker": null,
         "start": 81260,
         "text": "more"
        },
        {
         "confidence": 0.89906,
         "end": 82246,
         "speaker": null,
         "start": 81512,
         "text": "specifically"
        },
        {
         "confidence": 0.38,
         "end": 82482,
         "speaker": null,
         "start": 82318,
         "text": "a"
        },
        {
         "confidence": 0.99964,
         "end": 82710,
         "speaker": null,
         "start": 82496,
         "text": "data"
        },
        {
         "confidence": 0.80456,
         "end": 83338,
         "speaker": null,
         "start": 82760,
         "text": "scientist,"
        },
        {
         "confidence": 0.9972,
         "end": 83694,
         "speaker": null,
         "start": 83434,
         "text": "not"
        },
        {
         "confidence": 0.9967,
         "end": 83898,
         "speaker": null,
         "start": 83732,
         "text": "just"
        },
        {
         "confidence": 0.99223,
         "end": 84042,
         "speaker": null,
         "start": 83924,
         "text": "all"
        },
        {
         "confidence": 0.94526,
         "end": 84262,
         "speaker": null,
         "start": 84056,
         "text": "Stack"
        },
        {
         "confidence": 0.67702,
         "end": 84742,
         "speaker": null,
         "start": 84286,
         "text": "Overflow"
        },
        {
         "confidence": 0.89539,
         "end": 85078,
         "speaker": null,
         "start": 84766,
         "text": "users"
        },
        {
         "confidence": 0.9971,
         "end": 85242,
         "speaker": null,
         "start": 85114,
         "text": "who"
        },
        {
         "confidence": 0.9976,
         "end": 85398,
         "speaker": null,
         "start": 85256,
         "text": "come"
        },
        {
         "confidence": 0.99957,
         "end": 85614,
         "speaker": null,
         "start": 85424,
         "text": "from"
        },
        {
         "confidence": 0.99,
         "end": 85782,
         "speaker": null,
         "start": 85652,
         "text": "a"
        },
        {
         "confidence": 0.47022,
         "end": 86098,
         "speaker": null,
         "start": 85796,
         "text": "variety"
        },
        {
         "confidence": 0.94,
         "end": 86298,
         "speaker": null,
         "start": 86134,
         "text": "of"
        },
        {
         "confidence": 0.98932,
         "end": 86962,
         "speaker": null,
         "start": 86324,
         "text": "backgrounds."
        },
        {
         "confidence": 0.99891,
         "end": 87258,
         "speaker": null,
         "start": 87046,
         "text": "On"
        },
        {
         "confidence": 0.81,
         "end": 87730,
         "speaker": null,
         "start": 87284,
         "text": "Kaggle,"
        },
        {
         "confidence": 0.99877,
         "end": 87978,
         "speaker": null,
         "start": 87790,
         "text": "my"
        },
        {
         "confidence": 0.99584,
         "end": 88318,
         "speaker": null,
         "start": 88004,
         "text": "favorite"
        },
        {
         "confidence": 0.99991,
         "end": 88662,
         "speaker": null,
         "start": 88354,
         "text": "platform"
        },
        {
         "confidence": 1,
         "end": 88902,
         "speaker": null,
         "start": 88736,
         "text": "for"
        },
        {
         "confidence": 0.9376,
         "end": 89094,
         "speaker": null,
         "start": 88916,
         "text": "data"
        },
        {
         "confidence": 0.99735,
         "end": 89434,
         "speaker": null,
         "start": 89132,
         "text": "science"
        },
        {
         "confidence": 0.99982,
         "end": 89730,
         "speaker": null,
         "start": 89482,
         "text": "learning"
        },
        {
         "confidence": 1,
         "end": 89958,
         "speaker": null,
         "start": 89780,
         "text": "and"
        },
        {
         "confidence": 0.80285,
         "end": 90562,
         "speaker": null,
         "start": 89984,
         "text": "projects,"
        },
        {
         "confidence": 0.99938,
         "end": 90822,
         "speaker": null,
         "start": 90646,
         "text": "we"
        },
        {
         "confidence": 0.98059,
         "end": 90978,
         "speaker": null,
         "start": 90836,
         "text": "can"
        },
        {
         "confidence": 0.99951,
         "end": 91122,
         "speaker": null,
         "start": 91004,
         "text": "see"
        },
        {
         "confidence": 0.99598,
         "end": 91278,
         "speaker": null,
         "start": 91136,
         "text": "that"
        },
        {
         "confidence": 0.99942,
         "end": 91602,
         "speaker": null,
         "start": 91304,
         "text": "around"
        },
        {
         "confidence": 0.89,
         "end": 92874,
         "speaker": null,
         "start": 91676,
         "text": "84.2%"
        },
        {
         "confidence": 1,
         "end": 93042,
         "speaker": null,
         "start": 92912,
         "text": "of"
        },
        {
         "confidence": 0.99337,
         "end": 93586,
         "speaker": null,
         "start": 93056,
         "text": "respondents"
        },
        {
         "confidence": 0.75276,
         "end": 93894,
         "speaker": null,
         "start": 93658,
         "text": "use"
        },
        {
         "confidence": 0.65254,
         "end": 94486,
         "speaker": null,
         "start": 93932,
         "text": "Python,"
        },
        {
         "confidence": 0.9966,
         "end": 94794,
         "speaker": null,
         "start": 94558,
         "text": "while"
        },
        {
         "confidence": 0.99805,
         "end": 95070,
         "speaker": null,
         "start": 94832,
         "text": "only"
        },
        {
         "confidence": 0.96,
         "end": 96246,
         "speaker": null,
         "start": 95120,
         "text": "25%"
        },
        {
         "confidence": 0.99414,
         "end": 96498,
         "speaker": null,
         "start": 96308,
         "text": "use"
        },
        {
         "confidence": 0.72,
         "end": 97002,
         "speaker": null,
         "start": 96524,
         "text": "R."
        },
        {
         "confidence": 0.99956,
         "end": 97470,
         "speaker": null,
         "start": 97136,
         "text": "Since"
        },
        {
         "confidence": 0.99229,
         "end": 97698,
         "speaker": null,
         "start": 97520,
         "text": "these"
        },
        {
         "confidence": 0.99378,
         "end": 97842,
         "speaker": null,
         "start": 97724,
         "text": "add"
        },
        {
         "confidence": 0.99857,
         "end": 97962,
         "speaker": null,
         "start": 97856,
         "text": "up"
        },
        {
         "confidence": 1,
         "end": 98118,
         "speaker": null,
         "start": 97976,
         "text": "to"
        },
        {
         "confidence": 0.99934,
         "end": 98262,
         "speaker": null,
         "start": 98144,
         "text": "more"
        },
        {
         "confidence": 0.99947,
         "end": 98382,
         "speaker": null,
         "start": 98276,
         "text": "than"
        },
        {
         "confidence": 0.94,
         "end": 99114,
         "speaker": null,
         "start": 98396,
         "text": "100%,"
        },
        {
         "confidence": 0.62629,
         "end": 99438,
         "speaker": null,
         "start": 99212,
         "text": "we"
        },
        {
         "confidence": 0.99786,
         "end": 99582,
         "speaker": null,
         "start": 99464,
         "text": "can"
        },
        {
         "confidence": 0.99974,
         "end": 99898,
         "speaker": null,
         "start": 99596,
         "text": "assume"
        },
        {
         "confidence": 0.99532,
         "end": 100134,
         "speaker": null,
         "start": 99934,
         "text": "that"
        },
        {
         "confidence": 0.99964,
         "end": 100374,
         "speaker": null,
         "start": 100172,
         "text": "some"
        },
        {
         "confidence": 0.99984,
         "end": 100614,
         "speaker": null,
         "start": 100412,
         "text": "data"
        },
        {
         "confidence": 0.97686,
         "end": 101146,
         "speaker": null,
         "start": 100652,
         "text": "scientists"
        },
        {
         "confidence": 0.99831,
         "end": 101418,
         "speaker": null,
         "start": 101218,
         "text": "are"
        },
        {
         "confidence": 0.99968,
         "end": 101670,
         "speaker": null,
         "start": 101444,
         "text": "using"
        },
        {
         "confidence": 0.99944,
         "end": 101970,
         "speaker": null,
         "start": 101720,
         "text": "both"
        },
        {
         "confidence": 0.99934,
         "end": 102514,
         "speaker": null,
         "start": 102020,
         "text": "languages."
        },
        {
         "confidence": 0.99922,
         "end": 103074,
         "speaker": null,
         "start": 102622,
         "text": "Finally,"
        },
        {
         "confidence": 0.97679,
         "end": 103402,
         "speaker": null,
         "start": 103172,
         "text": "let's"
        },
        {
         "confidence": 0.99982,
         "end": 103542,
         "speaker": null,
         "start": 103426,
         "text": "look"
        },
        {
         "confidence": 1,
         "end": 103662,
         "speaker": null,
         "start": 103556,
         "text": "at"
        },
        {
         "confidence": 0.99274,
         "end": 103818,
         "speaker": null,
         "start": 103676,
         "text": "these"
        },
        {
         "confidence": 1,
         "end": 104034,
         "speaker": null,
         "start": 103844,
         "text": "two"
        },
        {
         "confidence": 0.99918,
         "end": 104482,
         "speaker": null,
         "start": 104072,
         "text": "languages"
        },
        {
         "confidence": 0.99982,
         "end": 104886,
         "speaker": null,
         "start": 104566,
         "text": "over"
        },
        {
         "confidence": 0.69516,
         "end": 105246,
         "speaker": null,
         "start": 104948,
         "text": "time."
        },
        {
         "confidence": 0.99852,
         "end": 105462,
         "speaker": null,
         "start": 105308,
         "text": "We"
        },
        {
         "confidence": 0.99807,
         "end": 105582,
         "speaker": null,
         "start": 105476,
         "text": "can"
        },
        {
         "confidence": 0.99943,
         "end": 105774,
         "speaker": null,
         "start": 105596,
         "text": "see"
        },
        {
         "confidence": 0.99868,
         "end": 106158,
         "speaker": null,
         "start": 105812,
         "text": "here"
        },
        {
         "confidence": 0.99791,
         "end": 106566,
         "speaker": null,
         "start": 106244,
         "text": "from"
        },
        {
         "confidence": 0.89,
         "end": 107166,
         "speaker": null,
         "start": 106628,
         "text": "2020"
        },
        {
         "confidence": 0.95,
         "end": 107418,
         "speaker": null,
         "start": 107228,
         "text": "to"
        },
        {
         "confidence": 0.9,
         "end": 108330,
         "speaker": null,
         "start": 107444,
         "text": "2021,"
        },
        {
         "confidence": 0.77131,
         "end": 108898,
         "speaker": null,
         "start": 108440,
         "text": "Python"
        },
        {
         "confidence": 0.98496,
         "end": 109062,
         "speaker": null,
         "start": 108934,
         "text": "has"
        },
        {
         "confidence": 0.68657,
         "end": 109282,
         "speaker": null,
         "start": 109076,
         "text": "gained"
        },
        {
         "confidence": 0.86388,
         "end": 109422,
         "speaker": null,
         "start": 109306,
         "text": "an"
        },
        {
         "confidence": 0.56204,
         "end": 110002,
         "speaker": null,
         "start": 109436,
         "text": "adoption."
        },
        {
         "confidence": 0.99129,
         "end": 110298,
         "speaker": null,
         "start": 110086,
         "text": "While"
        },
        {
         "confidence": 0.34537,
         "end": 110514,
         "speaker": null,
         "start": 110324,
         "text": "our"
        },
        {
         "confidence": 0.99889,
         "end": 110878,
         "speaker": null,
         "start": 110552,
         "text": "usage"
        },
        {
         "confidence": 0.99584,
         "end": 111078,
         "speaker": null,
         "start": 110914,
         "text": "has"
        },
        {
         "confidence": 0.99276,
         "end": 111222,
         "speaker": null,
         "start": 111104,
         "text": "seen"
        },
        {
         "confidence": 0.99153,
         "end": 111378,
         "speaker": null,
         "start": 111236,
         "text": "some"
        },
        {
         "confidence": 0.97902,
         "end": 112126,
         "speaker": null,
         "start": 111404,
         "text": "attrition,"
        },
        {
         "confidence": 1,
         "end": 112518,
         "speaker": null,
         "start": 112258,
         "text": "to"
        },
        {
         "confidence": 0.99598,
         "end": 112698,
         "speaker": null,
         "start": 112544,
         "text": "me,"
        },
        {
         "confidence": 0.99607,
         "end": 112842,
         "speaker": null,
         "start": 112724,
         "text": "this"
        },
        {
         "confidence": 0.99118,
         "end": 112962,
         "speaker": null,
         "start": 112856,
         "text": "is"
        },
        {
         "confidence": 0.99,
         "end": 113046,
         "speaker": null,
         "start": 112976,
         "text": "a"
        },
        {
         "confidence": 0.99958,
         "end": 113142,
         "speaker": null,
         "start": 113048,
         "text": "no"
        },
        {
         "confidence": 0.65666,
         "end": 113590,
         "speaker": null,
         "start": 113156,
         "text": "brainer."
        },
        {
         "confidence": 1,
         "end": 113838,
         "speaker": null,
         "start": 113650,
         "text": "I"
        },
        {
         "confidence": 0.96602,
         "end": 114322,
         "speaker": null,
         "start": 113864,
         "text": "recommended"
        },
        {
         "confidence": 0.9997,
         "end": 114498,
         "speaker": null,
         "start": 114346,
         "text": "my"
        },
        {
         "confidence": 0.82086,
         "end": 114714,
         "speaker": null,
         "start": 114524,
         "text": "friend"
        },
        {
         "confidence": 0.99,
         "end": 114882,
         "speaker": null,
         "start": 114752,
         "text": "to"
        },
        {
         "confidence": 0.9996,
         "end": 115074,
         "speaker": null,
         "start": 114896,
         "text": "start"
        },
        {
         "confidence": 0.9995,
         "end": 115314,
         "speaker": null,
         "start": 115112,
         "text": "learning"
        },
        {
         "confidence": 0.99841,
         "end": 115738,
         "speaker": null,
         "start": 115352,
         "text": "Python"
        },
        {
         "confidence": 1,
         "end": 116226,
         "speaker": null,
         "start": 115774,
         "text": "first."
        },
        {
         "confidence": 0.99737,
         "end": 116634,
         "speaker": null,
         "start": 116348,
         "text": "That"
        },
        {
         "confidence": 0.99978,
         "end": 116998,
         "speaker": null,
         "start": 116672,
         "text": "language"
        },
        {
         "confidence": 0.99856,
         "end": 117162,
         "speaker": null,
         "start": 117034,
         "text": "is"
        },
        {
         "confidence": 0.99909,
         "end": 117318,
         "speaker": null,
         "start": 117176,
         "text": "more"
        },
        {
         "confidence": 0.99991,
         "end": 117694,
         "speaker": null,
         "start": 117344,
         "text": "popular,"
        },
        {
         "confidence": 1,
         "end": 117882,
         "speaker": null,
         "start": 117742,
         "text": "and"
        },
        {
         "confidence": 0.94986,
         "end": 118042,
         "speaker": null,
         "start": 117896,
         "text": "it's"
        },
        {
         "confidence": 0.99414,
         "end": 118522,
         "speaker": null,
         "start": 118066,
         "text": "continuing"
        },
        {
         "confidence": 1,
         "end": 118662,
         "speaker": null,
         "start": 118546,
         "text": "to"
        },
        {
         "confidence": 0.99939,
         "end": 118890,
         "speaker": null,
         "start": 118676,
         "text": "grow."
        },
        {
         "confidence": 0.99771,
         "end": 119118,
         "speaker": null,
         "start": 118940,
         "text": "This"
        },
        {
         "confidence": 0.98874,
         "end": 119302,
         "speaker": null,
         "start": 119144,
         "text": "isn't"
        },
        {
         "confidence": 0.98,
         "end": 119442,
         "speaker": null,
         "start": 119326,
         "text": "to"
        },
        {
         "confidence": 0.99961,
         "end": 119634,
         "speaker": null,
         "start": 119456,
         "text": "say"
        },
        {
         "confidence": 0.97,
         "end": 119802,
         "speaker": null,
         "start": 119672,
         "text": "R"
        },
        {
         "confidence": 0.82976,
         "end": 119958,
         "speaker": null,
         "start": 119816,
         "text": "is"
        },
        {
         "confidence": 0.99977,
         "end": 120354,
         "speaker": null,
         "start": 119984,
         "text": "bad."
        },
        {
         "confidence": 0.97575,
         "end": 120778,
         "speaker": null,
         "start": 120452,
         "text": "It's"
        },
        {
         "confidence": 0.99783,
         "end": 121014,
         "speaker": null,
         "start": 120814,
         "text": "just"
        },
        {
         "confidence": 0.99,
         "end": 121182,
         "speaker": null,
         "start": 121052,
         "text": "to"
        },
        {
         "confidence": 0.99949,
         "end": 121302,
         "speaker": null,
         "start": 121196,
         "text": "say"
        },
        {
         "confidence": 0.98517,
         "end": 121422,
         "speaker": null,
         "start": 121316,
         "text": "that"
        },
        {
         "confidence": 0.96,
         "end": 121542,
         "speaker": null,
         "start": 121436,
         "text": "I"
        },
        {
         "confidence": 0.99977,
         "end": 121698,
         "speaker": null,
         "start": 121556,
         "text": "think"
        },
        {
         "confidence": 0.77235,
         "end": 122062,
         "speaker": null,
         "start": 121724,
         "text": "Python"
        },
        {
         "confidence": 0.99898,
         "end": 122238,
         "speaker": null,
         "start": 122086,
         "text": "is"
        },
        {
         "confidence": 0.74376,
         "end": 122650,
         "speaker": null,
         "start": 122264,
         "text": "growing"
        },
        {
         "confidence": 1,
         "end": 122898,
         "speaker": null,
         "start": 122710,
         "text": "and"
        },
        {
         "confidence": 0.99332,
         "end": 123042,
         "speaker": null,
         "start": 122924,
         "text": "will"
        },
        {
         "confidence": 0.99729,
         "end": 123198,
         "speaker": null,
         "start": 123056,
         "text": "be"
        },
        {
         "confidence": 0.98,
         "end": 123378,
         "speaker": null,
         "start": 123224,
         "text": "a"
        },
        {
         "confidence": 0.99965,
         "end": 123594,
         "speaker": null,
         "start": 123404,
         "text": "more"
        },
        {
         "confidence": 0.99931,
         "end": 123994,
         "speaker": null,
         "start": 123632,
         "text": "valuable"
        },
        {
         "confidence": 0.90644,
         "end": 124294,
         "speaker": null,
         "start": 124042,
         "text": "skill"
        },
        {
         "confidence": 0.99,
         "end": 124518,
         "speaker": null,
         "start": 124342,
         "text": "to"
        },
        {
         "confidence": 0.99894,
         "end": 124698,
         "speaker": null,
         "start": 124544,
         "text": "have"
        },
        {
         "confidence": 1,
         "end": 124842,
         "speaker": null,
         "start": 124724,
         "text": "for"
        },
        {
         "confidence": 1,
         "end": 124962,
         "speaker": null,
         "start": 124856,
         "text": "the"
        },
        {
         "confidence": 0.99943,
         "end": 125154,
         "speaker": null,
         "start": 124976,
         "text": "job"
        },
        {
         "confidence": 0.99982,
         "end": 125430,
         "speaker": null,
         "start": 125192,
         "text": "market"
        },
        {
         "confidence": 0.99903,
         "end": 125658,
         "speaker": null,
         "start": 125480,
         "text": "in"
        },
        {
         "confidence": 0.99995,
         "end": 125946,
         "speaker": null,
         "start": 125684,
         "text": "general."
        },
        {
         "confidence": 1,
         "end": 126198,
         "speaker": null,
         "start": 126008,
         "text": "I"
        },
        {
         "confidence": 0.99581,
         "end": 126414,
         "speaker": null,
         "start": 126224,
         "text": "also"
        },
        {
         "confidence": 0.57399,
         "end": 126718,
         "speaker": null,
         "start": 126452,
         "text": "personally"
        },
        {
         "confidence": 0.99924,
         "end": 126918,
         "speaker": null,
         "start": 126754,
         "text": "find"
        },
        {
         "confidence": 0.99,
         "end": 127062,
         "speaker": null,
         "start": 126944,
         "text": "it"
        },
        {
         "confidence": 1,
         "end": 127146,
         "speaker": null,
         "start": 127076,
         "text": "a"
        },
        {
         "confidence": 0.98797,
         "end": 127278,
         "speaker": null,
         "start": 127148,
         "text": "bit"
        },
        {
         "confidence": 0.9999,
         "end": 127422,
         "speaker": null,
         "start": 127304,
         "text": "more"
        },
        {
         "confidence": 0.99417,
         "end": 127834,
         "speaker": null,
         "start": 127436,
         "text": "intuitive"
        },
        {
         "confidence": 1,
         "end": 128058,
         "speaker": null,
         "start": 127882,
         "text": "and"
        },
        {
         "confidence": 0.69113,
         "end": 128458,
         "speaker": null,
         "start": 128084,
         "text": "flexible"
        },
        {
         "confidence": 0.99117,
         "end": 128658,
         "speaker": null,
         "start": 128494,
         "text": "than"
        },
        {
         "confidence": 0.43165,
         "end": 128946,
         "speaker": null,
         "start": 128684,
         "text": "our."
        },
        {
         "confidence": 0.99698,
         "end": 129162,
         "speaker": null,
         "start": 129008,
         "text": "Now"
        },
        {
         "confidence": 0.56343,
         "end": 129318,
         "speaker": null,
         "start": 129176,
         "text": "that"
        },
        {
         "confidence": 0.98023,
         "end": 129502,
         "speaker": null,
         "start": 129344,
         "text": "we've"
        },
        {
         "confidence": 0.8041,
         "end": 129742,
         "speaker": null,
         "start": 129526,
         "text": "chosen"
        },
        {
         "confidence": 0.99174,
         "end": 129918,
         "speaker": null,
         "start": 129766,
         "text": "our"
        },
        {
         "confidence": 0.5804,
         "end": 130198,
         "speaker": null,
         "start": 129944,
         "text": "language"
        },
        {
         "confidence": 0.61837,
         "end": 130362,
         "speaker": null,
         "start": 130234,
         "text": "as"
        },
        {
         "confidence": 0.97961,
         "end": 130846,
         "speaker": null,
         "start": 130376,
         "text": "Python,"
        },
        {
         "confidence": 0.99992,
         "end": 131118,
         "speaker": null,
         "start": 130918,
         "text": "what"
        },
        {
         "confidence": 0.91503,
         "end": 131422,
         "speaker": null,
         "start": 131144,
         "text": "coding"
        },
        {
         "confidence": 0.93002,
         "end": 131722,
         "speaker": null,
         "start": 131446,
         "text": "skills"
        },
        {
         "confidence": 0.99962,
         "end": 131862,
         "speaker": null,
         "start": 131746,
         "text": "should"
        },
        {
         "confidence": 0.99723,
         "end": 131982,
         "speaker": null,
         "start": 131876,
         "text": "my"
        },
        {
         "confidence": 0.99812,
         "end": 132138,
         "speaker": null,
         "start": 131996,
         "text": "friend"
        },
        {
         "confidence": 0.99983,
         "end": 132354,
         "speaker": null,
         "start": 132164,
         "text": "learn"
        },
        {
         "confidence": 1,
         "end": 132846,
         "speaker": null,
         "start": 132392,
         "text": "first?"
        },
        {
         "confidence": 0.99847,
         "end": 133218,
         "speaker": null,
         "start": 132968,
         "text": "Should"
        },
        {
         "confidence": 0.98931,
         "end": 133398,
         "speaker": null,
         "start": 133244,
         "text": "he"
        },
        {
         "confidence": 0.99996,
         "end": 133686,
         "speaker": null,
         "start": 133424,
         "text": "focus"
        },
        {
         "confidence": 0.99907,
         "end": 133974,
         "speaker": null,
         "start": 133748,
         "text": "on"
        },
        {
         "confidence": 0.98707,
         "end": 134554,
         "speaker": null,
         "start": 134012,
         "text": "variables?"
        },
        {
         "confidence": 0.98431,
         "end": 134974,
         "speaker": null,
         "start": 134602,
         "text": "Logic"
        },
        {
         "confidence": 0.96766,
         "end": 135478,
         "speaker": null,
         "start": 135022,
         "text": "functions?"
        },
        {
         "confidence": 0.59813,
         "end": 136042,
         "speaker": null,
         "start": 135514,
         "text": "Algorithms?"
        },
        {
         "confidence": 0.99026,
         "end": 136882,
         "speaker": null,
         "start": 136126,
         "text": "Classes?"
        },
        {
         "confidence": 0.99888,
         "end": 137298,
         "speaker": null,
         "start": 137026,
         "text": "My"
        },
        {
         "confidence": 0.99979,
         "end": 137550,
         "speaker": null,
         "start": 137324,
         "text": "mind"
        },
        {
         "confidence": 0.99514,
         "end": 137814,
         "speaker": null,
         "start": 137600,
         "text": "was"
        },
        {
         "confidence": 0.99393,
         "end": 138090,
         "speaker": null,
         "start": 137852,
         "text": "absolutely"
        },
        {
         "confidence": 0.99266,
         "end": 138442,
         "speaker": null,
         "start": 138140,
         "text": "spinning"
        },
        {
         "confidence": 0.99934,
         "end": 138582,
         "speaker": null,
         "start": 138466,
         "text": "when"
        },
        {
         "confidence": 1,
         "end": 138702,
         "speaker": null,
         "start": 138596,
         "text": "I"
        },
        {
         "confidence": 1,
         "end": 138858,
         "speaker": null,
         "start": 138716,
         "text": "first"
        },
        {
         "confidence": 0.79334,
         "end": 139222,
         "speaker": null,
         "start": 138884,
         "text": "addressed"
        },
        {
         "confidence": 0.99715,
         "end": 139542,
         "speaker": null,
         "start": 139246,
         "text": "this."
        },
        {
         "confidence": 0.76,
         "end": 139818,
         "speaker": null,
         "start": 139616,
         "text": "It"
        },
        {
         "confidence": 0.99983,
         "end": 139998,
         "speaker": null,
         "start": 139844,
         "text": "took"
        },
        {
         "confidence": 0.99982,
         "end": 140142,
         "speaker": null,
         "start": 140024,
         "text": "me"
        },
        {
         "confidence": 1,
         "end": 140226,
         "speaker": null,
         "start": 140156,
         "text": "a"
        },
        {
         "confidence": 0.97,
         "end": 140502,
         "speaker": null,
         "start": 140228,
         "text": "second,"
        },
        {
         "confidence": 0.99438,
         "end": 140742,
         "speaker": null,
         "start": 140576,
         "text": "but"
        },
        {
         "confidence": 0.9,
         "end": 140898,
         "speaker": null,
         "start": 140756,
         "text": "I"
        },
        {
         "confidence": 0.98783,
         "end": 141042,
         "speaker": null,
         "start": 140924,
         "text": "had"
        },
        {
         "confidence": 0.99786,
         "end": 141342,
         "speaker": null,
         "start": 141056,
         "text": "this"
        },
        {
         "confidence": 0.57409,
         "end": 141730,
         "speaker": null,
         "start": 141416,
         "text": "weird"
        },
        {
         "confidence": 0.86189,
         "end": 142258,
         "speaker": null,
         "start": 141790,
         "text": "chaotic"
        },
        {
         "confidence": 0.94429,
         "end": 142930,
         "speaker": null,
         "start": 142294,
         "text": "flashback"
        },
        {
         "confidence": 1,
         "end": 143178,
         "speaker": null,
         "start": 142990,
         "text": "to"
        },
        {
         "confidence": 0.99904,
         "end": 143322,
         "speaker": null,
         "start": 143204,
         "text": "my"
        },
        {
         "confidence": 1,
         "end": 143514,
         "speaker": null,
         "start": 143336,
         "text": "first"
        },
        {
         "confidence": 0.99787,
         "end": 143718,
         "speaker": null,
         "start": 143552,
         "text": "days"
        },
        {
         "confidence": 1,
         "end": 143898,
         "speaker": null,
         "start": 143744,
         "text": "of"
        },
        {
         "confidence": 0.99878,
         "end": 144114,
         "speaker": null,
         "start": 143924,
         "text": "learning"
        },
        {
         "confidence": 0.99952,
         "end": 144562,
         "speaker": null,
         "start": 144152,
         "text": "programming"
        },
        {
         "confidence": 0.99961,
         "end": 145098,
         "speaker": null,
         "start": 144586,
         "text": "myself."
        },
        {
         "confidence": 1,
         "end": 145482,
         "speaker": null,
         "start": 145244,
         "text": "I"
        },
        {
         "confidence": 0.75533,
         "end": 145642,
         "speaker": null,
         "start": 145496,
         "text": "didn't"
        },
        {
         "confidence": 0.98258,
         "end": 145818,
         "speaker": null,
         "start": 145666,
         "text": "even"
        },
        {
         "confidence": 0.99973,
         "end": 145962,
         "speaker": null,
         "start": 145844,
         "text": "know"
        },
        {
         "confidence": 0.99759,
         "end": 146082,
         "speaker": null,
         "start": 145976,
         "text": "where"
        },
        {
         "confidence": 1,
         "end": 146202,
         "speaker": null,
         "start": 146096,
         "text": "to"
        },
        {
         "confidence": 0.99969,
         "end": 146394,
         "speaker": null,
         "start": 146216,
         "text": "start"
        },
        {
         "confidence": 0.99844,
         "end": 146670,
         "speaker": null,
         "start": 146432,
         "text": "with"
        },
        {
         "confidence": 0.9988,
         "end": 146934,
         "speaker": null,
         "start": 146720,
         "text": "getting"
        },
        {
         "confidence": 0.94987,
         "end": 147454,
         "speaker": null,
         "start": 146972,
         "text": "Python"
        },
        {
         "confidence": 0.99921,
         "end": 147642,
         "speaker": null,
         "start": 147502,
         "text": "on"
        },
        {
         "confidence": 0.99951,
         "end": 147762,
         "speaker": null,
         "start": 147656,
         "text": "my"
        },
        {
         "confidence": 0.99588,
         "end": 147882,
         "speaker": null,
         "start": 147776,
         "text": "own"
        },
        {
         "confidence": 0.70112,
         "end": 148254,
         "speaker": null,
         "start": 147896,
         "text": "computer."
        },
        {
         "confidence": 1,
         "end": 148578,
         "speaker": null,
         "start": 148352,
         "text": "I"
        },
        {
         "confidence": 0.99089,
         "end": 148758,
         "speaker": null,
         "start": 148604,
         "text": "just"
        },
        {
         "confidence": 0.99205,
         "end": 148938,
         "speaker": null,
         "start": 148784,
         "text": "now"
        },
        {
         "confidence": 0.69993,
         "end": 149154,
         "speaker": null,
         "start": 148964,
         "text": "got"
        },
        {
         "confidence": 0.99949,
         "end": 149554,
         "speaker": null,
         "start": 149192,
         "text": "excited"
        },
        {
         "confidence": 0.99981,
         "end": 149778,
         "speaker": null,
         "start": 149602,
         "text": "about"
        },
        {
         "confidence": 0.99943,
         "end": 150082,
         "speaker": null,
         "start": 149804,
         "text": "teaching"
        },
        {
         "confidence": 0.93,
         "end": 150222,
         "speaker": null,
         "start": 150106,
         "text": "the"
        },
        {
         "confidence": 0.65206,
         "end": 150562,
         "speaker": null,
         "start": 150236,
         "text": "functional"
        },
        {
         "confidence": 0.99961,
         "end": 150738,
         "speaker": null,
         "start": 150586,
         "text": "part"
        },
        {
         "confidence": 1,
         "end": 150882,
         "speaker": null,
         "start": 150764,
         "text": "of"
        },
        {
         "confidence": 0.99119,
         "end": 151426,
         "speaker": null,
         "start": 150896,
         "text": "programming,"
        },
        {
         "confidence": 0.97,
         "end": 151662,
         "speaker": null,
         "start": 151498,
         "text": "and"
        },
        {
         "confidence": 1,
         "end": 151854,
         "speaker": null,
         "start": 151676,
         "text": "I"
        },
        {
         "confidence": 0.99982,
         "end": 152238,
         "speaker": null,
         "start": 151892,
         "text": "completely"
        },
        {
         "confidence": 0.99909,
         "end": 152770,
         "speaker": null,
         "start": 152324,
         "text": "forgot"
        },
        {
         "confidence": 0.999,
         "end": 153054,
         "speaker": null,
         "start": 152830,
         "text": "about"
        },
        {
         "confidence": 1,
         "end": 153294,
         "speaker": null,
         "start": 153092,
         "text": "the"
        },
        {
         "confidence": 0.98942,
         "end": 153730,
         "speaker": null,
         "start": 153332,
         "text": "basics"
        },
        {
         "confidence": 1,
         "end": 153978,
         "speaker": null,
         "start": 153790,
         "text": "of"
        },
        {
         "confidence": 0.99922,
         "end": 154282,
         "speaker": null,
         "start": 154004,
         "text": "setting"
        },
        {
         "confidence": 0.99784,
         "end": 154458,
         "speaker": null,
         "start": 154306,
         "text": "up"
        },
        {
         "confidence": 0.99981,
         "end": 154638,
         "speaker": null,
         "start": 154484,
         "text": "your"
        },
        {
         "confidence": 0.99926,
         "end": 155098,
         "speaker": null,
         "start": 154664,
         "text": "environment"
        },
        {
         "confidence": 1,
         "end": 155298,
         "speaker": null,
         "start": 155134,
         "text": "for"
        },
        {
         "confidence": 0.99992,
         "end": 155766,
         "speaker": null,
         "start": 155324,
         "text": "success."
        },
        {
         "confidence": 1,
         "end": 156102,
         "speaker": null,
         "start": 155888,
         "text": "The"
        },
        {
         "confidence": 0.99988,
         "end": 156258,
         "speaker": null,
         "start": 156116,
         "text": "next"
        },
        {
         "confidence": 0.99906,
         "end": 156402,
         "speaker": null,
         "start": 156284,
         "text": "thing"
        },
        {
         "confidence": 1,
         "end": 156522,
         "speaker": null,
         "start": 156416,
         "text": "I"
        },
        {
         "confidence": 0.99842,
         "end": 156678,
         "speaker": null,
         "start": 156536,
         "text": "did"
        },
        {
         "confidence": 0.99051,
         "end": 156822,
         "speaker": null,
         "start": 156704,
         "text": "was"
        },
        {
         "confidence": 0.98815,
         "end": 156978,
         "speaker": null,
         "start": 156836,
         "text": "give"
        },
        {
         "confidence": 0.99884,
         "end": 157122,
         "speaker": null,
         "start": 157004,
         "text": "my"
        },
        {
         "confidence": 0.84497,
         "end": 157314,
         "speaker": null,
         "start": 157136,
         "text": "friend"
        },
        {
         "confidence": 0.99624,
         "end": 157482,
         "speaker": null,
         "start": 157352,
         "text": "some"
        },
        {
         "confidence": 0.91,
         "end": 157602,
         "speaker": null,
         "start": 157496,
         "text": "of"
        },
        {
         "confidence": 0.99757,
         "end": 157722,
         "speaker": null,
         "start": 157616,
         "text": "my"
        },
        {
         "confidence": 0.82399,
         "end": 158038,
         "speaker": null,
         "start": 157736,
         "text": "favorite"
        },
        {
         "confidence": 0.99772,
         "end": 158518,
         "speaker": null,
         "start": 158074,
         "text": "resources"
        },
        {
         "confidence": 0.73199,
         "end": 158754,
         "speaker": null,
         "start": 158554,
         "text": "on"
        },
        {
         "confidence": 0.99984,
         "end": 159082,
         "speaker": null,
         "start": 158792,
         "text": "choosing"
        },
        {
         "confidence": 0.99529,
         "end": 159258,
         "speaker": null,
         "start": 159106,
         "text": "an"
        },
        {
         "confidence": 0.87215,
         "end": 159838,
         "speaker": null,
         "start": 159284,
         "text": "environment"
        },
        {
         "confidence": 1,
         "end": 160158,
         "speaker": null,
         "start": 159934,
         "text": "and"
        },
        {
         "confidence": 0.99847,
         "end": 160374,
         "speaker": null,
         "start": 160184,
         "text": "getting"
        },
        {
         "confidence": 1,
         "end": 160578,
         "speaker": null,
         "start": 160412,
         "text": "the"
        },
        {
         "confidence": 0.99936,
         "end": 160794,
         "speaker": null,
         "start": 160604,
         "text": "right"
        },
        {
         "confidence": 0.5409,
         "end": 161038,
         "speaker": null,
         "start": 160832,
         "text": "version"
        },
        {
         "confidence": 1,
         "end": 161202,
         "speaker": null,
         "start": 161074,
         "text": "of"
        },
        {
         "confidence": 0.99699,
         "end": 161614,
         "speaker": null,
         "start": 161216,
         "text": "Python"
        },
        {
         "confidence": 0.99894,
         "end": 161802,
         "speaker": null,
         "start": 161662,
         "text": "on"
        },
        {
         "confidence": 0.998,
         "end": 161958,
         "speaker": null,
         "start": 161816,
         "text": "his"
        },
        {
         "confidence": 0.99996,
         "end": 162318,
         "speaker": null,
         "start": 161984,
         "text": "computer."
        },
        {
         "confidence": 0.99857,
         "end": 162742,
         "speaker": null,
         "start": 162404,
         "text": "Honestly,"
        },
        {
         "confidence": 0.98,
         "end": 162882,
         "speaker": null,
         "start": 162766,
         "text": "I"
        },
        {
         "confidence": 0.99686,
         "end": 162966,
         "speaker": null,
         "start": 162896,
         "text": "was"
        },
        {
         "confidence": 0.97,
         "end": 163026,
         "speaker": null,
         "start": 162968,
         "text": "a"
        },
        {
         "confidence": 0.99742,
         "end": 163122,
         "speaker": null,
         "start": 163028,
         "text": "bit"
        },
        {
         "confidence": 0.99628,
         "end": 163306,
         "speaker": null,
         "start": 163136,
         "text": "torn"
        },
        {
         "confidence": 0.9959,
         "end": 163422,
         "speaker": null,
         "start": 163318,
         "text": "on"
        },
        {
         "confidence": 0.99601,
         "end": 163578,
         "speaker": null,
         "start": 163436,
         "text": "this"
        },
        {
         "confidence": 0.99349,
         "end": 163902,
         "speaker": null,
         "start": 163604,
         "text": "too."
        },
        {
         "confidence": 0.78293,
         "end": 164178,
         "speaker": null,
         "start": 163976,
         "text": "So,"
        },
        {
         "confidence": 1,
         "end": 164358,
         "speaker": null,
         "start": 164204,
         "text": "for"
        },
        {
         "confidence": 0.99995,
         "end": 164646,
         "speaker": null,
         "start": 164384,
         "text": "example,"
        },
        {
         "confidence": 0.99363,
         "end": 164898,
         "speaker": null,
         "start": 164708,
         "text": "what"
        },
        {
         "confidence": 0.9388,
         "end": 165222,
         "speaker": null,
         "start": 164924,
         "text": "IDE"
        },
        {
         "confidence": 0.99815,
         "end": 165462,
         "speaker": null,
         "start": 165296,
         "text": "should"
        },
        {
         "confidence": 0.55817,
         "end": 165582,
         "speaker": null,
         "start": 165476,
         "text": "have"
        },
        {
         "confidence": 0.98989,
         "end": 165846,
         "speaker": null,
         "start": 165596,
         "text": "used?"
        },
        {
         "confidence": 0.87051,
         "end": 166062,
         "speaker": null,
         "start": 165908,
         "text": "Does"
        },
        {
         "confidence": 0.73593,
         "end": 166146,
         "speaker": null,
         "start": 166076,
         "text": "he"
        },
        {
         "confidence": 0.99574,
         "end": 166278,
         "speaker": null,
         "start": 166148,
         "text": "even"
        },
        {
         "confidence": 0.9968,
         "end": 166458,
         "speaker": null,
         "start": 166304,
         "text": "know"
        },
        {
         "confidence": 0.99916,
         "end": 166638,
         "speaker": null,
         "start": 166484,
         "text": "what"
        },
        {
         "confidence": 0.97061,
         "end": 166962,
         "speaker": null,
         "start": 166664,
         "text": "IDE"
        },
        {
         "confidence": 0.98431,
         "end": 167302,
         "speaker": null,
         "start": 167036,
         "text": "stands"
        },
        {
         "confidence": 0.99,
         "end": 167550,
         "speaker": null,
         "start": 167326,
         "text": "for?"
        },
        {
         "confidence": 0.83,
         "end": 167742,
         "speaker": null,
         "start": 167600,
         "text": "For"
        },
        {
         "confidence": 0.99935,
         "end": 167898,
         "speaker": null,
         "start": 167756,
         "text": "those"
        },
        {
         "confidence": 0.99887,
         "end": 168042,
         "speaker": null,
         "start": 167924,
         "text": "who"
        },
        {
         "confidence": 0.55287,
         "end": 168238,
         "speaker": null,
         "start": 168056,
         "text": "don't"
        },
        {
         "confidence": 0.99975,
         "end": 168474,
         "speaker": null,
         "start": 168274,
         "text": "know"
        },
        {
         "confidence": 0.63,
         "end": 168678,
         "speaker": null,
         "start": 168512,
         "text": "and"
        },
        {
         "confidence": 0.96121,
         "end": 168858,
         "speaker": null,
         "start": 168704,
         "text": "who"
        },
        {
         "confidence": 0.99739,
         "end": 169002,
         "speaker": null,
         "start": 168884,
         "text": "are"
        },
        {
         "confidence": 1,
         "end": 169338,
         "speaker": null,
         "start": 169016,
         "text": "new,"
        },
        {
         "confidence": 0.00948,
         "end": 169782,
         "speaker": null,
         "start": 169424,
         "text": "ID"
        },
        {
         "confidence": 0.97404,
         "end": 170242,
         "speaker": null,
         "start": 169856,
         "text": "stands"
        },
        {
         "confidence": 1,
         "end": 170454,
         "speaker": null,
         "start": 170266,
         "text": "for"
        },
        {
         "confidence": 0.94587,
         "end": 171022,
         "speaker": null,
         "start": 170492,
         "text": "Integrated"
        },
        {
         "confidence": 0.99978,
         "end": 171634,
         "speaker": null,
         "start": 171106,
         "text": "Development"
        },
        {
         "confidence": 0.57617,
         "end": 172366,
         "speaker": null,
         "start": 171682,
         "text": "Environment."
        },
        {
         "confidence": 0.81527,
         "end": 172758,
         "speaker": null,
         "start": 172498,
         "text": "So"
        },
        {
         "confidence": 0.99785,
         "end": 172938,
         "speaker": null,
         "start": 172784,
         "text": "this"
        },
        {
         "confidence": 0.99488,
         "end": 173118,
         "speaker": null,
         "start": 172964,
         "text": "is"
        },
        {
         "confidence": 0.99891,
         "end": 173470,
         "speaker": null,
         "start": 173144,
         "text": "essentially"
        },
        {
         "confidence": 0.99092,
         "end": 173754,
         "speaker": null,
         "start": 173530,
         "text": "just"
        },
        {
         "confidence": 0.56,
         "end": 173922,
         "speaker": null,
         "start": 173792,
         "text": "a"
        },
        {
         "confidence": 0.99584,
         "end": 174114,
         "speaker": null,
         "start": 173936,
         "text": "text"
        },
        {
         "confidence": 0.97737,
         "end": 174382,
         "speaker": null,
         "start": 174152,
         "text": "editor"
        },
        {
         "confidence": 0.54825,
         "end": 174594,
         "speaker": null,
         "start": 174406,
         "text": "you"
        },
        {
         "confidence": 0.93773,
         "end": 174834,
         "speaker": null,
         "start": 174632,
         "text": "use"
        },
        {
         "confidence": 1,
         "end": 175038,
         "speaker": null,
         "start": 174872,
         "text": "to"
        },
        {
         "confidence": 0.99954,
         "end": 175218,
         "speaker": null,
         "start": 175064,
         "text": "write"
        },
        {
         "confidence": 0.99951,
         "end": 175362,
         "speaker": null,
         "start": 175244,
         "text": "your"
        },
        {
         "confidence": 0.58103,
         "end": 175698,
         "speaker": null,
         "start": 175376,
         "text": "code."
        },
        {
         "confidence": 0.99957,
         "end": 175998,
         "speaker": null,
         "start": 175784,
         "text": "If"
        },
        {
         "confidence": 0.99923,
         "end": 176142,
         "speaker": null,
         "start": 176024,
         "text": "you"
        },
        {
         "confidence": 0.53981,
         "end": 176262,
         "speaker": null,
         "start": 176156,
         "text": "were"
        },
        {
         "confidence": 0.99944,
         "end": 176530,
         "speaker": null,
         "start": 176276,
         "text": "writing"
        },
        {
         "confidence": 0.99546,
         "end": 176778,
         "speaker": null,
         "start": 176590,
         "text": "an"
        },
        {
         "confidence": 0.99599,
         "end": 177202,
         "speaker": null,
         "start": 176804,
         "text": "essay,"
        },
        {
         "confidence": 0.92444,
         "end": 177462,
         "speaker": null,
         "start": 177286,
         "text": "you"
        },
        {
         "confidence": 0.7903,
         "end": 177618,
         "speaker": null,
         "start": 177476,
         "text": "could"
        },
        {
         "confidence": 0.99723,
         "end": 177870,
         "speaker": null,
         "start": 177644,
         "text": "choose"
        },
        {
         "confidence": 1,
         "end": 178062,
         "speaker": null,
         "start": 177920,
         "text": "to"
        },
        {
         "confidence": 0.99867,
         "end": 178218,
         "speaker": null,
         "start": 178076,
         "text": "use"
        },
        {
         "confidence": 0.9762,
         "end": 178642,
         "speaker": null,
         "start": 178244,
         "text": "Microsoft"
        },
        {
         "confidence": 0.75502,
         "end": 178890,
         "speaker": null,
         "start": 178666,
         "text": "Word."
        },
        {
         "confidence": 0.72092,
         "end": 179082,
         "speaker": null,
         "start": 178940,
         "text": "You"
        },
        {
         "confidence": 0.97635,
         "end": 179202,
         "speaker": null,
         "start": 179096,
         "text": "could"
        },
        {
         "confidence": 0.99841,
         "end": 179358,
         "speaker": null,
         "start": 179216,
         "text": "use"
        },
        {
         "confidence": 0.99844,
         "end": 179610,
         "speaker": null,
         "start": 179384,
         "text": "Google"
        },
        {
         "confidence": 0.98122,
         "end": 180202,
         "speaker": null,
         "start": 179660,
         "text": "Docs,"
        },
        {
         "confidence": 0.69806,
         "end": 180462,
         "speaker": null,
         "start": 180286,
         "text": "you"
        },
        {
         "confidence": 0.91998,
         "end": 180618,
         "speaker": null,
         "start": 180476,
         "text": "could"
        },
        {
         "confidence": 0.99939,
         "end": 180798,
         "speaker": null,
         "start": 180644,
         "text": "use"
        },
        {
         "confidence": 0.99812,
         "end": 181294,
         "speaker": null,
         "start": 180824,
         "text": "Notepad,"
        },
        {
         "confidence": 0.99942,
         "end": 181482,
         "speaker": null,
         "start": 181342,
         "text": "or"
        },
        {
         "confidence": 0.99349,
         "end": 181674,
         "speaker": null,
         "start": 181496,
         "text": "maybe"
        },
        {
         "confidence": 0.99822,
         "end": 181914,
         "speaker": null,
         "start": 181712,
         "text": "even"
        },
        {
         "confidence": 0.97416,
         "end": 182370,
         "speaker": null,
         "start": 181952,
         "text": "just"
        },
        {
         "confidence": 0.99966,
         "end": 182782,
         "speaker": null,
         "start": 182480,
         "text": "straight"
        },
        {
         "confidence": 0.71924,
         "end": 182922,
         "speaker": null,
         "start": 182806,
         "text": "up"
        },
        {
         "confidence": 0.99899,
         "end": 183078,
         "speaker": null,
         "start": 182936,
         "text": "pen"
        },
        {
         "confidence": 0.99,
         "end": 183222,
         "speaker": null,
         "start": 183104,
         "text": "and"
        },
        {
         "confidence": 0.99998,
         "end": 183486,
         "speaker": null,
         "start": 183236,
         "text": "paper."
        },
        {
         "confidence": 0.99675,
         "end": 183738,
         "speaker": null,
         "start": 183548,
         "text": "Just"
        },
        {
         "confidence": 0.99778,
         "end": 183918,
         "speaker": null,
         "start": 183764,
         "text": "like"
        },
        {
         "confidence": 0.91262,
         "end": 184062,
         "speaker": null,
         "start": 183944,
         "text": "there"
        },
        {
         "confidence": 0.9613,
         "end": 184146,
         "speaker": null,
         "start": 184076,
         "text": "are"
        },
        {
         "confidence": 0.98887,
         "end": 184278,
         "speaker": null,
         "start": 184148,
         "text": "these"
        },
        {
         "confidence": 0.9999,
         "end": 184494,
         "speaker": null,
         "start": 184304,
         "text": "different"
        },
        {
         "confidence": 0.93876,
         "end": 184942,
         "speaker": null,
         "start": 184532,
         "text": "mediums"
        },
        {
         "confidence": 0.99,
         "end": 185046,
         "speaker": null,
         "start": 184966,
         "text": "for"
        },
        {
         "confidence": 0.99678,
         "end": 185106,
         "speaker": null,
         "start": 185048,
         "text": "you"
        },
        {
         "confidence": 0.53,
         "end": 185238,
         "speaker": null,
         "start": 185108,
         "text": "to"
        },
        {
         "confidence": 0.9995,
         "end": 185418,
         "speaker": null,
         "start": 185264,
         "text": "write"
        },
        {
         "confidence": 0.99585,
         "end": 185598,
         "speaker": null,
         "start": 185444,
         "text": "your"
        },
        {
         "confidence": 0.99991,
         "end": 185778,
         "speaker": null,
         "start": 185624,
         "text": "last"
        },
        {
         "confidence": 0.77,
         "end": 185998,
         "speaker": null,
         "start": 185804,
         "text": "minute"
        },
        {
         "confidence": 0.99995,
         "end": 186414,
         "speaker": null,
         "start": 186034,
         "text": "paper."
        },
        {
         "confidence": 0.99885,
         "end": 186774,
         "speaker": null,
         "start": 186512,
         "text": "Data"
        },
        {
         "confidence": 0.97926,
         "end": 187162,
         "speaker": null,
         "start": 186812,
         "text": "scientists"
        },
        {
         "confidence": 1,
         "end": 187302,
         "speaker": null,
         "start": 187186,
         "text": "and"
        },
        {
         "confidence": 0.78262,
         "end": 187558,
         "speaker": null,
         "start": 187316,
         "text": "software"
        },
        {
         "confidence": 0.99918,
         "end": 188158,
         "speaker": null,
         "start": 187594,
         "text": "engineers"
        },
        {
         "confidence": 0.99817,
         "end": 188514,
         "speaker": null,
         "start": 188254,
         "text": "need"
        },
        {
         "confidence": 0.99852,
         "end": 188842,
         "speaker": null,
         "start": 188552,
         "text": "places"
        },
        {
         "confidence": 1,
         "end": 188982,
         "speaker": null,
         "start": 188866,
         "text": "to"
        },
        {
         "confidence": 0.99924,
         "end": 189138,
         "speaker": null,
         "start": 188996,
         "text": "write"
        },
        {
         "confidence": 0.99794,
         "end": 189318,
         "speaker": null,
         "start": 189164,
         "text": "their"
        },
        {
         "confidence": 0.99994,
         "end": 189786,
         "speaker": null,
         "start": 189344,
         "text": "code."
        },
        {
         "confidence": 0.99925,
         "end": 190194,
         "speaker": null,
         "start": 189908,
         "text": "These"
        },
        {
         "confidence": 0.99907,
         "end": 190594,
         "speaker": null,
         "start": 190232,
         "text": "places"
        },
        {
         "confidence": 0.99836,
         "end": 190818,
         "speaker": null,
         "start": 190642,
         "text": "are"
        },
        {
         "confidence": 0.99879,
         "end": 191034,
         "speaker": null,
         "start": 190844,
         "text": "called"
        },
        {
         "confidence": 0.03032,
         "end": 191686,
         "speaker": null,
         "start": 191072,
         "text": "IDs."
        },
        {
         "confidence": 0.76,
         "end": 191958,
         "speaker": null,
         "start": 191758,
         "text": "And"
        },
        {
         "confidence": 0.99881,
         "end": 192138,
         "speaker": null,
         "start": 191984,
         "text": "just"
        },
        {
         "confidence": 0.99704,
         "end": 192282,
         "speaker": null,
         "start": 192164,
         "text": "like"
        },
        {
         "confidence": 0.94654,
         "end": 192718,
         "speaker": null,
         "start": 192296,
         "text": "Microsoft"
        },
        {
         "confidence": 0.99989,
         "end": 192954,
         "speaker": null,
         "start": 192754,
         "text": "Word"
        },
        {
         "confidence": 0.99711,
         "end": 193122,
         "speaker": null,
         "start": 192992,
         "text": "has"
        },
        {
         "confidence": 0.90745,
         "end": 193342,
         "speaker": null,
         "start": 193136,
         "text": "spell"
        },
        {
         "confidence": 0.95928,
         "end": 193554,
         "speaker": null,
         "start": 193366,
         "text": "track"
        },
        {
         "confidence": 0.85,
         "end": 193758,
         "speaker": null,
         "start": 193592,
         "text": "and"
        },
        {
         "confidence": 0.99916,
         "end": 194182,
         "speaker": null,
         "start": 193784,
         "text": "formatting"
        },
        {
         "confidence": 1,
         "end": 194322,
         "speaker": null,
         "start": 194206,
         "text": "to"
        },
        {
         "confidence": 0.99927,
         "end": 194442,
         "speaker": null,
         "start": 194336,
         "text": "make"
        },
        {
         "confidence": 0.99953,
         "end": 194562,
         "speaker": null,
         "start": 194456,
         "text": "sure"
        },
        {
         "confidence": 0.98611,
         "end": 194682,
         "speaker": null,
         "start": 194576,
         "text": "that"
        },
        {
         "confidence": 0.9994,
         "end": 194766,
         "speaker": null,
         "start": 194696,
         "text": "you"
        },
        {
         "confidence": 0.85454,
         "end": 194926,
         "speaker": null,
         "start": 194768,
         "text": "don't"
        },
        {
         "confidence": 0.99818,
         "end": 195078,
         "speaker": null,
         "start": 194938,
         "text": "make"
        },
        {
         "confidence": 0.58146,
         "end": 195562,
         "speaker": null,
         "start": 195104,
         "text": "grammatical"
        },
        {
         "confidence": 0.33284,
         "end": 196174,
         "speaker": null,
         "start": 195586,
         "text": "errors,"
        },
        {
         "confidence": 0.99953,
         "end": 196590,
         "speaker": null,
         "start": 196282,
         "text": "many"
        },
        {
         "confidence": 0.16785,
         "end": 197122,
         "speaker": null,
         "start": 196640,
         "text": "ideas"
        },
        {
         "confidence": 0.99534,
         "end": 197334,
         "speaker": null,
         "start": 197146,
         "text": "help"
        },
        {
         "confidence": 0.99705,
         "end": 197610,
         "speaker": null,
         "start": 197372,
         "text": "you"
        },
        {
         "confidence": 0.99,
         "end": 197838,
         "speaker": null,
         "start": 197660,
         "text": "to"
        },
        {
         "confidence": 0.9994,
         "end": 198018,
         "speaker": null,
         "start": 197864,
         "text": "make"
        },
        {
         "confidence": 0.99991,
         "end": 198198,
         "speaker": null,
         "start": 198044,
         "text": "sure"
        },
        {
         "confidence": 0.99526,
         "end": 198342,
         "speaker": null,
         "start": 198224,
         "text": "that"
        },
        {
         "confidence": 0.77002,
         "end": 198498,
         "speaker": null,
         "start": 198356,
         "text": "you"
        },
        {
         "confidence": 0.99894,
         "end": 198822,
         "speaker": null,
         "start": 198524,
         "text": "have"
        },
        {
         "confidence": 0.9992,
         "end": 199170,
         "speaker": null,
         "start": 198896,
         "text": "proper"
        },
        {
         "confidence": 0.9551,
         "end": 199678,
         "speaker": null,
         "start": 199220,
         "text": "syntax"
        },
        {
         "confidence": 0.99584,
         "end": 199842,
         "speaker": null,
         "start": 199714,
         "text": "in"
        },
        {
         "confidence": 0.99935,
         "end": 199962,
         "speaker": null,
         "start": 199856,
         "text": "your"
        },
        {
         "confidence": 0.99961,
         "end": 200262,
         "speaker": null,
         "start": 199976,
         "text": "code."
        },
        {
         "confidence": 0.99932,
         "end": 200538,
         "speaker": null,
         "start": 200336,
         "text": "In"
        },
        {
         "confidence": 0.99945,
         "end": 201210,
         "speaker": null,
         "start": 200564,
         "text": "theory,"
        },
        {
         "confidence": 0.99907,
         "end": 202126,
         "speaker": null,
         "start": 201530,
         "text": "technically,"
        },
        {
         "confidence": 0.98148,
         "end": 202678,
         "speaker": null,
         "start": 202198,
         "text": "Microsoft"
        },
        {
         "confidence": 0.9323,
         "end": 202986,
         "speaker": null,
         "start": 202714,
         "text": "Word"
        },
        {
         "confidence": 0.99866,
         "end": 203238,
         "speaker": null,
         "start": 203048,
         "text": "would"
        },
        {
         "confidence": 0.9991,
         "end": 203418,
         "speaker": null,
         "start": 203264,
         "text": "be"
        },
        {
         "confidence": 0.99899,
         "end": 203842,
         "speaker": null,
         "start": 203444,
         "text": "considered"
        },
        {
         "confidence": 0.99607,
         "end": 203982,
         "speaker": null,
         "start": 203866,
         "text": "an"
        },
        {
         "confidence": 0.02699,
         "end": 204426,
         "speaker": null,
         "start": 203996,
         "text": "idea,"
        },
        {
         "confidence": 0.99811,
         "end": 204762,
         "speaker": null,
         "start": 204548,
         "text": "but"
        },
        {
         "confidence": 0.96,
         "end": 204918,
         "speaker": null,
         "start": 204776,
         "text": "I"
        },
        {
         "confidence": 0.99616,
         "end": 205206,
         "speaker": null,
         "start": 204944,
         "text": "definitely"
        },
        {
         "confidence": 0.98914,
         "end": 205498,
         "speaker": null,
         "start": 205268,
         "text": "don't"
        },
        {
         "confidence": 0.99978,
         "end": 205842,
         "speaker": null,
         "start": 205534,
         "text": "recommend"
        },
        {
         "confidence": 0.999,
         "end": 206154,
         "speaker": null,
         "start": 205916,
         "text": "using"
        },
        {
         "confidence": 1,
         "end": 206322,
         "speaker": null,
         "start": 206192,
         "text": "it"
        },
        {
         "confidence": 0.99372,
         "end": 206442,
         "speaker": null,
         "start": 206336,
         "text": "as"
        },
        {
         "confidence": 0.99963,
         "end": 206742,
         "speaker": null,
         "start": 206456,
         "text": "such"
        },
        {
         "confidence": 0.99848,
         "end": 207118,
         "speaker": null,
         "start": 206816,
         "text": "unless"
        },
        {
         "confidence": 0.83798,
         "end": 207286,
         "speaker": null,
         "start": 207154,
         "text": "you're"
        },
        {
         "confidence": 0.01725,
         "end": 207478,
         "speaker": null,
         "start": 207298,
         "text": "jump"
        },
        {
         "confidence": 0.06412,
         "end": 207886,
         "speaker": null,
         "start": 207514,
         "text": "ate."
        },
        {
         "confidence": 0.99842,
         "end": 208158,
         "speaker": null,
         "start": 207958,
         "text": "This"
        },
        {
         "confidence": 0.99444,
         "end": 208302,
         "speaker": null,
         "start": 208184,
         "text": "is"
        },
        {
         "confidence": 0.97,
         "end": 208422,
         "speaker": null,
         "start": 208316,
         "text": "a"
        },
        {
         "confidence": 0.99995,
         "end": 208614,
         "speaker": null,
         "start": 208436,
         "text": "list"
        },
        {
         "confidence": 1,
         "end": 208782,
         "speaker": null,
         "start": 208652,
         "text": "of"
        },
        {
         "confidence": 0.97,
         "end": 208938,
         "speaker": null,
         "start": 208796,
         "text": "the"
        },
        {
         "confidence": 0.99844,
         "end": 209118,
         "speaker": null,
         "start": 208964,
         "text": "most"
        },
        {
         "confidence": 0.99984,
         "end": 209518,
         "speaker": null,
         "start": 209144,
         "text": "commonly"
        },
        {
         "confidence": 0.9994,
         "end": 209790,
         "speaker": null,
         "start": 209554,
         "text": "used"
        },
        {
         "confidence": 0.89911,
         "end": 210358,
         "speaker": null,
         "start": 209840,
         "text": "Ides"
        },
        {
         "confidence": 0.98603,
         "end": 210486,
         "speaker": null,
         "start": 210394,
         "text": "in"
        },
        {
         "confidence": 0.99,
         "end": 210582,
         "speaker": null,
         "start": 210488,
         "text": "the"
        },
        {
         "confidence": 0.99625,
         "end": 210774,
         "speaker": null,
         "start": 210596,
         "text": "data"
        },
        {
         "confidence": 0.98163,
         "end": 211354,
         "speaker": null,
         "start": 210812,
         "text": "domain."
        },
        {
         "confidence": 0.77,
         "end": 211698,
         "speaker": null,
         "start": 211462,
         "text": "And"
        },
        {
         "confidence": 0.99915,
         "end": 211878,
         "speaker": null,
         "start": 211724,
         "text": "as"
        },
        {
         "confidence": 0.99939,
         "end": 211986,
         "speaker": null,
         "start": 211904,
         "text": "you"
        },
        {
         "confidence": 0.99734,
         "end": 212082,
         "speaker": null,
         "start": 211988,
         "text": "can"
        },
        {
         "confidence": 0.99832,
         "end": 212310,
         "speaker": null,
         "start": 212096,
         "text": "see,"
        },
        {
         "confidence": 0.99906,
         "end": 212610,
         "speaker": null,
         "start": 212360,
         "text": "common"
        },
        {
         "confidence": 0.66593,
         "end": 213082,
         "speaker": null,
         "start": 212660,
         "text": "Ides"
        },
        {
         "confidence": 1,
         "end": 213222,
         "speaker": null,
         "start": 213106,
         "text": "for"
        },
        {
         "confidence": 0.84967,
         "end": 213634,
         "speaker": null,
         "start": 213236,
         "text": "Python"
        },
        {
         "confidence": 0.55054,
         "end": 213894,
         "speaker": null,
         "start": 213682,
         "text": "are"
        },
        {
         "confidence": 0.94227,
         "end": 214198,
         "speaker": null,
         "start": 213932,
         "text": "vs,"
        },
        {
         "confidence": 0.98038,
         "end": 214614,
         "speaker": null,
         "start": 214234,
         "text": "code,"
        },
        {
         "confidence": 0.95774,
         "end": 215158,
         "speaker": null,
         "start": 214712,
         "text": "jupyter,"
        },
        {
         "confidence": 0.99394,
         "end": 215626,
         "speaker": null,
         "start": 215194,
         "text": "notebook,"
        },
        {
         "confidence": 0.69744,
         "end": 216298,
         "speaker": null,
         "start": 215698,
         "text": "PyCharm,"
        },
        {
         "confidence": 0.99,
         "end": 216462,
         "speaker": null,
         "start": 216334,
         "text": "and"
        },
        {
         "confidence": 0.9717,
         "end": 217246,
         "speaker": null,
         "start": 216476,
         "text": "Spider."
        },
        {
         "confidence": 0.99564,
         "end": 217830,
         "speaker": null,
         "start": 217438,
         "text": "Before"
        },
        {
         "confidence": 0.99953,
         "end": 218166,
         "speaker": null,
         "start": 217880,
         "text": "anything"
        },
        {
         "confidence": 0.99995,
         "end": 218562,
         "speaker": null,
         "start": 218228,
         "text": "else,"
        },
        {
         "confidence": 1,
         "end": 218838,
         "speaker": null,
         "start": 218636,
         "text": "I"
        },
        {
         "confidence": 0.99521,
         "end": 219018,
         "speaker": null,
         "start": 218864,
         "text": "wanted"
        },
        {
         "confidence": 1,
         "end": 219162,
         "speaker": null,
         "start": 219044,
         "text": "to"
        },
        {
         "confidence": 0.99888,
         "end": 219318,
         "speaker": null,
         "start": 219176,
         "text": "give"
        },
        {
         "confidence": 0.99937,
         "end": 219498,
         "speaker": null,
         "start": 219344,
         "text": "him"
        },
        {
         "confidence": 0.99,
         "end": 219642,
         "speaker": null,
         "start": 219524,
         "text": "a"
        },
        {
         "confidence": 0.9816,
         "end": 219898,
         "speaker": null,
         "start": 219656,
         "text": "decent"
        },
        {
         "confidence": 0.99873,
         "end": 220474,
         "speaker": null,
         "start": 219934,
         "text": "understanding"
        },
        {
         "confidence": 0.99345,
         "end": 220734,
         "speaker": null,
         "start": 220522,
         "text": "about"
        },
        {
         "confidence": 0.99904,
         "end": 220938,
         "speaker": null,
         "start": 220772,
         "text": "how"
        },
        {
         "confidence": 1,
         "end": 221118,
         "speaker": null,
         "start": 220964,
         "text": "the"
        },
        {
         "confidence": 0.99953,
         "end": 221650,
         "speaker": null,
         "start": 221144,
         "text": "development"
        },
        {
         "confidence": 0.95771,
         "end": 222226,
         "speaker": null,
         "start": 221710,
         "text": "environments"
        },
        {
         "confidence": 0.97391,
         "end": 222642,
         "speaker": null,
         "start": 222298,
         "text": "work"
        },
        {
         "confidence": 0.99991,
         "end": 222954,
         "speaker": null,
         "start": 222716,
         "text": "before"
        },
        {
         "confidence": 0.94573,
         "end": 223158,
         "speaker": null,
         "start": 222992,
         "text": "we"
        },
        {
         "confidence": 0.95165,
         "end": 223402,
         "speaker": null,
         "start": 223184,
         "text": "picked"
        },
        {
         "confidence": 0.99,
         "end": 223722,
         "speaker": null,
         "start": 223426,
         "text": "one."
        },
        {
         "confidence": 0.99577,
         "end": 223962,
         "speaker": null,
         "start": 223796,
         "text": "As"
        },
        {
         "confidence": 0.93,
         "end": 224118,
         "speaker": null,
         "start": 223976,
         "text": "I"
        },
        {
         "confidence": 0.99988,
         "end": 224514,
         "speaker": null,
         "start": 224144,
         "text": "mentioned,"
        },
        {
         "confidence": 0.9997,
         "end": 224838,
         "speaker": null,
         "start": 224612,
         "text": "this"
        },
        {
         "confidence": 0.99343,
         "end": 225018,
         "speaker": null,
         "start": 224864,
         "text": "is"
        },
        {
         "confidence": 0.9999,
         "end": 225270,
         "speaker": null,
         "start": 225044,
         "text": "something"
        },
        {
         "confidence": 0.99642,
         "end": 225498,
         "speaker": null,
         "start": 225320,
         "text": "that"
        },
        {
         "confidence": 1,
         "end": 225678,
         "speaker": null,
         "start": 225524,
         "text": "I"
        },
        {
         "confidence": 0.99738,
         "end": 225894,
         "speaker": null,
         "start": 225704,
         "text": "was"
        },
        {
         "confidence": 0.99792,
         "end": 226258,
         "speaker": null,
         "start": 225932,
         "text": "totally"
        },
        {
         "confidence": 0.99976,
         "end": 226702,
         "speaker": null,
         "start": 226294,
         "text": "confused"
        },
        {
         "confidence": 0.99967,
         "end": 226914,
         "speaker": null,
         "start": 226726,
         "text": "about"
        },
        {
         "confidence": 0.99871,
         "end": 227118,
         "speaker": null,
         "start": 226952,
         "text": "when"
        },
        {
         "confidence": 1,
         "end": 227262,
         "speaker": null,
         "start": 227144,
         "text": "I"
        },
        {
         "confidence": 0.99947,
         "end": 227706,
         "speaker": null,
         "start": 227276,
         "text": "started."
        },
        {
         "confidence": 0.99924,
         "end": 228042,
         "speaker": null,
         "start": 227828,
         "text": "When"
        },
        {
         "confidence": 1,
         "end": 228162,
         "speaker": null,
         "start": 228056,
         "text": "I"
        },
        {
         "confidence": 0.98072,
         "end": 228346,
         "speaker": null,
         "start": 228176,
         "text": "learned"
        },
        {
         "confidence": 0.4,
         "end": 228462,
         "speaker": null,
         "start": 228358,
         "text": "to"
        },
        {
         "confidence": 0.99924,
         "end": 228762,
         "speaker": null,
         "start": 228476,
         "text": "code,"
        },
        {
         "confidence": 1,
         "end": 229002,
         "speaker": null,
         "start": 228836,
         "text": "I"
        },
        {
         "confidence": 0.99809,
         "end": 229158,
         "speaker": null,
         "start": 229016,
         "text": "was"
        },
        {
         "confidence": 0.99927,
         "end": 229446,
         "speaker": null,
         "start": 229184,
         "text": "using"
        },
        {
         "confidence": 0.84502,
         "end": 229990,
         "speaker": null,
         "start": 229508,
         "text": "Python"
        },
        {
         "confidence": 0.97,
         "end": 230238,
         "speaker": null,
         "start": 230050,
         "text": "and"
        },
        {
         "confidence": 0.99,
         "end": 230346,
         "speaker": null,
         "start": 230264,
         "text": "I"
        },
        {
         "confidence": 0.98209,
         "end": 230478,
         "speaker": null,
         "start": 230348,
         "text": "was"
        },
        {
         "confidence": 0.99932,
         "end": 230658,
         "speaker": null,
         "start": 230504,
         "text": "using"
        },
        {
         "confidence": 0.98743,
         "end": 230838,
         "speaker": null,
         "start": 230684,
         "text": "an"
        },
        {
         "confidence": 0.99829,
         "end": 231198,
         "speaker": null,
         "start": 230864,
         "text": "IDE"
        },
        {
         "confidence": 0.99833,
         "end": 231498,
         "speaker": null,
         "start": 231284,
         "text": "called"
        },
        {
         "confidence": 0.61003,
         "end": 232042,
         "speaker": null,
         "start": 231524,
         "text": "Idle."
        },
        {
         "confidence": 0.63951,
         "end": 232338,
         "speaker": null,
         "start": 232126,
         "text": "So"
        },
        {
         "confidence": 0.92943,
         "end": 232642,
         "speaker": null,
         "start": 232364,
         "text": "Idle"
        },
        {
         "confidence": 0.70414,
         "end": 232782,
         "speaker": null,
         "start": 232666,
         "text": "is"
        },
        {
         "confidence": 0.99985,
         "end": 232938,
         "speaker": null,
         "start": 232796,
         "text": "great"
        },
        {
         "confidence": 1,
         "end": 233118,
         "speaker": null,
         "start": 232964,
         "text": "for"
        },
        {
         "confidence": 0.99973,
         "end": 233478,
         "speaker": null,
         "start": 233144,
         "text": "learning,"
        },
        {
         "confidence": 0.9949,
         "end": 233814,
         "speaker": null,
         "start": 233564,
         "text": "but"
        },
        {
         "confidence": 0.9241,
         "end": 234022,
         "speaker": null,
         "start": 233852,
         "text": "I've"
        },
        {
         "confidence": 0.98814,
         "end": 234406,
         "speaker": null,
         "start": 234046,
         "text": "literally"
        },
        {
         "confidence": 0.99914,
         "end": 234822,
         "speaker": null,
         "start": 234478,
         "text": "never"
        },
        {
         "confidence": 0.99712,
         "end": 235170,
         "speaker": null,
         "start": 234896,
         "text": "once"
        },
        {
         "confidence": 0.99654,
         "end": 235486,
         "speaker": null,
         "start": 235220,
         "text": "touched"
        },
        {
         "confidence": 0.7,
         "end": 235638,
         "speaker": null,
         "start": 235498,
         "text": "it"
        },
        {
         "confidence": 0.96987,
         "end": 236106,
         "speaker": null,
         "start": 235664,
         "text": "since,"
        },
        {
         "confidence": 0.72,
         "end": 236658,
         "speaker": null,
         "start": 236228,
         "text": "and"
        },
        {
         "confidence": 0.99,
         "end": 236958,
         "speaker": null,
         "start": 236744,
         "text": "I"
        },
        {
         "confidence": 0.85169,
         "end": 237142,
         "speaker": null,
         "start": 236984,
         "text": "don't"
        },
        {
         "confidence": 0.99931,
         "end": 237282,
         "speaker": null,
         "start": 237166,
         "text": "use"
        },
        {
         "confidence": 0.99,
         "end": 237402,
         "speaker": null,
         "start": 237296,
         "text": "it"
        },
        {
         "confidence": 0.99581,
         "end": 237522,
         "speaker": null,
         "start": 237416,
         "text": "on"
        },
        {
         "confidence": 0.99475,
         "end": 237678,
         "speaker": null,
         "start": 237536,
         "text": "any"
        },
        {
         "confidence": 0.98471,
         "end": 237930,
         "speaker": null,
         "start": 237704,
         "text": "data"
        },
        {
         "confidence": 0.87994,
         "end": 238342,
         "speaker": null,
         "start": 237980,
         "text": "projects"
        },
        {
         "confidence": 0.67467,
         "end": 238482,
         "speaker": null,
         "start": 238366,
         "text": "in"
        },
        {
         "confidence": 0.9988,
         "end": 238638,
         "speaker": null,
         "start": 238496,
         "text": "any"
        },
        {
         "confidence": 0.99,
         "end": 238746,
         "speaker": null,
         "start": 238664,
         "text": "of"
        },
        {
         "confidence": 0.78473,
         "end": 238878,
         "speaker": null,
         "start": 238748,
         "text": "my"
        },
        {
         "confidence": 0.99868,
         "end": 239274,
         "speaker": null,
         "start": 238904,
         "text": "work."
        },
        {
         "confidence": 1,
         "end": 239598,
         "speaker": null,
         "start": 239372,
         "text": "I"
        },
        {
         "confidence": 0.98077,
         "end": 239814,
         "speaker": null,
         "start": 239624,
         "text": "wanted"
        },
        {
         "confidence": 1,
         "end": 239982,
         "speaker": null,
         "start": 239852,
         "text": "to"
        },
        {
         "confidence": 0.79368,
         "end": 240138,
         "speaker": null,
         "start": 239996,
         "text": "make"
        },
        {
         "confidence": 0.99997,
         "end": 240390,
         "speaker": null,
         "start": 240164,
         "text": "sure"
        },
        {
         "confidence": 0.99659,
         "end": 240762,
         "speaker": null,
         "start": 240440,
         "text": "that"
        },
        {
         "confidence": 0.99922,
         "end": 241038,
         "speaker": null,
         "start": 240836,
         "text": "my"
        },
        {
         "confidence": 0.9852,
         "end": 241254,
         "speaker": null,
         "start": 241064,
         "text": "friend"
        },
        {
         "confidence": 0.978,
         "end": 241458,
         "speaker": null,
         "start": 241292,
         "text": "was"
        },
        {
         "confidence": 0.99977,
         "end": 241674,
         "speaker": null,
         "start": 241484,
         "text": "using"
        },
        {
         "confidence": 0.9999,
         "end": 241986,
         "speaker": null,
         "start": 241712,
         "text": "something"
        },
        {
         "confidence": 0.9987,
         "end": 242202,
         "speaker": null,
         "start": 242048,
         "text": "that"
        },
        {
         "confidence": 0.68981,
         "end": 242322,
         "speaker": null,
         "start": 242216,
         "text": "would"
        },
        {
         "confidence": 0.99058,
         "end": 242514,
         "speaker": null,
         "start": 242336,
         "text": "be"
        },
        {
         "confidence": 0.97992,
         "end": 243130,
         "speaker": null,
         "start": 242552,
         "text": "representative"
        },
        {
         "confidence": 1,
         "end": 243342,
         "speaker": null,
         "start": 243190,
         "text": "of"
        },
        {
         "confidence": 0.99894,
         "end": 243498,
         "speaker": null,
         "start": 243356,
         "text": "what"
        },
        {
         "confidence": 0.99834,
         "end": 243678,
         "speaker": null,
         "start": 243524,
         "text": "he"
        },
        {
         "confidence": 0.85118,
         "end": 243930,
         "speaker": null,
         "start": 243704,
         "text": "might"
        },
        {
         "confidence": 0.99989,
         "end": 244194,
         "speaker": null,
         "start": 243980,
         "text": "see"
        },
        {
         "confidence": 0.99975,
         "end": 244362,
         "speaker": null,
         "start": 244232,
         "text": "in"
        },
        {
         "confidence": 1,
         "end": 244482,
         "speaker": null,
         "start": 244376,
         "text": "the"
        },
        {
         "confidence": 1,
         "end": 244638,
         "speaker": null,
         "start": 244496,
         "text": "real"
        },
        {
         "confidence": 0.99856,
         "end": 244926,
         "speaker": null,
         "start": 244664,
         "text": "world,"
        },
        {
         "confidence": 0.99861,
         "end": 245178,
         "speaker": null,
         "start": 244988,
         "text": "what"
        },
        {
         "confidence": 0.96592,
         "end": 245466,
         "speaker": null,
         "start": 245204,
         "text": "people"
        },
        {
         "confidence": 0.99759,
         "end": 245862,
         "speaker": null,
         "start": 245528,
         "text": "actually"
        },
        {
         "confidence": 0.99355,
         "end": 246282,
         "speaker": null,
         "start": 245936,
         "text": "use."
        },
        {
         "confidence": 1,
         "end": 246522,
         "speaker": null,
         "start": 246356,
         "text": "For"
        },
        {
         "confidence": 0.99668,
         "end": 246678,
         "speaker": null,
         "start": 246536,
         "text": "this"
        },
        {
         "confidence": 0.99948,
         "end": 246966,
         "speaker": null,
         "start": 246704,
         "text": "specific"
        },
        {
         "confidence": 0.6679,
         "end": 247326,
         "speaker": null,
         "start": 247028,
         "text": "friend,"
        },
        {
         "confidence": 1,
         "end": 247578,
         "speaker": null,
         "start": 247388,
         "text": "I"
        },
        {
         "confidence": 0.78633,
         "end": 248002,
         "speaker": null,
         "start": 247604,
         "text": "recommended"
        },
        {
         "confidence": 0.99304,
         "end": 248142,
         "speaker": null,
         "start": 248026,
         "text": "that"
        },
        {
         "confidence": 0.97682,
         "end": 248262,
         "speaker": null,
         "start": 248156,
         "text": "he"
        },
        {
         "confidence": 0.03516,
         "end": 248418,
         "speaker": null,
         "start": 248276,
         "text": "started"
        },
        {
         "confidence": 0.97932,
         "end": 248634,
         "speaker": null,
         "start": 248444,
         "text": "learning"
        },
        {
         "confidence": 0.58,
         "end": 248838,
         "speaker": null,
         "start": 248672,
         "text": "the"
        },
        {
         "confidence": 0.86448,
         "end": 249226,
         "speaker": null,
         "start": 248864,
         "text": "basics"
        },
        {
         "confidence": 0.99804,
         "end": 249498,
         "speaker": null,
         "start": 249298,
         "text": "with"
        },
        {
         "confidence": 0.41545,
         "end": 249678,
         "speaker": null,
         "start": 249524,
         "text": "this"
        },
        {
         "confidence": 0.99982,
         "end": 250038,
         "speaker": null,
         "start": 249704,
         "text": "video"
        },
        {
         "confidence": 0.99871,
         "end": 250338,
         "speaker": null,
         "start": 250124,
         "text": "from"
        },
        {
         "confidence": 0.01925,
         "end": 250978,
         "speaker": null,
         "start": 250364,
         "text": "Precocamp."
        },
        {
         "confidence": 0.83841,
         "end": 251182,
         "speaker": null,
         "start": 251014,
         "text": "I've"
        },
        {
         "confidence": 0.52873,
         "end": 251422,
         "speaker": null,
         "start": 251206,
         "text": "linked"
        },
        {
         "confidence": 1,
         "end": 251598,
         "speaker": null,
         "start": 251446,
         "text": "it"
        },
        {
         "confidence": 1,
         "end": 251778,
         "speaker": null,
         "start": 251624,
         "text": "and"
        },
        {
         "confidence": 0.99603,
         "end": 251958,
         "speaker": null,
         "start": 251804,
         "text": "all"
        },
        {
         "confidence": 0.98799,
         "end": 252138,
         "speaker": null,
         "start": 251984,
         "text": "other"
        },
        {
         "confidence": 0.61228,
         "end": 252598,
         "speaker": null,
         "start": 252164,
         "text": "resources"
        },
        {
         "confidence": 0.99841,
         "end": 252726,
         "speaker": null,
         "start": 252634,
         "text": "in"
        },
        {
         "confidence": 0.97,
         "end": 252822,
         "speaker": null,
         "start": 252728,
         "text": "the"
        },
        {
         "confidence": 0.65735,
         "end": 253474,
         "speaker": null,
         "start": 252836,
         "text": "description."
        },
        {
         "confidence": 0.83584,
         "end": 253818,
         "speaker": null,
         "start": 253582,
         "text": "So"
        },
        {
         "confidence": 0.99473,
         "end": 253926,
         "speaker": null,
         "start": 253844,
         "text": "in"
        },
        {
         "confidence": 0.98,
         "end": 254022,
         "speaker": null,
         "start": 253928,
         "text": "the"
        },
        {
         "confidence": 0.99923,
         "end": 254214,
         "speaker": null,
         "start": 254036,
         "text": "video,"
        },
        {
         "confidence": 0.99835,
         "end": 254418,
         "speaker": null,
         "start": 254252,
         "text": "they"
        },
        {
         "confidence": 0.99978,
         "end": 254562,
         "speaker": null,
         "start": 254444,
         "text": "show"
        },
        {
         "confidence": 0.99293,
         "end": 254646,
         "speaker": null,
         "start": 254576,
         "text": "you"
        },
        {
         "confidence": 0.99906,
         "end": 254742,
         "speaker": null,
         "start": 254648,
         "text": "how"
        },
        {
         "confidence": 1,
         "end": 254826,
         "speaker": null,
         "start": 254756,
         "text": "to"
        },
        {
         "confidence": 0.91415,
         "end": 254922,
         "speaker": null,
         "start": 254828,
         "text": "set"
        },
        {
         "confidence": 0.56325,
         "end": 255042,
         "speaker": null,
         "start": 254936,
         "text": "up"
        },
        {
         "confidence": 0.72,
         "end": 255162,
         "speaker": null,
         "start": 255056,
         "text": "the"
        },
        {
         "confidence": 0.43031,
         "end": 255562,
         "speaker": null,
         "start": 255176,
         "text": "PyCharm"
        },
        {
         "confidence": 0.99948,
         "end": 256066,
         "speaker": null,
         "start": 255586,
         "text": "environment"
        },
        {
         "confidence": 1,
         "end": 256338,
         "speaker": null,
         "start": 256138,
         "text": "and"
        },
        {
         "confidence": 0.9986,
         "end": 256518,
         "speaker": null,
         "start": 256364,
         "text": "get"
        },
        {
         "confidence": 0.99971,
         "end": 256858,
         "speaker": null,
         "start": 256544,
         "text": "comfortable"
        },
        {
         "confidence": 0.99977,
         "end": 257094,
         "speaker": null,
         "start": 256894,
         "text": "using"
        },
        {
         "confidence": 0.99759,
         "end": 257370,
         "speaker": null,
         "start": 257132,
         "text": "that."
        },
        {
         "confidence": 0.99,
         "end": 257526,
         "speaker": null,
         "start": 257420,
         "text": "I"
        },
        {
         "confidence": 0.99946,
         "end": 257622,
         "speaker": null,
         "start": 257528,
         "text": "think"
        },
        {
         "confidence": 0.49724,
         "end": 258058,
         "speaker": null,
         "start": 257636,
         "text": "PyCharm"
        },
        {
         "confidence": 0.99825,
         "end": 258222,
         "speaker": null,
         "start": 258094,
         "text": "is"
        },
        {
         "confidence": 0.74623,
         "end": 258550,
         "speaker": null,
         "start": 258236,
         "text": "solid,"
        },
        {
         "confidence": 0.91,
         "end": 258798,
         "speaker": null,
         "start": 258610,
         "text": "and"
        },
        {
         "confidence": 0.9989,
         "end": 258942,
         "speaker": null,
         "start": 258824,
         "text": "if"
        },
        {
         "confidence": 0.9914,
         "end": 259062,
         "speaker": null,
         "start": 258956,
         "text": "you"
        },
        {
         "confidence": 0.99678,
         "end": 259218,
         "speaker": null,
         "start": 259076,
         "text": "get"
        },
        {
         "confidence": 0.85492,
         "end": 259558,
         "speaker": null,
         "start": 259244,
         "text": "familiar"
        },
        {
         "confidence": 0.99963,
         "end": 259722,
         "speaker": null,
         "start": 259594,
         "text": "with"
        },
        {
         "confidence": 0.53923,
         "end": 259914,
         "speaker": null,
         "start": 259736,
         "text": "that,"
        },
        {
         "confidence": 0.99939,
         "end": 260082,
         "speaker": null,
         "start": 259952,
         "text": "you"
        },
        {
         "confidence": 0.99707,
         "end": 260202,
         "speaker": null,
         "start": 260096,
         "text": "can"
        },
        {
         "confidence": 0.99928,
         "end": 260494,
         "speaker": null,
         "start": 260216,
         "text": "easily"
        },
        {
         "confidence": 0.99986,
         "end": 260718,
         "speaker": null,
         "start": 260542,
         "text": "pick"
        },
        {
         "confidence": 0.99414,
         "end": 260862,
         "speaker": null,
         "start": 260744,
         "text": "up"
        },
        {
         "confidence": 0.93,
         "end": 260982,
         "speaker": null,
         "start": 260876,
         "text": "the"
        },
        {
         "confidence": 0.03699,
         "end": 261418,
         "speaker": null,
         "start": 260996,
         "text": "SCode,"
        },
        {
         "confidence": 0.35,
         "end": 261546,
         "speaker": null,
         "start": 261454,
         "text": "a"
        },
        {
         "confidence": 0.08566,
         "end": 261874,
         "speaker": null,
         "start": 261548,
         "text": "Jupiter"
        },
        {
         "confidence": 0.97559,
         "end": 262294,
         "speaker": null,
         "start": 261922,
         "text": "notebook,"
        },
        {
         "confidence": 0.99835,
         "end": 262482,
         "speaker": null,
         "start": 262342,
         "text": "or"
        },
        {
         "confidence": 0.88401,
         "end": 262810,
         "speaker": null,
         "start": 262496,
         "text": "Spider"
        },
        {
         "confidence": 0.99973,
         "end": 263058,
         "speaker": null,
         "start": 262870,
         "text": "pretty"
        },
        {
         "confidence": 0.9997,
         "end": 263418,
         "speaker": null,
         "start": 263084,
         "text": "quickly."
        },
        {
         "confidence": 0.96896,
         "end": 264046,
         "speaker": null,
         "start": 263504,
         "text": "Truthfully,"
        },
        {
         "confidence": 1,
         "end": 264282,
         "speaker": null,
         "start": 264118,
         "text": "I"
        },
        {
         "confidence": 0.99709,
         "end": 264406,
         "speaker": null,
         "start": 264296,
         "text": "don't"
        },
        {
         "confidence": 0.99897,
         "end": 264522,
         "speaker": null,
         "start": 264418,
         "text": "think"
        },
        {
         "confidence": 0.95001,
         "end": 264678,
         "speaker": null,
         "start": 264536,
         "text": "that"
        },
        {
         "confidence": 1,
         "end": 264822,
         "speaker": null,
         "start": 264704,
         "text": "the"
        },
        {
         "confidence": 0.01053,
         "end": 265050,
         "speaker": null,
         "start": 264836,
         "text": "idea"
        },
        {
         "confidence": 0.98083,
         "end": 265242,
         "speaker": null,
         "start": 265100,
         "text": "that"
        },
        {
         "confidence": 0.99641,
         "end": 265398,
         "speaker": null,
         "start": 265256,
         "text": "you"
        },
        {
         "confidence": 0.99917,
         "end": 265578,
         "speaker": null,
         "start": 265424,
         "text": "start"
        },
        {
         "confidence": 0.99806,
         "end": 265758,
         "speaker": null,
         "start": 265604,
         "text": "with"
        },
        {
         "confidence": 0.99688,
         "end": 265974,
         "speaker": null,
         "start": 265784,
         "text": "really"
        },
        {
         "confidence": 0.85692,
         "end": 266278,
         "speaker": null,
         "start": 266012,
         "text": "matters"
        },
        {
         "confidence": 0.99367,
         "end": 266442,
         "speaker": null,
         "start": 266314,
         "text": "that"
        },
        {
         "confidence": 0.99921,
         "end": 266778,
         "speaker": null,
         "start": 266456,
         "text": "much."
        },
        {
         "confidence": 0.70274,
         "end": 267178,
         "speaker": null,
         "start": 266864,
         "text": "What's"
        },
        {
         "confidence": 0.9998,
         "end": 267378,
         "speaker": null,
         "start": 267214,
         "text": "more"
        },
        {
         "confidence": 0.99989,
         "end": 267702,
         "speaker": null,
         "start": 267404,
         "text": "important"
        },
        {
         "confidence": 0.99576,
         "end": 267942,
         "speaker": null,
         "start": 267776,
         "text": "is"
        },
        {
         "confidence": 0.99183,
         "end": 268062,
         "speaker": null,
         "start": 267956,
         "text": "that"
        },
        {
         "confidence": 0.90989,
         "end": 268258,
         "speaker": null,
         "start": 268076,
         "text": "you're"
        },
        {
         "confidence": 0.99938,
         "end": 268494,
         "speaker": null,
         "start": 268294,
         "text": "using"
        },
        {
         "confidence": 0.99,
         "end": 268770,
         "speaker": null,
         "start": 268532,
         "text": "one"
        },
        {
         "confidence": 0.9876,
         "end": 269034,
         "speaker": null,
         "start": 268820,
         "text": "that"
        },
        {
         "confidence": 0.9998,
         "end": 269274,
         "speaker": null,
         "start": 269072,
         "text": "people"
        },
        {
         "confidence": 0.99429,
         "end": 269478,
         "speaker": null,
         "start": 269312,
         "text": "who"
        },
        {
         "confidence": 0.996,
         "end": 269838,
         "speaker": null,
         "start": 269504,
         "text": "actually"
        },
        {
         "confidence": 0.97719,
         "end": 270138,
         "speaker": null,
         "start": 269924,
         "text": "write"
        },
        {
         "confidence": 0.99203,
         "end": 270574,
         "speaker": null,
         "start": 270164,
         "text": "Python"
        },
        {
         "confidence": 0.99938,
         "end": 270870,
         "speaker": null,
         "start": 270622,
         "text": "code"
        },
        {
         "confidence": 0.99699,
         "end": 271170,
         "speaker": null,
         "start": 270920,
         "text": "into"
        },
        {
         "confidence": 0.99953,
         "end": 271654,
         "speaker": null,
         "start": 271220,
         "text": "production"
        },
        {
         "confidence": 0.99125,
         "end": 271878,
         "speaker": null,
         "start": 271702,
         "text": "are"
        },
        {
         "confidence": 0.99159,
         "end": 272382,
         "speaker": null,
         "start": 271904,
         "text": "using."
        },
        {
         "confidence": 0.88181,
         "end": 272922,
         "speaker": null,
         "start": 272516,
         "text": "Okay,"
        },
        {
         "confidence": 0.99613,
         "end": 273270,
         "speaker": null,
         "start": 272996,
         "text": "now"
        },
        {
         "confidence": 0.99848,
         "end": 273534,
         "speaker": null,
         "start": 273320,
         "text": "on"
        },
        {
         "confidence": 0.71,
         "end": 273702,
         "speaker": null,
         "start": 273572,
         "text": "to"
        },
        {
         "confidence": 0.99,
         "end": 273822,
         "speaker": null,
         "start": 273716,
         "text": "the"
        },
        {
         "confidence": 0.94415,
         "end": 274102,
         "speaker": null,
         "start": 273836,
         "text": "coding"
        },
        {
         "confidence": 0.9653,
         "end": 274762,
         "speaker": null,
         "start": 274126,
         "text": "basics."
        },
        {
         "confidence": 0.99944,
         "end": 275578,
         "speaker": null,
         "start": 274906,
         "text": "Surprisingly,"
        },
        {
         "confidence": 0.99,
         "end": 275742,
         "speaker": null,
         "start": 275614,
         "text": "I"
        },
        {
         "confidence": 0.99952,
         "end": 275898,
         "speaker": null,
         "start": 275756,
         "text": "think"
        },
        {
         "confidence": 0.99781,
         "end": 276078,
         "speaker": null,
         "start": 275924,
         "text": "this"
        },
        {
         "confidence": 0.99827,
         "end": 276222,
         "speaker": null,
         "start": 276104,
         "text": "might"
        },
        {
         "confidence": 0.99025,
         "end": 276378,
         "speaker": null,
         "start": 276236,
         "text": "be"
        },
        {
         "confidence": 1,
         "end": 276522,
         "speaker": null,
         "start": 276404,
         "text": "one"
        },
        {
         "confidence": 0.93,
         "end": 276642,
         "speaker": null,
         "start": 276536,
         "text": "of"
        },
        {
         "confidence": 0.62,
         "end": 276834,
         "speaker": null,
         "start": 276656,
         "text": "the"
        },
        {
         "confidence": 0.74706,
         "end": 277390,
         "speaker": null,
         "start": 276872,
         "text": "simplest"
        },
        {
         "confidence": 0.35497,
         "end": 277678,
         "speaker": null,
         "start": 277450,
         "text": "parts"
        },
        {
         "confidence": 1,
         "end": 277842,
         "speaker": null,
         "start": 277714,
         "text": "of"
        },
        {
         "confidence": 0.93996,
         "end": 278034,
         "speaker": null,
         "start": 277856,
         "text": "this"
        },
        {
         "confidence": 0.99924,
         "end": 278418,
         "speaker": null,
         "start": 278072,
         "text": "entire"
        },
        {
         "confidence": 0.99979,
         "end": 279186,
         "speaker": null,
         "start": 278504,
         "text": "process."
        },
        {
         "confidence": 0.94967,
         "end": 279642,
         "speaker": null,
         "start": 279368,
         "text": "You"
        },
        {
         "confidence": 0.99934,
         "end": 279798,
         "speaker": null,
         "start": 279656,
         "text": "see,"
        },
        {
         "confidence": 0.52239,
         "end": 279982,
         "speaker": null,
         "start": 279824,
         "text": "there's"
        },
        {
         "confidence": 1,
         "end": 280122,
         "speaker": null,
         "start": 280006,
         "text": "a"
        },
        {
         "confidence": 0.99978,
         "end": 280350,
         "speaker": null,
         "start": 280136,
         "text": "common"
        },
        {
         "confidence": 0.5726,
         "end": 281314,
         "speaker": null,
         "start": 280400,
         "text": "misconception"
        },
        {
         "confidence": 0.99912,
         "end": 281838,
         "speaker": null,
         "start": 281422,
         "text": "that"
        },
        {
         "confidence": 0.99751,
         "end": 282430,
         "speaker": null,
         "start": 281924,
         "text": "coding"
        },
        {
         "confidence": 0.99926,
         "end": 282678,
         "speaker": null,
         "start": 282490,
         "text": "is"
        },
        {
         "confidence": 0.99947,
         "end": 282858,
         "speaker": null,
         "start": 282704,
         "text": "trying"
        },
        {
         "confidence": 1,
         "end": 283002,
         "speaker": null,
         "start": 282884,
         "text": "to"
        },
        {
         "confidence": 0.99957,
         "end": 283222,
         "speaker": null,
         "start": 283016,
         "text": "trick"
        },
        {
         "confidence": 0.99289,
         "end": 283398,
         "speaker": null,
         "start": 283246,
         "text": "you."
        },
        {
         "confidence": 0.83163,
         "end": 283642,
         "speaker": null,
         "start": 283424,
         "text": "There's"
        },
        {
         "confidence": 0.99584,
         "end": 283818,
         "speaker": null,
         "start": 283666,
         "text": "this"
        },
        {
         "confidence": 0.98878,
         "end": 284398,
         "speaker": null,
         "start": 283844,
         "text": "conspiracy"
        },
        {
         "confidence": 0.99749,
         "end": 284598,
         "speaker": null,
         "start": 284434,
         "text": "that"
        },
        {
         "confidence": 0.99959,
         "end": 284814,
         "speaker": null,
         "start": 284624,
         "text": "learning"
        },
        {
         "confidence": 1,
         "end": 285018,
         "speaker": null,
         "start": 284852,
         "text": "to"
        },
        {
         "confidence": 0.99915,
         "end": 285378,
         "speaker": null,
         "start": 285044,
         "text": "code"
        },
        {
         "confidence": 0.98217,
         "end": 285678,
         "speaker": null,
         "start": 285464,
         "text": "is"
        },
        {
         "confidence": 0.99887,
         "end": 285930,
         "speaker": null,
         "start": 285704,
         "text": "supposed"
        },
        {
         "confidence": 1,
         "end": 286122,
         "speaker": null,
         "start": 285980,
         "text": "to"
        },
        {
         "confidence": 0.99825,
         "end": 286314,
         "speaker": null,
         "start": 286136,
         "text": "be"
        },
        {
         "confidence": 0.99664,
         "end": 286590,
         "speaker": null,
         "start": 286352,
         "text": "really"
        },
        {
         "confidence": 0.82376,
         "end": 286926,
         "speaker": null,
         "start": 286640,
         "text": "hard"
        },
        {
         "confidence": 0.87,
         "end": 287250,
         "speaker": null,
         "start": 286988,
         "text": "and"
        },
        {
         "confidence": 0.99887,
         "end": 287550,
         "speaker": null,
         "start": 287300,
         "text": "very"
        },
        {
         "confidence": 0.99979,
         "end": 288022,
         "speaker": null,
         "start": 287600,
         "text": "scary."
        },
        {
         "confidence": 1,
         "end": 288282,
         "speaker": null,
         "start": 288106,
         "text": "I"
        },
        {
         "confidence": 0.99785,
         "end": 288438,
         "speaker": null,
         "start": 288296,
         "text": "would"
        },
        {
         "confidence": 0.99977,
         "end": 288718,
         "speaker": null,
         "start": 288464,
         "text": "argue"
        },
        {
         "confidence": 0.99805,
         "end": 288954,
         "speaker": null,
         "start": 288754,
         "text": "that"
        },
        {
         "confidence": 0.9822,
         "end": 289294,
         "speaker": null,
         "start": 288992,
         "text": "it's"
        },
        {
         "confidence": 0.99965,
         "end": 289662,
         "speaker": null,
         "start": 289342,
         "text": "almost"
        },
        {
         "confidence": 1,
         "end": 289902,
         "speaker": null,
         "start": 289736,
         "text": "the"
        },
        {
         "confidence": 0.5612,
         "end": 290458,
         "speaker": null,
         "start": 289916,
         "text": "opposite."
        },
        {
         "confidence": 0.96733,
         "end": 290902,
         "speaker": null,
         "start": 290554,
         "text": "Coding"
        },
        {
         "confidence": 0.62626,
         "end": 291358,
         "speaker": null,
         "start": 290926,
         "text": "languages,"
        },
        {
         "confidence": 0.99103,
         "end": 291958,
         "speaker": null,
         "start": 291454,
         "text": "particularly"
        },
        {
         "confidence": 0.91549,
         "end": 292486,
         "speaker": null,
         "start": 291994,
         "text": "Python."
        },
        {
         "confidence": 0.6881,
         "end": 292762,
         "speaker": null,
         "start": 292558,
         "text": "They're"
        },
        {
         "confidence": 0.99708,
         "end": 293122,
         "speaker": null,
         "start": 292786,
         "text": "designed"
        },
        {
         "confidence": 1,
         "end": 293262,
         "speaker": null,
         "start": 293146,
         "text": "to"
        },
        {
         "confidence": 0.99479,
         "end": 293418,
         "speaker": null,
         "start": 293276,
         "text": "be"
        },
        {
         "confidence": 0.99428,
         "end": 293634,
         "speaker": null,
         "start": 293444,
         "text": "as"
        },
        {
         "confidence": 0.99052,
         "end": 293874,
         "speaker": null,
         "start": 293672,
         "text": "easy"
        },
        {
         "confidence": 0.52,
         "end": 294078,
         "speaker": null,
         "start": 293912,
         "text": "to"
        },
        {
         "confidence": 0.99606,
         "end": 294258,
         "speaker": null,
         "start": 294104,
         "text": "use"
        },
        {
         "confidence": 0.99497,
         "end": 294438,
         "speaker": null,
         "start": 294284,
         "text": "as"
        },
        {
         "confidence": 0.99989,
         "end": 294798,
         "speaker": null,
         "start": 294464,
         "text": "possible"
        },
        {
         "confidence": 0.9981,
         "end": 295134,
         "speaker": null,
         "start": 294884,
         "text": "while"
        },
        {
         "confidence": 0.89139,
         "end": 295462,
         "speaker": null,
         "start": 295172,
         "text": "creating"
        },
        {
         "confidence": 0.99339,
         "end": 295638,
         "speaker": null,
         "start": 295486,
         "text": "good"
        },
        {
         "confidence": 0.99473,
         "end": 296254,
         "speaker": null,
         "start": 295664,
         "text": "results."
        },
        {
         "confidence": 0.8431,
         "end": 296562,
         "speaker": null,
         "start": 296362,
         "text": "So"
        },
        {
         "confidence": 0.99819,
         "end": 296646,
         "speaker": null,
         "start": 296576,
         "text": "if"
        },
        {
         "confidence": 0.65497,
         "end": 296742,
         "speaker": null,
         "start": 296648,
         "text": "you"
        },
        {
         "confidence": 0.88195,
         "end": 296898,
         "speaker": null,
         "start": 296756,
         "text": "change"
        },
        {
         "confidence": 0.73132,
         "end": 297078,
         "speaker": null,
         "start": 296924,
         "text": "your"
        },
        {
         "confidence": 0.67127,
         "end": 297514,
         "speaker": null,
         "start": 297104,
         "text": "perspective"
        },
        {
         "confidence": 1,
         "end": 297738,
         "speaker": null,
         "start": 297562,
         "text": "to"
        },
        {
         "confidence": 0.99981,
         "end": 297882,
         "speaker": null,
         "start": 297764,
         "text": "look"
        },
        {
         "confidence": 1,
         "end": 298002,
         "speaker": null,
         "start": 297896,
         "text": "at"
        },
        {
         "confidence": 1,
         "end": 298158,
         "speaker": null,
         "start": 298016,
         "text": "them"
        },
        {
         "confidence": 0.99743,
         "end": 298410,
         "speaker": null,
         "start": 298184,
         "text": "as"
        },
        {
         "confidence": 0.98681,
         "end": 299110,
         "speaker": null,
         "start": 298460,
         "text": "intuitive,"
        },
        {
         "confidence": 0.98849,
         "end": 299602,
         "speaker": null,
         "start": 299230,
         "text": "coding"
        },
        {
         "confidence": 0.31172,
         "end": 299938,
         "speaker": null,
         "start": 299626,
         "text": "becomes"
        },
        {
         "confidence": 0.48857,
         "end": 300598,
         "speaker": null,
         "start": 299974,
         "text": "significantly"
        },
        {
         "confidence": 0.99743,
         "end": 300798,
         "speaker": null,
         "start": 300634,
         "text": "more"
        },
        {
         "confidence": 0.99935,
         "end": 301050,
         "speaker": null,
         "start": 300824,
         "text": "fun"
        },
        {
         "confidence": 1,
         "end": 301278,
         "speaker": null,
         "start": 301100,
         "text": "and"
        },
        {
         "confidence": 0.90591,
         "end": 301906,
         "speaker": null,
         "start": 301304,
         "text": "stressfree."
        },
        {
         "confidence": 0.93953,
         "end": 302142,
         "speaker": null,
         "start": 301978,
         "text": "This"
        },
        {
         "confidence": 0.93793,
         "end": 302338,
         "speaker": null,
         "start": 302156,
         "text": "isn't"
        },
        {
         "confidence": 1,
         "end": 302502,
         "speaker": null,
         "start": 302374,
         "text": "to"
        },
        {
         "confidence": 0.99971,
         "end": 302658,
         "speaker": null,
         "start": 302516,
         "text": "say"
        },
        {
         "confidence": 0.96165,
         "end": 302802,
         "speaker": null,
         "start": 302684,
         "text": "that"
        },
        {
         "confidence": 0.99896,
         "end": 302922,
         "speaker": null,
         "start": 302816,
         "text": "you"
        },
        {
         "confidence": 0.99711,
         "end": 303082,
         "speaker": null,
         "start": 302936,
         "text": "won't"
        },
        {
         "confidence": 0.99844,
         "end": 303222,
         "speaker": null,
         "start": 303106,
         "text": "get"
        },
        {
         "confidence": 0.96148,
         "end": 303694,
         "speaker": null,
         "start": 303236,
         "text": "stuck."
        },
        {
         "confidence": 0.72988,
         "end": 304138,
         "speaker": null,
         "start": 303802,
         "text": "It's"
        },
        {
         "confidence": 0.99797,
         "end": 304338,
         "speaker": null,
         "start": 304174,
         "text": "just"
        },
        {
         "confidence": 0.76,
         "end": 304518,
         "speaker": null,
         "start": 304364,
         "text": "to"
        },
        {
         "confidence": 0.99975,
         "end": 304698,
         "speaker": null,
         "start": 304544,
         "text": "say"
        },
        {
         "confidence": 0.98524,
         "end": 304878,
         "speaker": null,
         "start": 304724,
         "text": "that"
        },
        {
         "confidence": 0.99948,
         "end": 305022,
         "speaker": null,
         "start": 304904,
         "text": "when"
        },
        {
         "confidence": 0.99704,
         "end": 305142,
         "speaker": null,
         "start": 305036,
         "text": "you"
        },
        {
         "confidence": 0.97048,
         "end": 305262,
         "speaker": null,
         "start": 305156,
         "text": "do"
        },
        {
         "confidence": 0.99892,
         "end": 305418,
         "speaker": null,
         "start": 305276,
         "text": "get"
        },
        {
         "confidence": 0.99961,
         "end": 305806,
         "speaker": null,
         "start": 305444,
         "text": "stuck,"
        },
        {
         "confidence": 0.77109,
         "end": 306178,
         "speaker": null,
         "start": 305878,
         "text": "there's"
        },
        {
         "confidence": 0.999,
         "end": 306486,
         "speaker": null,
         "start": 306214,
         "text": "almost"
        },
        {
         "confidence": 0.99951,
         "end": 306810,
         "speaker": null,
         "start": 306548,
         "text": "always"
        },
        {
         "confidence": 0.99,
         "end": 307002,
         "speaker": null,
         "start": 306860,
         "text": "a"
        },
        {
         "confidence": 0.99838,
         "end": 307354,
         "speaker": null,
         "start": 307016,
         "text": "logical"
        },
        {
         "confidence": 0.99997,
         "end": 307650,
         "speaker": null,
         "start": 307402,
         "text": "reason"
        },
        {
         "confidence": 0.94,
         "end": 307878,
         "speaker": null,
         "start": 307700,
         "text": "for"
        },
        {
         "confidence": 0.96,
         "end": 308094,
         "speaker": null,
         "start": 307904,
         "text": "it"
        },
        {
         "confidence": 1,
         "end": 308298,
         "speaker": null,
         "start": 308132,
         "text": "and"
        },
        {
         "confidence": 0.98,
         "end": 308478,
         "speaker": null,
         "start": 308324,
         "text": "a"
        },
        {
         "confidence": 0.99946,
         "end": 308890,
         "speaker": null,
         "start": 308504,
         "text": "logical"
        },
        {
         "confidence": 0.89262,
         "end": 309346,
         "speaker": null,
         "start": 308950,
         "text": "solution"
        },
        {
         "confidence": 1,
         "end": 309582,
         "speaker": null,
         "start": 309418,
         "text": "to"
        },
        {
         "confidence": 0.85205,
         "end": 309886,
         "speaker": null,
         "start": 309596,
         "text": "resolve"
        },
        {
         "confidence": 0.99654,
         "end": 310038,
         "speaker": null,
         "start": 309898,
         "text": "your"
        },
        {
         "confidence": 0.9918,
         "end": 310470,
         "speaker": null,
         "start": 310064,
         "text": "problems."
        },
        {
         "confidence": 0.99784,
         "end": 310882,
         "speaker": null,
         "start": 310580,
         "text": "Keeping"
        },
        {
         "confidence": 0.9953,
         "end": 311022,
         "speaker": null,
         "start": 310906,
         "text": "with"
        },
        {
         "confidence": 0.98239,
         "end": 311178,
         "speaker": null,
         "start": 311036,
         "text": "this"
        },
        {
         "confidence": 0.99418,
         "end": 311446,
         "speaker": null,
         "start": 311204,
         "text": "theme"
        },
        {
         "confidence": 1,
         "end": 311562,
         "speaker": null,
         "start": 311458,
         "text": "of"
        },
        {
         "confidence": 0.94772,
         "end": 312034,
         "speaker": null,
         "start": 311576,
         "text": "simplicity,"
        },
        {
         "confidence": 0.55,
         "end": 312222,
         "speaker": null,
         "start": 312082,
         "text": "at"
        },
        {
         "confidence": 0.8,
         "end": 312342,
         "speaker": null,
         "start": 312236,
         "text": "the"
        },
        {
         "confidence": 0.99825,
         "end": 312498,
         "speaker": null,
         "start": 312356,
         "text": "most"
        },
        {
         "confidence": 0.99916,
         "end": 312838,
         "speaker": null,
         "start": 312524,
         "text": "basic"
        },
        {
         "confidence": 0.99998,
         "end": 313146,
         "speaker": null,
         "start": 312874,
         "text": "level,"
        },
        {
         "confidence": 0.99848,
         "end": 313582,
         "speaker": null,
         "start": 313208,
         "text": "beginner"
        },
        {
         "confidence": 0.92737,
         "end": 313882,
         "speaker": null,
         "start": 313606,
         "text": "coding"
        },
        {
         "confidence": 0.99936,
         "end": 313986,
         "speaker": null,
         "start": 313906,
         "text": "can"
        },
        {
         "confidence": 0.84181,
         "end": 314082,
         "speaker": null,
         "start": 313988,
         "text": "be"
        },
        {
         "confidence": 0.61329,
         "end": 314338,
         "speaker": null,
         "start": 314096,
         "text": "broken"
        },
        {
         "confidence": 0.9997,
         "end": 314538,
         "speaker": null,
         "start": 314374,
         "text": "down"
        },
        {
         "confidence": 0.52184,
         "end": 314790,
         "speaker": null,
         "start": 314564,
         "text": "into"
        },
        {
         "confidence": 1,
         "end": 315126,
         "speaker": null,
         "start": 314840,
         "text": "seven"
        },
        {
         "confidence": 0.83635,
         "end": 315670,
         "speaker": null,
         "start": 315188,
         "text": "concepts."
        },
        {
         "confidence": 0.99965,
         "end": 315918,
         "speaker": null,
         "start": 315730,
         "text": "All"
        },
        {
         "confidence": 0.99,
         "end": 316098,
         "speaker": null,
         "start": 315944,
         "text": "the"
        },
        {
         "confidence": 0.90505,
         "end": 316558,
         "speaker": null,
         "start": 316124,
         "text": "resources"
        },
        {
         "confidence": 0.98062,
         "end": 316686,
         "speaker": null,
         "start": 316594,
         "text": "that"
        },
        {
         "confidence": 0.83992,
         "end": 316822,
         "speaker": null,
         "start": 316688,
         "text": "I've"
        },
        {
         "confidence": 0.99705,
         "end": 317122,
         "speaker": null,
         "start": 316846,
         "text": "linked"
        },
        {
         "confidence": 0.99948,
         "end": 317262,
         "speaker": null,
         "start": 317146,
         "text": "in"
        },
        {
         "confidence": 1,
         "end": 317382,
         "speaker": null,
         "start": 317276,
         "text": "the"
        },
        {
         "confidence": 0.89237,
         "end": 317974,
         "speaker": null,
         "start": 317396,
         "text": "description"
        },
        {
         "confidence": 0.99974,
         "end": 318390,
         "speaker": null,
         "start": 318082,
         "text": "cover"
        },
        {
         "confidence": 0.99595,
         "end": 318618,
         "speaker": null,
         "start": 318440,
         "text": "these"
        },
        {
         "confidence": 0.99894,
         "end": 319066,
         "speaker": null,
         "start": 318644,
         "text": "topics,"
        },
        {
         "confidence": 0.98475,
         "end": 319302,
         "speaker": null,
         "start": 319138,
         "text": "but"
        },
        {
         "confidence": 0.74775,
         "end": 319486,
         "speaker": null,
         "start": 319316,
         "text": "I'm"
        },
        {
         "confidence": 0.9953,
         "end": 319566,
         "speaker": null,
         "start": 319498,
         "text": "going"
        },
        {
         "confidence": 0.99,
         "end": 319662,
         "speaker": null,
         "start": 319568,
         "text": "to"
        },
        {
         "confidence": 0.99986,
         "end": 319818,
         "speaker": null,
         "start": 319676,
         "text": "give"
        },
        {
         "confidence": 0.99878,
         "end": 319998,
         "speaker": null,
         "start": 319844,
         "text": "you"
        },
        {
         "confidence": 1,
         "end": 320214,
         "speaker": null,
         "start": 320024,
         "text": "a"
        },
        {
         "confidence": 0.9951,
         "end": 320454,
         "speaker": null,
         "start": 320252,
         "text": "very,"
        },
        {
         "confidence": 0.59521,
         "end": 320730,
         "speaker": null,
         "start": 320492,
         "text": "very"
        },
        {
         "confidence": 0.99994,
         "end": 320922,
         "speaker": null,
         "start": 320780,
         "text": "high"
        },
        {
         "confidence": 0.544,
         "end": 321150,
         "speaker": null,
         "start": 320936,
         "text": "level"
        },
        {
         "confidence": 0.55572,
         "end": 321598,
         "speaker": null,
         "start": 321200,
         "text": "overview"
        },
        {
         "confidence": 0.99586,
         "end": 321906,
         "speaker": null,
         "start": 321634,
         "text": "here."
        },
        {
         "confidence": 1,
         "end": 322122,
         "speaker": null,
         "start": 321968,
         "text": "The"
        },
        {
         "confidence": 0.89,
         "end": 322314,
         "speaker": null,
         "start": 322136,
         "text": "first"
        },
        {
         "confidence": 0.99,
         "end": 322482,
         "speaker": null,
         "start": 322352,
         "text": "one"
        },
        {
         "confidence": 0.99526,
         "end": 322638,
         "speaker": null,
         "start": 322496,
         "text": "we"
        },
        {
         "confidence": 0.99926,
         "end": 322818,
         "speaker": null,
         "start": 322664,
         "text": "start"
        },
        {
         "confidence": 0.9997,
         "end": 323034,
         "speaker": null,
         "start": 322844,
         "text": "with"
        },
        {
         "confidence": 0.99653,
         "end": 323238,
         "speaker": null,
         "start": 323072,
         "text": "is"
        },
        {
         "confidence": 0.99655,
         "end": 323490,
         "speaker": null,
         "start": 323264,
         "text": "data"
        },
        {
         "confidence": 0.99493,
         "end": 323986,
         "speaker": null,
         "start": 323540,
         "text": "types."
        },
        {
         "confidence": 0.78381,
         "end": 324258,
         "speaker": null,
         "start": 324058,
         "text": "So"
        },
        {
         "confidence": 0.99599,
         "end": 324402,
         "speaker": null,
         "start": 324284,
         "text": "in"
        },
        {
         "confidence": 0.95389,
         "end": 324778,
         "speaker": null,
         "start": 324416,
         "text": "Python,"
        },
        {
         "confidence": 0.99708,
         "end": 324906,
         "speaker": null,
         "start": 324814,
         "text": "you"
        },
        {
         "confidence": 0.99171,
         "end": 325002,
         "speaker": null,
         "start": 324908,
         "text": "can"
        },
        {
         "confidence": 0.99581,
         "end": 325122,
         "speaker": null,
         "start": 325016,
         "text": "work"
        },
        {
         "confidence": 0.99245,
         "end": 325278,
         "speaker": null,
         "start": 325136,
         "text": "with"
        },
        {
         "confidence": 0.99961,
         "end": 325566,
         "speaker": null,
         "start": 325304,
         "text": "numbers,"
        },
        {
         "confidence": 0.99208,
         "end": 325746,
         "speaker": null,
         "start": 325628,
         "text": "you"
        },
        {
         "confidence": 0.99131,
         "end": 325842,
         "speaker": null,
         "start": 325748,
         "text": "can"
        },
        {
         "confidence": 0.99546,
         "end": 325998,
         "speaker": null,
         "start": 325856,
         "text": "work"
        },
        {
         "confidence": 0.70937,
         "end": 326142,
         "speaker": null,
         "start": 326024,
         "text": "with"
        },
        {
         "confidence": 0.99779,
         "end": 326406,
         "speaker": null,
         "start": 326156,
         "text": "text,"
        },
        {
         "confidence": 0.99242,
         "end": 326622,
         "speaker": null,
         "start": 326468,
         "text": "you"
        },
        {
         "confidence": 0.9975,
         "end": 326778,
         "speaker": null,
         "start": 326636,
         "text": "can"
        },
        {
         "confidence": 0.99875,
         "end": 326958,
         "speaker": null,
         "start": 326804,
         "text": "work"
        },
        {
         "confidence": 0.99862,
         "end": 327138,
         "speaker": null,
         "start": 326984,
         "text": "with"
        },
        {
         "confidence": 0.72353,
         "end": 327730,
         "speaker": null,
         "start": 327164,
         "text": "Booleans,"
        },
        {
         "confidence": 0.98238,
         "end": 327906,
         "speaker": null,
         "start": 327790,
         "text": "you"
        },
        {
         "confidence": 0.92743,
         "end": 328002,
         "speaker": null,
         "start": 327908,
         "text": "can"
        },
        {
         "confidence": 0.9904,
         "end": 328122,
         "speaker": null,
         "start": 328016,
         "text": "work"
        },
        {
         "confidence": 0.96247,
         "end": 328314,
         "speaker": null,
         "start": 328136,
         "text": "with"
        },
        {
         "confidence": 0.90088,
         "end": 328786,
         "speaker": null,
         "start": 328352,
         "text": "lists"
        },
        {
         "confidence": 0.9961,
         "end": 329022,
         "speaker": null,
         "start": 328858,
         "text": "or"
        },
        {
         "confidence": 0.83,
         "end": 329142,
         "speaker": null,
         "start": 329036,
         "text": "a"
        },
        {
         "confidence": 0.99577,
         "end": 329302,
         "speaker": null,
         "start": 329156,
         "text": "host"
        },
        {
         "confidence": 0.98,
         "end": 329478,
         "speaker": null,
         "start": 329326,
         "text": "of"
        },
        {
         "confidence": 0.99991,
         "end": 329658,
         "speaker": null,
         "start": 329504,
         "text": "different"
        },
        {
         "confidence": 0.99918,
         "end": 329910,
         "speaker": null,
         "start": 329684,
         "text": "data"
        },
        {
         "confidence": 0.98621,
         "end": 330478,
         "speaker": null,
         "start": 329960,
         "text": "structures."
        },
        {
         "confidence": 0.94328,
         "end": 330802,
         "speaker": null,
         "start": 330574,
         "text": "It's"
        },
        {
         "confidence": 0.84471,
         "end": 331086,
         "speaker": null,
         "start": 330826,
         "text": "important"
        },
        {
         "confidence": 1,
         "end": 331302,
         "speaker": null,
         "start": 331148,
         "text": "to"
        },
        {
         "confidence": 0.99902,
         "end": 331422,
         "speaker": null,
         "start": 331316,
         "text": "get"
        },
        {
         "confidence": 0.99,
         "end": 331542,
         "speaker": null,
         "start": 331436,
         "text": "a"
        },
        {
         "confidence": 0.99976,
         "end": 331698,
         "speaker": null,
         "start": 331556,
         "text": "good"
        },
        {
         "confidence": 0.99911,
         "end": 332218,
         "speaker": null,
         "start": 331724,
         "text": "understanding"
        },
        {
         "confidence": 0.99712,
         "end": 332418,
         "speaker": null,
         "start": 332254,
         "text": "or"
        },
        {
         "confidence": 0.96,
         "end": 332598,
         "speaker": null,
         "start": 332444,
         "text": "a"
        },
        {
         "confidence": 0.94969,
         "end": 333214,
         "speaker": null,
         "start": 332624,
         "text": "fundamental"
        },
        {
         "confidence": 0.99946,
         "end": 333778,
         "speaker": null,
         "start": 333262,
         "text": "understanding"
        },
        {
         "confidence": 1,
         "end": 333942,
         "speaker": null,
         "start": 333814,
         "text": "of"
        },
        {
         "confidence": 0.98614,
         "end": 334098,
         "speaker": null,
         "start": 333956,
         "text": "these"
        },
        {
         "confidence": 1,
         "end": 334422,
         "speaker": null,
         "start": 334124,
         "text": "first."
        },
        {
         "confidence": 0.68011,
         "end": 334806,
         "speaker": null,
         "start": 334496,
         "text": "Next,"
        },
        {
         "confidence": 1,
         "end": 335022,
         "speaker": null,
         "start": 334868,
         "text": "I"
        },
        {
         "confidence": 0.9998,
         "end": 335142,
         "speaker": null,
         "start": 335036,
         "text": "think"
        },
        {
         "confidence": 1,
         "end": 335262,
         "speaker": null,
         "start": 335156,
         "text": "it"
        },
        {
         "confidence": 0.99289,
         "end": 335418,
         "speaker": null,
         "start": 335276,
         "text": "makes"
        },
        {
         "confidence": 0.99998,
         "end": 335634,
         "speaker": null,
         "start": 335444,
         "text": "sense"
        },
        {
         "confidence": 1,
         "end": 335766,
         "speaker": null,
         "start": 335672,
         "text": "to"
        },
        {
         "confidence": 0.99824,
         "end": 335898,
         "speaker": null,
         "start": 335768,
         "text": "get"
        },
        {
         "confidence": 0.99812,
         "end": 336202,
         "speaker": null,
         "start": 335924,
         "text": "familiar"
        },
        {
         "confidence": 0.62663,
         "end": 336378,
         "speaker": null,
         "start": 336226,
         "text": "with"
        },
        {
         "confidence": 0.99768,
         "end": 336558,
         "speaker": null,
         "start": 336404,
         "text": "how"
        },
        {
         "confidence": 0.57358,
         "end": 337018,
         "speaker": null,
         "start": 336584,
         "text": "variables"
        },
        {
         "confidence": 0.99455,
         "end": 337434,
         "speaker": null,
         "start": 337054,
         "text": "work."
        },
        {
         "confidence": 0.98723,
         "end": 337794,
         "speaker": null,
         "start": 337532,
         "text": "This"
        },
        {
         "confidence": 0.99703,
         "end": 337998,
         "speaker": null,
         "start": 337832,
         "text": "can"
        },
        {
         "confidence": 0.99967,
         "end": 338242,
         "speaker": null,
         "start": 338024,
         "text": "vary"
        },
        {
         "confidence": 0.99927,
         "end": 338418,
         "speaker": null,
         "start": 338266,
         "text": "by"
        },
        {
         "confidence": 0.99926,
         "end": 338866,
         "speaker": null,
         "start": 338444,
         "text": "language,"
        },
        {
         "confidence": 0.94545,
         "end": 339138,
         "speaker": null,
         "start": 338938,
         "text": "so"
        },
        {
         "confidence": 0.99102,
         "end": 339282,
         "speaker": null,
         "start": 339164,
         "text": "you"
        },
        {
         "confidence": 0.71446,
         "end": 339438,
         "speaker": null,
         "start": 339296,
         "text": "need"
        },
        {
         "confidence": 1,
         "end": 339582,
         "speaker": null,
         "start": 339464,
         "text": "to"
        },
        {
         "confidence": 0.99901,
         "end": 339702,
         "speaker": null,
         "start": 339596,
         "text": "make"
        },
        {
         "confidence": 0.99976,
         "end": 339822,
         "speaker": null,
         "start": 339716,
         "text": "sure"
        },
        {
         "confidence": 0.96476,
         "end": 339942,
         "speaker": null,
         "start": 339836,
         "text": "you"
        },
        {
         "confidence": 0.99553,
         "end": 340098,
         "speaker": null,
         "start": 339956,
         "text": "know"
        },
        {
         "confidence": 0.99878,
         "end": 340242,
         "speaker": null,
         "start": 340124,
         "text": "how"
        },
        {
         "confidence": 1,
         "end": 340398,
         "speaker": null,
         "start": 340256,
         "text": "to"
        },
        {
         "confidence": 0.99833,
         "end": 340750,
         "speaker": null,
         "start": 340424,
         "text": "assign"
        },
        {
         "confidence": 1,
         "end": 340998,
         "speaker": null,
         "start": 340810,
         "text": "and"
        },
        {
         "confidence": 0.99853,
         "end": 341250,
         "speaker": null,
         "start": 341024,
         "text": "change"
        },
        {
         "confidence": 0.82267,
         "end": 341758,
         "speaker": null,
         "start": 341300,
         "text": "variables"
        },
        {
         "confidence": 0.65642,
         "end": 341958,
         "speaker": null,
         "start": 341794,
         "text": "in"
        },
        {
         "confidence": 0.99334,
         "end": 342418,
         "speaker": null,
         "start": 341984,
         "text": "Python,"
        },
        {
         "confidence": 0.9983,
         "end": 343410,
         "speaker": null,
         "start": 342454,
         "text": "specifically,"
        },
        {
         "confidence": 0.99988,
         "end": 344370,
         "speaker": null,
         "start": 343970,
         "text": "after"
        },
        {
         "confidence": 0.84308,
         "end": 344986,
         "speaker": null,
         "start": 344420,
         "text": "variables,"
        },
        {
         "confidence": 0.94813,
         "end": 345222,
         "speaker": null,
         "start": 345058,
         "text": "you"
        },
        {
         "confidence": 0.99815,
         "end": 345414,
         "speaker": null,
         "start": 345236,
         "text": "should"
        },
        {
         "confidence": 0.99982,
         "end": 345618,
         "speaker": null,
         "start": 345452,
         "text": "look"
        },
        {
         "confidence": 0.997,
         "end": 345798,
         "speaker": null,
         "start": 345644,
         "text": "into"
        },
        {
         "confidence": 0.99393,
         "end": 346014,
         "speaker": null,
         "start": 345824,
         "text": "how"
        },
        {
         "confidence": 0.81803,
         "end": 346390,
         "speaker": null,
         "start": 346052,
         "text": "logical"
        },
        {
         "confidence": 0.56233,
         "end": 346918,
         "speaker": null,
         "start": 346450,
         "text": "operators"
        },
        {
         "confidence": 0.99597,
         "end": 347154,
         "speaker": null,
         "start": 346954,
         "text": "work."
        },
        {
         "confidence": 0.99793,
         "end": 347358,
         "speaker": null,
         "start": 347192,
         "text": "These"
        },
        {
         "confidence": 0.99905,
         "end": 347502,
         "speaker": null,
         "start": 347384,
         "text": "are"
        },
        {
         "confidence": 0.99926,
         "end": 347694,
         "speaker": null,
         "start": 347516,
         "text": "very"
        },
        {
         "confidence": 0.77262,
         "end": 347998,
         "speaker": null,
         "start": 347732,
         "text": "handy"
        },
        {
         "confidence": 0.99603,
         "end": 348162,
         "speaker": null,
         "start": 348034,
         "text": "in"
        },
        {
         "confidence": 0.99891,
         "end": 348318,
         "speaker": null,
         "start": 348176,
         "text": "your"
        },
        {
         "confidence": 1,
         "end": 348534,
         "speaker": null,
         "start": 348344,
         "text": "first"
        },
        {
         "confidence": 0.99865,
         "end": 348810,
         "speaker": null,
         "start": 348572,
         "text": "few"
        },
        {
         "confidence": 0.99669,
         "end": 349390,
         "speaker": null,
         "start": 348860,
         "text": "projects."
        },
        {
         "confidence": 0.60301,
         "end": 349674,
         "speaker": null,
         "start": 349450,
         "text": "If"
        },
        {
         "confidence": 0.01657,
         "end": 349942,
         "speaker": null,
         "start": 349712,
         "text": "held,"
        },
        {
         "confidence": 0.9981,
         "end": 350350,
         "speaker": null,
         "start": 349966,
         "text": "statements"
        },
        {
         "confidence": 0.99782,
         "end": 350634,
         "speaker": null,
         "start": 350410,
         "text": "are"
        },
        {
         "confidence": 0.99908,
         "end": 350874,
         "speaker": null,
         "start": 350672,
         "text": "probably"
        },
        {
         "confidence": 1,
         "end": 351042,
         "speaker": null,
         "start": 350912,
         "text": "the"
        },
        {
         "confidence": 0.99993,
         "end": 351198,
         "speaker": null,
         "start": 351056,
         "text": "most"
        },
        {
         "confidence": 0.99983,
         "end": 351486,
         "speaker": null,
         "start": 351224,
         "text": "important"
        },
        {
         "confidence": 0.96,
         "end": 351846,
         "speaker": null,
         "start": 351548,
         "text": "one."
        },
        {
         "confidence": 0.97042,
         "end": 352098,
         "speaker": null,
         "start": 351908,
         "text": "But"
        },
        {
         "confidence": 0.99955,
         "end": 352242,
         "speaker": null,
         "start": 352124,
         "text": "you"
        },
        {
         "confidence": 0.99864,
         "end": 352434,
         "speaker": null,
         "start": 352256,
         "text": "can"
        },
        {
         "confidence": 0.99056,
         "end": 352710,
         "speaker": null,
         "start": 352472,
         "text": "definitely"
        },
        {
         "confidence": 0.99613,
         "end": 352974,
         "speaker": null,
         "start": 352760,
         "text": "find"
        },
        {
         "confidence": 0.99932,
         "end": 353178,
         "speaker": null,
         "start": 353012,
         "text": "use"
        },
        {
         "confidence": 0.99395,
         "end": 353518,
         "speaker": null,
         "start": 353204,
         "text": "cases"
        },
        {
         "confidence": 1,
         "end": 353682,
         "speaker": null,
         "start": 353554,
         "text": "for"
        },
        {
         "confidence": 0.98,
         "end": 353802,
         "speaker": null,
         "start": 353696,
         "text": "the"
        },
        {
         "confidence": 0.99763,
         "end": 354246,
         "speaker": null,
         "start": 353816,
         "text": "others,"
        },
        {
         "confidence": 0.99752,
         "end": 354942,
         "speaker": null,
         "start": 354368,
         "text": "especially"
        },
        {
         "confidence": 0.99911,
         "end": 355302,
         "speaker": null,
         "start": 355076,
         "text": "if"
        },
        {
         "confidence": 0.97259,
         "end": 355462,
         "speaker": null,
         "start": 355316,
         "text": "you're"
        },
        {
         "confidence": 0.99962,
         "end": 355674,
         "speaker": null,
         "start": 355486,
         "text": "working"
        },
        {
         "confidence": 0.99959,
         "end": 355842,
         "speaker": null,
         "start": 355712,
         "text": "with"
        },
        {
         "confidence": 0.99473,
         "end": 356178,
         "speaker": null,
         "start": 355856,
         "text": "data."
        },
        {
         "confidence": 1,
         "end": 356442,
         "speaker": null,
         "start": 356264,
         "text": "The"
        },
        {
         "confidence": 0.97,
         "end": 356626,
         "speaker": null,
         "start": 356456,
         "text": "fourth"
        },
        {
         "confidence": 0.91449,
         "end": 356742,
         "speaker": null,
         "start": 356638,
         "text": "thing"
        },
        {
         "confidence": 0.51007,
         "end": 356862,
         "speaker": null,
         "start": 356756,
         "text": "you"
        },
        {
         "confidence": 0.96324,
         "end": 357018,
         "speaker": null,
         "start": 356876,
         "text": "need"
        },
        {
         "confidence": 0.99,
         "end": 357162,
         "speaker": null,
         "start": 357044,
         "text": "to"
        },
        {
         "confidence": 0.99998,
         "end": 357606,
         "speaker": null,
         "start": 357176,
         "text": "understand"
        },
        {
         "confidence": 0.99848,
         "end": 358050,
         "speaker": null,
         "start": 357728,
         "text": "is"
        },
        {
         "confidence": 0.99891,
         "end": 358242,
         "speaker": null,
         "start": 358100,
         "text": "how"
        },
        {
         "confidence": 0.99677,
         "end": 358582,
         "speaker": null,
         "start": 358256,
         "text": "loops"
        },
        {
         "confidence": 0.9979,
         "end": 358938,
         "speaker": null,
         "start": 358606,
         "text": "work."
        },
        {
         "confidence": 0.74638,
         "end": 359274,
         "speaker": null,
         "start": 359024,
         "text": "So"
        },
        {
         "confidence": 1,
         "end": 359478,
         "speaker": null,
         "start": 359312,
         "text": "one"
        },
        {
         "confidence": 0.99889,
         "end": 359694,
         "speaker": null,
         "start": 359504,
         "text": "thing"
        },
        {
         "confidence": 0.9927,
         "end": 360274,
         "speaker": null,
         "start": 359732,
         "text": "computers"
        },
        {
         "confidence": 0.99726,
         "end": 360534,
         "speaker": null,
         "start": 360322,
         "text": "are"
        },
        {
         "confidence": 0.96662,
         "end": 360954,
         "speaker": null,
         "start": 360572,
         "text": "really"
        },
        {
         "confidence": 0.99753,
         "end": 361314,
         "speaker": null,
         "start": 361052,
         "text": "great"
        },
        {
         "confidence": 1,
         "end": 361626,
         "speaker": null,
         "start": 361352,
         "text": "at"
        },
        {
         "confidence": 0.9617,
         "end": 361878,
         "speaker": null,
         "start": 361688,
         "text": "is"
        },
        {
         "confidence": 0.99762,
         "end": 362094,
         "speaker": null,
         "start": 361904,
         "text": "doing"
        },
        {
         "confidence": 0.99,
         "end": 362298,
         "speaker": null,
         "start": 362132,
         "text": "a"
        },
        {
         "confidence": 0.99886,
         "end": 362550,
         "speaker": null,
         "start": 362324,
         "text": "simple"
        },
        {
         "confidence": 0.96074,
         "end": 362974,
         "speaker": null,
         "start": 362600,
         "text": "task"
        },
        {
         "confidence": 0.99965,
         "end": 363234,
         "speaker": null,
         "start": 363022,
         "text": "over"
        },
        {
         "confidence": 1,
         "end": 363402,
         "speaker": null,
         "start": 363272,
         "text": "and"
        },
        {
         "confidence": 0.99891,
         "end": 363558,
         "speaker": null,
         "start": 363416,
         "text": "over"
        },
        {
         "confidence": 0.99874,
         "end": 364098,
         "speaker": null,
         "start": 363584,
         "text": "again."
        },
        {
         "confidence": 0.71925,
         "end": 364522,
         "speaker": null,
         "start": 364244,
         "text": "You'd"
        },
        {
         "confidence": 0.99792,
         "end": 364698,
         "speaker": null,
         "start": 364546,
         "text": "be"
        },
        {
         "confidence": 0.99552,
         "end": 365206,
         "speaker": null,
         "start": 364724,
         "text": "surprised"
        },
        {
         "confidence": 0.99,
         "end": 365442,
         "speaker": null,
         "start": 365278,
         "text": "at"
        },
        {
         "confidence": 0.74382,
         "end": 365634,
         "speaker": null,
         "start": 365456,
         "text": "how"
        },
        {
         "confidence": 0.83945,
         "end": 366034,
         "speaker": null,
         "start": 365672,
         "text": "useful"
        },
        {
         "confidence": 0.98676,
         "end": 366294,
         "speaker": null,
         "start": 366082,
         "text": "these"
        },
        {
         "confidence": 0.96392,
         "end": 366462,
         "speaker": null,
         "start": 366332,
         "text": "can"
        },
        {
         "confidence": 0.98568,
         "end": 366834,
         "speaker": null,
         "start": 366476,
         "text": "be"
        },
        {
         "confidence": 1,
         "end": 367158,
         "speaker": null,
         "start": 366932,
         "text": "for"
        },
        {
         "confidence": 0.99073,
         "end": 367410,
         "speaker": null,
         "start": 367184,
         "text": "your"
        },
        {
         "confidence": 0.96946,
         "end": 367858,
         "speaker": null,
         "start": 367460,
         "text": "programming"
        },
        {
         "confidence": 0.99525,
         "end": 368310,
         "speaker": null,
         "start": 367894,
         "text": "future."
        },
        {
         "confidence": 0.99968,
         "end": 368694,
         "speaker": null,
         "start": 368420,
         "text": "After"
        },
        {
         "confidence": 0.98791,
         "end": 369006,
         "speaker": null,
         "start": 368732,
         "text": "that,"
        },
        {
         "confidence": 0.99907,
         "end": 369222,
         "speaker": null,
         "start": 369068,
         "text": "you"
        },
        {
         "confidence": 0.99958,
         "end": 369378,
         "speaker": null,
         "start": 369236,
         "text": "should"
        },
        {
         "confidence": 0.99987,
         "end": 369558,
         "speaker": null,
         "start": 369404,
         "text": "learn"
        },
        {
         "confidence": 0.99966,
         "end": 369774,
         "speaker": null,
         "start": 369584,
         "text": "about"
        },
        {
         "confidence": 0.96541,
         "end": 370378,
         "speaker": null,
         "start": 369812,
         "text": "functions."
        },
        {
         "confidence": 0.68079,
         "end": 370698,
         "speaker": null,
         "start": 370474,
         "text": "So"
        },
        {
         "confidence": 0.69937,
         "end": 370878,
         "speaker": null,
         "start": 370724,
         "text": "this"
        },
        {
         "confidence": 0.75429,
         "end": 371182,
         "speaker": null,
         "start": 370904,
         "text": "sets"
        },
        {
         "confidence": 1,
         "end": 371322,
         "speaker": null,
         "start": 371206,
         "text": "the"
        },
        {
         "confidence": 0.99518,
         "end": 371674,
         "speaker": null,
         "start": 371336,
         "text": "foundation"
        },
        {
         "confidence": 1,
         "end": 371898,
         "speaker": null,
         "start": 371722,
         "text": "for"
        },
        {
         "confidence": 0.9977,
         "end": 372438,
         "speaker": null,
         "start": 371924,
         "text": "almost"
        },
        {
         "confidence": 0.99934,
         "end": 372966,
         "speaker": null,
         "start": 372584,
         "text": "everything"
        },
        {
         "confidence": 0.99835,
         "end": 373218,
         "speaker": null,
         "start": 373028,
         "text": "you"
        },
        {
         "confidence": 0.9997,
         "end": 373470,
         "speaker": null,
         "start": 373244,
         "text": "do"
        },
        {
         "confidence": 0.99851,
         "end": 373698,
         "speaker": null,
         "start": 373520,
         "text": "on"
        },
        {
         "confidence": 0.99931,
         "end": 373878,
         "speaker": null,
         "start": 373724,
         "text": "your"
        },
        {
         "confidence": 0.99078,
         "end": 374302,
         "speaker": null,
         "start": 373904,
         "text": "programming"
        },
        {
         "confidence": 0.99069,
         "end": 374818,
         "speaker": null,
         "start": 374326,
         "text": "journey."
        },
        {
         "confidence": 0.8677,
         "end": 375322,
         "speaker": null,
         "start": 374914,
         "text": "Functions"
        },
        {
         "confidence": 0.99907,
         "end": 375498,
         "speaker": null,
         "start": 375346,
         "text": "allow"
        },
        {
         "confidence": 0.99064,
         "end": 375606,
         "speaker": null,
         "start": 375524,
         "text": "you"
        },
        {
         "confidence": 0.65,
         "end": 375702,
         "speaker": null,
         "start": 375608,
         "text": "to"
        },
        {
         "confidence": 0.56466,
         "end": 376318,
         "speaker": null,
         "start": 375716,
         "text": "encapsulate"
        },
        {
         "confidence": 0.99738,
         "end": 376554,
         "speaker": null,
         "start": 376354,
         "text": "code"
        },
        {
         "confidence": 1,
         "end": 376758,
         "speaker": null,
         "start": 376592,
         "text": "and"
        },
        {
         "confidence": 0.9876,
         "end": 377086,
         "speaker": null,
         "start": 376784,
         "text": "reuse"
        },
        {
         "confidence": 0.91,
         "end": 377562,
         "speaker": null,
         "start": 377098,
         "text": "it."
        },
        {
         "confidence": 0.99983,
         "end": 377958,
         "speaker": null,
         "start": 377696,
         "text": "If"
        },
        {
         "confidence": 0.99847,
         "end": 378102,
         "speaker": null,
         "start": 377984,
         "text": "you"
        },
        {
         "confidence": 0.98601,
         "end": 378258,
         "speaker": null,
         "start": 378116,
         "text": "really"
        },
        {
         "confidence": 0.9998,
         "end": 378438,
         "speaker": null,
         "start": 378284,
         "text": "think"
        },
        {
         "confidence": 0.84726,
         "end": 378654,
         "speaker": null,
         "start": 378464,
         "text": "about"
        },
        {
         "confidence": 1,
         "end": 378858,
         "speaker": null,
         "start": 378692,
         "text": "it,"
        },
        {
         "confidence": 0.99965,
         "end": 379074,
         "speaker": null,
         "start": 378884,
         "text": "good"
        },
        {
         "confidence": 0.97735,
         "end": 379474,
         "speaker": null,
         "start": 379112,
         "text": "coding"
        },
        {
         "confidence": 0.99958,
         "end": 379662,
         "speaker": null,
         "start": 379522,
         "text": "is"
        },
        {
         "confidence": 0.99956,
         "end": 379854,
         "speaker": null,
         "start": 379676,
         "text": "about"
        },
        {
         "confidence": 0.99975,
         "end": 380202,
         "speaker": null,
         "start": 379892,
         "text": "making"
        },
        {
         "confidence": 0.99947,
         "end": 380478,
         "speaker": null,
         "start": 380276,
         "text": "as"
        },
        {
         "confidence": 0.52828,
         "end": 380766,
         "speaker": null,
         "start": 380504,
         "text": "many"
        },
        {
         "confidence": 0.98769,
         "end": 381334,
         "speaker": null,
         "start": 380828,
         "text": "reusable"
        },
        {
         "confidence": 0.99729,
         "end": 381586,
         "speaker": null,
         "start": 381382,
         "text": "bits"
        },
        {
         "confidence": 0.96622,
         "end": 381738,
         "speaker": null,
         "start": 381598,
         "text": "as"
        },
        {
         "confidence": 0.99994,
         "end": 382134,
         "speaker": null,
         "start": 381764,
         "text": "possible,"
        },
        {
         "confidence": 0.97,
         "end": 382458,
         "speaker": null,
         "start": 382232,
         "text": "and"
        },
        {
         "confidence": 0.99757,
         "end": 382638,
         "speaker": null,
         "start": 382484,
         "text": "these"
        },
        {
         "confidence": 0.99897,
         "end": 383062,
         "speaker": null,
         "start": 382664,
         "text": "functions"
        },
        {
         "confidence": 0.63035,
         "end": 383238,
         "speaker": null,
         "start": 383086,
         "text": "are"
        },
        {
         "confidence": 0.99923,
         "end": 383418,
         "speaker": null,
         "start": 383264,
         "text": "where"
        },
        {
         "confidence": 0.98983,
         "end": 383562,
         "speaker": null,
         "start": 383444,
         "text": "that"
        },
        {
         "confidence": 0.99168,
         "end": 383754,
         "speaker": null,
         "start": 383576,
         "text": "really"
        },
        {
         "confidence": 0.98322,
         "end": 384190,
         "speaker": null,
         "start": 383792,
         "text": "begins."
        },
        {
         "confidence": 1,
         "end": 384402,
         "speaker": null,
         "start": 384250,
         "text": "At"
        },
        {
         "confidence": 0.99884,
         "end": 384558,
         "speaker": null,
         "start": 384416,
         "text": "this"
        },
        {
         "confidence": 1,
         "end": 384738,
         "speaker": null,
         "start": 384584,
         "text": "point,"
        },
        {
         "confidence": 0.99924,
         "end": 384882,
         "speaker": null,
         "start": 384764,
         "text": "you"
        },
        {
         "confidence": 0.997,
         "end": 385002,
         "speaker": null,
         "start": 384896,
         "text": "have"
        },
        {
         "confidence": 0.99,
         "end": 385122,
         "speaker": null,
         "start": 385016,
         "text": "a"
        },
        {
         "confidence": 0.99878,
         "end": 385242,
         "speaker": null,
         "start": 385136,
         "text": "pretty"
        },
        {
         "confidence": 0.9998,
         "end": 385434,
         "speaker": null,
         "start": 385256,
         "text": "good"
        },
        {
         "confidence": 0.99985,
         "end": 385942,
         "speaker": null,
         "start": 385472,
         "text": "understanding"
        },
        {
         "confidence": 1,
         "end": 386082,
         "speaker": null,
         "start": 385966,
         "text": "of"
        },
        {
         "confidence": 1,
         "end": 386202,
         "speaker": null,
         "start": 386096,
         "text": "the"
        },
        {
         "confidence": 0.99829,
         "end": 386394,
         "speaker": null,
         "start": 386216,
         "text": "key"
        },
        {
         "confidence": 0.99952,
         "end": 386670,
         "speaker": null,
         "start": 386432,
         "text": "building"
        },
        {
         "confidence": 0.98821,
         "end": 386962,
         "speaker": null,
         "start": 386720,
         "text": "blocks"
        },
        {
         "confidence": 0.98,
         "end": 387102,
         "speaker": null,
         "start": 386986,
         "text": "of"
        },
        {
         "confidence": 0.99645,
         "end": 387694,
         "speaker": null,
         "start": 387116,
         "text": "Python."
        },
        {
         "confidence": 0.99938,
         "end": 388002,
         "speaker": null,
         "start": 387802,
         "text": "You"
        },
        {
         "confidence": 0.99856,
         "end": 388158,
         "speaker": null,
         "start": 388016,
         "text": "should"
        },
        {
         "confidence": 0.99391,
         "end": 388374,
         "speaker": null,
         "start": 388184,
         "text": "now"
        },
        {
         "confidence": 0.99927,
         "end": 388614,
         "speaker": null,
         "start": 388412,
         "text": "learn"
        },
        {
         "confidence": 0.98,
         "end": 388782,
         "speaker": null,
         "start": 388652,
         "text": "a"
        },
        {
         "confidence": 0.99936,
         "end": 388938,
         "speaker": null,
         "start": 388796,
         "text": "bit"
        },
        {
         "confidence": 0.99788,
         "end": 389190,
         "speaker": null,
         "start": 388964,
         "text": "more"
        },
        {
         "confidence": 0.9994,
         "end": 389454,
         "speaker": null,
         "start": 389240,
         "text": "about"
        },
        {
         "confidence": 0.99621,
         "end": 389694,
         "speaker": null,
         "start": 389492,
         "text": "how"
        },
        {
         "confidence": 0.99908,
         "end": 389898,
         "speaker": null,
         "start": 389732,
         "text": "some"
        },
        {
         "confidence": 0.99,
         "end": 390006,
         "speaker": null,
         "start": 389924,
         "text": "of"
        },
        {
         "confidence": 0.99,
         "end": 390138,
         "speaker": null,
         "start": 390008,
         "text": "the"
        },
        {
         "confidence": 0.76972,
         "end": 390454,
         "speaker": null,
         "start": 390164,
         "text": "basic"
        },
        {
         "confidence": 0.998,
         "end": 390750,
         "speaker": null,
         "start": 390502,
         "text": "data"
        },
        {
         "confidence": 0.67145,
         "end": 391174,
         "speaker": null,
         "start": 390800,
         "text": "structures"
        },
        {
         "confidence": 0.99893,
         "end": 391470,
         "speaker": null,
         "start": 391222,
         "text": "work."
        },
        {
         "confidence": 1,
         "end": 391698,
         "speaker": null,
         "start": 391520,
         "text": "I"
        },
        {
         "confidence": 0.99976,
         "end": 392022,
         "speaker": null,
         "start": 391724,
         "text": "recommend"
        },
        {
         "confidence": 0.99988,
         "end": 392298,
         "speaker": null,
         "start": 392096,
         "text": "taking"
        },
        {
         "confidence": 1,
         "end": 392406,
         "speaker": null,
         "start": 392324,
         "text": "a"
        },
        {
         "confidence": 0.83913,
         "end": 392602,
         "speaker": null,
         "start": 392408,
         "text": "deeper"
        },
        {
         "confidence": 0.99643,
         "end": 392806,
         "speaker": null,
         "start": 392626,
         "text": "dive"
        },
        {
         "confidence": 0.99806,
         "end": 392994,
         "speaker": null,
         "start": 392818,
         "text": "into"
        },
        {
         "confidence": 0.81589,
         "end": 393394,
         "speaker": null,
         "start": 393032,
         "text": "Lists,"
        },
        {
         "confidence": 0.98574,
         "end": 394066,
         "speaker": null,
         "start": 393442,
         "text": "Dictionaries,"
        },
        {
         "confidence": 0.99882,
         "end": 394338,
         "speaker": null,
         "start": 394138,
         "text": "as"
        },
        {
         "confidence": 0.99942,
         "end": 394482,
         "speaker": null,
         "start": 394364,
         "text": "well"
        },
        {
         "confidence": 0.99866,
         "end": 394602,
         "speaker": null,
         "start": 394496,
         "text": "as"
        },
        {
         "confidence": 0.76369,
         "end": 395014,
         "speaker": null,
         "start": 394616,
         "text": "Tuples."
        },
        {
         "confidence": 0.99825,
         "end": 395202,
         "speaker": null,
         "start": 395062,
         "text": "This"
        },
        {
         "confidence": 0.95847,
         "end": 395322,
         "speaker": null,
         "start": 395216,
         "text": "will"
        },
        {
         "confidence": 0.99986,
         "end": 395478,
         "speaker": null,
         "start": 395336,
         "text": "set"
        },
        {
         "confidence": 0.99,
         "end": 395622,
         "speaker": null,
         "start": 395504,
         "text": "the"
        },
        {
         "confidence": 0.99587,
         "end": 395974,
         "speaker": null,
         "start": 395636,
         "text": "foundation"
        },
        {
         "confidence": 1,
         "end": 396162,
         "speaker": null,
         "start": 396022,
         "text": "for"
        },
        {
         "confidence": 0.99517,
         "end": 396318,
         "speaker": null,
         "start": 396176,
         "text": "much"
        },
        {
         "confidence": 1,
         "end": 396462,
         "speaker": null,
         "start": 396344,
         "text": "of"
        },
        {
         "confidence": 0.99861,
         "end": 396582,
         "speaker": null,
         "start": 396476,
         "text": "your"
        },
        {
         "confidence": 0.98925,
         "end": 396774,
         "speaker": null,
         "start": 396596,
         "text": "data"
        },
        {
         "confidence": 0.94623,
         "end": 397014,
         "speaker": null,
         "start": 396812,
         "text": "work"
        },
        {
         "confidence": 0.99914,
         "end": 397254,
         "speaker": null,
         "start": 397052,
         "text": "later"
        },
        {
         "confidence": 0.99593,
         "end": 397782,
         "speaker": null,
         "start": 397292,
         "text": "on."
        },
        {
         "confidence": 0.99416,
         "end": 398286,
         "speaker": null,
         "start": 397916,
         "text": "Finally,"
        },
        {
         "confidence": 0.99558,
         "end": 398502,
         "speaker": null,
         "start": 398348,
         "text": "you"
        },
        {
         "confidence": 0.8584,
         "end": 398658,
         "speaker": null,
         "start": 398516,
         "text": "should"
        },
        {
         "confidence": 0.99457,
         "end": 398874,
         "speaker": null,
         "start": 398684,
         "text": "start"
        },
        {
         "confidence": 0.99979,
         "end": 399186,
         "speaker": null,
         "start": 398912,
         "text": "learning"
        },
        {
         "confidence": 1,
         "end": 399438,
         "speaker": null,
         "start": 399248,
         "text": "to"
        },
        {
         "confidence": 0.99972,
         "end": 399618,
         "speaker": null,
         "start": 399464,
         "text": "work"
        },
        {
         "confidence": 0.9996,
         "end": 399798,
         "speaker": null,
         "start": 399644,
         "text": "with"
        },
        {
         "confidence": 0.99828,
         "end": 400402,
         "speaker": null,
         "start": 399824,
         "text": "libraries."
        },
        {
         "confidence": 0.66479,
         "end": 400698,
         "speaker": null,
         "start": 400486,
         "text": "So"
        },
        {
         "confidence": 0.99,
         "end": 400878,
         "speaker": null,
         "start": 400724,
         "text": "the"
        },
        {
         "confidence": 0.99972,
         "end": 401058,
         "speaker": null,
         "start": 400904,
         "text": "most"
        },
        {
         "confidence": 0.99997,
         "end": 401310,
         "speaker": null,
         "start": 401084,
         "text": "important"
        },
        {
         "confidence": 1,
         "end": 401574,
         "speaker": null,
         "start": 401360,
         "text": "ones"
        },
        {
         "confidence": 1,
         "end": 401778,
         "speaker": null,
         "start": 401612,
         "text": "for"
        },
        {
         "confidence": 0.99889,
         "end": 402030,
         "speaker": null,
         "start": 401804,
         "text": "data"
        },
        {
         "confidence": 0.99288,
         "end": 402258,
         "speaker": null,
         "start": 402080,
         "text": "are"
        },
        {
         "confidence": 0.82602,
         "end": 402694,
         "speaker": null,
         "start": 402284,
         "text": "Pandas,"
        },
        {
         "confidence": 0.96727,
         "end": 403138,
         "speaker": null,
         "start": 402742,
         "text": "NumPy,"
        },
        {
         "confidence": 0.53288,
         "end": 403738,
         "speaker": null,
         "start": 403174,
         "text": "ScikitLearn,"
        },
        {
         "confidence": 0.98,
         "end": 403902,
         "speaker": null,
         "start": 403774,
         "text": "and"
        },
        {
         "confidence": 0.18114,
         "end": 404662,
         "speaker": null,
         "start": 403916,
         "text": "Matplotlib,"
        },
        {
         "confidence": 0.78,
         "end": 404958,
         "speaker": null,
         "start": 404746,
         "text": "and"
        },
        {
         "confidence": 0.75367,
         "end": 405174,
         "speaker": null,
         "start": 404984,
         "text": "these"
        },
        {
         "confidence": 0.99615,
         "end": 405378,
         "speaker": null,
         "start": 405212,
         "text": "give"
        },
        {
         "confidence": 0.99842,
         "end": 405594,
         "speaker": null,
         "start": 405404,
         "text": "you"
        },
        {
         "confidence": 0.99987,
         "end": 405970,
         "speaker": null,
         "start": 405632,
         "text": "additional"
        },
        {
         "confidence": 0.58955,
         "end": 406282,
         "speaker": null,
         "start": 406030,
         "text": "tools"
        },
        {
         "confidence": 1,
         "end": 406458,
         "speaker": null,
         "start": 406306,
         "text": "to"
        },
        {
         "confidence": 0.6885,
         "end": 407062,
         "speaker": null,
         "start": 406484,
         "text": "analyze,"
        },
        {
         "confidence": 0.99222,
         "end": 407674,
         "speaker": null,
         "start": 407146,
         "text": "visualize"
        },
        {
         "confidence": 0.65,
         "end": 407898,
         "speaker": null,
         "start": 407722,
         "text": "and"
        },
        {
         "confidence": 0.40861,
         "end": 408418,
         "speaker": null,
         "start": 407924,
         "text": "manipulate"
        },
        {
         "confidence": 0.98959,
         "end": 408762,
         "speaker": null,
         "start": 408454,
         "text": "data."
        },
        {
         "confidence": 0.94655,
         "end": 409222,
         "speaker": null,
         "start": 408836,
         "text": "Pandas"
        },
        {
         "confidence": 0.98,
         "end": 409326,
         "speaker": null,
         "start": 409246,
         "text": "and"
        },
        {
         "confidence": 0.07097,
         "end": 409750,
         "speaker": null,
         "start": 409328,
         "text": "Numpire"
        },
        {
         "confidence": 0.99307,
         "end": 410034,
         "speaker": null,
         "start": 409810,
         "text": "also"
        },
        {
         "confidence": 0.67966,
         "end": 410422,
         "speaker": null,
         "start": 410072,
         "text": "introduced"
        },
        {
         "confidence": 0.99782,
         "end": 410598,
         "speaker": null,
         "start": 410446,
         "text": "some"
        },
        {
         "confidence": 1,
         "end": 410742,
         "speaker": null,
         "start": 410624,
         "text": "new"
        },
        {
         "confidence": 0.99975,
         "end": 410934,
         "speaker": null,
         "start": 410756,
         "text": "data"
        },
        {
         "confidence": 0.9967,
         "end": 411334,
         "speaker": null,
         "start": 410972,
         "text": "structures,"
        },
        {
         "confidence": 0.99762,
         "end": 411522,
         "speaker": null,
         "start": 411382,
         "text": "like"
        },
        {
         "confidence": 0.62183,
         "end": 411874,
         "speaker": null,
         "start": 411536,
         "text": "arrays,"
        },
        {
         "confidence": 0.96482,
         "end": 412258,
         "speaker": null,
         "start": 411922,
         "text": "series,"
        },
        {
         "confidence": 0.98,
         "end": 412386,
         "speaker": null,
         "start": 412294,
         "text": "and"
        },
        {
         "confidence": 0.67446,
         "end": 412554,
         "speaker": null,
         "start": 412388,
         "text": "data"
        },
        {
         "confidence": 0.76433,
         "end": 412930,
         "speaker": null,
         "start": 412592,
         "text": "frames."
        },
        {
         "confidence": 0.91165,
         "end": 413142,
         "speaker": null,
         "start": 412990,
         "text": "So"
        },
        {
         "confidence": 0.99766,
         "end": 413262,
         "speaker": null,
         "start": 413156,
         "text": "if"
        },
        {
         "confidence": 0.99954,
         "end": 413346,
         "speaker": null,
         "start": 413276,
         "text": "you"
        },
        {
         "confidence": 0.61704,
         "end": 413478,
         "speaker": null,
         "start": 413348,
         "text": "have"
        },
        {
         "confidence": 0.99744,
         "end": 413622,
         "speaker": null,
         "start": 413504,
         "text": "an"
        },
        {
         "confidence": 0.96615,
         "end": 414154,
         "speaker": null,
         "start": 413636,
         "text": "understanding"
        },
        {
         "confidence": 1,
         "end": 414342,
         "speaker": null,
         "start": 414202,
         "text": "of"
        },
        {
         "confidence": 0.9993,
         "end": 414462,
         "speaker": null,
         "start": 414356,
         "text": "how"
        },
        {
         "confidence": 0.97,
         "end": 414582,
         "speaker": null,
         "start": 414476,
         "text": "the"
        },
        {
         "confidence": 0.99579,
         "end": 414702,
         "speaker": null,
         "start": 414596,
         "text": "more"
        },
        {
         "confidence": 0.94274,
         "end": 414958,
         "speaker": null,
         "start": 414716,
         "text": "basic"
        },
        {
         "confidence": 0.99948,
         "end": 415194,
         "speaker": null,
         "start": 414994,
         "text": "data"
        },
        {
         "confidence": 0.97019,
         "end": 415558,
         "speaker": null,
         "start": 415232,
         "text": "structures"
        },
        {
         "confidence": 0.99383,
         "end": 415758,
         "speaker": null,
         "start": 415594,
         "text": "work"
        },
        {
         "confidence": 0.9486,
         "end": 415866,
         "speaker": null,
         "start": 415784,
         "text": "in"
        },
        {
         "confidence": 0.68005,
         "end": 416362,
         "speaker": null,
         "start": 415868,
         "text": "Python,"
        },
        {
         "confidence": 0.9991,
         "end": 416622,
         "speaker": null,
         "start": 416446,
         "text": "you"
        },
        {
         "confidence": 0.54644,
         "end": 416778,
         "speaker": null,
         "start": 416636,
         "text": "should"
        },
        {
         "confidence": 0.99957,
         "end": 416922,
         "speaker": null,
         "start": 416804,
         "text": "be"
        },
        {
         "confidence": 0.99984,
         "end": 417078,
         "speaker": null,
         "start": 416936,
         "text": "able"
        },
        {
         "confidence": 1,
         "end": 417186,
         "speaker": null,
         "start": 417104,
         "text": "to"
        },
        {
         "confidence": 0.99924,
         "end": 417318,
         "speaker": null,
         "start": 417188,
         "text": "pick"
        },
        {
         "confidence": 0.99554,
         "end": 417534,
         "speaker": null,
         "start": 417344,
         "text": "these"
        },
        {
         "confidence": 0.99925,
         "end": 417810,
         "speaker": null,
         "start": 417572,
         "text": "up"
        },
        {
         "confidence": 0.97179,
         "end": 418378,
         "speaker": null,
         "start": 417860,
         "text": "relatively"
        },
        {
         "confidence": 0.99939,
         "end": 418758,
         "speaker": null,
         "start": 418414,
         "text": "quickly."
        },
        {
         "confidence": 0.88,
         "end": 419058,
         "speaker": null,
         "start": 418844,
         "text": "And"
        },
        {
         "confidence": 0.97417,
         "end": 419242,
         "speaker": null,
         "start": 419084,
         "text": "that's"
        },
        {
         "confidence": 0.99,
         "end": 419526,
         "speaker": null,
         "start": 419266,
         "text": "it."
        },
        {
         "confidence": 0.99304,
         "end": 419778,
         "speaker": null,
         "start": 419588,
         "text": "With"
        },
        {
         "confidence": 0.99918,
         "end": 419994,
         "speaker": null,
         "start": 419804,
         "text": "those"
        },
        {
         "confidence": 1,
         "end": 420270,
         "speaker": null,
         "start": 420032,
         "text": "seven"
        },
        {
         "confidence": 0.99903,
         "end": 420606,
         "speaker": null,
         "start": 420320,
         "text": "things,"
        },
        {
         "confidence": 0.99839,
         "end": 420822,
         "speaker": null,
         "start": 420668,
         "text": "you"
        },
        {
         "confidence": 0.99871,
         "end": 420942,
         "speaker": null,
         "start": 420836,
         "text": "have"
        },
        {
         "confidence": 1,
         "end": 421098,
         "speaker": null,
         "start": 420956,
         "text": "the"
        },
        {
         "confidence": 0.99484,
         "end": 421378,
         "speaker": null,
         "start": 421124,
         "text": "basics"
        },
        {
         "confidence": 1,
         "end": 421578,
         "speaker": null,
         "start": 421414,
         "text": "of"
        },
        {
         "confidence": 0.99231,
         "end": 421990,
         "speaker": null,
         "start": 421604,
         "text": "coding"
        },
        {
         "confidence": 0.99401,
         "end": 422238,
         "speaker": null,
         "start": 422050,
         "text": "that"
        },
        {
         "confidence": 0.96097,
         "end": 422422,
         "speaker": null,
         "start": 422264,
         "text": "you'll"
        },
        {
         "confidence": 0.99993,
         "end": 422634,
         "speaker": null,
         "start": 422446,
         "text": "need"
        },
        {
         "confidence": 0.99,
         "end": 422946,
         "speaker": null,
         "start": 422672,
         "text": "for"
        },
        {
         "confidence": 0.99838,
         "end": 423234,
         "speaker": null,
         "start": 423008,
         "text": "starting"
        },
        {
         "confidence": 1,
         "end": 423438,
         "speaker": null,
         "start": 423272,
         "text": "to"
        },
        {
         "confidence": 0.9994,
         "end": 423654,
         "speaker": null,
         "start": 423464,
         "text": "work"
        },
        {
         "confidence": 0.99923,
         "end": 423858,
         "speaker": null,
         "start": 423692,
         "text": "with"
        },
        {
         "confidence": 0.99918,
         "end": 424182,
         "speaker": null,
         "start": 423884,
         "text": "data."
        },
        {
         "confidence": 0.99933,
         "end": 424422,
         "speaker": null,
         "start": 424256,
         "text": "If"
        },
        {
         "confidence": 0.96704,
         "end": 424582,
         "speaker": null,
         "start": 424436,
         "text": "you're"
        },
        {
         "confidence": 0.99944,
         "end": 424794,
         "speaker": null,
         "start": 424606,
         "text": "watching"
        },
        {
         "confidence": 0.99825,
         "end": 424962,
         "speaker": null,
         "start": 424832,
         "text": "this"
        },
        {
         "confidence": 0.66,
         "end": 425046,
         "speaker": null,
         "start": 424976,
         "text": "and"
        },
        {
         "confidence": 0.68505,
         "end": 425146,
         "speaker": null,
         "start": 425048,
         "text": "you're"
        },
        {
         "confidence": 0.89,
         "end": 425226,
         "speaker": null,
         "start": 425158,
         "text": "a"
        },
        {
         "confidence": 0.78808,
         "end": 425458,
         "speaker": null,
         "start": 425228,
         "text": "software"
        },
        {
         "confidence": 0.99941,
         "end": 426022,
         "speaker": null,
         "start": 425494,
         "text": "engineer,"
        },
        {
         "confidence": 0.99922,
         "end": 426318,
         "speaker": null,
         "start": 426106,
         "text": "you"
        },
        {
         "confidence": 0.99971,
         "end": 426534,
         "speaker": null,
         "start": 426344,
         "text": "probably"
        },
        {
         "confidence": 0.9995,
         "end": 426738,
         "speaker": null,
         "start": 426572,
         "text": "think"
        },
        {
         "confidence": 1,
         "end": 426882,
         "speaker": null,
         "start": 426764,
         "text": "I"
        },
        {
         "confidence": 0.99925,
         "end": 427074,
         "speaker": null,
         "start": 426896,
         "text": "left"
        },
        {
         "confidence": 0.99917,
         "end": 427350,
         "speaker": null,
         "start": 427112,
         "text": "something"
        },
        {
         "confidence": 0.99984,
         "end": 427722,
         "speaker": null,
         "start": 427400,
         "text": "important"
        },
        {
         "confidence": 0.68109,
         "end": 428106,
         "speaker": null,
         "start": 427796,
         "text": "out."
        },
        {
         "confidence": 0.99813,
         "end": 428358,
         "speaker": null,
         "start": 428168,
         "text": "What"
        },
        {
         "confidence": 0.83554,
         "end": 428542,
         "speaker": null,
         "start": 428384,
         "text": "I've"
        },
        {
         "confidence": 0.9878,
         "end": 428902,
         "speaker": null,
         "start": 428566,
         "text": "purposely"
        },
        {
         "confidence": 0.35702,
         "end": 429298,
         "speaker": null,
         "start": 428926,
         "text": "omitted"
        },
        {
         "confidence": 0.99544,
         "end": 429498,
         "speaker": null,
         "start": 429334,
         "text": "from"
        },
        {
         "confidence": 0.99718,
         "end": 429678,
         "speaker": null,
         "start": 429524,
         "text": "this"
        },
        {
         "confidence": 0.99983,
         "end": 430002,
         "speaker": null,
         "start": 429704,
         "text": "list"
        },
        {
         "confidence": 0.99899,
         "end": 430278,
         "speaker": null,
         "start": 430076,
         "text": "is"
        },
        {
         "confidence": 0.99801,
         "end": 430458,
         "speaker": null,
         "start": 430304,
         "text": "an"
        },
        {
         "confidence": 0.99898,
         "end": 430954,
         "speaker": null,
         "start": 430484,
         "text": "explanation"
        },
        {
         "confidence": 0.97,
         "end": 431214,
         "speaker": null,
         "start": 431002,
         "text": "of"
        },
        {
         "confidence": 0.99914,
         "end": 431710,
         "speaker": null,
         "start": 431252,
         "text": "classes."
        },
        {
         "confidence": 0.85379,
         "end": 431994,
         "speaker": null,
         "start": 431770,
         "text": "So"
        },
        {
         "confidence": 0.99843,
         "end": 432358,
         "speaker": null,
         "start": 432032,
         "text": "classes"
        },
        {
         "confidence": 0.99901,
         "end": 432522,
         "speaker": null,
         "start": 432394,
         "text": "are"
        },
        {
         "confidence": 0.95,
         "end": 432678,
         "speaker": null,
         "start": 432536,
         "text": "the"
        },
        {
         "confidence": 0.99712,
         "end": 433054,
         "speaker": null,
         "start": 432704,
         "text": "foundation"
        },
        {
         "confidence": 1,
         "end": 433314,
         "speaker": null,
         "start": 433102,
         "text": "of"
        },
        {
         "confidence": 0.99956,
         "end": 433590,
         "speaker": null,
         "start": 433352,
         "text": "object"
        },
        {
         "confidence": 0.5959,
         "end": 434158,
         "speaker": null,
         "start": 433640,
         "text": "oriented"
        },
        {
         "confidence": 0.99895,
         "end": 434782,
         "speaker": null,
         "start": 434194,
         "text": "programming,"
        },
        {
         "confidence": 0.78,
         "end": 435114,
         "speaker": null,
         "start": 434866,
         "text": "and"
        },
        {
         "confidence": 0.99991,
         "end": 435354,
         "speaker": null,
         "start": 435152,
         "text": "object"
        },
        {
         "confidence": 0.53913,
         "end": 435898,
         "speaker": null,
         "start": 435392,
         "text": "oriented"
        },
        {
         "confidence": 0.99916,
         "end": 436582,
         "speaker": null,
         "start": 435934,
         "text": "programming"
        },
        {
         "confidence": 0.99938,
         "end": 436878,
         "speaker": null,
         "start": 436666,
         "text": "is"
        },
        {
         "confidence": 1,
         "end": 437022,
         "speaker": null,
         "start": 436904,
         "text": "a"
        },
        {
         "confidence": 0.99906,
         "end": 437422,
         "speaker": null,
         "start": 437036,
         "text": "programming"
        },
        {
         "confidence": 0.99994,
         "end": 437634,
         "speaker": null,
         "start": 437446,
         "text": "model"
        },
        {
         "confidence": 0.99887,
         "end": 437838,
         "speaker": null,
         "start": 437672,
         "text": "that"
        },
        {
         "confidence": 0.72414,
         "end": 438358,
         "speaker": null,
         "start": 437864,
         "text": "organizes"
        },
        {
         "confidence": 0.99975,
         "end": 438594,
         "speaker": null,
         "start": 438394,
         "text": "code"
        },
        {
         "confidence": 0.99916,
         "end": 438870,
         "speaker": null,
         "start": 438632,
         "text": "around"
        },
        {
         "confidence": 0.9296,
         "end": 439414,
         "speaker": null,
         "start": 438920,
         "text": "objects"
        },
        {
         "confidence": 0.99992,
         "end": 439674,
         "speaker": null,
         "start": 439462,
         "text": "rather"
        },
        {
         "confidence": 0.99987,
         "end": 439914,
         "speaker": null,
         "start": 439712,
         "text": "than"
        },
        {
         "confidence": 0.71568,
         "end": 440398,
         "speaker": null,
         "start": 439952,
         "text": "functions"
        },
        {
         "confidence": 0.99743,
         "end": 440598,
         "speaker": null,
         "start": 440434,
         "text": "or"
        },
        {
         "confidence": 0.98468,
         "end": 441226,
         "speaker": null,
         "start": 440624,
         "text": "logic."
        },
        {
         "confidence": 0.73673,
         "end": 441726,
         "speaker": null,
         "start": 441358,
         "text": "Object"
        },
        {
         "confidence": 0.49172,
         "end": 442258,
         "speaker": null,
         "start": 441788,
         "text": "oriented"
        },
        {
         "confidence": 0.99915,
         "end": 442702,
         "speaker": null,
         "start": 442294,
         "text": "programming"
        },
        {
         "confidence": 0.97425,
         "end": 442878,
         "speaker": null,
         "start": 442726,
         "text": "is"
        },
        {
         "confidence": 0.56965,
         "end": 443254,
         "speaker": null,
         "start": 442904,
         "text": "incredibly"
        },
        {
         "confidence": 0.99988,
         "end": 443746,
         "speaker": null,
         "start": 443302,
         "text": "powerful,"
        },
        {
         "confidence": 0.99071,
         "end": 444018,
         "speaker": null,
         "start": 443818,
         "text": "but"
        },
        {
         "confidence": 0.9892,
         "end": 444394,
         "speaker": null,
         "start": 444044,
         "text": "honestly,"
        },
        {
         "confidence": 0.99,
         "end": 444582,
         "speaker": null,
         "start": 444442,
         "text": "it"
        },
        {
         "confidence": 0.90189,
         "end": 444838,
         "speaker": null,
         "start": 444596,
         "text": "isn't"
        },
        {
         "confidence": 0.99629,
         "end": 445074,
         "speaker": null,
         "start": 444874,
         "text": "very"
        },
        {
         "confidence": 0.46806,
         "end": 445474,
         "speaker": null,
         "start": 445112,
         "text": "relevant"
        },
        {
         "confidence": 1,
         "end": 445662,
         "speaker": null,
         "start": 445522,
         "text": "for"
        },
        {
         "confidence": 0.99,
         "end": 445782,
         "speaker": null,
         "start": 445676,
         "text": "the"
        },
        {
         "confidence": 0.98058,
         "end": 446122,
         "speaker": null,
         "start": 445796,
         "text": "beginner"
        },
        {
         "confidence": 0.99455,
         "end": 446506,
         "speaker": null,
         "start": 446146,
         "text": "stages"
        },
        {
         "confidence": 1,
         "end": 446778,
         "speaker": null,
         "start": 446578,
         "text": "of"
        },
        {
         "confidence": 0.99963,
         "end": 446994,
         "speaker": null,
         "start": 446804,
         "text": "working"
        },
        {
         "confidence": 0.9992,
         "end": 447162,
         "speaker": null,
         "start": 447032,
         "text": "with"
        },
        {
         "confidence": 0.99565,
         "end": 447462,
         "speaker": null,
         "start": 447176,
         "text": "data."
        },
        {
         "confidence": 0.55,
         "end": 447738,
         "speaker": null,
         "start": 447536,
         "text": "It"
        },
        {
         "confidence": 0.98323,
         "end": 447954,
         "speaker": null,
         "start": 447764,
         "text": "is"
        },
        {
         "confidence": 0.99985,
         "end": 448194,
         "speaker": null,
         "start": 447992,
         "text": "something"
        },
        {
         "confidence": 0.99623,
         "end": 448362,
         "speaker": null,
         "start": 448232,
         "text": "you"
        },
        {
         "confidence": 0.84766,
         "end": 448554,
         "speaker": null,
         "start": 448376,
         "text": "should"
        },
        {
         "confidence": 0.99846,
         "end": 448974,
         "speaker": null,
         "start": 448592,
         "text": "absolutely"
        },
        {
         "confidence": 0.99858,
         "end": 449458,
         "speaker": null,
         "start": 449072,
         "text": "explore"
        },
        {
         "confidence": 0.95657,
         "end": 449622,
         "speaker": null,
         "start": 449494,
         "text": "on"
        },
        {
         "confidence": 0.99875,
         "end": 449742,
         "speaker": null,
         "start": 449636,
         "text": "your"
        },
        {
         "confidence": 0.99967,
         "end": 450114,
         "speaker": null,
         "start": 449756,
         "text": "own"
        },
        {
         "confidence": 0.64533,
         "end": 450510,
         "speaker": null,
         "start": 450212,
         "text": "after"
        },
        {
         "confidence": 0.84551,
         "end": 450778,
         "speaker": null,
         "start": 450560,
         "text": "you've"
        },
        {
         "confidence": 0.94096,
         "end": 451114,
         "speaker": null,
         "start": 450814,
         "text": "learned"
        },
        {
         "confidence": 0.99287,
         "end": 451410,
         "speaker": null,
         "start": 451162,
         "text": "these"
        },
        {
         "confidence": 0.9986,
         "end": 451674,
         "speaker": null,
         "start": 451460,
         "text": "other"
        },
        {
         "confidence": 0.91307,
         "end": 452134,
         "speaker": null,
         "start": 451712,
         "text": "concepts."
        },
        {
         "confidence": 0.95147,
         "end": 452466,
         "speaker": null,
         "start": 452182,
         "text": "Well,"
        },
        {
         "confidence": 0.99964,
         "end": 452682,
         "speaker": null,
         "start": 452528,
         "text": "in"
        },
        {
         "confidence": 1,
         "end": 452802,
         "speaker": null,
         "start": 452696,
         "text": "the"
        },
        {
         "confidence": 0.99,
         "end": 453214,
         "speaker": null,
         "start": 452816,
         "text": "description,"
        },
        {
         "confidence": 0.95224,
         "end": 453502,
         "speaker": null,
         "start": 453262,
         "text": "I've"
        },
        {
         "confidence": 0.99886,
         "end": 453742,
         "speaker": null,
         "start": 453526,
         "text": "linked"
        },
        {
         "confidence": 1,
         "end": 453846,
         "speaker": null,
         "start": 453766,
         "text": "a"
        },
        {
         "confidence": 0.62317,
         "end": 454014,
         "speaker": null,
         "start": 453848,
         "text": "few"
        },
        {
         "confidence": 0.99499,
         "end": 454254,
         "speaker": null,
         "start": 454052,
         "text": "great"
        },
        {
         "confidence": 0.99861,
         "end": 454798,
         "speaker": null,
         "start": 454292,
         "text": "resources"
        },
        {
         "confidence": 1,
         "end": 454998,
         "speaker": null,
         "start": 454834,
         "text": "for"
        },
        {
         "confidence": 0.99936,
         "end": 455286,
         "speaker": null,
         "start": 455024,
         "text": "learning"
        },
        {
         "confidence": 0.99831,
         "end": 455538,
         "speaker": null,
         "start": 455348,
         "text": "all"
        },
        {
         "confidence": 0.96,
         "end": 455646,
         "speaker": null,
         "start": 455564,
         "text": "of"
        },
        {
         "confidence": 0.99,
         "end": 455778,
         "speaker": null,
         "start": 455648,
         "text": "the"
        },
        {
         "confidence": 0.56941,
         "end": 456358,
         "speaker": null,
         "start": 455804,
         "text": "concepts,"
        },
        {
         "confidence": 0.99971,
         "end": 457018,
         "speaker": null,
         "start": 456454,
         "text": "including"
        },
        {
         "confidence": 1,
         "end": 457218,
         "speaker": null,
         "start": 457054,
         "text": "the"
        },
        {
         "confidence": 0.99932,
         "end": 457542,
         "speaker": null,
         "start": 457244,
         "text": "exact"
        },
        {
         "confidence": 1,
         "end": 457818,
         "speaker": null,
         "start": 457616,
         "text": "one"
        },
        {
         "confidence": 0.9967,
         "end": 457998,
         "speaker": null,
         "start": 457844,
         "text": "from"
        },
        {
         "confidence": 0.98581,
         "end": 458214,
         "speaker": null,
         "start": 458024,
         "text": "Free"
        },
        {
         "confidence": 0.97993,
         "end": 458418,
         "speaker": null,
         "start": 458252,
         "text": "Code"
        },
        {
         "confidence": 0.40326,
         "end": 458742,
         "speaker": null,
         "start": 458444,
         "text": "Camp"
        },
        {
         "confidence": 0.99635,
         "end": 459018,
         "speaker": null,
         "start": 458816,
         "text": "that"
        },
        {
         "confidence": 1,
         "end": 459162,
         "speaker": null,
         "start": 459044,
         "text": "I"
        },
        {
         "confidence": 0.99647,
         "end": 459354,
         "speaker": null,
         "start": 459176,
         "text": "gave"
        },
        {
         "confidence": 0.99786,
         "end": 459522,
         "speaker": null,
         "start": 459392,
         "text": "my"
        },
        {
         "confidence": 0.98677,
         "end": 459858,
         "speaker": null,
         "start": 459536,
         "text": "friend."
        },
        {
         "confidence": 0.99987,
         "end": 460158,
         "speaker": null,
         "start": 459944,
         "text": "Most"
        },
        {
         "confidence": 1,
         "end": 460302,
         "speaker": null,
         "start": 460184,
         "text": "of"
        },
        {
         "confidence": 1,
         "end": 460458,
         "speaker": null,
         "start": 460316,
         "text": "them"
        },
        {
         "confidence": 0.99862,
         "end": 460638,
         "speaker": null,
         "start": 460484,
         "text": "are"
        },
        {
         "confidence": 0.99984,
         "end": 460998,
         "speaker": null,
         "start": 460664,
         "text": "completely"
        },
        {
         "confidence": 0.99997,
         "end": 461442,
         "speaker": null,
         "start": 461084,
         "text": "free,"
        },
        {
         "confidence": 0.99383,
         "end": 461718,
         "speaker": null,
         "start": 461516,
         "text": "but"
        },
        {
         "confidence": 1,
         "end": 461862,
         "speaker": null,
         "start": 461744,
         "text": "I"
        },
        {
         "confidence": 0.9929,
         "end": 462018,
         "speaker": null,
         "start": 461876,
         "text": "have"
        },
        {
         "confidence": 0.99868,
         "end": 462234,
         "speaker": null,
         "start": 462044,
         "text": "also"
        },
        {
         "confidence": 0.99825,
         "end": 462658,
         "speaker": null,
         "start": 462272,
         "text": "included"
        },
        {
         "confidence": 0.99892,
         "end": 462822,
         "speaker": null,
         "start": 462694,
         "text": "my"
        },
        {
         "confidence": 0.99956,
         "end": 463138,
         "speaker": null,
         "start": 462836,
         "text": "discount"
        },
        {
         "confidence": 0.99969,
         "end": 463374,
         "speaker": null,
         "start": 463174,
         "text": "link"
        },
        {
         "confidence": 1,
         "end": 463542,
         "speaker": null,
         "start": 463412,
         "text": "for"
        },
        {
         "confidence": 1,
         "end": 463698,
         "speaker": null,
         "start": 463556,
         "text": "the"
        },
        {
         "confidence": 0.99986,
         "end": 463914,
         "speaker": null,
         "start": 463724,
         "text": "course"
        },
        {
         "confidence": 0.99644,
         "end": 464082,
         "speaker": null,
         "start": 463952,
         "text": "on"
        },
        {
         "confidence": 0.98,
         "end": 464718,
         "speaker": null,
         "start": 464096,
         "text": "365"
        },
        {
         "confidence": 0.9978,
         "end": 464934,
         "speaker": null,
         "start": 464744,
         "text": "Data"
        },
        {
         "confidence": 0.56158,
         "end": 465418,
         "speaker": null,
         "start": 464972,
         "text": "Science."
        },
        {
         "confidence": 0.84031,
         "end": 465774,
         "speaker": null,
         "start": 465514,
         "text": "So"
        },
        {
         "confidence": 0.9985,
         "end": 465942,
         "speaker": null,
         "start": 465812,
         "text": "if"
        },
        {
         "confidence": 0.95487,
         "end": 466102,
         "speaker": null,
         "start": 465956,
         "text": "you're"
        },
        {
         "confidence": 0.9999,
         "end": 466314,
         "speaker": null,
         "start": 466126,
         "text": "looking"
        },
        {
         "confidence": 1,
         "end": 466482,
         "speaker": null,
         "start": 466352,
         "text": "for"
        },
        {
         "confidence": 0.83,
         "end": 466602,
         "speaker": null,
         "start": 466496,
         "text": "a"
        },
        {
         "confidence": 0.58748,
         "end": 466930,
         "speaker": null,
         "start": 466616,
         "text": "resource"
        },
        {
         "confidence": 0.98421,
         "end": 467178,
         "speaker": null,
         "start": 466990,
         "text": "just"
        },
        {
         "confidence": 1,
         "end": 467322,
         "speaker": null,
         "start": 467204,
         "text": "to"
        },
        {
         "confidence": 0.99974,
         "end": 467478,
         "speaker": null,
         "start": 467336,
         "text": "take"
        },
        {
         "confidence": 0.99644,
         "end": 467658,
         "speaker": null,
         "start": 467504,
         "text": "you"
        },
        {
         "confidence": 0.99,
         "end": 468018,
         "speaker": null,
         "start": 467684,
         "text": "past"
        },
        {
         "confidence": 0.99,
         "end": 468426,
         "speaker": null,
         "start": 468104,
         "text": "the"
        },
        {
         "confidence": 0.99477,
         "end": 468678,
         "speaker": null,
         "start": 468488,
         "text": "more"
        },
        {
         "confidence": 0.98072,
         "end": 468958,
         "speaker": null,
         "start": 468704,
         "text": "basic"
        },
        {
         "confidence": 0.99848,
         "end": 469390,
         "speaker": null,
         "start": 468994,
         "text": "coding"
        },
        {
         "confidence": 1,
         "end": 469674,
         "speaker": null,
         "start": 469450,
         "text": "and"
        },
        {
         "confidence": 0.99514,
         "end": 469878,
         "speaker": null,
         "start": 469712,
         "text": "more"
        },
        {
         "confidence": 0.99793,
         "end": 470094,
         "speaker": null,
         "start": 469904,
         "text": "towards"
        },
        {
         "confidence": 0.98919,
         "end": 470518,
         "speaker": null,
         "start": 470132,
         "text": "tangible"
        },
        {
         "confidence": 0.99269,
         "end": 470754,
         "speaker": null,
         "start": 470554,
         "text": "data"
        },
        {
         "confidence": 0.89521,
         "end": 471022,
         "speaker": null,
         "start": 470792,
         "text": "science"
        },
        {
         "confidence": 0.98988,
         "end": 471394,
         "speaker": null,
         "start": 471046,
         "text": "skills,"
        },
        {
         "confidence": 1,
         "end": 471582,
         "speaker": null,
         "start": 471442,
         "text": "I"
        },
        {
         "confidence": 0.99214,
         "end": 471738,
         "speaker": null,
         "start": 471596,
         "text": "would"
        },
        {
         "confidence": 0.99994,
         "end": 472026,
         "speaker": null,
         "start": 471764,
         "text": "recommend"
        },
        {
         "confidence": 0.99708,
         "end": 472342,
         "speaker": null,
         "start": 472088,
         "text": "checking"
        },
        {
         "confidence": 0.99003,
         "end": 472518,
         "speaker": null,
         "start": 472366,
         "text": "that"
        },
        {
         "confidence": 0.99962,
         "end": 472770,
         "speaker": null,
         "start": 472544,
         "text": "out."
        },
        {
         "confidence": 1,
         "end": 472998,
         "speaker": null,
         "start": 472820,
         "text": "One"
        },
        {
         "confidence": 0.63879,
         "end": 473178,
         "speaker": null,
         "start": 473024,
         "text": "thing"
        },
        {
         "confidence": 0.98723,
         "end": 473322,
         "speaker": null,
         "start": 473204,
         "text": "that"
        },
        {
         "confidence": 1,
         "end": 473442,
         "speaker": null,
         "start": 473336,
         "text": "I"
        },
        {
         "confidence": 0.99678,
         "end": 473706,
         "speaker": null,
         "start": 473456,
         "text": "love"
        },
        {
         "confidence": 0.99973,
         "end": 474030,
         "speaker": null,
         "start": 473768,
         "text": "about"
        },
        {
         "confidence": 0.99925,
         "end": 474258,
         "speaker": null,
         "start": 474080,
         "text": "many"
        },
        {
         "confidence": 1,
         "end": 474402,
         "speaker": null,
         "start": 474284,
         "text": "of"
        },
        {
         "confidence": 1,
         "end": 474522,
         "speaker": null,
         "start": 474416,
         "text": "the"
        },
        {
         "confidence": 0.99739,
         "end": 474802,
         "speaker": null,
         "start": 474536,
         "text": "courses"
        },
        {
         "confidence": 0.96061,
         "end": 474942,
         "speaker": null,
         "start": 474826,
         "text": "that"
        },
        {
         "confidence": 0.92644,
         "end": 475102,
         "speaker": null,
         "start": 474956,
         "text": "I've"
        },
        {
         "confidence": 0.99927,
         "end": 475618,
         "speaker": null,
         "start": 475126,
         "text": "linked"
        },
        {
         "confidence": 0.99928,
         "end": 475974,
         "speaker": null,
         "start": 475714,
         "text": "is"
        },
        {
         "confidence": 0.98428,
         "end": 476142,
         "speaker": null,
         "start": 476012,
         "text": "that"
        },
        {
         "confidence": 0.99734,
         "end": 476298,
         "speaker": null,
         "start": 476156,
         "text": "they"
        },
        {
         "confidence": 0.91593,
         "end": 476478,
         "speaker": null,
         "start": 476324,
         "text": "have"
        },
        {
         "confidence": 0.99806,
         "end": 476658,
         "speaker": null,
         "start": 476504,
         "text": "these"
        },
        {
         "confidence": 0.99893,
         "end": 476838,
         "speaker": null,
         "start": 476684,
         "text": "little"
        },
        {
         "confidence": 0.94515,
         "end": 477118,
         "speaker": null,
         "start": 476864,
         "text": "mini"
        },
        {
         "confidence": 0.89918,
         "end": 477538,
         "speaker": null,
         "start": 477154,
         "text": "projects"
        },
        {
         "confidence": 0.92918,
         "end": 477862,
         "speaker": null,
         "start": 477574,
         "text": "baked"
        },
        {
         "confidence": 0.9951,
         "end": 478038,
         "speaker": null,
         "start": 477886,
         "text": "into"
        },
        {
         "confidence": 0.99,
         "end": 478182,
         "speaker": null,
         "start": 478064,
         "text": "the"
        },
        {
         "confidence": 0.82633,
         "end": 478738,
         "speaker": null,
         "start": 478196,
         "text": "coursework."
        },
        {
         "confidence": 0.99,
         "end": 479022,
         "speaker": null,
         "start": 478834,
         "text": "I"
        },
        {
         "confidence": 0.99886,
         "end": 479214,
         "speaker": null,
         "start": 479036,
         "text": "think"
        },
        {
         "confidence": 0.99982,
         "end": 479526,
         "speaker": null,
         "start": 479252,
         "text": "project"
        },
        {
         "confidence": 0.94323,
         "end": 479886,
         "speaker": null,
         "start": 479588,
         "text": "based"
        },
        {
         "confidence": 0.85772,
         "end": 480174,
         "speaker": null,
         "start": 479948,
         "text": "learning"
        },
        {
         "confidence": 0.99443,
         "end": 480342,
         "speaker": null,
         "start": 480212,
         "text": "is"
        },
        {
         "confidence": 1,
         "end": 480534,
         "speaker": null,
         "start": 480356,
         "text": "the"
        },
        {
         "confidence": 0.99904,
         "end": 480810,
         "speaker": null,
         "start": 480572,
         "text": "single"
        },
        {
         "confidence": 0.99948,
         "end": 481074,
         "speaker": null,
         "start": 480860,
         "text": "most"
        },
        {
         "confidence": 0.99952,
         "end": 481498,
         "speaker": null,
         "start": 481112,
         "text": "effective"
        },
        {
         "confidence": 0.99947,
         "end": 481842,
         "speaker": null,
         "start": 481534,
         "text": "way"
        },
        {
         "confidence": 1,
         "end": 482082,
         "speaker": null,
         "start": 481916,
         "text": "to"
        },
        {
         "confidence": 0.99988,
         "end": 482274,
         "speaker": null,
         "start": 482096,
         "text": "learn"
        },
        {
         "confidence": 0.98909,
         "end": 482710,
         "speaker": null,
         "start": 482312,
         "text": "technical"
        },
        {
         "confidence": 0.89674,
         "end": 483358,
         "speaker": null,
         "start": 482770,
         "text": "concepts."
        },
        {
         "confidence": 0.99974,
         "end": 483786,
         "speaker": null,
         "start": 483454,
         "text": "After"
        },
        {
         "confidence": 1,
         "end": 484146,
         "speaker": null,
         "start": 483848,
         "text": "first"
        },
        {
         "confidence": 0.99825,
         "end": 484542,
         "speaker": null,
         "start": 484208,
         "text": "getting"
        },
        {
         "confidence": 1,
         "end": 484890,
         "speaker": null,
         "start": 484616,
         "text": "a"
        },
        {
         "confidence": 0.99855,
         "end": 485278,
         "speaker": null,
         "start": 484940,
         "text": "basic"
        },
        {
         "confidence": 0.79937,
         "end": 486058,
         "speaker": null,
         "start": 485314,
         "text": "foundation,"
        },
        {
         "confidence": 1,
         "end": 486534,
         "speaker": null,
         "start": 486214,
         "text": "I"
        },
        {
         "confidence": 0.99974,
         "end": 486898,
         "speaker": null,
         "start": 486572,
         "text": "highly"
        },
        {
         "confidence": 0.58756,
         "end": 487222,
         "speaker": null,
         "start": 486934,
         "text": "encourage"
        },
        {
         "confidence": 0.99711,
         "end": 487362,
         "speaker": null,
         "start": 487246,
         "text": "you"
        },
        {
         "confidence": 0.52,
         "end": 487518,
         "speaker": null,
         "start": 487376,
         "text": "to"
        },
        {
         "confidence": 0.99912,
         "end": 487698,
         "speaker": null,
         "start": 487544,
         "text": "think"
        },
        {
         "confidence": 0.99926,
         "end": 488166,
         "speaker": null,
         "start": 487724,
         "text": "about"
        },
        {
         "confidence": 0.9999,
         "end": 488538,
         "speaker": null,
         "start": 488288,
         "text": "how"
        },
        {
         "confidence": 0.99961,
         "end": 488682,
         "speaker": null,
         "start": 488564,
         "text": "you"
        },
        {
         "confidence": 0.99843,
         "end": 488838,
         "speaker": null,
         "start": 488696,
         "text": "can"
        },
        {
         "confidence": 0.99943,
         "end": 489054,
         "speaker": null,
         "start": 488864,
         "text": "use"
        },
        {
         "confidence": 0.99988,
         "end": 489330,
         "speaker": null,
         "start": 489092,
         "text": "code"
        },
        {
         "confidence": 1,
         "end": 489522,
         "speaker": null,
         "start": 489380,
         "text": "to"
        },
        {
         "confidence": 0.99969,
         "end": 489714,
         "speaker": null,
         "start": 489536,
         "text": "build"
        },
        {
         "confidence": 0.99992,
         "end": 490134,
         "speaker": null,
         "start": 489752,
         "text": "things"
        },
        {
         "confidence": 0.99958,
         "end": 490458,
         "speaker": null,
         "start": 490232,
         "text": "that"
        },
        {
         "confidence": 0.99161,
         "end": 490638,
         "speaker": null,
         "start": 490484,
         "text": "would"
        },
        {
         "confidence": 0.99978,
         "end": 490818,
         "speaker": null,
         "start": 490664,
         "text": "be"
        },
        {
         "confidence": 0.991,
         "end": 491194,
         "speaker": null,
         "start": 490844,
         "text": "useful"
        },
        {
         "confidence": 1,
         "end": 491418,
         "speaker": null,
         "start": 491242,
         "text": "to"
        },
        {
         "confidence": 0.9996,
         "end": 491742,
         "speaker": null,
         "start": 491444,
         "text": "you."
        },
        {
         "confidence": 0.76299,
         "end": 492018,
         "speaker": null,
         "start": 491816,
         "text": "So"
        },
        {
         "confidence": 0.98,
         "end": 492198,
         "speaker": null,
         "start": 492044,
         "text": "for"
        },
        {
         "confidence": 0.99961,
         "end": 492378,
         "speaker": null,
         "start": 492224,
         "text": "my"
        },
        {
         "confidence": 0.99768,
         "end": 492630,
         "speaker": null,
         "start": 492404,
         "text": "friend,"
        },
        {
         "confidence": 1,
         "end": 492858,
         "speaker": null,
         "start": 492680,
         "text": "the"
        },
        {
         "confidence": 1,
         "end": 493074,
         "speaker": null,
         "start": 492884,
         "text": "first"
        },
        {
         "confidence": 0.99874,
         "end": 493386,
         "speaker": null,
         "start": 493112,
         "text": "project"
        },
        {
         "confidence": 0.98454,
         "end": 493642,
         "speaker": null,
         "start": 493448,
         "text": "I'm"
        },
        {
         "confidence": 0.99746,
         "end": 493818,
         "speaker": null,
         "start": 493666,
         "text": "having"
        },
        {
         "confidence": 0.74147,
         "end": 493998,
         "speaker": null,
         "start": 493844,
         "text": "him"
        },
        {
         "confidence": 0.99938,
         "end": 494358,
         "speaker": null,
         "start": 494024,
         "text": "do"
        },
        {
         "confidence": 0.99854,
         "end": 494694,
         "speaker": null,
         "start": 494444,
         "text": "is"
        },
        {
         "confidence": 0.9997,
         "end": 495006,
         "speaker": null,
         "start": 494732,
         "text": "create"
        },
        {
         "confidence": 0.88,
         "end": 495222,
         "speaker": null,
         "start": 495068,
         "text": "a"
        },
        {
         "confidence": 0.55746,
         "end": 495682,
         "speaker": null,
         "start": 495236,
         "text": "jujitsu"
        },
        {
         "confidence": 0.96065,
         "end": 495958,
         "speaker": null,
         "start": 495706,
         "text": "drill"
        },
        {
         "confidence": 0.84335,
         "end": 496654,
         "speaker": null,
         "start": 495994,
         "text": "randomizer"
        },
        {
         "confidence": 0.99884,
         "end": 496914,
         "speaker": null,
         "start": 496702,
         "text": "using"
        },
        {
         "confidence": 0.99252,
         "end": 497554,
         "speaker": null,
         "start": 496952,
         "text": "Python."
        },
        {
         "confidence": 0.74967,
         "end": 497862,
         "speaker": null,
         "start": 497662,
         "text": "So"
        },
        {
         "confidence": 0.86,
         "end": 498018,
         "speaker": null,
         "start": 497876,
         "text": "for"
        },
        {
         "confidence": 0.99903,
         "end": 498270,
         "speaker": null,
         "start": 498044,
         "text": "training"
        },
        {
         "confidence": 0.99864,
         "end": 498642,
         "speaker": null,
         "start": 498320,
         "text": "anything,"
        },
        {
         "confidence": 0.90167,
         "end": 498922,
         "speaker": null,
         "start": 498716,
         "text": "it's"
        },
        {
         "confidence": 0.99962,
         "end": 499170,
         "speaker": null,
         "start": 498946,
         "text": "important"
        },
        {
         "confidence": 1,
         "end": 499362,
         "speaker": null,
         "start": 499220,
         "text": "to"
        },
        {
         "confidence": 0.62876,
         "end": 499762,
         "speaker": null,
         "start": 499376,
         "text": "reinforce"
        },
        {
         "confidence": 0.96497,
         "end": 499938,
         "speaker": null,
         "start": 499786,
         "text": "your"
        },
        {
         "confidence": 0.99851,
         "end": 500446,
         "speaker": null,
         "start": 499964,
         "text": "skills."
        },
        {
         "confidence": 0.99603,
         "end": 500718,
         "speaker": null,
         "start": 500518,
         "text": "But"
        },
        {
         "confidence": 1,
         "end": 500862,
         "speaker": null,
         "start": 500744,
         "text": "it"
        },
        {
         "confidence": 0.99918,
         "end": 500982,
         "speaker": null,
         "start": 500876,
         "text": "can"
        },
        {
         "confidence": 0.99653,
         "end": 501138,
         "speaker": null,
         "start": 500996,
         "text": "get"
        },
        {
         "confidence": 0.50079,
         "end": 501574,
         "speaker": null,
         "start": 501164,
         "text": "boring"
        },
        {
         "confidence": 0.99822,
         "end": 501834,
         "speaker": null,
         "start": 501622,
         "text": "working"
        },
        {
         "confidence": 0.99416,
         "end": 502074,
         "speaker": null,
         "start": 501872,
         "text": "on"
        },
        {
         "confidence": 1,
         "end": 502242,
         "speaker": null,
         "start": 502112,
         "text": "the"
        },
        {
         "confidence": 0.99925,
         "end": 502434,
         "speaker": null,
         "start": 502256,
         "text": "same"
        },
        {
         "confidence": 0.81698,
         "end": 502798,
         "speaker": null,
         "start": 502472,
         "text": "basic"
        },
        {
         "confidence": 0.99468,
         "end": 503158,
         "speaker": null,
         "start": 502834,
         "text": "drills"
        },
        {
         "confidence": 0.9996,
         "end": 503358,
         "speaker": null,
         "start": 503194,
         "text": "every"
        },
        {
         "confidence": 0.85907,
         "end": 503610,
         "speaker": null,
         "start": 503384,
         "text": "day."
        },
        {
         "confidence": 0.98602,
         "end": 503902,
         "speaker": null,
         "start": 503660,
         "text": "I'm"
        },
        {
         "confidence": 0.99941,
         "end": 504078,
         "speaker": null,
         "start": 503926,
         "text": "having"
        },
        {
         "confidence": 0.11,
         "end": 504222,
         "speaker": null,
         "start": 504104,
         "text": "to"
        },
        {
         "confidence": 0.99902,
         "end": 504378,
         "speaker": null,
         "start": 504236,
         "text": "make"
        },
        {
         "confidence": 1,
         "end": 504522,
         "speaker": null,
         "start": 504404,
         "text": "a"
        },
        {
         "confidence": 0.99988,
         "end": 504894,
         "speaker": null,
         "start": 504536,
         "text": "program"
        },
        {
         "confidence": 0.99845,
         "end": 505218,
         "speaker": null,
         "start": 504992,
         "text": "that"
        },
        {
         "confidence": 0.99814,
         "end": 505714,
         "speaker": null,
         "start": 505244,
         "text": "essentially"
        },
        {
         "confidence": 0.90784,
         "end": 506278,
         "speaker": null,
         "start": 505822,
         "text": "randomly"
        },
        {
         "confidence": 0.93366,
         "end": 506698,
         "speaker": null,
         "start": 506314,
         "text": "selects"
        },
        {
         "confidence": 1,
         "end": 506862,
         "speaker": null,
         "start": 506734,
         "text": "two"
        },
        {
         "confidence": 0.98,
         "end": 506982,
         "speaker": null,
         "start": 506876,
         "text": "to"
        },
        {
         "confidence": 0.76,
         "end": 507174,
         "speaker": null,
         "start": 506996,
         "text": "three"
        },
        {
         "confidence": 0.58808,
         "end": 507682,
         "speaker": null,
         "start": 507212,
         "text": "drills"
        },
        {
         "confidence": 0.9915,
         "end": 507978,
         "speaker": null,
         "start": 507766,
         "text": "that"
        },
        {
         "confidence": 0.99963,
         "end": 508122,
         "speaker": null,
         "start": 508004,
         "text": "we"
        },
        {
         "confidence": 0.99967,
         "end": 508278,
         "speaker": null,
         "start": 508136,
         "text": "should"
        },
        {
         "confidence": 0.99973,
         "end": 508422,
         "speaker": null,
         "start": 508304,
         "text": "work"
        },
        {
         "confidence": 0.99811,
         "end": 508578,
         "speaker": null,
         "start": 508436,
         "text": "on"
        },
        {
         "confidence": 0.99961,
         "end": 508794,
         "speaker": null,
         "start": 508604,
         "text": "during"
        },
        {
         "confidence": 0.99831,
         "end": 508962,
         "speaker": null,
         "start": 508832,
         "text": "our"
        },
        {
         "confidence": 0.99738,
         "end": 509422,
         "speaker": null,
         "start": 508976,
         "text": "sessions"
        },
        {
         "confidence": 0.99957,
         "end": 509718,
         "speaker": null,
         "start": 509506,
         "text": "from"
        },
        {
         "confidence": 1,
         "end": 509862,
         "speaker": null,
         "start": 509744,
         "text": "a"
        },
        {
         "confidence": 0.99827,
         "end": 510238,
         "speaker": null,
         "start": 509876,
         "text": "larger"
        },
        {
         "confidence": 0.99969,
         "end": 510618,
         "speaker": null,
         "start": 510274,
         "text": "list."
        },
        {
         "confidence": 0.99551,
         "end": 510918,
         "speaker": null,
         "start": 510704,
         "text": "This"
        },
        {
         "confidence": 0.99199,
         "end": 511062,
         "speaker": null,
         "start": 510944,
         "text": "is"
        },
        {
         "confidence": 1,
         "end": 511182,
         "speaker": null,
         "start": 511076,
         "text": "a"
        },
        {
         "confidence": 0.99943,
         "end": 511374,
         "speaker": null,
         "start": 511196,
         "text": "simple"
        },
        {
         "confidence": 0.64475,
         "end": 511722,
         "speaker": null,
         "start": 511412,
         "text": "project,"
        },
        {
         "confidence": 0.99639,
         "end": 511962,
         "speaker": null,
         "start": 511796,
         "text": "but"
        },
        {
         "confidence": 0.93537,
         "end": 512122,
         "speaker": null,
         "start": 511976,
         "text": "it's"
        },
        {
         "confidence": 0.99976,
         "end": 512298,
         "speaker": null,
         "start": 512146,
         "text": "something"
        },
        {
         "confidence": 0.47118,
         "end": 512578,
         "speaker": null,
         "start": 512324,
         "text": "that's"
        },
        {
         "confidence": 0.99947,
         "end": 512998,
         "speaker": null,
         "start": 512614,
         "text": "directly"
        },
        {
         "confidence": 0.9999,
         "end": 513418,
         "speaker": null,
         "start": 513034,
         "text": "relevant"
        },
        {
         "confidence": 0.99,
         "end": 513618,
         "speaker": null,
         "start": 513454,
         "text": "and"
        },
        {
         "confidence": 0.99901,
         "end": 513934,
         "speaker": null,
         "start": 513644,
         "text": "useful"
        },
        {
         "confidence": 1,
         "end": 514158,
         "speaker": null,
         "start": 513982,
         "text": "to"
        },
        {
         "confidence": 0.99592,
         "end": 514338,
         "speaker": null,
         "start": 514184,
         "text": "our"
        },
        {
         "confidence": 0.99959,
         "end": 514518,
         "speaker": null,
         "start": 514364,
         "text": "work"
        },
        {
         "confidence": 0.62,
         "end": 514698,
         "speaker": null,
         "start": 514544,
         "text": "and"
        },
        {
         "confidence": 0.97972,
         "end": 514842,
         "speaker": null,
         "start": 514724,
         "text": "our"
        },
        {
         "confidence": 0.63237,
         "end": 515302,
         "speaker": null,
         "start": 514856,
         "text": "jujitsu"
        },
        {
         "confidence": 0.99902,
         "end": 515586,
         "speaker": null,
         "start": 515326,
         "text": "training."
        },
        {
         "confidence": 0.99757,
         "end": 515838,
         "speaker": null,
         "start": 515648,
         "text": "With"
        },
        {
         "confidence": 0.9987,
         "end": 515982,
         "speaker": null,
         "start": 515864,
         "text": "that"
        },
        {
         "confidence": 0.99707,
         "end": 516138,
         "speaker": null,
         "start": 515996,
         "text": "in"
        },
        {
         "confidence": 0.99986,
         "end": 516390,
         "speaker": null,
         "start": 516164,
         "text": "mind,"
        },
        {
         "confidence": 0.9506,
         "end": 516682,
         "speaker": null,
         "start": 516440,
         "text": "I'd"
        },
        {
         "confidence": 0.99991,
         "end": 516822,
         "speaker": null,
         "start": 516706,
         "text": "love"
        },
        {
         "confidence": 0.98,
         "end": 516942,
         "speaker": null,
         "start": 516836,
         "text": "for"
        },
        {
         "confidence": 0.99943,
         "end": 517062,
         "speaker": null,
         "start": 516956,
         "text": "you"
        },
        {
         "confidence": 1,
         "end": 517182,
         "speaker": null,
         "start": 517076,
         "text": "to"
        },
        {
         "confidence": 0.99917,
         "end": 517474,
         "speaker": null,
         "start": 517196,
         "text": "comment"
        },
        {
         "confidence": 0.99261,
         "end": 517734,
         "speaker": null,
         "start": 517522,
         "text": "below"
        },
        {
         "confidence": 0.99853,
         "end": 517902,
         "speaker": null,
         "start": 517772,
         "text": "with"
        },
        {
         "confidence": 0.99,
         "end": 518022,
         "speaker": null,
         "start": 517916,
         "text": "a"
        },
        {
         "confidence": 0.49123,
         "end": 518398,
         "speaker": null,
         "start": 518036,
         "text": "Python"
        },
        {
         "confidence": 0.99806,
         "end": 518814,
         "speaker": null,
         "start": 518434,
         "text": "project"
        },
        {
         "confidence": 0.99729,
         "end": 519102,
         "speaker": null,
         "start": 518912,
         "text": "that"
        },
        {
         "confidence": 0.82038,
         "end": 519322,
         "speaker": null,
         "start": 519116,
         "text": "you'd"
        },
        {
         "confidence": 0.9368,
         "end": 519534,
         "speaker": null,
         "start": 519346,
         "text": "like"
        },
        {
         "confidence": 1,
         "end": 519702,
         "speaker": null,
         "start": 519572,
         "text": "to"
        },
        {
         "confidence": 0.99896,
         "end": 520038,
         "speaker": null,
         "start": 519716,
         "text": "do,"
        },
        {
         "confidence": 0.98,
         "end": 520338,
         "speaker": null,
         "start": 520124,
         "text": "and"
        },
        {
         "confidence": 0.50224,
         "end": 520522,
         "speaker": null,
         "start": 520364,
         "text": "we'll"
        },
        {
         "confidence": 0.99484,
         "end": 520698,
         "speaker": null,
         "start": 520546,
         "text": "all"
        },
        {
         "confidence": 0.99981,
         "end": 520914,
         "speaker": null,
         "start": 520724,
         "text": "hold"
        },
        {
         "confidence": 0.99985,
         "end": 521082,
         "speaker": null,
         "start": 520952,
         "text": "each"
        },
        {
         "confidence": 0.99959,
         "end": 521238,
         "speaker": null,
         "start": 521096,
         "text": "other"
        },
        {
         "confidence": 0.77243,
         "end": 521854,
         "speaker": null,
         "start": 521264,
         "text": "accountable."
        },
        {
         "confidence": 0.87837,
         "end": 522378,
         "speaker": null,
         "start": 521962,
         "text": "Okay?"
        },
        {
         "confidence": 0.88067,
         "end": 522714,
         "speaker": null,
         "start": 522464,
         "text": "So"
        },
        {
         "confidence": 0.99847,
         "end": 522882,
         "speaker": null,
         "start": 522752,
         "text": "now"
        },
        {
         "confidence": 0.99728,
         "end": 523002,
         "speaker": null,
         "start": 522896,
         "text": "that"
        },
        {
         "confidence": 0.5773,
         "end": 523162,
         "speaker": null,
         "start": 523016,
         "text": "you've"
        },
        {
         "confidence": 0.52233,
         "end": 523366,
         "speaker": null,
         "start": 523186,
         "text": "learned"
        },
        {
         "confidence": 1,
         "end": 523482,
         "speaker": null,
         "start": 523378,
         "text": "the"
        },
        {
         "confidence": 0.99795,
         "end": 523738,
         "speaker": null,
         "start": 523496,
         "text": "basics"
        },
        {
         "confidence": 0.99,
         "end": 523902,
         "speaker": null,
         "start": 523774,
         "text": "of"
        },
        {
         "confidence": 0.80377,
         "end": 524362,
         "speaker": null,
         "start": 523916,
         "text": "Python,"
        },
        {
         "confidence": 0.96106,
         "end": 524658,
         "speaker": null,
         "start": 524446,
         "text": "now"
        },
        {
         "confidence": 0.99677,
         "end": 525162,
         "speaker": null,
         "start": 524684,
         "text": "what?"
        },
        {
         "confidence": 0.9629,
         "end": 525522,
         "speaker": null,
         "start": 525296,
         "text": "If"
        },
        {
         "confidence": 0.90302,
         "end": 525682,
         "speaker": null,
         "start": 525536,
         "text": "you're"
        },
        {
         "confidence": 0.91053,
         "end": 526002,
         "speaker": null,
         "start": 525706,
         "text": "interested"
        },
        {
         "confidence": 0.9979,
         "end": 526278,
         "speaker": null,
         "start": 526076,
         "text": "in"
        },
        {
         "confidence": 0.99943,
         "end": 526494,
         "speaker": null,
         "start": 526304,
         "text": "learning"
        },
        {
         "confidence": 0.99812,
         "end": 526698,
         "speaker": null,
         "start": 526532,
         "text": "more"
        },
        {
         "confidence": 0.99965,
         "end": 526914,
         "speaker": null,
         "start": 526724,
         "text": "about"
        },
        {
         "confidence": 0.99786,
         "end": 527262,
         "speaker": null,
         "start": 526952,
         "text": "data,"
        },
        {
         "confidence": 1,
         "end": 527646,
         "speaker": null,
         "start": 527336,
         "text": "I"
        },
        {
         "confidence": 0.99913,
         "end": 527998,
         "speaker": null,
         "start": 527708,
         "text": "highly"
        },
        {
         "confidence": 0.54412,
         "end": 528378,
         "speaker": null,
         "start": 528034,
         "text": "recommend"
        },
        {
         "confidence": 0.98756,
         "end": 528642,
         "speaker": null,
         "start": 528464,
         "text": "that"
        },
        {
         "confidence": 0.63535,
         "end": 528798,
         "speaker": null,
         "start": 528656,
         "text": "you"
        },
        {
         "confidence": 0.99919,
         "end": 528978,
         "speaker": null,
         "start": 528824,
         "text": "do"
        },
        {
         "confidence": 0.75,
         "end": 529122,
         "speaker": null,
         "start": 529004,
         "text": "a"
        },
        {
         "confidence": 0.47861,
         "end": 529750,
         "speaker": null,
         "start": 529136,
         "text": "datarelated"
        },
        {
         "confidence": 0.99953,
         "end": 530358,
         "speaker": null,
         "start": 529810,
         "text": "project."
        },
        {
         "confidence": 0.99,
         "end": 530814,
         "speaker": null,
         "start": 530504,
         "text": "The"
        },
        {
         "confidence": 0.99846,
         "end": 531090,
         "speaker": null,
         "start": 530852,
         "text": "single"
        },
        {
         "confidence": 0.99906,
         "end": 531318,
         "speaker": null,
         "start": 531140,
         "text": "best"
        },
        {
         "confidence": 0.99915,
         "end": 531534,
         "speaker": null,
         "start": 531344,
         "text": "place"
        },
        {
         "confidence": 1,
         "end": 531702,
         "speaker": null,
         "start": 531572,
         "text": "for"
        },
        {
         "confidence": 0.99782,
         "end": 531894,
         "speaker": null,
         "start": 531716,
         "text": "this"
        },
        {
         "confidence": 0.99676,
         "end": 532098,
         "speaker": null,
         "start": 531932,
         "text": "is"
        },
        {
         "confidence": 0.7,
         "end": 532902,
         "speaker": null,
         "start": 532124,
         "text": "Kaggle.com,"
        },
        {
         "confidence": 0.99816,
         "end": 533142,
         "speaker": null,
         "start": 532976,
         "text": "which"
        },
        {
         "confidence": 0.85047,
         "end": 533302,
         "speaker": null,
         "start": 533156,
         "text": "I've"
        },
        {
         "confidence": 0.99985,
         "end": 533550,
         "speaker": null,
         "start": 533326,
         "text": "mentioned"
        },
        {
         "confidence": 0.99997,
         "end": 534210,
         "speaker": null,
         "start": 533600,
         "text": "before."
        },
        {
         "confidence": 0.99874,
         "end": 534678,
         "speaker": null,
         "start": 534380,
         "text": "If"
        },
        {
         "confidence": 0.86286,
         "end": 534862,
         "speaker": null,
         "start": 534704,
         "text": "that's"
        },
        {
         "confidence": 0.99,
         "end": 534966,
         "speaker": null,
         "start": 534886,
         "text": "a"
        },
        {
         "confidence": 0.98412,
         "end": 535098,
         "speaker": null,
         "start": 534968,
         "text": "bit"
        },
        {
         "confidence": 0.99512,
         "end": 535278,
         "speaker": null,
         "start": 535124,
         "text": "too"
        },
        {
         "confidence": 0.99877,
         "end": 535846,
         "speaker": null,
         "start": 535304,
         "text": "intimidating,"
        },
        {
         "confidence": 0.99961,
         "end": 536082,
         "speaker": null,
         "start": 535918,
         "text": "you"
        },
        {
         "confidence": 0.99861,
         "end": 536238,
         "speaker": null,
         "start": 536096,
         "text": "can"
        },
        {
         "confidence": 0.99995,
         "end": 536490,
         "speaker": null,
         "start": 536264,
         "text": "follow"
        },
        {
         "confidence": 0.99974,
         "end": 536754,
         "speaker": null,
         "start": 536540,
         "text": "along"
        },
        {
         "confidence": 0.72082,
         "end": 536958,
         "speaker": null,
         "start": 536792,
         "text": "on"
        },
        {
         "confidence": 0.99,
         "end": 537066,
         "speaker": null,
         "start": 536984,
         "text": "one"
        },
        {
         "confidence": 1,
         "end": 537126,
         "speaker": null,
         "start": 537068,
         "text": "of"
        },
        {
         "confidence": 0.98,
         "end": 537222,
         "speaker": null,
         "start": 537128,
         "text": "the"
        },
        {
         "confidence": 0.99502,
         "end": 537562,
         "speaker": null,
         "start": 537236,
         "text": "projects"
        },
        {
         "confidence": 0.94413,
         "end": 537702,
         "speaker": null,
         "start": 537586,
         "text": "that"
        },
        {
         "confidence": 0.67842,
         "end": 537922,
         "speaker": null,
         "start": 537716,
         "text": "I've"
        },
        {
         "confidence": 0.99951,
         "end": 538206,
         "speaker": null,
         "start": 537946,
         "text": "done"
        },
        {
         "confidence": 0.61296,
         "end": 538494,
         "speaker": null,
         "start": 538268,
         "text": "or"
        },
        {
         "confidence": 1,
         "end": 538662,
         "speaker": null,
         "start": 538532,
         "text": "one"
        },
        {
         "confidence": 1,
         "end": 538746,
         "speaker": null,
         "start": 538676,
         "text": "of"
        },
        {
         "confidence": 0.98,
         "end": 538878,
         "speaker": null,
         "start": 538748,
         "text": "the"
        },
        {
         "confidence": 0.9708,
         "end": 539266,
         "speaker": null,
         "start": 538904,
         "text": "thousands"
        },
        {
         "confidence": 1,
         "end": 539418,
         "speaker": null,
         "start": 539278,
         "text": "of"
        },
        {
         "confidence": 0.99653,
         "end": 539782,
         "speaker": null,
         "start": 539444,
         "text": "projects"
        },
        {
         "confidence": 0.99362,
         "end": 539994,
         "speaker": null,
         "start": 539806,
         "text": "that"
        },
        {
         "confidence": 0.99751,
         "end": 540198,
         "speaker": null,
         "start": 540032,
         "text": "other"
        },
        {
         "confidence": 0.99981,
         "end": 540414,
         "speaker": null,
         "start": 540224,
         "text": "people"
        },
        {
         "confidence": 0.99105,
         "end": 540618,
         "speaker": null,
         "start": 540452,
         "text": "have"
        },
        {
         "confidence": 0.99987,
         "end": 540834,
         "speaker": null,
         "start": 540644,
         "text": "worked"
        },
        {
         "confidence": 0.99771,
         "end": 541038,
         "speaker": null,
         "start": 540872,
         "text": "on"
        },
        {
         "confidence": 0.91073,
         "end": 541182,
         "speaker": null,
         "start": 541064,
         "text": "on"
        },
        {
         "confidence": 0.99,
         "end": 541302,
         "speaker": null,
         "start": 541196,
         "text": "the"
        },
        {
         "confidence": 0.87,
         "end": 541582,
         "speaker": null,
         "start": 541316,
         "text": "Kaggle"
        },
        {
         "confidence": 0.99939,
         "end": 542010,
         "speaker": null,
         "start": 541606,
         "text": "platform."
        },
        {
         "confidence": 0.83248,
         "end": 542974,
         "speaker": null,
         "start": 542120,
         "text": "Realistically,"
        },
        {
         "confidence": 0.99937,
         "end": 543390,
         "speaker": null,
         "start": 543082,
         "text": "many"
        },
        {
         "confidence": 0.99982,
         "end": 543690,
         "speaker": null,
         "start": 543440,
         "text": "people"
        },
        {
         "confidence": 0.99119,
         "end": 543922,
         "speaker": null,
         "start": 543740,
         "text": "lose"
        },
        {
         "confidence": 0.52419,
         "end": 544294,
         "speaker": null,
         "start": 543946,
         "text": "steam"
        },
        {
         "confidence": 1,
         "end": 544518,
         "speaker": null,
         "start": 544342,
         "text": "at"
        },
        {
         "confidence": 0.98646,
         "end": 544698,
         "speaker": null,
         "start": 544544,
         "text": "this"
        },
        {
         "confidence": 0.97287,
         "end": 545166,
         "speaker": null,
         "start": 544724,
         "text": "step."
        },
        {
         "confidence": 0.99938,
         "end": 545538,
         "speaker": null,
         "start": 545288,
         "text": "They"
        },
        {
         "confidence": 0.99847,
         "end": 545754,
         "speaker": null,
         "start": 545564,
         "text": "go"
        },
        {
         "confidence": 0.99934,
         "end": 545958,
         "speaker": null,
         "start": 545792,
         "text": "through"
        },
        {
         "confidence": 0.99,
         "end": 546102,
         "speaker": null,
         "start": 545984,
         "text": "and"
        },
        {
         "confidence": 0.99935,
         "end": 546222,
         "speaker": null,
         "start": 546116,
         "text": "see"
        },
        {
         "confidence": 1,
         "end": 546378,
         "speaker": null,
         "start": 546236,
         "text": "the"
        },
        {
         "confidence": 0.99829,
         "end": 546558,
         "speaker": null,
         "start": 546404,
         "text": "great"
        },
        {
         "confidence": 0.99873,
         "end": 546774,
         "speaker": null,
         "start": 546584,
         "text": "work"
        },
        {
         "confidence": 0.98627,
         "end": 546978,
         "speaker": null,
         "start": 546812,
         "text": "that"
        },
        {
         "confidence": 0.9976,
         "end": 547158,
         "speaker": null,
         "start": 547004,
         "text": "other"
        },
        {
         "confidence": 0.99995,
         "end": 547338,
         "speaker": null,
         "start": 547184,
         "text": "people"
        },
        {
         "confidence": 0.66996,
         "end": 547518,
         "speaker": null,
         "start": 547364,
         "text": "have"
        },
        {
         "confidence": 0.99715,
         "end": 547770,
         "speaker": null,
         "start": 547544,
         "text": "done,"
        },
        {
         "confidence": 0.99,
         "end": 547998,
         "speaker": null,
         "start": 547820,
         "text": "and"
        },
        {
         "confidence": 0.99574,
         "end": 548142,
         "speaker": null,
         "start": 548024,
         "text": "they"
        },
        {
         "confidence": 0.99827,
         "end": 548262,
         "speaker": null,
         "start": 548156,
         "text": "get"
        },
        {
         "confidence": 0.99329,
         "end": 548830,
         "speaker": null,
         "start": 548276,
         "text": "discouraged"
        },
        {
         "confidence": 0.98018,
         "end": 549150,
         "speaker": null,
         "start": 548890,
         "text": "again."
        },
        {
         "confidence": 0.99964,
         "end": 549598,
         "speaker": null,
         "start": 549200,
         "text": "Honestly,"
        },
        {
         "confidence": 0.63,
         "end": 549834,
         "speaker": null,
         "start": 549634,
         "text": "I"
        },
        {
         "confidence": 0.99949,
         "end": 550146,
         "speaker": null,
         "start": 549872,
         "text": "remember"
        },
        {
         "confidence": 0.99121,
         "end": 550462,
         "speaker": null,
         "start": 550208,
         "text": "feeling"
        },
        {
         "confidence": 0.99735,
         "end": 550638,
         "speaker": null,
         "start": 550486,
         "text": "this"
        },
        {
         "confidence": 0.99305,
         "end": 550890,
         "speaker": null,
         "start": 550664,
         "text": "too."
        },
        {
         "confidence": 0.99872,
         "end": 551082,
         "speaker": null,
         "start": 550940,
         "text": "What"
        },
        {
         "confidence": 1,
         "end": 551238,
         "speaker": null,
         "start": 551096,
         "text": "I"
        },
        {
         "confidence": 0.99997,
         "end": 551562,
         "speaker": null,
         "start": 551264,
         "text": "recommend"
        },
        {
         "confidence": 0.99888,
         "end": 551946,
         "speaker": null,
         "start": 551636,
         "text": "doing"
        },
        {
         "confidence": 0.99818,
         "end": 552198,
         "speaker": null,
         "start": 552008,
         "text": "is"
        },
        {
         "confidence": 0.99968,
         "end": 552414,
         "speaker": null,
         "start": 552224,
         "text": "going"
        },
        {
         "confidence": 0.99972,
         "end": 552618,
         "speaker": null,
         "start": 552452,
         "text": "through"
        },
        {
         "confidence": 0.99924,
         "end": 552762,
         "speaker": null,
         "start": 552644,
         "text": "some"
        },
        {
         "confidence": 0.99,
         "end": 552846,
         "speaker": null,
         "start": 552776,
         "text": "of"
        },
        {
         "confidence": 0.99,
         "end": 552978,
         "speaker": null,
         "start": 552848,
         "text": "the"
        },
        {
         "confidence": 0.9911,
         "end": 553258,
         "speaker": null,
         "start": 553004,
         "text": "basic"
        },
        {
         "confidence": 0.97633,
         "end": 553798,
         "speaker": null,
         "start": 553294,
         "text": "notebooks,"
        },
        {
         "confidence": 0.99743,
         "end": 553998,
         "speaker": null,
         "start": 553834,
         "text": "like"
        },
        {
         "confidence": 1,
         "end": 554142,
         "speaker": null,
         "start": 554024,
         "text": "the"
        },
        {
         "confidence": 0.79376,
         "end": 554578,
         "speaker": null,
         "start": 554156,
         "text": "Titanic"
        },
        {
         "confidence": 0.99962,
         "end": 554814,
         "speaker": null,
         "start": 554614,
         "text": "data"
        },
        {
         "confidence": 0.80175,
         "end": 555162,
         "speaker": null,
         "start": 554852,
         "text": "set,"
        },
        {
         "confidence": 0.98,
         "end": 555438,
         "speaker": null,
         "start": 555236,
         "text": "and"
        },
        {
         "confidence": 0.98766,
         "end": 555690,
         "speaker": null,
         "start": 555464,
         "text": "just"
        },
        {
         "confidence": 0.61613,
         "end": 556042,
         "speaker": null,
         "start": 555740,
         "text": "copying"
        },
        {
         "confidence": 0.98,
         "end": 556218,
         "speaker": null,
         "start": 556066,
         "text": "the"
        },
        {
         "confidence": 0.99958,
         "end": 556686,
         "speaker": null,
         "start": 556244,
         "text": "code,"
        },
        {
         "confidence": 0.99791,
         "end": 557130,
         "speaker": null,
         "start": 556808,
         "text": "running"
        },
        {
         "confidence": 0.99,
         "end": 557322,
         "speaker": null,
         "start": 557180,
         "text": "it"
        },
        {
         "confidence": 0.99589,
         "end": 557442,
         "speaker": null,
         "start": 557336,
         "text": "on"
        },
        {
         "confidence": 0.99875,
         "end": 557562,
         "speaker": null,
         "start": 557456,
         "text": "your"
        },
        {
         "confidence": 0.99675,
         "end": 557718,
         "speaker": null,
         "start": 557576,
         "text": "own"
        },
        {
         "confidence": 0.9999,
         "end": 558186,
         "speaker": null,
         "start": 557744,
         "text": "computer,"
        },
        {
         "confidence": 0.9981,
         "end": 558594,
         "speaker": null,
         "start": 558308,
         "text": "line"
        },
        {
         "confidence": 0.56988,
         "end": 558834,
         "speaker": null,
         "start": 558632,
         "text": "by"
        },
        {
         "confidence": 0.99284,
         "end": 559398,
         "speaker": null,
         "start": 558872,
         "text": "line."
        },
        {
         "confidence": 0.99992,
         "end": 559854,
         "speaker": null,
         "start": 559544,
         "text": "Many"
        },
        {
         "confidence": 0.99975,
         "end": 560094,
         "speaker": null,
         "start": 559892,
         "text": "people"
        },
        {
         "confidence": 0.99977,
         "end": 560298,
         "speaker": null,
         "start": 560132,
         "text": "think"
        },
        {
         "confidence": 0.88948,
         "end": 560442,
         "speaker": null,
         "start": 560324,
         "text": "that"
        },
        {
         "confidence": 0.99737,
         "end": 560562,
         "speaker": null,
         "start": 560456,
         "text": "this"
        },
        {
         "confidence": 0.99468,
         "end": 560718,
         "speaker": null,
         "start": 560576,
         "text": "is"
        },
        {
         "confidence": 0.94576,
         "end": 561250,
         "speaker": null,
         "start": 560744,
         "text": "cheating,"
        },
        {
         "confidence": 0.99838,
         "end": 561618,
         "speaker": null,
         "start": 561370,
         "text": "but"
        },
        {
         "confidence": 0.97969,
         "end": 561802,
         "speaker": null,
         "start": 561644,
         "text": "it's"
        },
        {
         "confidence": 0.99565,
         "end": 562086,
         "speaker": null,
         "start": 561826,
         "text": "actually"
        },
        {
         "confidence": 0.99,
         "end": 562338,
         "speaker": null,
         "start": 562148,
         "text": "a"
        },
        {
         "confidence": 0.99977,
         "end": 562590,
         "speaker": null,
         "start": 562364,
         "text": "great"
        },
        {
         "confidence": 0.99922,
         "end": 562782,
         "speaker": null,
         "start": 562640,
         "text": "way"
        },
        {
         "confidence": 1,
         "end": 562902,
         "speaker": null,
         "start": 562796,
         "text": "to"
        },
        {
         "confidence": 0.99991,
         "end": 563202,
         "speaker": null,
         "start": 562916,
         "text": "learn."
        },
        {
         "confidence": 0.99821,
         "end": 563514,
         "speaker": null,
         "start": 563276,
         "text": "Even"
        },
        {
         "confidence": 0.99998,
         "end": 563826,
         "speaker": null,
         "start": 563552,
         "text": "better"
        },
        {
         "confidence": 0.99967,
         "end": 564042,
         "speaker": null,
         "start": 563888,
         "text": "when"
        },
        {
         "confidence": 0.9977,
         "end": 564162,
         "speaker": null,
         "start": 564056,
         "text": "you"
        },
        {
         "confidence": 0.99932,
         "end": 564318,
         "speaker": null,
         "start": 564176,
         "text": "run"
        },
        {
         "confidence": 1,
         "end": 564606,
         "speaker": null,
         "start": 564344,
         "text": "it,"
        },
        {
         "confidence": 0.99266,
         "end": 564858,
         "speaker": null,
         "start": 564668,
         "text": "make"
        },
        {
         "confidence": 0.99686,
         "end": 565074,
         "speaker": null,
         "start": 564884,
         "text": "some"
        },
        {
         "confidence": 0.99974,
         "end": 565350,
         "speaker": null,
         "start": 565112,
         "text": "changes"
        },
        {
         "confidence": 1,
         "end": 565506,
         "speaker": null,
         "start": 565400,
         "text": "to"
        },
        {
         "confidence": 0.61,
         "end": 565638,
         "speaker": null,
         "start": 565508,
         "text": "the"
        },
        {
         "confidence": 0.99983,
         "end": 565890,
         "speaker": null,
         "start": 565664,
         "text": "code"
        },
        {
         "confidence": 1,
         "end": 566082,
         "speaker": null,
         "start": 565940,
         "text": "and"
        },
        {
         "confidence": 0.9995,
         "end": 566238,
         "speaker": null,
         "start": 566096,
         "text": "see"
        },
        {
         "confidence": 0.99992,
         "end": 566418,
         "speaker": null,
         "start": 566264,
         "text": "what"
        },
        {
         "confidence": 0.99947,
         "end": 566958,
         "speaker": null,
         "start": 566444,
         "text": "happens."
        },
        {
         "confidence": 0.99938,
         "end": 567414,
         "speaker": null,
         "start": 567104,
         "text": "Maybe"
        },
        {
         "confidence": 0.89523,
         "end": 567582,
         "speaker": null,
         "start": 567452,
         "text": "you"
        },
        {
         "confidence": 0.9986,
         "end": 567738,
         "speaker": null,
         "start": 567596,
         "text": "should"
        },
        {
         "confidence": 0.99951,
         "end": 567954,
         "speaker": null,
         "start": 567764,
         "text": "try"
        },
        {
         "confidence": 0.97412,
         "end": 568498,
         "speaker": null,
         "start": 567992,
         "text": "changing,"
        },
        {
         "confidence": 0.64041,
         "end": 568818,
         "speaker": null,
         "start": 568594,
         "text": "like"
        },
        {
         "confidence": 0.99,
         "end": 568962,
         "speaker": null,
         "start": 568844,
         "text": "the"
        },
        {
         "confidence": 0.51454,
         "end": 569362,
         "speaker": null,
         "start": 568976,
         "text": "colors"
        },
        {
         "confidence": 0.9971,
         "end": 569538,
         "speaker": null,
         "start": 569386,
         "text": "on"
        },
        {
         "confidence": 0.99,
         "end": 569646,
         "speaker": null,
         "start": 569564,
         "text": "a"
        },
        {
         "confidence": 0.99977,
         "end": 569986,
         "speaker": null,
         "start": 569648,
         "text": "graph"
        },
        {
         "confidence": 0.99733,
         "end": 570258,
         "speaker": null,
         "start": 570058,
         "text": "from"
        },
        {
         "confidence": 0.99776,
         "end": 570442,
         "speaker": null,
         "start": 570284,
         "text": "blue"
        },
        {
         "confidence": 0.98,
         "end": 570618,
         "speaker": null,
         "start": 570466,
         "text": "to"
        },
        {
         "confidence": 0.99408,
         "end": 570942,
         "speaker": null,
         "start": 570644,
         "text": "red,"
        },
        {
         "confidence": 0.99636,
         "end": 571398,
         "speaker": null,
         "start": 571016,
         "text": "or"
        },
        {
         "confidence": 0.99578,
         "end": 571698,
         "speaker": null,
         "start": 571484,
         "text": "try"
        },
        {
         "confidence": 0.99,
         "end": 571842,
         "speaker": null,
         "start": 571724,
         "text": "to"
        },
        {
         "confidence": 0.99906,
         "end": 572034,
         "speaker": null,
         "start": 571856,
         "text": "make"
        },
        {
         "confidence": 1,
         "end": 572166,
         "speaker": null,
         "start": 572072,
         "text": "a"
        },
        {
         "confidence": 0.60739,
         "end": 572370,
         "speaker": null,
         "start": 572168,
         "text": "line"
        },
        {
         "confidence": 0.41498,
         "end": 572722,
         "speaker": null,
         "start": 572420,
         "text": "thicker"
        },
        {
         "confidence": 0.99618,
         "end": 572862,
         "speaker": null,
         "start": 572746,
         "text": "on"
        },
        {
         "confidence": 1,
         "end": 572982,
         "speaker": null,
         "start": 572876,
         "text": "one"
        },
        {
         "confidence": 1,
         "end": 573066,
         "speaker": null,
         "start": 572996,
         "text": "of"
        },
        {
         "confidence": 1,
         "end": 573162,
         "speaker": null,
         "start": 573068,
         "text": "the"
        },
        {
         "confidence": 0.99459,
         "end": 573514,
         "speaker": null,
         "start": 573176,
         "text": "graphs."
        },
        {
         "confidence": 0.93544,
         "end": 573810,
         "speaker": null,
         "start": 573562,
         "text": "Just"
        },
        {
         "confidence": 0.99938,
         "end": 574110,
         "speaker": null,
         "start": 573860,
         "text": "simple"
        },
        {
         "confidence": 0.99943,
         "end": 574338,
         "speaker": null,
         "start": 574160,
         "text": "things"
        },
        {
         "confidence": 0.9992,
         "end": 574482,
         "speaker": null,
         "start": 574364,
         "text": "like"
        },
        {
         "confidence": 0.99711,
         "end": 574746,
         "speaker": null,
         "start": 574496,
         "text": "that"
        },
        {
         "confidence": 0.99834,
         "end": 574998,
         "speaker": null,
         "start": 574808,
         "text": "help"
        },
        {
         "confidence": 0.99542,
         "end": 575142,
         "speaker": null,
         "start": 575024,
         "text": "you"
        },
        {
         "confidence": 0.99179,
         "end": 575458,
         "speaker": null,
         "start": 575156,
         "text": "iterate"
        },
        {
         "confidence": 1,
         "end": 575622,
         "speaker": null,
         "start": 575494,
         "text": "and"
        },
        {
         "confidence": 0.99737,
         "end": 575974,
         "speaker": null,
         "start": 575636,
         "text": "improve."
        },
        {
         "confidence": 0.83223,
         "end": 576198,
         "speaker": null,
         "start": 576022,
         "text": "So"
        },
        {
         "confidence": 0.99988,
         "end": 576450,
         "speaker": null,
         "start": 576224,
         "text": "remember"
        },
        {
         "confidence": 0.99821,
         "end": 576642,
         "speaker": null,
         "start": 576500,
         "text": "when"
        },
        {
         "confidence": 0.99912,
         "end": 576762,
         "speaker": null,
         "start": 576656,
         "text": "we"
        },
        {
         "confidence": 0.99706,
         "end": 576882,
         "speaker": null,
         "start": 576776,
         "text": "talked"
        },
        {
         "confidence": 0.77834,
         "end": 577038,
         "speaker": null,
         "start": 576896,
         "text": "about"
        },
        {
         "confidence": 0.02845,
         "end": 577558,
         "speaker": null,
         "start": 577064,
         "text": "IDs"
        },
        {
         "confidence": 0.99808,
         "end": 577990,
         "speaker": null,
         "start": 577594,
         "text": "earlier"
        },
        {
         "confidence": 0.99,
         "end": 578202,
         "speaker": null,
         "start": 578050,
         "text": "and"
        },
        {
         "confidence": 0.50315,
         "end": 578386,
         "speaker": null,
         "start": 578216,
         "text": "I'd"
        },
        {
         "confidence": 0.67249,
         "end": 578610,
         "speaker": null,
         "start": 578398,
         "text": "mentioned"
        },
        {
         "confidence": 2e-05,
         "end": 579022,
         "speaker": null,
         "start": 578660,
         "text": "Jupiter's"
        },
        {
         "confidence": 0.83542,
         "end": 579430,
         "speaker": null,
         "start": 579046,
         "text": "notebook?"
        },
        {
         "confidence": 0.51,
         "end": 579862,
         "speaker": null,
         "start": 579490,
         "text": "Kaggle"
        },
        {
         "confidence": 0.70205,
         "end": 580138,
         "speaker": null,
         "start": 579886,
         "text": "uses"
        },
        {
         "confidence": 0.99962,
         "end": 580410,
         "speaker": null,
         "start": 580174,
         "text": "something"
        },
        {
         "confidence": 0.99993,
         "end": 580746,
         "speaker": null,
         "start": 580460,
         "text": "similar"
        },
        {
         "confidence": 1,
         "end": 580962,
         "speaker": null,
         "start": 580808,
         "text": "to"
        },
        {
         "confidence": 0.9991,
         "end": 581154,
         "speaker": null,
         "start": 580976,
         "text": "that"
        },
        {
         "confidence": 0.55538,
         "end": 581358,
         "speaker": null,
         "start": 581192,
         "text": "that"
        },
        {
         "confidence": 0.92448,
         "end": 581566,
         "speaker": null,
         "start": 581384,
         "text": "lets"
        },
        {
         "confidence": 0.99927,
         "end": 581718,
         "speaker": null,
         "start": 581578,
         "text": "you"
        },
        {
         "confidence": 0.99863,
         "end": 582006,
         "speaker": null,
         "start": 581744,
         "text": "work"
        },
        {
         "confidence": 1,
         "end": 582474,
         "speaker": null,
         "start": 582068,
         "text": "online."
        },
        {
         "confidence": 0.99875,
         "end": 582798,
         "speaker": null,
         "start": 582572,
         "text": "This"
        },
        {
         "confidence": 0.99731,
         "end": 582978,
         "speaker": null,
         "start": 582824,
         "text": "is"
        },
        {
         "confidence": 0.99981,
         "end": 583194,
         "speaker": null,
         "start": 583004,
         "text": "great"
        },
        {
         "confidence": 0.98,
         "end": 583434,
         "speaker": null,
         "start": 583232,
         "text": "and"
        },
        {
         "confidence": 0.99979,
         "end": 583674,
         "speaker": null,
         "start": 583472,
         "text": "free"
        },
        {
         "confidence": 0.9734,
         "end": 584062,
         "speaker": null,
         "start": 583712,
         "text": "compute"
        },
        {
         "confidence": 0.99944,
         "end": 584346,
         "speaker": null,
         "start": 584086,
         "text": "power"
        },
        {
         "confidence": 0.99908,
         "end": 584562,
         "speaker": null,
         "start": 584408,
         "text": "if"
        },
        {
         "confidence": 0.99874,
         "end": 584646,
         "speaker": null,
         "start": 584576,
         "text": "you"
        },
        {
         "confidence": 0.99843,
         "end": 584778,
         "speaker": null,
         "start": 584648,
         "text": "have"
        },
        {
         "confidence": 0.99984,
         "end": 585094,
         "speaker": null,
         "start": 584804,
         "text": "limited"
        },
        {
         "confidence": 0.78306,
         "end": 585622,
         "speaker": null,
         "start": 585142,
         "text": "resources"
        },
        {
         "confidence": 1,
         "end": 585762,
         "speaker": null,
         "start": 585646,
         "text": "at"
        },
        {
         "confidence": 0.99995,
         "end": 585990,
         "speaker": null,
         "start": 585776,
         "text": "home."
        },
        {
         "confidence": 0.73623,
         "end": 586182,
         "speaker": null,
         "start": 586040,
         "text": "So"
        },
        {
         "confidence": 0.99933,
         "end": 586266,
         "speaker": null,
         "start": 586196,
         "text": "if"
        },
        {
         "confidence": 0.89199,
         "end": 586362,
         "speaker": null,
         "start": 586268,
         "text": "you"
        },
        {
         "confidence": 0.92713,
         "end": 586482,
         "speaker": null,
         "start": 586376,
         "text": "want"
        },
        {
         "confidence": 1,
         "end": 586602,
         "speaker": null,
         "start": 586496,
         "text": "to"
        },
        {
         "confidence": 0.9998,
         "end": 586758,
         "speaker": null,
         "start": 586616,
         "text": "work"
        },
        {
         "confidence": 0.99893,
         "end": 586938,
         "speaker": null,
         "start": 586784,
         "text": "with"
        },
        {
         "confidence": 0.99951,
         "end": 587190,
         "speaker": null,
         "start": 586964,
         "text": "data"
        },
        {
         "confidence": 0.99963,
         "end": 587382,
         "speaker": null,
         "start": 587240,
         "text": "on"
        },
        {
         "confidence": 0.99812,
         "end": 587610,
         "speaker": null,
         "start": 587396,
         "text": "your"
        },
        {
         "confidence": 0.99977,
         "end": 588082,
         "speaker": null,
         "start": 587660,
         "text": "laptop"
        },
        {
         "confidence": 0.99133,
         "end": 588258,
         "speaker": null,
         "start": 588106,
         "text": "or"
        },
        {
         "confidence": 0.43863,
         "end": 588850,
         "speaker": null,
         "start": 588284,
         "text": "desktop,"
        },
        {
         "confidence": 1,
         "end": 589218,
         "speaker": null,
         "start": 588970,
         "text": "I"
        },
        {
         "confidence": 0.99913,
         "end": 589542,
         "speaker": null,
         "start": 589244,
         "text": "recommend"
        },
        {
         "confidence": 0.98534,
         "end": 590062,
         "speaker": null,
         "start": 589616,
         "text": "downloading"
        },
        {
         "confidence": 0.99032,
         "end": 590674,
         "speaker": null,
         "start": 590086,
         "text": "Anaconda."
        },
        {
         "confidence": 0.97564,
         "end": 591262,
         "speaker": null,
         "start": 590722,
         "text": "Anaconda"
        },
        {
         "confidence": 0.99807,
         "end": 591402,
         "speaker": null,
         "start": 591286,
         "text": "is"
        },
        {
         "confidence": 0.99,
         "end": 591522,
         "speaker": null,
         "start": 591416,
         "text": "a"
        },
        {
         "confidence": 0.98094,
         "end": 591814,
         "speaker": null,
         "start": 591536,
         "text": "software"
        },
        {
         "confidence": 0.99585,
         "end": 592174,
         "speaker": null,
         "start": 591862,
         "text": "package"
        },
        {
         "confidence": 0.99882,
         "end": 592398,
         "speaker": null,
         "start": 592222,
         "text": "that"
        },
        {
         "confidence": 0.99596,
         "end": 592702,
         "speaker": null,
         "start": 592424,
         "text": "lumps"
        },
        {
         "confidence": 0.99913,
         "end": 592986,
         "speaker": null,
         "start": 592726,
         "text": "together"
        },
        {
         "confidence": 0.99972,
         "end": 593202,
         "speaker": null,
         "start": 593048,
         "text": "all"
        },
        {
         "confidence": 0.97,
         "end": 593286,
         "speaker": null,
         "start": 593216,
         "text": "of"
        },
        {
         "confidence": 0.93,
         "end": 593418,
         "speaker": null,
         "start": 593288,
         "text": "the"
        },
        {
         "confidence": 0.99983,
         "end": 593782,
         "speaker": null,
         "start": 593444,
         "text": "relevant"
        },
        {
         "confidence": 0.4227,
         "end": 594178,
         "speaker": null,
         "start": 593806,
         "text": "Python"
        },
        {
         "confidence": 0.98926,
         "end": 594910,
         "speaker": null,
         "start": 594214,
         "text": "libraries"
        },
        {
         "confidence": 1,
         "end": 595350,
         "speaker": null,
         "start": 595030,
         "text": "and"
        },
        {
         "confidence": 0.02065,
         "end": 596038,
         "speaker": null,
         "start": 595400,
         "text": "ideas"
        },
        {
         "confidence": 1,
         "end": 596238,
         "speaker": null,
         "start": 596074,
         "text": "for"
        },
        {
         "confidence": 0.99982,
         "end": 596454,
         "speaker": null,
         "start": 596264,
         "text": "data"
        },
        {
         "confidence": 0.87344,
         "end": 596854,
         "speaker": null,
         "start": 596492,
         "text": "science"
        },
        {
         "confidence": 0.65548,
         "end": 597078,
         "speaker": null,
         "start": 596902,
         "text": "in"
        },
        {
         "confidence": 1,
         "end": 597258,
         "speaker": null,
         "start": 597104,
         "text": "one"
        },
        {
         "confidence": 0.72562,
         "end": 597690,
         "speaker": null,
         "start": 597284,
         "text": "go."
        },
        {
         "confidence": 0.84541,
         "end": 598002,
         "speaker": null,
         "start": 597800,
         "text": "So"
        },
        {
         "confidence": 0.99604,
         "end": 598122,
         "speaker": null,
         "start": 598016,
         "text": "you"
        },
        {
         "confidence": 0.99852,
         "end": 598242,
         "speaker": null,
         "start": 598136,
         "text": "can"
        },
        {
         "confidence": 0.99981,
         "end": 598398,
         "speaker": null,
         "start": 598256,
         "text": "check"
        },
        {
         "confidence": 0.98814,
         "end": 598542,
         "speaker": null,
         "start": 598424,
         "text": "out"
        },
        {
         "confidence": 0.99938,
         "end": 598698,
         "speaker": null,
         "start": 598556,
         "text": "my"
        },
        {
         "confidence": 0.99928,
         "end": 598986,
         "speaker": null,
         "start": 598724,
         "text": "video"
        },
        {
         "confidence": 1,
         "end": 599238,
         "speaker": null,
         "start": 599048,
         "text": "for"
        },
        {
         "confidence": 0.99978,
         "end": 599454,
         "speaker": null,
         "start": 599264,
         "text": "how"
        },
        {
         "confidence": 1,
         "end": 599622,
         "speaker": null,
         "start": 599492,
         "text": "to"
        },
        {
         "confidence": 0.93998,
         "end": 599922,
         "speaker": null,
         "start": 599636,
         "text": "install"
        },
        {
         "confidence": 0.98,
         "end": 600234,
         "speaker": null,
         "start": 599996,
         "text": "it,"
        },
        {
         "confidence": 0.99746,
         "end": 600402,
         "speaker": null,
         "start": 600272,
         "text": "which"
        },
        {
         "confidence": 0.59709,
         "end": 600562,
         "speaker": null,
         "start": 600416,
         "text": "I've"
        },
        {
         "confidence": 0.99509,
         "end": 600766,
         "speaker": null,
         "start": 600586,
         "text": "linked"
        },
        {
         "confidence": 0.55817,
         "end": 601054,
         "speaker": null,
         "start": 600778,
         "text": "above"
        },
        {
         "confidence": 0.99,
         "end": 601278,
         "speaker": null,
         "start": 601102,
         "text": "and"
        },
        {
         "confidence": 0.99193,
         "end": 601422,
         "speaker": null,
         "start": 601304,
         "text": "in"
        },
        {
         "confidence": 1,
         "end": 601542,
         "speaker": null,
         "start": 601436,
         "text": "the"
        },
        {
         "confidence": 0.99612,
         "end": 602134,
         "speaker": null,
         "start": 601556,
         "text": "description."
        },
        {
         "confidence": 0.99824,
         "end": 602622,
         "speaker": null,
         "start": 602242,
         "text": "Finally,"
        },
        {
         "confidence": 0.82,
         "end": 602898,
         "speaker": null,
         "start": 602696,
         "text": "I"
        },
        {
         "confidence": 0.99741,
         "end": 603114,
         "speaker": null,
         "start": 602924,
         "text": "have"
        },
        {
         "confidence": 1,
         "end": 603354,
         "speaker": null,
         "start": 603152,
         "text": "three"
        },
        {
         "confidence": 0.9894,
         "end": 603670,
         "speaker": null,
         "start": 603392,
         "text": "tips"
        },
        {
         "confidence": 1,
         "end": 603918,
         "speaker": null,
         "start": 603730,
         "text": "to"
        },
        {
         "confidence": 0.99982,
         "end": 604098,
         "speaker": null,
         "start": 603944,
         "text": "send"
        },
        {
         "confidence": 0.9948,
         "end": 604242,
         "speaker": null,
         "start": 604124,
         "text": "you"
        },
        {
         "confidence": 0.99477,
         "end": 604326,
         "speaker": null,
         "start": 604256,
         "text": "on"
        },
        {
         "confidence": 0.5033,
         "end": 604458,
         "speaker": null,
         "start": 604328,
         "text": "your"
        },
        {
         "confidence": 0.99887,
         "end": 604782,
         "speaker": null,
         "start": 604484,
         "text": "way."
        },
        {
         "confidence": 0.99879,
         "end": 605058,
         "speaker": null,
         "start": 604856,
         "text": "These"
        },
        {
         "confidence": 0.99883,
         "end": 605274,
         "speaker": null,
         "start": 605084,
         "text": "are"
        },
        {
         "confidence": 0.99946,
         "end": 605622,
         "speaker": null,
         "start": 605312,
         "text": "probably"
        },
        {
         "confidence": 1,
         "end": 606042,
         "speaker": null,
         "start": 605696,
         "text": "the"
        },
        {
         "confidence": 0.99992,
         "end": 606390,
         "speaker": null,
         "start": 606116,
         "text": "most"
        },
        {
         "confidence": 0.99994,
         "end": 606762,
         "speaker": null,
         "start": 606440,
         "text": "important"
        },
        {
         "confidence": 0.99835,
         "end": 607182,
         "speaker": null,
         "start": 606836,
         "text": "things"
        },
        {
         "confidence": 0.89381,
         "end": 607494,
         "speaker": null,
         "start": 607256,
         "text": "that"
        },
        {
         "confidence": 1,
         "end": 607662,
         "speaker": null,
         "start": 607532,
         "text": "a"
        },
        {
         "confidence": 1,
         "end": 607818,
         "speaker": null,
         "start": 607676,
         "text": "new"
        },
        {
         "confidence": 0.9484,
         "end": 608158,
         "speaker": null,
         "start": 607844,
         "text": "coder"
        },
        {
         "confidence": 0.99701,
         "end": 608358,
         "speaker": null,
         "start": 608194,
         "text": "can"
        },
        {
         "confidence": 0.99969,
         "end": 608610,
         "speaker": null,
         "start": 608384,
         "text": "learn."
        },
        {
         "confidence": 0.72834,
         "end": 608838,
         "speaker": null,
         "start": 608660,
         "text": "So"
        },
        {
         "confidence": 1,
         "end": 608982,
         "speaker": null,
         "start": 608864,
         "text": "the"
        },
        {
         "confidence": 1,
         "end": 609174,
         "speaker": null,
         "start": 608996,
         "text": "first"
        },
        {
         "confidence": 1,
         "end": 609378,
         "speaker": null,
         "start": 609212,
         "text": "one"
        },
        {
         "confidence": 0.58354,
         "end": 609558,
         "speaker": null,
         "start": 609404,
         "text": "is"
        },
        {
         "confidence": 0.99,
         "end": 609738,
         "speaker": null,
         "start": 609584,
         "text": "to"
        },
        {
         "confidence": 0.99927,
         "end": 609918,
         "speaker": null,
         "start": 609764,
         "text": "use"
        },
        {
         "confidence": 0.99988,
         "end": 610170,
         "speaker": null,
         "start": 609944,
         "text": "Google"
        },
        {
         "confidence": 0.99,
         "end": 610362,
         "speaker": null,
         "start": 610220,
         "text": "and"
        },
        {
         "confidence": 0.72797,
         "end": 610558,
         "speaker": null,
         "start": 610376,
         "text": "stack"
        },
        {
         "confidence": 0.96074,
         "end": 611350,
         "speaker": null,
         "start": 610594,
         "text": "overflow."
        },
        {
         "confidence": 0.99995,
         "end": 611718,
         "speaker": null,
         "start": 611470,
         "text": "If"
        },
        {
         "confidence": 0.99969,
         "end": 611898,
         "speaker": null,
         "start": 611744,
         "text": "you"
        },
        {
         "confidence": 0.99882,
         "end": 612078,
         "speaker": null,
         "start": 611924,
         "text": "have"
        },
        {
         "confidence": 1,
         "end": 612222,
         "speaker": null,
         "start": 612104,
         "text": "a"
        },
        {
         "confidence": 0.99977,
         "end": 612594,
         "speaker": null,
         "start": 612236,
         "text": "question,"
        },
        {
         "confidence": 0.66637,
         "end": 613018,
         "speaker": null,
         "start": 612692,
         "text": "it's"
        },
        {
         "confidence": 0.99976,
         "end": 613290,
         "speaker": null,
         "start": 613054,
         "text": "almost"
        },
        {
         "confidence": 0.81439,
         "end": 613990,
         "speaker": null,
         "start": 613340,
         "text": "guaranteed"
        },
        {
         "confidence": 0.98865,
         "end": 614274,
         "speaker": null,
         "start": 614050,
         "text": "that"
        },
        {
         "confidence": 0.65552,
         "end": 614550,
         "speaker": null,
         "start": 614312,
         "text": "someone"
        },
        {
         "confidence": 0.81024,
         "end": 614814,
         "speaker": null,
         "start": 614600,
         "text": "has"
        },
        {
         "confidence": 0.99949,
         "end": 615054,
         "speaker": null,
         "start": 614852,
         "text": "asked"
        },
        {
         "confidence": 0.47,
         "end": 615222,
         "speaker": null,
         "start": 615092,
         "text": "it"
        },
        {
         "confidence": 0.99966,
         "end": 615522,
         "speaker": null,
         "start": 615236,
         "text": "before"
        },
        {
         "confidence": 0.99893,
         "end": 615762,
         "speaker": null,
         "start": 615596,
         "text": "on"
        },
        {
         "confidence": 0.99,
         "end": 615882,
         "speaker": null,
         "start": 615776,
         "text": "the"
        },
        {
         "confidence": 0.79386,
         "end": 616522,
         "speaker": null,
         "start": 615896,
         "text": "Internet,"
        },
        {
         "confidence": 0.99957,
         "end": 617046,
         "speaker": null,
         "start": 616666,
         "text": "getting"
        },
        {
         "confidence": 0.99945,
         "end": 617334,
         "speaker": null,
         "start": 617108,
         "text": "good"
        },
        {
         "confidence": 1,
         "end": 617538,
         "speaker": null,
         "start": 617372,
         "text": "at"
        },
        {
         "confidence": 0.99983,
         "end": 617878,
         "speaker": null,
         "start": 617564,
         "text": "finding"
        },
        {
         "confidence": 0.97906,
         "end": 618298,
         "speaker": null,
         "start": 617914,
         "text": "answers"
        },
        {
         "confidence": 0.99962,
         "end": 618462,
         "speaker": null,
         "start": 618334,
         "text": "on"
        },
        {
         "confidence": 0.99168,
         "end": 618618,
         "speaker": null,
         "start": 618476,
         "text": "your"
        },
        {
         "confidence": 0.99951,
         "end": 618942,
         "speaker": null,
         "start": 618644,
         "text": "own"
        },
        {
         "confidence": 0.98816,
         "end": 619294,
         "speaker": null,
         "start": 619016,
         "text": "via"
        },
        {
         "confidence": 0.99985,
         "end": 619806,
         "speaker": null,
         "start": 619342,
         "text": "search"
        },
        {
         "confidence": 0.99908,
         "end": 620142,
         "speaker": null,
         "start": 619928,
         "text": "might"
        },
        {
         "confidence": 0.98774,
         "end": 620298,
         "speaker": null,
         "start": 620156,
         "text": "be"
        },
        {
         "confidence": 1,
         "end": 620478,
         "speaker": null,
         "start": 620324,
         "text": "the"
        },
        {
         "confidence": 0.99856,
         "end": 620730,
         "speaker": null,
         "start": 620504,
         "text": "single"
        },
        {
         "confidence": 0.99964,
         "end": 620994,
         "speaker": null,
         "start": 620780,
         "text": "most"
        },
        {
         "confidence": 0.68113,
         "end": 621306,
         "speaker": null,
         "start": 621032,
         "text": "important"
        },
        {
         "confidence": 0.98421,
         "end": 621694,
         "speaker": null,
         "start": 621368,
         "text": "skill"
        },
        {
         "confidence": 1,
         "end": 621918,
         "speaker": null,
         "start": 621742,
         "text": "of"
        },
        {
         "confidence": 0.98,
         "end": 622026,
         "speaker": null,
         "start": 621944,
         "text": "a"
        },
        {
         "confidence": 0.99945,
         "end": 622194,
         "speaker": null,
         "start": 622028,
         "text": "data"
        },
        {
         "confidence": 0.99785,
         "end": 622618,
         "speaker": null,
         "start": 622232,
         "text": "scientist"
        },
        {
         "confidence": 0.9981,
         "end": 622818,
         "speaker": null,
         "start": 622654,
         "text": "or"
        },
        {
         "confidence": 0.99947,
         "end": 623098,
         "speaker": null,
         "start": 622844,
         "text": "software"
        },
        {
         "confidence": 0.75204,
         "end": 623494,
         "speaker": null,
         "start": 623134,
         "text": "engineer"
        },
        {
         "confidence": 0.99563,
         "end": 623682,
         "speaker": null,
         "start": 623542,
         "text": "that"
        },
        {
         "confidence": 0.99712,
         "end": 623838,
         "speaker": null,
         "start": 623696,
         "text": "they"
        },
        {
         "confidence": 0.99694,
         "end": 624090,
         "speaker": null,
         "start": 623864,
         "text": "use"
        },
        {
         "confidence": 0.99987,
         "end": 624354,
         "speaker": null,
         "start": 624140,
         "text": "every"
        },
        {
         "confidence": 0.99823,
         "end": 624594,
         "speaker": null,
         "start": 624392,
         "text": "single"
        },
        {
         "confidence": 0.75804,
         "end": 624906,
         "speaker": null,
         "start": 624632,
         "text": "day."
        },
        {
         "confidence": 0.99,
         "end": 625122,
         "speaker": null,
         "start": 624968,
         "text": "The"
        },
        {
         "confidence": 0.67,
         "end": 625350,
         "speaker": null,
         "start": 625136,
         "text": "second"
        },
        {
         "confidence": 0.99919,
         "end": 625542,
         "speaker": null,
         "start": 625400,
         "text": "is"
        },
        {
         "confidence": 0.64,
         "end": 625698,
         "speaker": null,
         "start": 625556,
         "text": "to"
        },
        {
         "confidence": 0.99946,
         "end": 625914,
         "speaker": null,
         "start": 625724,
         "text": "use"
        },
        {
         "confidence": 0.96957,
         "end": 626314,
         "speaker": null,
         "start": 625952,
         "text": "errors"
        },
        {
         "confidence": 0.48756,
         "end": 626538,
         "speaker": null,
         "start": 626362,
         "text": "so"
        },
        {
         "confidence": 0.99043,
         "end": 626682,
         "speaker": null,
         "start": 626564,
         "text": "your"
        },
        {
         "confidence": 0.99515,
         "end": 626838,
         "speaker": null,
         "start": 626696,
         "text": "code"
        },
        {
         "confidence": 0.98122,
         "end": 626982,
         "speaker": null,
         "start": 626864,
         "text": "will"
        },
        {
         "confidence": 0.99778,
         "end": 627138,
         "speaker": null,
         "start": 626996,
         "text": "not"
        },
        {
         "confidence": 0.68817,
         "end": 627426,
         "speaker": null,
         "start": 627164,
         "text": "run."
        },
        {
         "confidence": 1,
         "end": 627642,
         "speaker": null,
         "start": 627488,
         "text": "It"
        },
        {
         "confidence": 0.18289,
         "end": 627762,
         "speaker": null,
         "start": 627656,
         "text": "will"
        },
        {
         "confidence": 0.99475,
         "end": 628026,
         "speaker": null,
         "start": 627776,
         "text": "break,"
        },
        {
         "confidence": 0.99,
         "end": 628242,
         "speaker": null,
         "start": 628088,
         "text": "and"
        },
        {
         "confidence": 0.97578,
         "end": 628366,
         "speaker": null,
         "start": 628256,
         "text": "you'll"
        },
        {
         "confidence": 0.91189,
         "end": 628518,
         "speaker": null,
         "start": 628378,
         "text": "be"
        },
        {
         "confidence": 0.99642,
         "end": 629158,
         "speaker": null,
         "start": 628544,
         "text": "sad."
        },
        {
         "confidence": 0.96755,
         "end": 629602,
         "speaker": null,
         "start": 629314,
         "text": "Don't"
        },
        {
         "confidence": 0.98857,
         "end": 629778,
         "speaker": null,
         "start": 629626,
         "text": "just"
        },
        {
         "confidence": 0.90103,
         "end": 630022,
         "speaker": null,
         "start": 629804,
         "text": "wallow"
        },
        {
         "confidence": 0.58794,
         "end": 630126,
         "speaker": null,
         "start": 630046,
         "text": "in"
        },
        {
         "confidence": 0.06142,
         "end": 630222,
         "speaker": null,
         "start": 630128,
         "text": "your"
        },
        {
         "confidence": 0.99847,
         "end": 630414,
         "speaker": null,
         "start": 630236,
         "text": "self"
        },
        {
         "confidence": 0.99403,
         "end": 630838,
         "speaker": null,
         "start": 630452,
         "text": "pity."
        },
        {
         "confidence": 0.9975,
         "end": 631158,
         "speaker": null,
         "start": 630934,
         "text": "Read"
        },
        {
         "confidence": 0.99,
         "end": 631302,
         "speaker": null,
         "start": 631184,
         "text": "the"
        },
        {
         "confidence": 0.97092,
         "end": 631498,
         "speaker": null,
         "start": 631316,
         "text": "error"
        },
        {
         "confidence": 0.99282,
         "end": 632050,
         "speaker": null,
         "start": 631534,
         "text": "messages."
        },
        {
         "confidence": 0.59801,
         "end": 632338,
         "speaker": null,
         "start": 632110,
         "text": "They'll"
        },
        {
         "confidence": 0.99998,
         "end": 632538,
         "speaker": null,
         "start": 632374,
         "text": "tell"
        },
        {
         "confidence": 0.99929,
         "end": 632718,
         "speaker": null,
         "start": 632564,
         "text": "you"
        },
        {
         "confidence": 0.99987,
         "end": 632970,
         "speaker": null,
         "start": 632744,
         "text": "something"
        },
        {
         "confidence": 0.99988,
         "end": 633198,
         "speaker": null,
         "start": 633020,
         "text": "about"
        },
        {
         "confidence": 0.97553,
         "end": 633442,
         "speaker": null,
         "start": 633224,
         "text": "what's"
        },
        {
         "confidence": 0.99999,
         "end": 633834,
         "speaker": null,
         "start": 633466,
         "text": "wrong."
        },
        {
         "confidence": 0.99826,
         "end": 634230,
         "speaker": null,
         "start": 633932,
         "text": "Also,"
        },
        {
         "confidence": 0.99762,
         "end": 634494,
         "speaker": null,
         "start": 634280,
         "text": "Google"
        },
        {
         "confidence": 0.96,
         "end": 634662,
         "speaker": null,
         "start": 634532,
         "text": "the"
        },
        {
         "confidence": 0.68786,
         "end": 635086,
         "speaker": null,
         "start": 634676,
         "text": "errors,"
        },
        {
         "confidence": 0.96,
         "end": 635358,
         "speaker": null,
         "start": 635158,
         "text": "and"
        },
        {
         "confidence": 0.77458,
         "end": 635538,
         "speaker": null,
         "start": 635384,
         "text": "this"
        },
        {
         "confidence": 0.87452,
         "end": 635682,
         "speaker": null,
         "start": 635564,
         "text": "will"
        },
        {
         "confidence": 0.9995,
         "end": 635838,
         "speaker": null,
         "start": 635696,
         "text": "save"
        },
        {
         "confidence": 0.99685,
         "end": 635946,
         "speaker": null,
         "start": 635864,
         "text": "you"
        },
        {
         "confidence": 0.88,
         "end": 636042,
         "speaker": null,
         "start": 635948,
         "text": "a"
        },
        {
         "confidence": 0.99991,
         "end": 636126,
         "speaker": null,
         "start": 636056,
         "text": "lot"
        },
        {
         "confidence": 0.95,
         "end": 636258,
         "speaker": null,
         "start": 636128,
         "text": "of"
        },
        {
         "confidence": 0.99942,
         "end": 636438,
         "speaker": null,
         "start": 636284,
         "text": "time"
        },
        {
         "confidence": 0.99,
         "end": 636582,
         "speaker": null,
         "start": 636464,
         "text": "and"
        },
        {
         "confidence": 0.91702,
         "end": 637054,
         "speaker": null,
         "start": 636596,
         "text": "headache."
        },
        {
         "confidence": 0.99862,
         "end": 637386,
         "speaker": null,
         "start": 637102,
         "text": "Finally,"
        },
        {
         "confidence": 0.57,
         "end": 637638,
         "speaker": null,
         "start": 637448,
         "text": "the"
        },
        {
         "confidence": 1,
         "end": 637818,
         "speaker": null,
         "start": 637664,
         "text": "third"
        },
        {
         "confidence": 0.9967,
         "end": 638034,
         "speaker": null,
         "start": 637844,
         "text": "thing"
        },
        {
         "confidence": 0.99838,
         "end": 638202,
         "speaker": null,
         "start": 638072,
         "text": "is"
        },
        {
         "confidence": 0.97,
         "end": 638322,
         "speaker": null,
         "start": 638216,
         "text": "to"
        },
        {
         "confidence": 0.99858,
         "end": 638442,
         "speaker": null,
         "start": 638336,
         "text": "take"
        },
        {
         "confidence": 1,
         "end": 638598,
         "speaker": null,
         "start": 638456,
         "text": "it"
        },
        {
         "confidence": 0.99803,
         "end": 638778,
         "speaker": null,
         "start": 638624,
         "text": "easy"
        },
        {
         "confidence": 0.99807,
         "end": 638922,
         "speaker": null,
         "start": 638804,
         "text": "on"
        },
        {
         "confidence": 0.99543,
         "end": 639402,
         "speaker": null,
         "start": 638936,
         "text": "yourself."
        },
        {
         "confidence": 1,
         "end": 639762,
         "speaker": null,
         "start": 639536,
         "text": "The"
        },
        {
         "confidence": 0.99995,
         "end": 639918,
         "speaker": null,
         "start": 639776,
         "text": "only"
        },
        {
         "confidence": 0.99985,
         "end": 640134,
         "speaker": null,
         "start": 639944,
         "text": "people"
        },
        {
         "confidence": 0.99729,
         "end": 640338,
         "speaker": null,
         "start": 640172,
         "text": "that"
        },
        {
         "confidence": 0.76134,
         "end": 640558,
         "speaker": null,
         "start": 640364,
         "text": "can't"
        },
        {
         "confidence": 0.99835,
         "end": 640866,
         "speaker": null,
         "start": 640594,
         "text": "code"
        },
        {
         "confidence": 0.99281,
         "end": 641082,
         "speaker": null,
         "start": 640928,
         "text": "are"
        },
        {
         "confidence": 0.99,
         "end": 641202,
         "speaker": null,
         "start": 641096,
         "text": "the"
        },
        {
         "confidence": 1,
         "end": 641394,
         "speaker": null,
         "start": 641216,
         "text": "ones"
        },
        {
         "confidence": 0.99077,
         "end": 641562,
         "speaker": null,
         "start": 641432,
         "text": "that"
        },
        {
         "confidence": 0.99935,
         "end": 641790,
         "speaker": null,
         "start": 641576,
         "text": "never"
        },
        {
         "confidence": 0.18752,
         "end": 642090,
         "speaker": null,
         "start": 641840,
         "text": "tried"
        },
        {
         "confidence": 0.58388,
         "end": 642318,
         "speaker": null,
         "start": 642140,
         "text": "or"
        },
        {
         "confidence": 0.98,
         "end": 642462,
         "speaker": null,
         "start": 642344,
         "text": "the"
        },
        {
         "confidence": 1,
         "end": 642618,
         "speaker": null,
         "start": 642476,
         "text": "ones"
        },
        {
         "confidence": 0.99013,
         "end": 642762,
         "speaker": null,
         "start": 642644,
         "text": "that"
        },
        {
         "confidence": 0.54094,
         "end": 642982,
         "speaker": null,
         "start": 642776,
         "text": "quit"
        },
        {
         "confidence": 0.98833,
         "end": 643122,
         "speaker": null,
         "start": 643006,
         "text": "too"
        },
        {
         "confidence": 0.98677,
         "end": 643746,
         "speaker": null,
         "start": 643136,
         "text": "early."
        },
        {
         "confidence": 0.99787,
         "end": 644202,
         "speaker": null,
         "start": 643928,
         "text": "Thank"
        },
        {
         "confidence": 0.70046,
         "end": 644322,
         "speaker": null,
         "start": 644216,
         "text": "you"
        },
        {
         "confidence": 0.57975,
         "end": 644478,
         "speaker": null,
         "start": 644336,
         "text": "all"
        },
        {
         "confidence": 0.99218,
         "end": 644622,
         "speaker": null,
         "start": 644504,
         "text": "so"
        },
        {
         "confidence": 0.99938,
         "end": 644742,
         "speaker": null,
         "start": 644636,
         "text": "much"
        },
        {
         "confidence": 1,
         "end": 644862,
         "speaker": null,
         "start": 644756,
         "text": "for"
        },
        {
         "confidence": 0.99834,
         "end": 645198,
         "speaker": null,
         "start": 644876,
         "text": "watching,"
        },
        {
         "confidence": 0.9,
         "end": 645498,
         "speaker": null,
         "start": 645284,
         "text": "and"
        },
        {
         "confidence": 0.99769,
         "end": 645642,
         "speaker": null,
         "start": 645524,
         "text": "good"
        },
        {
         "confidence": 0.94689,
         "end": 645862,
         "speaker": null,
         "start": 645656,
         "text": "luck"
        },
        {
         "confidence": 0.99687,
         "end": 646002,
         "speaker": null,
         "start": 645886,
         "text": "on"
        },
        {
         "confidence": 0.99814,
         "end": 646158,
         "speaker": null,
         "start": 646016,
         "text": "your"
        },
        {
         "confidence": 0.99898,
         "end": 646374,
         "speaker": null,
         "start": 646184,
         "text": "data"
        },
        {
         "confidence": 0.99847,
         "end": 646714,
         "speaker": null,
         "start": 646412,
         "text": "science"
        },
        {
         "confidence": 1,
         "end": 646902,
         "speaker": null,
         "start": 646762,
         "text": "and"
        },
        {
         "confidence": 0.67974,
         "end": 647242,
         "speaker": null,
         "start": 646916,
         "text": "coding"
        },
        {
         "confidence": 0.759,
         "end": 647470,
         "speaker": null,
         "start": 647266,
         "text": "journey."
        }
       ]
      },
      "text/plain": [
       "<IPython.core.display.JSON object>"
      ]
     },
     "execution_count": 16,
     "metadata": {
      "application/json": {
       "expanded": false,
       "root": "root"
      }
     },
     "output_type": "execute_result"
    }
   ],
   "source": [
    "JSON(transcript_response.json())"
   ]
  },
  {
   "cell_type": "markdown",
   "metadata": {},
   "source": [
    "# save "
   ]
  },
  {
   "cell_type": "code",
   "execution_count": 17,
   "metadata": {},
   "outputs": [],
   "source": [
    "with open('speech_data.pkl','wb') as f:\n",
    "    pickle.dump(transcript_response.json().copy(),f)"
   ]
  },
  {
   "cell_type": "markdown",
   "metadata": {},
   "source": [
    "# dashboard components"
   ]
  },
  {
   "cell_type": "code",
   "execution_count": 18,
   "metadata": {},
   "outputs": [],
   "source": [
    "with open('speech_data.pkl','rb') as f:\n",
    "    data = pickle.load(f)"
   ]
  },
  {
   "cell_type": "markdown",
   "metadata": {},
   "source": [
    "#### download"
   ]
  },
  {
   "cell_type": "code",
   "execution_count": 19,
   "metadata": {},
   "outputs": [
    {
     "data": {
      "text/plain": [
       "0"
      ]
     },
     "execution_count": 19,
     "metadata": {},
     "output_type": "execute_result"
    }
   ],
   "source": [
    "buffer = StringIO()\n",
    "buffer.write(data[\"text\"])\n",
    "buffer.seek(0)"
   ]
  },
  {
   "cell_type": "code",
   "execution_count": 20,
   "metadata": {},
   "outputs": [
    {
     "data": {},
     "metadata": {},
     "output_type": "display_data"
    },
    {
     "data": {
      "application/vnd.holoviews_exec.v0+json": "",
      "text/html": [
       "<div id='1002'>\n",
       "  <div class=\"bk-root\" id=\"1f7710cb-9826-438f-b87d-84d81e40764d\" data-root-id=\"1002\"></div>\n",
       "</div>\n",
       "<script type=\"application/javascript\">(function(root) {\n",
       "  function embed_document(root) {\n",
       "    var docs_json = {\"b1d1c9a6-57fe-43c3-b89a-5c0974ec25a3\":{\"defs\":[{\"extends\":null,\"module\":null,\"name\":\"ReactiveHTML1\",\"overrides\":[],\"properties\":[]},{\"extends\":null,\"module\":null,\"name\":\"FlexBox1\",\"overrides\":[],\"properties\":[{\"default\":\"flex-start\",\"kind\":null,\"name\":\"align_content\"},{\"default\":\"flex-start\",\"kind\":null,\"name\":\"align_items\"},{\"default\":\"row\",\"kind\":null,\"name\":\"flex_direction\"},{\"default\":\"wrap\",\"kind\":null,\"name\":\"flex_wrap\"},{\"default\":\"flex-start\",\"kind\":null,\"name\":\"justify_content\"}]},{\"extends\":null,\"module\":null,\"name\":\"GridStack1\",\"overrides\":[],\"properties\":[{\"default\":\"warn\",\"kind\":null,\"name\":\"mode\"},{\"default\":null,\"kind\":null,\"name\":\"ncols\"},{\"default\":null,\"kind\":null,\"name\":\"nrows\"},{\"default\":true,\"kind\":null,\"name\":\"allow_resize\"},{\"default\":true,\"kind\":null,\"name\":\"allow_drag\"},{\"default\":[],\"kind\":null,\"name\":\"state\"}]},{\"extends\":null,\"module\":null,\"name\":\"click1\",\"overrides\":[],\"properties\":[{\"default\":\"\",\"kind\":null,\"name\":\"terminal_output\"},{\"default\":\"\",\"kind\":null,\"name\":\"debug_name\"},{\"default\":0,\"kind\":null,\"name\":\"clears\"}]},{\"extends\":null,\"module\":null,\"name\":\"NotificationAreaBase1\",\"overrides\":[],\"properties\":[{\"default\":\"bottom-right\",\"kind\":null,\"name\":\"position\"},{\"default\":0,\"kind\":null,\"name\":\"_clear\"}]},{\"extends\":null,\"module\":null,\"name\":\"NotificationArea1\",\"overrides\":[],\"properties\":[{\"default\":[],\"kind\":null,\"name\":\"notifications\"},{\"default\":\"bottom-right\",\"kind\":null,\"name\":\"position\"},{\"default\":0,\"kind\":null,\"name\":\"_clear\"},{\"default\":[{\"background\":\"#ffc107\",\"icon\":{\"className\":\"fas fa-exclamation-triangle\",\"color\":\"white\",\"tagName\":\"i\"},\"type\":\"warning\"},{\"background\":\"#007bff\",\"icon\":{\"className\":\"fas fa-info-circle\",\"color\":\"white\",\"tagName\":\"i\"},\"type\":\"info\"}],\"kind\":null,\"name\":\"types\"}]},{\"extends\":null,\"module\":null,\"name\":\"Notification\",\"overrides\":[],\"properties\":[{\"default\":null,\"kind\":null,\"name\":\"background\"},{\"default\":3000,\"kind\":null,\"name\":\"duration\"},{\"default\":null,\"kind\":null,\"name\":\"icon\"},{\"default\":\"\",\"kind\":null,\"name\":\"message\"},{\"default\":null,\"kind\":null,\"name\":\"notification_type\"},{\"default\":false,\"kind\":null,\"name\":\"_destroyed\"}]},{\"extends\":null,\"module\":null,\"name\":\"TemplateActions1\",\"overrides\":[],\"properties\":[{\"default\":0,\"kind\":null,\"name\":\"open_modal\"},{\"default\":0,\"kind\":null,\"name\":\"close_modal\"}]},{\"extends\":null,\"module\":null,\"name\":\"MaterialTemplateActions1\",\"overrides\":[],\"properties\":[{\"default\":0,\"kind\":null,\"name\":\"open_modal\"},{\"default\":0,\"kind\":null,\"name\":\"close_modal\"}]}],\"roots\":{\"references\":[{\"attributes\":{\"reload\":false},\"id\":\"1004\",\"type\":\"panel.models.location.Location\"},{\"attributes\":{\"auto\":true,\"button_type\":\"success\",\"filename\":\"transcript.txt\",\"label\":\"Download transcript.txt\",\"margin\":[5,10,5,10]},\"id\":\"1002\",\"type\":\"panel.models.widgets.FileDownload\"},{\"attributes\":{\"client_comm_id\":\"3ac58360afcb4a0295570f90a00adb73\",\"comm_id\":\"85fbe8682e6f45d3bbdca3ac1e512bd4\",\"plot_id\":\"1002\"},\"id\":\"1003\",\"type\":\"panel.models.comm_manager.CommManager\"}],\"root_ids\":[\"1002\",\"1003\",\"1004\"]},\"title\":\"Bokeh Application\",\"version\":\"2.4.3\"}};\n",
       "    var render_items = [{\"docid\":\"b1d1c9a6-57fe-43c3-b89a-5c0974ec25a3\",\"root_ids\":[\"1002\"],\"roots\":{\"1002\":\"1f7710cb-9826-438f-b87d-84d81e40764d\"}}];\n",
       "    root.Bokeh.embed.embed_items_notebook(docs_json, render_items);\n",
       "  }\n",
       "  if (root.Bokeh !== undefined && root.Bokeh.Panel !== undefined) {\n",
       "    embed_document(root);\n",
       "  } else {\n",
       "    var attempts = 0;\n",
       "    var timer = setInterval(function(root) {\n",
       "      if (root.Bokeh !== undefined && root.Bokeh.Panel !== undefined) {\n",
       "        clearInterval(timer);\n",
       "        embed_document(root);\n",
       "      } else if (document.readyState == \"complete\") {\n",
       "        attempts++;\n",
       "        if (attempts > 200) {\n",
       "          clearInterval(timer);\n",
       "          console.log(\"Bokeh: ERROR: Unable to run BokehJS code because BokehJS library is missing\");\n",
       "        }\n",
       "      }\n",
       "    }, 25, root)\n",
       "  }\n",
       "})(window);</script>"
      ],
      "text/plain": [
       "FileDownload(button_type='success', file=<_io.StringIO o..., filename='transcript.txt', label='Download transcript.txt')"
      ]
     },
     "execution_count": 20,
     "metadata": {
      "application/vnd.holoviews_exec.v0+json": {
       "id": "1002"
      }
     },
     "output_type": "execute_result"
    }
   ],
   "source": [
    "transcript_download = pn.widgets.FileDownload(\n",
    "    file=buffer, \n",
    "    filename=\"transcript.txt\", \n",
    "    button_type='success'\n",
    "    )\n",
    "transcript_download"
   ]
  },
  {
   "cell_type": "code",
   "execution_count": 23,
   "metadata": {},
   "outputs": [
    {
     "data": {},
     "metadata": {},
     "output_type": "display_data"
    },
    {
     "data": {
      "application/vnd.holoviews_exec.v0+json": "",
      "text/html": [
       "<div id='1009'>\n",
       "  <div class=\"bk-root\" id=\"6941d315-a107-4e37-afed-f3422a44e260\" data-root-id=\"1009\"></div>\n",
       "</div>\n",
       "<script type=\"application/javascript\">(function(root) {\n",
       "  function embed_document(root) {\n",
       "    var docs_json = {\"84b2524f-f016-4fb7-8590-df72108bfc56\":{\"defs\":[{\"extends\":null,\"module\":null,\"name\":\"ReactiveHTML1\",\"overrides\":[],\"properties\":[]},{\"extends\":null,\"module\":null,\"name\":\"FlexBox1\",\"overrides\":[],\"properties\":[{\"default\":\"flex-start\",\"kind\":null,\"name\":\"align_content\"},{\"default\":\"flex-start\",\"kind\":null,\"name\":\"align_items\"},{\"default\":\"row\",\"kind\":null,\"name\":\"flex_direction\"},{\"default\":\"wrap\",\"kind\":null,\"name\":\"flex_wrap\"},{\"default\":\"flex-start\",\"kind\":null,\"name\":\"justify_content\"}]},{\"extends\":null,\"module\":null,\"name\":\"GridStack1\",\"overrides\":[],\"properties\":[{\"default\":\"warn\",\"kind\":null,\"name\":\"mode\"},{\"default\":null,\"kind\":null,\"name\":\"ncols\"},{\"default\":null,\"kind\":null,\"name\":\"nrows\"},{\"default\":true,\"kind\":null,\"name\":\"allow_resize\"},{\"default\":true,\"kind\":null,\"name\":\"allow_drag\"},{\"default\":[],\"kind\":null,\"name\":\"state\"}]},{\"extends\":null,\"module\":null,\"name\":\"click1\",\"overrides\":[],\"properties\":[{\"default\":\"\",\"kind\":null,\"name\":\"terminal_output\"},{\"default\":\"\",\"kind\":null,\"name\":\"debug_name\"},{\"default\":0,\"kind\":null,\"name\":\"clears\"}]},{\"extends\":null,\"module\":null,\"name\":\"NotificationAreaBase1\",\"overrides\":[],\"properties\":[{\"default\":\"bottom-right\",\"kind\":null,\"name\":\"position\"},{\"default\":0,\"kind\":null,\"name\":\"_clear\"}]},{\"extends\":null,\"module\":null,\"name\":\"NotificationArea1\",\"overrides\":[],\"properties\":[{\"default\":[],\"kind\":null,\"name\":\"notifications\"},{\"default\":\"bottom-right\",\"kind\":null,\"name\":\"position\"},{\"default\":0,\"kind\":null,\"name\":\"_clear\"},{\"default\":[{\"background\":\"#ffc107\",\"icon\":{\"className\":\"fas fa-exclamation-triangle\",\"color\":\"white\",\"tagName\":\"i\"},\"type\":\"warning\"},{\"background\":\"#007bff\",\"icon\":{\"className\":\"fas fa-info-circle\",\"color\":\"white\",\"tagName\":\"i\"},\"type\":\"info\"}],\"kind\":null,\"name\":\"types\"}]},{\"extends\":null,\"module\":null,\"name\":\"Notification\",\"overrides\":[],\"properties\":[{\"default\":null,\"kind\":null,\"name\":\"background\"},{\"default\":3000,\"kind\":null,\"name\":\"duration\"},{\"default\":null,\"kind\":null,\"name\":\"icon\"},{\"default\":\"\",\"kind\":null,\"name\":\"message\"},{\"default\":null,\"kind\":null,\"name\":\"notification_type\"},{\"default\":false,\"kind\":null,\"name\":\"_destroyed\"}]},{\"extends\":null,\"module\":null,\"name\":\"TemplateActions1\",\"overrides\":[],\"properties\":[{\"default\":0,\"kind\":null,\"name\":\"open_modal\"},{\"default\":0,\"kind\":null,\"name\":\"close_modal\"}]},{\"extends\":null,\"module\":null,\"name\":\"MaterialTemplateActions1\",\"overrides\":[],\"properties\":[{\"default\":0,\"kind\":null,\"name\":\"open_modal\"},{\"default\":0,\"kind\":null,\"name\":\"close_modal\"}]}],\"roots\":{\"references\":[{\"attributes\":{\"client_comm_id\":\"bfe1c464003144f3844a3e40e4257ad2\",\"comm_id\":\"1f439269c1d149f8801fb2b320cec92f\",\"plot_id\":\"1009\"},\"id\":\"1010\",\"type\":\"panel.models.comm_manager.CommManager\"},{\"attributes\":{\"margin\":[5,5,5,5],\"paused\":true,\"value\":\"https://github.com/AyeshGK/audio_analyzer/blob/main/How_I_Would_Learn_to_Code.mp3?raw=true\"},\"id\":\"1009\",\"type\":\"panel.models.widgets.Audio\"}],\"root_ids\":[\"1009\",\"1010\"]},\"title\":\"Bokeh Application\",\"version\":\"2.4.3\"}};\n",
       "    var render_items = [{\"docid\":\"84b2524f-f016-4fb7-8590-df72108bfc56\",\"root_ids\":[\"1009\"],\"roots\":{\"1009\":\"6941d315-a107-4e37-afed-f3422a44e260\"}}];\n",
       "    root.Bokeh.embed.embed_items_notebook(docs_json, render_items);\n",
       "  }\n",
       "  if (root.Bokeh !== undefined && root.Bokeh.Panel !== undefined) {\n",
       "    embed_document(root);\n",
       "  } else {\n",
       "    var attempts = 0;\n",
       "    var timer = setInterval(function(root) {\n",
       "      if (root.Bokeh !== undefined && root.Bokeh.Panel !== undefined) {\n",
       "        clearInterval(timer);\n",
       "        embed_document(root);\n",
       "      } else if (document.readyState == \"complete\") {\n",
       "        attempts++;\n",
       "        if (attempts > 200) {\n",
       "          clearInterval(timer);\n",
       "          console.log(\"Bokeh: ERROR: Unable to run BokehJS code because BokehJS library is missing\");\n",
       "        }\n",
       "      }\n",
       "    }, 25, root)\n",
       "  }\n",
       "})(window);</script>"
      ],
      "text/plain": [
       "Audio(str)"
      ]
     },
     "execution_count": 23,
     "metadata": {
      "application/vnd.holoviews_exec.v0+json": {
       "id": "1009"
      }
     },
     "output_type": "execute_result"
    }
   ],
   "source": [
    "#audio play widget\n",
    "\n",
    "audio_url=\"https://github.com/AyeshGK/audio_analyzer/blob/main/How_I_Would_Learn_to_Code.mp3?raw=true\"\n",
    "audio_play=pn.pane.Audio(audio_url,name=\"Audio\",time=0)\n",
    "audio_play"
   ]
  },
  {
   "cell_type": "code",
   "execution_count": 24,
   "metadata": {},
   "outputs": [
    {
     "data": {
      "text/html": [
       "<div>\n",
       "<style scoped>\n",
       "    .dataframe tbody tr th:only-of-type {\n",
       "        vertical-align: middle;\n",
       "    }\n",
       "\n",
       "    .dataframe tbody tr th {\n",
       "        vertical-align: top;\n",
       "    }\n",
       "\n",
       "    .dataframe thead th {\n",
       "        text-align: right;\n",
       "    }\n",
       "</style>\n",
       "<table border=\"1\" class=\"dataframe\">\n",
       "  <thead>\n",
       "    <tr style=\"text-align: right;\">\n",
       "      <th></th>\n",
       "      <th>text</th>\n",
       "      <th>start</th>\n",
       "      <th>end</th>\n",
       "      <th>sentiment</th>\n",
       "      <th>confidence</th>\n",
       "      <th>speaker</th>\n",
       "    </tr>\n",
       "  </thead>\n",
       "  <tbody>\n",
       "    <tr>\n",
       "      <th>0</th>\n",
       "      <td>I recently got an amazing opportunity.</td>\n",
       "      <td>250</td>\n",
       "      <td>2094</td>\n",
       "      <td>POSITIVE</td>\n",
       "      <td>0.985436</td>\n",
       "      <td>None</td>\n",
       "    </tr>\n",
       "    <tr>\n",
       "      <th>1</th>\n",
       "      <td>I've been learning jujitsu, and a friend offer...</td>\n",
       "      <td>2252</td>\n",
       "      <td>7278</td>\n",
       "      <td>POSITIVE</td>\n",
       "      <td>0.567717</td>\n",
       "      <td>None</td>\n",
       "    </tr>\n",
       "    <tr>\n",
       "      <th>2</th>\n",
       "      <td>At this point in my life where I'm trying to i...</td>\n",
       "      <td>7424</td>\n",
       "      <td>13290</td>\n",
       "      <td>POSITIVE</td>\n",
       "      <td>0.955794</td>\n",
       "      <td>None</td>\n",
       "    </tr>\n",
       "    <tr>\n",
       "      <th>3</th>\n",
       "      <td>In my personal opinion, I was all for until I ...</td>\n",
       "      <td>13340</td>\n",
       "      <td>22698</td>\n",
       "      <td>NEGATIVE</td>\n",
       "      <td>0.689610</td>\n",
       "      <td>None</td>\n",
       "    </tr>\n",
       "    <tr>\n",
       "      <th>4</th>\n",
       "      <td>After all, it's been almost ten years since I ...</td>\n",
       "      <td>22844</td>\n",
       "      <td>26250</td>\n",
       "      <td>NEUTRAL</td>\n",
       "      <td>0.613529</td>\n",
       "      <td>None</td>\n",
       "    </tr>\n",
       "    <tr>\n",
       "      <th>...</th>\n",
       "      <td>...</td>\n",
       "      <td>...</td>\n",
       "      <td>...</td>\n",
       "      <td>...</td>\n",
       "      <td>...</td>\n",
       "      <td>...</td>\n",
       "    </tr>\n",
       "    <tr>\n",
       "      <th>145</th>\n",
       "      <td>They'll tell you something about what's wrong.</td>\n",
       "      <td>632110</td>\n",
       "      <td>633834</td>\n",
       "      <td>NEUTRAL</td>\n",
       "      <td>0.498572</td>\n",
       "      <td>None</td>\n",
       "    </tr>\n",
       "    <tr>\n",
       "      <th>146</th>\n",
       "      <td>Also, Google the errors, and this will save yo...</td>\n",
       "      <td>633932</td>\n",
       "      <td>637054</td>\n",
       "      <td>POSITIVE</td>\n",
       "      <td>0.568509</td>\n",
       "      <td>None</td>\n",
       "    </tr>\n",
       "    <tr>\n",
       "      <th>147</th>\n",
       "      <td>Finally, the third thing is to take it easy on...</td>\n",
       "      <td>637102</td>\n",
       "      <td>639402</td>\n",
       "      <td>NEUTRAL</td>\n",
       "      <td>0.523670</td>\n",
       "      <td>None</td>\n",
       "    </tr>\n",
       "    <tr>\n",
       "      <th>148</th>\n",
       "      <td>The only people that can't code are the ones t...</td>\n",
       "      <td>639536</td>\n",
       "      <td>643746</td>\n",
       "      <td>NEGATIVE</td>\n",
       "      <td>0.911368</td>\n",
       "      <td>None</td>\n",
       "    </tr>\n",
       "    <tr>\n",
       "      <th>149</th>\n",
       "      <td>Thank you all so much for watching, and good l...</td>\n",
       "      <td>643928</td>\n",
       "      <td>647470</td>\n",
       "      <td>POSITIVE</td>\n",
       "      <td>0.986962</td>\n",
       "      <td>None</td>\n",
       "    </tr>\n",
       "  </tbody>\n",
       "</table>\n",
       "<p>150 rows × 6 columns</p>\n",
       "</div>"
      ],
      "text/plain": [
       "                                                  text   start     end  \\\n",
       "0               I recently got an amazing opportunity.     250    2094   \n",
       "1    I've been learning jujitsu, and a friend offer...    2252    7278   \n",
       "2    At this point in my life where I'm trying to i...    7424   13290   \n",
       "3    In my personal opinion, I was all for until I ...   13340   22698   \n",
       "4    After all, it's been almost ten years since I ...   22844   26250   \n",
       "..                                                 ...     ...     ...   \n",
       "145     They'll tell you something about what's wrong.  632110  633834   \n",
       "146  Also, Google the errors, and this will save yo...  633932  637054   \n",
       "147  Finally, the third thing is to take it easy on...  637102  639402   \n",
       "148  The only people that can't code are the ones t...  639536  643746   \n",
       "149  Thank you all so much for watching, and good l...  643928  647470   \n",
       "\n",
       "    sentiment  confidence speaker  \n",
       "0    POSITIVE    0.985436    None  \n",
       "1    POSITIVE    0.567717    None  \n",
       "2    POSITIVE    0.955794    None  \n",
       "3    NEGATIVE    0.689610    None  \n",
       "4     NEUTRAL    0.613529    None  \n",
       "..        ...         ...     ...  \n",
       "145   NEUTRAL    0.498572    None  \n",
       "146  POSITIVE    0.568509    None  \n",
       "147   NEUTRAL    0.523670    None  \n",
       "148  NEGATIVE    0.911368    None  \n",
       "149  POSITIVE    0.986962    None  \n",
       "\n",
       "[150 rows x 6 columns]"
      ]
     },
     "execution_count": 24,
     "metadata": {},
     "output_type": "execute_result"
    }
   ],
   "source": [
    "# sentimant plot\n",
    "\n",
    "sentiment = data[\"sentiment_analysis_results\"]\n",
    "\n",
    "sentiment_df = pd.DataFrame(sentiment)\n",
    "sentiment_df"
   ]
  },
  {
   "cell_type": "code",
   "execution_count": 27,
   "metadata": {},
   "outputs": [
    {
     "data": {
      "text/plain": [
       "NEUTRAL     81\n",
       "POSITIVE    53\n",
       "NEGATIVE    16\n",
       "Name: sentiment, dtype: int64"
      ]
     },
     "execution_count": 27,
     "metadata": {},
     "output_type": "execute_result"
    }
   ],
   "source": [
    "grouped_sentiment= sentiment_df['sentiment'].value_counts()\n",
    "grouped_sentiment"
   ]
  },
  {
   "cell_type": "code",
   "execution_count": 29,
   "metadata": {},
   "outputs": [
    {
     "data": {},
     "metadata": {},
     "output_type": "display_data"
    },
    {
     "data": {},
     "metadata": {},
     "output_type": "display_data"
    },
    {
     "data": {
      "application/vnd.holoviews_exec.v0+json": "",
      "text/html": [
       "<div id='1011'>\n",
       "  <div class=\"bk-root\" id=\"f8684256-141a-4dbb-9593-89628017e941\" data-root-id=\"1011\"></div>\n",
       "</div>\n",
       "<script type=\"application/javascript\">(function(root) {\n",
       "  function embed_document(root) {\n",
       "    var docs_json = {\"629afb13-fe55-4a62-ac0a-b251ac4f6647\":{\"defs\":[{\"extends\":null,\"module\":null,\"name\":\"ReactiveHTML1\",\"overrides\":[],\"properties\":[]},{\"extends\":null,\"module\":null,\"name\":\"FlexBox1\",\"overrides\":[],\"properties\":[{\"default\":\"flex-start\",\"kind\":null,\"name\":\"align_content\"},{\"default\":\"flex-start\",\"kind\":null,\"name\":\"align_items\"},{\"default\":\"row\",\"kind\":null,\"name\":\"flex_direction\"},{\"default\":\"wrap\",\"kind\":null,\"name\":\"flex_wrap\"},{\"default\":\"flex-start\",\"kind\":null,\"name\":\"justify_content\"}]},{\"extends\":null,\"module\":null,\"name\":\"GridStack1\",\"overrides\":[],\"properties\":[{\"default\":\"warn\",\"kind\":null,\"name\":\"mode\"},{\"default\":null,\"kind\":null,\"name\":\"ncols\"},{\"default\":null,\"kind\":null,\"name\":\"nrows\"},{\"default\":true,\"kind\":null,\"name\":\"allow_resize\"},{\"default\":true,\"kind\":null,\"name\":\"allow_drag\"},{\"default\":[],\"kind\":null,\"name\":\"state\"}]},{\"extends\":null,\"module\":null,\"name\":\"click1\",\"overrides\":[],\"properties\":[{\"default\":\"\",\"kind\":null,\"name\":\"terminal_output\"},{\"default\":\"\",\"kind\":null,\"name\":\"debug_name\"},{\"default\":0,\"kind\":null,\"name\":\"clears\"}]},{\"extends\":null,\"module\":null,\"name\":\"NotificationAreaBase1\",\"overrides\":[],\"properties\":[{\"default\":\"bottom-right\",\"kind\":null,\"name\":\"position\"},{\"default\":0,\"kind\":null,\"name\":\"_clear\"}]},{\"extends\":null,\"module\":null,\"name\":\"NotificationArea1\",\"overrides\":[],\"properties\":[{\"default\":[],\"kind\":null,\"name\":\"notifications\"},{\"default\":\"bottom-right\",\"kind\":null,\"name\":\"position\"},{\"default\":0,\"kind\":null,\"name\":\"_clear\"},{\"default\":[{\"background\":\"#ffc107\",\"icon\":{\"className\":\"fas fa-exclamation-triangle\",\"color\":\"white\",\"tagName\":\"i\"},\"type\":\"warning\"},{\"background\":\"#007bff\",\"icon\":{\"className\":\"fas fa-info-circle\",\"color\":\"white\",\"tagName\":\"i\"},\"type\":\"info\"}],\"kind\":null,\"name\":\"types\"}]},{\"extends\":null,\"module\":null,\"name\":\"Notification\",\"overrides\":[],\"properties\":[{\"default\":null,\"kind\":null,\"name\":\"background\"},{\"default\":3000,\"kind\":null,\"name\":\"duration\"},{\"default\":null,\"kind\":null,\"name\":\"icon\"},{\"default\":\"\",\"kind\":null,\"name\":\"message\"},{\"default\":null,\"kind\":null,\"name\":\"notification_type\"},{\"default\":false,\"kind\":null,\"name\":\"_destroyed\"}]},{\"extends\":null,\"module\":null,\"name\":\"TemplateActions1\",\"overrides\":[],\"properties\":[{\"default\":0,\"kind\":null,\"name\":\"open_modal\"},{\"default\":0,\"kind\":null,\"name\":\"close_modal\"}]},{\"extends\":null,\"module\":null,\"name\":\"MaterialTemplateActions1\",\"overrides\":[],\"properties\":[{\"default\":0,\"kind\":null,\"name\":\"open_modal\"},{\"default\":0,\"kind\":null,\"name\":\"close_modal\"}]}],\"roots\":{\"references\":[{\"attributes\":{},\"id\":\"1045\",\"type\":\"Selection\"},{\"attributes\":{\"axis\":{\"id\":\"1024\"},\"coordinates\":null,\"grid_line_color\":null,\"group\":null,\"ticker\":null},\"id\":\"1026\",\"type\":\"Grid\"},{\"attributes\":{},\"id\":\"1032\",\"type\":\"PanTool\"},{\"attributes\":{\"coordinates\":null,\"data_source\":{\"id\":\"1044\"},\"glyph\":{\"id\":\"1047\"},\"group\":null,\"hover_glyph\":null,\"muted_glyph\":{\"id\":\"1049\"},\"nonselection_glyph\":{\"id\":\"1048\"},\"selection_glyph\":{\"id\":\"1052\"},\"view\":{\"id\":\"1051\"}},\"id\":\"1050\",\"type\":\"GlyphRenderer\"},{\"attributes\":{\"axis_label\":\"\",\"coordinates\":null,\"formatter\":{\"id\":\"1057\"},\"group\":null,\"major_label_policy\":{\"id\":\"1058\"},\"ticker\":{\"id\":\"1028\"}},\"id\":\"1027\",\"type\":\"LinearAxis\"},{\"attributes\":{\"axis\":{\"id\":\"1027\"},\"coordinates\":null,\"dimension\":1,\"grid_line_color\":null,\"group\":null,\"ticker\":null},\"id\":\"1030\",\"type\":\"Grid\"},{\"attributes\":{},\"id\":\"1028\",\"type\":\"BasicTicker\"},{\"attributes\":{},\"id\":\"1033\",\"type\":\"WheelZoomTool\"},{\"attributes\":{},\"id\":\"1055\",\"type\":\"AllLabels\"},{\"attributes\":{\"client_comm_id\":\"fdf0808a70f443468b0988d8fdd00ec4\",\"comm_id\":\"f4c292495fff44868e4454e6abb44e17\",\"plot_id\":\"1011\"},\"id\":\"1099\",\"type\":\"panel.models.comm_manager.CommManager\"},{\"attributes\":{},\"id\":\"1031\",\"type\":\"SaveTool\"},{\"attributes\":{\"factors\":[\"NEUTRAL\",\"POSITIVE\",\"NEGATIVE\"],\"tags\":[[[\"index\",\"index\",null]]]},\"id\":\"1012\",\"type\":\"FactorRange\"},{\"attributes\":{\"overlay\":{\"id\":\"1036\"}},\"id\":\"1034\",\"type\":\"BoxZoomTool\"},{\"attributes\":{\"callback\":null,\"renderers\":[{\"id\":\"1050\"}],\"tags\":[\"hv_created\"],\"tooltips\":[[\"index\",\"@{index}\"],[\"sentiment\",\"@{sentiment}\"]]},\"id\":\"1014\",\"type\":\"HoverTool\"},{\"attributes\":{},\"id\":\"1035\",\"type\":\"ResetTool\"},{\"attributes\":{\"fill_alpha\":{\"value\":0.2},\"fill_color\":{\"value\":\"#30a2da\"},\"hatch_alpha\":{\"value\":0.2},\"hatch_color\":{\"value\":\"#30a2da\"},\"line_alpha\":{\"value\":0.2},\"top\":{\"field\":\"sentiment\"},\"width\":{\"value\":0.8},\"x\":{\"field\":\"index\"}},\"id\":\"1049\",\"type\":\"VBar\"},{\"attributes\":{\"bottom_units\":\"screen\",\"coordinates\":null,\"fill_alpha\":0.5,\"fill_color\":\"lightgrey\",\"group\":null,\"left_units\":\"screen\",\"level\":\"overlay\",\"line_alpha\":1.0,\"line_color\":\"black\",\"line_dash\":[4,4],\"line_width\":2,\"right_units\":\"screen\",\"syncable\":false,\"top_units\":\"screen\"},\"id\":\"1036\",\"type\":\"BoxAnnotation\"},{\"attributes\":{},\"id\":\"1020\",\"type\":\"CategoricalScale\"},{\"attributes\":{\"fill_color\":{\"value\":\"#30a2da\"},\"hatch_color\":{\"value\":\"#30a2da\"},\"top\":{\"field\":\"sentiment\"},\"width\":{\"value\":0.8},\"x\":{\"field\":\"index\"}},\"id\":\"1047\",\"type\":\"VBar\"},{\"attributes\":{\"end\":87.5,\"reset_end\":87.5,\"reset_start\":0.0,\"tags\":[[[\"sentiment\",\"sentiment\",null]]]},\"id\":\"1013\",\"type\":\"Range1d\"},{\"attributes\":{},\"id\":\"1058\",\"type\":\"AllLabels\"},{\"attributes\":{\"coordinates\":null,\"group\":null,\"text\":\"sentences by sentiment category\",\"text_color\":\"black\",\"text_font_size\":\"12pt\"},\"id\":\"1016\",\"type\":\"Title\"},{\"attributes\":{},\"id\":\"1022\",\"type\":\"LinearScale\"},{\"attributes\":{\"children\":[{\"id\":\"1015\"}],\"margin\":[0,0,0,0],\"name\":\"Row00877\"},\"id\":\"1011\",\"type\":\"Row\"},{\"attributes\":{\"fill_alpha\":{\"value\":0.1},\"fill_color\":{\"value\":\"#30a2da\"},\"hatch_alpha\":{\"value\":0.1},\"hatch_color\":{\"value\":\"#30a2da\"},\"line_alpha\":{\"value\":0.1},\"top\":{\"field\":\"sentiment\"},\"width\":{\"value\":0.8},\"x\":{\"field\":\"index\"}},\"id\":\"1048\",\"type\":\"VBar\"},{\"attributes\":{\"source\":{\"id\":\"1044\"}},\"id\":\"1051\",\"type\":\"CDSView\"},{\"attributes\":{},\"id\":\"1057\",\"type\":\"BasicTickFormatter\"},{\"attributes\":{\"tools\":[{\"id\":\"1014\"},{\"id\":\"1031\"},{\"id\":\"1032\"},{\"id\":\"1033\"},{\"id\":\"1034\"},{\"id\":\"1035\"}]},\"id\":\"1037\",\"type\":\"Toolbar\"},{\"attributes\":{\"below\":[{\"id\":\"1024\"}],\"center\":[{\"id\":\"1026\"},{\"id\":\"1030\"}],\"height\":300,\"left\":[{\"id\":\"1027\"}],\"margin\":[5,5,5,5],\"min_border_bottom\":10,\"min_border_left\":10,\"min_border_right\":10,\"min_border_top\":10,\"renderers\":[{\"id\":\"1050\"}],\"sizing_mode\":\"fixed\",\"title\":{\"id\":\"1016\"},\"toolbar\":{\"id\":\"1037\"},\"width\":700,\"x_range\":{\"id\":\"1012\"},\"x_scale\":{\"id\":\"1020\"},\"y_range\":{\"id\":\"1013\"},\"y_scale\":{\"id\":\"1022\"}},\"id\":\"1015\",\"subtype\":\"Figure\",\"type\":\"Plot\"},{\"attributes\":{\"bottom\":{\"value\":0},\"fill_alpha\":{\"value\":1.0},\"fill_color\":{\"value\":\"#30a2da\"},\"hatch_alpha\":{\"value\":1.0},\"hatch_color\":{\"value\":\"#30a2da\"},\"hatch_scale\":{\"value\":12.0},\"hatch_weight\":{\"value\":1.0},\"line_alpha\":{\"value\":1.0},\"line_cap\":{\"value\":\"butt\"},\"line_color\":{\"value\":\"black\"},\"line_dash\":{\"value\":[]},\"line_dash_offset\":{\"value\":0},\"line_join\":{\"value\":\"bevel\"},\"line_width\":{\"value\":1},\"top\":{\"field\":\"sentiment\"},\"width\":{\"value\":0.8},\"x\":{\"field\":\"index\"}},\"id\":\"1052\",\"type\":\"VBar\"},{\"attributes\":{},\"id\":\"1054\",\"type\":\"CategoricalTickFormatter\"},{\"attributes\":{},\"id\":\"1025\",\"type\":\"CategoricalTicker\"},{\"attributes\":{\"data\":{\"index\":[\"NEUTRAL\",\"POSITIVE\",\"NEGATIVE\"],\"sentiment\":[81,53,16]},\"selected\":{\"id\":\"1045\"},\"selection_policy\":{\"id\":\"1066\"}},\"id\":\"1044\",\"type\":\"ColumnDataSource\"},{\"attributes\":{},\"id\":\"1066\",\"type\":\"UnionRenderers\"},{\"attributes\":{\"axis_label\":\"\",\"coordinates\":null,\"formatter\":{\"id\":\"1054\"},\"group\":null,\"major_label_policy\":{\"id\":\"1055\"},\"ticker\":{\"id\":\"1025\"}},\"id\":\"1024\",\"type\":\"CategoricalAxis\"}],\"root_ids\":[\"1011\",\"1099\"]},\"title\":\"Bokeh Application\",\"version\":\"2.4.3\"}};\n",
       "    var render_items = [{\"docid\":\"629afb13-fe55-4a62-ac0a-b251ac4f6647\",\"root_ids\":[\"1011\"],\"roots\":{\"1011\":\"f8684256-141a-4dbb-9593-89628017e941\"}}];\n",
       "    root.Bokeh.embed.embed_items_notebook(docs_json, render_items);\n",
       "  }\n",
       "  if (root.Bokeh !== undefined && root.Bokeh.Panel !== undefined) {\n",
       "    embed_document(root);\n",
       "  } else {\n",
       "    var attempts = 0;\n",
       "    var timer = setInterval(function(root) {\n",
       "      if (root.Bokeh !== undefined && root.Bokeh.Panel !== undefined) {\n",
       "        clearInterval(timer);\n",
       "        embed_document(root);\n",
       "      } else if (document.readyState == \"complete\") {\n",
       "        attempts++;\n",
       "        if (attempts > 200) {\n",
       "          clearInterval(timer);\n",
       "          console.log(\"Bokeh: ERROR: Unable to run BokehJS code because BokehJS library is missing\");\n",
       "        }\n",
       "      }\n",
       "    }, 25, root)\n",
       "  }\n",
       "})(window);</script>"
      ],
      "text/plain": [
       "Row\n",
       "    [0] HoloViews(Bars)"
      ]
     },
     "execution_count": 29,
     "metadata": {
      "application/vnd.holoviews_exec.v0+json": {
       "id": "1011"
      }
     },
     "output_type": "execute_result"
    }
   ],
   "source": [
    "# bar plot\n",
    "\n",
    "sentiment_plot=grouped_sentiment.hvplot(title=\"sentences by sentiment category\",kind=\"bar\")\n",
    "pn.Row(sentiment_plot)"
   ]
  },
  {
   "cell_type": "code",
   "execution_count": null,
   "metadata": {},
   "outputs": [],
   "source": []
  }
 ],
 "metadata": {
  "kernelspec": {
   "display_name": "Python 3 (ipykernel)",
   "language": "python",
   "name": "python3"
  },
  "language_info": {
   "codemirror_mode": {
    "name": "ipython",
    "version": 3
   },
   "file_extension": ".py",
   "mimetype": "text/x-python",
   "name": "python",
   "nbconvert_exporter": "python",
   "pygments_lexer": "ipython3",
   "version": "3.9.12"
  },
  "vscode": {
   "interpreter": {
    "hash": "5fa833fcd3a6c1b5fb9008e073a6d918847e11f6ffa563af618d0dfdd99c6808"
   }
  }
 },
 "nbformat": 4,
 "nbformat_minor": 4
}
